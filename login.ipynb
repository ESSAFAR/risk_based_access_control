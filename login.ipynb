{
 "cells": [
  {
   "cell_type": "markdown",
   "id": "438cd21c-f152-4738-b8d4-375c2aa1f859",
   "metadata": {},
   "source": [
    "# Risk Based Access Control : Machine Learning for Identity Threat Detection"
   ]
  },
  {
   "cell_type": "markdown",
   "id": "9847cd61-73fa-44ff-b393-b7c29d999ff5",
   "metadata": {},
   "source": "## Loading and renaming data"
  },
  {
   "cell_type": "code",
   "id": "bf88b3c2-df79-4aa2-a760-034d2698db00",
   "metadata": {
    "jupyter": {
     "source_hidden": true
    },
    "ExecuteTime": {
     "end_time": "2024-12-14T12:27:12.718829Z",
     "start_time": "2024-12-14T12:27:12.406357Z"
    }
   },
   "source": [
    "import pandas as pd"
   ],
   "outputs": [],
   "execution_count": 1
  },
  {
   "cell_type": "code",
   "id": "e0389ea9-2049-473d-bd0f-f9f6890afb95",
   "metadata": {
    "ExecuteTime": {
     "end_time": "2024-12-14T12:29:07.672500Z",
     "start_time": "2024-12-14T12:27:12.735824Z"
    }
   },
   "source": [
    "chunk_size = 1000000\n",
    "\n",
    "chunks = []\n",
    "sample_fraction = 0.4\n",
    "\n",
    "for i, chunk in enumerate(pd.read_csv(\"rba-dataset.csv\", chunksize=chunk_size)):\n",
    "    chunks.append(chunk.sample(frac=sample_fraction, random_state=1))\n",
    "    print(f\"chunk {i}/31\")\n",
    "\n",
    "# Concatenate all chunks into a single DataFrame\n",
    "data = pd.concat(chunks, axis=0)\n",
    "data.head()"
   ],
   "outputs": [
    {
     "name": "stdout",
     "output_type": "stream",
     "text": [
      "chunk 0/31\n",
      "chunk 1/31\n",
      "chunk 2/31\n",
      "chunk 3/31\n",
      "chunk 4/31\n",
      "chunk 5/31\n",
      "chunk 6/31\n",
      "chunk 7/31\n",
      "chunk 8/31\n",
      "chunk 9/31\n",
      "chunk 10/31\n",
      "chunk 11/31\n",
      "chunk 12/31\n",
      "chunk 13/31\n",
      "chunk 14/31\n",
      "chunk 15/31\n",
      "chunk 16/31\n",
      "chunk 17/31\n",
      "chunk 18/31\n",
      "chunk 19/31\n",
      "chunk 20/31\n",
      "chunk 21/31\n",
      "chunk 22/31\n",
      "chunk 23/31\n",
      "chunk 24/31\n",
      "chunk 25/31\n",
      "chunk 26/31\n",
      "chunk 27/31\n",
      "chunk 28/31\n",
      "chunk 29/31\n",
      "chunk 30/31\n",
      "chunk 31/31\n"
     ]
    },
    {
     "data": {
      "text/plain": [
       "         index          Login Timestamp              User ID  \\\n",
       "276826  276826  2020-02-07 03:43:03.472  -296285440039579456   \n",
       "849425  849425  2020-02-14 14:49:09.146 -8972452956627396509   \n",
       "504499  504499  2020-02-10 11:21:27.828   272548560383834071   \n",
       "601054  601054  2020-02-11 12:30:44.886 -2923701650951217243   \n",
       "980221  980221  2020-02-16 12:31:08.564 -5786250162433249151   \n",
       "\n",
       "        Round-Trip Time [ms]      IP Address Country    Region       City  \\\n",
       "276826                   NaN    170.39.78.86      US         -          -   \n",
       "849425                   NaN  176.107.139.65      PL   Mazovia     Warsaw   \n",
       "504499                   NaN  84.208.208.127      NO  Rogaland  Stavanger   \n",
       "601054                   NaN   38.135.39.175      US         -          -   \n",
       "980221                   NaN    170.39.76.62      US         -          -   \n",
       "\n",
       "           ASN                                  User Agent String  \\\n",
       "276826  393398  Mozilla/5.0  (Android 6.0.99; Tablet; https://...   \n",
       "849425  205727  Mozilla/5.0  (iPhone; CPU iPhone OS 11_2_6 lik...   \n",
       "504499   41164  Mozilla/5.0  (Macintosh; Intel Mac OS X 10_14_...   \n",
       "601054  393398  Mozilla/5.0  (Linux; Android 4.1; Galaxy Nexus...   \n",
       "980221  393398  Mozilla/5.0  (iPhone; CPU iPhone OS 13_1_3 lik...   \n",
       "\n",
       "                 Browser Name and Version OS Name and Version Device Type  \\\n",
       "276826       Chrome Mobile 81.0.4044.1949      Android 6.0.99      mobile   \n",
       "849425            Chrome Mobile 81.0.4044          iOS 11.2.6      mobile   \n",
       "504499                   Chrome 73.0.3654    Mac OS X 10.14.6     desktop   \n",
       "601054            Chrome Mobile 50.0.2661         Android 4.1      mobile   \n",
       "980221  Chrome Mobile 80.0.3987.3058.3070          iOS 13.1.3      mobile   \n",
       "\n",
       "        Login Successful  Is Attack IP  Is Account Takeover  \n",
       "276826             False         False                False  \n",
       "849425             False         False                False  \n",
       "504499             False         False                False  \n",
       "601054              True          True                False  \n",
       "980221             False         False                False  "
      ],
      "text/html": [
       "<div>\n",
       "<style scoped>\n",
       "    .dataframe tbody tr th:only-of-type {\n",
       "        vertical-align: middle;\n",
       "    }\n",
       "\n",
       "    .dataframe tbody tr th {\n",
       "        vertical-align: top;\n",
       "    }\n",
       "\n",
       "    .dataframe thead th {\n",
       "        text-align: right;\n",
       "    }\n",
       "</style>\n",
       "<table border=\"1\" class=\"dataframe\">\n",
       "  <thead>\n",
       "    <tr style=\"text-align: right;\">\n",
       "      <th></th>\n",
       "      <th>index</th>\n",
       "      <th>Login Timestamp</th>\n",
       "      <th>User ID</th>\n",
       "      <th>Round-Trip Time [ms]</th>\n",
       "      <th>IP Address</th>\n",
       "      <th>Country</th>\n",
       "      <th>Region</th>\n",
       "      <th>City</th>\n",
       "      <th>ASN</th>\n",
       "      <th>User Agent String</th>\n",
       "      <th>Browser Name and Version</th>\n",
       "      <th>OS Name and Version</th>\n",
       "      <th>Device Type</th>\n",
       "      <th>Login Successful</th>\n",
       "      <th>Is Attack IP</th>\n",
       "      <th>Is Account Takeover</th>\n",
       "    </tr>\n",
       "  </thead>\n",
       "  <tbody>\n",
       "    <tr>\n",
       "      <th>276826</th>\n",
       "      <td>276826</td>\n",
       "      <td>2020-02-07 03:43:03.472</td>\n",
       "      <td>-296285440039579456</td>\n",
       "      <td>NaN</td>\n",
       "      <td>170.39.78.86</td>\n",
       "      <td>US</td>\n",
       "      <td>-</td>\n",
       "      <td>-</td>\n",
       "      <td>393398</td>\n",
       "      <td>Mozilla/5.0  (Android 6.0.99; Tablet; https://...</td>\n",
       "      <td>Chrome Mobile 81.0.4044.1949</td>\n",
       "      <td>Android 6.0.99</td>\n",
       "      <td>mobile</td>\n",
       "      <td>False</td>\n",
       "      <td>False</td>\n",
       "      <td>False</td>\n",
       "    </tr>\n",
       "    <tr>\n",
       "      <th>849425</th>\n",
       "      <td>849425</td>\n",
       "      <td>2020-02-14 14:49:09.146</td>\n",
       "      <td>-8972452956627396509</td>\n",
       "      <td>NaN</td>\n",
       "      <td>176.107.139.65</td>\n",
       "      <td>PL</td>\n",
       "      <td>Mazovia</td>\n",
       "      <td>Warsaw</td>\n",
       "      <td>205727</td>\n",
       "      <td>Mozilla/5.0  (iPhone; CPU iPhone OS 11_2_6 lik...</td>\n",
       "      <td>Chrome Mobile 81.0.4044</td>\n",
       "      <td>iOS 11.2.6</td>\n",
       "      <td>mobile</td>\n",
       "      <td>False</td>\n",
       "      <td>False</td>\n",
       "      <td>False</td>\n",
       "    </tr>\n",
       "    <tr>\n",
       "      <th>504499</th>\n",
       "      <td>504499</td>\n",
       "      <td>2020-02-10 11:21:27.828</td>\n",
       "      <td>272548560383834071</td>\n",
       "      <td>NaN</td>\n",
       "      <td>84.208.208.127</td>\n",
       "      <td>NO</td>\n",
       "      <td>Rogaland</td>\n",
       "      <td>Stavanger</td>\n",
       "      <td>41164</td>\n",
       "      <td>Mozilla/5.0  (Macintosh; Intel Mac OS X 10_14_...</td>\n",
       "      <td>Chrome 73.0.3654</td>\n",
       "      <td>Mac OS X 10.14.6</td>\n",
       "      <td>desktop</td>\n",
       "      <td>False</td>\n",
       "      <td>False</td>\n",
       "      <td>False</td>\n",
       "    </tr>\n",
       "    <tr>\n",
       "      <th>601054</th>\n",
       "      <td>601054</td>\n",
       "      <td>2020-02-11 12:30:44.886</td>\n",
       "      <td>-2923701650951217243</td>\n",
       "      <td>NaN</td>\n",
       "      <td>38.135.39.175</td>\n",
       "      <td>US</td>\n",
       "      <td>-</td>\n",
       "      <td>-</td>\n",
       "      <td>393398</td>\n",
       "      <td>Mozilla/5.0  (Linux; Android 4.1; Galaxy Nexus...</td>\n",
       "      <td>Chrome Mobile 50.0.2661</td>\n",
       "      <td>Android 4.1</td>\n",
       "      <td>mobile</td>\n",
       "      <td>True</td>\n",
       "      <td>True</td>\n",
       "      <td>False</td>\n",
       "    </tr>\n",
       "    <tr>\n",
       "      <th>980221</th>\n",
       "      <td>980221</td>\n",
       "      <td>2020-02-16 12:31:08.564</td>\n",
       "      <td>-5786250162433249151</td>\n",
       "      <td>NaN</td>\n",
       "      <td>170.39.76.62</td>\n",
       "      <td>US</td>\n",
       "      <td>-</td>\n",
       "      <td>-</td>\n",
       "      <td>393398</td>\n",
       "      <td>Mozilla/5.0  (iPhone; CPU iPhone OS 13_1_3 lik...</td>\n",
       "      <td>Chrome Mobile 80.0.3987.3058.3070</td>\n",
       "      <td>iOS 13.1.3</td>\n",
       "      <td>mobile</td>\n",
       "      <td>False</td>\n",
       "      <td>False</td>\n",
       "      <td>False</td>\n",
       "    </tr>\n",
       "  </tbody>\n",
       "</table>\n",
       "</div>"
      ]
     },
     "execution_count": 2,
     "metadata": {},
     "output_type": "execute_result"
    }
   ],
   "execution_count": 2
  },
  {
   "metadata": {},
   "cell_type": "markdown",
   "source": "### Renaming our column",
   "id": "25b8908b230940ea"
  },
  {
   "metadata": {
    "ExecuteTime": {
     "end_time": "2024-12-14T12:35:50.004187Z",
     "start_time": "2024-12-14T12:35:49.985980Z"
    }
   },
   "cell_type": "code",
   "source": [
    "new_names = {\n",
    "    \"Login Timestamp\": \"timestamp\",\n",
    "    \"User ID\": \"id\",\n",
    "    \"Round-Trip Time [ms]\": \"rtt_ms\",\n",
    "    \"IP Address\": \"ip\",\n",
    "    \"Country\": \"country\",\n",
    "    \"Region\": \"region\",\n",
    "    \"City\": \"city\",\n",
    "    \"ASN\": \"asn\",\n",
    "    \"User Agent String\": \"user_agent\",\n",
    "    \"Browser Name and Version\": \"browser\",\n",
    "    \"OS Name and Version\": \"os\",\n",
    "    \"Device Type\": \"device\",\n",
    "    \"Login Successful\": \"login_success\",\n",
    "    \"Is Attack IP\": \"is_attack_ip\",\n",
    "    \"Is Account Takeover\": \"is_account_takeover\"\n",
    "}\n",
    "\n",
    "data.rename(columns=new_names, inplace=True)\n",
    "data\n"
   ],
   "id": "e7f97bdb546cb2fe",
   "outputs": [
    {
     "data": {
      "text/plain": [
       "             index                timestamp                   id  rtt_ms  \\\n",
       "276826      276826  2020-02-07 03:43:03.472  -296285440039579456     NaN   \n",
       "849425      849425  2020-02-14 14:49:09.146 -8972452956627396509     NaN   \n",
       "504499      504499  2020-02-10 11:21:27.828   272548560383834071     NaN   \n",
       "601054      601054  2020-02-11 12:30:44.886 -2923701650951217243     NaN   \n",
       "980221      980221  2020-02-16 12:31:08.564 -5786250162433249151     NaN   \n",
       "...            ...                      ...                  ...     ...   \n",
       "31065068  31065068  2021-02-26 10:28:28.197  7517448027640648945     NaN   \n",
       "31196396  31196396  2021-02-28 02:47:15.792  8319034857044841296     NaN   \n",
       "31144309  31144309  2021-02-27 10:28:24.082 -4324475583306591935     NaN   \n",
       "31063503  31063503  2021-02-26 10:10:06.309 -4324475583306591935     NaN   \n",
       "31221007  31221007  2021-02-28 10:36:02.262  8791999668418205542     NaN   \n",
       "\n",
       "                      ip country            region         city     asn  \\\n",
       "276826      170.39.78.86      US                 -            -  393398   \n",
       "849425    176.107.139.65      PL           Mazovia       Warsaw  205727   \n",
       "504499    84.208.208.127      NO          Rogaland    Stavanger   41164   \n",
       "601054     38.135.39.175      US                 -            -  393398   \n",
       "980221      170.39.76.62      US                 -            -  393398   \n",
       "...                  ...     ...               ...          ...     ...   \n",
       "31065068  79.161.218.205      NO          Rogaland  Austre Amoy   29695   \n",
       "31196396   158.149.40.81      NO                 -            -   29492   \n",
       "31144309   170.39.76.156      US                 -            -  393398   \n",
       "31063503       179.4.0.6      CL  Los Lagos Region   Port Montt    6535   \n",
       "31221007  23.137.224.167      US                 -            -  393398   \n",
       "\n",
       "                                                 user_agent  \\\n",
       "276826    Mozilla/5.0  (Android 6.0.99; Tablet; https://...   \n",
       "849425    Mozilla/5.0  (iPhone; CPU iPhone OS 11_2_6 lik...   \n",
       "504499    Mozilla/5.0  (Macintosh; Intel Mac OS X 10_14_...   \n",
       "601054    Mozilla/5.0  (Linux; Android 4.1; Galaxy Nexus...   \n",
       "980221    Mozilla/5.0  (iPhone; CPU iPhone OS 13_1_3 lik...   \n",
       "...                                                     ...   \n",
       "31065068  Mozilla/5.0 (iPod; CPU iPhone OS 6_1_6 like Ma...   \n",
       "31196396  Mozilla/5.0 (iPod; CPU iPhone OS 6_1_6 like Ma...   \n",
       "31144309  Mozilla/5.0  (Linux; Android 4.1; Galaxy Nexus...   \n",
       "31063503  Mozilla/5.0  (iPhone; CPU iPhone OS 9_3_1 like...   \n",
       "31221007  Mozilla/5.0  (iPhone; CPU iPhone OS 13_4 like ...   \n",
       "\n",
       "                                    browser                os   device  \\\n",
       "276826         Chrome Mobile 81.0.4044.1949    Android 6.0.99   mobile   \n",
       "849425              Chrome Mobile 81.0.4044        iOS 11.2.6   mobile   \n",
       "504499                     Chrome 73.0.3654  Mac OS X 10.14.6  desktop   \n",
       "601054              Chrome Mobile 50.0.2661       Android 4.1   mobile   \n",
       "980221    Chrome Mobile 80.0.3987.3058.3070        iOS 13.1.3   mobile   \n",
       "...                                     ...               ...      ...   \n",
       "31065068           Mobile Safari 6.0.0.3605         iOS 6.1.6   mobile   \n",
       "31196396           Mobile Safari 6.0.0.3605         iOS 6.1.6   mobile   \n",
       "31144309    Chrome Mobile WebView 81.0.4044       Android 4.1   mobile   \n",
       "31063503                Firefox Mobile 64.0         iOS 9.3.1   mobile   \n",
       "31221007            Chrome Mobile 81.0.4044          iOS 13.4   mobile   \n",
       "\n",
       "          login_success  is_attack_ip  is_account_takeover  \n",
       "276826            False         False                False  \n",
       "849425            False         False                False  \n",
       "504499            False         False                False  \n",
       "601054             True          True                False  \n",
       "980221            False         False                False  \n",
       "...                 ...           ...                  ...  \n",
       "31065068          False          True                False  \n",
       "31196396           True         False                False  \n",
       "31144309          False         False                False  \n",
       "31063503          False         False                False  \n",
       "31221007          False         False                False  \n",
       "\n",
       "[12507706 rows x 16 columns]"
      ],
      "text/html": [
       "<div>\n",
       "<style scoped>\n",
       "    .dataframe tbody tr th:only-of-type {\n",
       "        vertical-align: middle;\n",
       "    }\n",
       "\n",
       "    .dataframe tbody tr th {\n",
       "        vertical-align: top;\n",
       "    }\n",
       "\n",
       "    .dataframe thead th {\n",
       "        text-align: right;\n",
       "    }\n",
       "</style>\n",
       "<table border=\"1\" class=\"dataframe\">\n",
       "  <thead>\n",
       "    <tr style=\"text-align: right;\">\n",
       "      <th></th>\n",
       "      <th>index</th>\n",
       "      <th>timestamp</th>\n",
       "      <th>id</th>\n",
       "      <th>rtt_ms</th>\n",
       "      <th>ip</th>\n",
       "      <th>country</th>\n",
       "      <th>region</th>\n",
       "      <th>city</th>\n",
       "      <th>asn</th>\n",
       "      <th>user_agent</th>\n",
       "      <th>browser</th>\n",
       "      <th>os</th>\n",
       "      <th>device</th>\n",
       "      <th>login_success</th>\n",
       "      <th>is_attack_ip</th>\n",
       "      <th>is_account_takeover</th>\n",
       "    </tr>\n",
       "  </thead>\n",
       "  <tbody>\n",
       "    <tr>\n",
       "      <th>276826</th>\n",
       "      <td>276826</td>\n",
       "      <td>2020-02-07 03:43:03.472</td>\n",
       "      <td>-296285440039579456</td>\n",
       "      <td>NaN</td>\n",
       "      <td>170.39.78.86</td>\n",
       "      <td>US</td>\n",
       "      <td>-</td>\n",
       "      <td>-</td>\n",
       "      <td>393398</td>\n",
       "      <td>Mozilla/5.0  (Android 6.0.99; Tablet; https://...</td>\n",
       "      <td>Chrome Mobile 81.0.4044.1949</td>\n",
       "      <td>Android 6.0.99</td>\n",
       "      <td>mobile</td>\n",
       "      <td>False</td>\n",
       "      <td>False</td>\n",
       "      <td>False</td>\n",
       "    </tr>\n",
       "    <tr>\n",
       "      <th>849425</th>\n",
       "      <td>849425</td>\n",
       "      <td>2020-02-14 14:49:09.146</td>\n",
       "      <td>-8972452956627396509</td>\n",
       "      <td>NaN</td>\n",
       "      <td>176.107.139.65</td>\n",
       "      <td>PL</td>\n",
       "      <td>Mazovia</td>\n",
       "      <td>Warsaw</td>\n",
       "      <td>205727</td>\n",
       "      <td>Mozilla/5.0  (iPhone; CPU iPhone OS 11_2_6 lik...</td>\n",
       "      <td>Chrome Mobile 81.0.4044</td>\n",
       "      <td>iOS 11.2.6</td>\n",
       "      <td>mobile</td>\n",
       "      <td>False</td>\n",
       "      <td>False</td>\n",
       "      <td>False</td>\n",
       "    </tr>\n",
       "    <tr>\n",
       "      <th>504499</th>\n",
       "      <td>504499</td>\n",
       "      <td>2020-02-10 11:21:27.828</td>\n",
       "      <td>272548560383834071</td>\n",
       "      <td>NaN</td>\n",
       "      <td>84.208.208.127</td>\n",
       "      <td>NO</td>\n",
       "      <td>Rogaland</td>\n",
       "      <td>Stavanger</td>\n",
       "      <td>41164</td>\n",
       "      <td>Mozilla/5.0  (Macintosh; Intel Mac OS X 10_14_...</td>\n",
       "      <td>Chrome 73.0.3654</td>\n",
       "      <td>Mac OS X 10.14.6</td>\n",
       "      <td>desktop</td>\n",
       "      <td>False</td>\n",
       "      <td>False</td>\n",
       "      <td>False</td>\n",
       "    </tr>\n",
       "    <tr>\n",
       "      <th>601054</th>\n",
       "      <td>601054</td>\n",
       "      <td>2020-02-11 12:30:44.886</td>\n",
       "      <td>-2923701650951217243</td>\n",
       "      <td>NaN</td>\n",
       "      <td>38.135.39.175</td>\n",
       "      <td>US</td>\n",
       "      <td>-</td>\n",
       "      <td>-</td>\n",
       "      <td>393398</td>\n",
       "      <td>Mozilla/5.0  (Linux; Android 4.1; Galaxy Nexus...</td>\n",
       "      <td>Chrome Mobile 50.0.2661</td>\n",
       "      <td>Android 4.1</td>\n",
       "      <td>mobile</td>\n",
       "      <td>True</td>\n",
       "      <td>True</td>\n",
       "      <td>False</td>\n",
       "    </tr>\n",
       "    <tr>\n",
       "      <th>980221</th>\n",
       "      <td>980221</td>\n",
       "      <td>2020-02-16 12:31:08.564</td>\n",
       "      <td>-5786250162433249151</td>\n",
       "      <td>NaN</td>\n",
       "      <td>170.39.76.62</td>\n",
       "      <td>US</td>\n",
       "      <td>-</td>\n",
       "      <td>-</td>\n",
       "      <td>393398</td>\n",
       "      <td>Mozilla/5.0  (iPhone; CPU iPhone OS 13_1_3 lik...</td>\n",
       "      <td>Chrome Mobile 80.0.3987.3058.3070</td>\n",
       "      <td>iOS 13.1.3</td>\n",
       "      <td>mobile</td>\n",
       "      <td>False</td>\n",
       "      <td>False</td>\n",
       "      <td>False</td>\n",
       "    </tr>\n",
       "    <tr>\n",
       "      <th>...</th>\n",
       "      <td>...</td>\n",
       "      <td>...</td>\n",
       "      <td>...</td>\n",
       "      <td>...</td>\n",
       "      <td>...</td>\n",
       "      <td>...</td>\n",
       "      <td>...</td>\n",
       "      <td>...</td>\n",
       "      <td>...</td>\n",
       "      <td>...</td>\n",
       "      <td>...</td>\n",
       "      <td>...</td>\n",
       "      <td>...</td>\n",
       "      <td>...</td>\n",
       "      <td>...</td>\n",
       "      <td>...</td>\n",
       "    </tr>\n",
       "    <tr>\n",
       "      <th>31065068</th>\n",
       "      <td>31065068</td>\n",
       "      <td>2021-02-26 10:28:28.197</td>\n",
       "      <td>7517448027640648945</td>\n",
       "      <td>NaN</td>\n",
       "      <td>79.161.218.205</td>\n",
       "      <td>NO</td>\n",
       "      <td>Rogaland</td>\n",
       "      <td>Austre Amoy</td>\n",
       "      <td>29695</td>\n",
       "      <td>Mozilla/5.0 (iPod; CPU iPhone OS 6_1_6 like Ma...</td>\n",
       "      <td>Mobile Safari 6.0.0.3605</td>\n",
       "      <td>iOS 6.1.6</td>\n",
       "      <td>mobile</td>\n",
       "      <td>False</td>\n",
       "      <td>True</td>\n",
       "      <td>False</td>\n",
       "    </tr>\n",
       "    <tr>\n",
       "      <th>31196396</th>\n",
       "      <td>31196396</td>\n",
       "      <td>2021-02-28 02:47:15.792</td>\n",
       "      <td>8319034857044841296</td>\n",
       "      <td>NaN</td>\n",
       "      <td>158.149.40.81</td>\n",
       "      <td>NO</td>\n",
       "      <td>-</td>\n",
       "      <td>-</td>\n",
       "      <td>29492</td>\n",
       "      <td>Mozilla/5.0 (iPod; CPU iPhone OS 6_1_6 like Ma...</td>\n",
       "      <td>Mobile Safari 6.0.0.3605</td>\n",
       "      <td>iOS 6.1.6</td>\n",
       "      <td>mobile</td>\n",
       "      <td>True</td>\n",
       "      <td>False</td>\n",
       "      <td>False</td>\n",
       "    </tr>\n",
       "    <tr>\n",
       "      <th>31144309</th>\n",
       "      <td>31144309</td>\n",
       "      <td>2021-02-27 10:28:24.082</td>\n",
       "      <td>-4324475583306591935</td>\n",
       "      <td>NaN</td>\n",
       "      <td>170.39.76.156</td>\n",
       "      <td>US</td>\n",
       "      <td>-</td>\n",
       "      <td>-</td>\n",
       "      <td>393398</td>\n",
       "      <td>Mozilla/5.0  (Linux; Android 4.1; Galaxy Nexus...</td>\n",
       "      <td>Chrome Mobile WebView 81.0.4044</td>\n",
       "      <td>Android 4.1</td>\n",
       "      <td>mobile</td>\n",
       "      <td>False</td>\n",
       "      <td>False</td>\n",
       "      <td>False</td>\n",
       "    </tr>\n",
       "    <tr>\n",
       "      <th>31063503</th>\n",
       "      <td>31063503</td>\n",
       "      <td>2021-02-26 10:10:06.309</td>\n",
       "      <td>-4324475583306591935</td>\n",
       "      <td>NaN</td>\n",
       "      <td>179.4.0.6</td>\n",
       "      <td>CL</td>\n",
       "      <td>Los Lagos Region</td>\n",
       "      <td>Port Montt</td>\n",
       "      <td>6535</td>\n",
       "      <td>Mozilla/5.0  (iPhone; CPU iPhone OS 9_3_1 like...</td>\n",
       "      <td>Firefox Mobile 64.0</td>\n",
       "      <td>iOS 9.3.1</td>\n",
       "      <td>mobile</td>\n",
       "      <td>False</td>\n",
       "      <td>False</td>\n",
       "      <td>False</td>\n",
       "    </tr>\n",
       "    <tr>\n",
       "      <th>31221007</th>\n",
       "      <td>31221007</td>\n",
       "      <td>2021-02-28 10:36:02.262</td>\n",
       "      <td>8791999668418205542</td>\n",
       "      <td>NaN</td>\n",
       "      <td>23.137.224.167</td>\n",
       "      <td>US</td>\n",
       "      <td>-</td>\n",
       "      <td>-</td>\n",
       "      <td>393398</td>\n",
       "      <td>Mozilla/5.0  (iPhone; CPU iPhone OS 13_4 like ...</td>\n",
       "      <td>Chrome Mobile 81.0.4044</td>\n",
       "      <td>iOS 13.4</td>\n",
       "      <td>mobile</td>\n",
       "      <td>False</td>\n",
       "      <td>False</td>\n",
       "      <td>False</td>\n",
       "    </tr>\n",
       "  </tbody>\n",
       "</table>\n",
       "<p>12507706 rows × 16 columns</p>\n",
       "</div>"
      ]
     },
     "execution_count": 4,
     "metadata": {},
     "output_type": "execute_result"
    }
   ],
   "execution_count": 4
  },
  {
   "metadata": {},
   "cell_type": "markdown",
   "source": "# Data Exploration",
   "id": "97e150e868e633ee"
  },
  {
   "metadata": {
    "ExecuteTime": {
     "end_time": "2024-12-14T12:38:38.265729Z",
     "start_time": "2024-12-14T12:38:38.262885Z"
    }
   },
   "cell_type": "code",
   "source": [
    "import pandas as pd\n",
    "import seaborn as sns\n",
    "import matplotlib.pyplot as plt\n",
    "%matplotlib inline"
   ],
   "id": "a2e34d68a764da21",
   "outputs": [],
   "execution_count": 7
  },
  {
   "metadata": {
    "ExecuteTime": {
     "end_time": "2024-12-14T12:40:03.646221Z",
     "start_time": "2024-12-14T12:40:03.630390Z"
    }
   },
   "cell_type": "code",
   "source": "data.tail(10)",
   "id": "421e881afbca5b56",
   "outputs": [
    {
     "data": {
      "text/plain": [
       "             index                timestamp                   id  rtt_ms  \\\n",
       "31144390  31144390  2021-02-27 10:29:38.357 -5854957957059982020     NaN   \n",
       "31125762  31125762  2021-02-27 04:56:45.829  1329526020261877346     NaN   \n",
       "31202773  31202773  2021-02-28 05:21:09.329 -6315944452724489239   545.0   \n",
       "31261767  31261767  2021-02-28 20:26:05.472 -5544836291850598194     NaN   \n",
       "31252807  31252807  2021-02-28 17:59:01.137 -8268348036855554836     NaN   \n",
       "31065068  31065068  2021-02-26 10:28:28.197  7517448027640648945     NaN   \n",
       "31196396  31196396  2021-02-28 02:47:15.792  8319034857044841296     NaN   \n",
       "31144309  31144309  2021-02-27 10:28:24.082 -4324475583306591935     NaN   \n",
       "31063503  31063503  2021-02-26 10:10:06.309 -4324475583306591935     NaN   \n",
       "31221007  31221007  2021-02-28 10:36:02.262  8791999668418205542     NaN   \n",
       "\n",
       "                       ip country            region         city     asn  \\\n",
       "31144390    80.239.48.105      NO          Rogaland        Bryne   25400   \n",
       "31125762  209.236.123.254      US                 -            -  393398   \n",
       "31202773  195.214.202.126      NO       Oslo County         Oslo   29607   \n",
       "31261767    46.212.134.35      NO             Viken     Skjetten   41164   \n",
       "31252807    170.39.77.147      US                 -            -  393398   \n",
       "31065068   79.161.218.205      NO          Rogaland  Austre Amoy   29695   \n",
       "31196396    158.149.40.81      NO                 -            -   29492   \n",
       "31144309    170.39.76.156      US                 -            -  393398   \n",
       "31063503        179.4.0.6      CL  Los Lagos Region   Port Montt    6535   \n",
       "31221007   23.137.224.167      US                 -            -  393398   \n",
       "\n",
       "                                                 user_agent  \\\n",
       "31144390  Mozilla/5.0 (iPod; CPU iPhone OS 6_1_6 like Ma...   \n",
       "31125762  Mozilla/5.0  (iPhone; CPU iPhone OS 13_4 like ...   \n",
       "31202773  Mozilla/5.0  (iPhone; CPU iPhone OS 13_4 like ...   \n",
       "31261767  Mozilla/5.0 (Macintosh; Intel Mac OS X 10_14_6...   \n",
       "31252807  Mozilla/5.0  (iPhone; CPU iPhone OS 13_4 like ...   \n",
       "31065068  Mozilla/5.0 (iPod; CPU iPhone OS 6_1_6 like Ma...   \n",
       "31196396  Mozilla/5.0 (iPod; CPU iPhone OS 6_1_6 like Ma...   \n",
       "31144309  Mozilla/5.0  (Linux; Android 4.1; Galaxy Nexus...   \n",
       "31063503  Mozilla/5.0  (iPhone; CPU iPhone OS 9_3_1 like...   \n",
       "31221007  Mozilla/5.0  (iPhone; CPU iPhone OS 13_4 like ...   \n",
       "\n",
       "                                  browser                os   device  \\\n",
       "31144390         Mobile Safari 6.0.0.3605         iOS 6.1.6   mobile   \n",
       "31125762     Chrome Mobile 81.0.4044.1933          iOS 13.4   mobile   \n",
       "31202773              Firefox 20.0.0.1601          iOS 13.4   mobile   \n",
       "31261767              Chrome 72.0.3626.78  Mac OS X 10.14.6  desktop   \n",
       "31252807     Chrome Mobile 81.0.4044.1934          iOS 13.4   mobile   \n",
       "31065068         Mobile Safari 6.0.0.3605         iOS 6.1.6   mobile   \n",
       "31196396         Mobile Safari 6.0.0.3605         iOS 6.1.6   mobile   \n",
       "31144309  Chrome Mobile WebView 81.0.4044       Android 4.1   mobile   \n",
       "31063503              Firefox Mobile 64.0         iOS 9.3.1   mobile   \n",
       "31221007          Chrome Mobile 81.0.4044          iOS 13.4   mobile   \n",
       "\n",
       "          login_success  is_attack_ip  is_account_takeover  \n",
       "31144390           True         False                False  \n",
       "31125762           True          True                False  \n",
       "31202773          False         False                False  \n",
       "31261767           True         False                False  \n",
       "31252807          False         False                False  \n",
       "31065068          False          True                False  \n",
       "31196396           True         False                False  \n",
       "31144309          False         False                False  \n",
       "31063503          False         False                False  \n",
       "31221007          False         False                False  "
      ],
      "text/html": [
       "<div>\n",
       "<style scoped>\n",
       "    .dataframe tbody tr th:only-of-type {\n",
       "        vertical-align: middle;\n",
       "    }\n",
       "\n",
       "    .dataframe tbody tr th {\n",
       "        vertical-align: top;\n",
       "    }\n",
       "\n",
       "    .dataframe thead th {\n",
       "        text-align: right;\n",
       "    }\n",
       "</style>\n",
       "<table border=\"1\" class=\"dataframe\">\n",
       "  <thead>\n",
       "    <tr style=\"text-align: right;\">\n",
       "      <th></th>\n",
       "      <th>index</th>\n",
       "      <th>timestamp</th>\n",
       "      <th>id</th>\n",
       "      <th>rtt_ms</th>\n",
       "      <th>ip</th>\n",
       "      <th>country</th>\n",
       "      <th>region</th>\n",
       "      <th>city</th>\n",
       "      <th>asn</th>\n",
       "      <th>user_agent</th>\n",
       "      <th>browser</th>\n",
       "      <th>os</th>\n",
       "      <th>device</th>\n",
       "      <th>login_success</th>\n",
       "      <th>is_attack_ip</th>\n",
       "      <th>is_account_takeover</th>\n",
       "    </tr>\n",
       "  </thead>\n",
       "  <tbody>\n",
       "    <tr>\n",
       "      <th>31144390</th>\n",
       "      <td>31144390</td>\n",
       "      <td>2021-02-27 10:29:38.357</td>\n",
       "      <td>-5854957957059982020</td>\n",
       "      <td>NaN</td>\n",
       "      <td>80.239.48.105</td>\n",
       "      <td>NO</td>\n",
       "      <td>Rogaland</td>\n",
       "      <td>Bryne</td>\n",
       "      <td>25400</td>\n",
       "      <td>Mozilla/5.0 (iPod; CPU iPhone OS 6_1_6 like Ma...</td>\n",
       "      <td>Mobile Safari 6.0.0.3605</td>\n",
       "      <td>iOS 6.1.6</td>\n",
       "      <td>mobile</td>\n",
       "      <td>True</td>\n",
       "      <td>False</td>\n",
       "      <td>False</td>\n",
       "    </tr>\n",
       "    <tr>\n",
       "      <th>31125762</th>\n",
       "      <td>31125762</td>\n",
       "      <td>2021-02-27 04:56:45.829</td>\n",
       "      <td>1329526020261877346</td>\n",
       "      <td>NaN</td>\n",
       "      <td>209.236.123.254</td>\n",
       "      <td>US</td>\n",
       "      <td>-</td>\n",
       "      <td>-</td>\n",
       "      <td>393398</td>\n",
       "      <td>Mozilla/5.0  (iPhone; CPU iPhone OS 13_4 like ...</td>\n",
       "      <td>Chrome Mobile 81.0.4044.1933</td>\n",
       "      <td>iOS 13.4</td>\n",
       "      <td>mobile</td>\n",
       "      <td>True</td>\n",
       "      <td>True</td>\n",
       "      <td>False</td>\n",
       "    </tr>\n",
       "    <tr>\n",
       "      <th>31202773</th>\n",
       "      <td>31202773</td>\n",
       "      <td>2021-02-28 05:21:09.329</td>\n",
       "      <td>-6315944452724489239</td>\n",
       "      <td>545.0</td>\n",
       "      <td>195.214.202.126</td>\n",
       "      <td>NO</td>\n",
       "      <td>Oslo County</td>\n",
       "      <td>Oslo</td>\n",
       "      <td>29607</td>\n",
       "      <td>Mozilla/5.0  (iPhone; CPU iPhone OS 13_4 like ...</td>\n",
       "      <td>Firefox 20.0.0.1601</td>\n",
       "      <td>iOS 13.4</td>\n",
       "      <td>mobile</td>\n",
       "      <td>False</td>\n",
       "      <td>False</td>\n",
       "      <td>False</td>\n",
       "    </tr>\n",
       "    <tr>\n",
       "      <th>31261767</th>\n",
       "      <td>31261767</td>\n",
       "      <td>2021-02-28 20:26:05.472</td>\n",
       "      <td>-5544836291850598194</td>\n",
       "      <td>NaN</td>\n",
       "      <td>46.212.134.35</td>\n",
       "      <td>NO</td>\n",
       "      <td>Viken</td>\n",
       "      <td>Skjetten</td>\n",
       "      <td>41164</td>\n",
       "      <td>Mozilla/5.0 (Macintosh; Intel Mac OS X 10_14_6...</td>\n",
       "      <td>Chrome 72.0.3626.78</td>\n",
       "      <td>Mac OS X 10.14.6</td>\n",
       "      <td>desktop</td>\n",
       "      <td>True</td>\n",
       "      <td>False</td>\n",
       "      <td>False</td>\n",
       "    </tr>\n",
       "    <tr>\n",
       "      <th>31252807</th>\n",
       "      <td>31252807</td>\n",
       "      <td>2021-02-28 17:59:01.137</td>\n",
       "      <td>-8268348036855554836</td>\n",
       "      <td>NaN</td>\n",
       "      <td>170.39.77.147</td>\n",
       "      <td>US</td>\n",
       "      <td>-</td>\n",
       "      <td>-</td>\n",
       "      <td>393398</td>\n",
       "      <td>Mozilla/5.0  (iPhone; CPU iPhone OS 13_4 like ...</td>\n",
       "      <td>Chrome Mobile 81.0.4044.1934</td>\n",
       "      <td>iOS 13.4</td>\n",
       "      <td>mobile</td>\n",
       "      <td>False</td>\n",
       "      <td>False</td>\n",
       "      <td>False</td>\n",
       "    </tr>\n",
       "    <tr>\n",
       "      <th>31065068</th>\n",
       "      <td>31065068</td>\n",
       "      <td>2021-02-26 10:28:28.197</td>\n",
       "      <td>7517448027640648945</td>\n",
       "      <td>NaN</td>\n",
       "      <td>79.161.218.205</td>\n",
       "      <td>NO</td>\n",
       "      <td>Rogaland</td>\n",
       "      <td>Austre Amoy</td>\n",
       "      <td>29695</td>\n",
       "      <td>Mozilla/5.0 (iPod; CPU iPhone OS 6_1_6 like Ma...</td>\n",
       "      <td>Mobile Safari 6.0.0.3605</td>\n",
       "      <td>iOS 6.1.6</td>\n",
       "      <td>mobile</td>\n",
       "      <td>False</td>\n",
       "      <td>True</td>\n",
       "      <td>False</td>\n",
       "    </tr>\n",
       "    <tr>\n",
       "      <th>31196396</th>\n",
       "      <td>31196396</td>\n",
       "      <td>2021-02-28 02:47:15.792</td>\n",
       "      <td>8319034857044841296</td>\n",
       "      <td>NaN</td>\n",
       "      <td>158.149.40.81</td>\n",
       "      <td>NO</td>\n",
       "      <td>-</td>\n",
       "      <td>-</td>\n",
       "      <td>29492</td>\n",
       "      <td>Mozilla/5.0 (iPod; CPU iPhone OS 6_1_6 like Ma...</td>\n",
       "      <td>Mobile Safari 6.0.0.3605</td>\n",
       "      <td>iOS 6.1.6</td>\n",
       "      <td>mobile</td>\n",
       "      <td>True</td>\n",
       "      <td>False</td>\n",
       "      <td>False</td>\n",
       "    </tr>\n",
       "    <tr>\n",
       "      <th>31144309</th>\n",
       "      <td>31144309</td>\n",
       "      <td>2021-02-27 10:28:24.082</td>\n",
       "      <td>-4324475583306591935</td>\n",
       "      <td>NaN</td>\n",
       "      <td>170.39.76.156</td>\n",
       "      <td>US</td>\n",
       "      <td>-</td>\n",
       "      <td>-</td>\n",
       "      <td>393398</td>\n",
       "      <td>Mozilla/5.0  (Linux; Android 4.1; Galaxy Nexus...</td>\n",
       "      <td>Chrome Mobile WebView 81.0.4044</td>\n",
       "      <td>Android 4.1</td>\n",
       "      <td>mobile</td>\n",
       "      <td>False</td>\n",
       "      <td>False</td>\n",
       "      <td>False</td>\n",
       "    </tr>\n",
       "    <tr>\n",
       "      <th>31063503</th>\n",
       "      <td>31063503</td>\n",
       "      <td>2021-02-26 10:10:06.309</td>\n",
       "      <td>-4324475583306591935</td>\n",
       "      <td>NaN</td>\n",
       "      <td>179.4.0.6</td>\n",
       "      <td>CL</td>\n",
       "      <td>Los Lagos Region</td>\n",
       "      <td>Port Montt</td>\n",
       "      <td>6535</td>\n",
       "      <td>Mozilla/5.0  (iPhone; CPU iPhone OS 9_3_1 like...</td>\n",
       "      <td>Firefox Mobile 64.0</td>\n",
       "      <td>iOS 9.3.1</td>\n",
       "      <td>mobile</td>\n",
       "      <td>False</td>\n",
       "      <td>False</td>\n",
       "      <td>False</td>\n",
       "    </tr>\n",
       "    <tr>\n",
       "      <th>31221007</th>\n",
       "      <td>31221007</td>\n",
       "      <td>2021-02-28 10:36:02.262</td>\n",
       "      <td>8791999668418205542</td>\n",
       "      <td>NaN</td>\n",
       "      <td>23.137.224.167</td>\n",
       "      <td>US</td>\n",
       "      <td>-</td>\n",
       "      <td>-</td>\n",
       "      <td>393398</td>\n",
       "      <td>Mozilla/5.0  (iPhone; CPU iPhone OS 13_4 like ...</td>\n",
       "      <td>Chrome Mobile 81.0.4044</td>\n",
       "      <td>iOS 13.4</td>\n",
       "      <td>mobile</td>\n",
       "      <td>False</td>\n",
       "      <td>False</td>\n",
       "      <td>False</td>\n",
       "    </tr>\n",
       "  </tbody>\n",
       "</table>\n",
       "</div>"
      ]
     },
     "execution_count": 10,
     "metadata": {},
     "output_type": "execute_result"
    }
   ],
   "execution_count": 10
  },
  {
   "metadata": {
    "ExecuteTime": {
     "end_time": "2024-12-14T12:40:46.096636Z",
     "start_time": "2024-12-14T12:40:46.090421Z"
    }
   },
   "cell_type": "code",
   "source": "data.dtypes",
   "id": "1c2417ced166e373",
   "outputs": [
    {
     "data": {
      "text/plain": [
       "index                    int64\n",
       "timestamp               object\n",
       "id                       int64\n",
       "rtt_ms                 float64\n",
       "ip                      object\n",
       "country                 object\n",
       "region                  object\n",
       "city                    object\n",
       "asn                      int64\n",
       "user_agent              object\n",
       "browser                 object\n",
       "os                      object\n",
       "device                  object\n",
       "login_success             bool\n",
       "is_attack_ip              bool\n",
       "is_account_takeover       bool\n",
       "dtype: object"
      ]
     },
     "execution_count": 11,
     "metadata": {},
     "output_type": "execute_result"
    }
   ],
   "execution_count": 11
  },
  {
   "metadata": {
    "ExecuteTime": {
     "end_time": "2024-12-14T12:41:33.889856Z",
     "start_time": "2024-12-14T12:41:28.066049Z"
    }
   },
   "cell_type": "code",
   "source": "data.count()",
   "id": "e756da04efe0b0b8",
   "outputs": [
    {
     "data": {
      "text/plain": [
       "index                  12507706\n",
       "timestamp              12507706\n",
       "id                     12507706\n",
       "rtt_ms                   509812\n",
       "ip                     12507706\n",
       "country                12507706\n",
       "region                 12488706\n",
       "city                   12504314\n",
       "asn                    12507706\n",
       "user_agent             12507706\n",
       "browser                12507706\n",
       "os                     12507706\n",
       "device                 12507077\n",
       "login_success          12507706\n",
       "is_attack_ip           12507706\n",
       "is_account_takeover    12507706\n",
       "dtype: int64"
      ]
     },
     "execution_count": 12,
     "metadata": {},
     "output_type": "execute_result"
    }
   ],
   "execution_count": 12
  },
  {
   "metadata": {},
   "cell_type": "markdown",
   "source": "### Agent Data (OS, Device and Browser)",
   "id": "4d68e753cee16be"
  },
  {
   "metadata": {
    "ExecuteTime": {
     "end_time": "2024-12-14T13:31:38.034552Z",
     "start_time": "2024-12-14T13:31:36.830424Z"
    }
   },
   "cell_type": "code",
   "source": [
    "category_counts = data[\"os\"].value_counts().head(50)\n",
    "plt.figure(figsize=(20, 10))\n",
    "category_counts.plot(kind='bar', color='blue')\n",
    "plt.title('OS distribution')\n",
    "plt.xlabel('Category')\n",
    "plt.ylabel('Frequency')\n",
    "plt.xticks(rotation=90)\n",
    "plt.show()"
   ],
   "id": "405850b2e74ecdfd",
   "outputs": [
    {
     "data": {
      "text/plain": [
       "<Figure size 2000x1000 with 1 Axes>"
      ],
      "image/png": "[encoded data removed]"
     },
     "metadata": {},
     "output_type": "display_data"
    }
   ],
   "execution_count": 72
  },
  {
   "metadata": {
    "ExecuteTime": {
     "end_time": "2024-12-14T13:35:14.260220Z",
     "start_time": "2024-12-14T13:35:14.081134Z"
    }
   },
   "cell_type": "code",
   "source": [
    "category_counts = data[data['is_account_takeover']==True][\"os\"].value_counts()\n",
    "plt.figure(figsize=(20, 10))\n",
    "category_counts.plot(kind='bar', color='skyblue')\n",
    "plt.title('OS distribution for attacks')\n",
    "plt.xlabel('OS Type and Version')\n",
    "plt.ylabel('Frequency')\n",
    "plt.xticks(rotation=90)\n",
    "plt.show()"
   ],
   "id": "850a257b36dbe96f",
   "outputs": [
    {
     "data": {
      "text/plain": [
       "<Figure size 2000x1000 with 1 Axes>"
      ],
      "image/png": "[encoded data removed]"
     },
     "metadata": {},
     "output_type": "display_data"
    }
   ],
   "execution_count": 82
  },
  {
   "metadata": {
    "ExecuteTime": {
     "end_time": "2024-12-14T13:35:16.993017Z",
     "start_time": "2024-12-14T13:35:16.240591Z"
    }
   },
   "cell_type": "code",
   "source": [
    "category_counts = data[\"device\"].value_counts()\n",
    "plt.figure(figsize=(20, 10))\n",
    "category_counts.plot(kind='bar', color='red')\n",
    "plt.title('Device Distribution')\n",
    "plt.xlabel('Device')\n",
    "plt.ylabel('Frequency')\n",
    "plt.xticks(rotation=0)\n",
    "plt.show()"
   ],
   "id": "9d05abc41d135a8e",
   "outputs": [
    {
     "data": {
      "text/plain": [
       "<Figure size 2000x1000 with 1 Axes>"
      ],
      "image/png": "[encoded data removed]"
     },
     "metadata": {},
     "output_type": "display_data"
    }
   ],
   "execution_count": 83
  },
  {
   "metadata": {
    "ExecuteTime": {
     "end_time": "2024-12-14T13:37:56.199081Z",
     "start_time": "2024-12-14T13:37:56.063809Z"
    }
   },
   "cell_type": "code",
   "source": [
    "category_counts = data[data['is_account_takeover']==True][\"device\"].value_counts()\n",
    "plt.figure(figsize=(20, 10))\n",
    "category_counts.plot(kind='bar', color='#FF9999')\n",
    "plt.title('Category Distribution for attacks')\n",
    "plt.xlabel('Category')\n",
    "plt.ylabel('Frequency')\n",
    "plt.xticks(rotation=0)\n",
    "plt.show()"
   ],
   "id": "2051a1420a26a720",
   "outputs": [
    {
     "data": {
      "text/plain": [
       "<Figure size 2000x1000 with 1 Axes>"
      ],
      "image/png": "[encoded data removed]"
     },
     "metadata": {},
     "output_type": "display_data"
    }
   ],
   "execution_count": 91
  },
  {
   "metadata": {
    "ExecuteTime": {
     "end_time": "2024-12-14T12:49:05.684704Z",
     "start_time": "2024-12-14T12:49:04.436431Z"
    }
   },
   "cell_type": "code",
   "source": [
    "category_counts = data[\"browser\"].value_counts().head(50)\n",
    "plt.figure(figsize=(20, 10))\n",
    "category_counts.plot(kind='bar', color='green')\n",
    "plt.title('Browser Distribution')\n",
    "plt.xlabel('Category')\n",
    "plt.ylabel('Frequency')\n",
    "plt.xticks(rotation=90)\n",
    "plt.show()"
   ],
   "id": "c8a8c91d6afb770a",
   "outputs": [
    {
     "data": {
      "text/plain": [
       "<Figure size 2000x1000 with 1 Axes>"
      ],
      "image/png": "[encoded data removed]"
     },
     "metadata": {},
     "output_type": "display_data"
    }
   ],
   "execution_count": 20
  },
  {
   "metadata": {
    "ExecuteTime": {
     "end_time": "2024-12-14T13:39:30.855633Z",
     "start_time": "2024-12-14T13:39:30.566859Z"
    }
   },
   "cell_type": "code",
   "source": [
    "category_counts = data[data['is_account_takeover']==True][\"browser\"].value_counts().head(50)\n",
    "plt.figure(figsize=(20, 10))\n",
    "category_counts.plot(kind='bar', color='#99FF99')\n",
    "plt.title('Browser Distribution for Attacks')\n",
    "plt.xlabel('Browser')\n",
    "plt.ylabel('Frequency')\n",
    "plt.xticks(rotation=90)\n",
    "plt.show()"
   ],
   "id": "ed87922fe4260e82",
   "outputs": [
    {
     "data": {
      "text/plain": [
       "<Figure size 2000x1000 with 1 Axes>"
      ],
      "image/png": "[encoded data removed]"
     },
     "metadata": {},
     "output_type": "display_data"
    }
   ],
   "execution_count": 93
  },
  {
   "metadata": {},
   "cell_type": "markdown",
   "source": "## Geographical Data",
   "id": "c3ba74e378e12b7f"
  },
  {
   "metadata": {
    "ExecuteTime": {
     "end_time": "2024-12-14T13:08:12.478501Z",
     "start_time": "2024-12-14T13:08:12.476362Z"
    }
   },
   "cell_type": "code",
   "source": "import plotly.express as px",
   "id": "93978e8a863e2d64",
   "outputs": [],
   "execution_count": 32
  },
  {
   "metadata": {
    "ExecuteTime": {
     "end_time": "2024-12-14T13:23:12.220833Z",
     "start_time": "2024-12-14T13:23:09.003390Z"
    }
   },
   "cell_type": "code",
   "source": [
    "attack_data = data[data[\"is_account_takeover\"] == True][['country']]\n",
    "normal_connections = data[data[\"is_account_takeover\"] != True][['country']]\n",
    "normal_connections"
   ],
   "id": "63c0d46d8d43cefb",
   "outputs": [
    {
     "data": {
      "text/plain": [
       "         country\n",
       "276826        US\n",
       "849425        PL\n",
       "504499        NO\n",
       "601054        US\n",
       "980221        US\n",
       "...          ...\n",
       "31065068      NO\n",
       "31196396      NO\n",
       "31144309      US\n",
       "31063503      CL\n",
       "31221007      US\n",
       "\n",
       "[12507644 rows x 1 columns]"
      ],
      "text/html": [
       "<div>\n",
       "<style scoped>\n",
       "    .dataframe tbody tr th:only-of-type {\n",
       "        vertical-align: middle;\n",
       "    }\n",
       "\n",
       "    .dataframe tbody tr th {\n",
       "        vertical-align: top;\n",
       "    }\n",
       "\n",
       "    .dataframe thead th {\n",
       "        text-align: right;\n",
       "    }\n",
       "</style>\n",
       "<table border=\"1\" class=\"dataframe\">\n",
       "  <thead>\n",
       "    <tr style=\"text-align: right;\">\n",
       "      <th></th>\n",
       "      <th>country</th>\n",
       "    </tr>\n",
       "  </thead>\n",
       "  <tbody>\n",
       "    <tr>\n",
       "      <th>276826</th>\n",
       "      <td>US</td>\n",
       "    </tr>\n",
       "    <tr>\n",
       "      <th>849425</th>\n",
       "      <td>PL</td>\n",
       "    </tr>\n",
       "    <tr>\n",
       "      <th>504499</th>\n",
       "      <td>NO</td>\n",
       "    </tr>\n",
       "    <tr>\n",
       "      <th>601054</th>\n",
       "      <td>US</td>\n",
       "    </tr>\n",
       "    <tr>\n",
       "      <th>980221</th>\n",
       "      <td>US</td>\n",
       "    </tr>\n",
       "    <tr>\n",
       "      <th>...</th>\n",
       "      <td>...</td>\n",
       "    </tr>\n",
       "    <tr>\n",
       "      <th>31065068</th>\n",
       "      <td>NO</td>\n",
       "    </tr>\n",
       "    <tr>\n",
       "      <th>31196396</th>\n",
       "      <td>NO</td>\n",
       "    </tr>\n",
       "    <tr>\n",
       "      <th>31144309</th>\n",
       "      <td>US</td>\n",
       "    </tr>\n",
       "    <tr>\n",
       "      <th>31063503</th>\n",
       "      <td>CL</td>\n",
       "    </tr>\n",
       "    <tr>\n",
       "      <th>31221007</th>\n",
       "      <td>US</td>\n",
       "    </tr>\n",
       "  </tbody>\n",
       "</table>\n",
       "<p>12507644 rows × 1 columns</p>\n",
       "</div>"
      ]
     },
     "execution_count": 62,
     "metadata": {},
     "output_type": "execute_result"
    }
   ],
   "execution_count": 62
  },
  {
   "metadata": {
    "ExecuteTime": {
     "end_time": "2024-12-14T13:24:06.658929Z",
     "start_time": "2024-12-14T13:24:02.184421Z"
    }
   },
   "cell_type": "code",
   "source": [
    "iso2_to_iso3_map = {\n",
    "    'AD': 'AND', 'AE': 'ARE', 'AF': 'AFG', 'AG': 'ATG', 'AI': 'AIA', 'AL': 'ALB',\n",
    "    'AM': 'ARM', 'AO': 'AGO', 'AR': 'ARG', 'AS': 'ASM', 'AT': 'AUT', 'AU': 'AUS',\n",
    "    'AW': 'ABW', 'AX': 'ALA', 'AZ': 'AZE', 'BA': 'BHS', 'BB': 'BRB', 'BD': 'BGD',\n",
    "    'BE': 'BEL', 'BF': 'BFA', 'BG': 'BGR', 'BH': 'BHR', 'BI': 'BDI', 'BJ': 'BEN',\n",
    "    'BL': 'BLM', 'BM': 'BMU', 'BN': 'BRN', 'BO': 'BOL', 'BQ': 'BES', 'BR': 'BRA',\n",
    "    'BS': 'BHS', 'BT': 'BTN', 'BV': 'BVT', 'BW': 'BWA', 'BY': 'BLR', 'BZ': 'BLZ',\n",
    "    'CA': 'CAN', 'CC': 'CCK', 'CD': 'COD', 'CF': 'CAF', 'CG': 'COG', 'CH': 'CHE',\n",
    "    'CI': 'CIV', 'CK': 'COK', 'CL': 'CHL', 'CM': 'CMR', 'CN': 'CHN', 'CO': 'COL',\n",
    "    'CR': 'CRI', 'CU': 'CUB', 'CV': 'CPV', 'CW': 'CUW', 'CX': 'CXR', 'CY': 'CYP',\n",
    "    'CZ': 'CZE', 'DE': 'DEU', 'DJ': 'DJI', 'DK': 'DNK', 'DM': 'DMA', 'DO': 'DOM',\n",
    "    'DZ': 'DZA', 'EC': 'ECU', 'EE': 'EST', 'EG': 'EGY', 'EH': 'ESH', 'ER': 'ERI',\n",
    "    'ES': 'ESP', 'ET': 'ETH', 'FI': 'FIN', 'FJ': 'FJI', 'FM': 'FSM', 'FO': 'FRO',\n",
    "    'FR': 'FRA', 'GA': 'GAB', 'GB': 'GBR', 'GD': 'GRD', 'GE': 'GEO', 'GF': 'GUF',\n",
    "    'GG': 'GGY', 'GH': 'GHA', 'GI': 'GIB', 'GL': 'GRL', 'GM': 'GMB', 'GN': 'GIN',\n",
    "    'GP': 'GLP', 'GQ': 'GNQ', 'GR': 'GRC', 'GT': 'GTM', 'GU': 'GUM', 'GW': 'GNB',\n",
    "    'GY': 'GUY', 'HK': 'HKG', 'HM': 'HMD', 'HN': 'HND', 'HR': 'HRV', 'HT': 'HTI',\n",
    "    'HU': 'HUN', 'ID': 'IDN', 'IE': 'IRL', 'IL': 'ISR', 'IM': 'IMN', 'IN': 'IND',\n",
    "    'IO': 'IOT', 'IQ': 'IRQ', 'IR': 'IRN', 'IS': 'ISL', 'IT': 'ITA', 'JE': 'JEY',\n",
    "    'JM': 'JAM', 'JO': 'JOR', 'JP': 'JPN', 'KE': 'KEN', 'KG': 'KGZ', 'KH': 'KHM',\n",
    "    'KI': 'KIR', 'KM': 'COM', 'KN': 'KNA', 'KP': 'PRK', 'KR': 'KOR', 'KW': 'KWT',\n",
    "    'KY': 'CYM', 'KZ': 'KAZ', 'LA': 'LAO', 'LB': 'LBN', 'LC': 'LCA', 'LI': 'LIE',\n",
    "    'LK': 'LKA', 'LR': 'LBR', 'LS': 'LSO', 'LT': 'LTU', 'LU': 'LUX', 'LV': 'LVA',\n",
    "    'LY': 'LBY', 'MA': 'MAR', 'MC': 'MCO', 'MD': 'MDA', 'ME': 'MNE', 'MF': 'MAF',\n",
    "    'MG': 'MDG', 'MH': 'MHL', 'MK': 'MKD', 'ML': 'MLI', 'MM': 'MMR', 'MN': 'MNG',\n",
    "    'MO': 'MAC', 'MP': 'MNP', 'MQ': 'MTQ', 'MR': 'MRT', 'MS': 'MSR', 'MT': 'MLT',\n",
    "    'MU': 'MUS', 'MV': 'MDV', 'MW': 'MWI', 'MX': 'MEX', 'MY': 'MYS', 'MZ': 'MOZ',\n",
    "    'NA': 'NAM', 'NC': 'NCL', 'NE': 'NER', 'NF': 'NFK', 'NG': 'NGA', 'NI': 'NIC',\n",
    "    'NL': 'NLD', 'NO': 'NOR', 'NP': 'NPL', 'NR': 'NRU', 'NU': 'NIU', 'NZ': 'NZL',\n",
    "    'OM': 'OMN', 'PA': 'PAN', 'PE': 'PER', 'PF': 'PYF', 'PG': 'PNG', 'PH': 'PHL',\n",
    "    'PK': 'PAK', 'PL': 'POL', 'PM': 'SPM', 'PN': 'PCN', 'PR': 'PRI', 'PT': 'PRT',\n",
    "    'PW': 'PLW', 'PY': 'PRY', 'QA': 'QAT', 'RE': 'REU', 'RO': 'ROU', 'RS': 'SRB',\n",
    "    'RU': 'RUS', 'RW': 'RWA', 'SA': 'SAU', 'SB': 'SLB', 'SC': 'SYC', 'SD': 'SDN',\n",
    "    'SE': 'SWE', 'SG': 'SGP', 'SH': 'SHN', 'SI': 'SVN', 'SJ': 'SJM', 'SK': 'SVK',\n",
    "    'SL': 'SLE', 'SM': 'SMR', 'SN': 'SEN', 'SO': 'SOM', 'SR': 'SUR', 'SS': 'SSD',\n",
    "    'ST': 'STP', 'SV': 'SLV', 'SX': 'SXM', 'SY': 'SYR', 'SZ': 'SWZ', 'TC': 'TCA',\n",
    "    'TD': 'TCD', 'TF': 'ATF', 'TG': 'TGO', 'TH': 'THA', 'TJ': 'TJK', 'TK': 'TKL',\n",
    "    'TL': 'TLS', 'TM': 'TKM', 'TN': 'TUN', 'TO': 'TON', 'TR': 'TUR', 'TT': 'TTO',\n",
    "    'TV': 'TUV', 'TZ': 'TZA', 'UA': 'UKR', 'UG': 'UGA', 'UM': 'UMI', 'US': 'USA',\n",
    "    'UY': 'URY', 'UZ': 'UZB', 'VA': 'VAT', 'VC': 'VCT', 'VE': 'VEN', 'VG': 'VGB',\n",
    "    'VI': 'VIR', 'VN': 'VNM', 'VU': 'VUT', 'WF': 'WLF', 'WS': 'WSM', 'YE': 'YEM',\n",
    "    'YT': 'MYT', 'ZA': 'ZAF', 'ZM': 'ZMB', 'ZW': 'ZWE'\n",
    "}\n",
    "\n",
    "def iso2_to_iso3(iso2):\n",
    "    return iso2_to_iso3_map.get(iso2.upper(), iso2)\n",
    "\n",
    "\n",
    "attack_data['country'] = data['country'].apply(iso2_to_iso3)\n",
    "normal_connections['country'] = data['country'].apply(iso2_to_iso3)"
   ],
   "id": "d053611ff419ac9e",
   "outputs": [],
   "execution_count": 65
  },
  {
   "metadata": {
    "ExecuteTime": {
     "end_time": "2024-12-14T13:24:07.593638Z",
     "start_time": "2024-12-14T13:24:07.585822Z"
    }
   },
   "cell_type": "code",
   "source": [
    "attack_counts = attack_data.groupby(\"country\").size().reset_index(name=\"Attack Count\")\n",
    "normal_connections = normal_connections.groupby(\"country\").size().reset_index(name=\"Connections Count\")"
   ],
   "id": "cf6a5c48ad2669f0",
   "outputs": [
    {
     "data": {
      "text/plain": [
       "   country  Connections Count\n",
       "0      BGD                  1\n",
       "1      BRA                  5\n",
       "2      DEU                  3\n",
       "3      FIN                  1\n",
       "4      GBR                  1\n",
       "5      IDN                  4\n",
       "6      IND                  2\n",
       "7      NOR                 53\n",
       "8      POL                  2\n",
       "9      ROU                  1\n",
       "10     USA                 21"
      ],
      "text/html": [
       "<div>\n",
       "<style scoped>\n",
       "    .dataframe tbody tr th:only-of-type {\n",
       "        vertical-align: middle;\n",
       "    }\n",
       "\n",
       "    .dataframe tbody tr th {\n",
       "        vertical-align: top;\n",
       "    }\n",
       "\n",
       "    .dataframe thead th {\n",
       "        text-align: right;\n",
       "    }\n",
       "</style>\n",
       "<table border=\"1\" class=\"dataframe\">\n",
       "  <thead>\n",
       "    <tr style=\"text-align: right;\">\n",
       "      <th></th>\n",
       "      <th>country</th>\n",
       "      <th>Connections Count</th>\n",
       "    </tr>\n",
       "  </thead>\n",
       "  <tbody>\n",
       "    <tr>\n",
       "      <th>0</th>\n",
       "      <td>BGD</td>\n",
       "      <td>1</td>\n",
       "    </tr>\n",
       "    <tr>\n",
       "      <th>1</th>\n",
       "      <td>BRA</td>\n",
       "      <td>5</td>\n",
       "    </tr>\n",
       "    <tr>\n",
       "      <th>2</th>\n",
       "      <td>DEU</td>\n",
       "      <td>3</td>\n",
       "    </tr>\n",
       "    <tr>\n",
       "      <th>3</th>\n",
       "      <td>FIN</td>\n",
       "      <td>1</td>\n",
       "    </tr>\n",
       "    <tr>\n",
       "      <th>4</th>\n",
       "      <td>GBR</td>\n",
       "      <td>1</td>\n",
       "    </tr>\n",
       "    <tr>\n",
       "      <th>5</th>\n",
       "      <td>IDN</td>\n",
       "      <td>4</td>\n",
       "    </tr>\n",
       "    <tr>\n",
       "      <th>6</th>\n",
       "      <td>IND</td>\n",
       "      <td>2</td>\n",
       "    </tr>\n",
       "    <tr>\n",
       "      <th>7</th>\n",
       "      <td>NOR</td>\n",
       "      <td>53</td>\n",
       "    </tr>\n",
       "    <tr>\n",
       "      <th>8</th>\n",
       "      <td>POL</td>\n",
       "      <td>2</td>\n",
       "    </tr>\n",
       "    <tr>\n",
       "      <th>9</th>\n",
       "      <td>ROU</td>\n",
       "      <td>1</td>\n",
       "    </tr>\n",
       "    <tr>\n",
       "      <th>10</th>\n",
       "      <td>USA</td>\n",
       "      <td>21</td>\n",
       "    </tr>\n",
       "  </tbody>\n",
       "</table>\n",
       "</div>"
      ]
     },
     "execution_count": 66,
     "metadata": {},
     "output_type": "execute_result"
    }
   ],
   "execution_count": 66
  },
  {
   "metadata": {
    "ExecuteTime": {
     "end_time": "2024-12-14T13:28:47.993087Z",
     "start_time": "2024-12-14T13:28:47.987900Z"
    }
   },
   "cell_type": "code",
   "source": "attack_counts.sort_values(by='Attack Count' , ascending=False)",
   "id": "d38da5a11717d827",
   "outputs": [
    {
     "data": {
      "text/plain": [
       "   country  Attack Count\n",
       "11     ROU            35\n",
       "0      BRA             5\n",
       "1      CAN             4\n",
       "9      NOR             4\n",
       "2      CHL             3\n",
       "5      ITA             3\n",
       "4      DNK             2\n",
       "3      CZE             1\n",
       "6      LVA             1\n",
       "7      MOZ             1\n",
       "8      NLD             1\n",
       "10     REU             1\n",
       "12     SVK             1"
      ],
      "text/html": [
       "<div>\n",
       "<style scoped>\n",
       "    .dataframe tbody tr th:only-of-type {\n",
       "        vertical-align: middle;\n",
       "    }\n",
       "\n",
       "    .dataframe tbody tr th {\n",
       "        vertical-align: top;\n",
       "    }\n",
       "\n",
       "    .dataframe thead th {\n",
       "        text-align: right;\n",
       "    }\n",
       "</style>\n",
       "<table border=\"1\" class=\"dataframe\">\n",
       "  <thead>\n",
       "    <tr style=\"text-align: right;\">\n",
       "      <th></th>\n",
       "      <th>country</th>\n",
       "      <th>Attack Count</th>\n",
       "    </tr>\n",
       "  </thead>\n",
       "  <tbody>\n",
       "    <tr>\n",
       "      <th>11</th>\n",
       "      <td>ROU</td>\n",
       "      <td>35</td>\n",
       "    </tr>\n",
       "    <tr>\n",
       "      <th>0</th>\n",
       "      <td>BRA</td>\n",
       "      <td>5</td>\n",
       "    </tr>\n",
       "    <tr>\n",
       "      <th>1</th>\n",
       "      <td>CAN</td>\n",
       "      <td>4</td>\n",
       "    </tr>\n",
       "    <tr>\n",
       "      <th>9</th>\n",
       "      <td>NOR</td>\n",
       "      <td>4</td>\n",
       "    </tr>\n",
       "    <tr>\n",
       "      <th>2</th>\n",
       "      <td>CHL</td>\n",
       "      <td>3</td>\n",
       "    </tr>\n",
       "    <tr>\n",
       "      <th>5</th>\n",
       "      <td>ITA</td>\n",
       "      <td>3</td>\n",
       "    </tr>\n",
       "    <tr>\n",
       "      <th>4</th>\n",
       "      <td>DNK</td>\n",
       "      <td>2</td>\n",
       "    </tr>\n",
       "    <tr>\n",
       "      <th>3</th>\n",
       "      <td>CZE</td>\n",
       "      <td>1</td>\n",
       "    </tr>\n",
       "    <tr>\n",
       "      <th>6</th>\n",
       "      <td>LVA</td>\n",
       "      <td>1</td>\n",
       "    </tr>\n",
       "    <tr>\n",
       "      <th>7</th>\n",
       "      <td>MOZ</td>\n",
       "      <td>1</td>\n",
       "    </tr>\n",
       "    <tr>\n",
       "      <th>8</th>\n",
       "      <td>NLD</td>\n",
       "      <td>1</td>\n",
       "    </tr>\n",
       "    <tr>\n",
       "      <th>10</th>\n",
       "      <td>REU</td>\n",
       "      <td>1</td>\n",
       "    </tr>\n",
       "    <tr>\n",
       "      <th>12</th>\n",
       "      <td>SVK</td>\n",
       "      <td>1</td>\n",
       "    </tr>\n",
       "  </tbody>\n",
       "</table>\n",
       "</div>"
      ]
     },
     "execution_count": 70,
     "metadata": {},
     "output_type": "execute_result"
    }
   ],
   "execution_count": 70
  },
  {
   "metadata": {
    "ExecuteTime": {
     "end_time": "2024-12-14T13:24:09.557852Z",
     "start_time": "2024-12-14T13:24:09.523958Z"
    }
   },
   "cell_type": "code",
   "source": [
    "fig = px.choropleth(\n",
    "    attack_counts,\n",
    "    locations=\"country\",\n",
    "    locationmode=\"ISO-3\",\n",
    "    color=\"Attack Count\",\n",
    "    title=\"Number of Attacks by Country\",\n",
    "    color_continuous_scale=\"Reds\"\n",
    ")\n",
    "fig.update_layout(\n",
    "    width=1200,\n",
    "    height=600\n",
    ")\n",
    "fig.show()"
   ],
   "id": "7931220594a36e17",
   "outputs": [
    {
     "data": {
      "application/vnd.plotly.v1+json": {
       "data": [
        {
         "coloraxis": "coloraxis",
         "geo": "geo",
         "hovertemplate": "country=%{location}<br>Attack Count=%{z}<extra></extra>",
         "locationmode": "ISO-3",
         "locations": [
          "BRA",
          "CAN",
          "CHL",
          "CZE",
          "DNK",
          "ITA",
          "LVA",
          "MOZ",
          "NLD",
          "NOR",
          "REU",
          "ROU",
          "SVK"
         ],
         "name": "",
         "z": [
          5,
          4,
          3,
          1,
          2,
          3,
          1,
          1,
          1,
          4,
          1,
          35,
          1
         ],
         "type": "choropleth"
        }
       ],
       "layout": {
        "template": {
         "data": {
          "histogram2dcontour": [
           {
            "type": "histogram2dcontour",
            "colorbar": {
             "outlinewidth": 0,
             "ticks": ""
            },
            "colorscale": [
             [
              0.0,
              "#0d0887"
             ],
             [
              0.1111111111111111,
              "#46039f"
             ],
             [
              0.2222222222222222,
              "#7201a8"
             ],
             [
              0.3333333333333333,
              "#9c179e"
             ],
             [
              0.4444444444444444,
              "#bd3786"
             ],
             [
              0.5555555555555556,
              "#d8576b"
             ],
             [
              0.6666666666666666,
              "#ed7953"
             ],
             [
              0.7777777777777778,
              "#fb9f3a"
             ],
             [
              0.8888888888888888,
              "#fdca26"
             ],
             [
              1.0,
              "#f0f921"
             ]
            ]
           }
          ],
          "choropleth": [
           {
            "type": "choropleth",
            "colorbar": {
             "outlinewidth": 0,
             "ticks": ""
            }
           }
          ],
          "histogram2d": [
           {
            "type": "histogram2d",
            "colorbar": {
             "outlinewidth": 0,
             "ticks": ""
            },
            "colorscale": [
             [
              0.0,
              "#0d0887"
             ],
             [
              0.1111111111111111,
              "#46039f"
             ],
             [
              0.2222222222222222,
              "#7201a8"
             ],
             [
              0.3333333333333333,
              "#9c179e"
             ],
             [
              0.4444444444444444,
              "#bd3786"
             ],
             [
              0.5555555555555556,
              "#d8576b"
             ],
             [
              0.6666666666666666,
              "#ed7953"
             ],
             [
              0.7777777777777778,
              "#fb9f3a"
             ],
             [
              0.8888888888888888,
              "#fdca26"
             ],
             [
              1.0,
              "#f0f921"
             ]
            ]
           }
          ],
          "heatmap": [
           {
            "type": "heatmap",
            "colorbar": {
             "outlinewidth": 0,
             "ticks": ""
            },
            "colorscale": [
             [
              0.0,
              "#0d0887"
             ],
             [
              0.1111111111111111,
              "#46039f"
             ],
             [
              0.2222222222222222,
              "#7201a8"
             ],
             [
              0.3333333333333333,
              "#9c179e"
             ],
             [
              0.4444444444444444,
              "#bd3786"
             ],
             [
              0.5555555555555556,
              "#d8576b"
             ],
             [
              0.6666666666666666,
              "#ed7953"
             ],
             [
              0.7777777777777778,
              "#fb9f3a"
             ],
             [
              0.8888888888888888,
              "#fdca26"
             ],
             [
              1.0,
              "#f0f921"
             ]
            ]
           }
          ],
          "heatmapgl": [
           {
            "type": "heatmapgl",
            "colorbar": {
             "outlinewidth": 0,
             "ticks": ""
            },
            "colorscale": [
             [
              0.0,
              "#0d0887"
             ],
             [
              0.1111111111111111,
              "#46039f"
             ],
             [
              0.2222222222222222,
              "#7201a8"
             ],
             [
              0.3333333333333333,
              "#9c179e"
             ],
             [
              0.4444444444444444,
              "#bd3786"
             ],
             [
              0.5555555555555556,
              "#d8576b"
             ],
             [
              0.6666666666666666,
              "#ed7953"
             ],
             [
              0.7777777777777778,
              "#fb9f3a"
             ],
             [
              0.8888888888888888,
              "#fdca26"
             ],
             [
              1.0,
              "#f0f921"
             ]
            ]
           }
          ],
          "contourcarpet": [
           {
            "type": "contourcarpet",
            "colorbar": {
             "outlinewidth": 0,
             "ticks": ""
            }
           }
          ],
          "contour": [
           {
            "type": "contour",
            "colorbar": {
             "outlinewidth": 0,
             "ticks": ""
            },
            "colorscale": [
             [
              0.0,
              "#0d0887"
             ],
             [
              0.1111111111111111,
              "#46039f"
             ],
             [
              0.2222222222222222,
              "#7201a8"
             ],
             [
              0.3333333333333333,
              "#9c179e"
             ],
             [
              0.4444444444444444,
              "#bd3786"
             ],
             [
              0.5555555555555556,
              "#d8576b"
             ],
             [
              0.6666666666666666,
              "#ed7953"
             ],
             [
              0.7777777777777778,
              "#fb9f3a"
             ],
             [
              0.8888888888888888,
              "#fdca26"
             ],
             [
              1.0,
              "#f0f921"
             ]
            ]
           }
          ],
          "surface": [
           {
            "type": "surface",
            "colorbar": {
             "outlinewidth": 0,
             "ticks": ""
            },
            "colorscale": [
             [
              0.0,
              "#0d0887"
             ],
             [
              0.1111111111111111,
              "#46039f"
             ],
             [
              0.2222222222222222,
              "#7201a8"
             ],
             [
              0.3333333333333333,
              "#9c179e"
             ],
             [
              0.4444444444444444,
              "#bd3786"
             ],
             [
              0.5555555555555556,
              "#d8576b"
             ],
             [
              0.6666666666666666,
              "#ed7953"
             ],
             [
              0.7777777777777778,
              "#fb9f3a"
             ],
             [
              0.8888888888888888,
              "#fdca26"
             ],
             [
              1.0,
              "#f0f921"
             ]
            ]
           }
          ],
          "mesh3d": [
           {
            "type": "mesh3d",
            "colorbar": {
             "outlinewidth": 0,
             "ticks": ""
            }
           }
          ],
          "scatter": [
           {
            "fillpattern": {
             "fillmode": "overlay",
             "size": 10,
             "solidity": 0.2
            },
            "type": "scatter"
           }
          ],
          "parcoords": [
           {
            "type": "parcoords",
            "line": {
             "colorbar": {
              "outlinewidth": 0,
              "ticks": ""
             }
            }
           }
          ],
          "scatterpolargl": [
           {
            "type": "scatterpolargl",
            "marker": {
             "colorbar": {
              "outlinewidth": 0,
              "ticks": ""
             }
            }
           }
          ],
          "bar": [
           {
            "error_x": {
             "color": "#2a3f5f"
            },
            "error_y": {
             "color": "#2a3f5f"
            },
            "marker": {
             "line": {
              "color": "#E5ECF6",
              "width": 0.5
             },
             "pattern": {
              "fillmode": "overlay",
              "size": 10,
              "solidity": 0.2
             }
            },
            "type": "bar"
           }
          ],
          "scattergeo": [
           {
            "type": "scattergeo",
            "marker": {
             "colorbar": {
              "outlinewidth": 0,
              "ticks": ""
             }
            }
           }
          ],
          "scatterpolar": [
           {
            "type": "scatterpolar",
            "marker": {
             "colorbar": {
              "outlinewidth": 0,
              "ticks": ""
             }
            }
           }
          ],
          "histogram": [
           {
            "marker": {
             "pattern": {
              "fillmode": "overlay",
              "size": 10,
              "solidity": 0.2
             }
            },
            "type": "histogram"
           }
          ],
          "scattergl": [
           {
            "type": "scattergl",
            "marker": {
             "colorbar": {
              "outlinewidth": 0,
              "ticks": ""
             }
            }
           }
          ],
          "scatter3d": [
           {
            "type": "scatter3d",
            "line": {
             "colorbar": {
              "outlinewidth": 0,
              "ticks": ""
             }
            },
            "marker": {
             "colorbar": {
              "outlinewidth": 0,
              "ticks": ""
             }
            }
           }
          ],
          "scattermapbox": [
           {
            "type": "scattermapbox",
            "marker": {
             "colorbar": {
              "outlinewidth": 0,
              "ticks": ""
             }
            }
           }
          ],
          "scatterternary": [
           {
            "type": "scatterternary",
            "marker": {
             "colorbar": {
              "outlinewidth": 0,
              "ticks": ""
             }
            }
           }
          ],
          "scattercarpet": [
           {
            "type": "scattercarpet",
            "marker": {
             "colorbar": {
              "outlinewidth": 0,
              "ticks": ""
             }
            }
           }
          ],
          "carpet": [
           {
            "aaxis": {
             "endlinecolor": "#2a3f5f",
             "gridcolor": "white",
             "linecolor": "white",
             "minorgridcolor": "white",
             "startlinecolor": "#2a3f5f"
            },
            "baxis": {
             "endlinecolor": "#2a3f5f",
             "gridcolor": "white",
             "linecolor": "white",
             "minorgridcolor": "white",
             "startlinecolor": "#2a3f5f"
            },
            "type": "carpet"
           }
          ],
          "table": [
           {
            "cells": {
             "fill": {
              "color": "#EBF0F8"
             },
             "line": {
              "color": "white"
             }
            },
            "header": {
             "fill": {
              "color": "#C8D4E3"
             },
             "line": {
              "color": "white"
             }
            },
            "type": "table"
           }
          ],
          "barpolar": [
           {
            "marker": {
             "line": {
              "color": "#E5ECF6",
              "width": 0.5
             },
             "pattern": {
              "fillmode": "overlay",
              "size": 10,
              "solidity": 0.2
             }
            },
            "type": "barpolar"
           }
          ],
          "pie": [
           {
            "automargin": true,
            "type": "pie"
           }
          ]
         },
         "layout": {
          "autotypenumbers": "strict",
          "colorway": [
           "#636efa",
           "#EF553B",
           "#00cc96",
           "#ab63fa",
           "#FFA15A",
           "#19d3f3",
           "#FF6692",
           "#B6E880",
           "#FF97FF",
           "#FECB52"
          ],
          "font": {
           "color": "#2a3f5f"
          },
          "hovermode": "closest",
          "hoverlabel": {
           "align": "left"
          },
          "paper_bgcolor": "white",
          "plot_bgcolor": "#E5ECF6",
          "polar": {
           "bgcolor": "#E5ECF6",
           "angularaxis": {
            "gridcolor": "white",
            "linecolor": "white",
            "ticks": ""
           },
           "radialaxis": {
            "gridcolor": "white",
            "linecolor": "white",
            "ticks": ""
           }
          },
          "ternary": {
           "bgcolor": "#E5ECF6",
           "aaxis": {
            "gridcolor": "white",
            "linecolor": "white",
            "ticks": ""
           },
           "baxis": {
            "gridcolor": "white",
            "linecolor": "white",
            "ticks": ""
           },
           "caxis": {
            "gridcolor": "white",
            "linecolor": "white",
            "ticks": ""
           }
          },
          "coloraxis": {
           "colorbar": {
            "outlinewidth": 0,
            "ticks": ""
           }
          },
          "colorscale": {
           "sequential": [
            [
             0.0,
             "#0d0887"
            ],
            [
             0.1111111111111111,
             "#46039f"
            ],
            [
             0.2222222222222222,
             "#7201a8"
            ],
            [
             0.3333333333333333,
             "#9c179e"
            ],
            [
             0.4444444444444444,
             "#bd3786"
            ],
            [
             0.5555555555555556,
             "#d8576b"
            ],
            [
             0.6666666666666666,
             "#ed7953"
            ],
            [
             0.7777777777777778,
             "#fb9f3a"
            ],
            [
             0.8888888888888888,
             "#fdca26"
            ],
            [
             1.0,
             "#f0f921"
            ]
           ],
           "sequentialminus": [
            [
             0.0,
             "#0d0887"
            ],
            [
             0.1111111111111111,
             "#46039f"
            ],
            [
             0.2222222222222222,
             "#7201a8"
            ],
            [
             0.3333333333333333,
             "#9c179e"
            ],
            [
             0.4444444444444444,
             "#bd3786"
            ],
            [
             0.5555555555555556,
             "#d8576b"
            ],
            [
             0.6666666666666666,
             "#ed7953"
            ],
            [
             0.7777777777777778,
             "#fb9f3a"
            ],
            [
             0.8888888888888888,
             "#fdca26"
            ],
            [
             1.0,
             "#f0f921"
            ]
           ],
           "diverging": [
            [
             0,
             "#8e0152"
            ],
            [
             0.1,
             "#c51b7d"
            ],
            [
             0.2,
             "#de77ae"
            ],
            [
             0.3,
             "#f1b6da"
            ],
            [
             0.4,
             "#fde0ef"
            ],
            [
             0.5,
             "#f7f7f7"
            ],
            [
             0.6,
             "#e6f5d0"
            ],
            [
             0.7,
             "#b8e186"
            ],
            [
             0.8,
             "#7fbc41"
            ],
            [
             0.9,
             "#4d9221"
            ],
            [
             1,
             "#276419"
            ]
           ]
          },
          "xaxis": {
           "gridcolor": "white",
           "linecolor": "white",
           "ticks": "",
           "title": {
            "standoff": 15
           },
           "zerolinecolor": "white",
           "automargin": true,
           "zerolinewidth": 2
          },
          "yaxis": {
           "gridcolor": "white",
           "linecolor": "white",
           "ticks": "",
           "title": {
            "standoff": 15
           },
           "zerolinecolor": "white",
           "automargin": true,
           "zerolinewidth": 2
          },
          "scene": {
           "xaxis": {
            "backgroundcolor": "#E5ECF6",
            "gridcolor": "white",
            "linecolor": "white",
            "showbackground": true,
            "ticks": "",
            "zerolinecolor": "white",
            "gridwidth": 2
           },
           "yaxis": {
            "backgroundcolor": "#E5ECF6",
            "gridcolor": "white",
            "linecolor": "white",
            "showbackground": true,
            "ticks": "",
            "zerolinecolor": "white",
            "gridwidth": 2
           },
           "zaxis": {
            "backgroundcolor": "#E5ECF6",
            "gridcolor": "white",
            "linecolor": "white",
            "showbackground": true,
            "ticks": "",
            "zerolinecolor": "white",
            "gridwidth": 2
           }
          },
          "shapedefaults": {
           "line": {
            "color": "#2a3f5f"
           }
          },
          "annotationdefaults": {
           "arrowcolor": "#2a3f5f",
           "arrowhead": 0,
           "arrowwidth": 1
          },
          "geo": {
           "bgcolor": "white",
           "landcolor": "#E5ECF6",
           "subunitcolor": "white",
           "showland": true,
           "showlakes": true,
           "lakecolor": "white"
          },
          "title": {
           "x": 0.05
          },
          "mapbox": {
           "style": "light"
          }
         }
        },
        "geo": {
         "domain": {
          "x": [
           0.0,
           1.0
          ],
          "y": [
           0.0,
           1.0
          ]
         },
         "center": {}
        },
        "coloraxis": {
         "colorbar": {
          "title": {
           "text": "Attack Count"
          }
         },
         "colorscale": [
          [
           0.0,
           "rgb(255,245,240)"
          ],
          [
           0.125,
           "rgb(254,224,210)"
          ],
          [
           0.25,
           "rgb(252,187,161)"
          ],
          [
           0.375,
           "rgb(252,146,114)"
          ],
          [
           0.5,
           "rgb(251,106,74)"
          ],
          [
           0.625,
           "rgb(239,59,44)"
          ],
          [
           0.75,
           "rgb(203,24,29)"
          ],
          [
           0.875,
           "rgb(165,15,21)"
          ],
          [
           1.0,
           "rgb(103,0,13)"
          ]
         ]
        },
        "legend": {
         "tracegroupgap": 0
        },
        "title": {
         "text": "Number of Attacks by Country"
        },
        "width": 1200,
        "height": 600
       },
       "config": {
        "plotlyServerURL": "https://plot.ly"
       }
      },
      "text/html": [
       "<div>                            <div id=\"11a85f89-5868-4995-be48-7442f152181b\" class=\"plotly-graph-div\" style=\"height:600px; width:1200px;\"></div>            <script type=\"text/javascript\">                require([\"plotly\"], function(Plotly) {                    window.PLOTLYENV=window.PLOTLYENV || {};                                    if (document.getElementById(\"11a85f89-5868-4995-be48-7442f152181b\")) {                    Plotly.newPlot(                        \"11a85f89-5868-4995-be48-7442f152181b\",                        [{\"coloraxis\":\"coloraxis\",\"geo\":\"geo\",\"hovertemplate\":\"country=%{location}\\u003cbr\\u003eAttack Count=%{z}\\u003cextra\\u003e\\u003c\\u002fextra\\u003e\",\"locationmode\":\"ISO-3\",\"locations\":[\"BRA\",\"CAN\",\"CHL\",\"CZE\",\"DNK\",\"ITA\",\"LVA\",\"MOZ\",\"NLD\",\"NOR\",\"REU\",\"ROU\",\"SVK\"],\"name\":\"\",\"z\":[5,4,3,1,2,3,1,1,1,4,1,35,1],\"type\":\"choropleth\"}],                        {\"template\":{\"data\":{\"histogram2dcontour\":[{\"type\":\"histogram2dcontour\",\"colorbar\":{\"outlinewidth\":0,\"ticks\":\"\"},\"colorscale\":[[0.0,\"#0d0887\"],[0.1111111111111111,\"#46039f\"],[0.2222222222222222,\"#7201a8\"],[0.3333333333333333,\"#9c179e\"],[0.4444444444444444,\"#bd3786\"],[0.5555555555555556,\"#d8576b\"],[0.6666666666666666,\"#ed7953\"],[0.7777777777777778,\"#fb9f3a\"],[0.8888888888888888,\"#fdca26\"],[1.0,\"#f0f921\"]]}],\"choropleth\":[{\"type\":\"choropleth\",\"colorbar\":{\"outlinewidth\":0,\"ticks\":\"\"}}],\"histogram2d\":[{\"type\":\"histogram2d\",\"colorbar\":{\"outlinewidth\":0,\"ticks\":\"\"},\"colorscale\":[[0.0,\"#0d0887\"],[0.1111111111111111,\"#46039f\"],[0.2222222222222222,\"#7201a8\"],[0.3333333333333333,\"#9c179e\"],[0.4444444444444444,\"#bd3786\"],[0.5555555555555556,\"#d8576b\"],[0.6666666666666666,\"#ed7953\"],[0.7777777777777778,\"#fb9f3a\"],[0.8888888888888888,\"#fdca26\"],[1.0,\"#f0f921\"]]}],\"heatmap\":[{\"type\":\"heatmap\",\"colorbar\":{\"outlinewidth\":0,\"ticks\":\"\"},\"colorscale\":[[0.0,\"#0d0887\"],[0.1111111111111111,\"#46039f\"],[0.2222222222222222,\"#7201a8\"],[0.3333333333333333,\"#9c179e\"],[0.4444444444444444,\"#bd3786\"],[0.5555555555555556,\"#d8576b\"],[0.6666666666666666,\"#ed7953\"],[0.7777777777777778,\"#fb9f3a\"],[0.8888888888888888,\"#fdca26\"],[1.0,\"#f0f921\"]]}],\"heatmapgl\":[{\"type\":\"heatmapgl\",\"colorbar\":{\"outlinewidth\":0,\"ticks\":\"\"},\"colorscale\":[[0.0,\"#0d0887\"],[0.1111111111111111,\"#46039f\"],[0.2222222222222222,\"#7201a8\"],[0.3333333333333333,\"#9c179e\"],[0.4444444444444444,\"#bd3786\"],[0.5555555555555556,\"#d8576b\"],[0.6666666666666666,\"#ed7953\"],[0.7777777777777778,\"#fb9f3a\"],[0.8888888888888888,\"#fdca26\"],[1.0,\"#f0f921\"]]}],\"contourcarpet\":[{\"type\":\"contourcarpet\",\"colorbar\":{\"outlinewidth\":0,\"ticks\":\"\"}}],\"contour\":[{\"type\":\"contour\",\"colorbar\":{\"outlinewidth\":0,\"ticks\":\"\"},\"colorscale\":[[0.0,\"#0d0887\"],[0.1111111111111111,\"#46039f\"],[0.2222222222222222,\"#7201a8\"],[0.3333333333333333,\"#9c179e\"],[0.4444444444444444,\"#bd3786\"],[0.5555555555555556,\"#d8576b\"],[0.6666666666666666,\"#ed7953\"],[0.7777777777777778,\"#fb9f3a\"],[0.8888888888888888,\"#fdca26\"],[1.0,\"#f0f921\"]]}],\"surface\":[{\"type\":\"surface\",\"colorbar\":{\"outlinewidth\":0,\"ticks\":\"\"},\"colorscale\":[[0.0,\"#0d0887\"],[0.1111111111111111,\"#46039f\"],[0.2222222222222222,\"#7201a8\"],[0.3333333333333333,\"#9c179e\"],[0.4444444444444444,\"#bd3786\"],[0.5555555555555556,\"#d8576b\"],[0.6666666666666666,\"#ed7953\"],[0.7777777777777778,\"#fb9f3a\"],[0.8888888888888888,\"#fdca26\"],[1.0,\"#f0f921\"]]}],\"mesh3d\":[{\"type\":\"mesh3d\",\"colorbar\":{\"outlinewidth\":0,\"ticks\":\"\"}}],\"scatter\":[{\"fillpattern\":{\"fillmode\":\"overlay\",\"size\":10,\"solidity\":0.2},\"type\":\"scatter\"}],\"parcoords\":[{\"type\":\"parcoords\",\"line\":{\"colorbar\":{\"outlinewidth\":0,\"ticks\":\"\"}}}],\"scatterpolargl\":[{\"type\":\"scatterpolargl\",\"marker\":{\"colorbar\":{\"outlinewidth\":0,\"ticks\":\"\"}}}],\"bar\":[{\"error_x\":{\"color\":\"#2a3f5f\"},\"error_y\":{\"color\":\"#2a3f5f\"},\"marker\":{\"line\":{\"color\":\"#E5ECF6\",\"width\":0.5},\"pattern\":{\"fillmode\":\"overlay\",\"size\":10,\"solidity\":0.2}},\"type\":\"bar\"}],\"scattergeo\":[{\"type\":\"scattergeo\",\"marker\":{\"colorbar\":{\"outlinewidth\":0,\"ticks\":\"\"}}}],\"scatterpolar\":[{\"type\":\"scatterpolar\",\"marker\":{\"colorbar\":{\"outlinewidth\":0,\"ticks\":\"\"}}}],\"histogram\":[{\"marker\":{\"pattern\":{\"fillmode\":\"overlay\",\"size\":10,\"solidity\":0.2}},\"type\":\"histogram\"}],\"scattergl\":[{\"type\":\"scattergl\",\"marker\":{\"colorbar\":{\"outlinewidth\":0,\"ticks\":\"\"}}}],\"scatter3d\":[{\"type\":\"scatter3d\",\"line\":{\"colorbar\":{\"outlinewidth\":0,\"ticks\":\"\"}},\"marker\":{\"colorbar\":{\"outlinewidth\":0,\"ticks\":\"\"}}}],\"scattermapbox\":[{\"type\":\"scattermapbox\",\"marker\":{\"colorbar\":{\"outlinewidth\":0,\"ticks\":\"\"}}}],\"scatterternary\":[{\"type\":\"scatterternary\",\"marker\":{\"colorbar\":{\"outlinewidth\":0,\"ticks\":\"\"}}}],\"scattercarpet\":[{\"type\":\"scattercarpet\",\"marker\":{\"colorbar\":{\"outlinewidth\":0,\"ticks\":\"\"}}}],\"carpet\":[{\"aaxis\":{\"endlinecolor\":\"#2a3f5f\",\"gridcolor\":\"white\",\"linecolor\":\"white\",\"minorgridcolor\":\"white\",\"startlinecolor\":\"#2a3f5f\"},\"baxis\":{\"endlinecolor\":\"#2a3f5f\",\"gridcolor\":\"white\",\"linecolor\":\"white\",\"minorgridcolor\":\"white\",\"startlinecolor\":\"#2a3f5f\"},\"type\":\"carpet\"}],\"table\":[{\"cells\":{\"fill\":{\"color\":\"#EBF0F8\"},\"line\":{\"color\":\"white\"}},\"header\":{\"fill\":{\"color\":\"#C8D4E3\"},\"line\":{\"color\":\"white\"}},\"type\":\"table\"}],\"barpolar\":[{\"marker\":{\"line\":{\"color\":\"#E5ECF6\",\"width\":0.5},\"pattern\":{\"fillmode\":\"overlay\",\"size\":10,\"solidity\":0.2}},\"type\":\"barpolar\"}],\"pie\":[{\"automargin\":true,\"type\":\"pie\"}]},\"layout\":{\"autotypenumbers\":\"strict\",\"colorway\":[\"#636efa\",\"#EF553B\",\"#00cc96\",\"#ab63fa\",\"#FFA15A\",\"#19d3f3\",\"#FF6692\",\"#B6E880\",\"#FF97FF\",\"#FECB52\"],\"font\":{\"color\":\"#2a3f5f\"},\"hovermode\":\"closest\",\"hoverlabel\":{\"align\":\"left\"},\"paper_bgcolor\":\"white\",\"plot_bgcolor\":\"#E5ECF6\",\"polar\":{\"bgcolor\":\"#E5ECF6\",\"angularaxis\":{\"gridcolor\":\"white\",\"linecolor\":\"white\",\"ticks\":\"\"},\"radialaxis\":{\"gridcolor\":\"white\",\"linecolor\":\"white\",\"ticks\":\"\"}},\"ternary\":{\"bgcolor\":\"#E5ECF6\",\"aaxis\":{\"gridcolor\":\"white\",\"linecolor\":\"white\",\"ticks\":\"\"},\"baxis\":{\"gridcolor\":\"white\",\"linecolor\":\"white\",\"ticks\":\"\"},\"caxis\":{\"gridcolor\":\"white\",\"linecolor\":\"white\",\"ticks\":\"\"}},\"coloraxis\":{\"colorbar\":{\"outlinewidth\":0,\"ticks\":\"\"}},\"colorscale\":{\"sequential\":[[0.0,\"#0d0887\"],[0.1111111111111111,\"#46039f\"],[0.2222222222222222,\"#7201a8\"],[0.3333333333333333,\"#9c179e\"],[0.4444444444444444,\"#bd3786\"],[0.5555555555555556,\"#d8576b\"],[0.6666666666666666,\"#ed7953\"],[0.7777777777777778,\"#fb9f3a\"],[0.8888888888888888,\"#fdca26\"],[1.0,\"#f0f921\"]],\"sequentialminus\":[[0.0,\"#0d0887\"],[0.1111111111111111,\"#46039f\"],[0.2222222222222222,\"#7201a8\"],[0.3333333333333333,\"#9c179e\"],[0.4444444444444444,\"#bd3786\"],[0.5555555555555556,\"#d8576b\"],[0.6666666666666666,\"#ed7953\"],[0.7777777777777778,\"#fb9f3a\"],[0.8888888888888888,\"#fdca26\"],[1.0,\"#f0f921\"]],\"diverging\":[[0,\"#8e0152\"],[0.1,\"#c51b7d\"],[0.2,\"#de77ae\"],[0.3,\"#f1b6da\"],[0.4,\"#fde0ef\"],[0.5,\"#f7f7f7\"],[0.6,\"#e6f5d0\"],[0.7,\"#b8e186\"],[0.8,\"#7fbc41\"],[0.9,\"#4d9221\"],[1,\"#276419\"]]},\"xaxis\":{\"gridcolor\":\"white\",\"linecolor\":\"white\",\"ticks\":\"\",\"title\":{\"standoff\":15},\"zerolinecolor\":\"white\",\"automargin\":true,\"zerolinewidth\":2},\"yaxis\":{\"gridcolor\":\"white\",\"linecolor\":\"white\",\"ticks\":\"\",\"title\":{\"standoff\":15},\"zerolinecolor\":\"white\",\"automargin\":true,\"zerolinewidth\":2},\"scene\":{\"xaxis\":{\"backgroundcolor\":\"#E5ECF6\",\"gridcolor\":\"white\",\"linecolor\":\"white\",\"showbackground\":true,\"ticks\":\"\",\"zerolinecolor\":\"white\",\"gridwidth\":2},\"yaxis\":{\"backgroundcolor\":\"#E5ECF6\",\"gridcolor\":\"white\",\"linecolor\":\"white\",\"showbackground\":true,\"ticks\":\"\",\"zerolinecolor\":\"white\",\"gridwidth\":2},\"zaxis\":{\"backgroundcolor\":\"#E5ECF6\",\"gridcolor\":\"white\",\"linecolor\":\"white\",\"showbackground\":true,\"ticks\":\"\",\"zerolinecolor\":\"white\",\"gridwidth\":2}},\"shapedefaults\":{\"line\":{\"color\":\"#2a3f5f\"}},\"annotationdefaults\":{\"arrowcolor\":\"#2a3f5f\",\"arrowhead\":0,\"arrowwidth\":1},\"geo\":{\"bgcolor\":\"white\",\"landcolor\":\"#E5ECF6\",\"subunitcolor\":\"white\",\"showland\":true,\"showlakes\":true,\"lakecolor\":\"white\"},\"title\":{\"x\":0.05},\"mapbox\":{\"style\":\"light\"}}},\"geo\":{\"domain\":{\"x\":[0.0,1.0],\"y\":[0.0,1.0]},\"center\":{}},\"coloraxis\":{\"colorbar\":{\"title\":{\"text\":\"Attack Count\"}},\"colorscale\":[[0.0,\"rgb(255,245,240)\"],[0.125,\"rgb(254,224,210)\"],[0.25,\"rgb(252,187,161)\"],[0.375,\"rgb(252,146,114)\"],[0.5,\"rgb(251,106,74)\"],[0.625,\"rgb(239,59,44)\"],[0.75,\"rgb(203,24,29)\"],[0.875,\"rgb(165,15,21)\"],[1.0,\"rgb(103,0,13)\"]]},\"legend\":{\"tracegroupgap\":0},\"title\":{\"text\":\"Number of Attacks by Country\"},\"width\":1200,\"height\":600},                        {\"responsive\": true}                    ).then(function(){\n",
       "                            \n",
       "var gd = document.getElementById('11a85f89-5868-4995-be48-7442f152181b');\n",
       "var x = new MutationObserver(function (mutations, observer) {{\n",
       "        var display = window.getComputedStyle(gd).display;\n",
       "        if (!display || display === 'none') {{\n",
       "            console.log([gd, 'removed!']);\n",
       "            Plotly.purge(gd);\n",
       "            observer.disconnect();\n",
       "        }}\n",
       "}});\n",
       "\n",
       "// Listen for the removal of the full notebook cells\n",
       "var notebookContainer = gd.closest('#notebook-container');\n",
       "if (notebookContainer) {{\n",
       "    x.observe(notebookContainer, {childList: true});\n",
       "}}\n",
       "\n",
       "// Listen for the clearing of the current output cell\n",
       "var outputEl = gd.closest('.output');\n",
       "if (outputEl) {{\n",
       "    x.observe(outputEl, {childList: true});\n",
       "}}\n",
       "\n",
       "                        })                };                });            </script>        </div>"
      ]
     },
     "metadata": {},
     "output_type": "display_data"
    }
   ],
   "execution_count": 67
  },
  {
   "metadata": {
    "ExecuteTime": {
     "end_time": "2024-12-14T13:29:11.725601Z",
     "start_time": "2024-12-14T13:29:11.719306Z"
    }
   },
   "cell_type": "code",
   "source": "normal_connections.sort_values(by='Connections Count' , ascending=False)",
   "id": "d49968fc8d8929f1",
   "outputs": [
    {
     "data": {
      "text/plain": [
       "   country  Connections Count\n",
       "7      NOR                 53\n",
       "10     USA                 21\n",
       "1      BRA                  5\n",
       "5      IDN                  4\n",
       "2      DEU                  3\n",
       "6      IND                  2\n",
       "8      POL                  2\n",
       "0      BGD                  1\n",
       "3      FIN                  1\n",
       "4      GBR                  1\n",
       "9      ROU                  1"
      ],
      "text/html": [
       "<div>\n",
       "<style scoped>\n",
       "    .dataframe tbody tr th:only-of-type {\n",
       "        vertical-align: middle;\n",
       "    }\n",
       "\n",
       "    .dataframe tbody tr th {\n",
       "        vertical-align: top;\n",
       "    }\n",
       "\n",
       "    .dataframe thead th {\n",
       "        text-align: right;\n",
       "    }\n",
       "</style>\n",
       "<table border=\"1\" class=\"dataframe\">\n",
       "  <thead>\n",
       "    <tr style=\"text-align: right;\">\n",
       "      <th></th>\n",
       "      <th>country</th>\n",
       "      <th>Connections Count</th>\n",
       "    </tr>\n",
       "  </thead>\n",
       "  <tbody>\n",
       "    <tr>\n",
       "      <th>7</th>\n",
       "      <td>NOR</td>\n",
       "      <td>53</td>\n",
       "    </tr>\n",
       "    <tr>\n",
       "      <th>10</th>\n",
       "      <td>USA</td>\n",
       "      <td>21</td>\n",
       "    </tr>\n",
       "    <tr>\n",
       "      <th>1</th>\n",
       "      <td>BRA</td>\n",
       "      <td>5</td>\n",
       "    </tr>\n",
       "    <tr>\n",
       "      <th>5</th>\n",
       "      <td>IDN</td>\n",
       "      <td>4</td>\n",
       "    </tr>\n",
       "    <tr>\n",
       "      <th>2</th>\n",
       "      <td>DEU</td>\n",
       "      <td>3</td>\n",
       "    </tr>\n",
       "    <tr>\n",
       "      <th>6</th>\n",
       "      <td>IND</td>\n",
       "      <td>2</td>\n",
       "    </tr>\n",
       "    <tr>\n",
       "      <th>8</th>\n",
       "      <td>POL</td>\n",
       "      <td>2</td>\n",
       "    </tr>\n",
       "    <tr>\n",
       "      <th>0</th>\n",
       "      <td>BGD</td>\n",
       "      <td>1</td>\n",
       "    </tr>\n",
       "    <tr>\n",
       "      <th>3</th>\n",
       "      <td>FIN</td>\n",
       "      <td>1</td>\n",
       "    </tr>\n",
       "    <tr>\n",
       "      <th>4</th>\n",
       "      <td>GBR</td>\n",
       "      <td>1</td>\n",
       "    </tr>\n",
       "    <tr>\n",
       "      <th>9</th>\n",
       "      <td>ROU</td>\n",
       "      <td>1</td>\n",
       "    </tr>\n",
       "  </tbody>\n",
       "</table>\n",
       "</div>"
      ]
     },
     "execution_count": 71,
     "metadata": {},
     "output_type": "execute_result"
    }
   ],
   "execution_count": 71
  },
  {
   "metadata": {
    "ExecuteTime": {
     "end_time": "2024-12-14T13:24:11.191297Z",
     "start_time": "2024-12-14T13:24:11.157468Z"
    }
   },
   "cell_type": "code",
   "source": [
    "fig = px.choropleth(\n",
    "    normal_connections,\n",
    "    locations=\"country\",\n",
    "    locationmode=\"ISO-3\",\n",
    "    color=\"Connections Count\",\n",
    "    title=\"Map of Normal Connections by Country\",\n",
    "    color_continuous_scale=\"Blues\"\n",
    ")\n",
    "fig.update_layout(\n",
    "    width=1200,\n",
    "    height=600\n",
    ")\n",
    "fig.show()"
   ],
   "id": "b94889f29f0c46ba",
   "outputs": [
    {
     "data": {
      "application/vnd.plotly.v1+json": {
       "data": [
        {
         "coloraxis": "coloraxis",
         "geo": "geo",
         "hovertemplate": "country=%{location}<br>Connections Count=%{z}<extra></extra>",
         "locationmode": "ISO-3",
         "locations": [
          "BGD",
          "BRA",
          "DEU",
          "FIN",
          "GBR",
          "IDN",
          "IND",
          "NOR",
          "POL",
          "ROU",
          "USA"
         ],
         "name": "",
         "z": [
          1,
          5,
          3,
          1,
          1,
          4,
          2,
          53,
          2,
          1,
          21
         ],
         "type": "choropleth"
        }
       ],
       "layout": {
        "template": {
         "data": {
          "histogram2dcontour": [
           {
            "type": "histogram2dcontour",
            "colorbar": {
             "outlinewidth": 0,
             "ticks": ""
            },
            "colorscale": [
             [
              0.0,
              "#0d0887"
             ],
             [
              0.1111111111111111,
              "#46039f"
             ],
             [
              0.2222222222222222,
              "#7201a8"
             ],
             [
              0.3333333333333333,
              "#9c179e"
             ],
             [
              0.4444444444444444,
              "#bd3786"
             ],
             [
              0.5555555555555556,
              "#d8576b"
             ],
             [
              0.6666666666666666,
              "#ed7953"
             ],
             [
              0.7777777777777778,
              "#fb9f3a"
             ],
             [
              0.8888888888888888,
              "#fdca26"
             ],
             [
              1.0,
              "#f0f921"
             ]
            ]
           }
          ],
          "choropleth": [
           {
            "type": "choropleth",
            "colorbar": {
             "outlinewidth": 0,
             "ticks": ""
            }
           }
          ],
          "histogram2d": [
           {
            "type": "histogram2d",
            "colorbar": {
             "outlinewidth": 0,
             "ticks": ""
            },
            "colorscale": [
             [
              0.0,
              "#0d0887"
             ],
             [
              0.1111111111111111,
              "#46039f"
             ],
             [
              0.2222222222222222,
              "#7201a8"
             ],
             [
              0.3333333333333333,
              "#9c179e"
             ],
             [
              0.4444444444444444,
              "#bd3786"
             ],
             [
              0.5555555555555556,
              "#d8576b"
             ],
             [
              0.6666666666666666,
              "#ed7953"
             ],
             [
              0.7777777777777778,
              "#fb9f3a"
             ],
             [
              0.8888888888888888,
              "#fdca26"
             ],
             [
              1.0,
              "#f0f921"
             ]
            ]
           }
          ],
          "heatmap": [
           {
            "type": "heatmap",
            "colorbar": {
             "outlinewidth": 0,
             "ticks": ""
            },
            "colorscale": [
             [
              0.0,
              "#0d0887"
             ],
             [
              0.1111111111111111,
              "#46039f"
             ],
             [
              0.2222222222222222,
              "#7201a8"
             ],
             [
              0.3333333333333333,
              "#9c179e"
             ],
             [
              0.4444444444444444,
              "#bd3786"
             ],
             [
              0.5555555555555556,
              "#d8576b"
             ],
             [
              0.6666666666666666,
              "#ed7953"
             ],
             [
              0.7777777777777778,
              "#fb9f3a"
             ],
             [
              0.8888888888888888,
              "#fdca26"
             ],
             [
              1.0,
              "#f0f921"
             ]
            ]
           }
          ],
          "heatmapgl": [
           {
            "type": "heatmapgl",
            "colorbar": {
             "outlinewidth": 0,
             "ticks": ""
            },
            "colorscale": [
             [
              0.0,
              "#0d0887"
             ],
             [
              0.1111111111111111,
              "#46039f"
             ],
             [
              0.2222222222222222,
              "#7201a8"
             ],
             [
              0.3333333333333333,
              "#9c179e"
             ],
             [
              0.4444444444444444,
              "#bd3786"
             ],
             [
              0.5555555555555556,
              "#d8576b"
             ],
             [
              0.6666666666666666,
              "#ed7953"
             ],
             [
              0.7777777777777778,
              "#fb9f3a"
             ],
             [
              0.8888888888888888,
              "#fdca26"
             ],
             [
              1.0,
              "#f0f921"
             ]
            ]
           }
          ],
          "contourcarpet": [
           {
            "type": "contourcarpet",
            "colorbar": {
             "outlinewidth": 0,
             "ticks": ""
            }
           }
          ],
          "contour": [
           {
            "type": "contour",
            "colorbar": {
             "outlinewidth": 0,
             "ticks": ""
            },
            "colorscale": [
             [
              0.0,
              "#0d0887"
             ],
             [
              0.1111111111111111,
              "#46039f"
             ],
             [
              0.2222222222222222,
              "#7201a8"
             ],
             [
              0.3333333333333333,
              "#9c179e"
             ],
             [
              0.4444444444444444,
              "#bd3786"
             ],
             [
              0.5555555555555556,
              "#d8576b"
             ],
             [
              0.6666666666666666,
              "#ed7953"
             ],
             [
              0.7777777777777778,
              "#fb9f3a"
             ],
             [
              0.8888888888888888,
              "#fdca26"
             ],
             [
              1.0,
              "#f0f921"
             ]
            ]
           }
          ],
          "surface": [
           {
            "type": "surface",
            "colorbar": {
             "outlinewidth": 0,
             "ticks": ""
            },
            "colorscale": [
             [
              0.0,
              "#0d0887"
             ],
             [
              0.1111111111111111,
              "#46039f"
             ],
             [
              0.2222222222222222,
              "#7201a8"
             ],
             [
              0.3333333333333333,
              "#9c179e"
             ],
             [
              0.4444444444444444,
              "#bd3786"
             ],
             [
              0.5555555555555556,
              "#d8576b"
             ],
             [
              0.6666666666666666,
              "#ed7953"
             ],
             [
              0.7777777777777778,
              "#fb9f3a"
             ],
             [
              0.8888888888888888,
              "#fdca26"
             ],
             [
              1.0,
              "#f0f921"
             ]
            ]
           }
          ],
          "mesh3d": [
           {
            "type": "mesh3d",
            "colorbar": {
             "outlinewidth": 0,
             "ticks": ""
            }
           }
          ],
          "scatter": [
           {
            "fillpattern": {
             "fillmode": "overlay",
             "size": 10,
             "solidity": 0.2
            },
            "type": "scatter"
           }
          ],
          "parcoords": [
           {
            "type": "parcoords",
            "line": {
             "colorbar": {
              "outlinewidth": 0,
              "ticks": ""
             }
            }
           }
          ],
          "scatterpolargl": [
           {
            "type": "scatterpolargl",
            "marker": {
             "colorbar": {
              "outlinewidth": 0,
              "ticks": ""
             }
            }
           }
          ],
          "bar": [
           {
            "error_x": {
             "color": "#2a3f5f"
            },
            "error_y": {
             "color": "#2a3f5f"
            },
            "marker": {
             "line": {
              "color": "#E5ECF6",
              "width": 0.5
             },
             "pattern": {
              "fillmode": "overlay",
              "size": 10,
              "solidity": 0.2
             }
            },
            "type": "bar"
           }
          ],
          "scattergeo": [
           {
            "type": "scattergeo",
            "marker": {
             "colorbar": {
              "outlinewidth": 0,
              "ticks": ""
             }
            }
           }
          ],
          "scatterpolar": [
           {
            "type": "scatterpolar",
            "marker": {
             "colorbar": {
              "outlinewidth": 0,
              "ticks": ""
             }
            }
           }
          ],
          "histogram": [
           {
            "marker": {
             "pattern": {
              "fillmode": "overlay",
              "size": 10,
              "solidity": 0.2
             }
            },
            "type": "histogram"
           }
          ],
          "scattergl": [
           {
            "type": "scattergl",
            "marker": {
             "colorbar": {
              "outlinewidth": 0,
              "ticks": ""
             }
            }
           }
          ],
          "scatter3d": [
           {
            "type": "scatter3d",
            "line": {
             "colorbar": {
              "outlinewidth": 0,
              "ticks": ""
             }
            },
            "marker": {
             "colorbar": {
              "outlinewidth": 0,
              "ticks": ""
             }
            }
           }
          ],
          "scattermapbox": [
           {
            "type": "scattermapbox",
            "marker": {
             "colorbar": {
              "outlinewidth": 0,
              "ticks": ""
             }
            }
           }
          ],
          "scatterternary": [
           {
            "type": "scatterternary",
            "marker": {
             "colorbar": {
              "outlinewidth": 0,
              "ticks": ""
             }
            }
           }
          ],
          "scattercarpet": [
           {
            "type": "scattercarpet",
            "marker": {
             "colorbar": {
              "outlinewidth": 0,
              "ticks": ""
             }
            }
           }
          ],
          "carpet": [
           {
            "aaxis": {
             "endlinecolor": "#2a3f5f",
             "gridcolor": "white",
             "linecolor": "white",
             "minorgridcolor": "white",
             "startlinecolor": "#2a3f5f"
            },
            "baxis": {
             "endlinecolor": "#2a3f5f",
             "gridcolor": "white",
             "linecolor": "white",
             "minorgridcolor": "white",
             "startlinecolor": "#2a3f5f"
            },
            "type": "carpet"
           }
          ],
          "table": [
           {
            "cells": {
             "fill": {
              "color": "#EBF0F8"
             },
             "line": {
              "color": "white"
             }
            },
            "header": {
             "fill": {
              "color": "#C8D4E3"
             },
             "line": {
              "color": "white"
             }
            },
            "type": "table"
           }
          ],
          "barpolar": [
           {
            "marker": {
             "line": {
              "color": "#E5ECF6",
              "width": 0.5
             },
             "pattern": {
              "fillmode": "overlay",
              "size": 10,
              "solidity": 0.2
             }
            },
            "type": "barpolar"
           }
          ],
          "pie": [
           {
            "automargin": true,
            "type": "pie"
           }
          ]
         },
         "layout": {
          "autotypenumbers": "strict",
          "colorway": [
           "#636efa",
           "#EF553B",
           "#00cc96",
           "#ab63fa",
           "#FFA15A",
           "#19d3f3",
           "#FF6692",
           "#B6E880",
           "#FF97FF",
           "#FECB52"
          ],
          "font": {
           "color": "#2a3f5f"
          },
          "hovermode": "closest",
          "hoverlabel": {
           "align": "left"
          },
          "paper_bgcolor": "white",
          "plot_bgcolor": "#E5ECF6",
          "polar": {
           "bgcolor": "#E5ECF6",
           "angularaxis": {
            "gridcolor": "white",
            "linecolor": "white",
            "ticks": ""
           },
           "radialaxis": {
            "gridcolor": "white",
            "linecolor": "white",
            "ticks": ""
           }
          },
          "ternary": {
           "bgcolor": "#E5ECF6",
           "aaxis": {
            "gridcolor": "white",
            "linecolor": "white",
            "ticks": ""
           },
           "baxis": {
            "gridcolor": "white",
            "linecolor": "white",
            "ticks": ""
           },
           "caxis": {
            "gridcolor": "white",
            "linecolor": "white",
            "ticks": ""
           }
          },
          "coloraxis": {
           "colorbar": {
            "outlinewidth": 0,
            "ticks": ""
           }
          },
          "colorscale": {
           "sequential": [
            [
             0.0,
             "#0d0887"
            ],
            [
             0.1111111111111111,
             "#46039f"
            ],
            [
             0.2222222222222222,
             "#7201a8"
            ],
            [
             0.3333333333333333,
             "#9c179e"
            ],
            [
             0.4444444444444444,
             "#bd3786"
            ],
            [
             0.5555555555555556,
             "#d8576b"
            ],
            [
             0.6666666666666666,
             "#ed7953"
            ],
            [
             0.7777777777777778,
             "#fb9f3a"
            ],
            [
             0.8888888888888888,
             "#fdca26"
            ],
            [
             1.0,
             "#f0f921"
            ]
           ],
           "sequentialminus": [
            [
             0.0,
             "#0d0887"
            ],
            [
             0.1111111111111111,
             "#46039f"
            ],
            [
             0.2222222222222222,
             "#7201a8"
            ],
            [
             0.3333333333333333,
             "#9c179e"
            ],
            [
             0.4444444444444444,
             "#bd3786"
            ],
            [
             0.5555555555555556,
             "#d8576b"
            ],
            [
             0.6666666666666666,
             "#ed7953"
            ],
            [
             0.7777777777777778,
             "#fb9f3a"
            ],
            [
             0.8888888888888888,
             "#fdca26"
            ],
            [
             1.0,
             "#f0f921"
            ]
           ],
           "diverging": [
            [
             0,
             "#8e0152"
            ],
            [
             0.1,
             "#c51b7d"
            ],
            [
             0.2,
             "#de77ae"
            ],
            [
             0.3,
             "#f1b6da"
            ],
            [
             0.4,
             "#fde0ef"
            ],
            [
             0.5,
             "#f7f7f7"
            ],
            [
             0.6,
             "#e6f5d0"
            ],
            [
             0.7,
             "#b8e186"
            ],
            [
             0.8,
             "#7fbc41"
            ],
            [
             0.9,
             "#4d9221"
            ],
            [
             1,
             "#276419"
            ]
           ]
          },
          "xaxis": {
           "gridcolor": "white",
           "linecolor": "white",
           "ticks": "",
           "title": {
            "standoff": 15
           },
           "zerolinecolor": "white",
           "automargin": true,
           "zerolinewidth": 2
          },
          "yaxis": {
           "gridcolor": "white",
           "linecolor": "white",
           "ticks": "",
           "title": {
            "standoff": 15
           },
           "zerolinecolor": "white",
           "automargin": true,
           "zerolinewidth": 2
          },
          "scene": {
           "xaxis": {
            "backgroundcolor": "#E5ECF6",
            "gridcolor": "white",
            "linecolor": "white",
            "showbackground": true,
            "ticks": "",
            "zerolinecolor": "white",
            "gridwidth": 2
           },
           "yaxis": {
            "backgroundcolor": "#E5ECF6",
            "gridcolor": "white",
            "linecolor": "white",
            "showbackground": true,
            "ticks": "",
            "zerolinecolor": "white",
            "gridwidth": 2
           },
           "zaxis": {
            "backgroundcolor": "#E5ECF6",
            "gridcolor": "white",
            "linecolor": "white",
            "showbackground": true,
            "ticks": "",
            "zerolinecolor": "white",
            "gridwidth": 2
           }
          },
          "shapedefaults": {
           "line": {
            "color": "#2a3f5f"
           }
          },
          "annotationdefaults": {
           "arrowcolor": "#2a3f5f",
           "arrowhead": 0,
           "arrowwidth": 1
          },
          "geo": {
           "bgcolor": "white",
           "landcolor": "#E5ECF6",
           "subunitcolor": "white",
           "showland": true,
           "showlakes": true,
           "lakecolor": "white"
          },
          "title": {
           "x": 0.05
          },
          "mapbox": {
           "style": "light"
          }
         }
        },
        "geo": {
         "domain": {
          "x": [
           0.0,
           1.0
          ],
          "y": [
           0.0,
           1.0
          ]
         },
         "center": {}
        },
        "coloraxis": {
         "colorbar": {
          "title": {
           "text": "Connections Count"
          }
         },
         "colorscale": [
          [
           0.0,
           "rgb(247,251,255)"
          ],
          [
           0.125,
           "rgb(222,235,247)"
          ],
          [
           0.25,
           "rgb(198,219,239)"
          ],
          [
           0.375,
           "rgb(158,202,225)"
          ],
          [
           0.5,
           "rgb(107,174,214)"
          ],
          [
           0.625,
           "rgb(66,146,198)"
          ],
          [
           0.75,
           "rgb(33,113,181)"
          ],
          [
           0.875,
           "rgb(8,81,156)"
          ],
          [
           1.0,
           "rgb(8,48,107)"
          ]
         ]
        },
        "legend": {
         "tracegroupgap": 0
        },
        "title": {
         "text": "Map of Normal Connections by Country"
        },
        "width": 1200,
        "height": 600
       },
       "config": {
        "plotlyServerURL": "https://plot.ly"
       }
      },
      "text/html": [
       "<div>                            <div id=\"c3982b5a-88ac-4c2b-91c9-1fb340ffcaf0\" class=\"plotly-graph-div\" style=\"height:600px; width:1200px;\"></div>            <script type=\"text/javascript\">                require([\"plotly\"], function(Plotly) {                    window.PLOTLYENV=window.PLOTLYENV || {};                                    if (document.getElementById(\"c3982b5a-88ac-4c2b-91c9-1fb340ffcaf0\")) {                    Plotly.newPlot(                        \"c3982b5a-88ac-4c2b-91c9-1fb340ffcaf0\",                        [{\"coloraxis\":\"coloraxis\",\"geo\":\"geo\",\"hovertemplate\":\"country=%{location}\\u003cbr\\u003eConnections Count=%{z}\\u003cextra\\u003e\\u003c\\u002fextra\\u003e\",\"locationmode\":\"ISO-3\",\"locations\":[\"BGD\",\"BRA\",\"DEU\",\"FIN\",\"GBR\",\"IDN\",\"IND\",\"NOR\",\"POL\",\"ROU\",\"USA\"],\"name\":\"\",\"z\":[1,5,3,1,1,4,2,53,2,1,21],\"type\":\"choropleth\"}],                        {\"template\":{\"data\":{\"histogram2dcontour\":[{\"type\":\"histogram2dcontour\",\"colorbar\":{\"outlinewidth\":0,\"ticks\":\"\"},\"colorscale\":[[0.0,\"#0d0887\"],[0.1111111111111111,\"#46039f\"],[0.2222222222222222,\"#7201a8\"],[0.3333333333333333,\"#9c179e\"],[0.4444444444444444,\"#bd3786\"],[0.5555555555555556,\"#d8576b\"],[0.6666666666666666,\"#ed7953\"],[0.7777777777777778,\"#fb9f3a\"],[0.8888888888888888,\"#fdca26\"],[1.0,\"#f0f921\"]]}],\"choropleth\":[{\"type\":\"choropleth\",\"colorbar\":{\"outlinewidth\":0,\"ticks\":\"\"}}],\"histogram2d\":[{\"type\":\"histogram2d\",\"colorbar\":{\"outlinewidth\":0,\"ticks\":\"\"},\"colorscale\":[[0.0,\"#0d0887\"],[0.1111111111111111,\"#46039f\"],[0.2222222222222222,\"#7201a8\"],[0.3333333333333333,\"#9c179e\"],[0.4444444444444444,\"#bd3786\"],[0.5555555555555556,\"#d8576b\"],[0.6666666666666666,\"#ed7953\"],[0.7777777777777778,\"#fb9f3a\"],[0.8888888888888888,\"#fdca26\"],[1.0,\"#f0f921\"]]}],\"heatmap\":[{\"type\":\"heatmap\",\"colorbar\":{\"outlinewidth\":0,\"ticks\":\"\"},\"colorscale\":[[0.0,\"#0d0887\"],[0.1111111111111111,\"#46039f\"],[0.2222222222222222,\"#7201a8\"],[0.3333333333333333,\"#9c179e\"],[0.4444444444444444,\"#bd3786\"],[0.5555555555555556,\"#d8576b\"],[0.6666666666666666,\"#ed7953\"],[0.7777777777777778,\"#fb9f3a\"],[0.8888888888888888,\"#fdca26\"],[1.0,\"#f0f921\"]]}],\"heatmapgl\":[{\"type\":\"heatmapgl\",\"colorbar\":{\"outlinewidth\":0,\"ticks\":\"\"},\"colorscale\":[[0.0,\"#0d0887\"],[0.1111111111111111,\"#46039f\"],[0.2222222222222222,\"#7201a8\"],[0.3333333333333333,\"#9c179e\"],[0.4444444444444444,\"#bd3786\"],[0.5555555555555556,\"#d8576b\"],[0.6666666666666666,\"#ed7953\"],[0.7777777777777778,\"#fb9f3a\"],[0.8888888888888888,\"#fdca26\"],[1.0,\"#f0f921\"]]}],\"contourcarpet\":[{\"type\":\"contourcarpet\",\"colorbar\":{\"outlinewidth\":0,\"ticks\":\"\"}}],\"contour\":[{\"type\":\"contour\",\"colorbar\":{\"outlinewidth\":0,\"ticks\":\"\"},\"colorscale\":[[0.0,\"#0d0887\"],[0.1111111111111111,\"#46039f\"],[0.2222222222222222,\"#7201a8\"],[0.3333333333333333,\"#9c179e\"],[0.4444444444444444,\"#bd3786\"],[0.5555555555555556,\"#d8576b\"],[0.6666666666666666,\"#ed7953\"],[0.7777777777777778,\"#fb9f3a\"],[0.8888888888888888,\"#fdca26\"],[1.0,\"#f0f921\"]]}],\"surface\":[{\"type\":\"surface\",\"colorbar\":{\"outlinewidth\":0,\"ticks\":\"\"},\"colorscale\":[[0.0,\"#0d0887\"],[0.1111111111111111,\"#46039f\"],[0.2222222222222222,\"#7201a8\"],[0.3333333333333333,\"#9c179e\"],[0.4444444444444444,\"#bd3786\"],[0.5555555555555556,\"#d8576b\"],[0.6666666666666666,\"#ed7953\"],[0.7777777777777778,\"#fb9f3a\"],[0.8888888888888888,\"#fdca26\"],[1.0,\"#f0f921\"]]}],\"mesh3d\":[{\"type\":\"mesh3d\",\"colorbar\":{\"outlinewidth\":0,\"ticks\":\"\"}}],\"scatter\":[{\"fillpattern\":{\"fillmode\":\"overlay\",\"size\":10,\"solidity\":0.2},\"type\":\"scatter\"}],\"parcoords\":[{\"type\":\"parcoords\",\"line\":{\"colorbar\":{\"outlinewidth\":0,\"ticks\":\"\"}}}],\"scatterpolargl\":[{\"type\":\"scatterpolargl\",\"marker\":{\"colorbar\":{\"outlinewidth\":0,\"ticks\":\"\"}}}],\"bar\":[{\"error_x\":{\"color\":\"#2a3f5f\"},\"error_y\":{\"color\":\"#2a3f5f\"},\"marker\":{\"line\":{\"color\":\"#E5ECF6\",\"width\":0.5},\"pattern\":{\"fillmode\":\"overlay\",\"size\":10,\"solidity\":0.2}},\"type\":\"bar\"}],\"scattergeo\":[{\"type\":\"scattergeo\",\"marker\":{\"colorbar\":{\"outlinewidth\":0,\"ticks\":\"\"}}}],\"scatterpolar\":[{\"type\":\"scatterpolar\",\"marker\":{\"colorbar\":{\"outlinewidth\":0,\"ticks\":\"\"}}}],\"histogram\":[{\"marker\":{\"pattern\":{\"fillmode\":\"overlay\",\"size\":10,\"solidity\":0.2}},\"type\":\"histogram\"}],\"scattergl\":[{\"type\":\"scattergl\",\"marker\":{\"colorbar\":{\"outlinewidth\":0,\"ticks\":\"\"}}}],\"scatter3d\":[{\"type\":\"scatter3d\",\"line\":{\"colorbar\":{\"outlinewidth\":0,\"ticks\":\"\"}},\"marker\":{\"colorbar\":{\"outlinewidth\":0,\"ticks\":\"\"}}}],\"scattermapbox\":[{\"type\":\"scattermapbox\",\"marker\":{\"colorbar\":{\"outlinewidth\":0,\"ticks\":\"\"}}}],\"scatterternary\":[{\"type\":\"scatterternary\",\"marker\":{\"colorbar\":{\"outlinewidth\":0,\"ticks\":\"\"}}}],\"scattercarpet\":[{\"type\":\"scattercarpet\",\"marker\":{\"colorbar\":{\"outlinewidth\":0,\"ticks\":\"\"}}}],\"carpet\":[{\"aaxis\":{\"endlinecolor\":\"#2a3f5f\",\"gridcolor\":\"white\",\"linecolor\":\"white\",\"minorgridcolor\":\"white\",\"startlinecolor\":\"#2a3f5f\"},\"baxis\":{\"endlinecolor\":\"#2a3f5f\",\"gridcolor\":\"white\",\"linecolor\":\"white\",\"minorgridcolor\":\"white\",\"startlinecolor\":\"#2a3f5f\"},\"type\":\"carpet\"}],\"table\":[{\"cells\":{\"fill\":{\"color\":\"#EBF0F8\"},\"line\":{\"color\":\"white\"}},\"header\":{\"fill\":{\"color\":\"#C8D4E3\"},\"line\":{\"color\":\"white\"}},\"type\":\"table\"}],\"barpolar\":[{\"marker\":{\"line\":{\"color\":\"#E5ECF6\",\"width\":0.5},\"pattern\":{\"fillmode\":\"overlay\",\"size\":10,\"solidity\":0.2}},\"type\":\"barpolar\"}],\"pie\":[{\"automargin\":true,\"type\":\"pie\"}]},\"layout\":{\"autotypenumbers\":\"strict\",\"colorway\":[\"#636efa\",\"#EF553B\",\"#00cc96\",\"#ab63fa\",\"#FFA15A\",\"#19d3f3\",\"#FF6692\",\"#B6E880\",\"#FF97FF\",\"#FECB52\"],\"font\":{\"color\":\"#2a3f5f\"},\"hovermode\":\"closest\",\"hoverlabel\":{\"align\":\"left\"},\"paper_bgcolor\":\"white\",\"plot_bgcolor\":\"#E5ECF6\",\"polar\":{\"bgcolor\":\"#E5ECF6\",\"angularaxis\":{\"gridcolor\":\"white\",\"linecolor\":\"white\",\"ticks\":\"\"},\"radialaxis\":{\"gridcolor\":\"white\",\"linecolor\":\"white\",\"ticks\":\"\"}},\"ternary\":{\"bgcolor\":\"#E5ECF6\",\"aaxis\":{\"gridcolor\":\"white\",\"linecolor\":\"white\",\"ticks\":\"\"},\"baxis\":{\"gridcolor\":\"white\",\"linecolor\":\"white\",\"ticks\":\"\"},\"caxis\":{\"gridcolor\":\"white\",\"linecolor\":\"white\",\"ticks\":\"\"}},\"coloraxis\":{\"colorbar\":{\"outlinewidth\":0,\"ticks\":\"\"}},\"colorscale\":{\"sequential\":[[0.0,\"#0d0887\"],[0.1111111111111111,\"#46039f\"],[0.2222222222222222,\"#7201a8\"],[0.3333333333333333,\"#9c179e\"],[0.4444444444444444,\"#bd3786\"],[0.5555555555555556,\"#d8576b\"],[0.6666666666666666,\"#ed7953\"],[0.7777777777777778,\"#fb9f3a\"],[0.8888888888888888,\"#fdca26\"],[1.0,\"#f0f921\"]],\"sequentialminus\":[[0.0,\"#0d0887\"],[0.1111111111111111,\"#46039f\"],[0.2222222222222222,\"#7201a8\"],[0.3333333333333333,\"#9c179e\"],[0.4444444444444444,\"#bd3786\"],[0.5555555555555556,\"#d8576b\"],[0.6666666666666666,\"#ed7953\"],[0.7777777777777778,\"#fb9f3a\"],[0.8888888888888888,\"#fdca26\"],[1.0,\"#f0f921\"]],\"diverging\":[[0,\"#8e0152\"],[0.1,\"#c51b7d\"],[0.2,\"#de77ae\"],[0.3,\"#f1b6da\"],[0.4,\"#fde0ef\"],[0.5,\"#f7f7f7\"],[0.6,\"#e6f5d0\"],[0.7,\"#b8e186\"],[0.8,\"#7fbc41\"],[0.9,\"#4d9221\"],[1,\"#276419\"]]},\"xaxis\":{\"gridcolor\":\"white\",\"linecolor\":\"white\",\"ticks\":\"\",\"title\":{\"standoff\":15},\"zerolinecolor\":\"white\",\"automargin\":true,\"zerolinewidth\":2},\"yaxis\":{\"gridcolor\":\"white\",\"linecolor\":\"white\",\"ticks\":\"\",\"title\":{\"standoff\":15},\"zerolinecolor\":\"white\",\"automargin\":true,\"zerolinewidth\":2},\"scene\":{\"xaxis\":{\"backgroundcolor\":\"#E5ECF6\",\"gridcolor\":\"white\",\"linecolor\":\"white\",\"showbackground\":true,\"ticks\":\"\",\"zerolinecolor\":\"white\",\"gridwidth\":2},\"yaxis\":{\"backgroundcolor\":\"#E5ECF6\",\"gridcolor\":\"white\",\"linecolor\":\"white\",\"showbackground\":true,\"ticks\":\"\",\"zerolinecolor\":\"white\",\"gridwidth\":2},\"zaxis\":{\"backgroundcolor\":\"#E5ECF6\",\"gridcolor\":\"white\",\"linecolor\":\"white\",\"showbackground\":true,\"ticks\":\"\",\"zerolinecolor\":\"white\",\"gridwidth\":2}},\"shapedefaults\":{\"line\":{\"color\":\"#2a3f5f\"}},\"annotationdefaults\":{\"arrowcolor\":\"#2a3f5f\",\"arrowhead\":0,\"arrowwidth\":1},\"geo\":{\"bgcolor\":\"white\",\"landcolor\":\"#E5ECF6\",\"subunitcolor\":\"white\",\"showland\":true,\"showlakes\":true,\"lakecolor\":\"white\"},\"title\":{\"x\":0.05},\"mapbox\":{\"style\":\"light\"}}},\"geo\":{\"domain\":{\"x\":[0.0,1.0],\"y\":[0.0,1.0]},\"center\":{}},\"coloraxis\":{\"colorbar\":{\"title\":{\"text\":\"Connections Count\"}},\"colorscale\":[[0.0,\"rgb(247,251,255)\"],[0.125,\"rgb(222,235,247)\"],[0.25,\"rgb(198,219,239)\"],[0.375,\"rgb(158,202,225)\"],[0.5,\"rgb(107,174,214)\"],[0.625,\"rgb(66,146,198)\"],[0.75,\"rgb(33,113,181)\"],[0.875,\"rgb(8,81,156)\"],[1.0,\"rgb(8,48,107)\"]]},\"legend\":{\"tracegroupgap\":0},\"title\":{\"text\":\"Map of Normal Connections by Country\"},\"width\":1200,\"height\":600},                        {\"responsive\": true}                    ).then(function(){\n",
       "                            \n",
       "var gd = document.getElementById('c3982b5a-88ac-4c2b-91c9-1fb340ffcaf0');\n",
       "var x = new MutationObserver(function (mutations, observer) {{\n",
       "        var display = window.getComputedStyle(gd).display;\n",
       "        if (!display || display === 'none') {{\n",
       "            console.log([gd, 'removed!']);\n",
       "            Plotly.purge(gd);\n",
       "            observer.disconnect();\n",
       "        }}\n",
       "}});\n",
       "\n",
       "// Listen for the removal of the full notebook cells\n",
       "var notebookContainer = gd.closest('#notebook-container');\n",
       "if (notebookContainer) {{\n",
       "    x.observe(notebookContainer, {childList: true});\n",
       "}}\n",
       "\n",
       "// Listen for the clearing of the current output cell\n",
       "var outputEl = gd.closest('.output');\n",
       "if (outputEl) {{\n",
       "    x.observe(outputEl, {childList: true});\n",
       "}}\n",
       "\n",
       "                        })                };                });            </script>        </div>"
      ]
     },
     "metadata": {},
     "output_type": "display_data"
    }
   ],
   "execution_count": 68
  },
  {
   "metadata": {},
   "cell_type": "code",
   "outputs": [],
   "execution_count": null,
   "source": "## Data Cleaning",
   "id": "5dbae2413a2ac60a"
  },
  {
   "metadata": {
    "ExecuteTime": {
     "end_time": "2024-12-09T20:22:15.657771Z",
     "start_time": "2024-12-09T20:22:15.635243Z"
    }
   },
   "cell_type": "code",
   "source": "data[data['Is Account Takeover'] == True].count()",
   "id": "1e3e1e2e46f52096",
   "outputs": [
    {
     "data": {
      "text/plain": [
       "index                       62\n",
       "Login Timestamp             62\n",
       "User ID                     62\n",
       "Round-Trip Time [ms]         1\n",
       "IP Address                  62\n",
       "Country                     62\n",
       "Region                      61\n",
       "City                        62\n",
       "ASN                         62\n",
       "User Agent String           62\n",
       "Browser Name and Version    62\n",
       "OS Name and Version         62\n",
       "Device Type                 62\n",
       "Login Successful            62\n",
       "Is Attack IP                62\n",
       "Is Account Takeover         62\n",
       "dtype: int64"
      ]
     },
     "execution_count": 26,
     "metadata": {},
     "output_type": "execute_result"
    }
   ],
   "execution_count": 26
  },
  {
   "metadata": {
    "ExecuteTime": {
     "end_time": "2024-12-13T13:50:07.839482Z",
     "start_time": "2024-12-13T13:50:06.893669Z"
    }
   },
   "cell_type": "code",
   "source": "data['Browser Name and Version'].value_counts().sort_values()",
   "id": "21b4db08c8998f7a",
   "outputs": [
    {
     "data": {
      "text/plain": [
       "Browser Name and Version\n",
       "Firefox 20.0.0.1794              1\n",
       "NetFront NX                      1\n",
       "Chrome 80.0.3987.252.261         1\n",
       "Iron 66.0.3450.1128              1\n",
       "Chrome 90.0.4411.597             1\n",
       "                             ...  \n",
       "Android 2.3.3.2660          310794\n",
       "Opera Mobile 52.1.2254      340211\n",
       "Chrome 84.0.4147.338.339    346107\n",
       "Chrome Mobile 81.0.4044     573373\n",
       "ZipppBot 0.11               665514\n",
       "Name: count, Length: 3654, dtype: int64"
      ]
     },
     "execution_count": 11,
     "metadata": {},
     "output_type": "execute_result"
    }
   ],
   "execution_count": 11
  },
  {
   "metadata": {
    "ExecuteTime": {
     "end_time": "2024-12-13T13:47:14.309475Z",
     "start_time": "2024-12-13T13:47:14.304774Z"
    }
   },
   "cell_type": "code",
   "outputs": [
    {
     "data": {
      "text/plain": [
       "<bound method Series.all of index                         int64\n",
       "Login Timestamp              object\n",
       "User ID                       int64\n",
       "Round-Trip Time [ms]        float64\n",
       "IP Address                   object\n",
       "Country                      object\n",
       "Region                       object\n",
       "City                         object\n",
       "ASN                           int64\n",
       "User Agent String            object\n",
       "Browser Name and Version     object\n",
       "OS Name and Version          object\n",
       "Device Type                  object\n",
       "Login Successful               bool\n",
       "Is Attack IP                   bool\n",
       "Is Account Takeover            bool\n",
       "dtype: object>"
      ]
     },
     "execution_count": 5,
     "metadata": {},
     "output_type": "execute_result"
    }
   ],
   "execution_count": 5,
   "source": "data.dtypes.all",
   "id": "2b0503f8e59c89b0"
  },
  {
   "cell_type": "code",
   "id": "61ea881b-0db0-4d4f-8539-5cf09b8c61a6",
   "metadata": {
    "ExecuteTime": {
     "end_time": "2024-12-09T20:22:16.133810Z",
     "start_time": "2024-12-09T20:22:15.712716Z"
    }
   },
   "source": "data['Device Type'].unique()",
   "outputs": [
    {
     "data": {
      "text/plain": [
       "array(['mobile', 'desktop', 'tablet', 'bot', 'unknown', nan], dtype=object)"
      ]
     },
     "execution_count": 27,
     "metadata": {},
     "output_type": "execute_result"
    }
   ],
   "execution_count": 27
  },
  {
   "cell_type": "code",
   "id": "721c63d8-3635-42bd-8cfa-613fc060ef71",
   "metadata": {
    "ExecuteTime": {
     "end_time": "2024-12-09T20:22:16.207289Z",
     "start_time": "2024-12-09T20:22:16.185955Z"
    }
   },
   "source": [
    "takeovers = data[data['Is Account Takeover'] == True]\n",
    "takeovers"
   ],
   "outputs": [
    {
     "data": {
      "text/plain": [
       "             index          Login Timestamp              User ID  \\\n",
       "482034      482034  2020-02-10 05:51:00.938 -5783801028078876142   \n",
       "100085      100085  2020-02-04 17:15:42.743 -6380256063165146454   \n",
       "482102      482102  2020-02-10 05:52:45.031  6969491805167028251   \n",
       "482566      482566  2020-02-10 06:05:11.464  5780471454460598558   \n",
       "82873        82873  2020-02-04 13:45:50.280  5519106287451092780   \n",
       "...            ...                      ...                  ...   \n",
       "19207631  19207631  2020-10-27 06:38:53.830 -3972673265324911418   \n",
       "20623917  20623917  2020-11-13 08:13:22.285  -249028206650900290   \n",
       "20397967  20397967  2020-11-10 15:37:46.485 -7106532841606442929   \n",
       "20700950  20700950  2020-11-14 07:06:48.691 -1639909578889655226   \n",
       "21266387  21266387  2020-11-19 20:49:04.263 -4655135911852100550   \n",
       "\n",
       "          Round-Trip Time [ms]     IP Address Country                Region  \\\n",
       "482034                     NaN    2.56.166.10      RO                     -   \n",
       "100085                     NaN   31.131.16.24      RO                     -   \n",
       "482102                     NaN    2.56.166.10      RO                     -   \n",
       "482566                     NaN    2.56.166.10      RO                     -   \n",
       "82873                      NaN     10.4.1.162      IT  Provincia di Treviso   \n",
       "...                        ...            ...     ...                   ...   \n",
       "19207631                   NaN  5.180.170.179      RO                     -   \n",
       "20623917                   NaN  91.220.63.239      RO             Bucuresti   \n",
       "20397967                   NaN    10.4.97.148      RO                Braila   \n",
       "20700950                   NaN  5.180.170.198      RO                     -   \n",
       "21266387                   NaN   10.3.193.223      BR                     -   \n",
       "\n",
       "               City     ASN  \\\n",
       "482034            -    3280   \n",
       "100085            -   56851   \n",
       "482102            -    3280   \n",
       "482566            -    3280   \n",
       "82873       Treviso  503109   \n",
       "...             ...     ...   \n",
       "19207631          -  206801   \n",
       "20623917  Bucharest  197357   \n",
       "20397967     Braila   61353   \n",
       "20700950          -  206801   \n",
       "21266387          -  500106   \n",
       "\n",
       "                                          User Agent String  \\\n",
       "482034    Mozilla/5.0 (Macintosh; Intel Mac OS X 10_14_6...   \n",
       "100085    Mozilla/5.0  (X11; CrOS armv7l 5978.98.0) Appl...   \n",
       "482102    Mozilla/5.0 (Macintosh; Intel Mac OS X 10_14_6...   \n",
       "482566    Mozilla/5.0 (Macintosh; Intel Mac OS X 10_14_6...   \n",
       "82873     Mozilla/5.0 (Macintosh; Intel Mac OS X 10_14_6...   \n",
       "...                                                     ...   \n",
       "19207631  Mozilla/5.0 (Macintosh; Intel Mac OS X 10_14_6...   \n",
       "20623917  Mozilla/5.0  (iPhone; CPU iPhone OS 13_4 like ...   \n",
       "20397967  Mozilla/5.0 (Macintosh; Intel Mac OS X 10_14_6...   \n",
       "20700950  Mozilla/5.0 (Macintosh; Intel Mac OS X 10_14_6...   \n",
       "21266387  Mozilla/5.0  (iPad; CPU OS 7_1 like Mac OS X) ...   \n",
       "\n",
       "              Browser Name and Version  OS Name and Version Device Type  \\\n",
       "482034        Chrome 79.0.3945.192.218     Mac OS X 10.14.6     desktop   \n",
       "100085          Chrome 71.0.3578.40.50  Chrome OS 5978.98.0     desktop   \n",
       "482102        Chrome 79.0.3945.192.218     Mac OS X 10.14.6     desktop   \n",
       "482566        Chrome 79.0.3945.192.218     Mac OS X 10.14.6     desktop   \n",
       "82873         Chrome 79.0.3945.192.218     Mac OS X 10.14.6     desktop   \n",
       "...                                ...                  ...         ...   \n",
       "19207631      Chrome 79.0.3945.192.205     Mac OS X 10.14.6     desktop   \n",
       "20623917  Chrome Mobile 81.0.4044.1927             iOS 13.4      mobile   \n",
       "20397967      Chrome 79.0.3945.192.218     Mac OS X 10.14.6     desktop   \n",
       "20700950      Chrome 79.0.3945.192.205     Mac OS X 10.14.6     desktop   \n",
       "21266387            Android 2.3.3.2672              iOS 7.1      mobile   \n",
       "\n",
       "          Login Successful  Is Attack IP  Is Account Takeover  \n",
       "482034                True          True                 True  \n",
       "100085                True          True                 True  \n",
       "482102                True          True                 True  \n",
       "482566                True          True                 True  \n",
       "82873                 True         False                 True  \n",
       "...                    ...           ...                  ...  \n",
       "19207631              True          True                 True  \n",
       "20623917              True          True                 True  \n",
       "20397967              True         False                 True  \n",
       "20700950              True          True                 True  \n",
       "21266387              True         False                 True  \n",
       "\n",
       "[62 rows x 16 columns]"
      ],
      "text/html": [
       "<div>\n",
       "<style scoped>\n",
       "    .dataframe tbody tr th:only-of-type {\n",
       "        vertical-align: middle;\n",
       "    }\n",
       "\n",
       "    .dataframe tbody tr th {\n",
       "        vertical-align: top;\n",
       "    }\n",
       "\n",
       "    .dataframe thead th {\n",
       "        text-align: right;\n",
       "    }\n",
       "</style>\n",
       "<table border=\"1\" class=\"dataframe\">\n",
       "  <thead>\n",
       "    <tr style=\"text-align: right;\">\n",
       "      <th></th>\n",
       "      <th>index</th>\n",
       "      <th>Login Timestamp</th>\n",
       "      <th>User ID</th>\n",
       "      <th>Round-Trip Time [ms]</th>\n",
       "      <th>IP Address</th>\n",
       "      <th>Country</th>\n",
       "      <th>Region</th>\n",
       "      <th>City</th>\n",
       "      <th>ASN</th>\n",
       "      <th>User Agent String</th>\n",
       "      <th>Browser Name and Version</th>\n",
       "      <th>OS Name and Version</th>\n",
       "      <th>Device Type</th>\n",
       "      <th>Login Successful</th>\n",
       "      <th>Is Attack IP</th>\n",
       "      <th>Is Account Takeover</th>\n",
       "    </tr>\n",
       "  </thead>\n",
       "  <tbody>\n",
       "    <tr>\n",
       "      <th>482034</th>\n",
       "      <td>482034</td>\n",
       "      <td>2020-02-10 05:51:00.938</td>\n",
       "      <td>-5783801028078876142</td>\n",
       "      <td>NaN</td>\n",
       "      <td>2.56.166.10</td>\n",
       "      <td>RO</td>\n",
       "      <td>-</td>\n",
       "      <td>-</td>\n",
       "      <td>3280</td>\n",
       "      <td>Mozilla/5.0 (Macintosh; Intel Mac OS X 10_14_6...</td>\n",
       "      <td>Chrome 79.0.3945.192.218</td>\n",
       "      <td>Mac OS X 10.14.6</td>\n",
       "      <td>desktop</td>\n",
       "      <td>True</td>\n",
       "      <td>True</td>\n",
       "      <td>True</td>\n",
       "    </tr>\n",
       "    <tr>\n",
       "      <th>100085</th>\n",
       "      <td>100085</td>\n",
       "      <td>2020-02-04 17:15:42.743</td>\n",
       "      <td>-6380256063165146454</td>\n",
       "      <td>NaN</td>\n",
       "      <td>31.131.16.24</td>\n",
       "      <td>RO</td>\n",
       "      <td>-</td>\n",
       "      <td>-</td>\n",
       "      <td>56851</td>\n",
       "      <td>Mozilla/5.0  (X11; CrOS armv7l 5978.98.0) Appl...</td>\n",
       "      <td>Chrome 71.0.3578.40.50</td>\n",
       "      <td>Chrome OS 5978.98.0</td>\n",
       "      <td>desktop</td>\n",
       "      <td>True</td>\n",
       "      <td>True</td>\n",
       "      <td>True</td>\n",
       "    </tr>\n",
       "    <tr>\n",
       "      <th>482102</th>\n",
       "      <td>482102</td>\n",
       "      <td>2020-02-10 05:52:45.031</td>\n",
       "      <td>6969491805167028251</td>\n",
       "      <td>NaN</td>\n",
       "      <td>2.56.166.10</td>\n",
       "      <td>RO</td>\n",
       "      <td>-</td>\n",
       "      <td>-</td>\n",
       "      <td>3280</td>\n",
       "      <td>Mozilla/5.0 (Macintosh; Intel Mac OS X 10_14_6...</td>\n",
       "      <td>Chrome 79.0.3945.192.218</td>\n",
       "      <td>Mac OS X 10.14.6</td>\n",
       "      <td>desktop</td>\n",
       "      <td>True</td>\n",
       "      <td>True</td>\n",
       "      <td>True</td>\n",
       "    </tr>\n",
       "    <tr>\n",
       "      <th>482566</th>\n",
       "      <td>482566</td>\n",
       "      <td>2020-02-10 06:05:11.464</td>\n",
       "      <td>5780471454460598558</td>\n",
       "      <td>NaN</td>\n",
       "      <td>2.56.166.10</td>\n",
       "      <td>RO</td>\n",
       "      <td>-</td>\n",
       "      <td>-</td>\n",
       "      <td>3280</td>\n",
       "      <td>Mozilla/5.0 (Macintosh; Intel Mac OS X 10_14_6...</td>\n",
       "      <td>Chrome 79.0.3945.192.218</td>\n",
       "      <td>Mac OS X 10.14.6</td>\n",
       "      <td>desktop</td>\n",
       "      <td>True</td>\n",
       "      <td>True</td>\n",
       "      <td>True</td>\n",
       "    </tr>\n",
       "    <tr>\n",
       "      <th>82873</th>\n",
       "      <td>82873</td>\n",
       "      <td>2020-02-04 13:45:50.280</td>\n",
       "      <td>5519106287451092780</td>\n",
       "      <td>NaN</td>\n",
       "      <td>10.4.1.162</td>\n",
       "      <td>IT</td>\n",
       "      <td>Provincia di Treviso</td>\n",
       "      <td>Treviso</td>\n",
       "      <td>503109</td>\n",
       "      <td>Mozilla/5.0 (Macintosh; Intel Mac OS X 10_14_6...</td>\n",
       "      <td>Chrome 79.0.3945.192.218</td>\n",
       "      <td>Mac OS X 10.14.6</td>\n",
       "      <td>desktop</td>\n",
       "      <td>True</td>\n",
       "      <td>False</td>\n",
       "      <td>True</td>\n",
       "    </tr>\n",
       "    <tr>\n",
       "      <th>...</th>\n",
       "      <td>...</td>\n",
       "      <td>...</td>\n",
       "      <td>...</td>\n",
       "      <td>...</td>\n",
       "      <td>...</td>\n",
       "      <td>...</td>\n",
       "      <td>...</td>\n",
       "      <td>...</td>\n",
       "      <td>...</td>\n",
       "      <td>...</td>\n",
       "      <td>...</td>\n",
       "      <td>...</td>\n",
       "      <td>...</td>\n",
       "      <td>...</td>\n",
       "      <td>...</td>\n",
       "      <td>...</td>\n",
       "    </tr>\n",
       "    <tr>\n",
       "      <th>19207631</th>\n",
       "      <td>19207631</td>\n",
       "      <td>2020-10-27 06:38:53.830</td>\n",
       "      <td>-3972673265324911418</td>\n",
       "      <td>NaN</td>\n",
       "      <td>5.180.170.179</td>\n",
       "      <td>RO</td>\n",
       "      <td>-</td>\n",
       "      <td>-</td>\n",
       "      <td>206801</td>\n",
       "      <td>Mozilla/5.0 (Macintosh; Intel Mac OS X 10_14_6...</td>\n",
       "      <td>Chrome 79.0.3945.192.205</td>\n",
       "      <td>Mac OS X 10.14.6</td>\n",
       "      <td>desktop</td>\n",
       "      <td>True</td>\n",
       "      <td>True</td>\n",
       "      <td>True</td>\n",
       "    </tr>\n",
       "    <tr>\n",
       "      <th>20623917</th>\n",
       "      <td>20623917</td>\n",
       "      <td>2020-11-13 08:13:22.285</td>\n",
       "      <td>-249028206650900290</td>\n",
       "      <td>NaN</td>\n",
       "      <td>91.220.63.239</td>\n",
       "      <td>RO</td>\n",
       "      <td>Bucuresti</td>\n",
       "      <td>Bucharest</td>\n",
       "      <td>197357</td>\n",
       "      <td>Mozilla/5.0  (iPhone; CPU iPhone OS 13_4 like ...</td>\n",
       "      <td>Chrome Mobile 81.0.4044.1927</td>\n",
       "      <td>iOS 13.4</td>\n",
       "      <td>mobile</td>\n",
       "      <td>True</td>\n",
       "      <td>True</td>\n",
       "      <td>True</td>\n",
       "    </tr>\n",
       "    <tr>\n",
       "      <th>20397967</th>\n",
       "      <td>20397967</td>\n",
       "      <td>2020-11-10 15:37:46.485</td>\n",
       "      <td>-7106532841606442929</td>\n",
       "      <td>NaN</td>\n",
       "      <td>10.4.97.148</td>\n",
       "      <td>RO</td>\n",
       "      <td>Braila</td>\n",
       "      <td>Braila</td>\n",
       "      <td>61353</td>\n",
       "      <td>Mozilla/5.0 (Macintosh; Intel Mac OS X 10_14_6...</td>\n",
       "      <td>Chrome 79.0.3945.192.218</td>\n",
       "      <td>Mac OS X 10.14.6</td>\n",
       "      <td>desktop</td>\n",
       "      <td>True</td>\n",
       "      <td>False</td>\n",
       "      <td>True</td>\n",
       "    </tr>\n",
       "    <tr>\n",
       "      <th>20700950</th>\n",
       "      <td>20700950</td>\n",
       "      <td>2020-11-14 07:06:48.691</td>\n",
       "      <td>-1639909578889655226</td>\n",
       "      <td>NaN</td>\n",
       "      <td>5.180.170.198</td>\n",
       "      <td>RO</td>\n",
       "      <td>-</td>\n",
       "      <td>-</td>\n",
       "      <td>206801</td>\n",
       "      <td>Mozilla/5.0 (Macintosh; Intel Mac OS X 10_14_6...</td>\n",
       "      <td>Chrome 79.0.3945.192.205</td>\n",
       "      <td>Mac OS X 10.14.6</td>\n",
       "      <td>desktop</td>\n",
       "      <td>True</td>\n",
       "      <td>True</td>\n",
       "      <td>True</td>\n",
       "    </tr>\n",
       "    <tr>\n",
       "      <th>21266387</th>\n",
       "      <td>21266387</td>\n",
       "      <td>2020-11-19 20:49:04.263</td>\n",
       "      <td>-4655135911852100550</td>\n",
       "      <td>NaN</td>\n",
       "      <td>10.3.193.223</td>\n",
       "      <td>BR</td>\n",
       "      <td>-</td>\n",
       "      <td>-</td>\n",
       "      <td>500106</td>\n",
       "      <td>Mozilla/5.0  (iPad; CPU OS 7_1 like Mac OS X) ...</td>\n",
       "      <td>Android 2.3.3.2672</td>\n",
       "      <td>iOS 7.1</td>\n",
       "      <td>mobile</td>\n",
       "      <td>True</td>\n",
       "      <td>False</td>\n",
       "      <td>True</td>\n",
       "    </tr>\n",
       "  </tbody>\n",
       "</table>\n",
       "<p>62 rows × 16 columns</p>\n",
       "</div>"
      ]
     },
     "execution_count": 28,
     "metadata": {},
     "output_type": "execute_result"
    }
   ],
   "execution_count": 28
  },
  {
   "cell_type": "code",
   "id": "fb79719c-9ce8-4c54-a08e-dd008e4d836e",
   "metadata": {
    "ExecuteTime": {
     "end_time": "2024-12-09T20:22:22.546780Z",
     "start_time": "2024-12-09T20:22:16.361742Z"
    }
   },
   "source": "data.isnull().sum()",
   "outputs": [
    {
     "data": {
      "text/plain": [
       "index                              0\n",
       "Login Timestamp                    0\n",
       "User ID                            0\n",
       "Round-Trip Time [ms]        11997894\n",
       "IP Address                         0\n",
       "Country                            0\n",
       "Region                         19000\n",
       "City                            3392\n",
       "ASN                                0\n",
       "User Agent String                  0\n",
       "Browser Name and Version           0\n",
       "OS Name and Version                0\n",
       "Device Type                      629\n",
       "Login Successful                   0\n",
       "Is Attack IP                       0\n",
       "Is Account Takeover                0\n",
       "dtype: int64"
      ]
     },
     "execution_count": 29,
     "metadata": {},
     "output_type": "execute_result"
    }
   ],
   "execution_count": 29
  },
  {
   "metadata": {},
   "cell_type": "code",
   "outputs": [],
   "execution_count": null,
   "source": "##",
   "id": "8fcd455de880b631"
  },
  {
   "metadata": {},
   "cell_type": "markdown",
   "source": "# Data Preprocessing",
   "id": "a337358d53848f12"
  },
  {
   "metadata": {},
   "cell_type": "markdown",
   "source": "### Extracting Time Data",
   "id": "8188f5df4fb3a27"
  },
  {
   "metadata": {
    "ExecuteTime": {
     "end_time": "2024-12-09T20:22:26.122983Z",
     "start_time": "2024-12-09T20:22:22.598479Z"
    }
   },
   "cell_type": "code",
   "source": "data['Login Timestamp'] = pd.to_datetime(data['Login Timestamp'], errors='coerce')",
   "id": "5903225d775a1a30",
   "outputs": [],
   "execution_count": 30
  },
  {
   "metadata": {
    "jupyter": {
     "is_executing": true
    },
    "ExecuteTime": {
     "start_time": "2024-12-09T20:22:26.148486Z"
    }
   },
   "cell_type": "code",
   "source": [
    "data['Hour'] = data['Login Timestamp'].dt.hour\n",
    "data['DayOfWeek'] = data['Login Timestamp'].dt.day_name()\n",
    "data"
   ],
   "id": "18578eca41842ae1",
   "outputs": [],
   "execution_count": null
  },
  {
   "metadata": {},
   "cell_type": "markdown",
   "source": "### Extracting geography Data",
   "id": "eb6b095886d8a0ec"
  },
  {
   "metadata": {
    "ExecuteTime": {
     "end_time": "2024-12-09T20:14:54.067017Z",
     "start_time": "2024-12-09T20:14:53.560289Z"
    }
   },
   "cell_type": "code",
   "source": [
    "data.fillna({'City': 'Unknown'}, inplace=True)\n",
    "data"
   ],
   "id": "5352c7424412c45a",
   "outputs": [
    {
     "data": {
      "text/plain": [
       "             index         Login Timestamp              User ID  \\\n",
       "276826      276826 2020-02-07 03:43:03.472  -296285440039579456   \n",
       "849425      849425 2020-02-14 14:49:09.146 -8972452956627396509   \n",
       "504499      504499 2020-02-10 11:21:27.828   272548560383834071   \n",
       "601054      601054 2020-02-11 12:30:44.886 -2923701650951217243   \n",
       "980221      980221 2020-02-16 12:31:08.564 -5786250162433249151   \n",
       "...            ...                     ...                  ...   \n",
       "31019674  31019674 2021-02-25 19:03:47.699 -4324475583306591935   \n",
       "31140991  31140991 2021-02-27 09:39:13.844 -4324475583306591935   \n",
       "31195418  31195418 2021-02-28 02:21:01.374 -4324475583306591935   \n",
       "31245900  31245900 2021-02-28 16:26:26.859 -4324475583306591935   \n",
       "31102146  31102146 2021-02-26 18:09:19.473 -4324475583306591935   \n",
       "\n",
       "          Round-Trip Time [ms]      IP Address Country       Region  \\\n",
       "276826                     NaN    170.39.78.86      US            -   \n",
       "849425                     NaN  176.107.139.65      PL      Mazovia   \n",
       "504499                     NaN  84.208.208.127      NO     Rogaland   \n",
       "601054                     NaN   38.135.39.175      US            -   \n",
       "980221                     NaN    170.39.76.62      US            -   \n",
       "...                        ...             ...     ...          ...   \n",
       "31019674                   NaN    10.0.181.214      JP            -   \n",
       "31140991                   NaN    170.39.78.36      US            -   \n",
       "31195418                   NaN    10.0.181.209      CA       Quebec   \n",
       "31245900                   NaN     10.0.77.230      NO  Oslo County   \n",
       "31102146                   NaN     199.26.84.7      US            -   \n",
       "\n",
       "               City     ASN  \\\n",
       "276826            -  393398   \n",
       "849425       Warsaw  205727   \n",
       "504499    Stavanger   41164   \n",
       "601054            -  393398   \n",
       "980221            -  393398   \n",
       "...             ...     ...   \n",
       "31019674          -  262582   \n",
       "31140991          -  393398   \n",
       "31195418  Inverness  262582   \n",
       "31245900       Oslo   29695   \n",
       "31102146          -  393398   \n",
       "\n",
       "                                          User Agent String  \\\n",
       "276826    Mozilla/5.0  (Android 6.0.99; Tablet; https://...   \n",
       "849425    Mozilla/5.0  (iPhone; CPU iPhone OS 11_2_6 lik...   \n",
       "504499    Mozilla/5.0  (Macintosh; Intel Mac OS X 10_14_...   \n",
       "601054    Mozilla/5.0  (Linux; Android 4.1; Galaxy Nexus...   \n",
       "980221    Mozilla/5.0  (iPhone; CPU iPhone OS 13_1_3 lik...   \n",
       "...                                                     ...   \n",
       "31019674  Mozilla/5.0  (Macintosh; Intel Mac OS X 11_6_3...   \n",
       "31140991  Mozilla/5.0  (Linux; U; Android 2.2) AppleWebK...   \n",
       "31195418  Mozilla/5.0  (Macintosh; Intel Mac OS X 11_6_3...   \n",
       "31245900       AwarioSmartBot/1.0  (en-us) variation/294821   \n",
       "31102146  Mozilla/5.0  (Linux; Android 4.1; Galaxy Nexus...   \n",
       "\n",
       "                   Browser Name and Version OS Name and Version Device Type  \\\n",
       "276826         Chrome Mobile 81.0.4044.1949      Android 6.0.99      mobile   \n",
       "849425              Chrome Mobile 81.0.4044          iOS 11.2.6      mobile   \n",
       "504499                     Chrome 73.0.3654    Mac OS X 10.14.6     desktop   \n",
       "601054              Chrome Mobile 50.0.2661         Android 4.1      mobile   \n",
       "980221    Chrome Mobile 80.0.3987.3058.3070          iOS 13.1.3      mobile   \n",
       "...                                     ...                 ...         ...   \n",
       "31019674                Chrome 72.0.3626.82     Mac OS X 11.6.3     desktop   \n",
       "31140991            Chrome Mobile 86.0.4240         Android 2.2      mobile   \n",
       "31195418                Chrome 72.0.3626.82     Mac OS X 11.6.3     desktop   \n",
       "31245900                 AwarioSmartBot 1.0              Other      unknown   \n",
       "31102146            Chrome Mobile 63.0.3239         Android 4.1      mobile   \n",
       "\n",
       "          Login Successful  Is Attack IP  Is Account Takeover  Hour DayOfWeek  \n",
       "276826               False         False                False     3    Friday  \n",
       "849425               False         False                False    14    Friday  \n",
       "504499               False         False                False    11    Monday  \n",
       "601054                True          True                False    12   Tuesday  \n",
       "980221               False         False                False    12    Sunday  \n",
       "...                    ...           ...                  ...   ...       ...  \n",
       "31019674             False         False                False    19  Thursday  \n",
       "31140991             False         False                False     9  Saturday  \n",
       "31195418             False         False                False     2    Sunday  \n",
       "31245900             False         False                False    16    Sunday  \n",
       "31102146             False         False                False    18    Friday  \n",
       "\n",
       "[3126926 rows x 18 columns]"
      ],
      "text/html": [
       "<div>\n",
       "<style scoped>\n",
       "    .dataframe tbody tr th:only-of-type {\n",
       "        vertical-align: middle;\n",
       "    }\n",
       "\n",
       "    .dataframe tbody tr th {\n",
       "        vertical-align: top;\n",
       "    }\n",
       "\n",
       "    .dataframe thead th {\n",
       "        text-align: right;\n",
       "    }\n",
       "</style>\n",
       "<table border=\"1\" class=\"dataframe\">\n",
       "  <thead>\n",
       "    <tr style=\"text-align: right;\">\n",
       "      <th></th>\n",
       "      <th>index</th>\n",
       "      <th>Login Timestamp</th>\n",
       "      <th>User ID</th>\n",
       "      <th>Round-Trip Time [ms]</th>\n",
       "      <th>IP Address</th>\n",
       "      <th>Country</th>\n",
       "      <th>Region</th>\n",
       "      <th>City</th>\n",
       "      <th>ASN</th>\n",
       "      <th>User Agent String</th>\n",
       "      <th>Browser Name and Version</th>\n",
       "      <th>OS Name and Version</th>\n",
       "      <th>Device Type</th>\n",
       "      <th>Login Successful</th>\n",
       "      <th>Is Attack IP</th>\n",
       "      <th>Is Account Takeover</th>\n",
       "      <th>Hour</th>\n",
       "      <th>DayOfWeek</th>\n",
       "    </tr>\n",
       "  </thead>\n",
       "  <tbody>\n",
       "    <tr>\n",
       "      <th>276826</th>\n",
       "      <td>276826</td>\n",
       "      <td>2020-02-07 03:43:03.472</td>\n",
       "      <td>-296285440039579456</td>\n",
       "      <td>NaN</td>\n",
       "      <td>170.39.78.86</td>\n",
       "      <td>US</td>\n",
       "      <td>-</td>\n",
       "      <td>-</td>\n",
       "      <td>393398</td>\n",
       "      <td>Mozilla/5.0  (Android 6.0.99; Tablet; https://...</td>\n",
       "      <td>Chrome Mobile 81.0.4044.1949</td>\n",
       "      <td>Android 6.0.99</td>\n",
       "      <td>mobile</td>\n",
       "      <td>False</td>\n",
       "      <td>False</td>\n",
       "      <td>False</td>\n",
       "      <td>3</td>\n",
       "      <td>Friday</td>\n",
       "    </tr>\n",
       "    <tr>\n",
       "      <th>849425</th>\n",
       "      <td>849425</td>\n",
       "      <td>2020-02-14 14:49:09.146</td>\n",
       "      <td>-8972452956627396509</td>\n",
       "      <td>NaN</td>\n",
       "      <td>176.107.139.65</td>\n",
       "      <td>PL</td>\n",
       "      <td>Mazovia</td>\n",
       "      <td>Warsaw</td>\n",
       "      <td>205727</td>\n",
       "      <td>Mozilla/5.0  (iPhone; CPU iPhone OS 11_2_6 lik...</td>\n",
       "      <td>Chrome Mobile 81.0.4044</td>\n",
       "      <td>iOS 11.2.6</td>\n",
       "      <td>mobile</td>\n",
       "      <td>False</td>\n",
       "      <td>False</td>\n",
       "      <td>False</td>\n",
       "      <td>14</td>\n",
       "      <td>Friday</td>\n",
       "    </tr>\n",
       "    <tr>\n",
       "      <th>504499</th>\n",
       "      <td>504499</td>\n",
       "      <td>2020-02-10 11:21:27.828</td>\n",
       "      <td>272548560383834071</td>\n",
       "      <td>NaN</td>\n",
       "      <td>84.208.208.127</td>\n",
       "      <td>NO</td>\n",
       "      <td>Rogaland</td>\n",
       "      <td>Stavanger</td>\n",
       "      <td>41164</td>\n",
       "      <td>Mozilla/5.0  (Macintosh; Intel Mac OS X 10_14_...</td>\n",
       "      <td>Chrome 73.0.3654</td>\n",
       "      <td>Mac OS X 10.14.6</td>\n",
       "      <td>desktop</td>\n",
       "      <td>False</td>\n",
       "      <td>False</td>\n",
       "      <td>False</td>\n",
       "      <td>11</td>\n",
       "      <td>Monday</td>\n",
       "    </tr>\n",
       "    <tr>\n",
       "      <th>601054</th>\n",
       "      <td>601054</td>\n",
       "      <td>2020-02-11 12:30:44.886</td>\n",
       "      <td>-2923701650951217243</td>\n",
       "      <td>NaN</td>\n",
       "      <td>38.135.39.175</td>\n",
       "      <td>US</td>\n",
       "      <td>-</td>\n",
       "      <td>-</td>\n",
       "      <td>393398</td>\n",
       "      <td>Mozilla/5.0  (Linux; Android 4.1; Galaxy Nexus...</td>\n",
       "      <td>Chrome Mobile 50.0.2661</td>\n",
       "      <td>Android 4.1</td>\n",
       "      <td>mobile</td>\n",
       "      <td>True</td>\n",
       "      <td>True</td>\n",
       "      <td>False</td>\n",
       "      <td>12</td>\n",
       "      <td>Tuesday</td>\n",
       "    </tr>\n",
       "    <tr>\n",
       "      <th>980221</th>\n",
       "      <td>980221</td>\n",
       "      <td>2020-02-16 12:31:08.564</td>\n",
       "      <td>-5786250162433249151</td>\n",
       "      <td>NaN</td>\n",
       "      <td>170.39.76.62</td>\n",
       "      <td>US</td>\n",
       "      <td>-</td>\n",
       "      <td>-</td>\n",
       "      <td>393398</td>\n",
       "      <td>Mozilla/5.0  (iPhone; CPU iPhone OS 13_1_3 lik...</td>\n",
       "      <td>Chrome Mobile 80.0.3987.3058.3070</td>\n",
       "      <td>iOS 13.1.3</td>\n",
       "      <td>mobile</td>\n",
       "      <td>False</td>\n",
       "      <td>False</td>\n",
       "      <td>False</td>\n",
       "      <td>12</td>\n",
       "      <td>Sunday</td>\n",
       "    </tr>\n",
       "    <tr>\n",
       "      <th>...</th>\n",
       "      <td>...</td>\n",
       "      <td>...</td>\n",
       "      <td>...</td>\n",
       "      <td>...</td>\n",
       "      <td>...</td>\n",
       "      <td>...</td>\n",
       "      <td>...</td>\n",
       "      <td>...</td>\n",
       "      <td>...</td>\n",
       "      <td>...</td>\n",
       "      <td>...</td>\n",
       "      <td>...</td>\n",
       "      <td>...</td>\n",
       "      <td>...</td>\n",
       "      <td>...</td>\n",
       "      <td>...</td>\n",
       "      <td>...</td>\n",
       "      <td>...</td>\n",
       "    </tr>\n",
       "    <tr>\n",
       "      <th>31019674</th>\n",
       "      <td>31019674</td>\n",
       "      <td>2021-02-25 19:03:47.699</td>\n",
       "      <td>-4324475583306591935</td>\n",
       "      <td>NaN</td>\n",
       "      <td>10.0.181.214</td>\n",
       "      <td>JP</td>\n",
       "      <td>-</td>\n",
       "      <td>-</td>\n",
       "      <td>262582</td>\n",
       "      <td>Mozilla/5.0  (Macintosh; Intel Mac OS X 11_6_3...</td>\n",
       "      <td>Chrome 72.0.3626.82</td>\n",
       "      <td>Mac OS X 11.6.3</td>\n",
       "      <td>desktop</td>\n",
       "      <td>False</td>\n",
       "      <td>False</td>\n",
       "      <td>False</td>\n",
       "      <td>19</td>\n",
       "      <td>Thursday</td>\n",
       "    </tr>\n",
       "    <tr>\n",
       "      <th>31140991</th>\n",
       "      <td>31140991</td>\n",
       "      <td>2021-02-27 09:39:13.844</td>\n",
       "      <td>-4324475583306591935</td>\n",
       "      <td>NaN</td>\n",
       "      <td>170.39.78.36</td>\n",
       "      <td>US</td>\n",
       "      <td>-</td>\n",
       "      <td>-</td>\n",
       "      <td>393398</td>\n",
       "      <td>Mozilla/5.0  (Linux; U; Android 2.2) AppleWebK...</td>\n",
       "      <td>Chrome Mobile 86.0.4240</td>\n",
       "      <td>Android 2.2</td>\n",
       "      <td>mobile</td>\n",
       "      <td>False</td>\n",
       "      <td>False</td>\n",
       "      <td>False</td>\n",
       "      <td>9</td>\n",
       "      <td>Saturday</td>\n",
       "    </tr>\n",
       "    <tr>\n",
       "      <th>31195418</th>\n",
       "      <td>31195418</td>\n",
       "      <td>2021-02-28 02:21:01.374</td>\n",
       "      <td>-4324475583306591935</td>\n",
       "      <td>NaN</td>\n",
       "      <td>10.0.181.209</td>\n",
       "      <td>CA</td>\n",
       "      <td>Quebec</td>\n",
       "      <td>Inverness</td>\n",
       "      <td>262582</td>\n",
       "      <td>Mozilla/5.0  (Macintosh; Intel Mac OS X 11_6_3...</td>\n",
       "      <td>Chrome 72.0.3626.82</td>\n",
       "      <td>Mac OS X 11.6.3</td>\n",
       "      <td>desktop</td>\n",
       "      <td>False</td>\n",
       "      <td>False</td>\n",
       "      <td>False</td>\n",
       "      <td>2</td>\n",
       "      <td>Sunday</td>\n",
       "    </tr>\n",
       "    <tr>\n",
       "      <th>31245900</th>\n",
       "      <td>31245900</td>\n",
       "      <td>2021-02-28 16:26:26.859</td>\n",
       "      <td>-4324475583306591935</td>\n",
       "      <td>NaN</td>\n",
       "      <td>10.0.77.230</td>\n",
       "      <td>NO</td>\n",
       "      <td>Oslo County</td>\n",
       "      <td>Oslo</td>\n",
       "      <td>29695</td>\n",
       "      <td>AwarioSmartBot/1.0  (en-us) variation/294821</td>\n",
       "      <td>AwarioSmartBot 1.0</td>\n",
       "      <td>Other</td>\n",
       "      <td>unknown</td>\n",
       "      <td>False</td>\n",
       "      <td>False</td>\n",
       "      <td>False</td>\n",
       "      <td>16</td>\n",
       "      <td>Sunday</td>\n",
       "    </tr>\n",
       "    <tr>\n",
       "      <th>31102146</th>\n",
       "      <td>31102146</td>\n",
       "      <td>2021-02-26 18:09:19.473</td>\n",
       "      <td>-4324475583306591935</td>\n",
       "      <td>NaN</td>\n",
       "      <td>199.26.84.7</td>\n",
       "      <td>US</td>\n",
       "      <td>-</td>\n",
       "      <td>-</td>\n",
       "      <td>393398</td>\n",
       "      <td>Mozilla/5.0  (Linux; Android 4.1; Galaxy Nexus...</td>\n",
       "      <td>Chrome Mobile 63.0.3239</td>\n",
       "      <td>Android 4.1</td>\n",
       "      <td>mobile</td>\n",
       "      <td>False</td>\n",
       "      <td>False</td>\n",
       "      <td>False</td>\n",
       "      <td>18</td>\n",
       "      <td>Friday</td>\n",
       "    </tr>\n",
       "  </tbody>\n",
       "</table>\n",
       "<p>3126926 rows × 18 columns</p>\n",
       "</div>"
      ]
     },
     "execution_count": 11,
     "metadata": {},
     "output_type": "execute_result"
    }
   ],
   "execution_count": 11
  },
  {
   "metadata": {},
   "cell_type": "markdown",
   "source": "### Agent and Device Data",
   "id": "e34ea12d4b2ae39e"
  },
  {
   "metadata": {
    "ExecuteTime": {
     "end_time": "2024-12-09T20:14:56.693251Z",
     "start_time": "2024-12-09T20:14:54.134930Z"
    }
   },
   "cell_type": "code",
   "source": [
    "data['Browser'] = data['Browser Name and Version'].apply(lambda x: x.split()[0] if isinstance(x, str) else None)\n",
    "data['OS'] = data['OS Name and Version'].apply(lambda x: x.split()[0] if isinstance(x, str) else None)\n",
    "data.fillna({'Device Type': 'Unknown'}, inplace=True)\n",
    "data"
   ],
   "id": "1e1921bace9fbb58",
   "outputs": [
    {
     "data": {
      "text/plain": [
       "             index         Login Timestamp              User ID  \\\n",
       "276826      276826 2020-02-07 03:43:03.472  -296285440039579456   \n",
       "849425      849425 2020-02-14 14:49:09.146 -8972452956627396509   \n",
       "504499      504499 2020-02-10 11:21:27.828   272548560383834071   \n",
       "601054      601054 2020-02-11 12:30:44.886 -2923701650951217243   \n",
       "980221      980221 2020-02-16 12:31:08.564 -5786250162433249151   \n",
       "...            ...                     ...                  ...   \n",
       "31019674  31019674 2021-02-25 19:03:47.699 -4324475583306591935   \n",
       "31140991  31140991 2021-02-27 09:39:13.844 -4324475583306591935   \n",
       "31195418  31195418 2021-02-28 02:21:01.374 -4324475583306591935   \n",
       "31245900  31245900 2021-02-28 16:26:26.859 -4324475583306591935   \n",
       "31102146  31102146 2021-02-26 18:09:19.473 -4324475583306591935   \n",
       "\n",
       "          Round-Trip Time [ms]      IP Address Country       Region  \\\n",
       "276826                     NaN    170.39.78.86      US            -   \n",
       "849425                     NaN  176.107.139.65      PL      Mazovia   \n",
       "504499                     NaN  84.208.208.127      NO     Rogaland   \n",
       "601054                     NaN   38.135.39.175      US            -   \n",
       "980221                     NaN    170.39.76.62      US            -   \n",
       "...                        ...             ...     ...          ...   \n",
       "31019674                   NaN    10.0.181.214      JP            -   \n",
       "31140991                   NaN    170.39.78.36      US            -   \n",
       "31195418                   NaN    10.0.181.209      CA       Quebec   \n",
       "31245900                   NaN     10.0.77.230      NO  Oslo County   \n",
       "31102146                   NaN     199.26.84.7      US            -   \n",
       "\n",
       "               City     ASN  \\\n",
       "276826            -  393398   \n",
       "849425       Warsaw  205727   \n",
       "504499    Stavanger   41164   \n",
       "601054            -  393398   \n",
       "980221            -  393398   \n",
       "...             ...     ...   \n",
       "31019674          -  262582   \n",
       "31140991          -  393398   \n",
       "31195418  Inverness  262582   \n",
       "31245900       Oslo   29695   \n",
       "31102146          -  393398   \n",
       "\n",
       "                                          User Agent String  \\\n",
       "276826    Mozilla/5.0  (Android 6.0.99; Tablet; https://...   \n",
       "849425    Mozilla/5.0  (iPhone; CPU iPhone OS 11_2_6 lik...   \n",
       "504499    Mozilla/5.0  (Macintosh; Intel Mac OS X 10_14_...   \n",
       "601054    Mozilla/5.0  (Linux; Android 4.1; Galaxy Nexus...   \n",
       "980221    Mozilla/5.0  (iPhone; CPU iPhone OS 13_1_3 lik...   \n",
       "...                                                     ...   \n",
       "31019674  Mozilla/5.0  (Macintosh; Intel Mac OS X 11_6_3...   \n",
       "31140991  Mozilla/5.0  (Linux; U; Android 2.2) AppleWebK...   \n",
       "31195418  Mozilla/5.0  (Macintosh; Intel Mac OS X 11_6_3...   \n",
       "31245900       AwarioSmartBot/1.0  (en-us) variation/294821   \n",
       "31102146  Mozilla/5.0  (Linux; Android 4.1; Galaxy Nexus...   \n",
       "\n",
       "                   Browser Name and Version OS Name and Version Device Type  \\\n",
       "276826         Chrome Mobile 81.0.4044.1949      Android 6.0.99      mobile   \n",
       "849425              Chrome Mobile 81.0.4044          iOS 11.2.6      mobile   \n",
       "504499                     Chrome 73.0.3654    Mac OS X 10.14.6     desktop   \n",
       "601054              Chrome Mobile 50.0.2661         Android 4.1      mobile   \n",
       "980221    Chrome Mobile 80.0.3987.3058.3070          iOS 13.1.3      mobile   \n",
       "...                                     ...                 ...         ...   \n",
       "31019674                Chrome 72.0.3626.82     Mac OS X 11.6.3     desktop   \n",
       "31140991            Chrome Mobile 86.0.4240         Android 2.2      mobile   \n",
       "31195418                Chrome 72.0.3626.82     Mac OS X 11.6.3     desktop   \n",
       "31245900                 AwarioSmartBot 1.0              Other      unknown   \n",
       "31102146            Chrome Mobile 63.0.3239         Android 4.1      mobile   \n",
       "\n",
       "          Login Successful  Is Attack IP  Is Account Takeover  Hour DayOfWeek  \\\n",
       "276826               False         False                False     3    Friday   \n",
       "849425               False         False                False    14    Friday   \n",
       "504499               False         False                False    11    Monday   \n",
       "601054                True          True                False    12   Tuesday   \n",
       "980221               False         False                False    12    Sunday   \n",
       "...                    ...           ...                  ...   ...       ...   \n",
       "31019674             False         False                False    19  Thursday   \n",
       "31140991             False         False                False     9  Saturday   \n",
       "31195418             False         False                False     2    Sunday   \n",
       "31245900             False         False                False    16    Sunday   \n",
       "31102146             False         False                False    18    Friday   \n",
       "\n",
       "                 Browser       OS  \n",
       "276826            Chrome  Android  \n",
       "849425            Chrome      iOS  \n",
       "504499            Chrome      Mac  \n",
       "601054            Chrome  Android  \n",
       "980221            Chrome      iOS  \n",
       "...                  ...      ...  \n",
       "31019674          Chrome      Mac  \n",
       "31140991          Chrome  Android  \n",
       "31195418          Chrome      Mac  \n",
       "31245900  AwarioSmartBot    Other  \n",
       "31102146          Chrome  Android  \n",
       "\n",
       "[3126926 rows x 20 columns]"
      ],
      "text/html": [
       "<div>\n",
       "<style scoped>\n",
       "    .dataframe tbody tr th:only-of-type {\n",
       "        vertical-align: middle;\n",
       "    }\n",
       "\n",
       "    .dataframe tbody tr th {\n",
       "        vertical-align: top;\n",
       "    }\n",
       "\n",
       "    .dataframe thead th {\n",
       "        text-align: right;\n",
       "    }\n",
       "</style>\n",
       "<table border=\"1\" class=\"dataframe\">\n",
       "  <thead>\n",
       "    <tr style=\"text-align: right;\">\n",
       "      <th></th>\n",
       "      <th>index</th>\n",
       "      <th>Login Timestamp</th>\n",
       "      <th>User ID</th>\n",
       "      <th>Round-Trip Time [ms]</th>\n",
       "      <th>IP Address</th>\n",
       "      <th>Country</th>\n",
       "      <th>Region</th>\n",
       "      <th>City</th>\n",
       "      <th>ASN</th>\n",
       "      <th>User Agent String</th>\n",
       "      <th>Browser Name and Version</th>\n",
       "      <th>OS Name and Version</th>\n",
       "      <th>Device Type</th>\n",
       "      <th>Login Successful</th>\n",
       "      <th>Is Attack IP</th>\n",
       "      <th>Is Account Takeover</th>\n",
       "      <th>Hour</th>\n",
       "      <th>DayOfWeek</th>\n",
       "      <th>Browser</th>\n",
       "      <th>OS</th>\n",
       "    </tr>\n",
       "  </thead>\n",
       "  <tbody>\n",
       "    <tr>\n",
       "      <th>276826</th>\n",
       "      <td>276826</td>\n",
       "      <td>2020-02-07 03:43:03.472</td>\n",
       "      <td>-296285440039579456</td>\n",
       "      <td>NaN</td>\n",
       "      <td>170.39.78.86</td>\n",
       "      <td>US</td>\n",
       "      <td>-</td>\n",
       "      <td>-</td>\n",
       "      <td>393398</td>\n",
       "      <td>Mozilla/5.0  (Android 6.0.99; Tablet; https://...</td>\n",
       "      <td>Chrome Mobile 81.0.4044.1949</td>\n",
       "      <td>Android 6.0.99</td>\n",
       "      <td>mobile</td>\n",
       "      <td>False</td>\n",
       "      <td>False</td>\n",
       "      <td>False</td>\n",
       "      <td>3</td>\n",
       "      <td>Friday</td>\n",
       "      <td>Chrome</td>\n",
       "      <td>Android</td>\n",
       "    </tr>\n",
       "    <tr>\n",
       "      <th>849425</th>\n",
       "      <td>849425</td>\n",
       "      <td>2020-02-14 14:49:09.146</td>\n",
       "      <td>-8972452956627396509</td>\n",
       "      <td>NaN</td>\n",
       "      <td>176.107.139.65</td>\n",
       "      <td>PL</td>\n",
       "      <td>Mazovia</td>\n",
       "      <td>Warsaw</td>\n",
       "      <td>205727</td>\n",
       "      <td>Mozilla/5.0  (iPhone; CPU iPhone OS 11_2_6 lik...</td>\n",
       "      <td>Chrome Mobile 81.0.4044</td>\n",
       "      <td>iOS 11.2.6</td>\n",
       "      <td>mobile</td>\n",
       "      <td>False</td>\n",
       "      <td>False</td>\n",
       "      <td>False</td>\n",
       "      <td>14</td>\n",
       "      <td>Friday</td>\n",
       "      <td>Chrome</td>\n",
       "      <td>iOS</td>\n",
       "    </tr>\n",
       "    <tr>\n",
       "      <th>504499</th>\n",
       "      <td>504499</td>\n",
       "      <td>2020-02-10 11:21:27.828</td>\n",
       "      <td>272548560383834071</td>\n",
       "      <td>NaN</td>\n",
       "      <td>84.208.208.127</td>\n",
       "      <td>NO</td>\n",
       "      <td>Rogaland</td>\n",
       "      <td>Stavanger</td>\n",
       "      <td>41164</td>\n",
       "      <td>Mozilla/5.0  (Macintosh; Intel Mac OS X 10_14_...</td>\n",
       "      <td>Chrome 73.0.3654</td>\n",
       "      <td>Mac OS X 10.14.6</td>\n",
       "      <td>desktop</td>\n",
       "      <td>False</td>\n",
       "      <td>False</td>\n",
       "      <td>False</td>\n",
       "      <td>11</td>\n",
       "      <td>Monday</td>\n",
       "      <td>Chrome</td>\n",
       "      <td>Mac</td>\n",
       "    </tr>\n",
       "    <tr>\n",
       "      <th>601054</th>\n",
       "      <td>601054</td>\n",
       "      <td>2020-02-11 12:30:44.886</td>\n",
       "      <td>-2923701650951217243</td>\n",
       "      <td>NaN</td>\n",
       "      <td>38.135.39.175</td>\n",
       "      <td>US</td>\n",
       "      <td>-</td>\n",
       "      <td>-</td>\n",
       "      <td>393398</td>\n",
       "      <td>Mozilla/5.0  (Linux; Android 4.1; Galaxy Nexus...</td>\n",
       "      <td>Chrome Mobile 50.0.2661</td>\n",
       "      <td>Android 4.1</td>\n",
       "      <td>mobile</td>\n",
       "      <td>True</td>\n",
       "      <td>True</td>\n",
       "      <td>False</td>\n",
       "      <td>12</td>\n",
       "      <td>Tuesday</td>\n",
       "      <td>Chrome</td>\n",
       "      <td>Android</td>\n",
       "    </tr>\n",
       "    <tr>\n",
       "      <th>980221</th>\n",
       "      <td>980221</td>\n",
       "      <td>2020-02-16 12:31:08.564</td>\n",
       "      <td>-5786250162433249151</td>\n",
       "      <td>NaN</td>\n",
       "      <td>170.39.76.62</td>\n",
       "      <td>US</td>\n",
       "      <td>-</td>\n",
       "      <td>-</td>\n",
       "      <td>393398</td>\n",
       "      <td>Mozilla/5.0  (iPhone; CPU iPhone OS 13_1_3 lik...</td>\n",
       "      <td>Chrome Mobile 80.0.3987.3058.3070</td>\n",
       "      <td>iOS 13.1.3</td>\n",
       "      <td>mobile</td>\n",
       "      <td>False</td>\n",
       "      <td>False</td>\n",
       "      <td>False</td>\n",
       "      <td>12</td>\n",
       "      <td>Sunday</td>\n",
       "      <td>Chrome</td>\n",
       "      <td>iOS</td>\n",
       "    </tr>\n",
       "    <tr>\n",
       "      <th>...</th>\n",
       "      <td>...</td>\n",
       "      <td>...</td>\n",
       "      <td>...</td>\n",
       "      <td>...</td>\n",
       "      <td>...</td>\n",
       "      <td>...</td>\n",
       "      <td>...</td>\n",
       "      <td>...</td>\n",
       "      <td>...</td>\n",
       "      <td>...</td>\n",
       "      <td>...</td>\n",
       "      <td>...</td>\n",
       "      <td>...</td>\n",
       "      <td>...</td>\n",
       "      <td>...</td>\n",
       "      <td>...</td>\n",
       "      <td>...</td>\n",
       "      <td>...</td>\n",
       "      <td>...</td>\n",
       "      <td>...</td>\n",
       "    </tr>\n",
       "    <tr>\n",
       "      <th>31019674</th>\n",
       "      <td>31019674</td>\n",
       "      <td>2021-02-25 19:03:47.699</td>\n",
       "      <td>-4324475583306591935</td>\n",
       "      <td>NaN</td>\n",
       "      <td>10.0.181.214</td>\n",
       "      <td>JP</td>\n",
       "      <td>-</td>\n",
       "      <td>-</td>\n",
       "      <td>262582</td>\n",
       "      <td>Mozilla/5.0  (Macintosh; Intel Mac OS X 11_6_3...</td>\n",
       "      <td>Chrome 72.0.3626.82</td>\n",
       "      <td>Mac OS X 11.6.3</td>\n",
       "      <td>desktop</td>\n",
       "      <td>False</td>\n",
       "      <td>False</td>\n",
       "      <td>False</td>\n",
       "      <td>19</td>\n",
       "      <td>Thursday</td>\n",
       "      <td>Chrome</td>\n",
       "      <td>Mac</td>\n",
       "    </tr>\n",
       "    <tr>\n",
       "      <th>31140991</th>\n",
       "      <td>31140991</td>\n",
       "      <td>2021-02-27 09:39:13.844</td>\n",
       "      <td>-4324475583306591935</td>\n",
       "      <td>NaN</td>\n",
       "      <td>170.39.78.36</td>\n",
       "      <td>US</td>\n",
       "      <td>-</td>\n",
       "      <td>-</td>\n",
       "      <td>393398</td>\n",
       "      <td>Mozilla/5.0  (Linux; U; Android 2.2) AppleWebK...</td>\n",
       "      <td>Chrome Mobile 86.0.4240</td>\n",
       "      <td>Android 2.2</td>\n",
       "      <td>mobile</td>\n",
       "      <td>False</td>\n",
       "      <td>False</td>\n",
       "      <td>False</td>\n",
       "      <td>9</td>\n",
       "      <td>Saturday</td>\n",
       "      <td>Chrome</td>\n",
       "      <td>Android</td>\n",
       "    </tr>\n",
       "    <tr>\n",
       "      <th>31195418</th>\n",
       "      <td>31195418</td>\n",
       "      <td>2021-02-28 02:21:01.374</td>\n",
       "      <td>-4324475583306591935</td>\n",
       "      <td>NaN</td>\n",
       "      <td>10.0.181.209</td>\n",
       "      <td>CA</td>\n",
       "      <td>Quebec</td>\n",
       "      <td>Inverness</td>\n",
       "      <td>262582</td>\n",
       "      <td>Mozilla/5.0  (Macintosh; Intel Mac OS X 11_6_3...</td>\n",
       "      <td>Chrome 72.0.3626.82</td>\n",
       "      <td>Mac OS X 11.6.3</td>\n",
       "      <td>desktop</td>\n",
       "      <td>False</td>\n",
       "      <td>False</td>\n",
       "      <td>False</td>\n",
       "      <td>2</td>\n",
       "      <td>Sunday</td>\n",
       "      <td>Chrome</td>\n",
       "      <td>Mac</td>\n",
       "    </tr>\n",
       "    <tr>\n",
       "      <th>31245900</th>\n",
       "      <td>31245900</td>\n",
       "      <td>2021-02-28 16:26:26.859</td>\n",
       "      <td>-4324475583306591935</td>\n",
       "      <td>NaN</td>\n",
       "      <td>10.0.77.230</td>\n",
       "      <td>NO</td>\n",
       "      <td>Oslo County</td>\n",
       "      <td>Oslo</td>\n",
       "      <td>29695</td>\n",
       "      <td>AwarioSmartBot/1.0  (en-us) variation/294821</td>\n",
       "      <td>AwarioSmartBot 1.0</td>\n",
       "      <td>Other</td>\n",
       "      <td>unknown</td>\n",
       "      <td>False</td>\n",
       "      <td>False</td>\n",
       "      <td>False</td>\n",
       "      <td>16</td>\n",
       "      <td>Sunday</td>\n",
       "      <td>AwarioSmartBot</td>\n",
       "      <td>Other</td>\n",
       "    </tr>\n",
       "    <tr>\n",
       "      <th>31102146</th>\n",
       "      <td>31102146</td>\n",
       "      <td>2021-02-26 18:09:19.473</td>\n",
       "      <td>-4324475583306591935</td>\n",
       "      <td>NaN</td>\n",
       "      <td>199.26.84.7</td>\n",
       "      <td>US</td>\n",
       "      <td>-</td>\n",
       "      <td>-</td>\n",
       "      <td>393398</td>\n",
       "      <td>Mozilla/5.0  (Linux; Android 4.1; Galaxy Nexus...</td>\n",
       "      <td>Chrome Mobile 63.0.3239</td>\n",
       "      <td>Android 4.1</td>\n",
       "      <td>mobile</td>\n",
       "      <td>False</td>\n",
       "      <td>False</td>\n",
       "      <td>False</td>\n",
       "      <td>18</td>\n",
       "      <td>Friday</td>\n",
       "      <td>Chrome</td>\n",
       "      <td>Android</td>\n",
       "    </tr>\n",
       "  </tbody>\n",
       "</table>\n",
       "<p>3126926 rows × 20 columns</p>\n",
       "</div>"
      ]
     },
     "execution_count": 12,
     "metadata": {},
     "output_type": "execute_result"
    }
   ],
   "execution_count": 12
  },
  {
   "metadata": {},
   "cell_type": "markdown",
   "source": "### Extracting Time Data",
   "id": "a8d0c3502effc521"
  },
  {
   "metadata": {
    "ExecuteTime": {
     "end_time": "2024-12-09T20:14:57.103391Z",
     "start_time": "2024-12-09T20:14:56.804080Z"
    }
   },
   "cell_type": "code",
   "source": [
    "filtered_columns = ['City', 'ASN', 'Browser', 'OS', 'Device Type', 'Login Successful', 'Is Account Takeover', 'Hour', 'DayOfWeek']\n",
    "data_filtered = data[filtered_columns]\n",
    "data_filtered"
   ],
   "id": "1374b91661efeada",
   "outputs": [
    {
     "data": {
      "text/plain": [
       "               City     ASN         Browser       OS Device Type  \\\n",
       "276826            -  393398          Chrome  Android      mobile   \n",
       "849425       Warsaw  205727          Chrome      iOS      mobile   \n",
       "504499    Stavanger   41164          Chrome      Mac     desktop   \n",
       "601054            -  393398          Chrome  Android      mobile   \n",
       "980221            -  393398          Chrome      iOS      mobile   \n",
       "...             ...     ...             ...      ...         ...   \n",
       "31019674          -  262582          Chrome      Mac     desktop   \n",
       "31140991          -  393398          Chrome  Android      mobile   \n",
       "31195418  Inverness  262582          Chrome      Mac     desktop   \n",
       "31245900       Oslo   29695  AwarioSmartBot    Other     unknown   \n",
       "31102146          -  393398          Chrome  Android      mobile   \n",
       "\n",
       "          Login Successful  Is Account Takeover  Hour DayOfWeek  \n",
       "276826               False                False     3    Friday  \n",
       "849425               False                False    14    Friday  \n",
       "504499               False                False    11    Monday  \n",
       "601054                True                False    12   Tuesday  \n",
       "980221               False                False    12    Sunday  \n",
       "...                    ...                  ...   ...       ...  \n",
       "31019674             False                False    19  Thursday  \n",
       "31140991             False                False     9  Saturday  \n",
       "31195418             False                False     2    Sunday  \n",
       "31245900             False                False    16    Sunday  \n",
       "31102146             False                False    18    Friday  \n",
       "\n",
       "[3126926 rows x 9 columns]"
      ],
      "text/html": [
       "<div>\n",
       "<style scoped>\n",
       "    .dataframe tbody tr th:only-of-type {\n",
       "        vertical-align: middle;\n",
       "    }\n",
       "\n",
       "    .dataframe tbody tr th {\n",
       "        vertical-align: top;\n",
       "    }\n",
       "\n",
       "    .dataframe thead th {\n",
       "        text-align: right;\n",
       "    }\n",
       "</style>\n",
       "<table border=\"1\" class=\"dataframe\">\n",
       "  <thead>\n",
       "    <tr style=\"text-align: right;\">\n",
       "      <th></th>\n",
       "      <th>City</th>\n",
       "      <th>ASN</th>\n",
       "      <th>Browser</th>\n",
       "      <th>OS</th>\n",
       "      <th>Device Type</th>\n",
       "      <th>Login Successful</th>\n",
       "      <th>Is Account Takeover</th>\n",
       "      <th>Hour</th>\n",
       "      <th>DayOfWeek</th>\n",
       "    </tr>\n",
       "  </thead>\n",
       "  <tbody>\n",
       "    <tr>\n",
       "      <th>276826</th>\n",
       "      <td>-</td>\n",
       "      <td>393398</td>\n",
       "      <td>Chrome</td>\n",
       "      <td>Android</td>\n",
       "      <td>mobile</td>\n",
       "      <td>False</td>\n",
       "      <td>False</td>\n",
       "      <td>3</td>\n",
       "      <td>Friday</td>\n",
       "    </tr>\n",
       "    <tr>\n",
       "      <th>849425</th>\n",
       "      <td>Warsaw</td>\n",
       "      <td>205727</td>\n",
       "      <td>Chrome</td>\n",
       "      <td>iOS</td>\n",
       "      <td>mobile</td>\n",
       "      <td>False</td>\n",
       "      <td>False</td>\n",
       "      <td>14</td>\n",
       "      <td>Friday</td>\n",
       "    </tr>\n",
       "    <tr>\n",
       "      <th>504499</th>\n",
       "      <td>Stavanger</td>\n",
       "      <td>41164</td>\n",
       "      <td>Chrome</td>\n",
       "      <td>Mac</td>\n",
       "      <td>desktop</td>\n",
       "      <td>False</td>\n",
       "      <td>False</td>\n",
       "      <td>11</td>\n",
       "      <td>Monday</td>\n",
       "    </tr>\n",
       "    <tr>\n",
       "      <th>601054</th>\n",
       "      <td>-</td>\n",
       "      <td>393398</td>\n",
       "      <td>Chrome</td>\n",
       "      <td>Android</td>\n",
       "      <td>mobile</td>\n",
       "      <td>True</td>\n",
       "      <td>False</td>\n",
       "      <td>12</td>\n",
       "      <td>Tuesday</td>\n",
       "    </tr>\n",
       "    <tr>\n",
       "      <th>980221</th>\n",
       "      <td>-</td>\n",
       "      <td>393398</td>\n",
       "      <td>Chrome</td>\n",
       "      <td>iOS</td>\n",
       "      <td>mobile</td>\n",
       "      <td>False</td>\n",
       "      <td>False</td>\n",
       "      <td>12</td>\n",
       "      <td>Sunday</td>\n",
       "    </tr>\n",
       "    <tr>\n",
       "      <th>...</th>\n",
       "      <td>...</td>\n",
       "      <td>...</td>\n",
       "      <td>...</td>\n",
       "      <td>...</td>\n",
       "      <td>...</td>\n",
       "      <td>...</td>\n",
       "      <td>...</td>\n",
       "      <td>...</td>\n",
       "      <td>...</td>\n",
       "    </tr>\n",
       "    <tr>\n",
       "      <th>31019674</th>\n",
       "      <td>-</td>\n",
       "      <td>262582</td>\n",
       "      <td>Chrome</td>\n",
       "      <td>Mac</td>\n",
       "      <td>desktop</td>\n",
       "      <td>False</td>\n",
       "      <td>False</td>\n",
       "      <td>19</td>\n",
       "      <td>Thursday</td>\n",
       "    </tr>\n",
       "    <tr>\n",
       "      <th>31140991</th>\n",
       "      <td>-</td>\n",
       "      <td>393398</td>\n",
       "      <td>Chrome</td>\n",
       "      <td>Android</td>\n",
       "      <td>mobile</td>\n",
       "      <td>False</td>\n",
       "      <td>False</td>\n",
       "      <td>9</td>\n",
       "      <td>Saturday</td>\n",
       "    </tr>\n",
       "    <tr>\n",
       "      <th>31195418</th>\n",
       "      <td>Inverness</td>\n",
       "      <td>262582</td>\n",
       "      <td>Chrome</td>\n",
       "      <td>Mac</td>\n",
       "      <td>desktop</td>\n",
       "      <td>False</td>\n",
       "      <td>False</td>\n",
       "      <td>2</td>\n",
       "      <td>Sunday</td>\n",
       "    </tr>\n",
       "    <tr>\n",
       "      <th>31245900</th>\n",
       "      <td>Oslo</td>\n",
       "      <td>29695</td>\n",
       "      <td>AwarioSmartBot</td>\n",
       "      <td>Other</td>\n",
       "      <td>unknown</td>\n",
       "      <td>False</td>\n",
       "      <td>False</td>\n",
       "      <td>16</td>\n",
       "      <td>Sunday</td>\n",
       "    </tr>\n",
       "    <tr>\n",
       "      <th>31102146</th>\n",
       "      <td>-</td>\n",
       "      <td>393398</td>\n",
       "      <td>Chrome</td>\n",
       "      <td>Android</td>\n",
       "      <td>mobile</td>\n",
       "      <td>False</td>\n",
       "      <td>False</td>\n",
       "      <td>18</td>\n",
       "      <td>Friday</td>\n",
       "    </tr>\n",
       "  </tbody>\n",
       "</table>\n",
       "<p>3126926 rows × 9 columns</p>\n",
       "</div>"
      ]
     },
     "execution_count": 13,
     "metadata": {},
     "output_type": "execute_result"
    }
   ],
   "execution_count": 13
  },
  {
   "metadata": {},
   "cell_type": "markdown",
   "source": "### Working with Categorical Data",
   "id": "4f1b4f45fa30774d"
  },
  {
   "metadata": {
    "ExecuteTime": {
     "end_time": "2024-12-09T20:15:00.321391Z",
     "start_time": "2024-12-09T20:14:57.168901Z"
    }
   },
   "cell_type": "code",
   "source": [
    "categorical_columns_hot = ['OS', 'Device Type', 'Hour', 'DayOfWeek', 'Browser', 'Device Type', 'OS']\n",
    "data_filtered = pd.get_dummies(data_filtered, columns=categorical_columns_hot)"
   ],
   "id": "14db4f5d500d06c5",
   "outputs": [],
   "execution_count": 14
  },
  {
   "metadata": {
    "ExecuteTime": {
     "end_time": "2024-12-09T20:15:02.203533Z",
     "start_time": "2024-12-09T20:15:00.379555Z"
    }
   },
   "cell_type": "code",
   "source": [
    "from sklearn.preprocessing import LabelEncoder\n",
    "\n",
    "categorical_features_label = ['City', 'ASN', 'Login Successful']\n",
    "label_encoders = {}\n",
    "\n",
    "for col in categorical_features_label:\n",
    "    le = LabelEncoder() \n",
    "    data_filtered[col] = le.fit_transform(data_filtered[col])\n",
    "    label_encoders[col] = le"
   ],
   "id": "71d891ba370ccf6f",
   "outputs": [],
   "execution_count": 15
  },
  {
   "metadata": {
    "ExecuteTime": {
     "end_time": "2024-12-09T20:15:02.667261Z",
     "start_time": "2024-12-09T20:15:02.209175Z"
    }
   },
   "cell_type": "code",
   "source": "data_filtered",
   "id": "ab3ecae57d784894",
   "outputs": [
    {
     "data": {
      "text/plain": [
       "           City   ASN  Login Successful  Is Account Takeover  OS_134  \\\n",
       "276826        5  3946                 0                False   False   \n",
       "849425    20101  3364                 0                False   False   \n",
       "504499    17866  1485                 0                False   False   \n",
       "601054        5  3946                 1                False   False   \n",
       "980221        5  3946                 0                False   False   \n",
       "...         ...   ...               ...                  ...     ...   \n",
       "31019674      5  3622                 0                False   False   \n",
       "31140991      5  3946                 0                False   False   \n",
       "31195418   8143  3622                 0                False   False   \n",
       "31245900  13497   997                 0                False   False   \n",
       "31102146      5  3946                 0                False   False   \n",
       "\n",
       "          OS_Android  OS_BlackBerry  OS_Chrome  OS_Chromecast  OS_DIGIHOME  \\\n",
       "276826          True          False      False          False        False   \n",
       "849425         False          False      False          False        False   \n",
       "504499         False          False      False          False        False   \n",
       "601054          True          False      False          False        False   \n",
       "980221         False          False      False          False        False   \n",
       "...              ...            ...        ...            ...          ...   \n",
       "31019674       False          False      False          False        False   \n",
       "31140991        True          False      False          False        False   \n",
       "31195418       False          False      False          False        False   \n",
       "31245900       False          False      False          False        False   \n",
       "31102146        True          False      False          False        False   \n",
       "\n",
       "          ...  OS_Roku  OS_Slackware  OS_Solaris  OS_Symbian  OS_Symbian^3  \\\n",
       "276826    ...    False         False       False       False         False   \n",
       "849425    ...    False         False       False       False         False   \n",
       "504499    ...    False         False       False       False         False   \n",
       "601054    ...    False         False       False       False         False   \n",
       "980221    ...    False         False       False       False         False   \n",
       "...       ...      ...           ...         ...         ...           ...   \n",
       "31019674  ...    False         False       False       False         False   \n",
       "31140991  ...    False         False       False       False         False   \n",
       "31195418  ...    False         False       False       False         False   \n",
       "31245900  ...    False         False       False       False         False   \n",
       "31102146  ...    False         False       False       False         False   \n",
       "\n",
       "          OS_Tizen  OS_Ubuntu  OS_WebTV  OS_Windows  OS_iOS  \n",
       "276826       False      False     False       False   False  \n",
       "849425       False      False     False       False    True  \n",
       "504499       False      False     False       False   False  \n",
       "601054       False      False     False       False   False  \n",
       "980221       False      False     False       False    True  \n",
       "...            ...        ...       ...         ...     ...  \n",
       "31019674     False      False     False       False   False  \n",
       "31140991     False      False     False       False   False  \n",
       "31195418     False      False     False       False   False  \n",
       "31245900     False      False     False       False   False  \n",
       "31102146     False      False     False       False   False  \n",
       "\n",
       "[3126926 rows x 225 columns]"
      ],
      "text/html": [
       "<div>\n",
       "<style scoped>\n",
       "    .dataframe tbody tr th:only-of-type {\n",
       "        vertical-align: middle;\n",
       "    }\n",
       "\n",
       "    .dataframe tbody tr th {\n",
       "        vertical-align: top;\n",
       "    }\n",
       "\n",
       "    .dataframe thead th {\n",
       "        text-align: right;\n",
       "    }\n",
       "</style>\n",
       "<table border=\"1\" class=\"dataframe\">\n",
       "  <thead>\n",
       "    <tr style=\"text-align: right;\">\n",
       "      <th></th>\n",
       "      <th>City</th>\n",
       "      <th>ASN</th>\n",
       "      <th>Login Successful</th>\n",
       "      <th>Is Account Takeover</th>\n",
       "      <th>OS_134</th>\n",
       "      <th>OS_Android</th>\n",
       "      <th>OS_BlackBerry</th>\n",
       "      <th>OS_Chrome</th>\n",
       "      <th>OS_Chromecast</th>\n",
       "      <th>OS_DIGIHOME</th>\n",
       "      <th>...</th>\n",
       "      <th>OS_Roku</th>\n",
       "      <th>OS_Slackware</th>\n",
       "      <th>OS_Solaris</th>\n",
       "      <th>OS_Symbian</th>\n",
       "      <th>OS_Symbian^3</th>\n",
       "      <th>OS_Tizen</th>\n",
       "      <th>OS_Ubuntu</th>\n",
       "      <th>OS_WebTV</th>\n",
       "      <th>OS_Windows</th>\n",
       "      <th>OS_iOS</th>\n",
       "    </tr>\n",
       "  </thead>\n",
       "  <tbody>\n",
       "    <tr>\n",
       "      <th>276826</th>\n",
       "      <td>5</td>\n",
       "      <td>3946</td>\n",
       "      <td>0</td>\n",
       "      <td>False</td>\n",
       "      <td>False</td>\n",
       "      <td>True</td>\n",
       "      <td>False</td>\n",
       "      <td>False</td>\n",
       "      <td>False</td>\n",
       "      <td>False</td>\n",
       "      <td>...</td>\n",
       "      <td>False</td>\n",
       "      <td>False</td>\n",
       "      <td>False</td>\n",
       "      <td>False</td>\n",
       "      <td>False</td>\n",
       "      <td>False</td>\n",
       "      <td>False</td>\n",
       "      <td>False</td>\n",
       "      <td>False</td>\n",
       "      <td>False</td>\n",
       "    </tr>\n",
       "    <tr>\n",
       "      <th>849425</th>\n",
       "      <td>20101</td>\n",
       "      <td>3364</td>\n",
       "      <td>0</td>\n",
       "      <td>False</td>\n",
       "      <td>False</td>\n",
       "      <td>False</td>\n",
       "      <td>False</td>\n",
       "      <td>False</td>\n",
       "      <td>False</td>\n",
       "      <td>False</td>\n",
       "      <td>...</td>\n",
       "      <td>False</td>\n",
       "      <td>False</td>\n",
       "      <td>False</td>\n",
       "      <td>False</td>\n",
       "      <td>False</td>\n",
       "      <td>False</td>\n",
       "      <td>False</td>\n",
       "      <td>False</td>\n",
       "      <td>False</td>\n",
       "      <td>True</td>\n",
       "    </tr>\n",
       "    <tr>\n",
       "      <th>504499</th>\n",
       "      <td>17866</td>\n",
       "      <td>1485</td>\n",
       "      <td>0</td>\n",
       "      <td>False</td>\n",
       "      <td>False</td>\n",
       "      <td>False</td>\n",
       "      <td>False</td>\n",
       "      <td>False</td>\n",
       "      <td>False</td>\n",
       "      <td>False</td>\n",
       "      <td>...</td>\n",
       "      <td>False</td>\n",
       "      <td>False</td>\n",
       "      <td>False</td>\n",
       "      <td>False</td>\n",
       "      <td>False</td>\n",
       "      <td>False</td>\n",
       "      <td>False</td>\n",
       "      <td>False</td>\n",
       "      <td>False</td>\n",
       "      <td>False</td>\n",
       "    </tr>\n",
       "    <tr>\n",
       "      <th>601054</th>\n",
       "      <td>5</td>\n",
       "      <td>3946</td>\n",
       "      <td>1</td>\n",
       "      <td>False</td>\n",
       "      <td>False</td>\n",
       "      <td>True</td>\n",
       "      <td>False</td>\n",
       "      <td>False</td>\n",
       "      <td>False</td>\n",
       "      <td>False</td>\n",
       "      <td>...</td>\n",
       "      <td>False</td>\n",
       "      <td>False</td>\n",
       "      <td>False</td>\n",
       "      <td>False</td>\n",
       "      <td>False</td>\n",
       "      <td>False</td>\n",
       "      <td>False</td>\n",
       "      <td>False</td>\n",
       "      <td>False</td>\n",
       "      <td>False</td>\n",
       "    </tr>\n",
       "    <tr>\n",
       "      <th>980221</th>\n",
       "      <td>5</td>\n",
       "      <td>3946</td>\n",
       "      <td>0</td>\n",
       "      <td>False</td>\n",
       "      <td>False</td>\n",
       "      <td>False</td>\n",
       "      <td>False</td>\n",
       "      <td>False</td>\n",
       "      <td>False</td>\n",
       "      <td>False</td>\n",
       "      <td>...</td>\n",
       "      <td>False</td>\n",
       "      <td>False</td>\n",
       "      <td>False</td>\n",
       "      <td>False</td>\n",
       "      <td>False</td>\n",
       "      <td>False</td>\n",
       "      <td>False</td>\n",
       "      <td>False</td>\n",
       "      <td>False</td>\n",
       "      <td>True</td>\n",
       "    </tr>\n",
       "    <tr>\n",
       "      <th>...</th>\n",
       "      <td>...</td>\n",
       "      <td>...</td>\n",
       "      <td>...</td>\n",
       "      <td>...</td>\n",
       "      <td>...</td>\n",
       "      <td>...</td>\n",
       "      <td>...</td>\n",
       "      <td>...</td>\n",
       "      <td>...</td>\n",
       "      <td>...</td>\n",
       "      <td>...</td>\n",
       "      <td>...</td>\n",
       "      <td>...</td>\n",
       "      <td>...</td>\n",
       "      <td>...</td>\n",
       "      <td>...</td>\n",
       "      <td>...</td>\n",
       "      <td>...</td>\n",
       "      <td>...</td>\n",
       "      <td>...</td>\n",
       "      <td>...</td>\n",
       "    </tr>\n",
       "    <tr>\n",
       "      <th>31019674</th>\n",
       "      <td>5</td>\n",
       "      <td>3622</td>\n",
       "      <td>0</td>\n",
       "      <td>False</td>\n",
       "      <td>False</td>\n",
       "      <td>False</td>\n",
       "      <td>False</td>\n",
       "      <td>False</td>\n",
       "      <td>False</td>\n",
       "      <td>False</td>\n",
       "      <td>...</td>\n",
       "      <td>False</td>\n",
       "      <td>False</td>\n",
       "      <td>False</td>\n",
       "      <td>False</td>\n",
       "      <td>False</td>\n",
       "      <td>False</td>\n",
       "      <td>False</td>\n",
       "      <td>False</td>\n",
       "      <td>False</td>\n",
       "      <td>False</td>\n",
       "    </tr>\n",
       "    <tr>\n",
       "      <th>31140991</th>\n",
       "      <td>5</td>\n",
       "      <td>3946</td>\n",
       "      <td>0</td>\n",
       "      <td>False</td>\n",
       "      <td>False</td>\n",
       "      <td>True</td>\n",
       "      <td>False</td>\n",
       "      <td>False</td>\n",
       "      <td>False</td>\n",
       "      <td>False</td>\n",
       "      <td>...</td>\n",
       "      <td>False</td>\n",
       "      <td>False</td>\n",
       "      <td>False</td>\n",
       "      <td>False</td>\n",
       "      <td>False</td>\n",
       "      <td>False</td>\n",
       "      <td>False</td>\n",
       "      <td>False</td>\n",
       "      <td>False</td>\n",
       "      <td>False</td>\n",
       "    </tr>\n",
       "    <tr>\n",
       "      <th>31195418</th>\n",
       "      <td>8143</td>\n",
       "      <td>3622</td>\n",
       "      <td>0</td>\n",
       "      <td>False</td>\n",
       "      <td>False</td>\n",
       "      <td>False</td>\n",
       "      <td>False</td>\n",
       "      <td>False</td>\n",
       "      <td>False</td>\n",
       "      <td>False</td>\n",
       "      <td>...</td>\n",
       "      <td>False</td>\n",
       "      <td>False</td>\n",
       "      <td>False</td>\n",
       "      <td>False</td>\n",
       "      <td>False</td>\n",
       "      <td>False</td>\n",
       "      <td>False</td>\n",
       "      <td>False</td>\n",
       "      <td>False</td>\n",
       "      <td>False</td>\n",
       "    </tr>\n",
       "    <tr>\n",
       "      <th>31245900</th>\n",
       "      <td>13497</td>\n",
       "      <td>997</td>\n",
       "      <td>0</td>\n",
       "      <td>False</td>\n",
       "      <td>False</td>\n",
       "      <td>False</td>\n",
       "      <td>False</td>\n",
       "      <td>False</td>\n",
       "      <td>False</td>\n",
       "      <td>False</td>\n",
       "      <td>...</td>\n",
       "      <td>False</td>\n",
       "      <td>False</td>\n",
       "      <td>False</td>\n",
       "      <td>False</td>\n",
       "      <td>False</td>\n",
       "      <td>False</td>\n",
       "      <td>False</td>\n",
       "      <td>False</td>\n",
       "      <td>False</td>\n",
       "      <td>False</td>\n",
       "    </tr>\n",
       "    <tr>\n",
       "      <th>31102146</th>\n",
       "      <td>5</td>\n",
       "      <td>3946</td>\n",
       "      <td>0</td>\n",
       "      <td>False</td>\n",
       "      <td>False</td>\n",
       "      <td>True</td>\n",
       "      <td>False</td>\n",
       "      <td>False</td>\n",
       "      <td>False</td>\n",
       "      <td>False</td>\n",
       "      <td>...</td>\n",
       "      <td>False</td>\n",
       "      <td>False</td>\n",
       "      <td>False</td>\n",
       "      <td>False</td>\n",
       "      <td>False</td>\n",
       "      <td>False</td>\n",
       "      <td>False</td>\n",
       "      <td>False</td>\n",
       "      <td>False</td>\n",
       "      <td>False</td>\n",
       "    </tr>\n",
       "  </tbody>\n",
       "</table>\n",
       "<p>3126926 rows × 225 columns</p>\n",
       "</div>"
      ]
     },
     "execution_count": 16,
     "metadata": {},
     "output_type": "execute_result"
    }
   ],
   "execution_count": 16
  },
  {
   "metadata": {
    "ExecuteTime": {
     "end_time": "2024-12-09T20:15:02.768472Z",
     "start_time": "2024-12-09T20:15:02.763245Z"
    }
   },
   "cell_type": "code",
   "source": "data_filtered.dtypes",
   "id": "6b295db67a12c126",
   "outputs": [
    {
     "data": {
      "text/plain": [
       "City                   int64\n",
       "ASN                    int64\n",
       "Login Successful       int64\n",
       "Is Account Takeover     bool\n",
       "OS_134                  bool\n",
       "                       ...  \n",
       "OS_Tizen                bool\n",
       "OS_Ubuntu               bool\n",
       "OS_WebTV                bool\n",
       "OS_Windows              bool\n",
       "OS_iOS                  bool\n",
       "Length: 225, dtype: object"
      ]
     },
     "execution_count": 17,
     "metadata": {},
     "output_type": "execute_result"
    }
   ],
   "execution_count": 17
  },
  {
   "metadata": {},
   "cell_type": "markdown",
   "source": "## Training Model",
   "id": "464d6f87eaf4efa6"
  },
  {
   "metadata": {
    "ExecuteTime": {
     "end_time": "2024-12-09T20:15:06.865236Z",
     "start_time": "2024-12-09T20:15:02.932600Z"
    }
   },
   "cell_type": "code",
   "source": [
    "from sklearn.model_selection import train_test_split\n",
    "\n",
    "X = data_filtered.drop('Is Account Takeover', axis=1)\n",
    "Y = data_filtered['Is Account Takeover']\n",
    "\n",
    "X_train, X_test, y_train, y_test = train_test_split(X, Y, test_size=0.2, random_state=42)\n"
   ],
   "id": "d3169719a331da99",
   "outputs": [],
   "execution_count": 18
  },
  {
   "metadata": {
    "ExecuteTime": {
     "end_time": "2024-12-09T20:15:07.010021Z",
     "start_time": "2024-12-09T20:15:06.895623Z"
    }
   },
   "cell_type": "code",
   "source": [
    "from sklearn.ensemble import RandomForestClassifier\n",
    "\n",
    "model = RandomForestClassifier(random_state=42)\n"
   ],
   "id": "b5a6917b692faf3f",
   "outputs": [],
   "execution_count": 19
  },
  {
   "metadata": {
    "ExecuteTime": {
     "end_time": "2024-12-09T20:17:19.673047Z",
     "start_time": "2024-12-09T20:15:07.038412Z"
    }
   },
   "cell_type": "code",
   "source": "model.fit(X_train, y_train)",
   "id": "6d1895516508707b",
   "outputs": [
    {
     "data": {
      "text/plain": [
       "RandomForestClassifier(random_state=42)"
      ],
      "text/html": [
       "<style>#sk-container-id-1 {\n",
       "  /* Definition of color scheme common for light and dark mode */\n",
       "  --sklearn-color-text: black;\n",
       "  --sklearn-color-line: gray;\n",
       "  /* Definition of color scheme for unfitted estimators */\n",
       "  --sklearn-color-unfitted-level-0: #fff5e6;\n",
       "  --sklearn-color-unfitted-level-1: #f6e4d2;\n",
       "  --sklearn-color-unfitted-level-2: #ffe0b3;\n",
       "  --sklearn-color-unfitted-level-3: chocolate;\n",
       "  /* Definition of color scheme for fitted estimators */\n",
       "  --sklearn-color-fitted-level-0: #f0f8ff;\n",
       "  --sklearn-color-fitted-level-1: #d4ebff;\n",
       "  --sklearn-color-fitted-level-2: #b3dbfd;\n",
       "  --sklearn-color-fitted-level-3: cornflowerblue;\n",
       "\n",
       "  /* Specific color for light theme */\n",
       "  --sklearn-color-text-on-default-background: var(--sg-text-color, var(--theme-code-foreground, var(--jp-content-font-color1, black)));\n",
       "  --sklearn-color-background: var(--sg-background-color, var(--theme-background, var(--jp-layout-color0, white)));\n",
       "  --sklearn-color-border-box: var(--sg-text-color, var(--theme-code-foreground, var(--jp-content-font-color1, black)));\n",
       "  --sklearn-color-icon: #696969;\n",
       "\n",
       "  @media (prefers-color-scheme: dark) {\n",
       "    /* Redefinition of color scheme for dark theme */\n",
       "    --sklearn-color-text-on-default-background: var(--sg-text-color, var(--theme-code-foreground, var(--jp-content-font-color1, white)));\n",
       "    --sklearn-color-background: var(--sg-background-color, var(--theme-background, var(--jp-layout-color0, #111)));\n",
       "    --sklearn-color-border-box: var(--sg-text-color, var(--theme-code-foreground, var(--jp-content-font-color1, white)));\n",
       "    --sklearn-color-icon: #878787;\n",
       "  }\n",
       "}\n",
       "\n",
       "#sk-container-id-1 {\n",
       "  color: var(--sklearn-color-text);\n",
       "}\n",
       "\n",
       "#sk-container-id-1 pre {\n",
       "  padding: 0;\n",
       "}\n",
       "\n",
       "#sk-container-id-1 input.sk-hidden--visually {\n",
       "  border: 0;\n",
       "  clip: rect(1px 1px 1px 1px);\n",
       "  clip: rect(1px, 1px, 1px, 1px);\n",
       "  height: 1px;\n",
       "  margin: -1px;\n",
       "  overflow: hidden;\n",
       "  padding: 0;\n",
       "  position: absolute;\n",
       "  width: 1px;\n",
       "}\n",
       "\n",
       "#sk-container-id-1 div.sk-dashed-wrapped {\n",
       "  border: 1px dashed var(--sklearn-color-line);\n",
       "  margin: 0 0.4em 0.5em 0.4em;\n",
       "  box-sizing: border-box;\n",
       "  padding-bottom: 0.4em;\n",
       "  background-color: var(--sklearn-color-background);\n",
       "}\n",
       "\n",
       "#sk-container-id-1 div.sk-container {\n",
       "  /* jupyter's `normalize.less` sets `[hidden] { display: none; }`\n",
       "     but bootstrap.min.css set `[hidden] { display: none !important; }`\n",
       "     so we also need the `!important` here to be able to override the\n",
       "     default hidden behavior on the sphinx rendered scikit-learn.org.\n",
       "     See: https://github.com/scikit-learn/scikit-learn/issues/21755 */\n",
       "  display: inline-block !important;\n",
       "  position: relative;\n",
       "}\n",
       "\n",
       "#sk-container-id-1 div.sk-text-repr-fallback {\n",
       "  display: none;\n",
       "}\n",
       "\n",
       "div.sk-parallel-item,\n",
       "div.sk-serial,\n",
       "div.sk-item {\n",
       "  /* draw centered vertical line to link estimators */\n",
       "  background-image: linear-gradient(var(--sklearn-color-text-on-default-background), var(--sklearn-color-text-on-default-background));\n",
       "  background-size: 2px 100%;\n",
       "  background-repeat: no-repeat;\n",
       "  background-position: center center;\n",
       "}\n",
       "\n",
       "/* Parallel-specific style estimator block */\n",
       "\n",
       "#sk-container-id-1 div.sk-parallel-item::after {\n",
       "  content: \"\";\n",
       "  width: 100%;\n",
       "  border-bottom: 2px solid var(--sklearn-color-text-on-default-background);\n",
       "  flex-grow: 1;\n",
       "}\n",
       "\n",
       "#sk-container-id-1 div.sk-parallel {\n",
       "  display: flex;\n",
       "  align-items: stretch;\n",
       "  justify-content: center;\n",
       "  background-color: var(--sklearn-color-background);\n",
       "  position: relative;\n",
       "}\n",
       "\n",
       "#sk-container-id-1 div.sk-parallel-item {\n",
       "  display: flex;\n",
       "  flex-direction: column;\n",
       "}\n",
       "\n",
       "#sk-container-id-1 div.sk-parallel-item:first-child::after {\n",
       "  align-self: flex-end;\n",
       "  width: 50%;\n",
       "}\n",
       "\n",
       "#sk-container-id-1 div.sk-parallel-item:last-child::after {\n",
       "  align-self: flex-start;\n",
       "  width: 50%;\n",
       "}\n",
       "\n",
       "#sk-container-id-1 div.sk-parallel-item:only-child::after {\n",
       "  width: 0;\n",
       "}\n",
       "\n",
       "/* Serial-specific style estimator block */\n",
       "\n",
       "#sk-container-id-1 div.sk-serial {\n",
       "  display: flex;\n",
       "  flex-direction: column;\n",
       "  align-items: center;\n",
       "  background-color: var(--sklearn-color-background);\n",
       "  padding-right: 1em;\n",
       "  padding-left: 1em;\n",
       "}\n",
       "\n",
       "\n",
       "/* Toggleable style: style used for estimator/Pipeline/ColumnTransformer box that is\n",
       "clickable and can be expanded/collapsed.\n",
       "- Pipeline and ColumnTransformer use this feature and define the default style\n",
       "- Estimators will overwrite some part of the style using the `sk-estimator` class\n",
       "*/\n",
       "\n",
       "/* Pipeline and ColumnTransformer style (default) */\n",
       "\n",
       "#sk-container-id-1 div.sk-toggleable {\n",
       "  /* Default theme specific background. It is overwritten whether we have a\n",
       "  specific estimator or a Pipeline/ColumnTransformer */\n",
       "  background-color: var(--sklearn-color-background);\n",
       "}\n",
       "\n",
       "/* Toggleable label */\n",
       "#sk-container-id-1 label.sk-toggleable__label {\n",
       "  cursor: pointer;\n",
       "  display: block;\n",
       "  width: 100%;\n",
       "  margin-bottom: 0;\n",
       "  padding: 0.5em;\n",
       "  box-sizing: border-box;\n",
       "  text-align: center;\n",
       "}\n",
       "\n",
       "#sk-container-id-1 label.sk-toggleable__label-arrow:before {\n",
       "  /* Arrow on the left of the label */\n",
       "  content: \"▸\";\n",
       "  float: left;\n",
       "  margin-right: 0.25em;\n",
       "  color: var(--sklearn-color-icon);\n",
       "}\n",
       "\n",
       "#sk-container-id-1 label.sk-toggleable__label-arrow:hover:before {\n",
       "  color: var(--sklearn-color-text);\n",
       "}\n",
       "\n",
       "/* Toggleable content - dropdown */\n",
       "\n",
       "#sk-container-id-1 div.sk-toggleable__content {\n",
       "  max-height: 0;\n",
       "  max-width: 0;\n",
       "  overflow: hidden;\n",
       "  text-align: left;\n",
       "  /* unfitted */\n",
       "  background-color: var(--sklearn-color-unfitted-level-0);\n",
       "}\n",
       "\n",
       "#sk-container-id-1 div.sk-toggleable__content.fitted {\n",
       "  /* fitted */\n",
       "  background-color: var(--sklearn-color-fitted-level-0);\n",
       "}\n",
       "\n",
       "#sk-container-id-1 div.sk-toggleable__content pre {\n",
       "  margin: 0.2em;\n",
       "  border-radius: 0.25em;\n",
       "  color: var(--sklearn-color-text);\n",
       "  /* unfitted */\n",
       "  background-color: var(--sklearn-color-unfitted-level-0);\n",
       "}\n",
       "\n",
       "#sk-container-id-1 div.sk-toggleable__content.fitted pre {\n",
       "  /* unfitted */\n",
       "  background-color: var(--sklearn-color-fitted-level-0);\n",
       "}\n",
       "\n",
       "#sk-container-id-1 input.sk-toggleable__control:checked~div.sk-toggleable__content {\n",
       "  /* Expand drop-down */\n",
       "  max-height: 200px;\n",
       "  max-width: 100%;\n",
       "  overflow: auto;\n",
       "}\n",
       "\n",
       "#sk-container-id-1 input.sk-toggleable__control:checked~label.sk-toggleable__label-arrow:before {\n",
       "  content: \"▾\";\n",
       "}\n",
       "\n",
       "/* Pipeline/ColumnTransformer-specific style */\n",
       "\n",
       "#sk-container-id-1 div.sk-label input.sk-toggleable__control:checked~label.sk-toggleable__label {\n",
       "  color: var(--sklearn-color-text);\n",
       "  background-color: var(--sklearn-color-unfitted-level-2);\n",
       "}\n",
       "\n",
       "#sk-container-id-1 div.sk-label.fitted input.sk-toggleable__control:checked~label.sk-toggleable__label {\n",
       "  background-color: var(--sklearn-color-fitted-level-2);\n",
       "}\n",
       "\n",
       "/* Estimator-specific style */\n",
       "\n",
       "/* Colorize estimator box */\n",
       "#sk-container-id-1 div.sk-estimator input.sk-toggleable__control:checked~label.sk-toggleable__label {\n",
       "  /* unfitted */\n",
       "  background-color: var(--sklearn-color-unfitted-level-2);\n",
       "}\n",
       "\n",
       "#sk-container-id-1 div.sk-estimator.fitted input.sk-toggleable__control:checked~label.sk-toggleable__label {\n",
       "  /* fitted */\n",
       "  background-color: var(--sklearn-color-fitted-level-2);\n",
       "}\n",
       "\n",
       "#sk-container-id-1 div.sk-label label.sk-toggleable__label,\n",
       "#sk-container-id-1 div.sk-label label {\n",
       "  /* The background is the default theme color */\n",
       "  color: var(--sklearn-color-text-on-default-background);\n",
       "}\n",
       "\n",
       "/* On hover, darken the color of the background */\n",
       "#sk-container-id-1 div.sk-label:hover label.sk-toggleable__label {\n",
       "  color: var(--sklearn-color-text);\n",
       "  background-color: var(--sklearn-color-unfitted-level-2);\n",
       "}\n",
       "\n",
       "/* Label box, darken color on hover, fitted */\n",
       "#sk-container-id-1 div.sk-label.fitted:hover label.sk-toggleable__label.fitted {\n",
       "  color: var(--sklearn-color-text);\n",
       "  background-color: var(--sklearn-color-fitted-level-2);\n",
       "}\n",
       "\n",
       "/* Estimator label */\n",
       "\n",
       "#sk-container-id-1 div.sk-label label {\n",
       "  font-family: monospace;\n",
       "  font-weight: bold;\n",
       "  display: inline-block;\n",
       "  line-height: 1.2em;\n",
       "}\n",
       "\n",
       "#sk-container-id-1 div.sk-label-container {\n",
       "  text-align: center;\n",
       "}\n",
       "\n",
       "/* Estimator-specific */\n",
       "#sk-container-id-1 div.sk-estimator {\n",
       "  font-family: monospace;\n",
       "  border: 1px dotted var(--sklearn-color-border-box);\n",
       "  border-radius: 0.25em;\n",
       "  box-sizing: border-box;\n",
       "  margin-bottom: 0.5em;\n",
       "  /* unfitted */\n",
       "  background-color: var(--sklearn-color-unfitted-level-0);\n",
       "}\n",
       "\n",
       "#sk-container-id-1 div.sk-estimator.fitted {\n",
       "  /* fitted */\n",
       "  background-color: var(--sklearn-color-fitted-level-0);\n",
       "}\n",
       "\n",
       "/* on hover */\n",
       "#sk-container-id-1 div.sk-estimator:hover {\n",
       "  /* unfitted */\n",
       "  background-color: var(--sklearn-color-unfitted-level-2);\n",
       "}\n",
       "\n",
       "#sk-container-id-1 div.sk-estimator.fitted:hover {\n",
       "  /* fitted */\n",
       "  background-color: var(--sklearn-color-fitted-level-2);\n",
       "}\n",
       "\n",
       "/* Specification for estimator info (e.g. \"i\" and \"?\") */\n",
       "\n",
       "/* Common style for \"i\" and \"?\" */\n",
       "\n",
       ".sk-estimator-doc-link,\n",
       "a:link.sk-estimator-doc-link,\n",
       "a:visited.sk-estimator-doc-link {\n",
       "  float: right;\n",
       "  font-size: smaller;\n",
       "  line-height: 1em;\n",
       "  font-family: monospace;\n",
       "  background-color: var(--sklearn-color-background);\n",
       "  border-radius: 1em;\n",
       "  height: 1em;\n",
       "  width: 1em;\n",
       "  text-decoration: none !important;\n",
       "  margin-left: 1ex;\n",
       "  /* unfitted */\n",
       "  border: var(--sklearn-color-unfitted-level-1) 1pt solid;\n",
       "  color: var(--sklearn-color-unfitted-level-1);\n",
       "}\n",
       "\n",
       ".sk-estimator-doc-link.fitted,\n",
       "a:link.sk-estimator-doc-link.fitted,\n",
       "a:visited.sk-estimator-doc-link.fitted {\n",
       "  /* fitted */\n",
       "  border: var(--sklearn-color-fitted-level-1) 1pt solid;\n",
       "  color: var(--sklearn-color-fitted-level-1);\n",
       "}\n",
       "\n",
       "/* On hover */\n",
       "div.sk-estimator:hover .sk-estimator-doc-link:hover,\n",
       ".sk-estimator-doc-link:hover,\n",
       "div.sk-label-container:hover .sk-estimator-doc-link:hover,\n",
       ".sk-estimator-doc-link:hover {\n",
       "  /* unfitted */\n",
       "  background-color: var(--sklearn-color-unfitted-level-3);\n",
       "  color: var(--sklearn-color-background);\n",
       "  text-decoration: none;\n",
       "}\n",
       "\n",
       "div.sk-estimator.fitted:hover .sk-estimator-doc-link.fitted:hover,\n",
       ".sk-estimator-doc-link.fitted:hover,\n",
       "div.sk-label-container:hover .sk-estimator-doc-link.fitted:hover,\n",
       ".sk-estimator-doc-link.fitted:hover {\n",
       "  /* fitted */\n",
       "  background-color: var(--sklearn-color-fitted-level-3);\n",
       "  color: var(--sklearn-color-background);\n",
       "  text-decoration: none;\n",
       "}\n",
       "\n",
       "/* Span, style for the box shown on hovering the info icon */\n",
       ".sk-estimator-doc-link span {\n",
       "  display: none;\n",
       "  z-index: 9999;\n",
       "  position: relative;\n",
       "  font-weight: normal;\n",
       "  right: .2ex;\n",
       "  padding: .5ex;\n",
       "  margin: .5ex;\n",
       "  width: min-content;\n",
       "  min-width: 20ex;\n",
       "  max-width: 50ex;\n",
       "  color: var(--sklearn-color-text);\n",
       "  box-shadow: 2pt 2pt 4pt #999;\n",
       "  /* unfitted */\n",
       "  background: var(--sklearn-color-unfitted-level-0);\n",
       "  border: .5pt solid var(--sklearn-color-unfitted-level-3);\n",
       "}\n",
       "\n",
       ".sk-estimator-doc-link.fitted span {\n",
       "  /* fitted */\n",
       "  background: var(--sklearn-color-fitted-level-0);\n",
       "  border: var(--sklearn-color-fitted-level-3);\n",
       "}\n",
       "\n",
       ".sk-estimator-doc-link:hover span {\n",
       "  display: block;\n",
       "}\n",
       "\n",
       "/* \"?\"-specific style due to the `<a>` HTML tag */\n",
       "\n",
       "#sk-container-id-1 a.estimator_doc_link {\n",
       "  float: right;\n",
       "  font-size: 1rem;\n",
       "  line-height: 1em;\n",
       "  font-family: monospace;\n",
       "  background-color: var(--sklearn-color-background);\n",
       "  border-radius: 1rem;\n",
       "  height: 1rem;\n",
       "  width: 1rem;\n",
       "  text-decoration: none;\n",
       "  /* unfitted */\n",
       "  color: var(--sklearn-color-unfitted-level-1);\n",
       "  border: var(--sklearn-color-unfitted-level-1) 1pt solid;\n",
       "}\n",
       "\n",
       "#sk-container-id-1 a.estimator_doc_link.fitted {\n",
       "  /* fitted */\n",
       "  border: var(--sklearn-color-fitted-level-1) 1pt solid;\n",
       "  color: var(--sklearn-color-fitted-level-1);\n",
       "}\n",
       "\n",
       "/* On hover */\n",
       "#sk-container-id-1 a.estimator_doc_link:hover {\n",
       "  /* unfitted */\n",
       "  background-color: var(--sklearn-color-unfitted-level-3);\n",
       "  color: var(--sklearn-color-background);\n",
       "  text-decoration: none;\n",
       "}\n",
       "\n",
       "#sk-container-id-1 a.estimator_doc_link.fitted:hover {\n",
       "  /* fitted */\n",
       "  background-color: var(--sklearn-color-fitted-level-3);\n",
       "}\n",
       "</style><div id=\"sk-container-id-1\" class=\"sk-top-container\"><div class=\"sk-text-repr-fallback\"><pre>RandomForestClassifier(random_state=42)</pre><b>In a Jupyter environment, please rerun this cell to show the HTML representation or trust the notebook. <br />On GitHub, the HTML representation is unable to render, please try loading this page with nbviewer.org.</b></div><div class=\"sk-container\" hidden><div class=\"sk-item\"><div class=\"sk-estimator fitted sk-toggleable\"><input class=\"sk-toggleable__control sk-hidden--visually\" id=\"sk-estimator-id-1\" type=\"checkbox\" checked><label for=\"sk-estimator-id-1\" class=\"sk-toggleable__label fitted sk-toggleable__label-arrow fitted\">&nbsp;&nbsp;RandomForestClassifier<a class=\"sk-estimator-doc-link fitted\" rel=\"noreferrer\" target=\"_blank\" href=\"https://scikit-learn.org/1.5/modules/generated/sklearn.ensemble.RandomForestClassifier.html\">?<span>Documentation for RandomForestClassifier</span></a><span class=\"sk-estimator-doc-link fitted\">i<span>Fitted</span></span></label><div class=\"sk-toggleable__content fitted\"><pre>RandomForestClassifier(random_state=42)</pre></div> </div></div></div></div>"
      ]
     },
     "execution_count": 20,
     "metadata": {},
     "output_type": "execute_result"
    }
   ],
   "execution_count": 20
  },
  {
   "metadata": {
    "ExecuteTime": {
     "end_time": "2024-12-09T20:19:25.452478Z",
     "start_time": "2024-12-09T20:19:22.883255Z"
    }
   },
   "cell_type": "code",
   "source": [
    "from sklearn.metrics import accuracy_score, classification_report\n",
    "\n",
    "y_pred = model.predict(X_test)\n",
    "\n",
    "accuracy = accuracy_score(y_test, y_pred)\n",
    "print(f'Accuracy: {accuracy:.4f}')\n",
    "print('Classification Report:')\n",
    "print(classification_report(y_test, y_pred))"
   ],
   "id": "be85dc39747f1804",
   "outputs": [
    {
     "name": "stdout",
     "output_type": "stream",
     "text": [
      "Accuracy: 1.0000\n",
      "Classification Report:\n",
      "              precision    recall  f1-score   support\n",
      "\n",
      "       False       1.00      1.00      1.00    625383\n",
      "        True       1.00      0.00      0.00         3\n",
      "\n",
      "    accuracy                           1.00    625386\n",
      "   macro avg       1.00      0.50      0.50    625386\n",
      "weighted avg       1.00      1.00      1.00    625386\n",
      "\n"
     ]
    }
   ],
   "execution_count": 22
  }
 ],
 "metadata": {
  "kernelspec": {
   "display_name": ".conda",
   "language": "python",
   "name": "python3"
  },
  "language_info": {
   "codemirror_mode": {
    "name": "ipython",
    "version": 3
   },
   "file_extension": ".py",
   "mimetype": "text/x-python",
   "name": "python",
   "nbconvert_exporter": "python",
   "pygments_lexer": "ipython3",
   "version": "3.11.10"
  }
 },
 "nbformat": 4,
 "nbformat_minor": 5
}
