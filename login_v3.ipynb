{
 "cells": [
  {
   "cell_type": "markdown",
   "id": "438cd21c-f152-4738-b8d4-375c2aa1f859",
   "metadata": {},
   "source": "# Risk Based Access Control : Machine Learning for Identity Threat Detection v2"
  },
  {
   "metadata": {
    "ExecuteTime": {
     "end_time": "2024-12-30T16:46:41.054644Z",
     "start_time": "2024-12-30T16:46:41.052136Z"
    }
   },
   "cell_type": "code",
   "source": "RANDOM_STATE = 42",
   "id": "1bebd6d979a23b8",
   "outputs": [],
   "execution_count": 122
  },
  {
   "cell_type": "markdown",
   "id": "9847cd61-73fa-44ff-b393-b7c29d999ff5",
   "metadata": {},
   "source": "## Loading and renaming data"
  },
  {
   "cell_type": "code",
   "id": "bf88b3c2-df79-4aa2-a760-034d2698db00",
   "metadata": {
    "jupyter": {
     "source_hidden": true
    },
    "ExecuteTime": {
     "end_time": "2024-12-30T16:46:41.099457Z",
     "start_time": "2024-12-30T16:46:41.097146Z"
    }
   },
   "source": "import pandas as pd",
   "outputs": [],
   "execution_count": 123
  },
  {
   "cell_type": "code",
   "id": "e0389ea9-2049-473d-bd0f-f9f6890afb95",
   "metadata": {
    "ExecuteTime": {
     "end_time": "2024-12-30T16:48:31.632782Z",
     "start_time": "2024-12-30T16:46:41.147458Z"
    }
   },
   "source": [
    "chunk_size = 1000000\n",
    "chunks = []\n",
    "sample_fraction_majority = 0.0001\n",
    "sample_fraction_minority = 1\n",
    "RANDOM_STATE = 42\n",
    "\n",
    "for i, chunk in enumerate(pd.read_csv(\"data/rba-dataset.csv\", chunksize=chunk_size)):\n",
    "    minority_class = chunk[chunk[\"Is Account Takeover\"] == True]\n",
    "    majority_class = chunk[chunk[\"Is Account Takeover\"] == False]\n",
    "\n",
    "    sampled_minority = minority_class.sample(frac=sample_fraction_minority, random_state=RANDOM_STATE)\n",
    "    sampled_majority = majority_class.sample(frac=sample_fraction_majority, random_state=RANDOM_STATE)\n",
    "\n",
    "    combined_sample = pd.concat([sampled_minority, sampled_majority], axis=0)\n",
    "    chunks.append(combined_sample)\n",
    "\n",
    "    print(f\"chunk {i} / 31\")\n",
    "\n",
    "data = pd.concat(chunks, axis=0)\n",
    "\n",
    "data = data.sample(frac=1, random_state=RANDOM_STATE).reset_index(drop=True)\n",
    "\n",
    "data.head()"
   ],
   "outputs": [
    {
     "name": "stdout",
     "output_type": "stream",
     "text": [
      "chunk 0 / 31\n",
      "chunk 1 / 31\n",
      "chunk 2 / 31\n",
      "chunk 3 / 31\n",
      "chunk 4 / 31\n",
      "chunk 5 / 31\n",
      "chunk 6 / 31\n",
      "chunk 7 / 31\n",
      "chunk 8 / 31\n",
      "chunk 9 / 31\n",
      "chunk 10 / 31\n",
      "chunk 11 / 31\n",
      "chunk 12 / 31\n",
      "chunk 13 / 31\n",
      "chunk 14 / 31\n",
      "chunk 15 / 31\n",
      "chunk 16 / 31\n",
      "chunk 17 / 31\n",
      "chunk 18 / 31\n",
      "chunk 19 / 31\n",
      "chunk 20 / 31\n",
      "chunk 21 / 31\n",
      "chunk 22 / 31\n",
      "chunk 23 / 31\n",
      "chunk 24 / 31\n",
      "chunk 25 / 31\n",
      "chunk 26 / 31\n",
      "chunk 27 / 31\n",
      "chunk 28 / 31\n",
      "chunk 29 / 31\n",
      "chunk 30 / 31\n",
      "chunk 31 / 31\n"
     ]
    },
    {
     "data": {
      "text/plain": [
       "      index          Login Timestamp              User ID  \\\n",
       "0  29244518  2021-02-03 02:41:58.307  8883596012754605922   \n",
       "1   1105008  2020-02-18 00:56:20.230  3037641017366924328   \n",
       "2   3031315  2020-03-15 16:57:13.252  2446886407948496390   \n",
       "3   1331290  2020-02-20 19:41:10.650  9218785402660907923   \n",
       "4  27480866  2021-01-13 02:58:11.697 -4324475583306591935   \n",
       "\n",
       "   Round-Trip Time [ms]      IP Address Country Region         City     ASN  \\\n",
       "0                   NaN     170.39.78.3      US      -            -  393398   \n",
       "1                   NaN  156.52.180.228      NO  Viken  Fredrikstad   29695   \n",
       "2                   NaN  139.164.229.21      NO  Viken      Drammen   29695   \n",
       "3                   NaN   45.13.240.204      NO      -            -   29695   \n",
       "4                   NaN     10.0.52.159      DE      -            -  500254   \n",
       "\n",
       "                                   User Agent String Browser Name and Version  \\\n",
       "0  Mozilla/5.0  (iPhone; CPU iPhone OS 13_4 like ...  Chrome Mobile 81.0.4044   \n",
       "1  Mozilla/5.0  (Linux; U; Android 2.2) Gecko/201...      Firefox 20.0.0.1618   \n",
       "2  Mozilla/5.0  (iPhone; CPU iPhone OS 11_2_6 lik...  Chrome Mobile 81.0.4044   \n",
       "3  Mozilla/5.0  (iPhone; CPU iPhone OS 9_0_2 like...            Android 2.3.6   \n",
       "4                     VLC/3.0.0-git LibVLC/3.0.0-git            VLC 3.0.0-git   \n",
       "\n",
       "  OS Name and Version Device Type  Login Successful  Is Attack IP  \\\n",
       "0            iOS 13.4      mobile             False         False   \n",
       "1         Android 2.2      mobile              True         False   \n",
       "2          iOS 11.2.6      mobile              True         False   \n",
       "3           iOS 9.0.2      tablet              True         False   \n",
       "4              Other      unknown             False          True   \n",
       "\n",
       "   Is Account Takeover  \n",
       "0                False  \n",
       "1                False  \n",
       "2                False  \n",
       "3                False  \n",
       "4                False  "
      ],
      "text/html": [
       "<div>\n",
       "<style scoped>\n",
       "    .dataframe tbody tr th:only-of-type {\n",
       "        vertical-align: middle;\n",
       "    }\n",
       "\n",
       "    .dataframe tbody tr th {\n",
       "        vertical-align: top;\n",
       "    }\n",
       "\n",
       "    .dataframe thead th {\n",
       "        text-align: right;\n",
       "    }\n",
       "</style>\n",
       "<table border=\"1\" class=\"dataframe\">\n",
       "  <thead>\n",
       "    <tr style=\"text-align: right;\">\n",
       "      <th></th>\n",
       "      <th>index</th>\n",
       "      <th>Login Timestamp</th>\n",
       "      <th>User ID</th>\n",
       "      <th>Round-Trip Time [ms]</th>\n",
       "      <th>IP Address</th>\n",
       "      <th>Country</th>\n",
       "      <th>Region</th>\n",
       "      <th>City</th>\n",
       "      <th>ASN</th>\n",
       "      <th>User Agent String</th>\n",
       "      <th>Browser Name and Version</th>\n",
       "      <th>OS Name and Version</th>\n",
       "      <th>Device Type</th>\n",
       "      <th>Login Successful</th>\n",
       "      <th>Is Attack IP</th>\n",
       "      <th>Is Account Takeover</th>\n",
       "    </tr>\n",
       "  </thead>\n",
       "  <tbody>\n",
       "    <tr>\n",
       "      <th>0</th>\n",
       "      <td>29244518</td>\n",
       "      <td>2021-02-03 02:41:58.307</td>\n",
       "      <td>8883596012754605922</td>\n",
       "      <td>NaN</td>\n",
       "      <td>170.39.78.3</td>\n",
       "      <td>US</td>\n",
       "      <td>-</td>\n",
       "      <td>-</td>\n",
       "      <td>393398</td>\n",
       "      <td>Mozilla/5.0  (iPhone; CPU iPhone OS 13_4 like ...</td>\n",
       "      <td>Chrome Mobile 81.0.4044</td>\n",
       "      <td>iOS 13.4</td>\n",
       "      <td>mobile</td>\n",
       "      <td>False</td>\n",
       "      <td>False</td>\n",
       "      <td>False</td>\n",
       "    </tr>\n",
       "    <tr>\n",
       "      <th>1</th>\n",
       "      <td>1105008</td>\n",
       "      <td>2020-02-18 00:56:20.230</td>\n",
       "      <td>3037641017366924328</td>\n",
       "      <td>NaN</td>\n",
       "      <td>156.52.180.228</td>\n",
       "      <td>NO</td>\n",
       "      <td>Viken</td>\n",
       "      <td>Fredrikstad</td>\n",
       "      <td>29695</td>\n",
       "      <td>Mozilla/5.0  (Linux; U; Android 2.2) Gecko/201...</td>\n",
       "      <td>Firefox 20.0.0.1618</td>\n",
       "      <td>Android 2.2</td>\n",
       "      <td>mobile</td>\n",
       "      <td>True</td>\n",
       "      <td>False</td>\n",
       "      <td>False</td>\n",
       "    </tr>\n",
       "    <tr>\n",
       "      <th>2</th>\n",
       "      <td>3031315</td>\n",
       "      <td>2020-03-15 16:57:13.252</td>\n",
       "      <td>2446886407948496390</td>\n",
       "      <td>NaN</td>\n",
       "      <td>139.164.229.21</td>\n",
       "      <td>NO</td>\n",
       "      <td>Viken</td>\n",
       "      <td>Drammen</td>\n",
       "      <td>29695</td>\n",
       "      <td>Mozilla/5.0  (iPhone; CPU iPhone OS 11_2_6 lik...</td>\n",
       "      <td>Chrome Mobile 81.0.4044</td>\n",
       "      <td>iOS 11.2.6</td>\n",
       "      <td>mobile</td>\n",
       "      <td>True</td>\n",
       "      <td>False</td>\n",
       "      <td>False</td>\n",
       "    </tr>\n",
       "    <tr>\n",
       "      <th>3</th>\n",
       "      <td>1331290</td>\n",
       "      <td>2020-02-20 19:41:10.650</td>\n",
       "      <td>9218785402660907923</td>\n",
       "      <td>NaN</td>\n",
       "      <td>45.13.240.204</td>\n",
       "      <td>NO</td>\n",
       "      <td>-</td>\n",
       "      <td>-</td>\n",
       "      <td>29695</td>\n",
       "      <td>Mozilla/5.0  (iPhone; CPU iPhone OS 9_0_2 like...</td>\n",
       "      <td>Android 2.3.6</td>\n",
       "      <td>iOS 9.0.2</td>\n",
       "      <td>tablet</td>\n",
       "      <td>True</td>\n",
       "      <td>False</td>\n",
       "      <td>False</td>\n",
       "    </tr>\n",
       "    <tr>\n",
       "      <th>4</th>\n",
       "      <td>27480866</td>\n",
       "      <td>2021-01-13 02:58:11.697</td>\n",
       "      <td>-4324475583306591935</td>\n",
       "      <td>NaN</td>\n",
       "      <td>10.0.52.159</td>\n",
       "      <td>DE</td>\n",
       "      <td>-</td>\n",
       "      <td>-</td>\n",
       "      <td>500254</td>\n",
       "      <td>VLC/3.0.0-git LibVLC/3.0.0-git</td>\n",
       "      <td>VLC 3.0.0-git</td>\n",
       "      <td>Other</td>\n",
       "      <td>unknown</td>\n",
       "      <td>False</td>\n",
       "      <td>True</td>\n",
       "      <td>False</td>\n",
       "    </tr>\n",
       "  </tbody>\n",
       "</table>\n",
       "</div>"
      ]
     },
     "execution_count": 124,
     "metadata": {},
     "output_type": "execute_result"
    }
   ],
   "execution_count": 124
  },
  {
   "metadata": {},
   "cell_type": "markdown",
   "source": "### Renaming our column",
   "id": "25b8908b230940ea"
  },
  {
   "metadata": {
    "ExecuteTime": {
     "end_time": "2024-12-30T16:48:31.682364Z",
     "start_time": "2024-12-30T16:48:31.665930Z"
    }
   },
   "cell_type": "code",
   "source": [
    "new_names = {\n",
    "    \"Login Timestamp\": \"timestamp\",\n",
    "    \"User ID\": \"id\",\n",
    "    \"Round-Trip Time [ms]\": \"rtt_ms\",\n",
    "    \"IP Address\": \"ip\",\n",
    "    \"Country\": \"country\",\n",
    "    \"Region\": \"region\",\n",
    "    \"City\": \"city\",\n",
    "    \"ASN\": \"asn\",\n",
    "    \"User Agent String\": \"user_agent\",\n",
    "    \"Browser Name and Version\": \"browser\",\n",
    "    \"OS Name and Version\": \"os\",\n",
    "    \"Device Type\": \"device\",\n",
    "    \"Login Successful\": \"login_success\",\n",
    "    \"Is Attack IP\": \"is_attack_ip\",\n",
    "    \"Is Account Takeover\": \"is_account_takeover\"\n",
    "}\n",
    "\n",
    "data.rename(columns=new_names, inplace=True)\n",
    "data\n"
   ],
   "id": "e7f97bdb546cb2fe",
   "outputs": [
    {
     "data": {
      "text/plain": [
       "         index                timestamp                   id  rtt_ms  \\\n",
       "0     29244518  2021-02-03 02:41:58.307  8883596012754605922     NaN   \n",
       "1      1105008  2020-02-18 00:56:20.230  3037641017366924328     NaN   \n",
       "2      3031315  2020-03-15 16:57:13.252  2446886407948496390     NaN   \n",
       "3      1331290  2020-02-20 19:41:10.650  9218785402660907923     NaN   \n",
       "4     27480866  2021-01-13 02:58:11.697 -4324475583306591935     NaN   \n",
       "...        ...                      ...                  ...     ...   \n",
       "3263  10454433  2020-06-27 15:47:35.743  6710682370423549012     NaN   \n",
       "3264  10526408  2020-06-28 15:20:27.822 -1136293028359551315     NaN   \n",
       "3265  12041296  2020-07-19 06:57:16.841  5140709821083845236     NaN   \n",
       "3266   8708580  2020-06-03 09:28:56.954  5069369253943453141     NaN   \n",
       "3267  30677814  2021-02-21 15:53:16.903  6154359082336158419     NaN   \n",
       "\n",
       "                  ip country         region          city     asn  \\\n",
       "0        170.39.78.3      US              -             -  393398   \n",
       "1     156.52.180.228      NO          Viken   Fredrikstad   29695   \n",
       "2     139.164.229.21      NO          Viken       Drammen   29695   \n",
       "3      45.13.240.204      NO              -             -   29695   \n",
       "4        10.0.52.159      DE              -             -  500254   \n",
       "...              ...     ...            ...           ...     ...   \n",
       "3263   91.233.208.53      CZ  Kraj Vysocina      Bohdalec   31559   \n",
       "3264  23.137.225.106      US              -             -  393398   \n",
       "3265    80.232.79.13      NO          Agder  Kristiansand   25400   \n",
       "3266  91.240.236.172      RO          Ilfov  Petrachioaia   62350   \n",
       "3267   170.39.76.105      US              -             -  393398   \n",
       "\n",
       "                                             user_agent  \\\n",
       "0     Mozilla/5.0  (iPhone; CPU iPhone OS 13_4 like ...   \n",
       "1     Mozilla/5.0  (Linux; U; Android 2.2) Gecko/201...   \n",
       "2     Mozilla/5.0  (iPhone; CPU iPhone OS 11_2_6 lik...   \n",
       "3     Mozilla/5.0  (iPhone; CPU iPhone OS 9_0_2 like...   \n",
       "4                        VLC/3.0.0-git LibVLC/3.0.0-git   \n",
       "...                                                 ...   \n",
       "3263  Mozilla/5.0  (iPhone; CPU iPhone OS 13_4 like ...   \n",
       "3264  Mozilla/5.0  (iPhone; CPU iPhone OS 11_2_6 lik...   \n",
       "3265  Mozilla/5.0  (iPhone; CPU iPhone OS 13_4 like ...   \n",
       "3266  Mozilla/5.0 (Macintosh; Intel Mac OS X 10_14_6...   \n",
       "3267  Mozilla/5.0  (Linux; Android 4.1; Galaxy Nexus...   \n",
       "\n",
       "                           browser                os   device  login_success  \\\n",
       "0          Chrome Mobile 81.0.4044          iOS 13.4   mobile          False   \n",
       "1              Firefox 20.0.0.1618       Android 2.2   mobile           True   \n",
       "2          Chrome Mobile 81.0.4044        iOS 11.2.6   mobile           True   \n",
       "3                    Android 2.3.6         iOS 9.0.2   tablet           True   \n",
       "4                    VLC 3.0.0-git            Other   unknown          False   \n",
       "...                            ...               ...      ...            ...   \n",
       "3263  Chrome Mobile 81.0.4044.1925          iOS 13.4   mobile           True   \n",
       "3264  Chrome Mobile 81.0.4044.1925        iOS 11.2.6   mobile          False   \n",
       "3265  Chrome Mobile 81.0.4044.1929          iOS 13.4   mobile           True   \n",
       "3266      Chrome 79.0.3945.192.218  Mac OS X 10.14.6  desktop           True   \n",
       "3267       Chrome Mobile 49.0.2623       Android 4.1   mobile           True   \n",
       "\n",
       "      is_attack_ip  is_account_takeover  \n",
       "0            False                False  \n",
       "1            False                False  \n",
       "2            False                False  \n",
       "3            False                False  \n",
       "4             True                False  \n",
       "...            ...                  ...  \n",
       "3263         False                False  \n",
       "3264         False                False  \n",
       "3265         False                False  \n",
       "3266          True                 True  \n",
       "3267         False                False  \n",
       "\n",
       "[3268 rows x 16 columns]"
      ],
      "text/html": [
       "<div>\n",
       "<style scoped>\n",
       "    .dataframe tbody tr th:only-of-type {\n",
       "        vertical-align: middle;\n",
       "    }\n",
       "\n",
       "    .dataframe tbody tr th {\n",
       "        vertical-align: top;\n",
       "    }\n",
       "\n",
       "    .dataframe thead th {\n",
       "        text-align: right;\n",
       "    }\n",
       "</style>\n",
       "<table border=\"1\" class=\"dataframe\">\n",
       "  <thead>\n",
       "    <tr style=\"text-align: right;\">\n",
       "      <th></th>\n",
       "      <th>index</th>\n",
       "      <th>timestamp</th>\n",
       "      <th>id</th>\n",
       "      <th>rtt_ms</th>\n",
       "      <th>ip</th>\n",
       "      <th>country</th>\n",
       "      <th>region</th>\n",
       "      <th>city</th>\n",
       "      <th>asn</th>\n",
       "      <th>user_agent</th>\n",
       "      <th>browser</th>\n",
       "      <th>os</th>\n",
       "      <th>device</th>\n",
       "      <th>login_success</th>\n",
       "      <th>is_attack_ip</th>\n",
       "      <th>is_account_takeover</th>\n",
       "    </tr>\n",
       "  </thead>\n",
       "  <tbody>\n",
       "    <tr>\n",
       "      <th>0</th>\n",
       "      <td>29244518</td>\n",
       "      <td>2021-02-03 02:41:58.307</td>\n",
       "      <td>8883596012754605922</td>\n",
       "      <td>NaN</td>\n",
       "      <td>170.39.78.3</td>\n",
       "      <td>US</td>\n",
       "      <td>-</td>\n",
       "      <td>-</td>\n",
       "      <td>393398</td>\n",
       "      <td>Mozilla/5.0  (iPhone; CPU iPhone OS 13_4 like ...</td>\n",
       "      <td>Chrome Mobile 81.0.4044</td>\n",
       "      <td>iOS 13.4</td>\n",
       "      <td>mobile</td>\n",
       "      <td>False</td>\n",
       "      <td>False</td>\n",
       "      <td>False</td>\n",
       "    </tr>\n",
       "    <tr>\n",
       "      <th>1</th>\n",
       "      <td>1105008</td>\n",
       "      <td>2020-02-18 00:56:20.230</td>\n",
       "      <td>3037641017366924328</td>\n",
       "      <td>NaN</td>\n",
       "      <td>156.52.180.228</td>\n",
       "      <td>NO</td>\n",
       "      <td>Viken</td>\n",
       "      <td>Fredrikstad</td>\n",
       "      <td>29695</td>\n",
       "      <td>Mozilla/5.0  (Linux; U; Android 2.2) Gecko/201...</td>\n",
       "      <td>Firefox 20.0.0.1618</td>\n",
       "      <td>Android 2.2</td>\n",
       "      <td>mobile</td>\n",
       "      <td>True</td>\n",
       "      <td>False</td>\n",
       "      <td>False</td>\n",
       "    </tr>\n",
       "    <tr>\n",
       "      <th>2</th>\n",
       "      <td>3031315</td>\n",
       "      <td>2020-03-15 16:57:13.252</td>\n",
       "      <td>2446886407948496390</td>\n",
       "      <td>NaN</td>\n",
       "      <td>139.164.229.21</td>\n",
       "      <td>NO</td>\n",
       "      <td>Viken</td>\n",
       "      <td>Drammen</td>\n",
       "      <td>29695</td>\n",
       "      <td>Mozilla/5.0  (iPhone; CPU iPhone OS 11_2_6 lik...</td>\n",
       "      <td>Chrome Mobile 81.0.4044</td>\n",
       "      <td>iOS 11.2.6</td>\n",
       "      <td>mobile</td>\n",
       "      <td>True</td>\n",
       "      <td>False</td>\n",
       "      <td>False</td>\n",
       "    </tr>\n",
       "    <tr>\n",
       "      <th>3</th>\n",
       "      <td>1331290</td>\n",
       "      <td>2020-02-20 19:41:10.650</td>\n",
       "      <td>9218785402660907923</td>\n",
       "      <td>NaN</td>\n",
       "      <td>45.13.240.204</td>\n",
       "      <td>NO</td>\n",
       "      <td>-</td>\n",
       "      <td>-</td>\n",
       "      <td>29695</td>\n",
       "      <td>Mozilla/5.0  (iPhone; CPU iPhone OS 9_0_2 like...</td>\n",
       "      <td>Android 2.3.6</td>\n",
       "      <td>iOS 9.0.2</td>\n",
       "      <td>tablet</td>\n",
       "      <td>True</td>\n",
       "      <td>False</td>\n",
       "      <td>False</td>\n",
       "    </tr>\n",
       "    <tr>\n",
       "      <th>4</th>\n",
       "      <td>27480866</td>\n",
       "      <td>2021-01-13 02:58:11.697</td>\n",
       "      <td>-4324475583306591935</td>\n",
       "      <td>NaN</td>\n",
       "      <td>10.0.52.159</td>\n",
       "      <td>DE</td>\n",
       "      <td>-</td>\n",
       "      <td>-</td>\n",
       "      <td>500254</td>\n",
       "      <td>VLC/3.0.0-git LibVLC/3.0.0-git</td>\n",
       "      <td>VLC 3.0.0-git</td>\n",
       "      <td>Other</td>\n",
       "      <td>unknown</td>\n",
       "      <td>False</td>\n",
       "      <td>True</td>\n",
       "      <td>False</td>\n",
       "    </tr>\n",
       "    <tr>\n",
       "      <th>...</th>\n",
       "      <td>...</td>\n",
       "      <td>...</td>\n",
       "      <td>...</td>\n",
       "      <td>...</td>\n",
       "      <td>...</td>\n",
       "      <td>...</td>\n",
       "      <td>...</td>\n",
       "      <td>...</td>\n",
       "      <td>...</td>\n",
       "      <td>...</td>\n",
       "      <td>...</td>\n",
       "      <td>...</td>\n",
       "      <td>...</td>\n",
       "      <td>...</td>\n",
       "      <td>...</td>\n",
       "      <td>...</td>\n",
       "    </tr>\n",
       "    <tr>\n",
       "      <th>3263</th>\n",
       "      <td>10454433</td>\n",
       "      <td>2020-06-27 15:47:35.743</td>\n",
       "      <td>6710682370423549012</td>\n",
       "      <td>NaN</td>\n",
       "      <td>91.233.208.53</td>\n",
       "      <td>CZ</td>\n",
       "      <td>Kraj Vysocina</td>\n",
       "      <td>Bohdalec</td>\n",
       "      <td>31559</td>\n",
       "      <td>Mozilla/5.0  (iPhone; CPU iPhone OS 13_4 like ...</td>\n",
       "      <td>Chrome Mobile 81.0.4044.1925</td>\n",
       "      <td>iOS 13.4</td>\n",
       "      <td>mobile</td>\n",
       "      <td>True</td>\n",
       "      <td>False</td>\n",
       "      <td>False</td>\n",
       "    </tr>\n",
       "    <tr>\n",
       "      <th>3264</th>\n",
       "      <td>10526408</td>\n",
       "      <td>2020-06-28 15:20:27.822</td>\n",
       "      <td>-1136293028359551315</td>\n",
       "      <td>NaN</td>\n",
       "      <td>23.137.225.106</td>\n",
       "      <td>US</td>\n",
       "      <td>-</td>\n",
       "      <td>-</td>\n",
       "      <td>393398</td>\n",
       "      <td>Mozilla/5.0  (iPhone; CPU iPhone OS 11_2_6 lik...</td>\n",
       "      <td>Chrome Mobile 81.0.4044.1925</td>\n",
       "      <td>iOS 11.2.6</td>\n",
       "      <td>mobile</td>\n",
       "      <td>False</td>\n",
       "      <td>False</td>\n",
       "      <td>False</td>\n",
       "    </tr>\n",
       "    <tr>\n",
       "      <th>3265</th>\n",
       "      <td>12041296</td>\n",
       "      <td>2020-07-19 06:57:16.841</td>\n",
       "      <td>5140709821083845236</td>\n",
       "      <td>NaN</td>\n",
       "      <td>80.232.79.13</td>\n",
       "      <td>NO</td>\n",
       "      <td>Agder</td>\n",
       "      <td>Kristiansand</td>\n",
       "      <td>25400</td>\n",
       "      <td>Mozilla/5.0  (iPhone; CPU iPhone OS 13_4 like ...</td>\n",
       "      <td>Chrome Mobile 81.0.4044.1929</td>\n",
       "      <td>iOS 13.4</td>\n",
       "      <td>mobile</td>\n",
       "      <td>True</td>\n",
       "      <td>False</td>\n",
       "      <td>False</td>\n",
       "    </tr>\n",
       "    <tr>\n",
       "      <th>3266</th>\n",
       "      <td>8708580</td>\n",
       "      <td>2020-06-03 09:28:56.954</td>\n",
       "      <td>5069369253943453141</td>\n",
       "      <td>NaN</td>\n",
       "      <td>91.240.236.172</td>\n",
       "      <td>RO</td>\n",
       "      <td>Ilfov</td>\n",
       "      <td>Petrachioaia</td>\n",
       "      <td>62350</td>\n",
       "      <td>Mozilla/5.0 (Macintosh; Intel Mac OS X 10_14_6...</td>\n",
       "      <td>Chrome 79.0.3945.192.218</td>\n",
       "      <td>Mac OS X 10.14.6</td>\n",
       "      <td>desktop</td>\n",
       "      <td>True</td>\n",
       "      <td>True</td>\n",
       "      <td>True</td>\n",
       "    </tr>\n",
       "    <tr>\n",
       "      <th>3267</th>\n",
       "      <td>30677814</td>\n",
       "      <td>2021-02-21 15:53:16.903</td>\n",
       "      <td>6154359082336158419</td>\n",
       "      <td>NaN</td>\n",
       "      <td>170.39.76.105</td>\n",
       "      <td>US</td>\n",
       "      <td>-</td>\n",
       "      <td>-</td>\n",
       "      <td>393398</td>\n",
       "      <td>Mozilla/5.0  (Linux; Android 4.1; Galaxy Nexus...</td>\n",
       "      <td>Chrome Mobile 49.0.2623</td>\n",
       "      <td>Android 4.1</td>\n",
       "      <td>mobile</td>\n",
       "      <td>True</td>\n",
       "      <td>False</td>\n",
       "      <td>False</td>\n",
       "    </tr>\n",
       "  </tbody>\n",
       "</table>\n",
       "<p>3268 rows × 16 columns</p>\n",
       "</div>"
      ]
     },
     "execution_count": 125,
     "metadata": {},
     "output_type": "execute_result"
    }
   ],
   "execution_count": 125
  },
  {
   "metadata": {},
   "cell_type": "markdown",
   "source": "# Data Exploration",
   "id": "97e150e868e633ee"
  },
  {
   "metadata": {
    "ExecuteTime": {
     "end_time": "2024-12-30T16:48:31.756683Z",
     "start_time": "2024-12-30T16:48:31.753324Z"
    }
   },
   "cell_type": "code",
   "source": [
    "import matplotlib.pyplot as plt\n",
    "%matplotlib inline"
   ],
   "id": "a2e34d68a764da21",
   "outputs": [],
   "execution_count": 126
  },
  {
   "metadata": {
    "ExecuteTime": {
     "end_time": "2024-12-30T16:48:31.849773Z",
     "start_time": "2024-12-30T16:48:31.839274Z"
    }
   },
   "cell_type": "code",
   "source": "data.tail(10)",
   "id": "421e881afbca5b56",
   "outputs": [
    {
     "data": {
      "text/plain": [
       "         index                timestamp                   id  rtt_ms  \\\n",
       "3258  11649310  2020-07-13 13:26:30.160 -4324475583306591935     NaN   \n",
       "3259   4687910  2020-04-07 07:51:36.529  6872246269705207364     NaN   \n",
       "3260  20779695  2020-11-15 07:54:24.734 -4324475583306591935     NaN   \n",
       "3261  15696306  2020-09-08 17:23:13.988 -1429236325848882975     NaN   \n",
       "3262  29507014  2021-02-06 09:04:30.694 -4324475583306591935     NaN   \n",
       "3263  10454433  2020-06-27 15:47:35.743  6710682370423549012     NaN   \n",
       "3264  10526408  2020-06-28 15:20:27.822 -1136293028359551315     NaN   \n",
       "3265  12041296  2020-07-19 06:57:16.841  5140709821083845236     NaN   \n",
       "3266   8708580  2020-06-03 09:28:56.954  5069369253943453141     NaN   \n",
       "3267  30677814  2021-02-21 15:53:16.903  6154359082336158419     NaN   \n",
       "\n",
       "                  ip country         region          city     asn  \\\n",
       "3258     10.1.38.171      IN              -             -  132996   \n",
       "3259  158.248.233.59      NO              -             -   29695   \n",
       "3260   187.62.51.109      BR         Parana      Londrina   22689   \n",
       "3261    170.39.76.54      US              -             -  393398   \n",
       "3262    170.39.77.13      US              -             -  393398   \n",
       "3263   91.233.208.53      CZ  Kraj Vysocina      Bohdalec   31559   \n",
       "3264  23.137.225.106      US              -             -  393398   \n",
       "3265    80.232.79.13      NO          Agder  Kristiansand   25400   \n",
       "3266  91.240.236.172      RO          Ilfov  Petrachioaia   62350   \n",
       "3267   170.39.76.105      US              -             -  393398   \n",
       "\n",
       "                                             user_agent  \\\n",
       "3258  Mozilla/5.0  (iPhone; CPU iPhone OS 11_2_6 lik...   \n",
       "3259  Mozilla/5.0 (Linux; U; Android 13.0; i phone X...   \n",
       "3260  Mozilla/5.0  (iPhone; CPU iPhone OS 13_4 like ...   \n",
       "3261  Mozilla/5.0  (Linux; Android 5.5.1; CHM-U01) G...   \n",
       "3262  Mozilla/5.0  (iPhone; CPU iPhone OS 11_2_6 lik...   \n",
       "3263  Mozilla/5.0  (iPhone; CPU iPhone OS 13_4 like ...   \n",
       "3264  Mozilla/5.0  (iPhone; CPU iPhone OS 11_2_6 lik...   \n",
       "3265  Mozilla/5.0  (iPhone; CPU iPhone OS 13_4 like ...   \n",
       "3266  Mozilla/5.0 (Macintosh; Intel Mac OS X 10_14_6...   \n",
       "3267  Mozilla/5.0  (Linux; Android 4.1; Galaxy Nexus...   \n",
       "\n",
       "                              browser                os   device  \\\n",
       "3258     Chrome Mobile 81.0.4044.1937        iOS 11.2.6   mobile   \n",
       "3259           Opera Mobile 52.1.2254      Android 13.0   mobile   \n",
       "3260          Chrome Mobile 84.0.4147          iOS 13.4   mobile   \n",
       "3261              Firefox Mobile 84.0     Android 5.5.1   mobile   \n",
       "3262  Chrome Mobile WebView 85.0.4183        iOS 11.2.6   mobile   \n",
       "3263     Chrome Mobile 81.0.4044.1925          iOS 13.4   mobile   \n",
       "3264     Chrome Mobile 81.0.4044.1925        iOS 11.2.6   mobile   \n",
       "3265     Chrome Mobile 81.0.4044.1929          iOS 13.4   mobile   \n",
       "3266         Chrome 79.0.3945.192.218  Mac OS X 10.14.6  desktop   \n",
       "3267          Chrome Mobile 49.0.2623       Android 4.1   mobile   \n",
       "\n",
       "      login_success  is_attack_ip  is_account_takeover  \n",
       "3258          False         False                False  \n",
       "3259          False         False                False  \n",
       "3260          False         False                False  \n",
       "3261           True         False                False  \n",
       "3262          False         False                False  \n",
       "3263           True         False                False  \n",
       "3264          False         False                False  \n",
       "3265           True         False                False  \n",
       "3266           True          True                 True  \n",
       "3267           True         False                False  "
      ],
      "text/html": [
       "<div>\n",
       "<style scoped>\n",
       "    .dataframe tbody tr th:only-of-type {\n",
       "        vertical-align: middle;\n",
       "    }\n",
       "\n",
       "    .dataframe tbody tr th {\n",
       "        vertical-align: top;\n",
       "    }\n",
       "\n",
       "    .dataframe thead th {\n",
       "        text-align: right;\n",
       "    }\n",
       "</style>\n",
       "<table border=\"1\" class=\"dataframe\">\n",
       "  <thead>\n",
       "    <tr style=\"text-align: right;\">\n",
       "      <th></th>\n",
       "      <th>index</th>\n",
       "      <th>timestamp</th>\n",
       "      <th>id</th>\n",
       "      <th>rtt_ms</th>\n",
       "      <th>ip</th>\n",
       "      <th>country</th>\n",
       "      <th>region</th>\n",
       "      <th>city</th>\n",
       "      <th>asn</th>\n",
       "      <th>user_agent</th>\n",
       "      <th>browser</th>\n",
       "      <th>os</th>\n",
       "      <th>device</th>\n",
       "      <th>login_success</th>\n",
       "      <th>is_attack_ip</th>\n",
       "      <th>is_account_takeover</th>\n",
       "    </tr>\n",
       "  </thead>\n",
       "  <tbody>\n",
       "    <tr>\n",
       "      <th>3258</th>\n",
       "      <td>11649310</td>\n",
       "      <td>2020-07-13 13:26:30.160</td>\n",
       "      <td>-4324475583306591935</td>\n",
       "      <td>NaN</td>\n",
       "      <td>10.1.38.171</td>\n",
       "      <td>IN</td>\n",
       "      <td>-</td>\n",
       "      <td>-</td>\n",
       "      <td>132996</td>\n",
       "      <td>Mozilla/5.0  (iPhone; CPU iPhone OS 11_2_6 lik...</td>\n",
       "      <td>Chrome Mobile 81.0.4044.1937</td>\n",
       "      <td>iOS 11.2.6</td>\n",
       "      <td>mobile</td>\n",
       "      <td>False</td>\n",
       "      <td>False</td>\n",
       "      <td>False</td>\n",
       "    </tr>\n",
       "    <tr>\n",
       "      <th>3259</th>\n",
       "      <td>4687910</td>\n",
       "      <td>2020-04-07 07:51:36.529</td>\n",
       "      <td>6872246269705207364</td>\n",
       "      <td>NaN</td>\n",
       "      <td>158.248.233.59</td>\n",
       "      <td>NO</td>\n",
       "      <td>-</td>\n",
       "      <td>-</td>\n",
       "      <td>29695</td>\n",
       "      <td>Mozilla/5.0 (Linux; U; Android 13.0; i phone X...</td>\n",
       "      <td>Opera Mobile 52.1.2254</td>\n",
       "      <td>Android 13.0</td>\n",
       "      <td>mobile</td>\n",
       "      <td>False</td>\n",
       "      <td>False</td>\n",
       "      <td>False</td>\n",
       "    </tr>\n",
       "    <tr>\n",
       "      <th>3260</th>\n",
       "      <td>20779695</td>\n",
       "      <td>2020-11-15 07:54:24.734</td>\n",
       "      <td>-4324475583306591935</td>\n",
       "      <td>NaN</td>\n",
       "      <td>187.62.51.109</td>\n",
       "      <td>BR</td>\n",
       "      <td>Parana</td>\n",
       "      <td>Londrina</td>\n",
       "      <td>22689</td>\n",
       "      <td>Mozilla/5.0  (iPhone; CPU iPhone OS 13_4 like ...</td>\n",
       "      <td>Chrome Mobile 84.0.4147</td>\n",
       "      <td>iOS 13.4</td>\n",
       "      <td>mobile</td>\n",
       "      <td>False</td>\n",
       "      <td>False</td>\n",
       "      <td>False</td>\n",
       "    </tr>\n",
       "    <tr>\n",
       "      <th>3261</th>\n",
       "      <td>15696306</td>\n",
       "      <td>2020-09-08 17:23:13.988</td>\n",
       "      <td>-1429236325848882975</td>\n",
       "      <td>NaN</td>\n",
       "      <td>170.39.76.54</td>\n",
       "      <td>US</td>\n",
       "      <td>-</td>\n",
       "      <td>-</td>\n",
       "      <td>393398</td>\n",
       "      <td>Mozilla/5.0  (Linux; Android 5.5.1; CHM-U01) G...</td>\n",
       "      <td>Firefox Mobile 84.0</td>\n",
       "      <td>Android 5.5.1</td>\n",
       "      <td>mobile</td>\n",
       "      <td>True</td>\n",
       "      <td>False</td>\n",
       "      <td>False</td>\n",
       "    </tr>\n",
       "    <tr>\n",
       "      <th>3262</th>\n",
       "      <td>29507014</td>\n",
       "      <td>2021-02-06 09:04:30.694</td>\n",
       "      <td>-4324475583306591935</td>\n",
       "      <td>NaN</td>\n",
       "      <td>170.39.77.13</td>\n",
       "      <td>US</td>\n",
       "      <td>-</td>\n",
       "      <td>-</td>\n",
       "      <td>393398</td>\n",
       "      <td>Mozilla/5.0  (iPhone; CPU iPhone OS 11_2_6 lik...</td>\n",
       "      <td>Chrome Mobile WebView 85.0.4183</td>\n",
       "      <td>iOS 11.2.6</td>\n",
       "      <td>mobile</td>\n",
       "      <td>False</td>\n",
       "      <td>False</td>\n",
       "      <td>False</td>\n",
       "    </tr>\n",
       "    <tr>\n",
       "      <th>3263</th>\n",
       "      <td>10454433</td>\n",
       "      <td>2020-06-27 15:47:35.743</td>\n",
       "      <td>6710682370423549012</td>\n",
       "      <td>NaN</td>\n",
       "      <td>91.233.208.53</td>\n",
       "      <td>CZ</td>\n",
       "      <td>Kraj Vysocina</td>\n",
       "      <td>Bohdalec</td>\n",
       "      <td>31559</td>\n",
       "      <td>Mozilla/5.0  (iPhone; CPU iPhone OS 13_4 like ...</td>\n",
       "      <td>Chrome Mobile 81.0.4044.1925</td>\n",
       "      <td>iOS 13.4</td>\n",
       "      <td>mobile</td>\n",
       "      <td>True</td>\n",
       "      <td>False</td>\n",
       "      <td>False</td>\n",
       "    </tr>\n",
       "    <tr>\n",
       "      <th>3264</th>\n",
       "      <td>10526408</td>\n",
       "      <td>2020-06-28 15:20:27.822</td>\n",
       "      <td>-1136293028359551315</td>\n",
       "      <td>NaN</td>\n",
       "      <td>23.137.225.106</td>\n",
       "      <td>US</td>\n",
       "      <td>-</td>\n",
       "      <td>-</td>\n",
       "      <td>393398</td>\n",
       "      <td>Mozilla/5.0  (iPhone; CPU iPhone OS 11_2_6 lik...</td>\n",
       "      <td>Chrome Mobile 81.0.4044.1925</td>\n",
       "      <td>iOS 11.2.6</td>\n",
       "      <td>mobile</td>\n",
       "      <td>False</td>\n",
       "      <td>False</td>\n",
       "      <td>False</td>\n",
       "    </tr>\n",
       "    <tr>\n",
       "      <th>3265</th>\n",
       "      <td>12041296</td>\n",
       "      <td>2020-07-19 06:57:16.841</td>\n",
       "      <td>5140709821083845236</td>\n",
       "      <td>NaN</td>\n",
       "      <td>80.232.79.13</td>\n",
       "      <td>NO</td>\n",
       "      <td>Agder</td>\n",
       "      <td>Kristiansand</td>\n",
       "      <td>25400</td>\n",
       "      <td>Mozilla/5.0  (iPhone; CPU iPhone OS 13_4 like ...</td>\n",
       "      <td>Chrome Mobile 81.0.4044.1929</td>\n",
       "      <td>iOS 13.4</td>\n",
       "      <td>mobile</td>\n",
       "      <td>True</td>\n",
       "      <td>False</td>\n",
       "      <td>False</td>\n",
       "    </tr>\n",
       "    <tr>\n",
       "      <th>3266</th>\n",
       "      <td>8708580</td>\n",
       "      <td>2020-06-03 09:28:56.954</td>\n",
       "      <td>5069369253943453141</td>\n",
       "      <td>NaN</td>\n",
       "      <td>91.240.236.172</td>\n",
       "      <td>RO</td>\n",
       "      <td>Ilfov</td>\n",
       "      <td>Petrachioaia</td>\n",
       "      <td>62350</td>\n",
       "      <td>Mozilla/5.0 (Macintosh; Intel Mac OS X 10_14_6...</td>\n",
       "      <td>Chrome 79.0.3945.192.218</td>\n",
       "      <td>Mac OS X 10.14.6</td>\n",
       "      <td>desktop</td>\n",
       "      <td>True</td>\n",
       "      <td>True</td>\n",
       "      <td>True</td>\n",
       "    </tr>\n",
       "    <tr>\n",
       "      <th>3267</th>\n",
       "      <td>30677814</td>\n",
       "      <td>2021-02-21 15:53:16.903</td>\n",
       "      <td>6154359082336158419</td>\n",
       "      <td>NaN</td>\n",
       "      <td>170.39.76.105</td>\n",
       "      <td>US</td>\n",
       "      <td>-</td>\n",
       "      <td>-</td>\n",
       "      <td>393398</td>\n",
       "      <td>Mozilla/5.0  (Linux; Android 4.1; Galaxy Nexus...</td>\n",
       "      <td>Chrome Mobile 49.0.2623</td>\n",
       "      <td>Android 4.1</td>\n",
       "      <td>mobile</td>\n",
       "      <td>True</td>\n",
       "      <td>False</td>\n",
       "      <td>False</td>\n",
       "    </tr>\n",
       "  </tbody>\n",
       "</table>\n",
       "</div>"
      ]
     },
     "execution_count": 127,
     "metadata": {},
     "output_type": "execute_result"
    }
   ],
   "execution_count": 127
  },
  {
   "metadata": {
    "ExecuteTime": {
     "end_time": "2024-12-30T16:48:32.015315Z",
     "start_time": "2024-12-30T16:48:32.010752Z"
    }
   },
   "cell_type": "code",
   "source": "data.dtypes",
   "id": "1c2417ced166e373",
   "outputs": [
    {
     "data": {
      "text/plain": [
       "index                    int64\n",
       "timestamp               object\n",
       "id                       int64\n",
       "rtt_ms                 float64\n",
       "ip                      object\n",
       "country                 object\n",
       "region                  object\n",
       "city                    object\n",
       "asn                      int64\n",
       "user_agent              object\n",
       "browser                 object\n",
       "os                      object\n",
       "device                  object\n",
       "login_success             bool\n",
       "is_attack_ip              bool\n",
       "is_account_takeover       bool\n",
       "dtype: object"
      ]
     },
     "execution_count": 128,
     "metadata": {},
     "output_type": "execute_result"
    }
   ],
   "execution_count": 128
  },
  {
   "metadata": {
    "ExecuteTime": {
     "end_time": "2024-12-30T16:48:32.143418Z",
     "start_time": "2024-12-30T16:48:32.133909Z"
    }
   },
   "cell_type": "code",
   "source": "data.count()",
   "id": "e756da04efe0b0b8",
   "outputs": [
    {
     "data": {
      "text/plain": [
       "index                  3268\n",
       "timestamp              3268\n",
       "id                     3268\n",
       "rtt_ms                  141\n",
       "ip                     3268\n",
       "country                3268\n",
       "region                 3261\n",
       "city                   3268\n",
       "asn                    3268\n",
       "user_agent             3268\n",
       "browser                3268\n",
       "os                     3268\n",
       "device                 3268\n",
       "login_success          3268\n",
       "is_attack_ip           3268\n",
       "is_account_takeover    3268\n",
       "dtype: int64"
      ]
     },
     "execution_count": 129,
     "metadata": {},
     "output_type": "execute_result"
    }
   ],
   "execution_count": 129
  },
  {
   "metadata": {},
   "cell_type": "markdown",
   "source": "### Agent Data (OS, Device and Browser)",
   "id": "4d68e753cee16be"
  },
  {
   "metadata": {
    "ExecuteTime": {
     "end_time": "2024-12-30T16:48:32.674592Z",
     "start_time": "2024-12-30T16:48:32.304892Z"
    }
   },
   "cell_type": "code",
   "source": [
    "category_counts = data[\"os\"].value_counts().head(50)\n",
    "plt.figure(figsize=(20, 10))\n",
    "category_counts.plot(kind='bar', color='blue')\n",
    "plt.title('OS distribution')\n",
    "plt.xlabel('Category')\n",
    "plt.ylabel('Frequency')\n",
    "plt.xticks(rotation=90)\n",
    "plt.show()"
   ],
   "id": "405850b2e74ecdfd",
   "outputs": [
    {
     "data": {
      "text/plain": [
       "<Figure size 2000x1000 with 1 Axes>"
      ],
      "image/png": "[encoded data removed]"
     },
     "metadata": {},
     "output_type": "display_data"
    }
   ],
   "execution_count": 130
  },
  {
   "metadata": {
    "ExecuteTime": {
     "end_time": "2024-12-30T16:48:32.908113Z",
     "start_time": "2024-12-30T16:48:32.703050Z"
    }
   },
   "cell_type": "code",
   "source": [
    "category_counts = data[data['is_account_takeover']==True][\"os\"].value_counts()\n",
    "plt.figure(figsize=(20, 10))\n",
    "category_counts.plot(kind='bar', color='skyblue')\n",
    "plt.title('OS distribution for attacks')\n",
    "plt.xlabel('OS Type and Version')\n",
    "plt.ylabel('Frequency')\n",
    "plt.xticks(rotation=90)\n",
    "plt.show()"
   ],
   "id": "850a257b36dbe96f",
   "outputs": [
    {
     "data": {
      "text/plain": [
       "<Figure size 2000x1000 with 1 Axes>"
      ],
      "image/png": "[encoded data removed]"
     },
     "metadata": {},
     "output_type": "display_data"
    }
   ],
   "execution_count": 131
  },
  {
   "metadata": {
    "ExecuteTime": {
     "end_time": "2024-12-30T16:48:33.040732Z",
     "start_time": "2024-12-30T16:48:32.914568Z"
    }
   },
   "cell_type": "code",
   "source": [
    "category_counts = data[\"device\"].value_counts()\n",
    "plt.figure(figsize=(20, 10))\n",
    "category_counts.plot(kind='bar', color='red')\n",
    "plt.title('Device Distribution')\n",
    "plt.xlabel('Device')\n",
    "plt.ylabel('Frequency')\n",
    "plt.xticks(rotation=0)\n",
    "plt.show()"
   ],
   "id": "9d05abc41d135a8e",
   "outputs": [
    {
     "data": {
      "text/plain": [
       "<Figure size 2000x1000 with 1 Axes>"
      ],
      "image/png": "[encoded data removed]"
     },
     "metadata": {},
     "output_type": "display_data"
    }
   ],
   "execution_count": 132
  },
  {
   "metadata": {
    "ExecuteTime": {
     "end_time": "2024-12-30T16:48:33.159879Z",
     "start_time": "2024-12-30T16:48:33.046141Z"
    }
   },
   "cell_type": "code",
   "source": [
    "category_counts = data[data['is_account_takeover']==True][\"device\"].value_counts()\n",
    "plt.figure(figsize=(20, 10))\n",
    "category_counts.plot(kind='bar', color='#FF9999')\n",
    "plt.title('Category Distribution for attacks')\n",
    "plt.xlabel('Category')\n",
    "plt.ylabel('Frequency')\n",
    "plt.xticks(rotation=0)\n",
    "plt.show()"
   ],
   "id": "2051a1420a26a720",
   "outputs": [
    {
     "data": {
      "text/plain": [
       "<Figure size 2000x1000 with 1 Axes>"
      ],
      "image/png": "[encoded data removed]"
     },
     "metadata": {},
     "output_type": "display_data"
    }
   ],
   "execution_count": 133
  },
  {
   "metadata": {
    "ExecuteTime": {
     "end_time": "2024-12-30T16:48:33.500286Z",
     "start_time": "2024-12-30T16:48:33.165604Z"
    }
   },
   "cell_type": "code",
   "source": [
    "category_counts = data[\"browser\"].value_counts().head(50)\n",
    "plt.figure(figsize=(20, 10))\n",
    "category_counts.plot(kind='bar', color='green')\n",
    "plt.title('Browser Distribution')\n",
    "plt.xlabel('Category')\n",
    "plt.ylabel('Frequency')\n",
    "plt.xticks(rotation=90)\n",
    "plt.show()"
   ],
   "id": "c8a8c91d6afb770a",
   "outputs": [
    {
     "data": {
      "text/plain": [
       "<Figure size 2000x1000 with 1 Axes>"
      ],
      "image/png": "[encoded data removed]"
     },
     "metadata": {},
     "output_type": "display_data"
    }
   ],
   "execution_count": 134
  },
  {
   "metadata": {
    "ExecuteTime": {
     "end_time": "2024-12-30T16:48:33.763404Z",
     "start_time": "2024-12-30T16:48:33.506733Z"
    }
   },
   "cell_type": "code",
   "source": [
    "category_counts = data[data['is_account_takeover']==True][\"browser\"].value_counts().head(50)\n",
    "plt.figure(figsize=(20, 10))\n",
    "category_counts.plot(kind='bar', color='#99FF99')\n",
    "plt.title('Browser Distribution for Attacks')\n",
    "plt.xlabel('Browser')\n",
    "plt.ylabel('Frequency')\n",
    "plt.xticks(rotation=90)\n",
    "plt.show()"
   ],
   "id": "ed87922fe4260e82",
   "outputs": [
    {
     "data": {
      "text/plain": [
       "<Figure size 2000x1000 with 1 Axes>"
      ],
      "image/png": "[encoded data removed]"
     },
     "metadata": {},
     "output_type": "display_data"
    }
   ],
   "execution_count": 135
  },
  {
   "metadata": {},
   "cell_type": "markdown",
   "source": "## Geographical Data",
   "id": "c3ba74e378e12b7f"
  },
  {
   "metadata": {
    "ExecuteTime": {
     "end_time": "2024-12-30T16:48:33.773960Z",
     "start_time": "2024-12-30T16:48:33.771488Z"
    }
   },
   "cell_type": "code",
   "source": "import plotly.express as px",
   "id": "93978e8a863e2d64",
   "outputs": [],
   "execution_count": 136
  },
  {
   "metadata": {
    "ExecuteTime": {
     "end_time": "2024-12-30T16:48:33.937515Z",
     "start_time": "2024-12-30T16:48:33.823877Z"
    }
   },
   "cell_type": "code",
   "source": [
    "country_counts = data['country'].value_counts().head(10)\n",
    "\n",
    "plt.figure(figsize=(8, 8))\n",
    "plt.pie(country_counts, labels=country_counts.index, autopct='%1.1f%%', startangle=140, colors=['#66b3ff','#99ff99','#ffcc99','#ff6666'])\n",
    "plt.title('Login Attempts by Country')\n",
    "plt.show()"
   ],
   "id": "803b29c2735b4a2b",
   "outputs": [
    {
     "data": {
      "text/plain": [
       "<Figure size 800x800 with 1 Axes>"
      ],
      "image/png": "[encoded data removed]"
     },
     "metadata": {},
     "output_type": "display_data"
    }
   ],
   "execution_count": 137
  },
  {
   "metadata": {
    "ExecuteTime": {
     "end_time": "2024-12-30T16:48:33.961760Z",
     "start_time": "2024-12-30T16:48:33.951581Z"
    }
   },
   "cell_type": "code",
   "source": [
    "attack_data = data[data[\"is_account_takeover\"] == True][['country']]\n",
    "normal_connections = data[data[\"is_account_takeover\"] != True][['country']]\n",
    "normal_connections"
   ],
   "id": "63c0d46d8d43cefb",
   "outputs": [
    {
     "data": {
      "text/plain": [
       "     country\n",
       "0         US\n",
       "1         NO\n",
       "2         NO\n",
       "3         NO\n",
       "4         DE\n",
       "...      ...\n",
       "3262      US\n",
       "3263      CZ\n",
       "3264      US\n",
       "3265      NO\n",
       "3267      US\n",
       "\n",
       "[3127 rows x 1 columns]"
      ],
      "text/html": [
       "<div>\n",
       "<style scoped>\n",
       "    .dataframe tbody tr th:only-of-type {\n",
       "        vertical-align: middle;\n",
       "    }\n",
       "\n",
       "    .dataframe tbody tr th {\n",
       "        vertical-align: top;\n",
       "    }\n",
       "\n",
       "    .dataframe thead th {\n",
       "        text-align: right;\n",
       "    }\n",
       "</style>\n",
       "<table border=\"1\" class=\"dataframe\">\n",
       "  <thead>\n",
       "    <tr style=\"text-align: right;\">\n",
       "      <th></th>\n",
       "      <th>country</th>\n",
       "    </tr>\n",
       "  </thead>\n",
       "  <tbody>\n",
       "    <tr>\n",
       "      <th>0</th>\n",
       "      <td>US</td>\n",
       "    </tr>\n",
       "    <tr>\n",
       "      <th>1</th>\n",
       "      <td>NO</td>\n",
       "    </tr>\n",
       "    <tr>\n",
       "      <th>2</th>\n",
       "      <td>NO</td>\n",
       "    </tr>\n",
       "    <tr>\n",
       "      <th>3</th>\n",
       "      <td>NO</td>\n",
       "    </tr>\n",
       "    <tr>\n",
       "      <th>4</th>\n",
       "      <td>DE</td>\n",
       "    </tr>\n",
       "    <tr>\n",
       "      <th>...</th>\n",
       "      <td>...</td>\n",
       "    </tr>\n",
       "    <tr>\n",
       "      <th>3262</th>\n",
       "      <td>US</td>\n",
       "    </tr>\n",
       "    <tr>\n",
       "      <th>3263</th>\n",
       "      <td>CZ</td>\n",
       "    </tr>\n",
       "    <tr>\n",
       "      <th>3264</th>\n",
       "      <td>US</td>\n",
       "    </tr>\n",
       "    <tr>\n",
       "      <th>3265</th>\n",
       "      <td>NO</td>\n",
       "    </tr>\n",
       "    <tr>\n",
       "      <th>3267</th>\n",
       "      <td>US</td>\n",
       "    </tr>\n",
       "  </tbody>\n",
       "</table>\n",
       "<p>3127 rows × 1 columns</p>\n",
       "</div>"
      ]
     },
     "execution_count": 138,
     "metadata": {},
     "output_type": "execute_result"
    }
   ],
   "execution_count": 138
  },
  {
   "metadata": {
    "ExecuteTime": {
     "end_time": "2024-12-30T16:48:34.040180Z",
     "start_time": "2024-12-30T16:48:34.029070Z"
    }
   },
   "cell_type": "code",
   "source": [
    "iso2_to_iso3_map = {\n",
    "    'AD': 'AND', 'AE': 'ARE', 'AF': 'AFG', 'AG': 'ATG', 'AI': 'AIA', 'AL': 'ALB',\n",
    "    'AM': 'ARM', 'AO': 'AGO', 'AR': 'ARG', 'AS': 'ASM', 'AT': 'AUT', 'AU': 'AUS',\n",
    "    'AW': 'ABW', 'AX': 'ALA', 'AZ': 'AZE', 'BA': 'BHS', 'BB': 'BRB', 'BD': 'BGD',\n",
    "    'BE': 'BEL', 'BF': 'BFA', 'BG': 'BGR', 'BH': 'BHR', 'BI': 'BDI', 'BJ': 'BEN',\n",
    "    'BL': 'BLM', 'BM': 'BMU', 'BN': 'BRN', 'BO': 'BOL', 'BQ': 'BES', 'BR': 'BRA',\n",
    "    'BS': 'BHS', 'BT': 'BTN', 'BV': 'BVT', 'BW': 'BWA', 'BY': 'BLR', 'BZ': 'BLZ',\n",
    "    'CA': 'CAN', 'CC': 'CCK', 'CD': 'COD', 'CF': 'CAF', 'CG': 'COG', 'CH': 'CHE',\n",
    "    'CI': 'CIV', 'CK': 'COK', 'CL': 'CHL', 'CM': 'CMR', 'CN': 'CHN', 'CO': 'COL',\n",
    "    'CR': 'CRI', 'CU': 'CUB', 'CV': 'CPV', 'CW': 'CUW', 'CX': 'CXR', 'CY': 'CYP',\n",
    "    'CZ': 'CZE', 'DE': 'DEU', 'DJ': 'DJI', 'DK': 'DNK', 'DM': 'DMA', 'DO': 'DOM',\n",
    "    'DZ': 'DZA', 'EC': 'ECU', 'EE': 'EST', 'EG': 'EGY', 'EH': 'ESH', 'ER': 'ERI',\n",
    "    'ES': 'ESP', 'ET': 'ETH', 'FI': 'FIN', 'FJ': 'FJI', 'FM': 'FSM', 'FO': 'FRO',\n",
    "    'FR': 'FRA', 'GA': 'GAB', 'GB': 'GBR', 'GD': 'GRD', 'GE': 'GEO', 'GF': 'GUF',\n",
    "    'GG': 'GGY', 'GH': 'GHA', 'GI': 'GIB', 'GL': 'GRL', 'GM': 'GMB', 'GN': 'GIN',\n",
    "    'GP': 'GLP', 'GQ': 'GNQ', 'GR': 'GRC', 'GT': 'GTM', 'GU': 'GUM', 'GW': 'GNB',\n",
    "    'GY': 'GUY', 'HK': 'HKG', 'HM': 'HMD', 'HN': 'HND', 'HR': 'HRV', 'HT': 'HTI',\n",
    "    'HU': 'HUN', 'ID': 'IDN', 'IE': 'IRL', 'IL': 'ISR', 'IM': 'IMN', 'IN': 'IND',\n",
    "    'IO': 'IOT', 'IQ': 'IRQ', 'IR': 'IRN', 'IS': 'ISL', 'IT': 'ITA', 'JE': 'JEY',\n",
    "    'JM': 'JAM', 'JO': 'JOR', 'JP': 'JPN', 'KE': 'KEN', 'KG': 'KGZ', 'KH': 'KHM',\n",
    "    'KI': 'KIR', 'KM': 'COM', 'KN': 'KNA', 'KP': 'PRK', 'KR': 'KOR', 'KW': 'KWT',\n",
    "    'KY': 'CYM', 'KZ': 'KAZ', 'LA': 'LAO', 'LB': 'LBN', 'LC': 'LCA', 'LI': 'LIE',\n",
    "    'LK': 'LKA', 'LR': 'LBR', 'LS': 'LSO', 'LT': 'LTU', 'LU': 'LUX', 'LV': 'LVA',\n",
    "    'LY': 'LBY', 'MA': 'MAR', 'MC': 'MCO', 'MD': 'MDA', 'ME': 'MNE', 'MF': 'MAF',\n",
    "    'MG': 'MDG', 'MH': 'MHL', 'MK': 'MKD', 'ML': 'MLI', 'MM': 'MMR', 'MN': 'MNG',\n",
    "    'MO': 'MAC', 'MP': 'MNP', 'MQ': 'MTQ', 'MR': 'MRT', 'MS': 'MSR', 'MT': 'MLT',\n",
    "    'MU': 'MUS', 'MV': 'MDV', 'MW': 'MWI', 'MX': 'MEX', 'MY': 'MYS', 'MZ': 'MOZ',\n",
    "    'NA': 'NAM', 'NC': 'NCL', 'NE': 'NER', 'NF': 'NFK', 'NG': 'NGA', 'NI': 'NIC',\n",
    "    'NL': 'NLD', 'NO': 'NOR', 'NP': 'NPL', 'NR': 'NRU', 'NU': 'NIU', 'NZ': 'NZL',\n",
    "    'OM': 'OMN', 'PA': 'PAN', 'PE': 'PER', 'PF': 'PYF', 'PG': 'PNG', 'PH': 'PHL',\n",
    "    'PK': 'PAK', 'PL': 'POL', 'PM': 'SPM', 'PN': 'PCN', 'PR': 'PRI', 'PT': 'PRT',\n",
    "    'PW': 'PLW', 'PY': 'PRY', 'QA': 'QAT', 'RE': 'REU', 'RO': 'ROU', 'RS': 'SRB',\n",
    "    'RU': 'RUS', 'RW': 'RWA', 'SA': 'SAU', 'SB': 'SLB', 'SC': 'SYC', 'SD': 'SDN',\n",
    "    'SE': 'SWE', 'SG': 'SGP', 'SH': 'SHN', 'SI': 'SVN', 'SJ': 'SJM', 'SK': 'SVK',\n",
    "    'SL': 'SLE', 'SM': 'SMR', 'SN': 'SEN', 'SO': 'SOM', 'SR': 'SUR', 'SS': 'SSD',\n",
    "    'ST': 'STP', 'SV': 'SLV', 'SX': 'SXM', 'SY': 'SYR', 'SZ': 'SWZ', 'TC': 'TCA',\n",
    "    'TD': 'TCD', 'TF': 'ATF', 'TG': 'TGO', 'TH': 'THA', 'TJ': 'TJK', 'TK': 'TKL',\n",
    "    'TL': 'TLS', 'TM': 'TKM', 'TN': 'TUN', 'TO': 'TON', 'TR': 'TUR', 'TT': 'TTO',\n",
    "    'TV': 'TUV', 'TZ': 'TZA', 'UA': 'UKR', 'UG': 'UGA', 'UM': 'UMI', 'US': 'USA',\n",
    "    'UY': 'URY', 'UZ': 'UZB', 'VA': 'VAT', 'VC': 'VCT', 'VE': 'VEN', 'VG': 'VGB',\n",
    "    'VI': 'VIR', 'VN': 'VNM', 'VU': 'VUT', 'WF': 'WLF', 'WS': 'WSM', 'YE': 'YEM',\n",
    "    'YT': 'MYT', 'ZA': 'ZAF', 'ZM': 'ZMB', 'ZW': 'ZWE'\n",
    "}\n",
    "\n",
    "def iso2_to_iso3(iso2):\n",
    "    return iso2_to_iso3_map.get(iso2.upper(), iso2)\n",
    "\n",
    "\n",
    "attack_data['country'] = data['country'].apply(iso2_to_iso3)\n",
    "normal_connections['country'] = data['country'].apply(iso2_to_iso3)"
   ],
   "id": "d053611ff419ac9e",
   "outputs": [],
   "execution_count": 139
  },
  {
   "metadata": {
    "ExecuteTime": {
     "end_time": "2024-12-30T16:48:34.080910Z",
     "start_time": "2024-12-30T16:48:34.075960Z"
    }
   },
   "cell_type": "code",
   "source": [
    "attack_counts = attack_data.groupby(\"country\").size().reset_index(name=\"Attack Count\")\n",
    "normal_connections = normal_connections.groupby(\"country\").size().reset_index(name=\"Connections Count\")"
   ],
   "id": "cf6a5c48ad2669f0",
   "outputs": [],
   "execution_count": 140
  },
  {
   "metadata": {
    "ExecuteTime": {
     "end_time": "2024-12-30T16:48:34.152102Z",
     "start_time": "2024-12-30T16:48:34.145989Z"
    }
   },
   "cell_type": "code",
   "source": "attack_counts.sort_values(by='Attack Count' , ascending=False)",
   "id": "d38da5a11717d827",
   "outputs": [
    {
     "data": {
      "text/plain": [
       "   country  Attack Count\n",
       "13     ROU            79\n",
       "11     NOR            10\n",
       "1      BRA             9\n",
       "2      CAN             9\n",
       "6      IDN             9\n",
       "7      ITA             7\n",
       "5      DNK             5\n",
       "3      CHL             3\n",
       "8      LVA             3\n",
       "4      CZE             2\n",
       "0      ARG             1\n",
       "10     NLD             1\n",
       "9      MOZ             1\n",
       "12     REU             1\n",
       "14     SVK             1"
      ],
      "text/html": [
       "<div>\n",
       "<style scoped>\n",
       "    .dataframe tbody tr th:only-of-type {\n",
       "        vertical-align: middle;\n",
       "    }\n",
       "\n",
       "    .dataframe tbody tr th {\n",
       "        vertical-align: top;\n",
       "    }\n",
       "\n",
       "    .dataframe thead th {\n",
       "        text-align: right;\n",
       "    }\n",
       "</style>\n",
       "<table border=\"1\" class=\"dataframe\">\n",
       "  <thead>\n",
       "    <tr style=\"text-align: right;\">\n",
       "      <th></th>\n",
       "      <th>country</th>\n",
       "      <th>Attack Count</th>\n",
       "    </tr>\n",
       "  </thead>\n",
       "  <tbody>\n",
       "    <tr>\n",
       "      <th>13</th>\n",
       "      <td>ROU</td>\n",
       "      <td>79</td>\n",
       "    </tr>\n",
       "    <tr>\n",
       "      <th>11</th>\n",
       "      <td>NOR</td>\n",
       "      <td>10</td>\n",
       "    </tr>\n",
       "    <tr>\n",
       "      <th>1</th>\n",
       "      <td>BRA</td>\n",
       "      <td>9</td>\n",
       "    </tr>\n",
       "    <tr>\n",
       "      <th>2</th>\n",
       "      <td>CAN</td>\n",
       "      <td>9</td>\n",
       "    </tr>\n",
       "    <tr>\n",
       "      <th>6</th>\n",
       "      <td>IDN</td>\n",
       "      <td>9</td>\n",
       "    </tr>\n",
       "    <tr>\n",
       "      <th>7</th>\n",
       "      <td>ITA</td>\n",
       "      <td>7</td>\n",
       "    </tr>\n",
       "    <tr>\n",
       "      <th>5</th>\n",
       "      <td>DNK</td>\n",
       "      <td>5</td>\n",
       "    </tr>\n",
       "    <tr>\n",
       "      <th>3</th>\n",
       "      <td>CHL</td>\n",
       "      <td>3</td>\n",
       "    </tr>\n",
       "    <tr>\n",
       "      <th>8</th>\n",
       "      <td>LVA</td>\n",
       "      <td>3</td>\n",
       "    </tr>\n",
       "    <tr>\n",
       "      <th>4</th>\n",
       "      <td>CZE</td>\n",
       "      <td>2</td>\n",
       "    </tr>\n",
       "    <tr>\n",
       "      <th>0</th>\n",
       "      <td>ARG</td>\n",
       "      <td>1</td>\n",
       "    </tr>\n",
       "    <tr>\n",
       "      <th>10</th>\n",
       "      <td>NLD</td>\n",
       "      <td>1</td>\n",
       "    </tr>\n",
       "    <tr>\n",
       "      <th>9</th>\n",
       "      <td>MOZ</td>\n",
       "      <td>1</td>\n",
       "    </tr>\n",
       "    <tr>\n",
       "      <th>12</th>\n",
       "      <td>REU</td>\n",
       "      <td>1</td>\n",
       "    </tr>\n",
       "    <tr>\n",
       "      <th>14</th>\n",
       "      <td>SVK</td>\n",
       "      <td>1</td>\n",
       "    </tr>\n",
       "  </tbody>\n",
       "</table>\n",
       "</div>"
      ]
     },
     "execution_count": 141,
     "metadata": {},
     "output_type": "execute_result"
    }
   ],
   "execution_count": 141
  },
  {
   "metadata": {
    "ExecuteTime": {
     "end_time": "2024-12-30T16:48:34.286301Z",
     "start_time": "2024-12-30T16:48:34.249055Z"
    }
   },
   "cell_type": "code",
   "source": [
    "fig = px.choropleth(\n",
    "    attack_counts,\n",
    "    locations=\"country\",\n",
    "    locationmode=\"ISO-3\",\n",
    "    color=\"Attack Count\",\n",
    "    title=\"Number of Attacks by Country\",\n",
    "    color_continuous_scale=\"Reds\"\n",
    ")\n",
    "fig.update_layout(\n",
    "    width=1200,\n",
    "    height=600\n",
    ")\n",
    "fig.show()"
   ],
   "id": "7931220594a36e17",
   "outputs": [
    {
     "data": {
      "application/vnd.plotly.v1+json": {
       "data": [
        {
         "coloraxis": "coloraxis",
         "geo": "geo",
         "hovertemplate": "country=%{location}<br>Attack Count=%{z}<extra></extra>",
         "locationmode": "ISO-3",
         "locations": [
          "ARG",
          "BRA",
          "CAN",
          "CHL",
          "CZE",
          "DNK",
          "IDN",
          "ITA",
          "LVA",
          "MOZ",
          "NLD",
          "NOR",
          "REU",
          "ROU",
          "SVK"
         ],
         "name": "",
         "z": [
          1,
          9,
          9,
          3,
          2,
          5,
          9,
          7,
          3,
          1,
          1,
          10,
          1,
          79,
          1
         ],
         "type": "choropleth"
        }
       ],
       "layout": {
        "template": {
         "data": {
          "histogram2dcontour": [
           {
            "type": "histogram2dcontour",
            "colorbar": {
             "outlinewidth": 0,
             "ticks": ""
            },
            "colorscale": [
             [
              0.0,
              "#0d0887"
             ],
             [
              0.1111111111111111,
              "#46039f"
             ],
             [
              0.2222222222222222,
              "#7201a8"
             ],
             [
              0.3333333333333333,
              "#9c179e"
             ],
             [
              0.4444444444444444,
              "#bd3786"
             ],
             [
              0.5555555555555556,
              "#d8576b"
             ],
             [
              0.6666666666666666,
              "#ed7953"
             ],
             [
              0.7777777777777778,
              "#fb9f3a"
             ],
             [
              0.8888888888888888,
              "#fdca26"
             ],
             [
              1.0,
              "#f0f921"
             ]
            ]
           }
          ],
          "choropleth": [
           {
            "type": "choropleth",
            "colorbar": {
             "outlinewidth": 0,
             "ticks": ""
            }
           }
          ],
          "histogram2d": [
           {
            "type": "histogram2d",
            "colorbar": {
             "outlinewidth": 0,
             "ticks": ""
            },
            "colorscale": [
             [
              0.0,
              "#0d0887"
             ],
             [
              0.1111111111111111,
              "#46039f"
             ],
             [
              0.2222222222222222,
              "#7201a8"
             ],
             [
              0.3333333333333333,
              "#9c179e"
             ],
             [
              0.4444444444444444,
              "#bd3786"
             ],
             [
              0.5555555555555556,
              "#d8576b"
             ],
             [
              0.6666666666666666,
              "#ed7953"
             ],
             [
              0.7777777777777778,
              "#fb9f3a"
             ],
             [
              0.8888888888888888,
              "#fdca26"
             ],
             [
              1.0,
              "#f0f921"
             ]
            ]
           }
          ],
          "heatmap": [
           {
            "type": "heatmap",
            "colorbar": {
             "outlinewidth": 0,
             "ticks": ""
            },
            "colorscale": [
             [
              0.0,
              "#0d0887"
             ],
             [
              0.1111111111111111,
              "#46039f"
             ],
             [
              0.2222222222222222,
              "#7201a8"
             ],
             [
              0.3333333333333333,
              "#9c179e"
             ],
             [
              0.4444444444444444,
              "#bd3786"
             ],
             [
              0.5555555555555556,
              "#d8576b"
             ],
             [
              0.6666666666666666,
              "#ed7953"
             ],
             [
              0.7777777777777778,
              "#fb9f3a"
             ],
             [
              0.8888888888888888,
              "#fdca26"
             ],
             [
              1.0,
              "#f0f921"
             ]
            ]
           }
          ],
          "heatmapgl": [
           {
            "type": "heatmapgl",
            "colorbar": {
             "outlinewidth": 0,
             "ticks": ""
            },
            "colorscale": [
             [
              0.0,
              "#0d0887"
             ],
             [
              0.1111111111111111,
              "#46039f"
             ],
             [
              0.2222222222222222,
              "#7201a8"
             ],
             [
              0.3333333333333333,
              "#9c179e"
             ],
             [
              0.4444444444444444,
              "#bd3786"
             ],
             [
              0.5555555555555556,
              "#d8576b"
             ],
             [
              0.6666666666666666,
              "#ed7953"
             ],
             [
              0.7777777777777778,
              "#fb9f3a"
             ],
             [
              0.8888888888888888,
              "#fdca26"
             ],
             [
              1.0,
              "#f0f921"
             ]
            ]
           }
          ],
          "contourcarpet": [
           {
            "type": "contourcarpet",
            "colorbar": {
             "outlinewidth": 0,
             "ticks": ""
            }
           }
          ],
          "contour": [
           {
            "type": "contour",
            "colorbar": {
             "outlinewidth": 0,
             "ticks": ""
            },
            "colorscale": [
             [
              0.0,
              "#0d0887"
             ],
             [
              0.1111111111111111,
              "#46039f"
             ],
             [
              0.2222222222222222,
              "#7201a8"
             ],
             [
              0.3333333333333333,
              "#9c179e"
             ],
             [
              0.4444444444444444,
              "#bd3786"
             ],
             [
              0.5555555555555556,
              "#d8576b"
             ],
             [
              0.6666666666666666,
              "#ed7953"
             ],
             [
              0.7777777777777778,
              "#fb9f3a"
             ],
             [
              0.8888888888888888,
              "#fdca26"
             ],
             [
              1.0,
              "#f0f921"
             ]
            ]
           }
          ],
          "surface": [
           {
            "type": "surface",
            "colorbar": {
             "outlinewidth": 0,
             "ticks": ""
            },
            "colorscale": [
             [
              0.0,
              "#0d0887"
             ],
             [
              0.1111111111111111,
              "#46039f"
             ],
             [
              0.2222222222222222,
              "#7201a8"
             ],
             [
              0.3333333333333333,
              "#9c179e"
             ],
             [
              0.4444444444444444,
              "#bd3786"
             ],
             [
              0.5555555555555556,
              "#d8576b"
             ],
             [
              0.6666666666666666,
              "#ed7953"
             ],
             [
              0.7777777777777778,
              "#fb9f3a"
             ],
             [
              0.8888888888888888,
              "#fdca26"
             ],
             [
              1.0,
              "#f0f921"
             ]
            ]
           }
          ],
          "mesh3d": [
           {
            "type": "mesh3d",
            "colorbar": {
             "outlinewidth": 0,
             "ticks": ""
            }
           }
          ],
          "scatter": [
           {
            "marker": {
             "line": {
              "color": "#283442"
             }
            },
            "type": "scatter"
           }
          ],
          "parcoords": [
           {
            "type": "parcoords",
            "line": {
             "colorbar": {
              "outlinewidth": 0,
              "ticks": ""
             }
            }
           }
          ],
          "scatterpolargl": [
           {
            "type": "scatterpolargl",
            "marker": {
             "colorbar": {
              "outlinewidth": 0,
              "ticks": ""
             }
            }
           }
          ],
          "bar": [
           {
            "error_x": {
             "color": "#f2f5fa"
            },
            "error_y": {
             "color": "#f2f5fa"
            },
            "marker": {
             "line": {
              "color": "rgb(17,17,17)",
              "width": 0.5
             },
             "pattern": {
              "fillmode": "overlay",
              "size": 10,
              "solidity": 0.2
             }
            },
            "type": "bar"
           }
          ],
          "scattergeo": [
           {
            "type": "scattergeo",
            "marker": {
             "colorbar": {
              "outlinewidth": 0,
              "ticks": ""
             }
            }
           }
          ],
          "scatterpolar": [
           {
            "type": "scatterpolar",
            "marker": {
             "colorbar": {
              "outlinewidth": 0,
              "ticks": ""
             }
            }
           }
          ],
          "histogram": [
           {
            "marker": {
             "pattern": {
              "fillmode": "overlay",
              "size": 10,
              "solidity": 0.2
             }
            },
            "type": "histogram"
           }
          ],
          "scattergl": [
           {
            "marker": {
             "line": {
              "color": "#283442"
             }
            },
            "type": "scattergl"
           }
          ],
          "scatter3d": [
           {
            "type": "scatter3d",
            "line": {
             "colorbar": {
              "outlinewidth": 0,
              "ticks": ""
             }
            },
            "marker": {
             "colorbar": {
              "outlinewidth": 0,
              "ticks": ""
             }
            }
           }
          ],
          "scattermapbox": [
           {
            "type": "scattermapbox",
            "marker": {
             "colorbar": {
              "outlinewidth": 0,
              "ticks": ""
             }
            }
           }
          ],
          "scatterternary": [
           {
            "type": "scatterternary",
            "marker": {
             "colorbar": {
              "outlinewidth": 0,
              "ticks": ""
             }
            }
           }
          ],
          "scattercarpet": [
           {
            "type": "scattercarpet",
            "marker": {
             "colorbar": {
              "outlinewidth": 0,
              "ticks": ""
             }
            }
           }
          ],
          "carpet": [
           {
            "aaxis": {
             "endlinecolor": "#A2B1C6",
             "gridcolor": "#506784",
             "linecolor": "#506784",
             "minorgridcolor": "#506784",
             "startlinecolor": "#A2B1C6"
            },
            "baxis": {
             "endlinecolor": "#A2B1C6",
             "gridcolor": "#506784",
             "linecolor": "#506784",
             "minorgridcolor": "#506784",
             "startlinecolor": "#A2B1C6"
            },
            "type": "carpet"
           }
          ],
          "table": [
           {
            "cells": {
             "fill": {
              "color": "#506784"
             },
             "line": {
              "color": "rgb(17,17,17)"
             }
            },
            "header": {
             "fill": {
              "color": "#2a3f5f"
             },
             "line": {
              "color": "rgb(17,17,17)"
             }
            },
            "type": "table"
           }
          ],
          "barpolar": [
           {
            "marker": {
             "line": {
              "color": "rgb(17,17,17)",
              "width": 0.5
             },
             "pattern": {
              "fillmode": "overlay",
              "size": 10,
              "solidity": 0.2
             }
            },
            "type": "barpolar"
           }
          ],
          "pie": [
           {
            "automargin": true,
            "type": "pie"
           }
          ]
         },
         "layout": {
          "autotypenumbers": "strict",
          "colorway": [
           "#636efa",
           "#EF553B",
           "#00cc96",
           "#ab63fa",
           "#FFA15A",
           "#19d3f3",
           "#FF6692",
           "#B6E880",
           "#FF97FF",
           "#FECB52"
          ],
          "font": {
           "color": "#f2f5fa"
          },
          "hovermode": "closest",
          "hoverlabel": {
           "align": "left"
          },
          "paper_bgcolor": "rgb(17,17,17)",
          "plot_bgcolor": "rgb(17,17,17)",
          "polar": {
           "bgcolor": "rgb(17,17,17)",
           "angularaxis": {
            "gridcolor": "#506784",
            "linecolor": "#506784",
            "ticks": ""
           },
           "radialaxis": {
            "gridcolor": "#506784",
            "linecolor": "#506784",
            "ticks": ""
           }
          },
          "ternary": {
           "bgcolor": "rgb(17,17,17)",
           "aaxis": {
            "gridcolor": "#506784",
            "linecolor": "#506784",
            "ticks": ""
           },
           "baxis": {
            "gridcolor": "#506784",
            "linecolor": "#506784",
            "ticks": ""
           },
           "caxis": {
            "gridcolor": "#506784",
            "linecolor": "#506784",
            "ticks": ""
           }
          },
          "coloraxis": {
           "colorbar": {
            "outlinewidth": 0,
            "ticks": ""
           }
          },
          "colorscale": {
           "sequential": [
            [
             0.0,
             "#0d0887"
            ],
            [
             0.1111111111111111,
             "#46039f"
            ],
            [
             0.2222222222222222,
             "#7201a8"
            ],
            [
             0.3333333333333333,
             "#9c179e"
            ],
            [
             0.4444444444444444,
             "#bd3786"
            ],
            [
             0.5555555555555556,
             "#d8576b"
            ],
            [
             0.6666666666666666,
             "#ed7953"
            ],
            [
             0.7777777777777778,
             "#fb9f3a"
            ],
            [
             0.8888888888888888,
             "#fdca26"
            ],
            [
             1.0,
             "#f0f921"
            ]
           ],
           "sequentialminus": [
            [
             0.0,
             "#0d0887"
            ],
            [
             0.1111111111111111,
             "#46039f"
            ],
            [
             0.2222222222222222,
             "#7201a8"
            ],
            [
             0.3333333333333333,
             "#9c179e"
            ],
            [
             0.4444444444444444,
             "#bd3786"
            ],
            [
             0.5555555555555556,
             "#d8576b"
            ],
            [
             0.6666666666666666,
             "#ed7953"
            ],
            [
             0.7777777777777778,
             "#fb9f3a"
            ],
            [
             0.8888888888888888,
             "#fdca26"
            ],
            [
             1.0,
             "#f0f921"
            ]
           ],
           "diverging": [
            [
             0,
             "#8e0152"
            ],
            [
             0.1,
             "#c51b7d"
            ],
            [
             0.2,
             "#de77ae"
            ],
            [
             0.3,
             "#f1b6da"
            ],
            [
             0.4,
             "#fde0ef"
            ],
            [
             0.5,
             "#f7f7f7"
            ],
            [
             0.6,
             "#e6f5d0"
            ],
            [
             0.7,
             "#b8e186"
            ],
            [
             0.8,
             "#7fbc41"
            ],
            [
             0.9,
             "#4d9221"
            ],
            [
             1,
             "#276419"
            ]
           ]
          },
          "xaxis": {
           "gridcolor": "#283442",
           "linecolor": "#506784",
           "ticks": "",
           "title": {
            "standoff": 15
           },
           "zerolinecolor": "#283442",
           "automargin": true,
           "zerolinewidth": 2
          },
          "yaxis": {
           "gridcolor": "#283442",
           "linecolor": "#506784",
           "ticks": "",
           "title": {
            "standoff": 15
           },
           "zerolinecolor": "#283442",
           "automargin": true,
           "zerolinewidth": 2
          },
          "scene": {
           "xaxis": {
            "backgroundcolor": "rgb(17,17,17)",
            "gridcolor": "#506784",
            "linecolor": "#506784",
            "showbackground": true,
            "ticks": "",
            "zerolinecolor": "#C8D4E3",
            "gridwidth": 2
           },
           "yaxis": {
            "backgroundcolor": "rgb(17,17,17)",
            "gridcolor": "#506784",
            "linecolor": "#506784",
            "showbackground": true,
            "ticks": "",
            "zerolinecolor": "#C8D4E3",
            "gridwidth": 2
           },
           "zaxis": {
            "backgroundcolor": "rgb(17,17,17)",
            "gridcolor": "#506784",
            "linecolor": "#506784",
            "showbackground": true,
            "ticks": "",
            "zerolinecolor": "#C8D4E3",
            "gridwidth": 2
           }
          },
          "shapedefaults": {
           "line": {
            "color": "#f2f5fa"
           }
          },
          "annotationdefaults": {
           "arrowcolor": "#f2f5fa",
           "arrowhead": 0,
           "arrowwidth": 1
          },
          "geo": {
           "bgcolor": "rgb(17,17,17)",
           "landcolor": "rgb(17,17,17)",
           "subunitcolor": "#506784",
           "showland": true,
           "showlakes": true,
           "lakecolor": "rgb(17,17,17)"
          },
          "title": {
           "x": 0.05
          },
          "updatemenudefaults": {
           "bgcolor": "#506784",
           "borderwidth": 0
          },
          "sliderdefaults": {
           "bgcolor": "#C8D4E3",
           "borderwidth": 1,
           "bordercolor": "rgb(17,17,17)",
           "tickwidth": 0
          },
          "mapbox": {
           "style": "dark"
          }
         }
        },
        "geo": {
         "domain": {
          "x": [
           0.0,
           1.0
          ],
          "y": [
           0.0,
           1.0
          ]
         },
         "center": {}
        },
        "coloraxis": {
         "colorbar": {
          "title": {
           "text": "Attack Count"
          }
         },
         "colorscale": [
          [
           0.0,
           "rgb(255,245,240)"
          ],
          [
           0.125,
           "rgb(254,224,210)"
          ],
          [
           0.25,
           "rgb(252,187,161)"
          ],
          [
           0.375,
           "rgb(252,146,114)"
          ],
          [
           0.5,
           "rgb(251,106,74)"
          ],
          [
           0.625,
           "rgb(239,59,44)"
          ],
          [
           0.75,
           "rgb(203,24,29)"
          ],
          [
           0.875,
           "rgb(165,15,21)"
          ],
          [
           1.0,
           "rgb(103,0,13)"
          ]
         ]
        },
        "legend": {
         "tracegroupgap": 0
        },
        "title": {
         "text": "Number of Attacks by Country"
        },
        "width": 1200,
        "height": 600
       },
       "config": {
        "plotlyServerURL": "https://plot.ly"
       }
      },
      "text/html": [
       "<div>                            <div id=\"42aa55e2-194c-4cc1-8709-e71c74633ca6\" class=\"plotly-graph-div\" style=\"height:600px; width:1200px;\"></div>            <script type=\"text/javascript\">                require([\"plotly\"], function(Plotly) {                    window.PLOTLYENV=window.PLOTLYENV || {};                                    if (document.getElementById(\"42aa55e2-194c-4cc1-8709-e71c74633ca6\")) {                    Plotly.newPlot(                        \"42aa55e2-194c-4cc1-8709-e71c74633ca6\",                        [{\"coloraxis\":\"coloraxis\",\"geo\":\"geo\",\"hovertemplate\":\"country=%{location}\\u003cbr\\u003eAttack Count=%{z}\\u003cextra\\u003e\\u003c\\u002fextra\\u003e\",\"locationmode\":\"ISO-3\",\"locations\":[\"ARG\",\"BRA\",\"CAN\",\"CHL\",\"CZE\",\"DNK\",\"IDN\",\"ITA\",\"LVA\",\"MOZ\",\"NLD\",\"NOR\",\"REU\",\"ROU\",\"SVK\"],\"name\":\"\",\"z\":[1,9,9,3,2,5,9,7,3,1,1,10,1,79,1],\"type\":\"choropleth\"}],                        {\"template\":{\"data\":{\"histogram2dcontour\":[{\"type\":\"histogram2dcontour\",\"colorbar\":{\"outlinewidth\":0,\"ticks\":\"\"},\"colorscale\":[[0.0,\"#0d0887\"],[0.1111111111111111,\"#46039f\"],[0.2222222222222222,\"#7201a8\"],[0.3333333333333333,\"#9c179e\"],[0.4444444444444444,\"#bd3786\"],[0.5555555555555556,\"#d8576b\"],[0.6666666666666666,\"#ed7953\"],[0.7777777777777778,\"#fb9f3a\"],[0.8888888888888888,\"#fdca26\"],[1.0,\"#f0f921\"]]}],\"choropleth\":[{\"type\":\"choropleth\",\"colorbar\":{\"outlinewidth\":0,\"ticks\":\"\"}}],\"histogram2d\":[{\"type\":\"histogram2d\",\"colorbar\":{\"outlinewidth\":0,\"ticks\":\"\"},\"colorscale\":[[0.0,\"#0d0887\"],[0.1111111111111111,\"#46039f\"],[0.2222222222222222,\"#7201a8\"],[0.3333333333333333,\"#9c179e\"],[0.4444444444444444,\"#bd3786\"],[0.5555555555555556,\"#d8576b\"],[0.6666666666666666,\"#ed7953\"],[0.7777777777777778,\"#fb9f3a\"],[0.8888888888888888,\"#fdca26\"],[1.0,\"#f0f921\"]]}],\"heatmap\":[{\"type\":\"heatmap\",\"colorbar\":{\"outlinewidth\":0,\"ticks\":\"\"},\"colorscale\":[[0.0,\"#0d0887\"],[0.1111111111111111,\"#46039f\"],[0.2222222222222222,\"#7201a8\"],[0.3333333333333333,\"#9c179e\"],[0.4444444444444444,\"#bd3786\"],[0.5555555555555556,\"#d8576b\"],[0.6666666666666666,\"#ed7953\"],[0.7777777777777778,\"#fb9f3a\"],[0.8888888888888888,\"#fdca26\"],[1.0,\"#f0f921\"]]}],\"heatmapgl\":[{\"type\":\"heatmapgl\",\"colorbar\":{\"outlinewidth\":0,\"ticks\":\"\"},\"colorscale\":[[0.0,\"#0d0887\"],[0.1111111111111111,\"#46039f\"],[0.2222222222222222,\"#7201a8\"],[0.3333333333333333,\"#9c179e\"],[0.4444444444444444,\"#bd3786\"],[0.5555555555555556,\"#d8576b\"],[0.6666666666666666,\"#ed7953\"],[0.7777777777777778,\"#fb9f3a\"],[0.8888888888888888,\"#fdca26\"],[1.0,\"#f0f921\"]]}],\"contourcarpet\":[{\"type\":\"contourcarpet\",\"colorbar\":{\"outlinewidth\":0,\"ticks\":\"\"}}],\"contour\":[{\"type\":\"contour\",\"colorbar\":{\"outlinewidth\":0,\"ticks\":\"\"},\"colorscale\":[[0.0,\"#0d0887\"],[0.1111111111111111,\"#46039f\"],[0.2222222222222222,\"#7201a8\"],[0.3333333333333333,\"#9c179e\"],[0.4444444444444444,\"#bd3786\"],[0.5555555555555556,\"#d8576b\"],[0.6666666666666666,\"#ed7953\"],[0.7777777777777778,\"#fb9f3a\"],[0.8888888888888888,\"#fdca26\"],[1.0,\"#f0f921\"]]}],\"surface\":[{\"type\":\"surface\",\"colorbar\":{\"outlinewidth\":0,\"ticks\":\"\"},\"colorscale\":[[0.0,\"#0d0887\"],[0.1111111111111111,\"#46039f\"],[0.2222222222222222,\"#7201a8\"],[0.3333333333333333,\"#9c179e\"],[0.4444444444444444,\"#bd3786\"],[0.5555555555555556,\"#d8576b\"],[0.6666666666666666,\"#ed7953\"],[0.7777777777777778,\"#fb9f3a\"],[0.8888888888888888,\"#fdca26\"],[1.0,\"#f0f921\"]]}],\"mesh3d\":[{\"type\":\"mesh3d\",\"colorbar\":{\"outlinewidth\":0,\"ticks\":\"\"}}],\"scatter\":[{\"marker\":{\"line\":{\"color\":\"#283442\"}},\"type\":\"scatter\"}],\"parcoords\":[{\"type\":\"parcoords\",\"line\":{\"colorbar\":{\"outlinewidth\":0,\"ticks\":\"\"}}}],\"scatterpolargl\":[{\"type\":\"scatterpolargl\",\"marker\":{\"colorbar\":{\"outlinewidth\":0,\"ticks\":\"\"}}}],\"bar\":[{\"error_x\":{\"color\":\"#f2f5fa\"},\"error_y\":{\"color\":\"#f2f5fa\"},\"marker\":{\"line\":{\"color\":\"rgb(17,17,17)\",\"width\":0.5},\"pattern\":{\"fillmode\":\"overlay\",\"size\":10,\"solidity\":0.2}},\"type\":\"bar\"}],\"scattergeo\":[{\"type\":\"scattergeo\",\"marker\":{\"colorbar\":{\"outlinewidth\":0,\"ticks\":\"\"}}}],\"scatterpolar\":[{\"type\":\"scatterpolar\",\"marker\":{\"colorbar\":{\"outlinewidth\":0,\"ticks\":\"\"}}}],\"histogram\":[{\"marker\":{\"pattern\":{\"fillmode\":\"overlay\",\"size\":10,\"solidity\":0.2}},\"type\":\"histogram\"}],\"scattergl\":[{\"marker\":{\"line\":{\"color\":\"#283442\"}},\"type\":\"scattergl\"}],\"scatter3d\":[{\"type\":\"scatter3d\",\"line\":{\"colorbar\":{\"outlinewidth\":0,\"ticks\":\"\"}},\"marker\":{\"colorbar\":{\"outlinewidth\":0,\"ticks\":\"\"}}}],\"scattermapbox\":[{\"type\":\"scattermapbox\",\"marker\":{\"colorbar\":{\"outlinewidth\":0,\"ticks\":\"\"}}}],\"scatterternary\":[{\"type\":\"scatterternary\",\"marker\":{\"colorbar\":{\"outlinewidth\":0,\"ticks\":\"\"}}}],\"scattercarpet\":[{\"type\":\"scattercarpet\",\"marker\":{\"colorbar\":{\"outlinewidth\":0,\"ticks\":\"\"}}}],\"carpet\":[{\"aaxis\":{\"endlinecolor\":\"#A2B1C6\",\"gridcolor\":\"#506784\",\"linecolor\":\"#506784\",\"minorgridcolor\":\"#506784\",\"startlinecolor\":\"#A2B1C6\"},\"baxis\":{\"endlinecolor\":\"#A2B1C6\",\"gridcolor\":\"#506784\",\"linecolor\":\"#506784\",\"minorgridcolor\":\"#506784\",\"startlinecolor\":\"#A2B1C6\"},\"type\":\"carpet\"}],\"table\":[{\"cells\":{\"fill\":{\"color\":\"#506784\"},\"line\":{\"color\":\"rgb(17,17,17)\"}},\"header\":{\"fill\":{\"color\":\"#2a3f5f\"},\"line\":{\"color\":\"rgb(17,17,17)\"}},\"type\":\"table\"}],\"barpolar\":[{\"marker\":{\"line\":{\"color\":\"rgb(17,17,17)\",\"width\":0.5},\"pattern\":{\"fillmode\":\"overlay\",\"size\":10,\"solidity\":0.2}},\"type\":\"barpolar\"}],\"pie\":[{\"automargin\":true,\"type\":\"pie\"}]},\"layout\":{\"autotypenumbers\":\"strict\",\"colorway\":[\"#636efa\",\"#EF553B\",\"#00cc96\",\"#ab63fa\",\"#FFA15A\",\"#19d3f3\",\"#FF6692\",\"#B6E880\",\"#FF97FF\",\"#FECB52\"],\"font\":{\"color\":\"#f2f5fa\"},\"hovermode\":\"closest\",\"hoverlabel\":{\"align\":\"left\"},\"paper_bgcolor\":\"rgb(17,17,17)\",\"plot_bgcolor\":\"rgb(17,17,17)\",\"polar\":{\"bgcolor\":\"rgb(17,17,17)\",\"angularaxis\":{\"gridcolor\":\"#506784\",\"linecolor\":\"#506784\",\"ticks\":\"\"},\"radialaxis\":{\"gridcolor\":\"#506784\",\"linecolor\":\"#506784\",\"ticks\":\"\"}},\"ternary\":{\"bgcolor\":\"rgb(17,17,17)\",\"aaxis\":{\"gridcolor\":\"#506784\",\"linecolor\":\"#506784\",\"ticks\":\"\"},\"baxis\":{\"gridcolor\":\"#506784\",\"linecolor\":\"#506784\",\"ticks\":\"\"},\"caxis\":{\"gridcolor\":\"#506784\",\"linecolor\":\"#506784\",\"ticks\":\"\"}},\"coloraxis\":{\"colorbar\":{\"outlinewidth\":0,\"ticks\":\"\"}},\"colorscale\":{\"sequential\":[[0.0,\"#0d0887\"],[0.1111111111111111,\"#46039f\"],[0.2222222222222222,\"#7201a8\"],[0.3333333333333333,\"#9c179e\"],[0.4444444444444444,\"#bd3786\"],[0.5555555555555556,\"#d8576b\"],[0.6666666666666666,\"#ed7953\"],[0.7777777777777778,\"#fb9f3a\"],[0.8888888888888888,\"#fdca26\"],[1.0,\"#f0f921\"]],\"sequentialminus\":[[0.0,\"#0d0887\"],[0.1111111111111111,\"#46039f\"],[0.2222222222222222,\"#7201a8\"],[0.3333333333333333,\"#9c179e\"],[0.4444444444444444,\"#bd3786\"],[0.5555555555555556,\"#d8576b\"],[0.6666666666666666,\"#ed7953\"],[0.7777777777777778,\"#fb9f3a\"],[0.8888888888888888,\"#fdca26\"],[1.0,\"#f0f921\"]],\"diverging\":[[0,\"#8e0152\"],[0.1,\"#c51b7d\"],[0.2,\"#de77ae\"],[0.3,\"#f1b6da\"],[0.4,\"#fde0ef\"],[0.5,\"#f7f7f7\"],[0.6,\"#e6f5d0\"],[0.7,\"#b8e186\"],[0.8,\"#7fbc41\"],[0.9,\"#4d9221\"],[1,\"#276419\"]]},\"xaxis\":{\"gridcolor\":\"#283442\",\"linecolor\":\"#506784\",\"ticks\":\"\",\"title\":{\"standoff\":15},\"zerolinecolor\":\"#283442\",\"automargin\":true,\"zerolinewidth\":2},\"yaxis\":{\"gridcolor\":\"#283442\",\"linecolor\":\"#506784\",\"ticks\":\"\",\"title\":{\"standoff\":15},\"zerolinecolor\":\"#283442\",\"automargin\":true,\"zerolinewidth\":2},\"scene\":{\"xaxis\":{\"backgroundcolor\":\"rgb(17,17,17)\",\"gridcolor\":\"#506784\",\"linecolor\":\"#506784\",\"showbackground\":true,\"ticks\":\"\",\"zerolinecolor\":\"#C8D4E3\",\"gridwidth\":2},\"yaxis\":{\"backgroundcolor\":\"rgb(17,17,17)\",\"gridcolor\":\"#506784\",\"linecolor\":\"#506784\",\"showbackground\":true,\"ticks\":\"\",\"zerolinecolor\":\"#C8D4E3\",\"gridwidth\":2},\"zaxis\":{\"backgroundcolor\":\"rgb(17,17,17)\",\"gridcolor\":\"#506784\",\"linecolor\":\"#506784\",\"showbackground\":true,\"ticks\":\"\",\"zerolinecolor\":\"#C8D4E3\",\"gridwidth\":2}},\"shapedefaults\":{\"line\":{\"color\":\"#f2f5fa\"}},\"annotationdefaults\":{\"arrowcolor\":\"#f2f5fa\",\"arrowhead\":0,\"arrowwidth\":1},\"geo\":{\"bgcolor\":\"rgb(17,17,17)\",\"landcolor\":\"rgb(17,17,17)\",\"subunitcolor\":\"#506784\",\"showland\":true,\"showlakes\":true,\"lakecolor\":\"rgb(17,17,17)\"},\"title\":{\"x\":0.05},\"updatemenudefaults\":{\"bgcolor\":\"#506784\",\"borderwidth\":0},\"sliderdefaults\":{\"bgcolor\":\"#C8D4E3\",\"borderwidth\":1,\"bordercolor\":\"rgb(17,17,17)\",\"tickwidth\":0},\"mapbox\":{\"style\":\"dark\"}}},\"geo\":{\"domain\":{\"x\":[0.0,1.0],\"y\":[0.0,1.0]},\"center\":{}},\"coloraxis\":{\"colorbar\":{\"title\":{\"text\":\"Attack Count\"}},\"colorscale\":[[0.0,\"rgb(255,245,240)\"],[0.125,\"rgb(254,224,210)\"],[0.25,\"rgb(252,187,161)\"],[0.375,\"rgb(252,146,114)\"],[0.5,\"rgb(251,106,74)\"],[0.625,\"rgb(239,59,44)\"],[0.75,\"rgb(203,24,29)\"],[0.875,\"rgb(165,15,21)\"],[1.0,\"rgb(103,0,13)\"]]},\"legend\":{\"tracegroupgap\":0},\"title\":{\"text\":\"Number of Attacks by Country\"},\"width\":1200,\"height\":600},                        {\"responsive\": true}                    ).then(function(){\n",
       "                            \n",
       "var gd = document.getElementById('42aa55e2-194c-4cc1-8709-e71c74633ca6');\n",
       "var x = new MutationObserver(function (mutations, observer) {{\n",
       "        var display = window.getComputedStyle(gd).display;\n",
       "        if (!display || display === 'none') {{\n",
       "            console.log([gd, 'removed!']);\n",
       "            Plotly.purge(gd);\n",
       "            observer.disconnect();\n",
       "        }}\n",
       "}});\n",
       "\n",
       "// Listen for the removal of the full notebook cells\n",
       "var notebookContainer = gd.closest('#notebook-container');\n",
       "if (notebookContainer) {{\n",
       "    x.observe(notebookContainer, {childList: true});\n",
       "}}\n",
       "\n",
       "// Listen for the clearing of the current output cell\n",
       "var outputEl = gd.closest('.output');\n",
       "if (outputEl) {{\n",
       "    x.observe(outputEl, {childList: true});\n",
       "}}\n",
       "\n",
       "                        })                };                });            </script>        </div>"
      ]
     },
     "metadata": {},
     "output_type": "display_data"
    }
   ],
   "execution_count": 142
  },
  {
   "metadata": {
    "ExecuteTime": {
     "end_time": "2024-12-30T16:48:34.348353Z",
     "start_time": "2024-12-30T16:48:34.341445Z"
    }
   },
   "cell_type": "code",
   "source": "normal_connections.sort_values(by='Connections Count' , ascending=False)",
   "id": "d49968fc8d8929f1",
   "outputs": [
    {
     "data": {
      "text/plain": [
       "   country  Connections Count\n",
       "51     NOR               1347\n",
       "69     USA                842\n",
       "58     RUS                140\n",
       "10     BRA                125\n",
       "55     POL                 95\n",
       "..     ...                ...\n",
       "59     SAU                  1\n",
       "63     SVN                  1\n",
       "66      TW                  1\n",
       "70     VGB                  1\n",
       "71     VNM                  1\n",
       "\n",
       "[73 rows x 2 columns]"
      ],
      "text/html": [
       "<div>\n",
       "<style scoped>\n",
       "    .dataframe tbody tr th:only-of-type {\n",
       "        vertical-align: middle;\n",
       "    }\n",
       "\n",
       "    .dataframe tbody tr th {\n",
       "        vertical-align: top;\n",
       "    }\n",
       "\n",
       "    .dataframe thead th {\n",
       "        text-align: right;\n",
       "    }\n",
       "</style>\n",
       "<table border=\"1\" class=\"dataframe\">\n",
       "  <thead>\n",
       "    <tr style=\"text-align: right;\">\n",
       "      <th></th>\n",
       "      <th>country</th>\n",
       "      <th>Connections Count</th>\n",
       "    </tr>\n",
       "  </thead>\n",
       "  <tbody>\n",
       "    <tr>\n",
       "      <th>51</th>\n",
       "      <td>NOR</td>\n",
       "      <td>1347</td>\n",
       "    </tr>\n",
       "    <tr>\n",
       "      <th>69</th>\n",
       "      <td>USA</td>\n",
       "      <td>842</td>\n",
       "    </tr>\n",
       "    <tr>\n",
       "      <th>58</th>\n",
       "      <td>RUS</td>\n",
       "      <td>140</td>\n",
       "    </tr>\n",
       "    <tr>\n",
       "      <th>10</th>\n",
       "      <td>BRA</td>\n",
       "      <td>125</td>\n",
       "    </tr>\n",
       "    <tr>\n",
       "      <th>55</th>\n",
       "      <td>POL</td>\n",
       "      <td>95</td>\n",
       "    </tr>\n",
       "    <tr>\n",
       "      <th>...</th>\n",
       "      <td>...</td>\n",
       "      <td>...</td>\n",
       "    </tr>\n",
       "    <tr>\n",
       "      <th>59</th>\n",
       "      <td>SAU</td>\n",
       "      <td>1</td>\n",
       "    </tr>\n",
       "    <tr>\n",
       "      <th>63</th>\n",
       "      <td>SVN</td>\n",
       "      <td>1</td>\n",
       "    </tr>\n",
       "    <tr>\n",
       "      <th>66</th>\n",
       "      <td>TW</td>\n",
       "      <td>1</td>\n",
       "    </tr>\n",
       "    <tr>\n",
       "      <th>70</th>\n",
       "      <td>VGB</td>\n",
       "      <td>1</td>\n",
       "    </tr>\n",
       "    <tr>\n",
       "      <th>71</th>\n",
       "      <td>VNM</td>\n",
       "      <td>1</td>\n",
       "    </tr>\n",
       "  </tbody>\n",
       "</table>\n",
       "<p>73 rows × 2 columns</p>\n",
       "</div>"
      ]
     },
     "execution_count": 143,
     "metadata": {},
     "output_type": "execute_result"
    }
   ],
   "execution_count": 143
  },
  {
   "metadata": {
    "ExecuteTime": {
     "end_time": "2024-12-30T16:48:34.588354Z",
     "start_time": "2024-12-30T16:48:34.551339Z"
    }
   },
   "cell_type": "code",
   "source": [
    "fig = px.choropleth(\n",
    "    normal_connections,\n",
    "    locations=\"country\",\n",
    "    locationmode=\"ISO-3\",\n",
    "    color=\"Connections Count\",\n",
    "    title=\"Map of Normal Connections by Country\",\n",
    "    color_continuous_scale=\"Blues\"\n",
    ")\n",
    "fig.update_layout(\n",
    "    width=1200,\n",
    "    height=600\n",
    ")\n",
    "fig.show()"
   ],
   "id": "b94889f29f0c46ba",
   "outputs": [
    {
     "data": {
      "application/vnd.plotly.v1+json": {
       "data": [
        {
         "coloraxis": "coloraxis",
         "geo": "geo",
         "hovertemplate": "country=%{location}<br>Connections Count=%{z}<extra></extra>",
         "locationmode": "ISO-3",
         "locations": [
          "AGO",
          "ARE",
          "ARG",
          "AUS",
          "AUT",
          "BEL",
          "BGD",
          "BGR",
          "BHS",
          "BLR",
          "BRA",
          "CAN",
          "CHE",
          "CHL",
          "CHN",
          "CMR",
          "COD",
          "COL",
          "CYP",
          "CZE",
          "DEU",
          "DNK",
          "EGY",
          "ESP",
          "FIN",
          "FJI",
          "FRA",
          "GBR",
          "GEO",
          "GHA",
          "GRC",
          "HKG",
          "HRV",
          "HUN",
          "IDN",
          "IND",
          "IRL",
          "IRN",
          "ISL",
          "ISR",
          "ITA",
          "JPN",
          "KGZ",
          "KOR",
          "KWT",
          "LBN",
          "LVA",
          "MAR",
          "MYS",
          "NCL",
          "NLD",
          "NOR",
          "NZL",
          "PAK",
          "PHL",
          "POL",
          "PS",
          "ROU",
          "RUS",
          "SAU",
          "SGP",
          "SRB",
          "SVK",
          "SVN",
          "SWE",
          "TUR",
          "TW",
          "UGA",
          "UKR",
          "USA",
          "VGB",
          "VNM",
          "ZAF"
         ],
         "name": "",
         "z": [
          1,
          1,
          11,
          38,
          5,
          1,
          8,
          3,
          1,
          1,
          125,
          21,
          7,
          2,
          8,
          1,
          1,
          1,
          1,
          12,
          83,
          3,
          1,
          14,
          2,
          1,
          17,
          42,
          1,
          1,
          1,
          17,
          2,
          2,
          37,
          56,
          2,
          4,
          2,
          2,
          21,
          14,
          2,
          2,
          1,
          1,
          1,
          1,
          1,
          1,
          17,
          1347,
          5,
          1,
          1,
          95,
          1,
          16,
          140,
          1,
          5,
          1,
          1,
          1,
          7,
          10,
          1,
          3,
          36,
          842,
          1,
          1,
          10
         ],
         "type": "choropleth"
        }
       ],
       "layout": {
        "template": {
         "data": {
          "histogram2dcontour": [
           {
            "type": "histogram2dcontour",
            "colorbar": {
             "outlinewidth": 0,
             "ticks": ""
            },
            "colorscale": [
             [
              0.0,
              "#0d0887"
             ],
             [
              0.1111111111111111,
              "#46039f"
             ],
             [
              0.2222222222222222,
              "#7201a8"
             ],
             [
              0.3333333333333333,
              "#9c179e"
             ],
             [
              0.4444444444444444,
              "#bd3786"
             ],
             [
              0.5555555555555556,
              "#d8576b"
             ],
             [
              0.6666666666666666,
              "#ed7953"
             ],
             [
              0.7777777777777778,
              "#fb9f3a"
             ],
             [
              0.8888888888888888,
              "#fdca26"
             ],
             [
              1.0,
              "#f0f921"
             ]
            ]
           }
          ],
          "choropleth": [
           {
            "type": "choropleth",
            "colorbar": {
             "outlinewidth": 0,
             "ticks": ""
            }
           }
          ],
          "histogram2d": [
           {
            "type": "histogram2d",
            "colorbar": {
             "outlinewidth": 0,
             "ticks": ""
            },
            "colorscale": [
             [
              0.0,
              "#0d0887"
             ],
             [
              0.1111111111111111,
              "#46039f"
             ],
             [
              0.2222222222222222,
              "#7201a8"
             ],
             [
              0.3333333333333333,
              "#9c179e"
             ],
             [
              0.4444444444444444,
              "#bd3786"
             ],
             [
              0.5555555555555556,
              "#d8576b"
             ],
             [
              0.6666666666666666,
              "#ed7953"
             ],
             [
              0.7777777777777778,
              "#fb9f3a"
             ],
             [
              0.8888888888888888,
              "#fdca26"
             ],
             [
              1.0,
              "#f0f921"
             ]
            ]
           }
          ],
          "heatmap": [
           {
            "type": "heatmap",
            "colorbar": {
             "outlinewidth": 0,
             "ticks": ""
            },
            "colorscale": [
             [
              0.0,
              "#0d0887"
             ],
             [
              0.1111111111111111,
              "#46039f"
             ],
             [
              0.2222222222222222,
              "#7201a8"
             ],
             [
              0.3333333333333333,
              "#9c179e"
             ],
             [
              0.4444444444444444,
              "#bd3786"
             ],
             [
              0.5555555555555556,
              "#d8576b"
             ],
             [
              0.6666666666666666,
              "#ed7953"
             ],
             [
              0.7777777777777778,
              "#fb9f3a"
             ],
             [
              0.8888888888888888,
              "#fdca26"
             ],
             [
              1.0,
              "#f0f921"
             ]
            ]
           }
          ],
          "heatmapgl": [
           {
            "type": "heatmapgl",
            "colorbar": {
             "outlinewidth": 0,
             "ticks": ""
            },
            "colorscale": [
             [
              0.0,
              "#0d0887"
             ],
             [
              0.1111111111111111,
              "#46039f"
             ],
             [
              0.2222222222222222,
              "#7201a8"
             ],
             [
              0.3333333333333333,
              "#9c179e"
             ],
             [
              0.4444444444444444,
              "#bd3786"
             ],
             [
              0.5555555555555556,
              "#d8576b"
             ],
             [
              0.6666666666666666,
              "#ed7953"
             ],
             [
              0.7777777777777778,
              "#fb9f3a"
             ],
             [
              0.8888888888888888,
              "#fdca26"
             ],
             [
              1.0,
              "#f0f921"
             ]
            ]
           }
          ],
          "contourcarpet": [
           {
            "type": "contourcarpet",
            "colorbar": {
             "outlinewidth": 0,
             "ticks": ""
            }
           }
          ],
          "contour": [
           {
            "type": "contour",
            "colorbar": {
             "outlinewidth": 0,
             "ticks": ""
            },
            "colorscale": [
             [
              0.0,
              "#0d0887"
             ],
             [
              0.1111111111111111,
              "#46039f"
             ],
             [
              0.2222222222222222,
              "#7201a8"
             ],
             [
              0.3333333333333333,
              "#9c179e"
             ],
             [
              0.4444444444444444,
              "#bd3786"
             ],
             [
              0.5555555555555556,
              "#d8576b"
             ],
             [
              0.6666666666666666,
              "#ed7953"
             ],
             [
              0.7777777777777778,
              "#fb9f3a"
             ],
             [
              0.8888888888888888,
              "#fdca26"
             ],
             [
              1.0,
              "#f0f921"
             ]
            ]
           }
          ],
          "surface": [
           {
            "type": "surface",
            "colorbar": {
             "outlinewidth": 0,
             "ticks": ""
            },
            "colorscale": [
             [
              0.0,
              "#0d0887"
             ],
             [
              0.1111111111111111,
              "#46039f"
             ],
             [
              0.2222222222222222,
              "#7201a8"
             ],
             [
              0.3333333333333333,
              "#9c179e"
             ],
             [
              0.4444444444444444,
              "#bd3786"
             ],
             [
              0.5555555555555556,
              "#d8576b"
             ],
             [
              0.6666666666666666,
              "#ed7953"
             ],
             [
              0.7777777777777778,
              "#fb9f3a"
             ],
             [
              0.8888888888888888,
              "#fdca26"
             ],
             [
              1.0,
              "#f0f921"
             ]
            ]
           }
          ],
          "mesh3d": [
           {
            "type": "mesh3d",
            "colorbar": {
             "outlinewidth": 0,
             "ticks": ""
            }
           }
          ],
          "scatter": [
           {
            "marker": {
             "line": {
              "color": "#283442"
             }
            },
            "type": "scatter"
           }
          ],
          "parcoords": [
           {
            "type": "parcoords",
            "line": {
             "colorbar": {
              "outlinewidth": 0,
              "ticks": ""
             }
            }
           }
          ],
          "scatterpolargl": [
           {
            "type": "scatterpolargl",
            "marker": {
             "colorbar": {
              "outlinewidth": 0,
              "ticks": ""
             }
            }
           }
          ],
          "bar": [
           {
            "error_x": {
             "color": "#f2f5fa"
            },
            "error_y": {
             "color": "#f2f5fa"
            },
            "marker": {
             "line": {
              "color": "rgb(17,17,17)",
              "width": 0.5
             },
             "pattern": {
              "fillmode": "overlay",
              "size": 10,
              "solidity": 0.2
             }
            },
            "type": "bar"
           }
          ],
          "scattergeo": [
           {
            "type": "scattergeo",
            "marker": {
             "colorbar": {
              "outlinewidth": 0,
              "ticks": ""
             }
            }
           }
          ],
          "scatterpolar": [
           {
            "type": "scatterpolar",
            "marker": {
             "colorbar": {
              "outlinewidth": 0,
              "ticks": ""
             }
            }
           }
          ],
          "histogram": [
           {
            "marker": {
             "pattern": {
              "fillmode": "overlay",
              "size": 10,
              "solidity": 0.2
             }
            },
            "type": "histogram"
           }
          ],
          "scattergl": [
           {
            "marker": {
             "line": {
              "color": "#283442"
             }
            },
            "type": "scattergl"
           }
          ],
          "scatter3d": [
           {
            "type": "scatter3d",
            "line": {
             "colorbar": {
              "outlinewidth": 0,
              "ticks": ""
             }
            },
            "marker": {
             "colorbar": {
              "outlinewidth": 0,
              "ticks": ""
             }
            }
           }
          ],
          "scattermapbox": [
           {
            "type": "scattermapbox",
            "marker": {
             "colorbar": {
              "outlinewidth": 0,
              "ticks": ""
             }
            }
           }
          ],
          "scatterternary": [
           {
            "type": "scatterternary",
            "marker": {
             "colorbar": {
              "outlinewidth": 0,
              "ticks": ""
             }
            }
           }
          ],
          "scattercarpet": [
           {
            "type": "scattercarpet",
            "marker": {
             "colorbar": {
              "outlinewidth": 0,
              "ticks": ""
             }
            }
           }
          ],
          "carpet": [
           {
            "aaxis": {
             "endlinecolor": "#A2B1C6",
             "gridcolor": "#506784",
             "linecolor": "#506784",
             "minorgridcolor": "#506784",
             "startlinecolor": "#A2B1C6"
            },
            "baxis": {
             "endlinecolor": "#A2B1C6",
             "gridcolor": "#506784",
             "linecolor": "#506784",
             "minorgridcolor": "#506784",
             "startlinecolor": "#A2B1C6"
            },
            "type": "carpet"
           }
          ],
          "table": [
           {
            "cells": {
             "fill": {
              "color": "#506784"
             },
             "line": {
              "color": "rgb(17,17,17)"
             }
            },
            "header": {
             "fill": {
              "color": "#2a3f5f"
             },
             "line": {
              "color": "rgb(17,17,17)"
             }
            },
            "type": "table"
           }
          ],
          "barpolar": [
           {
            "marker": {
             "line": {
              "color": "rgb(17,17,17)",
              "width": 0.5
             },
             "pattern": {
              "fillmode": "overlay",
              "size": 10,
              "solidity": 0.2
             }
            },
            "type": "barpolar"
           }
          ],
          "pie": [
           {
            "automargin": true,
            "type": "pie"
           }
          ]
         },
         "layout": {
          "autotypenumbers": "strict",
          "colorway": [
           "#636efa",
           "#EF553B",
           "#00cc96",
           "#ab63fa",
           "#FFA15A",
           "#19d3f3",
           "#FF6692",
           "#B6E880",
           "#FF97FF",
           "#FECB52"
          ],
          "font": {
           "color": "#f2f5fa"
          },
          "hovermode": "closest",
          "hoverlabel": {
           "align": "left"
          },
          "paper_bgcolor": "rgb(17,17,17)",
          "plot_bgcolor": "rgb(17,17,17)",
          "polar": {
           "bgcolor": "rgb(17,17,17)",
           "angularaxis": {
            "gridcolor": "#506784",
            "linecolor": "#506784",
            "ticks": ""
           },
           "radialaxis": {
            "gridcolor": "#506784",
            "linecolor": "#506784",
            "ticks": ""
           }
          },
          "ternary": {
           "bgcolor": "rgb(17,17,17)",
           "aaxis": {
            "gridcolor": "#506784",
            "linecolor": "#506784",
            "ticks": ""
           },
           "baxis": {
            "gridcolor": "#506784",
            "linecolor": "#506784",
            "ticks": ""
           },
           "caxis": {
            "gridcolor": "#506784",
            "linecolor": "#506784",
            "ticks": ""
           }
          },
          "coloraxis": {
           "colorbar": {
            "outlinewidth": 0,
            "ticks": ""
           }
          },
          "colorscale": {
           "sequential": [
            [
             0.0,
             "#0d0887"
            ],
            [
             0.1111111111111111,
             "#46039f"
            ],
            [
             0.2222222222222222,
             "#7201a8"
            ],
            [
             0.3333333333333333,
             "#9c179e"
            ],
            [
             0.4444444444444444,
             "#bd3786"
            ],
            [
             0.5555555555555556,
             "#d8576b"
            ],
            [
             0.6666666666666666,
             "#ed7953"
            ],
            [
             0.7777777777777778,
             "#fb9f3a"
            ],
            [
             0.8888888888888888,
             "#fdca26"
            ],
            [
             1.0,
             "#f0f921"
            ]
           ],
           "sequentialminus": [
            [
             0.0,
             "#0d0887"
            ],
            [
             0.1111111111111111,
             "#46039f"
            ],
            [
             0.2222222222222222,
             "#7201a8"
            ],
            [
             0.3333333333333333,
             "#9c179e"
            ],
            [
             0.4444444444444444,
             "#bd3786"
            ],
            [
             0.5555555555555556,
             "#d8576b"
            ],
            [
             0.6666666666666666,
             "#ed7953"
            ],
            [
             0.7777777777777778,
             "#fb9f3a"
            ],
            [
             0.8888888888888888,
             "#fdca26"
            ],
            [
             1.0,
             "#f0f921"
            ]
           ],
           "diverging": [
            [
             0,
             "#8e0152"
            ],
            [
             0.1,
             "#c51b7d"
            ],
            [
             0.2,
             "#de77ae"
            ],
            [
             0.3,
             "#f1b6da"
            ],
            [
             0.4,
             "#fde0ef"
            ],
            [
             0.5,
             "#f7f7f7"
            ],
            [
             0.6,
             "#e6f5d0"
            ],
            [
             0.7,
             "#b8e186"
            ],
            [
             0.8,
             "#7fbc41"
            ],
            [
             0.9,
             "#4d9221"
            ],
            [
             1,
             "#276419"
            ]
           ]
          },
          "xaxis": {
           "gridcolor": "#283442",
           "linecolor": "#506784",
           "ticks": "",
           "title": {
            "standoff": 15
           },
           "zerolinecolor": "#283442",
           "automargin": true,
           "zerolinewidth": 2
          },
          "yaxis": {
           "gridcolor": "#283442",
           "linecolor": "#506784",
           "ticks": "",
           "title": {
            "standoff": 15
           },
           "zerolinecolor": "#283442",
           "automargin": true,
           "zerolinewidth": 2
          },
          "scene": {
           "xaxis": {
            "backgroundcolor": "rgb(17,17,17)",
            "gridcolor": "#506784",
            "linecolor": "#506784",
            "showbackground": true,
            "ticks": "",
            "zerolinecolor": "#C8D4E3",
            "gridwidth": 2
           },
           "yaxis": {
            "backgroundcolor": "rgb(17,17,17)",
            "gridcolor": "#506784",
            "linecolor": "#506784",
            "showbackground": true,
            "ticks": "",
            "zerolinecolor": "#C8D4E3",
            "gridwidth": 2
           },
           "zaxis": {
            "backgroundcolor": "rgb(17,17,17)",
            "gridcolor": "#506784",
            "linecolor": "#506784",
            "showbackground": true,
            "ticks": "",
            "zerolinecolor": "#C8D4E3",
            "gridwidth": 2
           }
          },
          "shapedefaults": {
           "line": {
            "color": "#f2f5fa"
           }
          },
          "annotationdefaults": {
           "arrowcolor": "#f2f5fa",
           "arrowhead": 0,
           "arrowwidth": 1
          },
          "geo": {
           "bgcolor": "rgb(17,17,17)",
           "landcolor": "rgb(17,17,17)",
           "subunitcolor": "#506784",
           "showland": true,
           "showlakes": true,
           "lakecolor": "rgb(17,17,17)"
          },
          "title": {
           "x": 0.05
          },
          "updatemenudefaults": {
           "bgcolor": "#506784",
           "borderwidth": 0
          },
          "sliderdefaults": {
           "bgcolor": "#C8D4E3",
           "borderwidth": 1,
           "bordercolor": "rgb(17,17,17)",
           "tickwidth": 0
          },
          "mapbox": {
           "style": "dark"
          }
         }
        },
        "geo": {
         "domain": {
          "x": [
           0.0,
           1.0
          ],
          "y": [
           0.0,
           1.0
          ]
         },
         "center": {}
        },
        "coloraxis": {
         "colorbar": {
          "title": {
           "text": "Connections Count"
          }
         },
         "colorscale": [
          [
           0.0,
           "rgb(247,251,255)"
          ],
          [
           0.125,
           "rgb(222,235,247)"
          ],
          [
           0.25,
           "rgb(198,219,239)"
          ],
          [
           0.375,
           "rgb(158,202,225)"
          ],
          [
           0.5,
           "rgb(107,174,214)"
          ],
          [
           0.625,
           "rgb(66,146,198)"
          ],
          [
           0.75,
           "rgb(33,113,181)"
          ],
          [
           0.875,
           "rgb(8,81,156)"
          ],
          [
           1.0,
           "rgb(8,48,107)"
          ]
         ]
        },
        "legend": {
         "tracegroupgap": 0
        },
        "title": {
         "text": "Map of Normal Connections by Country"
        },
        "width": 1200,
        "height": 600
       },
       "config": {
        "plotlyServerURL": "https://plot.ly"
       }
      },
      "text/html": [
       "<div>                            <div id=\"ecd1b775-2f00-4b47-9f65-45de60a3fd6d\" class=\"plotly-graph-div\" style=\"height:600px; width:1200px;\"></div>            <script type=\"text/javascript\">                require([\"plotly\"], function(Plotly) {                    window.PLOTLYENV=window.PLOTLYENV || {};                                    if (document.getElementById(\"ecd1b775-2f00-4b47-9f65-45de60a3fd6d\")) {                    Plotly.newPlot(                        \"ecd1b775-2f00-4b47-9f65-45de60a3fd6d\",                        [{\"coloraxis\":\"coloraxis\",\"geo\":\"geo\",\"hovertemplate\":\"country=%{location}\\u003cbr\\u003eConnections Count=%{z}\\u003cextra\\u003e\\u003c\\u002fextra\\u003e\",\"locationmode\":\"ISO-3\",\"locations\":[\"AGO\",\"ARE\",\"ARG\",\"AUS\",\"AUT\",\"BEL\",\"BGD\",\"BGR\",\"BHS\",\"BLR\",\"BRA\",\"CAN\",\"CHE\",\"CHL\",\"CHN\",\"CMR\",\"COD\",\"COL\",\"CYP\",\"CZE\",\"DEU\",\"DNK\",\"EGY\",\"ESP\",\"FIN\",\"FJI\",\"FRA\",\"GBR\",\"GEO\",\"GHA\",\"GRC\",\"HKG\",\"HRV\",\"HUN\",\"IDN\",\"IND\",\"IRL\",\"IRN\",\"ISL\",\"ISR\",\"ITA\",\"JPN\",\"KGZ\",\"KOR\",\"KWT\",\"LBN\",\"LVA\",\"MAR\",\"MYS\",\"NCL\",\"NLD\",\"NOR\",\"NZL\",\"PAK\",\"PHL\",\"POL\",\"PS\",\"ROU\",\"RUS\",\"SAU\",\"SGP\",\"SRB\",\"SVK\",\"SVN\",\"SWE\",\"TUR\",\"TW\",\"UGA\",\"UKR\",\"USA\",\"VGB\",\"VNM\",\"ZAF\"],\"name\":\"\",\"z\":[1,1,11,38,5,1,8,3,1,1,125,21,7,2,8,1,1,1,1,12,83,3,1,14,2,1,17,42,1,1,1,17,2,2,37,56,2,4,2,2,21,14,2,2,1,1,1,1,1,1,17,1347,5,1,1,95,1,16,140,1,5,1,1,1,7,10,1,3,36,842,1,1,10],\"type\":\"choropleth\"}],                        {\"template\":{\"data\":{\"histogram2dcontour\":[{\"type\":\"histogram2dcontour\",\"colorbar\":{\"outlinewidth\":0,\"ticks\":\"\"},\"colorscale\":[[0.0,\"#0d0887\"],[0.1111111111111111,\"#46039f\"],[0.2222222222222222,\"#7201a8\"],[0.3333333333333333,\"#9c179e\"],[0.4444444444444444,\"#bd3786\"],[0.5555555555555556,\"#d8576b\"],[0.6666666666666666,\"#ed7953\"],[0.7777777777777778,\"#fb9f3a\"],[0.8888888888888888,\"#fdca26\"],[1.0,\"#f0f921\"]]}],\"choropleth\":[{\"type\":\"choropleth\",\"colorbar\":{\"outlinewidth\":0,\"ticks\":\"\"}}],\"histogram2d\":[{\"type\":\"histogram2d\",\"colorbar\":{\"outlinewidth\":0,\"ticks\":\"\"},\"colorscale\":[[0.0,\"#0d0887\"],[0.1111111111111111,\"#46039f\"],[0.2222222222222222,\"#7201a8\"],[0.3333333333333333,\"#9c179e\"],[0.4444444444444444,\"#bd3786\"],[0.5555555555555556,\"#d8576b\"],[0.6666666666666666,\"#ed7953\"],[0.7777777777777778,\"#fb9f3a\"],[0.8888888888888888,\"#fdca26\"],[1.0,\"#f0f921\"]]}],\"heatmap\":[{\"type\":\"heatmap\",\"colorbar\":{\"outlinewidth\":0,\"ticks\":\"\"},\"colorscale\":[[0.0,\"#0d0887\"],[0.1111111111111111,\"#46039f\"],[0.2222222222222222,\"#7201a8\"],[0.3333333333333333,\"#9c179e\"],[0.4444444444444444,\"#bd3786\"],[0.5555555555555556,\"#d8576b\"],[0.6666666666666666,\"#ed7953\"],[0.7777777777777778,\"#fb9f3a\"],[0.8888888888888888,\"#fdca26\"],[1.0,\"#f0f921\"]]}],\"heatmapgl\":[{\"type\":\"heatmapgl\",\"colorbar\":{\"outlinewidth\":0,\"ticks\":\"\"},\"colorscale\":[[0.0,\"#0d0887\"],[0.1111111111111111,\"#46039f\"],[0.2222222222222222,\"#7201a8\"],[0.3333333333333333,\"#9c179e\"],[0.4444444444444444,\"#bd3786\"],[0.5555555555555556,\"#d8576b\"],[0.6666666666666666,\"#ed7953\"],[0.7777777777777778,\"#fb9f3a\"],[0.8888888888888888,\"#fdca26\"],[1.0,\"#f0f921\"]]}],\"contourcarpet\":[{\"type\":\"contourcarpet\",\"colorbar\":{\"outlinewidth\":0,\"ticks\":\"\"}}],\"contour\":[{\"type\":\"contour\",\"colorbar\":{\"outlinewidth\":0,\"ticks\":\"\"},\"colorscale\":[[0.0,\"#0d0887\"],[0.1111111111111111,\"#46039f\"],[0.2222222222222222,\"#7201a8\"],[0.3333333333333333,\"#9c179e\"],[0.4444444444444444,\"#bd3786\"],[0.5555555555555556,\"#d8576b\"],[0.6666666666666666,\"#ed7953\"],[0.7777777777777778,\"#fb9f3a\"],[0.8888888888888888,\"#fdca26\"],[1.0,\"#f0f921\"]]}],\"surface\":[{\"type\":\"surface\",\"colorbar\":{\"outlinewidth\":0,\"ticks\":\"\"},\"colorscale\":[[0.0,\"#0d0887\"],[0.1111111111111111,\"#46039f\"],[0.2222222222222222,\"#7201a8\"],[0.3333333333333333,\"#9c179e\"],[0.4444444444444444,\"#bd3786\"],[0.5555555555555556,\"#d8576b\"],[0.6666666666666666,\"#ed7953\"],[0.7777777777777778,\"#fb9f3a\"],[0.8888888888888888,\"#fdca26\"],[1.0,\"#f0f921\"]]}],\"mesh3d\":[{\"type\":\"mesh3d\",\"colorbar\":{\"outlinewidth\":0,\"ticks\":\"\"}}],\"scatter\":[{\"marker\":{\"line\":{\"color\":\"#283442\"}},\"type\":\"scatter\"}],\"parcoords\":[{\"type\":\"parcoords\",\"line\":{\"colorbar\":{\"outlinewidth\":0,\"ticks\":\"\"}}}],\"scatterpolargl\":[{\"type\":\"scatterpolargl\",\"marker\":{\"colorbar\":{\"outlinewidth\":0,\"ticks\":\"\"}}}],\"bar\":[{\"error_x\":{\"color\":\"#f2f5fa\"},\"error_y\":{\"color\":\"#f2f5fa\"},\"marker\":{\"line\":{\"color\":\"rgb(17,17,17)\",\"width\":0.5},\"pattern\":{\"fillmode\":\"overlay\",\"size\":10,\"solidity\":0.2}},\"type\":\"bar\"}],\"scattergeo\":[{\"type\":\"scattergeo\",\"marker\":{\"colorbar\":{\"outlinewidth\":0,\"ticks\":\"\"}}}],\"scatterpolar\":[{\"type\":\"scatterpolar\",\"marker\":{\"colorbar\":{\"outlinewidth\":0,\"ticks\":\"\"}}}],\"histogram\":[{\"marker\":{\"pattern\":{\"fillmode\":\"overlay\",\"size\":10,\"solidity\":0.2}},\"type\":\"histogram\"}],\"scattergl\":[{\"marker\":{\"line\":{\"color\":\"#283442\"}},\"type\":\"scattergl\"}],\"scatter3d\":[{\"type\":\"scatter3d\",\"line\":{\"colorbar\":{\"outlinewidth\":0,\"ticks\":\"\"}},\"marker\":{\"colorbar\":{\"outlinewidth\":0,\"ticks\":\"\"}}}],\"scattermapbox\":[{\"type\":\"scattermapbox\",\"marker\":{\"colorbar\":{\"outlinewidth\":0,\"ticks\":\"\"}}}],\"scatterternary\":[{\"type\":\"scatterternary\",\"marker\":{\"colorbar\":{\"outlinewidth\":0,\"ticks\":\"\"}}}],\"scattercarpet\":[{\"type\":\"scattercarpet\",\"marker\":{\"colorbar\":{\"outlinewidth\":0,\"ticks\":\"\"}}}],\"carpet\":[{\"aaxis\":{\"endlinecolor\":\"#A2B1C6\",\"gridcolor\":\"#506784\",\"linecolor\":\"#506784\",\"minorgridcolor\":\"#506784\",\"startlinecolor\":\"#A2B1C6\"},\"baxis\":{\"endlinecolor\":\"#A2B1C6\",\"gridcolor\":\"#506784\",\"linecolor\":\"#506784\",\"minorgridcolor\":\"#506784\",\"startlinecolor\":\"#A2B1C6\"},\"type\":\"carpet\"}],\"table\":[{\"cells\":{\"fill\":{\"color\":\"#506784\"},\"line\":{\"color\":\"rgb(17,17,17)\"}},\"header\":{\"fill\":{\"color\":\"#2a3f5f\"},\"line\":{\"color\":\"rgb(17,17,17)\"}},\"type\":\"table\"}],\"barpolar\":[{\"marker\":{\"line\":{\"color\":\"rgb(17,17,17)\",\"width\":0.5},\"pattern\":{\"fillmode\":\"overlay\",\"size\":10,\"solidity\":0.2}},\"type\":\"barpolar\"}],\"pie\":[{\"automargin\":true,\"type\":\"pie\"}]},\"layout\":{\"autotypenumbers\":\"strict\",\"colorway\":[\"#636efa\",\"#EF553B\",\"#00cc96\",\"#ab63fa\",\"#FFA15A\",\"#19d3f3\",\"#FF6692\",\"#B6E880\",\"#FF97FF\",\"#FECB52\"],\"font\":{\"color\":\"#f2f5fa\"},\"hovermode\":\"closest\",\"hoverlabel\":{\"align\":\"left\"},\"paper_bgcolor\":\"rgb(17,17,17)\",\"plot_bgcolor\":\"rgb(17,17,17)\",\"polar\":{\"bgcolor\":\"rgb(17,17,17)\",\"angularaxis\":{\"gridcolor\":\"#506784\",\"linecolor\":\"#506784\",\"ticks\":\"\"},\"radialaxis\":{\"gridcolor\":\"#506784\",\"linecolor\":\"#506784\",\"ticks\":\"\"}},\"ternary\":{\"bgcolor\":\"rgb(17,17,17)\",\"aaxis\":{\"gridcolor\":\"#506784\",\"linecolor\":\"#506784\",\"ticks\":\"\"},\"baxis\":{\"gridcolor\":\"#506784\",\"linecolor\":\"#506784\",\"ticks\":\"\"},\"caxis\":{\"gridcolor\":\"#506784\",\"linecolor\":\"#506784\",\"ticks\":\"\"}},\"coloraxis\":{\"colorbar\":{\"outlinewidth\":0,\"ticks\":\"\"}},\"colorscale\":{\"sequential\":[[0.0,\"#0d0887\"],[0.1111111111111111,\"#46039f\"],[0.2222222222222222,\"#7201a8\"],[0.3333333333333333,\"#9c179e\"],[0.4444444444444444,\"#bd3786\"],[0.5555555555555556,\"#d8576b\"],[0.6666666666666666,\"#ed7953\"],[0.7777777777777778,\"#fb9f3a\"],[0.8888888888888888,\"#fdca26\"],[1.0,\"#f0f921\"]],\"sequentialminus\":[[0.0,\"#0d0887\"],[0.1111111111111111,\"#46039f\"],[0.2222222222222222,\"#7201a8\"],[0.3333333333333333,\"#9c179e\"],[0.4444444444444444,\"#bd3786\"],[0.5555555555555556,\"#d8576b\"],[0.6666666666666666,\"#ed7953\"],[0.7777777777777778,\"#fb9f3a\"],[0.8888888888888888,\"#fdca26\"],[1.0,\"#f0f921\"]],\"diverging\":[[0,\"#8e0152\"],[0.1,\"#c51b7d\"],[0.2,\"#de77ae\"],[0.3,\"#f1b6da\"],[0.4,\"#fde0ef\"],[0.5,\"#f7f7f7\"],[0.6,\"#e6f5d0\"],[0.7,\"#b8e186\"],[0.8,\"#7fbc41\"],[0.9,\"#4d9221\"],[1,\"#276419\"]]},\"xaxis\":{\"gridcolor\":\"#283442\",\"linecolor\":\"#506784\",\"ticks\":\"\",\"title\":{\"standoff\":15},\"zerolinecolor\":\"#283442\",\"automargin\":true,\"zerolinewidth\":2},\"yaxis\":{\"gridcolor\":\"#283442\",\"linecolor\":\"#506784\",\"ticks\":\"\",\"title\":{\"standoff\":15},\"zerolinecolor\":\"#283442\",\"automargin\":true,\"zerolinewidth\":2},\"scene\":{\"xaxis\":{\"backgroundcolor\":\"rgb(17,17,17)\",\"gridcolor\":\"#506784\",\"linecolor\":\"#506784\",\"showbackground\":true,\"ticks\":\"\",\"zerolinecolor\":\"#C8D4E3\",\"gridwidth\":2},\"yaxis\":{\"backgroundcolor\":\"rgb(17,17,17)\",\"gridcolor\":\"#506784\",\"linecolor\":\"#506784\",\"showbackground\":true,\"ticks\":\"\",\"zerolinecolor\":\"#C8D4E3\",\"gridwidth\":2},\"zaxis\":{\"backgroundcolor\":\"rgb(17,17,17)\",\"gridcolor\":\"#506784\",\"linecolor\":\"#506784\",\"showbackground\":true,\"ticks\":\"\",\"zerolinecolor\":\"#C8D4E3\",\"gridwidth\":2}},\"shapedefaults\":{\"line\":{\"color\":\"#f2f5fa\"}},\"annotationdefaults\":{\"arrowcolor\":\"#f2f5fa\",\"arrowhead\":0,\"arrowwidth\":1},\"geo\":{\"bgcolor\":\"rgb(17,17,17)\",\"landcolor\":\"rgb(17,17,17)\",\"subunitcolor\":\"#506784\",\"showland\":true,\"showlakes\":true,\"lakecolor\":\"rgb(17,17,17)\"},\"title\":{\"x\":0.05},\"updatemenudefaults\":{\"bgcolor\":\"#506784\",\"borderwidth\":0},\"sliderdefaults\":{\"bgcolor\":\"#C8D4E3\",\"borderwidth\":1,\"bordercolor\":\"rgb(17,17,17)\",\"tickwidth\":0},\"mapbox\":{\"style\":\"dark\"}}},\"geo\":{\"domain\":{\"x\":[0.0,1.0],\"y\":[0.0,1.0]},\"center\":{}},\"coloraxis\":{\"colorbar\":{\"title\":{\"text\":\"Connections Count\"}},\"colorscale\":[[0.0,\"rgb(247,251,255)\"],[0.125,\"rgb(222,235,247)\"],[0.25,\"rgb(198,219,239)\"],[0.375,\"rgb(158,202,225)\"],[0.5,\"rgb(107,174,214)\"],[0.625,\"rgb(66,146,198)\"],[0.75,\"rgb(33,113,181)\"],[0.875,\"rgb(8,81,156)\"],[1.0,\"rgb(8,48,107)\"]]},\"legend\":{\"tracegroupgap\":0},\"title\":{\"text\":\"Map of Normal Connections by Country\"},\"width\":1200,\"height\":600},                        {\"responsive\": true}                    ).then(function(){\n",
       "                            \n",
       "var gd = document.getElementById('ecd1b775-2f00-4b47-9f65-45de60a3fd6d');\n",
       "var x = new MutationObserver(function (mutations, observer) {{\n",
       "        var display = window.getComputedStyle(gd).display;\n",
       "        if (!display || display === 'none') {{\n",
       "            console.log([gd, 'removed!']);\n",
       "            Plotly.purge(gd);\n",
       "            observer.disconnect();\n",
       "        }}\n",
       "}});\n",
       "\n",
       "// Listen for the removal of the full notebook cells\n",
       "var notebookContainer = gd.closest('#notebook-container');\n",
       "if (notebookContainer) {{\n",
       "    x.observe(notebookContainer, {childList: true});\n",
       "}}\n",
       "\n",
       "// Listen for the clearing of the current output cell\n",
       "var outputEl = gd.closest('.output');\n",
       "if (outputEl) {{\n",
       "    x.observe(outputEl, {childList: true});\n",
       "}}\n",
       "\n",
       "                        })                };                });            </script>        </div>"
      ]
     },
     "metadata": {},
     "output_type": "display_data"
    }
   ],
   "execution_count": 144
  },
  {
   "metadata": {},
   "cell_type": "markdown",
   "source": "## Missing Data",
   "id": "3a633f58d4b9e38e"
  },
  {
   "metadata": {
    "ExecuteTime": {
     "end_time": "2024-12-30T16:48:34.645565Z",
     "start_time": "2024-12-30T16:48:34.637378Z"
    }
   },
   "cell_type": "code",
   "source": "data.isnull().sum()",
   "id": "10b125e10aef62b8",
   "outputs": [
    {
     "data": {
      "text/plain": [
       "index                     0\n",
       "timestamp                 0\n",
       "id                        0\n",
       "rtt_ms                 3127\n",
       "ip                        0\n",
       "country                   0\n",
       "region                    7\n",
       "city                      0\n",
       "asn                       0\n",
       "user_agent                0\n",
       "browser                   0\n",
       "os                        0\n",
       "device                    0\n",
       "login_success             0\n",
       "is_attack_ip              0\n",
       "is_account_takeover       0\n",
       "dtype: int64"
      ]
     },
     "execution_count": 145,
     "metadata": {},
     "output_type": "execute_result"
    }
   ],
   "execution_count": 145
  },
  {
   "metadata": {
    "ExecuteTime": {
     "end_time": "2024-12-30T16:48:34.718908Z",
     "start_time": "2024-12-30T16:48:34.714675Z"
    }
   },
   "cell_type": "code",
   "source": [
    "missing_rtt = data['rtt_ms'].isnull().sum() / len(data) * 100\n",
    "missing_rtt"
   ],
   "id": "7754872022dca3b4",
   "outputs": [
    {
     "data": {
      "text/plain": [
       "np.float64(95.68543451652387)"
      ]
     },
     "execution_count": 146,
     "metadata": {},
     "output_type": "execute_result"
    }
   ],
   "execution_count": 146
  },
  {
   "metadata": {
    "ExecuteTime": {
     "end_time": "2024-12-30T16:48:34.779682Z",
     "start_time": "2024-12-30T16:48:34.775628Z"
    }
   },
   "cell_type": "code",
   "source": "data = data.drop(columns=['rtt_ms', 'region', 'city'])",
   "id": "c313dbd559447bcf",
   "outputs": [],
   "execution_count": 147
  },
  {
   "metadata": {
    "ExecuteTime": {
     "end_time": "2024-12-30T16:48:34.853667Z",
     "start_time": "2024-12-30T16:48:34.848914Z"
    }
   },
   "cell_type": "code",
   "source": "data['device'].fillna(data['device'].mode()[0])",
   "id": "1e3e1e2e46f52096",
   "outputs": [
    {
     "data": {
      "text/plain": [
       "0        mobile\n",
       "1        mobile\n",
       "2        mobile\n",
       "3        tablet\n",
       "4       unknown\n",
       "         ...   \n",
       "3263     mobile\n",
       "3264     mobile\n",
       "3265     mobile\n",
       "3266    desktop\n",
       "3267     mobile\n",
       "Name: device, Length: 3268, dtype: object"
      ]
     },
     "execution_count": 148,
     "metadata": {},
     "output_type": "execute_result"
    }
   ],
   "execution_count": 148
  },
  {
   "metadata": {},
   "cell_type": "markdown",
   "source": "## Time Data",
   "id": "d2f14cef87fdca27"
  },
  {
   "metadata": {
    "ExecuteTime": {
     "end_time": "2024-12-30T16:48:34.958051Z",
     "start_time": "2024-12-30T16:48:34.951878Z"
    }
   },
   "cell_type": "code",
   "source": "data['timestamp'] = pd.to_datetime(data['timestamp'], errors='coerce')",
   "id": "12b6197a9b9b93be",
   "outputs": [],
   "execution_count": 149
  },
  {
   "metadata": {
    "ExecuteTime": {
     "end_time": "2024-12-30T16:48:35.014808Z",
     "start_time": "2024-12-30T16:48:35.001840Z"
    }
   },
   "cell_type": "code",
   "source": [
    "data['hour'] = data['timestamp'].dt.hour\n",
    "data['day'] = data['timestamp'].dt.day_name()\n",
    "data"
   ],
   "id": "46f7372f5e65eddf",
   "outputs": [
    {
     "data": {
      "text/plain": [
       "         index               timestamp                   id              ip  \\\n",
       "0     29244518 2021-02-03 02:41:58.307  8883596012754605922     170.39.78.3   \n",
       "1      1105008 2020-02-18 00:56:20.230  3037641017366924328  156.52.180.228   \n",
       "2      3031315 2020-03-15 16:57:13.252  2446886407948496390  139.164.229.21   \n",
       "3      1331290 2020-02-20 19:41:10.650  9218785402660907923   45.13.240.204   \n",
       "4     27480866 2021-01-13 02:58:11.697 -4324475583306591935     10.0.52.159   \n",
       "...        ...                     ...                  ...             ...   \n",
       "3263  10454433 2020-06-27 15:47:35.743  6710682370423549012   91.233.208.53   \n",
       "3264  10526408 2020-06-28 15:20:27.822 -1136293028359551315  23.137.225.106   \n",
       "3265  12041296 2020-07-19 06:57:16.841  5140709821083845236    80.232.79.13   \n",
       "3266   8708580 2020-06-03 09:28:56.954  5069369253943453141  91.240.236.172   \n",
       "3267  30677814 2021-02-21 15:53:16.903  6154359082336158419   170.39.76.105   \n",
       "\n",
       "     country     asn                                         user_agent  \\\n",
       "0         US  393398  Mozilla/5.0  (iPhone; CPU iPhone OS 13_4 like ...   \n",
       "1         NO   29695  Mozilla/5.0  (Linux; U; Android 2.2) Gecko/201...   \n",
       "2         NO   29695  Mozilla/5.0  (iPhone; CPU iPhone OS 11_2_6 lik...   \n",
       "3         NO   29695  Mozilla/5.0  (iPhone; CPU iPhone OS 9_0_2 like...   \n",
       "4         DE  500254                     VLC/3.0.0-git LibVLC/3.0.0-git   \n",
       "...      ...     ...                                                ...   \n",
       "3263      CZ   31559  Mozilla/5.0  (iPhone; CPU iPhone OS 13_4 like ...   \n",
       "3264      US  393398  Mozilla/5.0  (iPhone; CPU iPhone OS 11_2_6 lik...   \n",
       "3265      NO   25400  Mozilla/5.0  (iPhone; CPU iPhone OS 13_4 like ...   \n",
       "3266      RO   62350  Mozilla/5.0 (Macintosh; Intel Mac OS X 10_14_6...   \n",
       "3267      US  393398  Mozilla/5.0  (Linux; Android 4.1; Galaxy Nexus...   \n",
       "\n",
       "                           browser                os   device  login_success  \\\n",
       "0          Chrome Mobile 81.0.4044          iOS 13.4   mobile          False   \n",
       "1              Firefox 20.0.0.1618       Android 2.2   mobile           True   \n",
       "2          Chrome Mobile 81.0.4044        iOS 11.2.6   mobile           True   \n",
       "3                    Android 2.3.6         iOS 9.0.2   tablet           True   \n",
       "4                    VLC 3.0.0-git            Other   unknown          False   \n",
       "...                            ...               ...      ...            ...   \n",
       "3263  Chrome Mobile 81.0.4044.1925          iOS 13.4   mobile           True   \n",
       "3264  Chrome Mobile 81.0.4044.1925        iOS 11.2.6   mobile          False   \n",
       "3265  Chrome Mobile 81.0.4044.1929          iOS 13.4   mobile           True   \n",
       "3266      Chrome 79.0.3945.192.218  Mac OS X 10.14.6  desktop           True   \n",
       "3267       Chrome Mobile 49.0.2623       Android 4.1   mobile           True   \n",
       "\n",
       "      is_attack_ip  is_account_takeover  hour        day  \n",
       "0            False                False     2  Wednesday  \n",
       "1            False                False     0    Tuesday  \n",
       "2            False                False    16     Sunday  \n",
       "3            False                False    19   Thursday  \n",
       "4             True                False     2  Wednesday  \n",
       "...            ...                  ...   ...        ...  \n",
       "3263         False                False    15   Saturday  \n",
       "3264         False                False    15     Sunday  \n",
       "3265         False                False     6     Sunday  \n",
       "3266          True                 True     9  Wednesday  \n",
       "3267         False                False    15     Sunday  \n",
       "\n",
       "[3268 rows x 15 columns]"
      ],
      "text/html": [
       "<div>\n",
       "<style scoped>\n",
       "    .dataframe tbody tr th:only-of-type {\n",
       "        vertical-align: middle;\n",
       "    }\n",
       "\n",
       "    .dataframe tbody tr th {\n",
       "        vertical-align: top;\n",
       "    }\n",
       "\n",
       "    .dataframe thead th {\n",
       "        text-align: right;\n",
       "    }\n",
       "</style>\n",
       "<table border=\"1\" class=\"dataframe\">\n",
       "  <thead>\n",
       "    <tr style=\"text-align: right;\">\n",
       "      <th></th>\n",
       "      <th>index</th>\n",
       "      <th>timestamp</th>\n",
       "      <th>id</th>\n",
       "      <th>ip</th>\n",
       "      <th>country</th>\n",
       "      <th>asn</th>\n",
       "      <th>user_agent</th>\n",
       "      <th>browser</th>\n",
       "      <th>os</th>\n",
       "      <th>device</th>\n",
       "      <th>login_success</th>\n",
       "      <th>is_attack_ip</th>\n",
       "      <th>is_account_takeover</th>\n",
       "      <th>hour</th>\n",
       "      <th>day</th>\n",
       "    </tr>\n",
       "  </thead>\n",
       "  <tbody>\n",
       "    <tr>\n",
       "      <th>0</th>\n",
       "      <td>29244518</td>\n",
       "      <td>2021-02-03 02:41:58.307</td>\n",
       "      <td>8883596012754605922</td>\n",
       "      <td>170.39.78.3</td>\n",
       "      <td>US</td>\n",
       "      <td>393398</td>\n",
       "      <td>Mozilla/5.0  (iPhone; CPU iPhone OS 13_4 like ...</td>\n",
       "      <td>Chrome Mobile 81.0.4044</td>\n",
       "      <td>iOS 13.4</td>\n",
       "      <td>mobile</td>\n",
       "      <td>False</td>\n",
       "      <td>False</td>\n",
       "      <td>False</td>\n",
       "      <td>2</td>\n",
       "      <td>Wednesday</td>\n",
       "    </tr>\n",
       "    <tr>\n",
       "      <th>1</th>\n",
       "      <td>1105008</td>\n",
       "      <td>2020-02-18 00:56:20.230</td>\n",
       "      <td>3037641017366924328</td>\n",
       "      <td>156.52.180.228</td>\n",
       "      <td>NO</td>\n",
       "      <td>29695</td>\n",
       "      <td>Mozilla/5.0  (Linux; U; Android 2.2) Gecko/201...</td>\n",
       "      <td>Firefox 20.0.0.1618</td>\n",
       "      <td>Android 2.2</td>\n",
       "      <td>mobile</td>\n",
       "      <td>True</td>\n",
       "      <td>False</td>\n",
       "      <td>False</td>\n",
       "      <td>0</td>\n",
       "      <td>Tuesday</td>\n",
       "    </tr>\n",
       "    <tr>\n",
       "      <th>2</th>\n",
       "      <td>3031315</td>\n",
       "      <td>2020-03-15 16:57:13.252</td>\n",
       "      <td>2446886407948496390</td>\n",
       "      <td>139.164.229.21</td>\n",
       "      <td>NO</td>\n",
       "      <td>29695</td>\n",
       "      <td>Mozilla/5.0  (iPhone; CPU iPhone OS 11_2_6 lik...</td>\n",
       "      <td>Chrome Mobile 81.0.4044</td>\n",
       "      <td>iOS 11.2.6</td>\n",
       "      <td>mobile</td>\n",
       "      <td>True</td>\n",
       "      <td>False</td>\n",
       "      <td>False</td>\n",
       "      <td>16</td>\n",
       "      <td>Sunday</td>\n",
       "    </tr>\n",
       "    <tr>\n",
       "      <th>3</th>\n",
       "      <td>1331290</td>\n",
       "      <td>2020-02-20 19:41:10.650</td>\n",
       "      <td>9218785402660907923</td>\n",
       "      <td>45.13.240.204</td>\n",
       "      <td>NO</td>\n",
       "      <td>29695</td>\n",
       "      <td>Mozilla/5.0  (iPhone; CPU iPhone OS 9_0_2 like...</td>\n",
       "      <td>Android 2.3.6</td>\n",
       "      <td>iOS 9.0.2</td>\n",
       "      <td>tablet</td>\n",
       "      <td>True</td>\n",
       "      <td>False</td>\n",
       "      <td>False</td>\n",
       "      <td>19</td>\n",
       "      <td>Thursday</td>\n",
       "    </tr>\n",
       "    <tr>\n",
       "      <th>4</th>\n",
       "      <td>27480866</td>\n",
       "      <td>2021-01-13 02:58:11.697</td>\n",
       "      <td>-4324475583306591935</td>\n",
       "      <td>10.0.52.159</td>\n",
       "      <td>DE</td>\n",
       "      <td>500254</td>\n",
       "      <td>VLC/3.0.0-git LibVLC/3.0.0-git</td>\n",
       "      <td>VLC 3.0.0-git</td>\n",
       "      <td>Other</td>\n",
       "      <td>unknown</td>\n",
       "      <td>False</td>\n",
       "      <td>True</td>\n",
       "      <td>False</td>\n",
       "      <td>2</td>\n",
       "      <td>Wednesday</td>\n",
       "    </tr>\n",
       "    <tr>\n",
       "      <th>...</th>\n",
       "      <td>...</td>\n",
       "      <td>...</td>\n",
       "      <td>...</td>\n",
       "      <td>...</td>\n",
       "      <td>...</td>\n",
       "      <td>...</td>\n",
       "      <td>...</td>\n",
       "      <td>...</td>\n",
       "      <td>...</td>\n",
       "      <td>...</td>\n",
       "      <td>...</td>\n",
       "      <td>...</td>\n",
       "      <td>...</td>\n",
       "      <td>...</td>\n",
       "      <td>...</td>\n",
       "    </tr>\n",
       "    <tr>\n",
       "      <th>3263</th>\n",
       "      <td>10454433</td>\n",
       "      <td>2020-06-27 15:47:35.743</td>\n",
       "      <td>6710682370423549012</td>\n",
       "      <td>91.233.208.53</td>\n",
       "      <td>CZ</td>\n",
       "      <td>31559</td>\n",
       "      <td>Mozilla/5.0  (iPhone; CPU iPhone OS 13_4 like ...</td>\n",
       "      <td>Chrome Mobile 81.0.4044.1925</td>\n",
       "      <td>iOS 13.4</td>\n",
       "      <td>mobile</td>\n",
       "      <td>True</td>\n",
       "      <td>False</td>\n",
       "      <td>False</td>\n",
       "      <td>15</td>\n",
       "      <td>Saturday</td>\n",
       "    </tr>\n",
       "    <tr>\n",
       "      <th>3264</th>\n",
       "      <td>10526408</td>\n",
       "      <td>2020-06-28 15:20:27.822</td>\n",
       "      <td>-1136293028359551315</td>\n",
       "      <td>23.137.225.106</td>\n",
       "      <td>US</td>\n",
       "      <td>393398</td>\n",
       "      <td>Mozilla/5.0  (iPhone; CPU iPhone OS 11_2_6 lik...</td>\n",
       "      <td>Chrome Mobile 81.0.4044.1925</td>\n",
       "      <td>iOS 11.2.6</td>\n",
       "      <td>mobile</td>\n",
       "      <td>False</td>\n",
       "      <td>False</td>\n",
       "      <td>False</td>\n",
       "      <td>15</td>\n",
       "      <td>Sunday</td>\n",
       "    </tr>\n",
       "    <tr>\n",
       "      <th>3265</th>\n",
       "      <td>12041296</td>\n",
       "      <td>2020-07-19 06:57:16.841</td>\n",
       "      <td>5140709821083845236</td>\n",
       "      <td>80.232.79.13</td>\n",
       "      <td>NO</td>\n",
       "      <td>25400</td>\n",
       "      <td>Mozilla/5.0  (iPhone; CPU iPhone OS 13_4 like ...</td>\n",
       "      <td>Chrome Mobile 81.0.4044.1929</td>\n",
       "      <td>iOS 13.4</td>\n",
       "      <td>mobile</td>\n",
       "      <td>True</td>\n",
       "      <td>False</td>\n",
       "      <td>False</td>\n",
       "      <td>6</td>\n",
       "      <td>Sunday</td>\n",
       "    </tr>\n",
       "    <tr>\n",
       "      <th>3266</th>\n",
       "      <td>8708580</td>\n",
       "      <td>2020-06-03 09:28:56.954</td>\n",
       "      <td>5069369253943453141</td>\n",
       "      <td>91.240.236.172</td>\n",
       "      <td>RO</td>\n",
       "      <td>62350</td>\n",
       "      <td>Mozilla/5.0 (Macintosh; Intel Mac OS X 10_14_6...</td>\n",
       "      <td>Chrome 79.0.3945.192.218</td>\n",
       "      <td>Mac OS X 10.14.6</td>\n",
       "      <td>desktop</td>\n",
       "      <td>True</td>\n",
       "      <td>True</td>\n",
       "      <td>True</td>\n",
       "      <td>9</td>\n",
       "      <td>Wednesday</td>\n",
       "    </tr>\n",
       "    <tr>\n",
       "      <th>3267</th>\n",
       "      <td>30677814</td>\n",
       "      <td>2021-02-21 15:53:16.903</td>\n",
       "      <td>6154359082336158419</td>\n",
       "      <td>170.39.76.105</td>\n",
       "      <td>US</td>\n",
       "      <td>393398</td>\n",
       "      <td>Mozilla/5.0  (Linux; Android 4.1; Galaxy Nexus...</td>\n",
       "      <td>Chrome Mobile 49.0.2623</td>\n",
       "      <td>Android 4.1</td>\n",
       "      <td>mobile</td>\n",
       "      <td>True</td>\n",
       "      <td>False</td>\n",
       "      <td>False</td>\n",
       "      <td>15</td>\n",
       "      <td>Sunday</td>\n",
       "    </tr>\n",
       "  </tbody>\n",
       "</table>\n",
       "<p>3268 rows × 15 columns</p>\n",
       "</div>"
      ]
     },
     "execution_count": 150,
     "metadata": {},
     "output_type": "execute_result"
    }
   ],
   "execution_count": 150
  },
  {
   "metadata": {
    "ExecuteTime": {
     "end_time": "2024-12-30T16:48:35.144362Z",
     "start_time": "2024-12-30T16:48:35.125891Z"
    }
   },
   "cell_type": "code",
   "source": [
    "def categorize_time_of_day(hour):\n",
    "    if 5 <= hour < 12:\n",
    "        return 'Morning'\n",
    "    elif 12 <= hour < 17:\n",
    "        return 'Afternoon'\n",
    "    elif 17 <= hour < 21:\n",
    "        return 'Evening'\n",
    "    else:\n",
    "        return 'Night'\n",
    "\n",
    "data['time'] = data['hour'].apply(categorize_time_of_day)\n",
    "data\n"
   ],
   "id": "b68197939af3fb4d",
   "outputs": [
    {
     "data": {
      "text/plain": [
       "         index               timestamp                   id              ip  \\\n",
       "0     29244518 2021-02-03 02:41:58.307  8883596012754605922     170.39.78.3   \n",
       "1      1105008 2020-02-18 00:56:20.230  3037641017366924328  156.52.180.228   \n",
       "2      3031315 2020-03-15 16:57:13.252  2446886407948496390  139.164.229.21   \n",
       "3      1331290 2020-02-20 19:41:10.650  9218785402660907923   45.13.240.204   \n",
       "4     27480866 2021-01-13 02:58:11.697 -4324475583306591935     10.0.52.159   \n",
       "...        ...                     ...                  ...             ...   \n",
       "3263  10454433 2020-06-27 15:47:35.743  6710682370423549012   91.233.208.53   \n",
       "3264  10526408 2020-06-28 15:20:27.822 -1136293028359551315  23.137.225.106   \n",
       "3265  12041296 2020-07-19 06:57:16.841  5140709821083845236    80.232.79.13   \n",
       "3266   8708580 2020-06-03 09:28:56.954  5069369253943453141  91.240.236.172   \n",
       "3267  30677814 2021-02-21 15:53:16.903  6154359082336158419   170.39.76.105   \n",
       "\n",
       "     country     asn                                         user_agent  \\\n",
       "0         US  393398  Mozilla/5.0  (iPhone; CPU iPhone OS 13_4 like ...   \n",
       "1         NO   29695  Mozilla/5.0  (Linux; U; Android 2.2) Gecko/201...   \n",
       "2         NO   29695  Mozilla/5.0  (iPhone; CPU iPhone OS 11_2_6 lik...   \n",
       "3         NO   29695  Mozilla/5.0  (iPhone; CPU iPhone OS 9_0_2 like...   \n",
       "4         DE  500254                     VLC/3.0.0-git LibVLC/3.0.0-git   \n",
       "...      ...     ...                                                ...   \n",
       "3263      CZ   31559  Mozilla/5.0  (iPhone; CPU iPhone OS 13_4 like ...   \n",
       "3264      US  393398  Mozilla/5.0  (iPhone; CPU iPhone OS 11_2_6 lik...   \n",
       "3265      NO   25400  Mozilla/5.0  (iPhone; CPU iPhone OS 13_4 like ...   \n",
       "3266      RO   62350  Mozilla/5.0 (Macintosh; Intel Mac OS X 10_14_6...   \n",
       "3267      US  393398  Mozilla/5.0  (Linux; Android 4.1; Galaxy Nexus...   \n",
       "\n",
       "                           browser                os   device  login_success  \\\n",
       "0          Chrome Mobile 81.0.4044          iOS 13.4   mobile          False   \n",
       "1              Firefox 20.0.0.1618       Android 2.2   mobile           True   \n",
       "2          Chrome Mobile 81.0.4044        iOS 11.2.6   mobile           True   \n",
       "3                    Android 2.3.6         iOS 9.0.2   tablet           True   \n",
       "4                    VLC 3.0.0-git            Other   unknown          False   \n",
       "...                            ...               ...      ...            ...   \n",
       "3263  Chrome Mobile 81.0.4044.1925          iOS 13.4   mobile           True   \n",
       "3264  Chrome Mobile 81.0.4044.1925        iOS 11.2.6   mobile          False   \n",
       "3265  Chrome Mobile 81.0.4044.1929          iOS 13.4   mobile           True   \n",
       "3266      Chrome 79.0.3945.192.218  Mac OS X 10.14.6  desktop           True   \n",
       "3267       Chrome Mobile 49.0.2623       Android 4.1   mobile           True   \n",
       "\n",
       "      is_attack_ip  is_account_takeover  hour        day       time  \n",
       "0            False                False     2  Wednesday      Night  \n",
       "1            False                False     0    Tuesday      Night  \n",
       "2            False                False    16     Sunday  Afternoon  \n",
       "3            False                False    19   Thursday    Evening  \n",
       "4             True                False     2  Wednesday      Night  \n",
       "...            ...                  ...   ...        ...        ...  \n",
       "3263         False                False    15   Saturday  Afternoon  \n",
       "3264         False                False    15     Sunday  Afternoon  \n",
       "3265         False                False     6     Sunday    Morning  \n",
       "3266          True                 True     9  Wednesday    Morning  \n",
       "3267         False                False    15     Sunday  Afternoon  \n",
       "\n",
       "[3268 rows x 16 columns]"
      ],
      "text/html": [
       "<div>\n",
       "<style scoped>\n",
       "    .dataframe tbody tr th:only-of-type {\n",
       "        vertical-align: middle;\n",
       "    }\n",
       "\n",
       "    .dataframe tbody tr th {\n",
       "        vertical-align: top;\n",
       "    }\n",
       "\n",
       "    .dataframe thead th {\n",
       "        text-align: right;\n",
       "    }\n",
       "</style>\n",
       "<table border=\"1\" class=\"dataframe\">\n",
       "  <thead>\n",
       "    <tr style=\"text-align: right;\">\n",
       "      <th></th>\n",
       "      <th>index</th>\n",
       "      <th>timestamp</th>\n",
       "      <th>id</th>\n",
       "      <th>ip</th>\n",
       "      <th>country</th>\n",
       "      <th>asn</th>\n",
       "      <th>user_agent</th>\n",
       "      <th>browser</th>\n",
       "      <th>os</th>\n",
       "      <th>device</th>\n",
       "      <th>login_success</th>\n",
       "      <th>is_attack_ip</th>\n",
       "      <th>is_account_takeover</th>\n",
       "      <th>hour</th>\n",
       "      <th>day</th>\n",
       "      <th>time</th>\n",
       "    </tr>\n",
       "  </thead>\n",
       "  <tbody>\n",
       "    <tr>\n",
       "      <th>0</th>\n",
       "      <td>29244518</td>\n",
       "      <td>2021-02-03 02:41:58.307</td>\n",
       "      <td>8883596012754605922</td>\n",
       "      <td>170.39.78.3</td>\n",
       "      <td>US</td>\n",
       "      <td>393398</td>\n",
       "      <td>Mozilla/5.0  (iPhone; CPU iPhone OS 13_4 like ...</td>\n",
       "      <td>Chrome Mobile 81.0.4044</td>\n",
       "      <td>iOS 13.4</td>\n",
       "      <td>mobile</td>\n",
       "      <td>False</td>\n",
       "      <td>False</td>\n",
       "      <td>False</td>\n",
       "      <td>2</td>\n",
       "      <td>Wednesday</td>\n",
       "      <td>Night</td>\n",
       "    </tr>\n",
       "    <tr>\n",
       "      <th>1</th>\n",
       "      <td>1105008</td>\n",
       "      <td>2020-02-18 00:56:20.230</td>\n",
       "      <td>3037641017366924328</td>\n",
       "      <td>156.52.180.228</td>\n",
       "      <td>NO</td>\n",
       "      <td>29695</td>\n",
       "      <td>Mozilla/5.0  (Linux; U; Android 2.2) Gecko/201...</td>\n",
       "      <td>Firefox 20.0.0.1618</td>\n",
       "      <td>Android 2.2</td>\n",
       "      <td>mobile</td>\n",
       "      <td>True</td>\n",
       "      <td>False</td>\n",
       "      <td>False</td>\n",
       "      <td>0</td>\n",
       "      <td>Tuesday</td>\n",
       "      <td>Night</td>\n",
       "    </tr>\n",
       "    <tr>\n",
       "      <th>2</th>\n",
       "      <td>3031315</td>\n",
       "      <td>2020-03-15 16:57:13.252</td>\n",
       "      <td>2446886407948496390</td>\n",
       "      <td>139.164.229.21</td>\n",
       "      <td>NO</td>\n",
       "      <td>29695</td>\n",
       "      <td>Mozilla/5.0  (iPhone; CPU iPhone OS 11_2_6 lik...</td>\n",
       "      <td>Chrome Mobile 81.0.4044</td>\n",
       "      <td>iOS 11.2.6</td>\n",
       "      <td>mobile</td>\n",
       "      <td>True</td>\n",
       "      <td>False</td>\n",
       "      <td>False</td>\n",
       "      <td>16</td>\n",
       "      <td>Sunday</td>\n",
       "      <td>Afternoon</td>\n",
       "    </tr>\n",
       "    <tr>\n",
       "      <th>3</th>\n",
       "      <td>1331290</td>\n",
       "      <td>2020-02-20 19:41:10.650</td>\n",
       "      <td>9218785402660907923</td>\n",
       "      <td>45.13.240.204</td>\n",
       "      <td>NO</td>\n",
       "      <td>29695</td>\n",
       "      <td>Mozilla/5.0  (iPhone; CPU iPhone OS 9_0_2 like...</td>\n",
       "      <td>Android 2.3.6</td>\n",
       "      <td>iOS 9.0.2</td>\n",
       "      <td>tablet</td>\n",
       "      <td>True</td>\n",
       "      <td>False</td>\n",
       "      <td>False</td>\n",
       "      <td>19</td>\n",
       "      <td>Thursday</td>\n",
       "      <td>Evening</td>\n",
       "    </tr>\n",
       "    <tr>\n",
       "      <th>4</th>\n",
       "      <td>27480866</td>\n",
       "      <td>2021-01-13 02:58:11.697</td>\n",
       "      <td>-4324475583306591935</td>\n",
       "      <td>10.0.52.159</td>\n",
       "      <td>DE</td>\n",
       "      <td>500254</td>\n",
       "      <td>VLC/3.0.0-git LibVLC/3.0.0-git</td>\n",
       "      <td>VLC 3.0.0-git</td>\n",
       "      <td>Other</td>\n",
       "      <td>unknown</td>\n",
       "      <td>False</td>\n",
       "      <td>True</td>\n",
       "      <td>False</td>\n",
       "      <td>2</td>\n",
       "      <td>Wednesday</td>\n",
       "      <td>Night</td>\n",
       "    </tr>\n",
       "    <tr>\n",
       "      <th>...</th>\n",
       "      <td>...</td>\n",
       "      <td>...</td>\n",
       "      <td>...</td>\n",
       "      <td>...</td>\n",
       "      <td>...</td>\n",
       "      <td>...</td>\n",
       "      <td>...</td>\n",
       "      <td>...</td>\n",
       "      <td>...</td>\n",
       "      <td>...</td>\n",
       "      <td>...</td>\n",
       "      <td>...</td>\n",
       "      <td>...</td>\n",
       "      <td>...</td>\n",
       "      <td>...</td>\n",
       "      <td>...</td>\n",
       "    </tr>\n",
       "    <tr>\n",
       "      <th>3263</th>\n",
       "      <td>10454433</td>\n",
       "      <td>2020-06-27 15:47:35.743</td>\n",
       "      <td>6710682370423549012</td>\n",
       "      <td>91.233.208.53</td>\n",
       "      <td>CZ</td>\n",
       "      <td>31559</td>\n",
       "      <td>Mozilla/5.0  (iPhone; CPU iPhone OS 13_4 like ...</td>\n",
       "      <td>Chrome Mobile 81.0.4044.1925</td>\n",
       "      <td>iOS 13.4</td>\n",
       "      <td>mobile</td>\n",
       "      <td>True</td>\n",
       "      <td>False</td>\n",
       "      <td>False</td>\n",
       "      <td>15</td>\n",
       "      <td>Saturday</td>\n",
       "      <td>Afternoon</td>\n",
       "    </tr>\n",
       "    <tr>\n",
       "      <th>3264</th>\n",
       "      <td>10526408</td>\n",
       "      <td>2020-06-28 15:20:27.822</td>\n",
       "      <td>-1136293028359551315</td>\n",
       "      <td>23.137.225.106</td>\n",
       "      <td>US</td>\n",
       "      <td>393398</td>\n",
       "      <td>Mozilla/5.0  (iPhone; CPU iPhone OS 11_2_6 lik...</td>\n",
       "      <td>Chrome Mobile 81.0.4044.1925</td>\n",
       "      <td>iOS 11.2.6</td>\n",
       "      <td>mobile</td>\n",
       "      <td>False</td>\n",
       "      <td>False</td>\n",
       "      <td>False</td>\n",
       "      <td>15</td>\n",
       "      <td>Sunday</td>\n",
       "      <td>Afternoon</td>\n",
       "    </tr>\n",
       "    <tr>\n",
       "      <th>3265</th>\n",
       "      <td>12041296</td>\n",
       "      <td>2020-07-19 06:57:16.841</td>\n",
       "      <td>5140709821083845236</td>\n",
       "      <td>80.232.79.13</td>\n",
       "      <td>NO</td>\n",
       "      <td>25400</td>\n",
       "      <td>Mozilla/5.0  (iPhone; CPU iPhone OS 13_4 like ...</td>\n",
       "      <td>Chrome Mobile 81.0.4044.1929</td>\n",
       "      <td>iOS 13.4</td>\n",
       "      <td>mobile</td>\n",
       "      <td>True</td>\n",
       "      <td>False</td>\n",
       "      <td>False</td>\n",
       "      <td>6</td>\n",
       "      <td>Sunday</td>\n",
       "      <td>Morning</td>\n",
       "    </tr>\n",
       "    <tr>\n",
       "      <th>3266</th>\n",
       "      <td>8708580</td>\n",
       "      <td>2020-06-03 09:28:56.954</td>\n",
       "      <td>5069369253943453141</td>\n",
       "      <td>91.240.236.172</td>\n",
       "      <td>RO</td>\n",
       "      <td>62350</td>\n",
       "      <td>Mozilla/5.0 (Macintosh; Intel Mac OS X 10_14_6...</td>\n",
       "      <td>Chrome 79.0.3945.192.218</td>\n",
       "      <td>Mac OS X 10.14.6</td>\n",
       "      <td>desktop</td>\n",
       "      <td>True</td>\n",
       "      <td>True</td>\n",
       "      <td>True</td>\n",
       "      <td>9</td>\n",
       "      <td>Wednesday</td>\n",
       "      <td>Morning</td>\n",
       "    </tr>\n",
       "    <tr>\n",
       "      <th>3267</th>\n",
       "      <td>30677814</td>\n",
       "      <td>2021-02-21 15:53:16.903</td>\n",
       "      <td>6154359082336158419</td>\n",
       "      <td>170.39.76.105</td>\n",
       "      <td>US</td>\n",
       "      <td>393398</td>\n",
       "      <td>Mozilla/5.0  (Linux; Android 4.1; Galaxy Nexus...</td>\n",
       "      <td>Chrome Mobile 49.0.2623</td>\n",
       "      <td>Android 4.1</td>\n",
       "      <td>mobile</td>\n",
       "      <td>True</td>\n",
       "      <td>False</td>\n",
       "      <td>False</td>\n",
       "      <td>15</td>\n",
       "      <td>Sunday</td>\n",
       "      <td>Afternoon</td>\n",
       "    </tr>\n",
       "  </tbody>\n",
       "</table>\n",
       "<p>3268 rows × 16 columns</p>\n",
       "</div>"
      ]
     },
     "execution_count": 151,
     "metadata": {},
     "output_type": "execute_result"
    }
   ],
   "execution_count": 151
  },
  {
   "metadata": {
    "ExecuteTime": {
     "end_time": "2024-12-30T16:48:35.217737Z",
     "start_time": "2024-12-30T16:48:35.213574Z"
    }
   },
   "cell_type": "code",
   "source": [
    "data['is_account_takeover'] = data['is_account_takeover'].astype(int)\n",
    "data['is_attack_ip'] = data['is_attack_ip'].astype(int) #!!!!!!!!!!!!! inspect this one later\n",
    "data['login_success'] = data['login_success'].astype(int)"
   ],
   "id": "c197b218de260f1b",
   "outputs": [],
   "execution_count": 152
  },
  {
   "metadata": {
    "ExecuteTime": {
     "end_time": "2024-12-30T16:48:35.311188Z",
     "start_time": "2024-12-30T16:48:35.295520Z"
    }
   },
   "cell_type": "code",
   "source": "data",
   "id": "b9ac26b5c6170efe",
   "outputs": [
    {
     "data": {
      "text/plain": [
       "         index               timestamp                   id              ip  \\\n",
       "0     29244518 2021-02-03 02:41:58.307  8883596012754605922     170.39.78.3   \n",
       "1      1105008 2020-02-18 00:56:20.230  3037641017366924328  156.52.180.228   \n",
       "2      3031315 2020-03-15 16:57:13.252  2446886407948496390  139.164.229.21   \n",
       "3      1331290 2020-02-20 19:41:10.650  9218785402660907923   45.13.240.204   \n",
       "4     27480866 2021-01-13 02:58:11.697 -4324475583306591935     10.0.52.159   \n",
       "...        ...                     ...                  ...             ...   \n",
       "3263  10454433 2020-06-27 15:47:35.743  6710682370423549012   91.233.208.53   \n",
       "3264  10526408 2020-06-28 15:20:27.822 -1136293028359551315  23.137.225.106   \n",
       "3265  12041296 2020-07-19 06:57:16.841  5140709821083845236    80.232.79.13   \n",
       "3266   8708580 2020-06-03 09:28:56.954  5069369253943453141  91.240.236.172   \n",
       "3267  30677814 2021-02-21 15:53:16.903  6154359082336158419   170.39.76.105   \n",
       "\n",
       "     country     asn                                         user_agent  \\\n",
       "0         US  393398  Mozilla/5.0  (iPhone; CPU iPhone OS 13_4 like ...   \n",
       "1         NO   29695  Mozilla/5.0  (Linux; U; Android 2.2) Gecko/201...   \n",
       "2         NO   29695  Mozilla/5.0  (iPhone; CPU iPhone OS 11_2_6 lik...   \n",
       "3         NO   29695  Mozilla/5.0  (iPhone; CPU iPhone OS 9_0_2 like...   \n",
       "4         DE  500254                     VLC/3.0.0-git LibVLC/3.0.0-git   \n",
       "...      ...     ...                                                ...   \n",
       "3263      CZ   31559  Mozilla/5.0  (iPhone; CPU iPhone OS 13_4 like ...   \n",
       "3264      US  393398  Mozilla/5.0  (iPhone; CPU iPhone OS 11_2_6 lik...   \n",
       "3265      NO   25400  Mozilla/5.0  (iPhone; CPU iPhone OS 13_4 like ...   \n",
       "3266      RO   62350  Mozilla/5.0 (Macintosh; Intel Mac OS X 10_14_6...   \n",
       "3267      US  393398  Mozilla/5.0  (Linux; Android 4.1; Galaxy Nexus...   \n",
       "\n",
       "                           browser                os   device  login_success  \\\n",
       "0          Chrome Mobile 81.0.4044          iOS 13.4   mobile              0   \n",
       "1              Firefox 20.0.0.1618       Android 2.2   mobile              1   \n",
       "2          Chrome Mobile 81.0.4044        iOS 11.2.6   mobile              1   \n",
       "3                    Android 2.3.6         iOS 9.0.2   tablet              1   \n",
       "4                    VLC 3.0.0-git            Other   unknown              0   \n",
       "...                            ...               ...      ...            ...   \n",
       "3263  Chrome Mobile 81.0.4044.1925          iOS 13.4   mobile              1   \n",
       "3264  Chrome Mobile 81.0.4044.1925        iOS 11.2.6   mobile              0   \n",
       "3265  Chrome Mobile 81.0.4044.1929          iOS 13.4   mobile              1   \n",
       "3266      Chrome 79.0.3945.192.218  Mac OS X 10.14.6  desktop              1   \n",
       "3267       Chrome Mobile 49.0.2623       Android 4.1   mobile              1   \n",
       "\n",
       "      is_attack_ip  is_account_takeover  hour        day       time  \n",
       "0                0                    0     2  Wednesday      Night  \n",
       "1                0                    0     0    Tuesday      Night  \n",
       "2                0                    0    16     Sunday  Afternoon  \n",
       "3                0                    0    19   Thursday    Evening  \n",
       "4                1                    0     2  Wednesday      Night  \n",
       "...            ...                  ...   ...        ...        ...  \n",
       "3263             0                    0    15   Saturday  Afternoon  \n",
       "3264             0                    0    15     Sunday  Afternoon  \n",
       "3265             0                    0     6     Sunday    Morning  \n",
       "3266             1                    1     9  Wednesday    Morning  \n",
       "3267             0                    0    15     Sunday  Afternoon  \n",
       "\n",
       "[3268 rows x 16 columns]"
      ],
      "text/html": [
       "<div>\n",
       "<style scoped>\n",
       "    .dataframe tbody tr th:only-of-type {\n",
       "        vertical-align: middle;\n",
       "    }\n",
       "\n",
       "    .dataframe tbody tr th {\n",
       "        vertical-align: top;\n",
       "    }\n",
       "\n",
       "    .dataframe thead th {\n",
       "        text-align: right;\n",
       "    }\n",
       "</style>\n",
       "<table border=\"1\" class=\"dataframe\">\n",
       "  <thead>\n",
       "    <tr style=\"text-align: right;\">\n",
       "      <th></th>\n",
       "      <th>index</th>\n",
       "      <th>timestamp</th>\n",
       "      <th>id</th>\n",
       "      <th>ip</th>\n",
       "      <th>country</th>\n",
       "      <th>asn</th>\n",
       "      <th>user_agent</th>\n",
       "      <th>browser</th>\n",
       "      <th>os</th>\n",
       "      <th>device</th>\n",
       "      <th>login_success</th>\n",
       "      <th>is_attack_ip</th>\n",
       "      <th>is_account_takeover</th>\n",
       "      <th>hour</th>\n",
       "      <th>day</th>\n",
       "      <th>time</th>\n",
       "    </tr>\n",
       "  </thead>\n",
       "  <tbody>\n",
       "    <tr>\n",
       "      <th>0</th>\n",
       "      <td>29244518</td>\n",
       "      <td>2021-02-03 02:41:58.307</td>\n",
       "      <td>8883596012754605922</td>\n",
       "      <td>170.39.78.3</td>\n",
       "      <td>US</td>\n",
       "      <td>393398</td>\n",
       "      <td>Mozilla/5.0  (iPhone; CPU iPhone OS 13_4 like ...</td>\n",
       "      <td>Chrome Mobile 81.0.4044</td>\n",
       "      <td>iOS 13.4</td>\n",
       "      <td>mobile</td>\n",
       "      <td>0</td>\n",
       "      <td>0</td>\n",
       "      <td>0</td>\n",
       "      <td>2</td>\n",
       "      <td>Wednesday</td>\n",
       "      <td>Night</td>\n",
       "    </tr>\n",
       "    <tr>\n",
       "      <th>1</th>\n",
       "      <td>1105008</td>\n",
       "      <td>2020-02-18 00:56:20.230</td>\n",
       "      <td>3037641017366924328</td>\n",
       "      <td>156.52.180.228</td>\n",
       "      <td>NO</td>\n",
       "      <td>29695</td>\n",
       "      <td>Mozilla/5.0  (Linux; U; Android 2.2) Gecko/201...</td>\n",
       "      <td>Firefox 20.0.0.1618</td>\n",
       "      <td>Android 2.2</td>\n",
       "      <td>mobile</td>\n",
       "      <td>1</td>\n",
       "      <td>0</td>\n",
       "      <td>0</td>\n",
       "      <td>0</td>\n",
       "      <td>Tuesday</td>\n",
       "      <td>Night</td>\n",
       "    </tr>\n",
       "    <tr>\n",
       "      <th>2</th>\n",
       "      <td>3031315</td>\n",
       "      <td>2020-03-15 16:57:13.252</td>\n",
       "      <td>2446886407948496390</td>\n",
       "      <td>139.164.229.21</td>\n",
       "      <td>NO</td>\n",
       "      <td>29695</td>\n",
       "      <td>Mozilla/5.0  (iPhone; CPU iPhone OS 11_2_6 lik...</td>\n",
       "      <td>Chrome Mobile 81.0.4044</td>\n",
       "      <td>iOS 11.2.6</td>\n",
       "      <td>mobile</td>\n",
       "      <td>1</td>\n",
       "      <td>0</td>\n",
       "      <td>0</td>\n",
       "      <td>16</td>\n",
       "      <td>Sunday</td>\n",
       "      <td>Afternoon</td>\n",
       "    </tr>\n",
       "    <tr>\n",
       "      <th>3</th>\n",
       "      <td>1331290</td>\n",
       "      <td>2020-02-20 19:41:10.650</td>\n",
       "      <td>9218785402660907923</td>\n",
       "      <td>45.13.240.204</td>\n",
       "      <td>NO</td>\n",
       "      <td>29695</td>\n",
       "      <td>Mozilla/5.0  (iPhone; CPU iPhone OS 9_0_2 like...</td>\n",
       "      <td>Android 2.3.6</td>\n",
       "      <td>iOS 9.0.2</td>\n",
       "      <td>tablet</td>\n",
       "      <td>1</td>\n",
       "      <td>0</td>\n",
       "      <td>0</td>\n",
       "      <td>19</td>\n",
       "      <td>Thursday</td>\n",
       "      <td>Evening</td>\n",
       "    </tr>\n",
       "    <tr>\n",
       "      <th>4</th>\n",
       "      <td>27480866</td>\n",
       "      <td>2021-01-13 02:58:11.697</td>\n",
       "      <td>-4324475583306591935</td>\n",
       "      <td>10.0.52.159</td>\n",
       "      <td>DE</td>\n",
       "      <td>500254</td>\n",
       "      <td>VLC/3.0.0-git LibVLC/3.0.0-git</td>\n",
       "      <td>VLC 3.0.0-git</td>\n",
       "      <td>Other</td>\n",
       "      <td>unknown</td>\n",
       "      <td>0</td>\n",
       "      <td>1</td>\n",
       "      <td>0</td>\n",
       "      <td>2</td>\n",
       "      <td>Wednesday</td>\n",
       "      <td>Night</td>\n",
       "    </tr>\n",
       "    <tr>\n",
       "      <th>...</th>\n",
       "      <td>...</td>\n",
       "      <td>...</td>\n",
       "      <td>...</td>\n",
       "      <td>...</td>\n",
       "      <td>...</td>\n",
       "      <td>...</td>\n",
       "      <td>...</td>\n",
       "      <td>...</td>\n",
       "      <td>...</td>\n",
       "      <td>...</td>\n",
       "      <td>...</td>\n",
       "      <td>...</td>\n",
       "      <td>...</td>\n",
       "      <td>...</td>\n",
       "      <td>...</td>\n",
       "      <td>...</td>\n",
       "    </tr>\n",
       "    <tr>\n",
       "      <th>3263</th>\n",
       "      <td>10454433</td>\n",
       "      <td>2020-06-27 15:47:35.743</td>\n",
       "      <td>6710682370423549012</td>\n",
       "      <td>91.233.208.53</td>\n",
       "      <td>CZ</td>\n",
       "      <td>31559</td>\n",
       "      <td>Mozilla/5.0  (iPhone; CPU iPhone OS 13_4 like ...</td>\n",
       "      <td>Chrome Mobile 81.0.4044.1925</td>\n",
       "      <td>iOS 13.4</td>\n",
       "      <td>mobile</td>\n",
       "      <td>1</td>\n",
       "      <td>0</td>\n",
       "      <td>0</td>\n",
       "      <td>15</td>\n",
       "      <td>Saturday</td>\n",
       "      <td>Afternoon</td>\n",
       "    </tr>\n",
       "    <tr>\n",
       "      <th>3264</th>\n",
       "      <td>10526408</td>\n",
       "      <td>2020-06-28 15:20:27.822</td>\n",
       "      <td>-1136293028359551315</td>\n",
       "      <td>23.137.225.106</td>\n",
       "      <td>US</td>\n",
       "      <td>393398</td>\n",
       "      <td>Mozilla/5.0  (iPhone; CPU iPhone OS 11_2_6 lik...</td>\n",
       "      <td>Chrome Mobile 81.0.4044.1925</td>\n",
       "      <td>iOS 11.2.6</td>\n",
       "      <td>mobile</td>\n",
       "      <td>0</td>\n",
       "      <td>0</td>\n",
       "      <td>0</td>\n",
       "      <td>15</td>\n",
       "      <td>Sunday</td>\n",
       "      <td>Afternoon</td>\n",
       "    </tr>\n",
       "    <tr>\n",
       "      <th>3265</th>\n",
       "      <td>12041296</td>\n",
       "      <td>2020-07-19 06:57:16.841</td>\n",
       "      <td>5140709821083845236</td>\n",
       "      <td>80.232.79.13</td>\n",
       "      <td>NO</td>\n",
       "      <td>25400</td>\n",
       "      <td>Mozilla/5.0  (iPhone; CPU iPhone OS 13_4 like ...</td>\n",
       "      <td>Chrome Mobile 81.0.4044.1929</td>\n",
       "      <td>iOS 13.4</td>\n",
       "      <td>mobile</td>\n",
       "      <td>1</td>\n",
       "      <td>0</td>\n",
       "      <td>0</td>\n",
       "      <td>6</td>\n",
       "      <td>Sunday</td>\n",
       "      <td>Morning</td>\n",
       "    </tr>\n",
       "    <tr>\n",
       "      <th>3266</th>\n",
       "      <td>8708580</td>\n",
       "      <td>2020-06-03 09:28:56.954</td>\n",
       "      <td>5069369253943453141</td>\n",
       "      <td>91.240.236.172</td>\n",
       "      <td>RO</td>\n",
       "      <td>62350</td>\n",
       "      <td>Mozilla/5.0 (Macintosh; Intel Mac OS X 10_14_6...</td>\n",
       "      <td>Chrome 79.0.3945.192.218</td>\n",
       "      <td>Mac OS X 10.14.6</td>\n",
       "      <td>desktop</td>\n",
       "      <td>1</td>\n",
       "      <td>1</td>\n",
       "      <td>1</td>\n",
       "      <td>9</td>\n",
       "      <td>Wednesday</td>\n",
       "      <td>Morning</td>\n",
       "    </tr>\n",
       "    <tr>\n",
       "      <th>3267</th>\n",
       "      <td>30677814</td>\n",
       "      <td>2021-02-21 15:53:16.903</td>\n",
       "      <td>6154359082336158419</td>\n",
       "      <td>170.39.76.105</td>\n",
       "      <td>US</td>\n",
       "      <td>393398</td>\n",
       "      <td>Mozilla/5.0  (Linux; Android 4.1; Galaxy Nexus...</td>\n",
       "      <td>Chrome Mobile 49.0.2623</td>\n",
       "      <td>Android 4.1</td>\n",
       "      <td>mobile</td>\n",
       "      <td>1</td>\n",
       "      <td>0</td>\n",
       "      <td>0</td>\n",
       "      <td>15</td>\n",
       "      <td>Sunday</td>\n",
       "      <td>Afternoon</td>\n",
       "    </tr>\n",
       "  </tbody>\n",
       "</table>\n",
       "<p>3268 rows × 16 columns</p>\n",
       "</div>"
      ]
     },
     "execution_count": 153,
     "metadata": {},
     "output_type": "execute_result"
    }
   ],
   "execution_count": 153
  },
  {
   "metadata": {},
   "cell_type": "markdown",
   "source": "## Categorical Data",
   "id": "7334895b43fbb3d0"
  },
  {
   "metadata": {
    "ExecuteTime": {
     "end_time": "2024-12-30T16:48:35.471596Z",
     "start_time": "2024-12-30T16:48:35.465119Z"
    }
   },
   "cell_type": "code",
   "source": [
    "categorical_columns = data.select_dtypes(include=['object'])\n",
    "categorical_columns.columns"
   ],
   "id": "784986e0729dfe63",
   "outputs": [
    {
     "data": {
      "text/plain": [
       "Index(['ip', 'country', 'user_agent', 'browser', 'os', 'device', 'day',\n",
       "       'time'],\n",
       "      dtype='object')"
      ]
     },
     "execution_count": 154,
     "metadata": {},
     "output_type": "execute_result"
    }
   ],
   "execution_count": 154
  },
  {
   "metadata": {},
   "cell_type": "markdown",
   "source": "### IP Address and ASN",
   "id": "5d781ac1725374c9"
  },
  {
   "metadata": {
    "ExecuteTime": {
     "end_time": "2024-12-30T16:48:35.633968Z",
     "start_time": "2024-12-30T16:48:35.626835Z"
    }
   },
   "cell_type": "code",
   "source": "data['ip'].value_counts().sort_values(ascending=False)",
   "id": "21b4db08c8998f7a",
   "outputs": [
    {
     "data": {
      "text/plain": [
       "ip\n",
       "10.3.205.197     40\n",
       "23.137.225.33    29\n",
       "10.3.205.195     26\n",
       "10.3.205.194     20\n",
       "10.3.205.196     13\n",
       "                 ..\n",
       "5.180.170.198     1\n",
       "187.73.165.36     1\n",
       "10.4.120.159      1\n",
       "110.93.26.56      1\n",
       "170.39.79.104     1\n",
       "Name: count, Length: 2845, dtype: int64"
      ]
     },
     "execution_count": 155,
     "metadata": {},
     "output_type": "execute_result"
    }
   ],
   "execution_count": 155
  },
  {
   "metadata": {
    "ExecuteTime": {
     "end_time": "2024-12-30T16:48:35.756692Z",
     "start_time": "2024-12-30T16:48:35.749147Z"
    }
   },
   "cell_type": "code",
   "source": [
    "ip_counts = data['ip'].value_counts()\n",
    "data['ip_connection_count'] = data['ip'].map(ip_counts)"
   ],
   "id": "efc44466c4045b98",
   "outputs": [],
   "execution_count": 156
  },
  {
   "metadata": {
    "ExecuteTime": {
     "end_time": "2024-12-30T16:48:35.814556Z",
     "start_time": "2024-12-30T16:48:35.808908Z"
    }
   },
   "cell_type": "code",
   "source": "data['asn'].value_counts().sort_values(ascending=False)",
   "id": "4ee2b685d3b4fb9d",
   "outputs": [
    {
     "data": {
      "text/plain": [
       "asn\n",
       "29695     835\n",
       "393398    703\n",
       "41164     152\n",
       "15599     140\n",
       "262582    138\n",
       "         ... \n",
       "500004      1\n",
       "34971       1\n",
       "505051      1\n",
       "28654       1\n",
       "31559       1\n",
       "Name: count, Length: 356, dtype: int64"
      ]
     },
     "execution_count": 157,
     "metadata": {},
     "output_type": "execute_result"
    }
   ],
   "execution_count": 157
  },
  {
   "metadata": {
    "ExecuteTime": {
     "end_time": "2024-12-30T16:48:35.967149Z",
     "start_time": "2024-12-30T16:48:35.954587Z"
    }
   },
   "cell_type": "code",
   "source": [
    "asn_counts = data['asn'].value_counts()\n",
    "data['asn_count'] = data['asn'].map(asn_counts)\n",
    "data"
   ],
   "id": "75c2f2aa730cb63f",
   "outputs": [
    {
     "data": {
      "text/plain": [
       "         index               timestamp                   id              ip  \\\n",
       "0     29244518 2021-02-03 02:41:58.307  8883596012754605922     170.39.78.3   \n",
       "1      1105008 2020-02-18 00:56:20.230  3037641017366924328  156.52.180.228   \n",
       "2      3031315 2020-03-15 16:57:13.252  2446886407948496390  139.164.229.21   \n",
       "3      1331290 2020-02-20 19:41:10.650  9218785402660907923   45.13.240.204   \n",
       "4     27480866 2021-01-13 02:58:11.697 -4324475583306591935     10.0.52.159   \n",
       "...        ...                     ...                  ...             ...   \n",
       "3263  10454433 2020-06-27 15:47:35.743  6710682370423549012   91.233.208.53   \n",
       "3264  10526408 2020-06-28 15:20:27.822 -1136293028359551315  23.137.225.106   \n",
       "3265  12041296 2020-07-19 06:57:16.841  5140709821083845236    80.232.79.13   \n",
       "3266   8708580 2020-06-03 09:28:56.954  5069369253943453141  91.240.236.172   \n",
       "3267  30677814 2021-02-21 15:53:16.903  6154359082336158419   170.39.76.105   \n",
       "\n",
       "     country     asn                                         user_agent  \\\n",
       "0         US  393398  Mozilla/5.0  (iPhone; CPU iPhone OS 13_4 like ...   \n",
       "1         NO   29695  Mozilla/5.0  (Linux; U; Android 2.2) Gecko/201...   \n",
       "2         NO   29695  Mozilla/5.0  (iPhone; CPU iPhone OS 11_2_6 lik...   \n",
       "3         NO   29695  Mozilla/5.0  (iPhone; CPU iPhone OS 9_0_2 like...   \n",
       "4         DE  500254                     VLC/3.0.0-git LibVLC/3.0.0-git   \n",
       "...      ...     ...                                                ...   \n",
       "3263      CZ   31559  Mozilla/5.0  (iPhone; CPU iPhone OS 13_4 like ...   \n",
       "3264      US  393398  Mozilla/5.0  (iPhone; CPU iPhone OS 11_2_6 lik...   \n",
       "3265      NO   25400  Mozilla/5.0  (iPhone; CPU iPhone OS 13_4 like ...   \n",
       "3266      RO   62350  Mozilla/5.0 (Macintosh; Intel Mac OS X 10_14_6...   \n",
       "3267      US  393398  Mozilla/5.0  (Linux; Android 4.1; Galaxy Nexus...   \n",
       "\n",
       "                           browser                os   device  login_success  \\\n",
       "0          Chrome Mobile 81.0.4044          iOS 13.4   mobile              0   \n",
       "1              Firefox 20.0.0.1618       Android 2.2   mobile              1   \n",
       "2          Chrome Mobile 81.0.4044        iOS 11.2.6   mobile              1   \n",
       "3                    Android 2.3.6         iOS 9.0.2   tablet              1   \n",
       "4                    VLC 3.0.0-git            Other   unknown              0   \n",
       "...                            ...               ...      ...            ...   \n",
       "3263  Chrome Mobile 81.0.4044.1925          iOS 13.4   mobile              1   \n",
       "3264  Chrome Mobile 81.0.4044.1925        iOS 11.2.6   mobile              0   \n",
       "3265  Chrome Mobile 81.0.4044.1929          iOS 13.4   mobile              1   \n",
       "3266      Chrome 79.0.3945.192.218  Mac OS X 10.14.6  desktop              1   \n",
       "3267       Chrome Mobile 49.0.2623       Android 4.1   mobile              1   \n",
       "\n",
       "      is_attack_ip  is_account_takeover  hour        day       time  \\\n",
       "0                0                    0     2  Wednesday      Night   \n",
       "1                0                    0     0    Tuesday      Night   \n",
       "2                0                    0    16     Sunday  Afternoon   \n",
       "3                0                    0    19   Thursday    Evening   \n",
       "4                1                    0     2  Wednesday      Night   \n",
       "...            ...                  ...   ...        ...        ...   \n",
       "3263             0                    0    15   Saturday  Afternoon   \n",
       "3264             0                    0    15     Sunday  Afternoon   \n",
       "3265             0                    0     6     Sunday    Morning   \n",
       "3266             1                    1     9  Wednesday    Morning   \n",
       "3267             0                    0    15     Sunday  Afternoon   \n",
       "\n",
       "      ip_connection_count  asn_count  \n",
       "0                       1        703  \n",
       "1                       1        835  \n",
       "2                       1        835  \n",
       "3                       1        835  \n",
       "4                       6          6  \n",
       "...                   ...        ...  \n",
       "3263                    1          1  \n",
       "3264                    1        703  \n",
       "3265                    1         33  \n",
       "3266                    5         15  \n",
       "3267                    1        703  \n",
       "\n",
       "[3268 rows x 18 columns]"
      ],
      "text/html": [
       "<div>\n",
       "<style scoped>\n",
       "    .dataframe tbody tr th:only-of-type {\n",
       "        vertical-align: middle;\n",
       "    }\n",
       "\n",
       "    .dataframe tbody tr th {\n",
       "        vertical-align: top;\n",
       "    }\n",
       "\n",
       "    .dataframe thead th {\n",
       "        text-align: right;\n",
       "    }\n",
       "</style>\n",
       "<table border=\"1\" class=\"dataframe\">\n",
       "  <thead>\n",
       "    <tr style=\"text-align: right;\">\n",
       "      <th></th>\n",
       "      <th>index</th>\n",
       "      <th>timestamp</th>\n",
       "      <th>id</th>\n",
       "      <th>ip</th>\n",
       "      <th>country</th>\n",
       "      <th>asn</th>\n",
       "      <th>user_agent</th>\n",
       "      <th>browser</th>\n",
       "      <th>os</th>\n",
       "      <th>device</th>\n",
       "      <th>login_success</th>\n",
       "      <th>is_attack_ip</th>\n",
       "      <th>is_account_takeover</th>\n",
       "      <th>hour</th>\n",
       "      <th>day</th>\n",
       "      <th>time</th>\n",
       "      <th>ip_connection_count</th>\n",
       "      <th>asn_count</th>\n",
       "    </tr>\n",
       "  </thead>\n",
       "  <tbody>\n",
       "    <tr>\n",
       "      <th>0</th>\n",
       "      <td>29244518</td>\n",
       "      <td>2021-02-03 02:41:58.307</td>\n",
       "      <td>8883596012754605922</td>\n",
       "      <td>170.39.78.3</td>\n",
       "      <td>US</td>\n",
       "      <td>393398</td>\n",
       "      <td>Mozilla/5.0  (iPhone; CPU iPhone OS 13_4 like ...</td>\n",
       "      <td>Chrome Mobile 81.0.4044</td>\n",
       "      <td>iOS 13.4</td>\n",
       "      <td>mobile</td>\n",
       "      <td>0</td>\n",
       "      <td>0</td>\n",
       "      <td>0</td>\n",
       "      <td>2</td>\n",
       "      <td>Wednesday</td>\n",
       "      <td>Night</td>\n",
       "      <td>1</td>\n",
       "      <td>703</td>\n",
       "    </tr>\n",
       "    <tr>\n",
       "      <th>1</th>\n",
       "      <td>1105008</td>\n",
       "      <td>2020-02-18 00:56:20.230</td>\n",
       "      <td>3037641017366924328</td>\n",
       "      <td>156.52.180.228</td>\n",
       "      <td>NO</td>\n",
       "      <td>29695</td>\n",
       "      <td>Mozilla/5.0  (Linux; U; Android 2.2) Gecko/201...</td>\n",
       "      <td>Firefox 20.0.0.1618</td>\n",
       "      <td>Android 2.2</td>\n",
       "      <td>mobile</td>\n",
       "      <td>1</td>\n",
       "      <td>0</td>\n",
       "      <td>0</td>\n",
       "      <td>0</td>\n",
       "      <td>Tuesday</td>\n",
       "      <td>Night</td>\n",
       "      <td>1</td>\n",
       "      <td>835</td>\n",
       "    </tr>\n",
       "    <tr>\n",
       "      <th>2</th>\n",
       "      <td>3031315</td>\n",
       "      <td>2020-03-15 16:57:13.252</td>\n",
       "      <td>2446886407948496390</td>\n",
       "      <td>139.164.229.21</td>\n",
       "      <td>NO</td>\n",
       "      <td>29695</td>\n",
       "      <td>Mozilla/5.0  (iPhone; CPU iPhone OS 11_2_6 lik...</td>\n",
       "      <td>Chrome Mobile 81.0.4044</td>\n",
       "      <td>iOS 11.2.6</td>\n",
       "      <td>mobile</td>\n",
       "      <td>1</td>\n",
       "      <td>0</td>\n",
       "      <td>0</td>\n",
       "      <td>16</td>\n",
       "      <td>Sunday</td>\n",
       "      <td>Afternoon</td>\n",
       "      <td>1</td>\n",
       "      <td>835</td>\n",
       "    </tr>\n",
       "    <tr>\n",
       "      <th>3</th>\n",
       "      <td>1331290</td>\n",
       "      <td>2020-02-20 19:41:10.650</td>\n",
       "      <td>9218785402660907923</td>\n",
       "      <td>45.13.240.204</td>\n",
       "      <td>NO</td>\n",
       "      <td>29695</td>\n",
       "      <td>Mozilla/5.0  (iPhone; CPU iPhone OS 9_0_2 like...</td>\n",
       "      <td>Android 2.3.6</td>\n",
       "      <td>iOS 9.0.2</td>\n",
       "      <td>tablet</td>\n",
       "      <td>1</td>\n",
       "      <td>0</td>\n",
       "      <td>0</td>\n",
       "      <td>19</td>\n",
       "      <td>Thursday</td>\n",
       "      <td>Evening</td>\n",
       "      <td>1</td>\n",
       "      <td>835</td>\n",
       "    </tr>\n",
       "    <tr>\n",
       "      <th>4</th>\n",
       "      <td>27480866</td>\n",
       "      <td>2021-01-13 02:58:11.697</td>\n",
       "      <td>-4324475583306591935</td>\n",
       "      <td>10.0.52.159</td>\n",
       "      <td>DE</td>\n",
       "      <td>500254</td>\n",
       "      <td>VLC/3.0.0-git LibVLC/3.0.0-git</td>\n",
       "      <td>VLC 3.0.0-git</td>\n",
       "      <td>Other</td>\n",
       "      <td>unknown</td>\n",
       "      <td>0</td>\n",
       "      <td>1</td>\n",
       "      <td>0</td>\n",
       "      <td>2</td>\n",
       "      <td>Wednesday</td>\n",
       "      <td>Night</td>\n",
       "      <td>6</td>\n",
       "      <td>6</td>\n",
       "    </tr>\n",
       "    <tr>\n",
       "      <th>...</th>\n",
       "      <td>...</td>\n",
       "      <td>...</td>\n",
       "      <td>...</td>\n",
       "      <td>...</td>\n",
       "      <td>...</td>\n",
       "      <td>...</td>\n",
       "      <td>...</td>\n",
       "      <td>...</td>\n",
       "      <td>...</td>\n",
       "      <td>...</td>\n",
       "      <td>...</td>\n",
       "      <td>...</td>\n",
       "      <td>...</td>\n",
       "      <td>...</td>\n",
       "      <td>...</td>\n",
       "      <td>...</td>\n",
       "      <td>...</td>\n",
       "      <td>...</td>\n",
       "    </tr>\n",
       "    <tr>\n",
       "      <th>3263</th>\n",
       "      <td>10454433</td>\n",
       "      <td>2020-06-27 15:47:35.743</td>\n",
       "      <td>6710682370423549012</td>\n",
       "      <td>91.233.208.53</td>\n",
       "      <td>CZ</td>\n",
       "      <td>31559</td>\n",
       "      <td>Mozilla/5.0  (iPhone; CPU iPhone OS 13_4 like ...</td>\n",
       "      <td>Chrome Mobile 81.0.4044.1925</td>\n",
       "      <td>iOS 13.4</td>\n",
       "      <td>mobile</td>\n",
       "      <td>1</td>\n",
       "      <td>0</td>\n",
       "      <td>0</td>\n",
       "      <td>15</td>\n",
       "      <td>Saturday</td>\n",
       "      <td>Afternoon</td>\n",
       "      <td>1</td>\n",
       "      <td>1</td>\n",
       "    </tr>\n",
       "    <tr>\n",
       "      <th>3264</th>\n",
       "      <td>10526408</td>\n",
       "      <td>2020-06-28 15:20:27.822</td>\n",
       "      <td>-1136293028359551315</td>\n",
       "      <td>23.137.225.106</td>\n",
       "      <td>US</td>\n",
       "      <td>393398</td>\n",
       "      <td>Mozilla/5.0  (iPhone; CPU iPhone OS 11_2_6 lik...</td>\n",
       "      <td>Chrome Mobile 81.0.4044.1925</td>\n",
       "      <td>iOS 11.2.6</td>\n",
       "      <td>mobile</td>\n",
       "      <td>0</td>\n",
       "      <td>0</td>\n",
       "      <td>0</td>\n",
       "      <td>15</td>\n",
       "      <td>Sunday</td>\n",
       "      <td>Afternoon</td>\n",
       "      <td>1</td>\n",
       "      <td>703</td>\n",
       "    </tr>\n",
       "    <tr>\n",
       "      <th>3265</th>\n",
       "      <td>12041296</td>\n",
       "      <td>2020-07-19 06:57:16.841</td>\n",
       "      <td>5140709821083845236</td>\n",
       "      <td>80.232.79.13</td>\n",
       "      <td>NO</td>\n",
       "      <td>25400</td>\n",
       "      <td>Mozilla/5.0  (iPhone; CPU iPhone OS 13_4 like ...</td>\n",
       "      <td>Chrome Mobile 81.0.4044.1929</td>\n",
       "      <td>iOS 13.4</td>\n",
       "      <td>mobile</td>\n",
       "      <td>1</td>\n",
       "      <td>0</td>\n",
       "      <td>0</td>\n",
       "      <td>6</td>\n",
       "      <td>Sunday</td>\n",
       "      <td>Morning</td>\n",
       "      <td>1</td>\n",
       "      <td>33</td>\n",
       "    </tr>\n",
       "    <tr>\n",
       "      <th>3266</th>\n",
       "      <td>8708580</td>\n",
       "      <td>2020-06-03 09:28:56.954</td>\n",
       "      <td>5069369253943453141</td>\n",
       "      <td>91.240.236.172</td>\n",
       "      <td>RO</td>\n",
       "      <td>62350</td>\n",
       "      <td>Mozilla/5.0 (Macintosh; Intel Mac OS X 10_14_6...</td>\n",
       "      <td>Chrome 79.0.3945.192.218</td>\n",
       "      <td>Mac OS X 10.14.6</td>\n",
       "      <td>desktop</td>\n",
       "      <td>1</td>\n",
       "      <td>1</td>\n",
       "      <td>1</td>\n",
       "      <td>9</td>\n",
       "      <td>Wednesday</td>\n",
       "      <td>Morning</td>\n",
       "      <td>5</td>\n",
       "      <td>15</td>\n",
       "    </tr>\n",
       "    <tr>\n",
       "      <th>3267</th>\n",
       "      <td>30677814</td>\n",
       "      <td>2021-02-21 15:53:16.903</td>\n",
       "      <td>6154359082336158419</td>\n",
       "      <td>170.39.76.105</td>\n",
       "      <td>US</td>\n",
       "      <td>393398</td>\n",
       "      <td>Mozilla/5.0  (Linux; Android 4.1; Galaxy Nexus...</td>\n",
       "      <td>Chrome Mobile 49.0.2623</td>\n",
       "      <td>Android 4.1</td>\n",
       "      <td>mobile</td>\n",
       "      <td>1</td>\n",
       "      <td>0</td>\n",
       "      <td>0</td>\n",
       "      <td>15</td>\n",
       "      <td>Sunday</td>\n",
       "      <td>Afternoon</td>\n",
       "      <td>1</td>\n",
       "      <td>703</td>\n",
       "    </tr>\n",
       "  </tbody>\n",
       "</table>\n",
       "<p>3268 rows × 18 columns</p>\n",
       "</div>"
      ]
     },
     "execution_count": 158,
     "metadata": {},
     "output_type": "execute_result"
    }
   ],
   "execution_count": 158
  },
  {
   "metadata": {},
   "cell_type": "markdown",
   "source": "### Country",
   "id": "5825b31701b54735"
  },
  {
   "metadata": {
    "ExecuteTime": {
     "end_time": "2024-12-30T16:48:36.096408Z",
     "start_time": "2024-12-30T16:48:36.090175Z"
    }
   },
   "cell_type": "code",
   "source": "data['country'].value_counts().sort_values(ascending=False)",
   "id": "436c1637bea2bc69",
   "outputs": [
    {
     "data": {
      "text/plain": [
       "country\n",
       "NO    1357\n",
       "US     842\n",
       "RU     140\n",
       "BR     134\n",
       "PL      95\n",
       "      ... \n",
       "LB       1\n",
       "GR       1\n",
       "BY       1\n",
       "PH       1\n",
       "MZ       1\n",
       "Name: count, Length: 75, dtype: int64"
      ]
     },
     "execution_count": 159,
     "metadata": {},
     "output_type": "execute_result"
    }
   ],
   "execution_count": 159
  },
  {
   "metadata": {
    "ExecuteTime": {
     "end_time": "2024-12-30T16:48:36.271180Z",
     "start_time": "2024-12-30T16:48:36.261214Z"
    }
   },
   "cell_type": "code",
   "source": [
    "k = 6\n",
    "kp = 2\n",
    "top_k_countries_normal = data[\"country\"].value_counts().nlargest(k).index\n",
    "top_kp_countries_attacks = data[data['is_account_takeover']==True][\"country\"].value_counts().nlargest(kp).index\n",
    "top_countries = top_k_countries_normal.union(top_kp_countries_attacks)\n",
    "\n",
    "data[\"country\"] = data[\"country\"].apply(lambda x: x if x in top_countries else \"other\")"
   ],
   "id": "fda5008c6a92ebd4",
   "outputs": [],
   "execution_count": 160
  },
  {
   "cell_type": "code",
   "id": "61ea881b-0db0-4d4f-8539-5cf09b8c61a6",
   "metadata": {
    "ExecuteTime": {
     "end_time": "2024-12-30T16:48:36.427425Z",
     "start_time": "2024-12-30T16:48:36.418928Z"
    }
   },
   "source": "data['country'].value_counts().sort_values(ascending=False)",
   "outputs": [
    {
     "data": {
      "text/plain": [
       "country\n",
       "NO       1357\n",
       "US        842\n",
       "other     605\n",
       "RU        140\n",
       "BR        134\n",
       "RO         95\n",
       "PL         95\n",
       "Name: count, dtype: int64"
      ]
     },
     "execution_count": 161,
     "metadata": {},
     "output_type": "execute_result"
    }
   ],
   "execution_count": 161
  },
  {
   "metadata": {},
   "cell_type": "markdown",
   "source": "### Browser",
   "id": "430a754be916d19c"
  },
  {
   "metadata": {
    "ExecuteTime": {
     "end_time": "2024-12-30T16:48:36.605105Z",
     "start_time": "2024-12-30T16:48:36.599016Z"
    }
   },
   "cell_type": "code",
   "source": "data['browser'].value_counts().sort_values(ascending=False)",
   "id": "6d5589f39cd0217e",
   "outputs": [
    {
     "data": {
      "text/plain": [
       "browser\n",
       "ZipppBot 0.11                      140\n",
       "Chrome Mobile 81.0.4044            137\n",
       "Opera Mobile 52.1.2254              95\n",
       "Chrome 79.0.3945.192.218            90\n",
       "Chrome 84.0.4147.338.339            90\n",
       "                                  ... \n",
       "Chrome Mobile 81.0.4044.2002         1\n",
       "Firefox Mobile 48.0.0.3128.3143      1\n",
       "Firefox 20.0.0.1606                  1\n",
       "Chrome 86.0.4240.378                 1\n",
       "Firefox 20.0.0.1608                  1\n",
       "Name: count, Length: 312, dtype: int64"
      ]
     },
     "execution_count": 162,
     "metadata": {},
     "output_type": "execute_result"
    }
   ],
   "execution_count": 162
  },
  {
   "metadata": {
    "ExecuteTime": {
     "end_time": "2024-12-30T16:48:36.772705Z",
     "start_time": "2024-12-30T16:48:36.758929Z"
    }
   },
   "cell_type": "code",
   "source": [
    "most_attacks_browser = data[data['is_account_takeover']==True]['browser'].value_counts().nlargest(1).index\n",
    "\n",
    "get_browser_name = lambda x: x if x in most_attacks_browser else x.split()[0]\n",
    "data['browser'] = data['browser'].apply(get_browser_name)"
   ],
   "id": "ab8a94f2c7467017",
   "outputs": [],
   "execution_count": 163
  },
  {
   "metadata": {
    "ExecuteTime": {
     "end_time": "2024-12-30T16:48:36.945684Z",
     "start_time": "2024-12-30T16:48:36.938101Z"
    }
   },
   "cell_type": "code",
   "source": [
    "k = 8\n",
    "top_k_browsers = data[\"browser\"].value_counts().nlargest(k).index\n",
    "data[\"browser\"] = data[\"browser\"].apply(lambda x:\n",
    "                                        x if x in top_k_browsers or x in most_attacks_browser\n",
    "                                        else \"other\")"
   ],
   "id": "f3ace26f1c190723",
   "outputs": [],
   "execution_count": 164
  },
  {
   "metadata": {
    "ExecuteTime": {
     "end_time": "2024-12-30T16:48:37.133666Z",
     "start_time": "2024-12-30T16:48:37.128053Z"
    }
   },
   "cell_type": "code",
   "source": "data['browser'].value_counts().sort_values(ascending=False)",
   "id": "f61b8b439d5bbd8e",
   "outputs": [
    {
     "data": {
      "text/plain": [
       "browser\n",
       "Chrome                      1999\n",
       "Android                      339\n",
       "Firefox                      303\n",
       "Opera                        151\n",
       "ZipppBot                     140\n",
       "other                        140\n",
       "Chrome 79.0.3945.192.218      90\n",
       "VLC                           65\n",
       "Mobile                        41\n",
       "Name: count, dtype: int64"
      ]
     },
     "execution_count": 165,
     "metadata": {},
     "output_type": "execute_result"
    }
   ],
   "execution_count": 165
  },
  {
   "metadata": {},
   "cell_type": "markdown",
   "source": "## OS",
   "id": "53ce3fbc71d05346"
  },
  {
   "metadata": {
    "ExecuteTime": {
     "end_time": "2024-12-30T16:48:37.209306Z",
     "start_time": "2024-12-30T16:48:37.203227Z"
    }
   },
   "cell_type": "code",
   "source": "data['os'] = data['os'].apply(lambda x : x.split()[0])",
   "id": "c8a46c592295a7a4",
   "outputs": [],
   "execution_count": 166
  },
  {
   "metadata": {
    "ExecuteTime": {
     "end_time": "2024-12-30T16:48:37.262005Z",
     "start_time": "2024-12-30T16:48:37.256126Z"
    }
   },
   "cell_type": "code",
   "source": "data['os'].value_counts().sort_values(ascending=False)",
   "id": "21e5481bc0299fc2",
   "outputs": [
    {
     "data": {
      "text/plain": [
       "os\n",
       "iOS           1145\n",
       "Android        878\n",
       "Mac            739\n",
       "Other          259\n",
       "Chrome          91\n",
       "Chromecast      64\n",
       "Windows         58\n",
       "KaiOS           33\n",
       "BlackBerry       1\n",
       "Name: count, dtype: int64"
      ]
     },
     "execution_count": 167,
     "metadata": {},
     "output_type": "execute_result"
    }
   ],
   "execution_count": 167
  },
  {
   "metadata": {
    "ExecuteTime": {
     "end_time": "2024-12-30T16:48:37.347694Z",
     "start_time": "2024-12-30T16:48:37.336800Z"
    }
   },
   "cell_type": "code",
   "source": [
    "k = 8\n",
    "top_k_os = data[\"os\"].value_counts().nlargest(k).index\n",
    "most_attacks_os = data[data['is_account_takeover']==True]['os'].value_counts().nlargest(1).index\n",
    "\n",
    "data[\"os\"] = data[\"os\"].apply(lambda x: x if x in top_k_os or x in most_attacks_os else \"other\")"
   ],
   "id": "7f9631559f794aed",
   "outputs": [],
   "execution_count": 168
  },
  {
   "metadata": {
    "ExecuteTime": {
     "end_time": "2024-12-30T16:48:37.423530Z",
     "start_time": "2024-12-30T16:48:37.417989Z"
    }
   },
   "cell_type": "code",
   "source": "data['os'].value_counts().sort_values(ascending=False)",
   "id": "59ad0abab216d149",
   "outputs": [
    {
     "data": {
      "text/plain": [
       "os\n",
       "iOS           1145\n",
       "Android        878\n",
       "Mac            739\n",
       "Other          259\n",
       "Chrome          91\n",
       "Chromecast      64\n",
       "Windows         58\n",
       "KaiOS           33\n",
       "other            1\n",
       "Name: count, dtype: int64"
      ]
     },
     "execution_count": 169,
     "metadata": {},
     "output_type": "execute_result"
    }
   ],
   "execution_count": 169
  },
  {
   "metadata": {},
   "cell_type": "markdown",
   "source": "## Device",
   "id": "e4907ee75a156bf7"
  },
  {
   "metadata": {
    "ExecuteTime": {
     "end_time": "2024-12-30T16:48:37.545880Z",
     "start_time": "2024-12-30T16:48:37.540428Z"
    }
   },
   "cell_type": "code",
   "source": "data['device'].value_counts().sort_values(ascending=False)",
   "id": "d9c0353ce3d33d50",
   "outputs": [
    {
     "data": {
      "text/plain": [
       "device\n",
       "mobile     2038\n",
       "desktop     894\n",
       "bot         176\n",
       "unknown      80\n",
       "tablet       80\n",
       "Name: count, dtype: int64"
      ]
     },
     "execution_count": 170,
     "metadata": {},
     "output_type": "execute_result"
    }
   ],
   "execution_count": 170
  },
  {
   "metadata": {
    "ExecuteTime": {
     "end_time": "2024-12-30T16:48:37.648012Z",
     "start_time": "2024-12-30T16:48:37.633465Z"
    }
   },
   "cell_type": "code",
   "source": "data",
   "id": "bd7ff2c896337e2",
   "outputs": [
    {
     "data": {
      "text/plain": [
       "         index               timestamp                   id              ip  \\\n",
       "0     29244518 2021-02-03 02:41:58.307  8883596012754605922     170.39.78.3   \n",
       "1      1105008 2020-02-18 00:56:20.230  3037641017366924328  156.52.180.228   \n",
       "2      3031315 2020-03-15 16:57:13.252  2446886407948496390  139.164.229.21   \n",
       "3      1331290 2020-02-20 19:41:10.650  9218785402660907923   45.13.240.204   \n",
       "4     27480866 2021-01-13 02:58:11.697 -4324475583306591935     10.0.52.159   \n",
       "...        ...                     ...                  ...             ...   \n",
       "3263  10454433 2020-06-27 15:47:35.743  6710682370423549012   91.233.208.53   \n",
       "3264  10526408 2020-06-28 15:20:27.822 -1136293028359551315  23.137.225.106   \n",
       "3265  12041296 2020-07-19 06:57:16.841  5140709821083845236    80.232.79.13   \n",
       "3266   8708580 2020-06-03 09:28:56.954  5069369253943453141  91.240.236.172   \n",
       "3267  30677814 2021-02-21 15:53:16.903  6154359082336158419   170.39.76.105   \n",
       "\n",
       "     country     asn                                         user_agent  \\\n",
       "0         US  393398  Mozilla/5.0  (iPhone; CPU iPhone OS 13_4 like ...   \n",
       "1         NO   29695  Mozilla/5.0  (Linux; U; Android 2.2) Gecko/201...   \n",
       "2         NO   29695  Mozilla/5.0  (iPhone; CPU iPhone OS 11_2_6 lik...   \n",
       "3         NO   29695  Mozilla/5.0  (iPhone; CPU iPhone OS 9_0_2 like...   \n",
       "4      other  500254                     VLC/3.0.0-git LibVLC/3.0.0-git   \n",
       "...      ...     ...                                                ...   \n",
       "3263   other   31559  Mozilla/5.0  (iPhone; CPU iPhone OS 13_4 like ...   \n",
       "3264      US  393398  Mozilla/5.0  (iPhone; CPU iPhone OS 11_2_6 lik...   \n",
       "3265      NO   25400  Mozilla/5.0  (iPhone; CPU iPhone OS 13_4 like ...   \n",
       "3266      RO   62350  Mozilla/5.0 (Macintosh; Intel Mac OS X 10_14_6...   \n",
       "3267      US  393398  Mozilla/5.0  (Linux; Android 4.1; Galaxy Nexus...   \n",
       "\n",
       "                       browser       os   device  login_success  is_attack_ip  \\\n",
       "0                       Chrome      iOS   mobile              0             0   \n",
       "1                      Firefox  Android   mobile              1             0   \n",
       "2                       Chrome      iOS   mobile              1             0   \n",
       "3                      Android      iOS   tablet              1             0   \n",
       "4                          VLC    Other  unknown              0             1   \n",
       "...                        ...      ...      ...            ...           ...   \n",
       "3263                    Chrome      iOS   mobile              1             0   \n",
       "3264                    Chrome      iOS   mobile              0             0   \n",
       "3265                    Chrome      iOS   mobile              1             0   \n",
       "3266  Chrome 79.0.3945.192.218      Mac  desktop              1             1   \n",
       "3267                    Chrome  Android   mobile              1             0   \n",
       "\n",
       "      is_account_takeover  hour        day       time  ip_connection_count  \\\n",
       "0                       0     2  Wednesday      Night                    1   \n",
       "1                       0     0    Tuesday      Night                    1   \n",
       "2                       0    16     Sunday  Afternoon                    1   \n",
       "3                       0    19   Thursday    Evening                    1   \n",
       "4                       0     2  Wednesday      Night                    6   \n",
       "...                   ...   ...        ...        ...                  ...   \n",
       "3263                    0    15   Saturday  Afternoon                    1   \n",
       "3264                    0    15     Sunday  Afternoon                    1   \n",
       "3265                    0     6     Sunday    Morning                    1   \n",
       "3266                    1     9  Wednesday    Morning                    5   \n",
       "3267                    0    15     Sunday  Afternoon                    1   \n",
       "\n",
       "      asn_count  \n",
       "0           703  \n",
       "1           835  \n",
       "2           835  \n",
       "3           835  \n",
       "4             6  \n",
       "...         ...  \n",
       "3263          1  \n",
       "3264        703  \n",
       "3265         33  \n",
       "3266         15  \n",
       "3267        703  \n",
       "\n",
       "[3268 rows x 18 columns]"
      ],
      "text/html": [
       "<div>\n",
       "<style scoped>\n",
       "    .dataframe tbody tr th:only-of-type {\n",
       "        vertical-align: middle;\n",
       "    }\n",
       "\n",
       "    .dataframe tbody tr th {\n",
       "        vertical-align: top;\n",
       "    }\n",
       "\n",
       "    .dataframe thead th {\n",
       "        text-align: right;\n",
       "    }\n",
       "</style>\n",
       "<table border=\"1\" class=\"dataframe\">\n",
       "  <thead>\n",
       "    <tr style=\"text-align: right;\">\n",
       "      <th></th>\n",
       "      <th>index</th>\n",
       "      <th>timestamp</th>\n",
       "      <th>id</th>\n",
       "      <th>ip</th>\n",
       "      <th>country</th>\n",
       "      <th>asn</th>\n",
       "      <th>user_agent</th>\n",
       "      <th>browser</th>\n",
       "      <th>os</th>\n",
       "      <th>device</th>\n",
       "      <th>login_success</th>\n",
       "      <th>is_attack_ip</th>\n",
       "      <th>is_account_takeover</th>\n",
       "      <th>hour</th>\n",
       "      <th>day</th>\n",
       "      <th>time</th>\n",
       "      <th>ip_connection_count</th>\n",
       "      <th>asn_count</th>\n",
       "    </tr>\n",
       "  </thead>\n",
       "  <tbody>\n",
       "    <tr>\n",
       "      <th>0</th>\n",
       "      <td>29244518</td>\n",
       "      <td>2021-02-03 02:41:58.307</td>\n",
       "      <td>8883596012754605922</td>\n",
       "      <td>170.39.78.3</td>\n",
       "      <td>US</td>\n",
       "      <td>393398</td>\n",
       "      <td>Mozilla/5.0  (iPhone; CPU iPhone OS 13_4 like ...</td>\n",
       "      <td>Chrome</td>\n",
       "      <td>iOS</td>\n",
       "      <td>mobile</td>\n",
       "      <td>0</td>\n",
       "      <td>0</td>\n",
       "      <td>0</td>\n",
       "      <td>2</td>\n",
       "      <td>Wednesday</td>\n",
       "      <td>Night</td>\n",
       "      <td>1</td>\n",
       "      <td>703</td>\n",
       "    </tr>\n",
       "    <tr>\n",
       "      <th>1</th>\n",
       "      <td>1105008</td>\n",
       "      <td>2020-02-18 00:56:20.230</td>\n",
       "      <td>3037641017366924328</td>\n",
       "      <td>156.52.180.228</td>\n",
       "      <td>NO</td>\n",
       "      <td>29695</td>\n",
       "      <td>Mozilla/5.0  (Linux; U; Android 2.2) Gecko/201...</td>\n",
       "      <td>Firefox</td>\n",
       "      <td>Android</td>\n",
       "      <td>mobile</td>\n",
       "      <td>1</td>\n",
       "      <td>0</td>\n",
       "      <td>0</td>\n",
       "      <td>0</td>\n",
       "      <td>Tuesday</td>\n",
       "      <td>Night</td>\n",
       "      <td>1</td>\n",
       "      <td>835</td>\n",
       "    </tr>\n",
       "    <tr>\n",
       "      <th>2</th>\n",
       "      <td>3031315</td>\n",
       "      <td>2020-03-15 16:57:13.252</td>\n",
       "      <td>2446886407948496390</td>\n",
       "      <td>139.164.229.21</td>\n",
       "      <td>NO</td>\n",
       "      <td>29695</td>\n",
       "      <td>Mozilla/5.0  (iPhone; CPU iPhone OS 11_2_6 lik...</td>\n",
       "      <td>Chrome</td>\n",
       "      <td>iOS</td>\n",
       "      <td>mobile</td>\n",
       "      <td>1</td>\n",
       "      <td>0</td>\n",
       "      <td>0</td>\n",
       "      <td>16</td>\n",
       "      <td>Sunday</td>\n",
       "      <td>Afternoon</td>\n",
       "      <td>1</td>\n",
       "      <td>835</td>\n",
       "    </tr>\n",
       "    <tr>\n",
       "      <th>3</th>\n",
       "      <td>1331290</td>\n",
       "      <td>2020-02-20 19:41:10.650</td>\n",
       "      <td>9218785402660907923</td>\n",
       "      <td>45.13.240.204</td>\n",
       "      <td>NO</td>\n",
       "      <td>29695</td>\n",
       "      <td>Mozilla/5.0  (iPhone; CPU iPhone OS 9_0_2 like...</td>\n",
       "      <td>Android</td>\n",
       "      <td>iOS</td>\n",
       "      <td>tablet</td>\n",
       "      <td>1</td>\n",
       "      <td>0</td>\n",
       "      <td>0</td>\n",
       "      <td>19</td>\n",
       "      <td>Thursday</td>\n",
       "      <td>Evening</td>\n",
       "      <td>1</td>\n",
       "      <td>835</td>\n",
       "    </tr>\n",
       "    <tr>\n",
       "      <th>4</th>\n",
       "      <td>27480866</td>\n",
       "      <td>2021-01-13 02:58:11.697</td>\n",
       "      <td>-4324475583306591935</td>\n",
       "      <td>10.0.52.159</td>\n",
       "      <td>other</td>\n",
       "      <td>500254</td>\n",
       "      <td>VLC/3.0.0-git LibVLC/3.0.0-git</td>\n",
       "      <td>VLC</td>\n",
       "      <td>Other</td>\n",
       "      <td>unknown</td>\n",
       "      <td>0</td>\n",
       "      <td>1</td>\n",
       "      <td>0</td>\n",
       "      <td>2</td>\n",
       "      <td>Wednesday</td>\n",
       "      <td>Night</td>\n",
       "      <td>6</td>\n",
       "      <td>6</td>\n",
       "    </tr>\n",
       "    <tr>\n",
       "      <th>...</th>\n",
       "      <td>...</td>\n",
       "      <td>...</td>\n",
       "      <td>...</td>\n",
       "      <td>...</td>\n",
       "      <td>...</td>\n",
       "      <td>...</td>\n",
       "      <td>...</td>\n",
       "      <td>...</td>\n",
       "      <td>...</td>\n",
       "      <td>...</td>\n",
       "      <td>...</td>\n",
       "      <td>...</td>\n",
       "      <td>...</td>\n",
       "      <td>...</td>\n",
       "      <td>...</td>\n",
       "      <td>...</td>\n",
       "      <td>...</td>\n",
       "      <td>...</td>\n",
       "    </tr>\n",
       "    <tr>\n",
       "      <th>3263</th>\n",
       "      <td>10454433</td>\n",
       "      <td>2020-06-27 15:47:35.743</td>\n",
       "      <td>6710682370423549012</td>\n",
       "      <td>91.233.208.53</td>\n",
       "      <td>other</td>\n",
       "      <td>31559</td>\n",
       "      <td>Mozilla/5.0  (iPhone; CPU iPhone OS 13_4 like ...</td>\n",
       "      <td>Chrome</td>\n",
       "      <td>iOS</td>\n",
       "      <td>mobile</td>\n",
       "      <td>1</td>\n",
       "      <td>0</td>\n",
       "      <td>0</td>\n",
       "      <td>15</td>\n",
       "      <td>Saturday</td>\n",
       "      <td>Afternoon</td>\n",
       "      <td>1</td>\n",
       "      <td>1</td>\n",
       "    </tr>\n",
       "    <tr>\n",
       "      <th>3264</th>\n",
       "      <td>10526408</td>\n",
       "      <td>2020-06-28 15:20:27.822</td>\n",
       "      <td>-1136293028359551315</td>\n",
       "      <td>23.137.225.106</td>\n",
       "      <td>US</td>\n",
       "      <td>393398</td>\n",
       "      <td>Mozilla/5.0  (iPhone; CPU iPhone OS 11_2_6 lik...</td>\n",
       "      <td>Chrome</td>\n",
       "      <td>iOS</td>\n",
       "      <td>mobile</td>\n",
       "      <td>0</td>\n",
       "      <td>0</td>\n",
       "      <td>0</td>\n",
       "      <td>15</td>\n",
       "      <td>Sunday</td>\n",
       "      <td>Afternoon</td>\n",
       "      <td>1</td>\n",
       "      <td>703</td>\n",
       "    </tr>\n",
       "    <tr>\n",
       "      <th>3265</th>\n",
       "      <td>12041296</td>\n",
       "      <td>2020-07-19 06:57:16.841</td>\n",
       "      <td>5140709821083845236</td>\n",
       "      <td>80.232.79.13</td>\n",
       "      <td>NO</td>\n",
       "      <td>25400</td>\n",
       "      <td>Mozilla/5.0  (iPhone; CPU iPhone OS 13_4 like ...</td>\n",
       "      <td>Chrome</td>\n",
       "      <td>iOS</td>\n",
       "      <td>mobile</td>\n",
       "      <td>1</td>\n",
       "      <td>0</td>\n",
       "      <td>0</td>\n",
       "      <td>6</td>\n",
       "      <td>Sunday</td>\n",
       "      <td>Morning</td>\n",
       "      <td>1</td>\n",
       "      <td>33</td>\n",
       "    </tr>\n",
       "    <tr>\n",
       "      <th>3266</th>\n",
       "      <td>8708580</td>\n",
       "      <td>2020-06-03 09:28:56.954</td>\n",
       "      <td>5069369253943453141</td>\n",
       "      <td>91.240.236.172</td>\n",
       "      <td>RO</td>\n",
       "      <td>62350</td>\n",
       "      <td>Mozilla/5.0 (Macintosh; Intel Mac OS X 10_14_6...</td>\n",
       "      <td>Chrome 79.0.3945.192.218</td>\n",
       "      <td>Mac</td>\n",
       "      <td>desktop</td>\n",
       "      <td>1</td>\n",
       "      <td>1</td>\n",
       "      <td>1</td>\n",
       "      <td>9</td>\n",
       "      <td>Wednesday</td>\n",
       "      <td>Morning</td>\n",
       "      <td>5</td>\n",
       "      <td>15</td>\n",
       "    </tr>\n",
       "    <tr>\n",
       "      <th>3267</th>\n",
       "      <td>30677814</td>\n",
       "      <td>2021-02-21 15:53:16.903</td>\n",
       "      <td>6154359082336158419</td>\n",
       "      <td>170.39.76.105</td>\n",
       "      <td>US</td>\n",
       "      <td>393398</td>\n",
       "      <td>Mozilla/5.0  (Linux; Android 4.1; Galaxy Nexus...</td>\n",
       "      <td>Chrome</td>\n",
       "      <td>Android</td>\n",
       "      <td>mobile</td>\n",
       "      <td>1</td>\n",
       "      <td>0</td>\n",
       "      <td>0</td>\n",
       "      <td>15</td>\n",
       "      <td>Sunday</td>\n",
       "      <td>Afternoon</td>\n",
       "      <td>1</td>\n",
       "      <td>703</td>\n",
       "    </tr>\n",
       "  </tbody>\n",
       "</table>\n",
       "<p>3268 rows × 18 columns</p>\n",
       "</div>"
      ]
     },
     "execution_count": 171,
     "metadata": {},
     "output_type": "execute_result"
    }
   ],
   "execution_count": 171
  },
  {
   "metadata": {
    "ExecuteTime": {
     "end_time": "2024-12-30T16:48:37.785172Z",
     "start_time": "2024-12-30T16:48:37.774678Z"
    }
   },
   "cell_type": "code",
   "source": [
    "filtered_columns = ['day',\n",
    "                    'time',\n",
    "                    'ip_connection_count',\n",
    "                    'asn_count',\n",
    "                    'country',\n",
    "                    'os',\n",
    "                    'browser',\n",
    "                    'device',\n",
    "                    'login_success',\n",
    "                   # 'is_attack_ip',\n",
    "                    'is_account_takeover'\n",
    "                    ]\n",
    "data_filtered = data[filtered_columns]\n",
    "data_filtered"
   ],
   "id": "1374b91661efeada",
   "outputs": [
    {
     "data": {
      "text/plain": [
       "            day       time  ip_connection_count  asn_count country       os  \\\n",
       "0     Wednesday      Night                    1        703      US      iOS   \n",
       "1       Tuesday      Night                    1        835      NO  Android   \n",
       "2        Sunday  Afternoon                    1        835      NO      iOS   \n",
       "3      Thursday    Evening                    1        835      NO      iOS   \n",
       "4     Wednesday      Night                    6          6   other    Other   \n",
       "...         ...        ...                  ...        ...     ...      ...   \n",
       "3263   Saturday  Afternoon                    1          1   other      iOS   \n",
       "3264     Sunday  Afternoon                    1        703      US      iOS   \n",
       "3265     Sunday    Morning                    1         33      NO      iOS   \n",
       "3266  Wednesday    Morning                    5         15      RO      Mac   \n",
       "3267     Sunday  Afternoon                    1        703      US  Android   \n",
       "\n",
       "                       browser   device  login_success  is_account_takeover  \n",
       "0                       Chrome   mobile              0                    0  \n",
       "1                      Firefox   mobile              1                    0  \n",
       "2                       Chrome   mobile              1                    0  \n",
       "3                      Android   tablet              1                    0  \n",
       "4                          VLC  unknown              0                    0  \n",
       "...                        ...      ...            ...                  ...  \n",
       "3263                    Chrome   mobile              1                    0  \n",
       "3264                    Chrome   mobile              0                    0  \n",
       "3265                    Chrome   mobile              1                    0  \n",
       "3266  Chrome 79.0.3945.192.218  desktop              1                    1  \n",
       "3267                    Chrome   mobile              1                    0  \n",
       "\n",
       "[3268 rows x 10 columns]"
      ],
      "text/html": [
       "<div>\n",
       "<style scoped>\n",
       "    .dataframe tbody tr th:only-of-type {\n",
       "        vertical-align: middle;\n",
       "    }\n",
       "\n",
       "    .dataframe tbody tr th {\n",
       "        vertical-align: top;\n",
       "    }\n",
       "\n",
       "    .dataframe thead th {\n",
       "        text-align: right;\n",
       "    }\n",
       "</style>\n",
       "<table border=\"1\" class=\"dataframe\">\n",
       "  <thead>\n",
       "    <tr style=\"text-align: right;\">\n",
       "      <th></th>\n",
       "      <th>day</th>\n",
       "      <th>time</th>\n",
       "      <th>ip_connection_count</th>\n",
       "      <th>asn_count</th>\n",
       "      <th>country</th>\n",
       "      <th>os</th>\n",
       "      <th>browser</th>\n",
       "      <th>device</th>\n",
       "      <th>login_success</th>\n",
       "      <th>is_account_takeover</th>\n",
       "    </tr>\n",
       "  </thead>\n",
       "  <tbody>\n",
       "    <tr>\n",
       "      <th>0</th>\n",
       "      <td>Wednesday</td>\n",
       "      <td>Night</td>\n",
       "      <td>1</td>\n",
       "      <td>703</td>\n",
       "      <td>US</td>\n",
       "      <td>iOS</td>\n",
       "      <td>Chrome</td>\n",
       "      <td>mobile</td>\n",
       "      <td>0</td>\n",
       "      <td>0</td>\n",
       "    </tr>\n",
       "    <tr>\n",
       "      <th>1</th>\n",
       "      <td>Tuesday</td>\n",
       "      <td>Night</td>\n",
       "      <td>1</td>\n",
       "      <td>835</td>\n",
       "      <td>NO</td>\n",
       "      <td>Android</td>\n",
       "      <td>Firefox</td>\n",
       "      <td>mobile</td>\n",
       "      <td>1</td>\n",
       "      <td>0</td>\n",
       "    </tr>\n",
       "    <tr>\n",
       "      <th>2</th>\n",
       "      <td>Sunday</td>\n",
       "      <td>Afternoon</td>\n",
       "      <td>1</td>\n",
       "      <td>835</td>\n",
       "      <td>NO</td>\n",
       "      <td>iOS</td>\n",
       "      <td>Chrome</td>\n",
       "      <td>mobile</td>\n",
       "      <td>1</td>\n",
       "      <td>0</td>\n",
       "    </tr>\n",
       "    <tr>\n",
       "      <th>3</th>\n",
       "      <td>Thursday</td>\n",
       "      <td>Evening</td>\n",
       "      <td>1</td>\n",
       "      <td>835</td>\n",
       "      <td>NO</td>\n",
       "      <td>iOS</td>\n",
       "      <td>Android</td>\n",
       "      <td>tablet</td>\n",
       "      <td>1</td>\n",
       "      <td>0</td>\n",
       "    </tr>\n",
       "    <tr>\n",
       "      <th>4</th>\n",
       "      <td>Wednesday</td>\n",
       "      <td>Night</td>\n",
       "      <td>6</td>\n",
       "      <td>6</td>\n",
       "      <td>other</td>\n",
       "      <td>Other</td>\n",
       "      <td>VLC</td>\n",
       "      <td>unknown</td>\n",
       "      <td>0</td>\n",
       "      <td>0</td>\n",
       "    </tr>\n",
       "    <tr>\n",
       "      <th>...</th>\n",
       "      <td>...</td>\n",
       "      <td>...</td>\n",
       "      <td>...</td>\n",
       "      <td>...</td>\n",
       "      <td>...</td>\n",
       "      <td>...</td>\n",
       "      <td>...</td>\n",
       "      <td>...</td>\n",
       "      <td>...</td>\n",
       "      <td>...</td>\n",
       "    </tr>\n",
       "    <tr>\n",
       "      <th>3263</th>\n",
       "      <td>Saturday</td>\n",
       "      <td>Afternoon</td>\n",
       "      <td>1</td>\n",
       "      <td>1</td>\n",
       "      <td>other</td>\n",
       "      <td>iOS</td>\n",
       "      <td>Chrome</td>\n",
       "      <td>mobile</td>\n",
       "      <td>1</td>\n",
       "      <td>0</td>\n",
       "    </tr>\n",
       "    <tr>\n",
       "      <th>3264</th>\n",
       "      <td>Sunday</td>\n",
       "      <td>Afternoon</td>\n",
       "      <td>1</td>\n",
       "      <td>703</td>\n",
       "      <td>US</td>\n",
       "      <td>iOS</td>\n",
       "      <td>Chrome</td>\n",
       "      <td>mobile</td>\n",
       "      <td>0</td>\n",
       "      <td>0</td>\n",
       "    </tr>\n",
       "    <tr>\n",
       "      <th>3265</th>\n",
       "      <td>Sunday</td>\n",
       "      <td>Morning</td>\n",
       "      <td>1</td>\n",
       "      <td>33</td>\n",
       "      <td>NO</td>\n",
       "      <td>iOS</td>\n",
       "      <td>Chrome</td>\n",
       "      <td>mobile</td>\n",
       "      <td>1</td>\n",
       "      <td>0</td>\n",
       "    </tr>\n",
       "    <tr>\n",
       "      <th>3266</th>\n",
       "      <td>Wednesday</td>\n",
       "      <td>Morning</td>\n",
       "      <td>5</td>\n",
       "      <td>15</td>\n",
       "      <td>RO</td>\n",
       "      <td>Mac</td>\n",
       "      <td>Chrome 79.0.3945.192.218</td>\n",
       "      <td>desktop</td>\n",
       "      <td>1</td>\n",
       "      <td>1</td>\n",
       "    </tr>\n",
       "    <tr>\n",
       "      <th>3267</th>\n",
       "      <td>Sunday</td>\n",
       "      <td>Afternoon</td>\n",
       "      <td>1</td>\n",
       "      <td>703</td>\n",
       "      <td>US</td>\n",
       "      <td>Android</td>\n",
       "      <td>Chrome</td>\n",
       "      <td>mobile</td>\n",
       "      <td>1</td>\n",
       "      <td>0</td>\n",
       "    </tr>\n",
       "  </tbody>\n",
       "</table>\n",
       "<p>3268 rows × 10 columns</p>\n",
       "</div>"
      ]
     },
     "execution_count": 172,
     "metadata": {},
     "output_type": "execute_result"
    }
   ],
   "execution_count": 172
  },
  {
   "metadata": {},
   "cell_type": "markdown",
   "source": "### Encoding Categorical Data",
   "id": "4f1b4f45fa30774d"
  },
  {
   "metadata": {
    "ExecuteTime": {
     "end_time": "2024-12-30T16:48:37.919058Z",
     "start_time": "2024-12-30T16:48:37.909884Z"
    }
   },
   "cell_type": "code",
   "source": [
    "hot_encoded = ['os', 'browser', 'device', 'time', 'day', 'country']\n",
    "data_filtered = pd.get_dummies(data_filtered, columns=hot_encoded)\n",
    "data_filtered = data_filtered.astype(int)"
   ],
   "id": "14db4f5d500d06c5",
   "outputs": [],
   "execution_count": 173
  },
  {
   "metadata": {
    "ExecuteTime": {
     "end_time": "2024-12-30T16:48:37.978352Z",
     "start_time": "2024-12-30T16:48:37.968362Z"
    }
   },
   "cell_type": "code",
   "source": "data_filtered.info()",
   "id": "622528893f3d25b",
   "outputs": [
    {
     "name": "stdout",
     "output_type": "stream",
     "text": [
      "<class 'pandas.core.frame.DataFrame'>\n",
      "RangeIndex: 3268 entries, 0 to 3267\n",
      "Data columns (total 45 columns):\n",
      " #   Column                            Non-Null Count  Dtype\n",
      "---  ------                            --------------  -----\n",
      " 0   ip_connection_count               3268 non-null   int64\n",
      " 1   asn_count                         3268 non-null   int64\n",
      " 2   login_success                     3268 non-null   int64\n",
      " 3   is_account_takeover               3268 non-null   int64\n",
      " 4   os_Android                        3268 non-null   int64\n",
      " 5   os_Chrome                         3268 non-null   int64\n",
      " 6   os_Chromecast                     3268 non-null   int64\n",
      " 7   os_KaiOS                          3268 non-null   int64\n",
      " 8   os_Mac                            3268 non-null   int64\n",
      " 9   os_Other                          3268 non-null   int64\n",
      " 10  os_Windows                        3268 non-null   int64\n",
      " 11  os_iOS                            3268 non-null   int64\n",
      " 12  os_other                          3268 non-null   int64\n",
      " 13  browser_Android                   3268 non-null   int64\n",
      " 14  browser_Chrome                    3268 non-null   int64\n",
      " 15  browser_Chrome 79.0.3945.192.218  3268 non-null   int64\n",
      " 16  browser_Firefox                   3268 non-null   int64\n",
      " 17  browser_Mobile                    3268 non-null   int64\n",
      " 18  browser_Opera                     3268 non-null   int64\n",
      " 19  browser_VLC                       3268 non-null   int64\n",
      " 20  browser_ZipppBot                  3268 non-null   int64\n",
      " 21  browser_other                     3268 non-null   int64\n",
      " 22  device_bot                        3268 non-null   int64\n",
      " 23  device_desktop                    3268 non-null   int64\n",
      " 24  device_mobile                     3268 non-null   int64\n",
      " 25  device_tablet                     3268 non-null   int64\n",
      " 26  device_unknown                    3268 non-null   int64\n",
      " 27  time_Afternoon                    3268 non-null   int64\n",
      " 28  time_Evening                      3268 non-null   int64\n",
      " 29  time_Morning                      3268 non-null   int64\n",
      " 30  time_Night                        3268 non-null   int64\n",
      " 31  day_Friday                        3268 non-null   int64\n",
      " 32  day_Monday                        3268 non-null   int64\n",
      " 33  day_Saturday                      3268 non-null   int64\n",
      " 34  day_Sunday                        3268 non-null   int64\n",
      " 35  day_Thursday                      3268 non-null   int64\n",
      " 36  day_Tuesday                       3268 non-null   int64\n",
      " 37  day_Wednesday                     3268 non-null   int64\n",
      " 38  country_BR                        3268 non-null   int64\n",
      " 39  country_NO                        3268 non-null   int64\n",
      " 40  country_PL                        3268 non-null   int64\n",
      " 41  country_RO                        3268 non-null   int64\n",
      " 42  country_RU                        3268 non-null   int64\n",
      " 43  country_US                        3268 non-null   int64\n",
      " 44  country_other                     3268 non-null   int64\n",
      "dtypes: int64(45)\n",
      "memory usage: 1.1 MB\n"
     ]
    }
   ],
   "execution_count": 174
  },
  {
   "metadata": {},
   "cell_type": "markdown",
   "source": "### The problem of imbalanced data",
   "id": "a9da65910f2d9bd9"
  },
  {
   "metadata": {
    "ExecuteTime": {
     "end_time": "2024-12-30T16:48:38.100379Z",
     "start_time": "2024-12-30T16:48:38.095696Z"
    }
   },
   "cell_type": "code",
   "source": [
    "value_counts = data_filtered['is_account_takeover'].value_counts()\n",
    "value_counts"
   ],
   "id": "b921d15e2196ec96",
   "outputs": [
    {
     "data": {
      "text/plain": [
       "is_account_takeover\n",
       "0    3127\n",
       "1     141\n",
       "Name: count, dtype: int64"
      ]
     },
     "execution_count": 175,
     "metadata": {},
     "output_type": "execute_result"
    }
   ],
   "execution_count": 175
  },
  {
   "metadata": {
    "ExecuteTime": {
     "end_time": "2024-12-30T16:48:38.193114Z",
     "start_time": "2024-12-30T16:48:38.180628Z"
    }
   },
   "cell_type": "code",
   "source": "data_filtered",
   "id": "4f912c543936ebff",
   "outputs": [
    {
     "data": {
      "text/plain": [
       "      ip_connection_count  asn_count  login_success  is_account_takeover  \\\n",
       "0                       1        703              0                    0   \n",
       "1                       1        835              1                    0   \n",
       "2                       1        835              1                    0   \n",
       "3                       1        835              1                    0   \n",
       "4                       6          6              0                    0   \n",
       "...                   ...        ...            ...                  ...   \n",
       "3263                    1          1              1                    0   \n",
       "3264                    1        703              0                    0   \n",
       "3265                    1         33              1                    0   \n",
       "3266                    5         15              1                    1   \n",
       "3267                    1        703              1                    0   \n",
       "\n",
       "      os_Android  os_Chrome  os_Chromecast  os_KaiOS  os_Mac  os_Other  ...  \\\n",
       "0              0          0              0         0       0         0  ...   \n",
       "1              1          0              0         0       0         0  ...   \n",
       "2              0          0              0         0       0         0  ...   \n",
       "3              0          0              0         0       0         0  ...   \n",
       "4              0          0              0         0       0         1  ...   \n",
       "...          ...        ...            ...       ...     ...       ...  ...   \n",
       "3263           0          0              0         0       0         0  ...   \n",
       "3264           0          0              0         0       0         0  ...   \n",
       "3265           0          0              0         0       0         0  ...   \n",
       "3266           0          0              0         0       1         0  ...   \n",
       "3267           1          0              0         0       0         0  ...   \n",
       "\n",
       "      day_Thursday  day_Tuesday  day_Wednesday  country_BR  country_NO  \\\n",
       "0                0            0              1           0           0   \n",
       "1                0            1              0           0           1   \n",
       "2                0            0              0           0           1   \n",
       "3                1            0              0           0           1   \n",
       "4                0            0              1           0           0   \n",
       "...            ...          ...            ...         ...         ...   \n",
       "3263             0            0              0           0           0   \n",
       "3264             0            0              0           0           0   \n",
       "3265             0            0              0           0           1   \n",
       "3266             0            0              1           0           0   \n",
       "3267             0            0              0           0           0   \n",
       "\n",
       "      country_PL  country_RO  country_RU  country_US  country_other  \n",
       "0              0           0           0           1              0  \n",
       "1              0           0           0           0              0  \n",
       "2              0           0           0           0              0  \n",
       "3              0           0           0           0              0  \n",
       "4              0           0           0           0              1  \n",
       "...          ...         ...         ...         ...            ...  \n",
       "3263           0           0           0           0              1  \n",
       "3264           0           0           0           1              0  \n",
       "3265           0           0           0           0              0  \n",
       "3266           0           1           0           0              0  \n",
       "3267           0           0           0           1              0  \n",
       "\n",
       "[3268 rows x 45 columns]"
      ],
      "text/html": [
       "<div>\n",
       "<style scoped>\n",
       "    .dataframe tbody tr th:only-of-type {\n",
       "        vertical-align: middle;\n",
       "    }\n",
       "\n",
       "    .dataframe tbody tr th {\n",
       "        vertical-align: top;\n",
       "    }\n",
       "\n",
       "    .dataframe thead th {\n",
       "        text-align: right;\n",
       "    }\n",
       "</style>\n",
       "<table border=\"1\" class=\"dataframe\">\n",
       "  <thead>\n",
       "    <tr style=\"text-align: right;\">\n",
       "      <th></th>\n",
       "      <th>ip_connection_count</th>\n",
       "      <th>asn_count</th>\n",
       "      <th>login_success</th>\n",
       "      <th>is_account_takeover</th>\n",
       "      <th>os_Android</th>\n",
       "      <th>os_Chrome</th>\n",
       "      <th>os_Chromecast</th>\n",
       "      <th>os_KaiOS</th>\n",
       "      <th>os_Mac</th>\n",
       "      <th>os_Other</th>\n",
       "      <th>...</th>\n",
       "      <th>day_Thursday</th>\n",
       "      <th>day_Tuesday</th>\n",
       "      <th>day_Wednesday</th>\n",
       "      <th>country_BR</th>\n",
       "      <th>country_NO</th>\n",
       "      <th>country_PL</th>\n",
       "      <th>country_RO</th>\n",
       "      <th>country_RU</th>\n",
       "      <th>country_US</th>\n",
       "      <th>country_other</th>\n",
       "    </tr>\n",
       "  </thead>\n",
       "  <tbody>\n",
       "    <tr>\n",
       "      <th>0</th>\n",
       "      <td>1</td>\n",
       "      <td>703</td>\n",
       "      <td>0</td>\n",
       "      <td>0</td>\n",
       "      <td>0</td>\n",
       "      <td>0</td>\n",
       "      <td>0</td>\n",
       "      <td>0</td>\n",
       "      <td>0</td>\n",
       "      <td>0</td>\n",
       "      <td>...</td>\n",
       "      <td>0</td>\n",
       "      <td>0</td>\n",
       "      <td>1</td>\n",
       "      <td>0</td>\n",
       "      <td>0</td>\n",
       "      <td>0</td>\n",
       "      <td>0</td>\n",
       "      <td>0</td>\n",
       "      <td>1</td>\n",
       "      <td>0</td>\n",
       "    </tr>\n",
       "    <tr>\n",
       "      <th>1</th>\n",
       "      <td>1</td>\n",
       "      <td>835</td>\n",
       "      <td>1</td>\n",
       "      <td>0</td>\n",
       "      <td>1</td>\n",
       "      <td>0</td>\n",
       "      <td>0</td>\n",
       "      <td>0</td>\n",
       "      <td>0</td>\n",
       "      <td>0</td>\n",
       "      <td>...</td>\n",
       "      <td>0</td>\n",
       "      <td>1</td>\n",
       "      <td>0</td>\n",
       "      <td>0</td>\n",
       "      <td>1</td>\n",
       "      <td>0</td>\n",
       "      <td>0</td>\n",
       "      <td>0</td>\n",
       "      <td>0</td>\n",
       "      <td>0</td>\n",
       "    </tr>\n",
       "    <tr>\n",
       "      <th>2</th>\n",
       "      <td>1</td>\n",
       "      <td>835</td>\n",
       "      <td>1</td>\n",
       "      <td>0</td>\n",
       "      <td>0</td>\n",
       "      <td>0</td>\n",
       "      <td>0</td>\n",
       "      <td>0</td>\n",
       "      <td>0</td>\n",
       "      <td>0</td>\n",
       "      <td>...</td>\n",
       "      <td>0</td>\n",
       "      <td>0</td>\n",
       "      <td>0</td>\n",
       "      <td>0</td>\n",
       "      <td>1</td>\n",
       "      <td>0</td>\n",
       "      <td>0</td>\n",
       "      <td>0</td>\n",
       "      <td>0</td>\n",
       "      <td>0</td>\n",
       "    </tr>\n",
       "    <tr>\n",
       "      <th>3</th>\n",
       "      <td>1</td>\n",
       "      <td>835</td>\n",
       "      <td>1</td>\n",
       "      <td>0</td>\n",
       "      <td>0</td>\n",
       "      <td>0</td>\n",
       "      <td>0</td>\n",
       "      <td>0</td>\n",
       "      <td>0</td>\n",
       "      <td>0</td>\n",
       "      <td>...</td>\n",
       "      <td>1</td>\n",
       "      <td>0</td>\n",
       "      <td>0</td>\n",
       "      <td>0</td>\n",
       "      <td>1</td>\n",
       "      <td>0</td>\n",
       "      <td>0</td>\n",
       "      <td>0</td>\n",
       "      <td>0</td>\n",
       "      <td>0</td>\n",
       "    </tr>\n",
       "    <tr>\n",
       "      <th>4</th>\n",
       "      <td>6</td>\n",
       "      <td>6</td>\n",
       "      <td>0</td>\n",
       "      <td>0</td>\n",
       "      <td>0</td>\n",
       "      <td>0</td>\n",
       "      <td>0</td>\n",
       "      <td>0</td>\n",
       "      <td>0</td>\n",
       "      <td>1</td>\n",
       "      <td>...</td>\n",
       "      <td>0</td>\n",
       "      <td>0</td>\n",
       "      <td>1</td>\n",
       "      <td>0</td>\n",
       "      <td>0</td>\n",
       "      <td>0</td>\n",
       "      <td>0</td>\n",
       "      <td>0</td>\n",
       "      <td>0</td>\n",
       "      <td>1</td>\n",
       "    </tr>\n",
       "    <tr>\n",
       "      <th>...</th>\n",
       "      <td>...</td>\n",
       "      <td>...</td>\n",
       "      <td>...</td>\n",
       "      <td>...</td>\n",
       "      <td>...</td>\n",
       "      <td>...</td>\n",
       "      <td>...</td>\n",
       "      <td>...</td>\n",
       "      <td>...</td>\n",
       "      <td>...</td>\n",
       "      <td>...</td>\n",
       "      <td>...</td>\n",
       "      <td>...</td>\n",
       "      <td>...</td>\n",
       "      <td>...</td>\n",
       "      <td>...</td>\n",
       "      <td>...</td>\n",
       "      <td>...</td>\n",
       "      <td>...</td>\n",
       "      <td>...</td>\n",
       "      <td>...</td>\n",
       "    </tr>\n",
       "    <tr>\n",
       "      <th>3263</th>\n",
       "      <td>1</td>\n",
       "      <td>1</td>\n",
       "      <td>1</td>\n",
       "      <td>0</td>\n",
       "      <td>0</td>\n",
       "      <td>0</td>\n",
       "      <td>0</td>\n",
       "      <td>0</td>\n",
       "      <td>0</td>\n",
       "      <td>0</td>\n",
       "      <td>...</td>\n",
       "      <td>0</td>\n",
       "      <td>0</td>\n",
       "      <td>0</td>\n",
       "      <td>0</td>\n",
       "      <td>0</td>\n",
       "      <td>0</td>\n",
       "      <td>0</td>\n",
       "      <td>0</td>\n",
       "      <td>0</td>\n",
       "      <td>1</td>\n",
       "    </tr>\n",
       "    <tr>\n",
       "      <th>3264</th>\n",
       "      <td>1</td>\n",
       "      <td>703</td>\n",
       "      <td>0</td>\n",
       "      <td>0</td>\n",
       "      <td>0</td>\n",
       "      <td>0</td>\n",
       "      <td>0</td>\n",
       "      <td>0</td>\n",
       "      <td>0</td>\n",
       "      <td>0</td>\n",
       "      <td>...</td>\n",
       "      <td>0</td>\n",
       "      <td>0</td>\n",
       "      <td>0</td>\n",
       "      <td>0</td>\n",
       "      <td>0</td>\n",
       "      <td>0</td>\n",
       "      <td>0</td>\n",
       "      <td>0</td>\n",
       "      <td>1</td>\n",
       "      <td>0</td>\n",
       "    </tr>\n",
       "    <tr>\n",
       "      <th>3265</th>\n",
       "      <td>1</td>\n",
       "      <td>33</td>\n",
       "      <td>1</td>\n",
       "      <td>0</td>\n",
       "      <td>0</td>\n",
       "      <td>0</td>\n",
       "      <td>0</td>\n",
       "      <td>0</td>\n",
       "      <td>0</td>\n",
       "      <td>0</td>\n",
       "      <td>...</td>\n",
       "      <td>0</td>\n",
       "      <td>0</td>\n",
       "      <td>0</td>\n",
       "      <td>0</td>\n",
       "      <td>1</td>\n",
       "      <td>0</td>\n",
       "      <td>0</td>\n",
       "      <td>0</td>\n",
       "      <td>0</td>\n",
       "      <td>0</td>\n",
       "    </tr>\n",
       "    <tr>\n",
       "      <th>3266</th>\n",
       "      <td>5</td>\n",
       "      <td>15</td>\n",
       "      <td>1</td>\n",
       "      <td>1</td>\n",
       "      <td>0</td>\n",
       "      <td>0</td>\n",
       "      <td>0</td>\n",
       "      <td>0</td>\n",
       "      <td>1</td>\n",
       "      <td>0</td>\n",
       "      <td>...</td>\n",
       "      <td>0</td>\n",
       "      <td>0</td>\n",
       "      <td>1</td>\n",
       "      <td>0</td>\n",
       "      <td>0</td>\n",
       "      <td>0</td>\n",
       "      <td>1</td>\n",
       "      <td>0</td>\n",
       "      <td>0</td>\n",
       "      <td>0</td>\n",
       "    </tr>\n",
       "    <tr>\n",
       "      <th>3267</th>\n",
       "      <td>1</td>\n",
       "      <td>703</td>\n",
       "      <td>1</td>\n",
       "      <td>0</td>\n",
       "      <td>1</td>\n",
       "      <td>0</td>\n",
       "      <td>0</td>\n",
       "      <td>0</td>\n",
       "      <td>0</td>\n",
       "      <td>0</td>\n",
       "      <td>...</td>\n",
       "      <td>0</td>\n",
       "      <td>0</td>\n",
       "      <td>0</td>\n",
       "      <td>0</td>\n",
       "      <td>0</td>\n",
       "      <td>0</td>\n",
       "      <td>0</td>\n",
       "      <td>0</td>\n",
       "      <td>1</td>\n",
       "      <td>0</td>\n",
       "    </tr>\n",
       "  </tbody>\n",
       "</table>\n",
       "<p>3268 rows × 45 columns</p>\n",
       "</div>"
      ]
     },
     "execution_count": 176,
     "metadata": {},
     "output_type": "execute_result"
    }
   ],
   "execution_count": 176
  },
  {
   "metadata": {
    "ExecuteTime": {
     "end_time": "2024-12-30T16:48:38.274664Z",
     "start_time": "2024-12-30T16:48:38.270498Z"
    }
   },
   "cell_type": "code",
   "source": [
    "attack_percentage = (value_counts.get(1, 0) / value_counts.sum()) * 100\n",
    "attack_percentage"
   ],
   "id": "6633f8924e55a860",
   "outputs": [
    {
     "data": {
      "text/plain": [
       "np.float64(4.314565483476132)"
      ]
     },
     "execution_count": 177,
     "metadata": {},
     "output_type": "execute_result"
    }
   ],
   "execution_count": 177
  },
  {
   "metadata": {},
   "cell_type": "markdown",
   "source": "## Training Model",
   "id": "464d6f87eaf4efa6"
  },
  {
   "metadata": {
    "ExecuteTime": {
     "end_time": "2024-12-30T16:48:38.391519Z",
     "start_time": "2024-12-30T16:48:38.387721Z"
    }
   },
   "cell_type": "code",
   "source": [
    "X = data_filtered.drop(['is_account_takeover'], axis=1)\n",
    "Y = data_filtered['is_account_takeover']"
   ],
   "id": "d3169719a331da99",
   "outputs": [],
   "execution_count": 178
  },
  {
   "metadata": {
    "ExecuteTime": {
     "end_time": "2024-12-30T16:48:38.456939Z",
     "start_time": "2024-12-30T16:48:38.452557Z"
    }
   },
   "cell_type": "code",
   "source": "Y.value_counts()",
   "id": "8003d846e20549c4",
   "outputs": [
    {
     "data": {
      "text/plain": [
       "is_account_takeover\n",
       "0    3127\n",
       "1     141\n",
       "Name: count, dtype: int64"
      ]
     },
     "execution_count": 179,
     "metadata": {},
     "output_type": "execute_result"
    }
   ],
   "execution_count": 179
  },
  {
   "metadata": {
    "ExecuteTime": {
     "end_time": "2024-12-30T16:49:08.789339Z",
     "start_time": "2024-12-30T16:48:38.564360Z"
    }
   },
   "cell_type": "code",
   "source": [
    "from warnings import filterwarnings\n",
    "from sklearn.svm import SVC\n",
    "from sklearn.model_selection import KFold\n",
    "from imblearn.over_sampling import SMOTE\n",
    "from sklearn.metrics import recall_score, precision_score, accuracy_score, f1_score ,confusion_matrix\n",
    "import numpy as np\n",
    "import seaborn as sns\n",
    "import matplotlib.pyplot as plt\n",
    "\n",
    "filterwarnings('ignore')\n",
    "n_splits = 5\n",
    "\n",
    "kf = KFold(n_splits=n_splits, shuffle=True, random_state=RANDOM_STATE)\n",
    "\n",
    "recall_scores = []\n",
    "precisions = []\n",
    "f1_scores = []\n",
    "accuracies = []\n",
    "conf_matrices = []\n",
    "\n",
    "for fold, (train_index, test_index) in enumerate(kf.split(X), 1):\n",
    "    X_train, X_test = X.iloc[train_index], X.iloc[test_index]\n",
    "    y_train, y_test = Y.iloc[train_index], Y.iloc[test_index]\n",
    "\n",
    "    sm = SMOTE(sampling_strategy=0.5, k_neighbors=5, random_state=RANDOM_STATE)\n",
    "    X_train_oversampled, y_train_oversampled = sm.fit_resample(X_train, y_train)\n",
    "\n",
    "    model = SVC(kernel='linear', random_state=RANDOM_STATE, class_weight='balanced')\n",
    "    model.fit(X_train_oversampled, y_train_oversampled)\n",
    "\n",
    "    y_pred = model.predict(X_test)\n",
    "\n",
    "    fold_recall = recall_score(y_test, y_pred, average='binary')\n",
    "    fold_precision = precision_score(y_test, y_pred, average='binary')\n",
    "    fold_f1 = f1_score(y_test, y_pred, average='binary')\n",
    "    fold_accuracy = accuracy_score(y_test, y_pred)\n",
    "    recall_scores.append(fold_recall)\n",
    "    precisions.append(fold_precision)\n",
    "    f1_scores.append(fold_f1)\n",
    "    accuracies.append(fold_accuracy)\n",
    "\n",
    "    cm = confusion_matrix(y_test, y_pred)\n",
    "    conf_matrices.append(cm)\n",
    "\n",
    "    print(f\"Fold {fold}:\")\n",
    "    print(f\"Recall: {fold_recall:.2f}\")\n",
    "    print(f\"Precision: {fold_precision:.2f}\")\n",
    "    print(f\"Accuracy: {fold_accuracy:.2f}\")\n",
    "    print(f\"F1 Score: {fold_f1:.2f}\")\n",
    "    print(\"-\" * 30)\n",
    "\n",
    "print(f\"Average Recall: {np.mean(recall_scores):.2f}\")\n",
    "print(f\"Average Precision: {np.mean(precisions):.2f}\")\n",
    "print(f\"Average Accuracy: {np.mean(accuracies):.2f}\")\n",
    "print(f\"Average F1 Score: {np.mean(f1_scores):.2f}\")\n"
   ],
   "id": "3bf6af8644d49b22",
   "outputs": [
    {
     "name": "stdout",
     "output_type": "stream",
     "text": [
      "Fold 1:\n",
      "Recall: 0.78\n",
      "Precision: 1.00\n",
      "Accuracy: 0.99\n",
      "F1 Score: 0.88\n",
      "------------------------------\n",
      "Fold 2:\n",
      "Recall: 0.73\n",
      "Precision: 0.96\n",
      "Accuracy: 0.99\n",
      "F1 Score: 0.83\n",
      "------------------------------\n",
      "Fold 3:\n",
      "Recall: 0.83\n",
      "Precision: 1.00\n",
      "Accuracy: 0.99\n",
      "F1 Score: 0.90\n",
      "------------------------------\n",
      "Fold 4:\n",
      "Recall: 0.81\n",
      "Precision: 0.93\n",
      "Accuracy: 0.99\n",
      "F1 Score: 0.86\n",
      "------------------------------\n",
      "Fold 5:\n",
      "Recall: 0.88\n",
      "Precision: 0.97\n",
      "Accuracy: 0.99\n",
      "F1 Score: 0.92\n",
      "------------------------------\n",
      "Average Recall: 0.81\n",
      "Average Precision: 0.97\n",
      "Average Accuracy: 0.99\n",
      "Average F1 Score: 0.88\n"
     ]
    }
   ],
   "execution_count": 180
  },
  {
   "metadata": {
    "ExecuteTime": {
     "end_time": "2024-12-30T16:49:09.286750Z",
     "start_time": "2024-12-30T16:49:08.814885Z"
    }
   },
   "cell_type": "code",
   "source": [
    "for i, cm in enumerate(conf_matrices, 1):\n",
    "    plt.figure(figsize=(6, 4))\n",
    "    sns.heatmap(cm, annot=True, fmt='d', cmap='Blues')\n",
    "    plt.title(f'Confusion Matrix - Fold {i}')\n",
    "    plt.xlabel('Predicted')\n",
    "    plt.ylabel('Actual')\n",
    "    plt.show()"
   ],
   "id": "ad101ddd81dd829b",
   "outputs": [
    {
     "data": {
      "text/plain": [
       "<Figure size 600x400 with 2 Axes>"
      ],
      "image/png": "[encoded data removed]"
     },
     "metadata": {},
     "output_type": "display_data"
    },
    {
     "data": {
      "text/plain": [
       "<Figure size 600x400 with 2 Axes>"
      ],
      "image/png": "[encoded data removed]"
     },
     "metadata": {},
     "output_type": "display_data"
    },
    {
     "data": {
      "text/plain": [
       "<Figure size 600x400 with 2 Axes>"
      ],
      "image/png": "[encoded data removed]"
     },
     "metadata": {},
     "output_type": "display_data"
    },
    {
     "data": {
      "text/plain": [
       "<Figure size 600x400 with 2 Axes>"
      ],
      "image/png": "[encoded data removed]"
     },
     "metadata": {},
     "output_type": "display_data"
    },
    {
     "data": {
      "text/plain": [
       "<Figure size 600x400 with 2 Axes>"
      ],
      "image/png": "[encoded data removed]"
     },
     "metadata": {},
     "output_type": "display_data"
    }
   ],
   "execution_count": 181
  }
 ],
 "metadata": {
  "kernelspec": {
   "display_name": ".conda",
   "language": "python",
   "name": "python3"
  },
  "language_info": {
   "codemirror_mode": {
    "name": "ipython",
    "version": 3
   },
   "file_extension": ".py",
   "mimetype": "text/x-python",
   "name": "python",
   "nbconvert_exporter": "python",
   "pygments_lexer": "ipython3",
   "version": "3.11.10"
  }
 },
 "nbformat": 4,
 "nbformat_minor": 5
}
