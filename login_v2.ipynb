{
 "cells": [
  {
   "cell_type": "markdown",
   "id": "438cd21c-f152-4738-b8d4-375c2aa1f859",
   "metadata": {},
   "source": "# Risk Based Access Control : Machine Learning for Identity Threat Detection v2"
  },
  {
   "metadata": {
    "ExecuteTime": {
     "end_time": "2024-12-17T15:30:38.643850Z",
     "start_time": "2024-12-17T15:30:38.640106Z"
    }
   },
   "cell_type": "code",
   "source": "RANDOM_STATE = 42",
   "id": "1bebd6d979a23b8",
   "outputs": [],
   "execution_count": 250
  },
  {
   "cell_type": "markdown",
   "id": "9847cd61-73fa-44ff-b393-b7c29d999ff5",
   "metadata": {},
   "source": "## Loading and renaming data"
  },
  {
   "cell_type": "code",
   "id": "bf88b3c2-df79-4aa2-a760-034d2698db00",
   "metadata": {
    "jupyter": {
     "source_hidden": true
    },
    "ExecuteTime": {
     "end_time": "2024-12-17T15:30:38.692199Z",
     "start_time": "2024-12-17T15:30:38.689155Z"
    }
   },
   "source": "import pandas as pd\n",
   "outputs": [],
   "execution_count": 251
  },
  {
   "cell_type": "code",
   "id": "e0389ea9-2049-473d-bd0f-f9f6890afb95",
   "metadata": {
    "ExecuteTime": {
     "end_time": "2024-12-17T15:32:46.852580Z",
     "start_time": "2024-12-17T15:30:38.876069Z"
    }
   },
   "source": [
    "import pandas as pd\n",
    "\n",
    "chunk_size = 1000000\n",
    "chunks = []\n",
    "sample_fraction_majority = 0.01\n",
    "sample_fraction_minority = 1\n",
    "RANDOM_STATE = 42\n",
    "\n",
    "for i, chunk in enumerate(pd.read_csv(\"data/rba-dataset.csv\", chunksize=chunk_size)):\n",
    "    minority_class = chunk[chunk[\"Is Account Takeover\"] == True]\n",
    "    majority_class = chunk[chunk[\"Is Account Takeover\"] == False]\n",
    "\n",
    "    sampled_minority = minority_class.sample(frac=sample_fraction_minority, random_state=RANDOM_STATE)\n",
    "    sampled_majority = majority_class.sample(frac=sample_fraction_majority, random_state=RANDOM_STATE)\n",
    "\n",
    "    combined_sample = pd.concat([sampled_minority, sampled_majority], axis=0)\n",
    "    chunks.append(combined_sample)\n",
    "\n",
    "    print(f\"chunk {i} processed\")\n",
    "\n",
    "data = pd.concat(chunks, axis=0)\n",
    "\n",
    "data = data.sample(frac=1, random_state=RANDOM_STATE).reset_index(drop=True)\n",
    "\n",
    "data.head()"
   ],
   "outputs": [
    {
     "name": "stdout",
     "output_type": "stream",
     "text": [
      "chunk 0 processed\n",
      "chunk 1 processed\n",
      "chunk 2 processed\n",
      "chunk 3 processed\n",
      "chunk 4 processed\n",
      "chunk 5 processed\n",
      "chunk 6 processed\n",
      "chunk 7 processed\n",
      "chunk 8 processed\n",
      "chunk 9 processed\n",
      "chunk 10 processed\n",
      "chunk 11 processed\n",
      "chunk 12 processed\n",
      "chunk 13 processed\n",
      "chunk 14 processed\n",
      "chunk 15 processed\n",
      "chunk 16 processed\n",
      "chunk 17 processed\n",
      "chunk 18 processed\n",
      "chunk 19 processed\n",
      "chunk 20 processed\n",
      "chunk 21 processed\n",
      "chunk 22 processed\n",
      "chunk 23 processed\n",
      "chunk 24 processed\n",
      "chunk 25 processed\n",
      "chunk 26 processed\n",
      "chunk 27 processed\n",
      "chunk 28 processed\n",
      "chunk 29 processed\n",
      "chunk 30 processed\n",
      "chunk 31 processed\n"
     ]
    },
    {
     "data": {
      "text/plain": [
       "      index          Login Timestamp              User ID  \\\n",
       "0  18772391  2020-10-20 18:59:35.329 -4324475583306591935   \n",
       "1   7930838  2020-05-22 11:20:46.696 -9158722628840289273   \n",
       "2  28390433  2021-01-23 16:31:55.322  4432628985308499079   \n",
       "3   3090501  2020-03-16 14:24:46.628 -4324475583306591935   \n",
       "4  29828901  2021-02-10 10:40:40.931 -4324475583306591935   \n",
       "\n",
       "   Round-Trip Time [ms]      IP Address Country            Region       City  \\\n",
       "0                   NaN   51.175.224.92      NO       Oslo County       Oslo   \n",
       "1                 490.0    80.232.87.86      NO       Oslo County       Oslo   \n",
       "2                   NaN  84.234.232.132      NO          Rogaland  Hommersak   \n",
       "3                   NaN   185.19.116.76      PL  Łódź Voivodeship   Radomsko   \n",
       "4                   NaN    10.0.181.224      CH                 -          -   \n",
       "\n",
       "      ASN                                  User Agent String  \\\n",
       "0   29695  Mozilla/5.0 (Macintosh; Intel Mac OS X 10_14_6...   \n",
       "1   25400  Mozilla/5.0 (Linux; U; Android 13.0; i phone X...   \n",
       "2   29695  Mozilla/5.0  (iPhone; CPU iPhone OS 11_2_6 lik...   \n",
       "3   49528  Mozilla/5.0  (X11; CrOS armv7l 5978.98.0) Appl...   \n",
       "4  262582  Mozilla/5.0  (Macintosh; Intel Mac OS X 11_6_3...   \n",
       "\n",
       "   Browser Name and Version  OS Name and Version Device Type  \\\n",
       "0    Chrome 69.0.3497.17.21     Mac OS X 10.14.6     desktop   \n",
       "1    Opera Mobile 52.1.2254         Android 13.0      mobile   \n",
       "2       Firefox 20.0.0.1602           iOS 11.2.6      mobile   \n",
       "3  Chrome 79.0.3945.192.201  Chrome OS 5978.98.0     desktop   \n",
       "4       Chrome 72.0.3626.82      Mac OS X 11.6.3     desktop   \n",
       "\n",
       "   Login Successful  Is Attack IP  Is Account Takeover  \n",
       "0             False         False                False  \n",
       "1              True         False                False  \n",
       "2             False         False                False  \n",
       "3             False         False                False  \n",
       "4             False         False                False  "
      ],
      "text/html": [
       "<div>\n",
       "<style scoped>\n",
       "    .dataframe tbody tr th:only-of-type {\n",
       "        vertical-align: middle;\n",
       "    }\n",
       "\n",
       "    .dataframe tbody tr th {\n",
       "        vertical-align: top;\n",
       "    }\n",
       "\n",
       "    .dataframe thead th {\n",
       "        text-align: right;\n",
       "    }\n",
       "</style>\n",
       "<table border=\"1\" class=\"dataframe\">\n",
       "  <thead>\n",
       "    <tr style=\"text-align: right;\">\n",
       "      <th></th>\n",
       "      <th>index</th>\n",
       "      <th>Login Timestamp</th>\n",
       "      <th>User ID</th>\n",
       "      <th>Round-Trip Time [ms]</th>\n",
       "      <th>IP Address</th>\n",
       "      <th>Country</th>\n",
       "      <th>Region</th>\n",
       "      <th>City</th>\n",
       "      <th>ASN</th>\n",
       "      <th>User Agent String</th>\n",
       "      <th>Browser Name and Version</th>\n",
       "      <th>OS Name and Version</th>\n",
       "      <th>Device Type</th>\n",
       "      <th>Login Successful</th>\n",
       "      <th>Is Attack IP</th>\n",
       "      <th>Is Account Takeover</th>\n",
       "    </tr>\n",
       "  </thead>\n",
       "  <tbody>\n",
       "    <tr>\n",
       "      <th>0</th>\n",
       "      <td>18772391</td>\n",
       "      <td>2020-10-20 18:59:35.329</td>\n",
       "      <td>-4324475583306591935</td>\n",
       "      <td>NaN</td>\n",
       "      <td>51.175.224.92</td>\n",
       "      <td>NO</td>\n",
       "      <td>Oslo County</td>\n",
       "      <td>Oslo</td>\n",
       "      <td>29695</td>\n",
       "      <td>Mozilla/5.0 (Macintosh; Intel Mac OS X 10_14_6...</td>\n",
       "      <td>Chrome 69.0.3497.17.21</td>\n",
       "      <td>Mac OS X 10.14.6</td>\n",
       "      <td>desktop</td>\n",
       "      <td>False</td>\n",
       "      <td>False</td>\n",
       "      <td>False</td>\n",
       "    </tr>\n",
       "    <tr>\n",
       "      <th>1</th>\n",
       "      <td>7930838</td>\n",
       "      <td>2020-05-22 11:20:46.696</td>\n",
       "      <td>-9158722628840289273</td>\n",
       "      <td>490.0</td>\n",
       "      <td>80.232.87.86</td>\n",
       "      <td>NO</td>\n",
       "      <td>Oslo County</td>\n",
       "      <td>Oslo</td>\n",
       "      <td>25400</td>\n",
       "      <td>Mozilla/5.0 (Linux; U; Android 13.0; i phone X...</td>\n",
       "      <td>Opera Mobile 52.1.2254</td>\n",
       "      <td>Android 13.0</td>\n",
       "      <td>mobile</td>\n",
       "      <td>True</td>\n",
       "      <td>False</td>\n",
       "      <td>False</td>\n",
       "    </tr>\n",
       "    <tr>\n",
       "      <th>2</th>\n",
       "      <td>28390433</td>\n",
       "      <td>2021-01-23 16:31:55.322</td>\n",
       "      <td>4432628985308499079</td>\n",
       "      <td>NaN</td>\n",
       "      <td>84.234.232.132</td>\n",
       "      <td>NO</td>\n",
       "      <td>Rogaland</td>\n",
       "      <td>Hommersak</td>\n",
       "      <td>29695</td>\n",
       "      <td>Mozilla/5.0  (iPhone; CPU iPhone OS 11_2_6 lik...</td>\n",
       "      <td>Firefox 20.0.0.1602</td>\n",
       "      <td>iOS 11.2.6</td>\n",
       "      <td>mobile</td>\n",
       "      <td>False</td>\n",
       "      <td>False</td>\n",
       "      <td>False</td>\n",
       "    </tr>\n",
       "    <tr>\n",
       "      <th>3</th>\n",
       "      <td>3090501</td>\n",
       "      <td>2020-03-16 14:24:46.628</td>\n",
       "      <td>-4324475583306591935</td>\n",
       "      <td>NaN</td>\n",
       "      <td>185.19.116.76</td>\n",
       "      <td>PL</td>\n",
       "      <td>Łódź Voivodeship</td>\n",
       "      <td>Radomsko</td>\n",
       "      <td>49528</td>\n",
       "      <td>Mozilla/5.0  (X11; CrOS armv7l 5978.98.0) Appl...</td>\n",
       "      <td>Chrome 79.0.3945.192.201</td>\n",
       "      <td>Chrome OS 5978.98.0</td>\n",
       "      <td>desktop</td>\n",
       "      <td>False</td>\n",
       "      <td>False</td>\n",
       "      <td>False</td>\n",
       "    </tr>\n",
       "    <tr>\n",
       "      <th>4</th>\n",
       "      <td>29828901</td>\n",
       "      <td>2021-02-10 10:40:40.931</td>\n",
       "      <td>-4324475583306591935</td>\n",
       "      <td>NaN</td>\n",
       "      <td>10.0.181.224</td>\n",
       "      <td>CH</td>\n",
       "      <td>-</td>\n",
       "      <td>-</td>\n",
       "      <td>262582</td>\n",
       "      <td>Mozilla/5.0  (Macintosh; Intel Mac OS X 11_6_3...</td>\n",
       "      <td>Chrome 72.0.3626.82</td>\n",
       "      <td>Mac OS X 11.6.3</td>\n",
       "      <td>desktop</td>\n",
       "      <td>False</td>\n",
       "      <td>False</td>\n",
       "      <td>False</td>\n",
       "    </tr>\n",
       "  </tbody>\n",
       "</table>\n",
       "</div>"
      ]
     },
     "execution_count": 252,
     "metadata": {},
     "output_type": "execute_result"
    }
   ],
   "execution_count": 252
  },
  {
   "metadata": {},
   "cell_type": "markdown",
   "source": "### Renaming our column",
   "id": "25b8908b230940ea"
  },
  {
   "metadata": {
    "ExecuteTime": {
     "end_time": "2024-12-17T15:32:46.919745Z",
     "start_time": "2024-12-17T15:32:46.900042Z"
    }
   },
   "cell_type": "code",
   "source": [
    "new_names = {\n",
    "    \"Login Timestamp\": \"timestamp\",\n",
    "    \"User ID\": \"id\",\n",
    "    \"Round-Trip Time [ms]\": \"rtt_ms\",\n",
    "    \"IP Address\": \"ip\",\n",
    "    \"Country\": \"country\",\n",
    "    \"Region\": \"region\",\n",
    "    \"City\": \"city\",\n",
    "    \"ASN\": \"asn\",\n",
    "    \"User Agent String\": \"user_agent\",\n",
    "    \"Browser Name and Version\": \"browser\",\n",
    "    \"OS Name and Version\": \"os\",\n",
    "    \"Device Type\": \"device\",\n",
    "    \"Login Successful\": \"login_success\",\n",
    "    \"Is Attack IP\": \"is_attack_ip\",\n",
    "    \"Is Account Takeover\": \"is_account_takeover\"\n",
    "}\n",
    "\n",
    "data.rename(columns=new_names, inplace=True)\n",
    "data\n"
   ],
   "id": "e7f97bdb546cb2fe",
   "outputs": [
    {
     "data": {
      "text/plain": [
       "           index                timestamp                   id  rtt_ms  \\\n",
       "0       18772391  2020-10-20 18:59:35.329 -4324475583306591935     NaN   \n",
       "1        7930838  2020-05-22 11:20:46.696 -9158722628840289273   490.0   \n",
       "2       28390433  2021-01-23 16:31:55.322  4432628985308499079     NaN   \n",
       "3        3090501  2020-03-16 14:24:46.628 -4324475583306591935     NaN   \n",
       "4       29828901  2021-02-10 10:40:40.931 -4324475583306591935     NaN   \n",
       "...          ...                      ...                  ...     ...   \n",
       "312829  11034609  2020-07-04 22:22:08.091 -4324475583306591935     NaN   \n",
       "312830  25178766  2020-12-25 15:16:06.779 -4324475583306591935     NaN   \n",
       "312831  13215789  2020-08-05 02:35:55.789 -4324475583306591935     NaN   \n",
       "312832  14264354  2020-08-20 12:10:26.089 -4324475583306591935     NaN   \n",
       "312833  12353213  2020-07-23 08:30:33.866 -2540757603276050441     NaN   \n",
       "\n",
       "                    ip country                  region            city  \\\n",
       "0        51.175.224.92      NO             Oslo County            Oslo   \n",
       "1         80.232.87.86      NO             Oslo County            Oslo   \n",
       "2       84.234.232.132      NO                Rogaland       Hommersak   \n",
       "3        185.19.116.76      PL        Łódź Voivodeship        Radomsko   \n",
       "4         10.0.181.224      CH                       -               -   \n",
       "...                ...     ...                     ...             ...   \n",
       "312829      10.1.43.51      BR          Rio de Janeiro  Rio de Janeiro   \n",
       "312830    10.4.138.195      DE  North Rhine-Westphalia      Düsseldorf   \n",
       "312831     10.0.106.46      IN                       -               -   \n",
       "312832    10.0.181.225      BR                       -               -   \n",
       "312833     84.208.57.5      NO             Oslo County            Oslo   \n",
       "\n",
       "           asn                                         user_agent  \\\n",
       "0        29695  Mozilla/5.0 (Macintosh; Intel Mac OS X 10_14_6...   \n",
       "1        25400  Mozilla/5.0 (Linux; U; Android 13.0; i phone X...   \n",
       "2        29695  Mozilla/5.0  (iPhone; CPU iPhone OS 11_2_6 lik...   \n",
       "3        49528  Mozilla/5.0  (X11; CrOS armv7l 5978.98.0) Appl...   \n",
       "4       262582  Mozilla/5.0  (Macintosh; Intel Mac OS X 11_6_3...   \n",
       "...        ...                                                ...   \n",
       "312829  500194  Mozilla/5.0  (iPhone; CPU iPhone OS 13_4 like ...   \n",
       "312830  500608                     VLC/3.0.0-git LibVLC/3.0.0-git   \n",
       "312831   45916  Mozilla/5.0  (iPhone; CPU iPhone OS 11_2_6 lik...   \n",
       "312832  262582  Mozilla/5.0  (Macintosh; Intel Mac OS X 11_6_3...   \n",
       "312833   41164  Mozilla/5.0 (Macintosh; Intel Mac OS X 10_14_6...   \n",
       "\n",
       "                             browser                   os   device  \\\n",
       "0             Chrome 69.0.3497.17.21     Mac OS X 10.14.6  desktop   \n",
       "1             Opera Mobile 52.1.2254         Android 13.0   mobile   \n",
       "2                Firefox 20.0.0.1602           iOS 11.2.6   mobile   \n",
       "3           Chrome 79.0.3945.192.201  Chrome OS 5978.98.0  desktop   \n",
       "4                Chrome 72.0.3626.82      Mac OS X 11.6.3  desktop   \n",
       "...                              ...                  ...      ...   \n",
       "312829  Chrome Mobile 81.0.4044.1937             iOS 13.4   mobile   \n",
       "312830                 VLC 3.0.0-git               Other   unknown   \n",
       "312831  Chrome Mobile 81.0.4044.1929           iOS 11.2.6   mobile   \n",
       "312832      Chrome 84.0.4147.338.339      Mac OS X 11.6.3  desktop   \n",
       "312833        Chrome 69.0.3497.17.20     Mac OS X 10.14.6  desktop   \n",
       "\n",
       "        login_success  is_attack_ip  is_account_takeover  \n",
       "0               False         False                False  \n",
       "1                True         False                False  \n",
       "2               False         False                False  \n",
       "3               False         False                False  \n",
       "4               False         False                False  \n",
       "...               ...           ...                  ...  \n",
       "312829          False         False                False  \n",
       "312830          False         False                False  \n",
       "312831          False         False                False  \n",
       "312832          False         False                False  \n",
       "312833           True         False                False  \n",
       "\n",
       "[312834 rows x 16 columns]"
      ],
      "text/html": [
       "<div>\n",
       "<style scoped>\n",
       "    .dataframe tbody tr th:only-of-type {\n",
       "        vertical-align: middle;\n",
       "    }\n",
       "\n",
       "    .dataframe tbody tr th {\n",
       "        vertical-align: top;\n",
       "    }\n",
       "\n",
       "    .dataframe thead th {\n",
       "        text-align: right;\n",
       "    }\n",
       "</style>\n",
       "<table border=\"1\" class=\"dataframe\">\n",
       "  <thead>\n",
       "    <tr style=\"text-align: right;\">\n",
       "      <th></th>\n",
       "      <th>index</th>\n",
       "      <th>timestamp</th>\n",
       "      <th>id</th>\n",
       "      <th>rtt_ms</th>\n",
       "      <th>ip</th>\n",
       "      <th>country</th>\n",
       "      <th>region</th>\n",
       "      <th>city</th>\n",
       "      <th>asn</th>\n",
       "      <th>user_agent</th>\n",
       "      <th>browser</th>\n",
       "      <th>os</th>\n",
       "      <th>device</th>\n",
       "      <th>login_success</th>\n",
       "      <th>is_attack_ip</th>\n",
       "      <th>is_account_takeover</th>\n",
       "    </tr>\n",
       "  </thead>\n",
       "  <tbody>\n",
       "    <tr>\n",
       "      <th>0</th>\n",
       "      <td>18772391</td>\n",
       "      <td>2020-10-20 18:59:35.329</td>\n",
       "      <td>-4324475583306591935</td>\n",
       "      <td>NaN</td>\n",
       "      <td>51.175.224.92</td>\n",
       "      <td>NO</td>\n",
       "      <td>Oslo County</td>\n",
       "      <td>Oslo</td>\n",
       "      <td>29695</td>\n",
       "      <td>Mozilla/5.0 (Macintosh; Intel Mac OS X 10_14_6...</td>\n",
       "      <td>Chrome 69.0.3497.17.21</td>\n",
       "      <td>Mac OS X 10.14.6</td>\n",
       "      <td>desktop</td>\n",
       "      <td>False</td>\n",
       "      <td>False</td>\n",
       "      <td>False</td>\n",
       "    </tr>\n",
       "    <tr>\n",
       "      <th>1</th>\n",
       "      <td>7930838</td>\n",
       "      <td>2020-05-22 11:20:46.696</td>\n",
       "      <td>-9158722628840289273</td>\n",
       "      <td>490.0</td>\n",
       "      <td>80.232.87.86</td>\n",
       "      <td>NO</td>\n",
       "      <td>Oslo County</td>\n",
       "      <td>Oslo</td>\n",
       "      <td>25400</td>\n",
       "      <td>Mozilla/5.0 (Linux; U; Android 13.0; i phone X...</td>\n",
       "      <td>Opera Mobile 52.1.2254</td>\n",
       "      <td>Android 13.0</td>\n",
       "      <td>mobile</td>\n",
       "      <td>True</td>\n",
       "      <td>False</td>\n",
       "      <td>False</td>\n",
       "    </tr>\n",
       "    <tr>\n",
       "      <th>2</th>\n",
       "      <td>28390433</td>\n",
       "      <td>2021-01-23 16:31:55.322</td>\n",
       "      <td>4432628985308499079</td>\n",
       "      <td>NaN</td>\n",
       "      <td>84.234.232.132</td>\n",
       "      <td>NO</td>\n",
       "      <td>Rogaland</td>\n",
       "      <td>Hommersak</td>\n",
       "      <td>29695</td>\n",
       "      <td>Mozilla/5.0  (iPhone; CPU iPhone OS 11_2_6 lik...</td>\n",
       "      <td>Firefox 20.0.0.1602</td>\n",
       "      <td>iOS 11.2.6</td>\n",
       "      <td>mobile</td>\n",
       "      <td>False</td>\n",
       "      <td>False</td>\n",
       "      <td>False</td>\n",
       "    </tr>\n",
       "    <tr>\n",
       "      <th>3</th>\n",
       "      <td>3090501</td>\n",
       "      <td>2020-03-16 14:24:46.628</td>\n",
       "      <td>-4324475583306591935</td>\n",
       "      <td>NaN</td>\n",
       "      <td>185.19.116.76</td>\n",
       "      <td>PL</td>\n",
       "      <td>Łódź Voivodeship</td>\n",
       "      <td>Radomsko</td>\n",
       "      <td>49528</td>\n",
       "      <td>Mozilla/5.0  (X11; CrOS armv7l 5978.98.0) Appl...</td>\n",
       "      <td>Chrome 79.0.3945.192.201</td>\n",
       "      <td>Chrome OS 5978.98.0</td>\n",
       "      <td>desktop</td>\n",
       "      <td>False</td>\n",
       "      <td>False</td>\n",
       "      <td>False</td>\n",
       "    </tr>\n",
       "    <tr>\n",
       "      <th>4</th>\n",
       "      <td>29828901</td>\n",
       "      <td>2021-02-10 10:40:40.931</td>\n",
       "      <td>-4324475583306591935</td>\n",
       "      <td>NaN</td>\n",
       "      <td>10.0.181.224</td>\n",
       "      <td>CH</td>\n",
       "      <td>-</td>\n",
       "      <td>-</td>\n",
       "      <td>262582</td>\n",
       "      <td>Mozilla/5.0  (Macintosh; Intel Mac OS X 11_6_3...</td>\n",
       "      <td>Chrome 72.0.3626.82</td>\n",
       "      <td>Mac OS X 11.6.3</td>\n",
       "      <td>desktop</td>\n",
       "      <td>False</td>\n",
       "      <td>False</td>\n",
       "      <td>False</td>\n",
       "    </tr>\n",
       "    <tr>\n",
       "      <th>...</th>\n",
       "      <td>...</td>\n",
       "      <td>...</td>\n",
       "      <td>...</td>\n",
       "      <td>...</td>\n",
       "      <td>...</td>\n",
       "      <td>...</td>\n",
       "      <td>...</td>\n",
       "      <td>...</td>\n",
       "      <td>...</td>\n",
       "      <td>...</td>\n",
       "      <td>...</td>\n",
       "      <td>...</td>\n",
       "      <td>...</td>\n",
       "      <td>...</td>\n",
       "      <td>...</td>\n",
       "      <td>...</td>\n",
       "    </tr>\n",
       "    <tr>\n",
       "      <th>312829</th>\n",
       "      <td>11034609</td>\n",
       "      <td>2020-07-04 22:22:08.091</td>\n",
       "      <td>-4324475583306591935</td>\n",
       "      <td>NaN</td>\n",
       "      <td>10.1.43.51</td>\n",
       "      <td>BR</td>\n",
       "      <td>Rio de Janeiro</td>\n",
       "      <td>Rio de Janeiro</td>\n",
       "      <td>500194</td>\n",
       "      <td>Mozilla/5.0  (iPhone; CPU iPhone OS 13_4 like ...</td>\n",
       "      <td>Chrome Mobile 81.0.4044.1937</td>\n",
       "      <td>iOS 13.4</td>\n",
       "      <td>mobile</td>\n",
       "      <td>False</td>\n",
       "      <td>False</td>\n",
       "      <td>False</td>\n",
       "    </tr>\n",
       "    <tr>\n",
       "      <th>312830</th>\n",
       "      <td>25178766</td>\n",
       "      <td>2020-12-25 15:16:06.779</td>\n",
       "      <td>-4324475583306591935</td>\n",
       "      <td>NaN</td>\n",
       "      <td>10.4.138.195</td>\n",
       "      <td>DE</td>\n",
       "      <td>North Rhine-Westphalia</td>\n",
       "      <td>Düsseldorf</td>\n",
       "      <td>500608</td>\n",
       "      <td>VLC/3.0.0-git LibVLC/3.0.0-git</td>\n",
       "      <td>VLC 3.0.0-git</td>\n",
       "      <td>Other</td>\n",
       "      <td>unknown</td>\n",
       "      <td>False</td>\n",
       "      <td>False</td>\n",
       "      <td>False</td>\n",
       "    </tr>\n",
       "    <tr>\n",
       "      <th>312831</th>\n",
       "      <td>13215789</td>\n",
       "      <td>2020-08-05 02:35:55.789</td>\n",
       "      <td>-4324475583306591935</td>\n",
       "      <td>NaN</td>\n",
       "      <td>10.0.106.46</td>\n",
       "      <td>IN</td>\n",
       "      <td>-</td>\n",
       "      <td>-</td>\n",
       "      <td>45916</td>\n",
       "      <td>Mozilla/5.0  (iPhone; CPU iPhone OS 11_2_6 lik...</td>\n",
       "      <td>Chrome Mobile 81.0.4044.1929</td>\n",
       "      <td>iOS 11.2.6</td>\n",
       "      <td>mobile</td>\n",
       "      <td>False</td>\n",
       "      <td>False</td>\n",
       "      <td>False</td>\n",
       "    </tr>\n",
       "    <tr>\n",
       "      <th>312832</th>\n",
       "      <td>14264354</td>\n",
       "      <td>2020-08-20 12:10:26.089</td>\n",
       "      <td>-4324475583306591935</td>\n",
       "      <td>NaN</td>\n",
       "      <td>10.0.181.225</td>\n",
       "      <td>BR</td>\n",
       "      <td>-</td>\n",
       "      <td>-</td>\n",
       "      <td>262582</td>\n",
       "      <td>Mozilla/5.0  (Macintosh; Intel Mac OS X 11_6_3...</td>\n",
       "      <td>Chrome 84.0.4147.338.339</td>\n",
       "      <td>Mac OS X 11.6.3</td>\n",
       "      <td>desktop</td>\n",
       "      <td>False</td>\n",
       "      <td>False</td>\n",
       "      <td>False</td>\n",
       "    </tr>\n",
       "    <tr>\n",
       "      <th>312833</th>\n",
       "      <td>12353213</td>\n",
       "      <td>2020-07-23 08:30:33.866</td>\n",
       "      <td>-2540757603276050441</td>\n",
       "      <td>NaN</td>\n",
       "      <td>84.208.57.5</td>\n",
       "      <td>NO</td>\n",
       "      <td>Oslo County</td>\n",
       "      <td>Oslo</td>\n",
       "      <td>41164</td>\n",
       "      <td>Mozilla/5.0 (Macintosh; Intel Mac OS X 10_14_6...</td>\n",
       "      <td>Chrome 69.0.3497.17.20</td>\n",
       "      <td>Mac OS X 10.14.6</td>\n",
       "      <td>desktop</td>\n",
       "      <td>True</td>\n",
       "      <td>False</td>\n",
       "      <td>False</td>\n",
       "    </tr>\n",
       "  </tbody>\n",
       "</table>\n",
       "<p>312834 rows × 16 columns</p>\n",
       "</div>"
      ]
     },
     "execution_count": 253,
     "metadata": {},
     "output_type": "execute_result"
    }
   ],
   "execution_count": 253
  },
  {
   "metadata": {},
   "cell_type": "markdown",
   "source": "# Data Exploration",
   "id": "97e150e868e633ee"
  },
  {
   "metadata": {
    "ExecuteTime": {
     "end_time": "2024-12-17T15:32:46.991289Z",
     "start_time": "2024-12-17T15:32:46.988139Z"
    }
   },
   "cell_type": "code",
   "source": [
    "import matplotlib.pyplot as plt\n",
    "# %matplotlib inline"
   ],
   "id": "a2e34d68a764da21",
   "outputs": [],
   "execution_count": 254
  },
  {
   "metadata": {
    "ExecuteTime": {
     "end_time": "2024-12-17T15:32:47.117367Z",
     "start_time": "2024-12-17T15:32:47.102922Z"
    }
   },
   "cell_type": "code",
   "source": "data.tail(10)",
   "id": "421e881afbca5b56",
   "outputs": [
    {
     "data": {
      "text/plain": [
       "           index                timestamp                   id  rtt_ms  \\\n",
       "312824   8457040  2020-05-30 10:17:19.342  1927013824574845948   542.0   \n",
       "312825  13008658  2020-08-01 20:53:29.460  5807607246569587389     NaN   \n",
       "312826   5312784  2020-04-15 18:53:03.209  4035502347474917449     NaN   \n",
       "312827  20504225  2020-11-11 19:12:33.898 -4324475583306591935     NaN   \n",
       "312828  11455031  2020-07-10 15:58:49.975  2539586398342197044   670.0   \n",
       "312829  11034609  2020-07-04 22:22:08.091 -4324475583306591935     NaN   \n",
       "312830  25178766  2020-12-25 15:16:06.779 -4324475583306591935     NaN   \n",
       "312831  13215789  2020-08-05 02:35:55.789 -4324475583306591935     NaN   \n",
       "312832  14264354  2020-08-20 12:10:26.089 -4324475583306591935     NaN   \n",
       "312833  12353213  2020-07-23 08:30:33.866 -2540757603276050441     NaN   \n",
       "\n",
       "                    ip country                  region            city  \\\n",
       "312824  81.166.201.237      NO             Oslo County            Oslo   \n",
       "312825   187.62.57.204      BR                  Parana        Londrina   \n",
       "312826  80.203.188.127      NO                       -               -   \n",
       "312827    80.239.19.95      NO                Rogaland          Naerbo   \n",
       "312828   84.209.16.189      NO             Oslo County            Oslo   \n",
       "312829      10.1.43.51      BR          Rio de Janeiro  Rio de Janeiro   \n",
       "312830    10.4.138.195      DE  North Rhine-Westphalia      Düsseldorf   \n",
       "312831     10.0.106.46      IN                       -               -   \n",
       "312832    10.0.181.225      BR                       -               -   \n",
       "312833     84.208.57.5      NO             Oslo County            Oslo   \n",
       "\n",
       "           asn                                         user_agent  \\\n",
       "312824   29695  Mozilla/5.0  (Linux; U; Android 4.0.3; nb-no; ...   \n",
       "312825   22689  Mozilla/5.0  (X11; Linux armv7l) AppleWebKit/5...   \n",
       "312826   15659  Mozilla/5.0  (Macintosh; Intel Mac OS X 10_14_...   \n",
       "312827   25400  Mozilla/5.0  (iPhone; CPU iPhone OS 13_4 like ...   \n",
       "312828   41164  Mozilla/5.0  (Linux; Android 6.9; SM-J500H/DS ...   \n",
       "312829  500194  Mozilla/5.0  (iPhone; CPU iPhone OS 13_4 like ...   \n",
       "312830  500608                     VLC/3.0.0-git LibVLC/3.0.0-git   \n",
       "312831   45916  Mozilla/5.0  (iPhone; CPU iPhone OS 11_2_6 lik...   \n",
       "312832  262582  Mozilla/5.0  (Macintosh; Intel Mac OS X 11_6_3...   \n",
       "312833   41164  Mozilla/5.0 (Macintosh; Intel Mac OS X 10_14_6...   \n",
       "\n",
       "                             browser                      os   device  \\\n",
       "312824   Opera Mobile 52.1.2254.2306           Android 4.0.3   mobile   \n",
       "312825           Chrome 72.0.3626.52  Chromecast 1.49.230269  desktop   \n",
       "312826              Chrome 73.0.3654        Mac OS X 10.14.6  desktop   \n",
       "312827                  Firefox 20.0                iOS 13.4   mobile   \n",
       "312828                 Android 2.3.4             Android 6.9   tablet   \n",
       "312829  Chrome Mobile 81.0.4044.1937                iOS 13.4   mobile   \n",
       "312830                 VLC 3.0.0-git                  Other   unknown   \n",
       "312831  Chrome Mobile 81.0.4044.1929              iOS 11.2.6   mobile   \n",
       "312832      Chrome 84.0.4147.338.339         Mac OS X 11.6.3  desktop   \n",
       "312833        Chrome 69.0.3497.17.20        Mac OS X 10.14.6  desktop   \n",
       "\n",
       "        login_success  is_attack_ip  is_account_takeover  \n",
       "312824           True         False                False  \n",
       "312825           True         False                False  \n",
       "312826           True         False                False  \n",
       "312827          False         False                False  \n",
       "312828          False         False                False  \n",
       "312829          False         False                False  \n",
       "312830          False         False                False  \n",
       "312831          False         False                False  \n",
       "312832          False         False                False  \n",
       "312833           True         False                False  "
      ],
      "text/html": [
       "<div>\n",
       "<style scoped>\n",
       "    .dataframe tbody tr th:only-of-type {\n",
       "        vertical-align: middle;\n",
       "    }\n",
       "\n",
       "    .dataframe tbody tr th {\n",
       "        vertical-align: top;\n",
       "    }\n",
       "\n",
       "    .dataframe thead th {\n",
       "        text-align: right;\n",
       "    }\n",
       "</style>\n",
       "<table border=\"1\" class=\"dataframe\">\n",
       "  <thead>\n",
       "    <tr style=\"text-align: right;\">\n",
       "      <th></th>\n",
       "      <th>index</th>\n",
       "      <th>timestamp</th>\n",
       "      <th>id</th>\n",
       "      <th>rtt_ms</th>\n",
       "      <th>ip</th>\n",
       "      <th>country</th>\n",
       "      <th>region</th>\n",
       "      <th>city</th>\n",
       "      <th>asn</th>\n",
       "      <th>user_agent</th>\n",
       "      <th>browser</th>\n",
       "      <th>os</th>\n",
       "      <th>device</th>\n",
       "      <th>login_success</th>\n",
       "      <th>is_attack_ip</th>\n",
       "      <th>is_account_takeover</th>\n",
       "    </tr>\n",
       "  </thead>\n",
       "  <tbody>\n",
       "    <tr>\n",
       "      <th>312824</th>\n",
       "      <td>8457040</td>\n",
       "      <td>2020-05-30 10:17:19.342</td>\n",
       "      <td>1927013824574845948</td>\n",
       "      <td>542.0</td>\n",
       "      <td>81.166.201.237</td>\n",
       "      <td>NO</td>\n",
       "      <td>Oslo County</td>\n",
       "      <td>Oslo</td>\n",
       "      <td>29695</td>\n",
       "      <td>Mozilla/5.0  (Linux; U; Android 4.0.3; nb-no; ...</td>\n",
       "      <td>Opera Mobile 52.1.2254.2306</td>\n",
       "      <td>Android 4.0.3</td>\n",
       "      <td>mobile</td>\n",
       "      <td>True</td>\n",
       "      <td>False</td>\n",
       "      <td>False</td>\n",
       "    </tr>\n",
       "    <tr>\n",
       "      <th>312825</th>\n",
       "      <td>13008658</td>\n",
       "      <td>2020-08-01 20:53:29.460</td>\n",
       "      <td>5807607246569587389</td>\n",
       "      <td>NaN</td>\n",
       "      <td>187.62.57.204</td>\n",
       "      <td>BR</td>\n",
       "      <td>Parana</td>\n",
       "      <td>Londrina</td>\n",
       "      <td>22689</td>\n",
       "      <td>Mozilla/5.0  (X11; Linux armv7l) AppleWebKit/5...</td>\n",
       "      <td>Chrome 72.0.3626.52</td>\n",
       "      <td>Chromecast 1.49.230269</td>\n",
       "      <td>desktop</td>\n",
       "      <td>True</td>\n",
       "      <td>False</td>\n",
       "      <td>False</td>\n",
       "    </tr>\n",
       "    <tr>\n",
       "      <th>312826</th>\n",
       "      <td>5312784</td>\n",
       "      <td>2020-04-15 18:53:03.209</td>\n",
       "      <td>4035502347474917449</td>\n",
       "      <td>NaN</td>\n",
       "      <td>80.203.188.127</td>\n",
       "      <td>NO</td>\n",
       "      <td>-</td>\n",
       "      <td>-</td>\n",
       "      <td>15659</td>\n",
       "      <td>Mozilla/5.0  (Macintosh; Intel Mac OS X 10_14_...</td>\n",
       "      <td>Chrome 73.0.3654</td>\n",
       "      <td>Mac OS X 10.14.6</td>\n",
       "      <td>desktop</td>\n",
       "      <td>True</td>\n",
       "      <td>False</td>\n",
       "      <td>False</td>\n",
       "    </tr>\n",
       "    <tr>\n",
       "      <th>312827</th>\n",
       "      <td>20504225</td>\n",
       "      <td>2020-11-11 19:12:33.898</td>\n",
       "      <td>-4324475583306591935</td>\n",
       "      <td>NaN</td>\n",
       "      <td>80.239.19.95</td>\n",
       "      <td>NO</td>\n",
       "      <td>Rogaland</td>\n",
       "      <td>Naerbo</td>\n",
       "      <td>25400</td>\n",
       "      <td>Mozilla/5.0  (iPhone; CPU iPhone OS 13_4 like ...</td>\n",
       "      <td>Firefox 20.0</td>\n",
       "      <td>iOS 13.4</td>\n",
       "      <td>mobile</td>\n",
       "      <td>False</td>\n",
       "      <td>False</td>\n",
       "      <td>False</td>\n",
       "    </tr>\n",
       "    <tr>\n",
       "      <th>312828</th>\n",
       "      <td>11455031</td>\n",
       "      <td>2020-07-10 15:58:49.975</td>\n",
       "      <td>2539586398342197044</td>\n",
       "      <td>670.0</td>\n",
       "      <td>84.209.16.189</td>\n",
       "      <td>NO</td>\n",
       "      <td>Oslo County</td>\n",
       "      <td>Oslo</td>\n",
       "      <td>41164</td>\n",
       "      <td>Mozilla/5.0  (Linux; Android 6.9; SM-J500H/DS ...</td>\n",
       "      <td>Android 2.3.4</td>\n",
       "      <td>Android 6.9</td>\n",
       "      <td>tablet</td>\n",
       "      <td>False</td>\n",
       "      <td>False</td>\n",
       "      <td>False</td>\n",
       "    </tr>\n",
       "    <tr>\n",
       "      <th>312829</th>\n",
       "      <td>11034609</td>\n",
       "      <td>2020-07-04 22:22:08.091</td>\n",
       "      <td>-4324475583306591935</td>\n",
       "      <td>NaN</td>\n",
       "      <td>10.1.43.51</td>\n",
       "      <td>BR</td>\n",
       "      <td>Rio de Janeiro</td>\n",
       "      <td>Rio de Janeiro</td>\n",
       "      <td>500194</td>\n",
       "      <td>Mozilla/5.0  (iPhone; CPU iPhone OS 13_4 like ...</td>\n",
       "      <td>Chrome Mobile 81.0.4044.1937</td>\n",
       "      <td>iOS 13.4</td>\n",
       "      <td>mobile</td>\n",
       "      <td>False</td>\n",
       "      <td>False</td>\n",
       "      <td>False</td>\n",
       "    </tr>\n",
       "    <tr>\n",
       "      <th>312830</th>\n",
       "      <td>25178766</td>\n",
       "      <td>2020-12-25 15:16:06.779</td>\n",
       "      <td>-4324475583306591935</td>\n",
       "      <td>NaN</td>\n",
       "      <td>10.4.138.195</td>\n",
       "      <td>DE</td>\n",
       "      <td>North Rhine-Westphalia</td>\n",
       "      <td>Düsseldorf</td>\n",
       "      <td>500608</td>\n",
       "      <td>VLC/3.0.0-git LibVLC/3.0.0-git</td>\n",
       "      <td>VLC 3.0.0-git</td>\n",
       "      <td>Other</td>\n",
       "      <td>unknown</td>\n",
       "      <td>False</td>\n",
       "      <td>False</td>\n",
       "      <td>False</td>\n",
       "    </tr>\n",
       "    <tr>\n",
       "      <th>312831</th>\n",
       "      <td>13215789</td>\n",
       "      <td>2020-08-05 02:35:55.789</td>\n",
       "      <td>-4324475583306591935</td>\n",
       "      <td>NaN</td>\n",
       "      <td>10.0.106.46</td>\n",
       "      <td>IN</td>\n",
       "      <td>-</td>\n",
       "      <td>-</td>\n",
       "      <td>45916</td>\n",
       "      <td>Mozilla/5.0  (iPhone; CPU iPhone OS 11_2_6 lik...</td>\n",
       "      <td>Chrome Mobile 81.0.4044.1929</td>\n",
       "      <td>iOS 11.2.6</td>\n",
       "      <td>mobile</td>\n",
       "      <td>False</td>\n",
       "      <td>False</td>\n",
       "      <td>False</td>\n",
       "    </tr>\n",
       "    <tr>\n",
       "      <th>312832</th>\n",
       "      <td>14264354</td>\n",
       "      <td>2020-08-20 12:10:26.089</td>\n",
       "      <td>-4324475583306591935</td>\n",
       "      <td>NaN</td>\n",
       "      <td>10.0.181.225</td>\n",
       "      <td>BR</td>\n",
       "      <td>-</td>\n",
       "      <td>-</td>\n",
       "      <td>262582</td>\n",
       "      <td>Mozilla/5.0  (Macintosh; Intel Mac OS X 11_6_3...</td>\n",
       "      <td>Chrome 84.0.4147.338.339</td>\n",
       "      <td>Mac OS X 11.6.3</td>\n",
       "      <td>desktop</td>\n",
       "      <td>False</td>\n",
       "      <td>False</td>\n",
       "      <td>False</td>\n",
       "    </tr>\n",
       "    <tr>\n",
       "      <th>312833</th>\n",
       "      <td>12353213</td>\n",
       "      <td>2020-07-23 08:30:33.866</td>\n",
       "      <td>-2540757603276050441</td>\n",
       "      <td>NaN</td>\n",
       "      <td>84.208.57.5</td>\n",
       "      <td>NO</td>\n",
       "      <td>Oslo County</td>\n",
       "      <td>Oslo</td>\n",
       "      <td>41164</td>\n",
       "      <td>Mozilla/5.0 (Macintosh; Intel Mac OS X 10_14_6...</td>\n",
       "      <td>Chrome 69.0.3497.17.20</td>\n",
       "      <td>Mac OS X 10.14.6</td>\n",
       "      <td>desktop</td>\n",
       "      <td>True</td>\n",
       "      <td>False</td>\n",
       "      <td>False</td>\n",
       "    </tr>\n",
       "  </tbody>\n",
       "</table>\n",
       "</div>"
      ]
     },
     "execution_count": 255,
     "metadata": {},
     "output_type": "execute_result"
    }
   ],
   "execution_count": 255
  },
  {
   "metadata": {
    "ExecuteTime": {
     "end_time": "2024-12-17T15:32:47.303758Z",
     "start_time": "2024-12-17T15:32:47.298271Z"
    }
   },
   "cell_type": "code",
   "source": "data.dtypes",
   "id": "1c2417ced166e373",
   "outputs": [
    {
     "data": {
      "text/plain": [
       "index                    int64\n",
       "timestamp               object\n",
       "id                       int64\n",
       "rtt_ms                 float64\n",
       "ip                      object\n",
       "country                 object\n",
       "region                  object\n",
       "city                    object\n",
       "asn                      int64\n",
       "user_agent              object\n",
       "browser                 object\n",
       "os                      object\n",
       "device                  object\n",
       "login_success             bool\n",
       "is_attack_ip              bool\n",
       "is_account_takeover       bool\n",
       "dtype: object"
      ]
     },
     "execution_count": 256,
     "metadata": {},
     "output_type": "execute_result"
    }
   ],
   "execution_count": 256
  },
  {
   "metadata": {
    "ExecuteTime": {
     "end_time": "2024-12-17T15:32:47.868399Z",
     "start_time": "2024-12-17T15:32:47.504801Z"
    }
   },
   "cell_type": "code",
   "source": "data.count()",
   "id": "e756da04efe0b0b8",
   "outputs": [
    {
     "data": {
      "text/plain": [
       "index                  312834\n",
       "timestamp              312834\n",
       "id                     312834\n",
       "rtt_ms                  12740\n",
       "ip                     312834\n",
       "country                312834\n",
       "region                 312352\n",
       "city                   312730\n",
       "asn                    312834\n",
       "user_agent             312834\n",
       "browser                312834\n",
       "os                     312834\n",
       "device                 312820\n",
       "login_success          312834\n",
       "is_attack_ip           312834\n",
       "is_account_takeover    312834\n",
       "dtype: int64"
      ]
     },
     "execution_count": 257,
     "metadata": {},
     "output_type": "execute_result"
    }
   ],
   "execution_count": 257
  },
  {
   "metadata": {},
   "cell_type": "markdown",
   "source": "### Agent Data (OS, Device and Browser)",
   "id": "4d68e753cee16be"
  },
  {
   "metadata": {
    "ExecuteTime": {
     "end_time": "2024-12-17T15:32:48.617248Z",
     "start_time": "2024-12-17T15:32:48.033745Z"
    }
   },
   "cell_type": "code",
   "source": [
    "category_counts = data[\"os\"].value_counts().head(50)\n",
    "plt.figure(figsize=(20, 10))\n",
    "category_counts.plot(kind='bar', color='blue')\n",
    "plt.title('OS distribution')\n",
    "plt.xlabel('Category')\n",
    "plt.ylabel('Frequency')\n",
    "plt.xticks(rotation=90)\n",
    "plt.show()"
   ],
   "id": "405850b2e74ecdfd",
   "outputs": [
    {
     "data": {
      "text/plain": [
       "<Figure size 2000x1000 with 1 Axes>"
      ],
      "image/png": "[encoded data removed]"
     },
     "metadata": {},
     "output_type": "display_data"
    }
   ],
   "execution_count": 258
  },
  {
   "metadata": {
    "ExecuteTime": {
     "end_time": "2024-12-17T15:32:48.930445Z",
     "start_time": "2024-12-17T15:32:48.656795Z"
    }
   },
   "cell_type": "code",
   "source": [
    "category_counts = data[data['is_account_takeover']==True][\"os\"].value_counts()\n",
    "plt.figure(figsize=(20, 10))\n",
    "category_counts.plot(kind='bar', color='skyblue')\n",
    "plt.title('OS distribution for attacks')\n",
    "plt.xlabel('OS Type and Version')\n",
    "plt.ylabel('Frequency')\n",
    "plt.xticks(rotation=90)\n",
    "plt.show()"
   ],
   "id": "850a257b36dbe96f",
   "outputs": [
    {
     "data": {
      "text/plain": [
       "<Figure size 2000x1000 with 1 Axes>"
      ],
      "image/png": "[encoded data removed]"
     },
     "metadata": {},
     "output_type": "display_data"
    }
   ],
   "execution_count": 259
  },
  {
   "metadata": {
    "ExecuteTime": {
     "end_time": "2024-12-17T15:32:49.131818Z",
     "start_time": "2024-12-17T15:32:48.936487Z"
    }
   },
   "cell_type": "code",
   "source": [
    "category_counts = data[\"device\"].value_counts()\n",
    "plt.figure(figsize=(20, 10))\n",
    "category_counts.plot(kind='bar', color='red')\n",
    "plt.title('Device Distribution')\n",
    "plt.xlabel('Device')\n",
    "plt.ylabel('Frequency')\n",
    "plt.xticks(rotation=0)\n",
    "plt.show()"
   ],
   "id": "9d05abc41d135a8e",
   "outputs": [
    {
     "data": {
      "text/plain": [
       "<Figure size 2000x1000 with 1 Axes>"
      ],
      "image/png": "[encoded data removed]"
     },
     "metadata": {},
     "output_type": "display_data"
    }
   ],
   "execution_count": 260
  },
  {
   "metadata": {
    "ExecuteTime": {
     "end_time": "2024-12-17T15:32:49.292768Z",
     "start_time": "2024-12-17T15:32:49.139305Z"
    }
   },
   "cell_type": "code",
   "source": [
    "category_counts = data[data['is_account_takeover']==True][\"device\"].value_counts()\n",
    "plt.figure(figsize=(20, 10))\n",
    "category_counts.plot(kind='bar', color='#FF9999')\n",
    "plt.title('Category Distribution for attacks')\n",
    "plt.xlabel('Category')\n",
    "plt.ylabel('Frequency')\n",
    "plt.xticks(rotation=0)\n",
    "plt.show()"
   ],
   "id": "2051a1420a26a720",
   "outputs": [
    {
     "data": {
      "text/plain": [
       "<Figure size 2000x1000 with 1 Axes>"
      ],
      "image/png": "[encoded data removed]"
     },
     "metadata": {},
     "output_type": "display_data"
    }
   ],
   "execution_count": 261
  },
  {
   "metadata": {
    "ExecuteTime": {
     "end_time": "2024-12-17T15:32:49.803995Z",
     "start_time": "2024-12-17T15:32:49.300100Z"
    }
   },
   "cell_type": "code",
   "source": [
    "category_counts = data[\"browser\"].value_counts().head(50)\n",
    "plt.figure(figsize=(20, 10))\n",
    "category_counts.plot(kind='bar', color='green')\n",
    "plt.title('Browser Distribution')\n",
    "plt.xlabel('Category')\n",
    "plt.ylabel('Frequency')\n",
    "plt.xticks(rotation=90)\n",
    "plt.show()"
   ],
   "id": "c8a8c91d6afb770a",
   "outputs": [
    {
     "data": {
      "text/plain": [
       "<Figure size 2000x1000 with 1 Axes>"
      ],
      "image/png": "[encoded data removed]"
     },
     "metadata": {},
     "output_type": "display_data"
    }
   ],
   "execution_count": 262
  },
  {
   "metadata": {
    "ExecuteTime": {
     "end_time": "2024-12-17T15:32:50.148696Z",
     "start_time": "2024-12-17T15:32:49.812587Z"
    }
   },
   "cell_type": "code",
   "source": [
    "category_counts = data[data['is_account_takeover']==True][\"browser\"].value_counts().head(50)\n",
    "plt.figure(figsize=(20, 10))\n",
    "category_counts.plot(kind='bar', color='#99FF99')\n",
    "plt.title('Browser Distribution for Attacks')\n",
    "plt.xlabel('Browser')\n",
    "plt.ylabel('Frequency')\n",
    "plt.xticks(rotation=90)\n",
    "plt.show()"
   ],
   "id": "ed87922fe4260e82",
   "outputs": [
    {
     "data": {
      "text/plain": [
       "<Figure size 2000x1000 with 1 Axes>"
      ],
      "image/png": "[encoded data removed]"
     },
     "metadata": {},
     "output_type": "display_data"
    }
   ],
   "execution_count": 263
  },
  {
   "metadata": {},
   "cell_type": "markdown",
   "source": "## Geographical Data",
   "id": "c3ba74e378e12b7f"
  },
  {
   "metadata": {
    "ExecuteTime": {
     "end_time": "2024-12-17T15:32:50.158332Z",
     "start_time": "2024-12-17T15:32:50.155001Z"
    }
   },
   "cell_type": "code",
   "source": "import plotly.express as px",
   "id": "93978e8a863e2d64",
   "outputs": [],
   "execution_count": 264
  },
  {
   "metadata": {
    "ExecuteTime": {
     "end_time": "2024-12-17T15:32:50.342273Z",
     "start_time": "2024-12-17T15:32:50.201786Z"
    }
   },
   "cell_type": "code",
   "source": [
    "country_counts = data['country'].value_counts().head(10)\n",
    "\n",
    "plt.figure(figsize=(8, 8))\n",
    "plt.pie(country_counts, labels=country_counts.index, autopct='%1.1f%%', startangle=140, colors=['#66b3ff','#99ff99','#ffcc99','#ff6666'])\n",
    "plt.title('Login Attempts by Country')\n",
    "plt.show()"
   ],
   "id": "803b29c2735b4a2b",
   "outputs": [
    {
     "data": {
      "text/plain": [
       "<Figure size 800x800 with 1 Axes>"
      ],
      "image/png": "[encoded data removed]"
     },
     "metadata": {},
     "output_type": "display_data"
    }
   ],
   "execution_count": 265
  },
  {
   "metadata": {
    "ExecuteTime": {
     "end_time": "2024-12-17T15:32:50.462544Z",
     "start_time": "2024-12-17T15:32:50.351952Z"
    }
   },
   "cell_type": "code",
   "source": [
    "attack_data = data[data[\"is_account_takeover\"] == True][['country']]\n",
    "normal_connections = data[data[\"is_account_takeover\"] != True][['country']]\n",
    "normal_connections"
   ],
   "id": "63c0d46d8d43cefb",
   "outputs": [
    {
     "data": {
      "text/plain": [
       "       country\n",
       "0           NO\n",
       "1           NO\n",
       "2           NO\n",
       "3           PL\n",
       "4           CH\n",
       "...        ...\n",
       "312829      BR\n",
       "312830      DE\n",
       "312831      IN\n",
       "312832      BR\n",
       "312833      NO\n",
       "\n",
       "[312693 rows x 1 columns]"
      ],
      "text/html": [
       "<div>\n",
       "<style scoped>\n",
       "    .dataframe tbody tr th:only-of-type {\n",
       "        vertical-align: middle;\n",
       "    }\n",
       "\n",
       "    .dataframe tbody tr th {\n",
       "        vertical-align: top;\n",
       "    }\n",
       "\n",
       "    .dataframe thead th {\n",
       "        text-align: right;\n",
       "    }\n",
       "</style>\n",
       "<table border=\"1\" class=\"dataframe\">\n",
       "  <thead>\n",
       "    <tr style=\"text-align: right;\">\n",
       "      <th></th>\n",
       "      <th>country</th>\n",
       "    </tr>\n",
       "  </thead>\n",
       "  <tbody>\n",
       "    <tr>\n",
       "      <th>0</th>\n",
       "      <td>NO</td>\n",
       "    </tr>\n",
       "    <tr>\n",
       "      <th>1</th>\n",
       "      <td>NO</td>\n",
       "    </tr>\n",
       "    <tr>\n",
       "      <th>2</th>\n",
       "      <td>NO</td>\n",
       "    </tr>\n",
       "    <tr>\n",
       "      <th>3</th>\n",
       "      <td>PL</td>\n",
       "    </tr>\n",
       "    <tr>\n",
       "      <th>4</th>\n",
       "      <td>CH</td>\n",
       "    </tr>\n",
       "    <tr>\n",
       "      <th>...</th>\n",
       "      <td>...</td>\n",
       "    </tr>\n",
       "    <tr>\n",
       "      <th>312829</th>\n",
       "      <td>BR</td>\n",
       "    </tr>\n",
       "    <tr>\n",
       "      <th>312830</th>\n",
       "      <td>DE</td>\n",
       "    </tr>\n",
       "    <tr>\n",
       "      <th>312831</th>\n",
       "      <td>IN</td>\n",
       "    </tr>\n",
       "    <tr>\n",
       "      <th>312832</th>\n",
       "      <td>BR</td>\n",
       "    </tr>\n",
       "    <tr>\n",
       "      <th>312833</th>\n",
       "      <td>NO</td>\n",
       "    </tr>\n",
       "  </tbody>\n",
       "</table>\n",
       "<p>312693 rows × 1 columns</p>\n",
       "</div>"
      ]
     },
     "execution_count": 266,
     "metadata": {},
     "output_type": "execute_result"
    }
   ],
   "execution_count": 266
  },
  {
   "metadata": {
    "ExecuteTime": {
     "end_time": "2024-12-17T15:32:50.777641Z",
     "start_time": "2024-12-17T15:32:50.501035Z"
    }
   },
   "cell_type": "code",
   "source": [
    "iso2_to_iso3_map = {\n",
    "    'AD': 'AND', 'AE': 'ARE', 'AF': 'AFG', 'AG': 'ATG', 'AI': 'AIA', 'AL': 'ALB',\n",
    "    'AM': 'ARM', 'AO': 'AGO', 'AR': 'ARG', 'AS': 'ASM', 'AT': 'AUT', 'AU': 'AUS',\n",
    "    'AW': 'ABW', 'AX': 'ALA', 'AZ': 'AZE', 'BA': 'BHS', 'BB': 'BRB', 'BD': 'BGD',\n",
    "    'BE': 'BEL', 'BF': 'BFA', 'BG': 'BGR', 'BH': 'BHR', 'BI': 'BDI', 'BJ': 'BEN',\n",
    "    'BL': 'BLM', 'BM': 'BMU', 'BN': 'BRN', 'BO': 'BOL', 'BQ': 'BES', 'BR': 'BRA',\n",
    "    'BS': 'BHS', 'BT': 'BTN', 'BV': 'BVT', 'BW': 'BWA', 'BY': 'BLR', 'BZ': 'BLZ',\n",
    "    'CA': 'CAN', 'CC': 'CCK', 'CD': 'COD', 'CF': 'CAF', 'CG': 'COG', 'CH': 'CHE',\n",
    "    'CI': 'CIV', 'CK': 'COK', 'CL': 'CHL', 'CM': 'CMR', 'CN': 'CHN', 'CO': 'COL',\n",
    "    'CR': 'CRI', 'CU': 'CUB', 'CV': 'CPV', 'CW': 'CUW', 'CX': 'CXR', 'CY': 'CYP',\n",
    "    'CZ': 'CZE', 'DE': 'DEU', 'DJ': 'DJI', 'DK': 'DNK', 'DM': 'DMA', 'DO': 'DOM',\n",
    "    'DZ': 'DZA', 'EC': 'ECU', 'EE': 'EST', 'EG': 'EGY', 'EH': 'ESH', 'ER': 'ERI',\n",
    "    'ES': 'ESP', 'ET': 'ETH', 'FI': 'FIN', 'FJ': 'FJI', 'FM': 'FSM', 'FO': 'FRO',\n",
    "    'FR': 'FRA', 'GA': 'GAB', 'GB': 'GBR', 'GD': 'GRD', 'GE': 'GEO', 'GF': 'GUF',\n",
    "    'GG': 'GGY', 'GH': 'GHA', 'GI': 'GIB', 'GL': 'GRL', 'GM': 'GMB', 'GN': 'GIN',\n",
    "    'GP': 'GLP', 'GQ': 'GNQ', 'GR': 'GRC', 'GT': 'GTM', 'GU': 'GUM', 'GW': 'GNB',\n",
    "    'GY': 'GUY', 'HK': 'HKG', 'HM': 'HMD', 'HN': 'HND', 'HR': 'HRV', 'HT': 'HTI',\n",
    "    'HU': 'HUN', 'ID': 'IDN', 'IE': 'IRL', 'IL': 'ISR', 'IM': 'IMN', 'IN': 'IND',\n",
    "    'IO': 'IOT', 'IQ': 'IRQ', 'IR': 'IRN', 'IS': 'ISL', 'IT': 'ITA', 'JE': 'JEY',\n",
    "    'JM': 'JAM', 'JO': 'JOR', 'JP': 'JPN', 'KE': 'KEN', 'KG': 'KGZ', 'KH': 'KHM',\n",
    "    'KI': 'KIR', 'KM': 'COM', 'KN': 'KNA', 'KP': 'PRK', 'KR': 'KOR', 'KW': 'KWT',\n",
    "    'KY': 'CYM', 'KZ': 'KAZ', 'LA': 'LAO', 'LB': 'LBN', 'LC': 'LCA', 'LI': 'LIE',\n",
    "    'LK': 'LKA', 'LR': 'LBR', 'LS': 'LSO', 'LT': 'LTU', 'LU': 'LUX', 'LV': 'LVA',\n",
    "    'LY': 'LBY', 'MA': 'MAR', 'MC': 'MCO', 'MD': 'MDA', 'ME': 'MNE', 'MF': 'MAF',\n",
    "    'MG': 'MDG', 'MH': 'MHL', 'MK': 'MKD', 'ML': 'MLI', 'MM': 'MMR', 'MN': 'MNG',\n",
    "    'MO': 'MAC', 'MP': 'MNP', 'MQ': 'MTQ', 'MR': 'MRT', 'MS': 'MSR', 'MT': 'MLT',\n",
    "    'MU': 'MUS', 'MV': 'MDV', 'MW': 'MWI', 'MX': 'MEX', 'MY': 'MYS', 'MZ': 'MOZ',\n",
    "    'NA': 'NAM', 'NC': 'NCL', 'NE': 'NER', 'NF': 'NFK', 'NG': 'NGA', 'NI': 'NIC',\n",
    "    'NL': 'NLD', 'NO': 'NOR', 'NP': 'NPL', 'NR': 'NRU', 'NU': 'NIU', 'NZ': 'NZL',\n",
    "    'OM': 'OMN', 'PA': 'PAN', 'PE': 'PER', 'PF': 'PYF', 'PG': 'PNG', 'PH': 'PHL',\n",
    "    'PK': 'PAK', 'PL': 'POL', 'PM': 'SPM', 'PN': 'PCN', 'PR': 'PRI', 'PT': 'PRT',\n",
    "    'PW': 'PLW', 'PY': 'PRY', 'QA': 'QAT', 'RE': 'REU', 'RO': 'ROU', 'RS': 'SRB',\n",
    "    'RU': 'RUS', 'RW': 'RWA', 'SA': 'SAU', 'SB': 'SLB', 'SC': 'SYC', 'SD': 'SDN',\n",
    "    'SE': 'SWE', 'SG': 'SGP', 'SH': 'SHN', 'SI': 'SVN', 'SJ': 'SJM', 'SK': 'SVK',\n",
    "    'SL': 'SLE', 'SM': 'SMR', 'SN': 'SEN', 'SO': 'SOM', 'SR': 'SUR', 'SS': 'SSD',\n",
    "    'ST': 'STP', 'SV': 'SLV', 'SX': 'SXM', 'SY': 'SYR', 'SZ': 'SWZ', 'TC': 'TCA',\n",
    "    'TD': 'TCD', 'TF': 'ATF', 'TG': 'TGO', 'TH': 'THA', 'TJ': 'TJK', 'TK': 'TKL',\n",
    "    'TL': 'TLS', 'TM': 'TKM', 'TN': 'TUN', 'TO': 'TON', 'TR': 'TUR', 'TT': 'TTO',\n",
    "    'TV': 'TUV', 'TZ': 'TZA', 'UA': 'UKR', 'UG': 'UGA', 'UM': 'UMI', 'US': 'USA',\n",
    "    'UY': 'URY', 'UZ': 'UZB', 'VA': 'VAT', 'VC': 'VCT', 'VE': 'VEN', 'VG': 'VGB',\n",
    "    'VI': 'VIR', 'VN': 'VNM', 'VU': 'VUT', 'WF': 'WLF', 'WS': 'WSM', 'YE': 'YEM',\n",
    "    'YT': 'MYT', 'ZA': 'ZAF', 'ZM': 'ZMB', 'ZW': 'ZWE'\n",
    "}\n",
    "\n",
    "def iso2_to_iso3(iso2):\n",
    "    return iso2_to_iso3_map.get(iso2.upper(), iso2)\n",
    "\n",
    "\n",
    "attack_data['country'] = data['country'].apply(iso2_to_iso3)\n",
    "normal_connections['country'] = data['country'].apply(iso2_to_iso3)"
   ],
   "id": "d053611ff419ac9e",
   "outputs": [],
   "execution_count": 267
  },
  {
   "metadata": {
    "ExecuteTime": {
     "end_time": "2024-12-17T15:32:50.841433Z",
     "start_time": "2024-12-17T15:32:50.813138Z"
    }
   },
   "cell_type": "code",
   "source": [
    "attack_counts = attack_data.groupby(\"country\").size().reset_index(name=\"Attack Count\")\n",
    "normal_connections = normal_connections.groupby(\"country\").size().reset_index(name=\"Connections Count\")"
   ],
   "id": "cf6a5c48ad2669f0",
   "outputs": [],
   "execution_count": 268
  },
  {
   "metadata": {
    "ExecuteTime": {
     "end_time": "2024-12-17T15:32:50.864150Z",
     "start_time": "2024-12-17T15:32:50.854714Z"
    }
   },
   "cell_type": "code",
   "source": "attack_counts.sort_values(by='Attack Count' , ascending=False)",
   "id": "d38da5a11717d827",
   "outputs": [
    {
     "data": {
      "text/plain": [
       "   country  Attack Count\n",
       "13     ROU            79\n",
       "11     NOR            10\n",
       "1      BRA             9\n",
       "2      CAN             9\n",
       "6      IDN             9\n",
       "7      ITA             7\n",
       "5      DNK             5\n",
       "3      CHL             3\n",
       "8      LVA             3\n",
       "4      CZE             2\n",
       "0      ARG             1\n",
       "10     NLD             1\n",
       "9      MOZ             1\n",
       "12     REU             1\n",
       "14     SVK             1"
      ],
      "text/html": [
       "<div>\n",
       "<style scoped>\n",
       "    .dataframe tbody tr th:only-of-type {\n",
       "        vertical-align: middle;\n",
       "    }\n",
       "\n",
       "    .dataframe tbody tr th {\n",
       "        vertical-align: top;\n",
       "    }\n",
       "\n",
       "    .dataframe thead th {\n",
       "        text-align: right;\n",
       "    }\n",
       "</style>\n",
       "<table border=\"1\" class=\"dataframe\">\n",
       "  <thead>\n",
       "    <tr style=\"text-align: right;\">\n",
       "      <th></th>\n",
       "      <th>country</th>\n",
       "      <th>Attack Count</th>\n",
       "    </tr>\n",
       "  </thead>\n",
       "  <tbody>\n",
       "    <tr>\n",
       "      <th>13</th>\n",
       "      <td>ROU</td>\n",
       "      <td>79</td>\n",
       "    </tr>\n",
       "    <tr>\n",
       "      <th>11</th>\n",
       "      <td>NOR</td>\n",
       "      <td>10</td>\n",
       "    </tr>\n",
       "    <tr>\n",
       "      <th>1</th>\n",
       "      <td>BRA</td>\n",
       "      <td>9</td>\n",
       "    </tr>\n",
       "    <tr>\n",
       "      <th>2</th>\n",
       "      <td>CAN</td>\n",
       "      <td>9</td>\n",
       "    </tr>\n",
       "    <tr>\n",
       "      <th>6</th>\n",
       "      <td>IDN</td>\n",
       "      <td>9</td>\n",
       "    </tr>\n",
       "    <tr>\n",
       "      <th>7</th>\n",
       "      <td>ITA</td>\n",
       "      <td>7</td>\n",
       "    </tr>\n",
       "    <tr>\n",
       "      <th>5</th>\n",
       "      <td>DNK</td>\n",
       "      <td>5</td>\n",
       "    </tr>\n",
       "    <tr>\n",
       "      <th>3</th>\n",
       "      <td>CHL</td>\n",
       "      <td>3</td>\n",
       "    </tr>\n",
       "    <tr>\n",
       "      <th>8</th>\n",
       "      <td>LVA</td>\n",
       "      <td>3</td>\n",
       "    </tr>\n",
       "    <tr>\n",
       "      <th>4</th>\n",
       "      <td>CZE</td>\n",
       "      <td>2</td>\n",
       "    </tr>\n",
       "    <tr>\n",
       "      <th>0</th>\n",
       "      <td>ARG</td>\n",
       "      <td>1</td>\n",
       "    </tr>\n",
       "    <tr>\n",
       "      <th>10</th>\n",
       "      <td>NLD</td>\n",
       "      <td>1</td>\n",
       "    </tr>\n",
       "    <tr>\n",
       "      <th>9</th>\n",
       "      <td>MOZ</td>\n",
       "      <td>1</td>\n",
       "    </tr>\n",
       "    <tr>\n",
       "      <th>12</th>\n",
       "      <td>REU</td>\n",
       "      <td>1</td>\n",
       "    </tr>\n",
       "    <tr>\n",
       "      <th>14</th>\n",
       "      <td>SVK</td>\n",
       "      <td>1</td>\n",
       "    </tr>\n",
       "  </tbody>\n",
       "</table>\n",
       "</div>"
      ]
     },
     "execution_count": 269,
     "metadata": {},
     "output_type": "execute_result"
    }
   ],
   "execution_count": 269
  },
  {
   "metadata": {
    "ExecuteTime": {
     "end_time": "2024-12-17T15:32:51.030412Z",
     "start_time": "2024-12-17T15:32:50.962888Z"
    }
   },
   "cell_type": "code",
   "source": [
    "fig = px.choropleth(\n",
    "    attack_counts,\n",
    "    locations=\"country\",\n",
    "    locationmode=\"ISO-3\",\n",
    "    color=\"Attack Count\",\n",
    "    title=\"Number of Attacks by Country\",\n",
    "    color_continuous_scale=\"Reds\"\n",
    ")\n",
    "fig.update_layout(\n",
    "    width=1200,\n",
    "    height=600\n",
    ")\n",
    "fig.show()"
   ],
   "id": "7931220594a36e17",
   "outputs": [
    {
     "data": {
      "application/vnd.plotly.v1+json": {
       "data": [
        {
         "coloraxis": "coloraxis",
         "geo": "geo",
         "hovertemplate": "country=%{location}<br>Attack Count=%{z}<extra></extra>",
         "locationmode": "ISO-3",
         "locations": [
          "ARG",
          "BRA",
          "CAN",
          "CHL",
          "CZE",
          "DNK",
          "IDN",
          "ITA",
          "LVA",
          "MOZ",
          "NLD",
          "NOR",
          "REU",
          "ROU",
          "SVK"
         ],
         "name": "",
         "z": [
          1,
          9,
          9,
          3,
          2,
          5,
          9,
          7,
          3,
          1,
          1,
          10,
          1,
          79,
          1
         ],
         "type": "choropleth"
        }
       ],
       "layout": {
        "template": {
         "data": {
          "histogram2dcontour": [
           {
            "type": "histogram2dcontour",
            "colorbar": {
             "outlinewidth": 0,
             "ticks": ""
            },
            "colorscale": [
             [
              0.0,
              "#0d0887"
             ],
             [
              0.1111111111111111,
              "#46039f"
             ],
             [
              0.2222222222222222,
              "#7201a8"
             ],
             [
              0.3333333333333333,
              "#9c179e"
             ],
             [
              0.4444444444444444,
              "#bd3786"
             ],
             [
              0.5555555555555556,
              "#d8576b"
             ],
             [
              0.6666666666666666,
              "#ed7953"
             ],
             [
              0.7777777777777778,
              "#fb9f3a"
             ],
             [
              0.8888888888888888,
              "#fdca26"
             ],
             [
              1.0,
              "#f0f921"
             ]
            ]
           }
          ],
          "choropleth": [
           {
            "type": "choropleth",
            "colorbar": {
             "outlinewidth": 0,
             "ticks": ""
            }
           }
          ],
          "histogram2d": [
           {
            "type": "histogram2d",
            "colorbar": {
             "outlinewidth": 0,
             "ticks": ""
            },
            "colorscale": [
             [
              0.0,
              "#0d0887"
             ],
             [
              0.1111111111111111,
              "#46039f"
             ],
             [
              0.2222222222222222,
              "#7201a8"
             ],
             [
              0.3333333333333333,
              "#9c179e"
             ],
             [
              0.4444444444444444,
              "#bd3786"
             ],
             [
              0.5555555555555556,
              "#d8576b"
             ],
             [
              0.6666666666666666,
              "#ed7953"
             ],
             [
              0.7777777777777778,
              "#fb9f3a"
             ],
             [
              0.8888888888888888,
              "#fdca26"
             ],
             [
              1.0,
              "#f0f921"
             ]
            ]
           }
          ],
          "heatmap": [
           {
            "type": "heatmap",
            "colorbar": {
             "outlinewidth": 0,
             "ticks": ""
            },
            "colorscale": [
             [
              0.0,
              "#0d0887"
             ],
             [
              0.1111111111111111,
              "#46039f"
             ],
             [
              0.2222222222222222,
              "#7201a8"
             ],
             [
              0.3333333333333333,
              "#9c179e"
             ],
             [
              0.4444444444444444,
              "#bd3786"
             ],
             [
              0.5555555555555556,
              "#d8576b"
             ],
             [
              0.6666666666666666,
              "#ed7953"
             ],
             [
              0.7777777777777778,
              "#fb9f3a"
             ],
             [
              0.8888888888888888,
              "#fdca26"
             ],
             [
              1.0,
              "#f0f921"
             ]
            ]
           }
          ],
          "heatmapgl": [
           {
            "type": "heatmapgl",
            "colorbar": {
             "outlinewidth": 0,
             "ticks": ""
            },
            "colorscale": [
             [
              0.0,
              "#0d0887"
             ],
             [
              0.1111111111111111,
              "#46039f"
             ],
             [
              0.2222222222222222,
              "#7201a8"
             ],
             [
              0.3333333333333333,
              "#9c179e"
             ],
             [
              0.4444444444444444,
              "#bd3786"
             ],
             [
              0.5555555555555556,
              "#d8576b"
             ],
             [
              0.6666666666666666,
              "#ed7953"
             ],
             [
              0.7777777777777778,
              "#fb9f3a"
             ],
             [
              0.8888888888888888,
              "#fdca26"
             ],
             [
              1.0,
              "#f0f921"
             ]
            ]
           }
          ],
          "contourcarpet": [
           {
            "type": "contourcarpet",
            "colorbar": {
             "outlinewidth": 0,
             "ticks": ""
            }
           }
          ],
          "contour": [
           {
            "type": "contour",
            "colorbar": {
             "outlinewidth": 0,
             "ticks": ""
            },
            "colorscale": [
             [
              0.0,
              "#0d0887"
             ],
             [
              0.1111111111111111,
              "#46039f"
             ],
             [
              0.2222222222222222,
              "#7201a8"
             ],
             [
              0.3333333333333333,
              "#9c179e"
             ],
             [
              0.4444444444444444,
              "#bd3786"
             ],
             [
              0.5555555555555556,
              "#d8576b"
             ],
             [
              0.6666666666666666,
              "#ed7953"
             ],
             [
              0.7777777777777778,
              "#fb9f3a"
             ],
             [
              0.8888888888888888,
              "#fdca26"
             ],
             [
              1.0,
              "#f0f921"
             ]
            ]
           }
          ],
          "surface": [
           {
            "type": "surface",
            "colorbar": {
             "outlinewidth": 0,
             "ticks": ""
            },
            "colorscale": [
             [
              0.0,
              "#0d0887"
             ],
             [
              0.1111111111111111,
              "#46039f"
             ],
             [
              0.2222222222222222,
              "#7201a8"
             ],
             [
              0.3333333333333333,
              "#9c179e"
             ],
             [
              0.4444444444444444,
              "#bd3786"
             ],
             [
              0.5555555555555556,
              "#d8576b"
             ],
             [
              0.6666666666666666,
              "#ed7953"
             ],
             [
              0.7777777777777778,
              "#fb9f3a"
             ],
             [
              0.8888888888888888,
              "#fdca26"
             ],
             [
              1.0,
              "#f0f921"
             ]
            ]
           }
          ],
          "mesh3d": [
           {
            "type": "mesh3d",
            "colorbar": {
             "outlinewidth": 0,
             "ticks": ""
            }
           }
          ],
          "scatter": [
           {
            "fillpattern": {
             "fillmode": "overlay",
             "size": 10,
             "solidity": 0.2
            },
            "type": "scatter"
           }
          ],
          "parcoords": [
           {
            "type": "parcoords",
            "line": {
             "colorbar": {
              "outlinewidth": 0,
              "ticks": ""
             }
            }
           }
          ],
          "scatterpolargl": [
           {
            "type": "scatterpolargl",
            "marker": {
             "colorbar": {
              "outlinewidth": 0,
              "ticks": ""
             }
            }
           }
          ],
          "bar": [
           {
            "error_x": {
             "color": "#2a3f5f"
            },
            "error_y": {
             "color": "#2a3f5f"
            },
            "marker": {
             "line": {
              "color": "#E5ECF6",
              "width": 0.5
             },
             "pattern": {
              "fillmode": "overlay",
              "size": 10,
              "solidity": 0.2
             }
            },
            "type": "bar"
           }
          ],
          "scattergeo": [
           {
            "type": "scattergeo",
            "marker": {
             "colorbar": {
              "outlinewidth": 0,
              "ticks": ""
             }
            }
           }
          ],
          "scatterpolar": [
           {
            "type": "scatterpolar",
            "marker": {
             "colorbar": {
              "outlinewidth": 0,
              "ticks": ""
             }
            }
           }
          ],
          "histogram": [
           {
            "marker": {
             "pattern": {
              "fillmode": "overlay",
              "size": 10,
              "solidity": 0.2
             }
            },
            "type": "histogram"
           }
          ],
          "scattergl": [
           {
            "type": "scattergl",
            "marker": {
             "colorbar": {
              "outlinewidth": 0,
              "ticks": ""
             }
            }
           }
          ],
          "scatter3d": [
           {
            "type": "scatter3d",
            "line": {
             "colorbar": {
              "outlinewidth": 0,
              "ticks": ""
             }
            },
            "marker": {
             "colorbar": {
              "outlinewidth": 0,
              "ticks": ""
             }
            }
           }
          ],
          "scattermapbox": [
           {
            "type": "scattermapbox",
            "marker": {
             "colorbar": {
              "outlinewidth": 0,
              "ticks": ""
             }
            }
           }
          ],
          "scatterternary": [
           {
            "type": "scatterternary",
            "marker": {
             "colorbar": {
              "outlinewidth": 0,
              "ticks": ""
             }
            }
           }
          ],
          "scattercarpet": [
           {
            "type": "scattercarpet",
            "marker": {
             "colorbar": {
              "outlinewidth": 0,
              "ticks": ""
             }
            }
           }
          ],
          "carpet": [
           {
            "aaxis": {
             "endlinecolor": "#2a3f5f",
             "gridcolor": "white",
             "linecolor": "white",
             "minorgridcolor": "white",
             "startlinecolor": "#2a3f5f"
            },
            "baxis": {
             "endlinecolor": "#2a3f5f",
             "gridcolor": "white",
             "linecolor": "white",
             "minorgridcolor": "white",
             "startlinecolor": "#2a3f5f"
            },
            "type": "carpet"
           }
          ],
          "table": [
           {
            "cells": {
             "fill": {
              "color": "#EBF0F8"
             },
             "line": {
              "color": "white"
             }
            },
            "header": {
             "fill": {
              "color": "#C8D4E3"
             },
             "line": {
              "color": "white"
             }
            },
            "type": "table"
           }
          ],
          "barpolar": [
           {
            "marker": {
             "line": {
              "color": "#E5ECF6",
              "width": 0.5
             },
             "pattern": {
              "fillmode": "overlay",
              "size": 10,
              "solidity": 0.2
             }
            },
            "type": "barpolar"
           }
          ],
          "pie": [
           {
            "automargin": true,
            "type": "pie"
           }
          ]
         },
         "layout": {
          "autotypenumbers": "strict",
          "colorway": [
           "#636efa",
           "#EF553B",
           "#00cc96",
           "#ab63fa",
           "#FFA15A",
           "#19d3f3",
           "#FF6692",
           "#B6E880",
           "#FF97FF",
           "#FECB52"
          ],
          "font": {
           "color": "#2a3f5f"
          },
          "hovermode": "closest",
          "hoverlabel": {
           "align": "left"
          },
          "paper_bgcolor": "white",
          "plot_bgcolor": "#E5ECF6",
          "polar": {
           "bgcolor": "#E5ECF6",
           "angularaxis": {
            "gridcolor": "white",
            "linecolor": "white",
            "ticks": ""
           },
           "radialaxis": {
            "gridcolor": "white",
            "linecolor": "white",
            "ticks": ""
           }
          },
          "ternary": {
           "bgcolor": "#E5ECF6",
           "aaxis": {
            "gridcolor": "white",
            "linecolor": "white",
            "ticks": ""
           },
           "baxis": {
            "gridcolor": "white",
            "linecolor": "white",
            "ticks": ""
           },
           "caxis": {
            "gridcolor": "white",
            "linecolor": "white",
            "ticks": ""
           }
          },
          "coloraxis": {
           "colorbar": {
            "outlinewidth": 0,
            "ticks": ""
           }
          },
          "colorscale": {
           "sequential": [
            [
             0.0,
             "#0d0887"
            ],
            [
             0.1111111111111111,
             "#46039f"
            ],
            [
             0.2222222222222222,
             "#7201a8"
            ],
            [
             0.3333333333333333,
             "#9c179e"
            ],
            [
             0.4444444444444444,
             "#bd3786"
            ],
            [
             0.5555555555555556,
             "#d8576b"
            ],
            [
             0.6666666666666666,
             "#ed7953"
            ],
            [
             0.7777777777777778,
             "#fb9f3a"
            ],
            [
             0.8888888888888888,
             "#fdca26"
            ],
            [
             1.0,
             "#f0f921"
            ]
           ],
           "sequentialminus": [
            [
             0.0,
             "#0d0887"
            ],
            [
             0.1111111111111111,
             "#46039f"
            ],
            [
             0.2222222222222222,
             "#7201a8"
            ],
            [
             0.3333333333333333,
             "#9c179e"
            ],
            [
             0.4444444444444444,
             "#bd3786"
            ],
            [
             0.5555555555555556,
             "#d8576b"
            ],
            [
             0.6666666666666666,
             "#ed7953"
            ],
            [
             0.7777777777777778,
             "#fb9f3a"
            ],
            [
             0.8888888888888888,
             "#fdca26"
            ],
            [
             1.0,
             "#f0f921"
            ]
           ],
           "diverging": [
            [
             0,
             "#8e0152"
            ],
            [
             0.1,
             "#c51b7d"
            ],
            [
             0.2,
             "#de77ae"
            ],
            [
             0.3,
             "#f1b6da"
            ],
            [
             0.4,
             "#fde0ef"
            ],
            [
             0.5,
             "#f7f7f7"
            ],
            [
             0.6,
             "#e6f5d0"
            ],
            [
             0.7,
             "#b8e186"
            ],
            [
             0.8,
             "#7fbc41"
            ],
            [
             0.9,
             "#4d9221"
            ],
            [
             1,
             "#276419"
            ]
           ]
          },
          "xaxis": {
           "gridcolor": "white",
           "linecolor": "white",
           "ticks": "",
           "title": {
            "standoff": 15
           },
           "zerolinecolor": "white",
           "automargin": true,
           "zerolinewidth": 2
          },
          "yaxis": {
           "gridcolor": "white",
           "linecolor": "white",
           "ticks": "",
           "title": {
            "standoff": 15
           },
           "zerolinecolor": "white",
           "automargin": true,
           "zerolinewidth": 2
          },
          "scene": {
           "xaxis": {
            "backgroundcolor": "#E5ECF6",
            "gridcolor": "white",
            "linecolor": "white",
            "showbackground": true,
            "ticks": "",
            "zerolinecolor": "white",
            "gridwidth": 2
           },
           "yaxis": {
            "backgroundcolor": "#E5ECF6",
            "gridcolor": "white",
            "linecolor": "white",
            "showbackground": true,
            "ticks": "",
            "zerolinecolor": "white",
            "gridwidth": 2
           },
           "zaxis": {
            "backgroundcolor": "#E5ECF6",
            "gridcolor": "white",
            "linecolor": "white",
            "showbackground": true,
            "ticks": "",
            "zerolinecolor": "white",
            "gridwidth": 2
           }
          },
          "shapedefaults": {
           "line": {
            "color": "#2a3f5f"
           }
          },
          "annotationdefaults": {
           "arrowcolor": "#2a3f5f",
           "arrowhead": 0,
           "arrowwidth": 1
          },
          "geo": {
           "bgcolor": "white",
           "landcolor": "#E5ECF6",
           "subunitcolor": "white",
           "showland": true,
           "showlakes": true,
           "lakecolor": "white"
          },
          "title": {
           "x": 0.05
          },
          "mapbox": {
           "style": "light"
          }
         }
        },
        "geo": {
         "domain": {
          "x": [
           0.0,
           1.0
          ],
          "y": [
           0.0,
           1.0
          ]
         },
         "center": {}
        },
        "coloraxis": {
         "colorbar": {
          "title": {
           "text": "Attack Count"
          }
         },
         "colorscale": [
          [
           0.0,
           "rgb(255,245,240)"
          ],
          [
           0.125,
           "rgb(254,224,210)"
          ],
          [
           0.25,
           "rgb(252,187,161)"
          ],
          [
           0.375,
           "rgb(252,146,114)"
          ],
          [
           0.5,
           "rgb(251,106,74)"
          ],
          [
           0.625,
           "rgb(239,59,44)"
          ],
          [
           0.75,
           "rgb(203,24,29)"
          ],
          [
           0.875,
           "rgb(165,15,21)"
          ],
          [
           1.0,
           "rgb(103,0,13)"
          ]
         ]
        },
        "legend": {
         "tracegroupgap": 0
        },
        "title": {
         "text": "Number of Attacks by Country"
        },
        "width": 1200,
        "height": 600
       },
       "config": {
        "plotlyServerURL": "https://plot.ly"
       }
      },
      "text/html": [
       "<div>                            <div id=\"43f44dfa-2509-4493-ab8d-0e8ddd5f4f35\" class=\"plotly-graph-div\" style=\"height:600px; width:1200px;\"></div>            <script type=\"text/javascript\">                require([\"plotly\"], function(Plotly) {                    window.PLOTLYENV=window.PLOTLYENV || {};                                    if (document.getElementById(\"43f44dfa-2509-4493-ab8d-0e8ddd5f4f35\")) {                    Plotly.newPlot(                        \"43f44dfa-2509-4493-ab8d-0e8ddd5f4f35\",                        [{\"coloraxis\":\"coloraxis\",\"geo\":\"geo\",\"hovertemplate\":\"country=%{location}\\u003cbr\\u003eAttack Count=%{z}\\u003cextra\\u003e\\u003c\\u002fextra\\u003e\",\"locationmode\":\"ISO-3\",\"locations\":[\"ARG\",\"BRA\",\"CAN\",\"CHL\",\"CZE\",\"DNK\",\"IDN\",\"ITA\",\"LVA\",\"MOZ\",\"NLD\",\"NOR\",\"REU\",\"ROU\",\"SVK\"],\"name\":\"\",\"z\":[1,9,9,3,2,5,9,7,3,1,1,10,1,79,1],\"type\":\"choropleth\"}],                        {\"template\":{\"data\":{\"histogram2dcontour\":[{\"type\":\"histogram2dcontour\",\"colorbar\":{\"outlinewidth\":0,\"ticks\":\"\"},\"colorscale\":[[0.0,\"#0d0887\"],[0.1111111111111111,\"#46039f\"],[0.2222222222222222,\"#7201a8\"],[0.3333333333333333,\"#9c179e\"],[0.4444444444444444,\"#bd3786\"],[0.5555555555555556,\"#d8576b\"],[0.6666666666666666,\"#ed7953\"],[0.7777777777777778,\"#fb9f3a\"],[0.8888888888888888,\"#fdca26\"],[1.0,\"#f0f921\"]]}],\"choropleth\":[{\"type\":\"choropleth\",\"colorbar\":{\"outlinewidth\":0,\"ticks\":\"\"}}],\"histogram2d\":[{\"type\":\"histogram2d\",\"colorbar\":{\"outlinewidth\":0,\"ticks\":\"\"},\"colorscale\":[[0.0,\"#0d0887\"],[0.1111111111111111,\"#46039f\"],[0.2222222222222222,\"#7201a8\"],[0.3333333333333333,\"#9c179e\"],[0.4444444444444444,\"#bd3786\"],[0.5555555555555556,\"#d8576b\"],[0.6666666666666666,\"#ed7953\"],[0.7777777777777778,\"#fb9f3a\"],[0.8888888888888888,\"#fdca26\"],[1.0,\"#f0f921\"]]}],\"heatmap\":[{\"type\":\"heatmap\",\"colorbar\":{\"outlinewidth\":0,\"ticks\":\"\"},\"colorscale\":[[0.0,\"#0d0887\"],[0.1111111111111111,\"#46039f\"],[0.2222222222222222,\"#7201a8\"],[0.3333333333333333,\"#9c179e\"],[0.4444444444444444,\"#bd3786\"],[0.5555555555555556,\"#d8576b\"],[0.6666666666666666,\"#ed7953\"],[0.7777777777777778,\"#fb9f3a\"],[0.8888888888888888,\"#fdca26\"],[1.0,\"#f0f921\"]]}],\"heatmapgl\":[{\"type\":\"heatmapgl\",\"colorbar\":{\"outlinewidth\":0,\"ticks\":\"\"},\"colorscale\":[[0.0,\"#0d0887\"],[0.1111111111111111,\"#46039f\"],[0.2222222222222222,\"#7201a8\"],[0.3333333333333333,\"#9c179e\"],[0.4444444444444444,\"#bd3786\"],[0.5555555555555556,\"#d8576b\"],[0.6666666666666666,\"#ed7953\"],[0.7777777777777778,\"#fb9f3a\"],[0.8888888888888888,\"#fdca26\"],[1.0,\"#f0f921\"]]}],\"contourcarpet\":[{\"type\":\"contourcarpet\",\"colorbar\":{\"outlinewidth\":0,\"ticks\":\"\"}}],\"contour\":[{\"type\":\"contour\",\"colorbar\":{\"outlinewidth\":0,\"ticks\":\"\"},\"colorscale\":[[0.0,\"#0d0887\"],[0.1111111111111111,\"#46039f\"],[0.2222222222222222,\"#7201a8\"],[0.3333333333333333,\"#9c179e\"],[0.4444444444444444,\"#bd3786\"],[0.5555555555555556,\"#d8576b\"],[0.6666666666666666,\"#ed7953\"],[0.7777777777777778,\"#fb9f3a\"],[0.8888888888888888,\"#fdca26\"],[1.0,\"#f0f921\"]]}],\"surface\":[{\"type\":\"surface\",\"colorbar\":{\"outlinewidth\":0,\"ticks\":\"\"},\"colorscale\":[[0.0,\"#0d0887\"],[0.1111111111111111,\"#46039f\"],[0.2222222222222222,\"#7201a8\"],[0.3333333333333333,\"#9c179e\"],[0.4444444444444444,\"#bd3786\"],[0.5555555555555556,\"#d8576b\"],[0.6666666666666666,\"#ed7953\"],[0.7777777777777778,\"#fb9f3a\"],[0.8888888888888888,\"#fdca26\"],[1.0,\"#f0f921\"]]}],\"mesh3d\":[{\"type\":\"mesh3d\",\"colorbar\":{\"outlinewidth\":0,\"ticks\":\"\"}}],\"scatter\":[{\"fillpattern\":{\"fillmode\":\"overlay\",\"size\":10,\"solidity\":0.2},\"type\":\"scatter\"}],\"parcoords\":[{\"type\":\"parcoords\",\"line\":{\"colorbar\":{\"outlinewidth\":0,\"ticks\":\"\"}}}],\"scatterpolargl\":[{\"type\":\"scatterpolargl\",\"marker\":{\"colorbar\":{\"outlinewidth\":0,\"ticks\":\"\"}}}],\"bar\":[{\"error_x\":{\"color\":\"#2a3f5f\"},\"error_y\":{\"color\":\"#2a3f5f\"},\"marker\":{\"line\":{\"color\":\"#E5ECF6\",\"width\":0.5},\"pattern\":{\"fillmode\":\"overlay\",\"size\":10,\"solidity\":0.2}},\"type\":\"bar\"}],\"scattergeo\":[{\"type\":\"scattergeo\",\"marker\":{\"colorbar\":{\"outlinewidth\":0,\"ticks\":\"\"}}}],\"scatterpolar\":[{\"type\":\"scatterpolar\",\"marker\":{\"colorbar\":{\"outlinewidth\":0,\"ticks\":\"\"}}}],\"histogram\":[{\"marker\":{\"pattern\":{\"fillmode\":\"overlay\",\"size\":10,\"solidity\":0.2}},\"type\":\"histogram\"}],\"scattergl\":[{\"type\":\"scattergl\",\"marker\":{\"colorbar\":{\"outlinewidth\":0,\"ticks\":\"\"}}}],\"scatter3d\":[{\"type\":\"scatter3d\",\"line\":{\"colorbar\":{\"outlinewidth\":0,\"ticks\":\"\"}},\"marker\":{\"colorbar\":{\"outlinewidth\":0,\"ticks\":\"\"}}}],\"scattermapbox\":[{\"type\":\"scattermapbox\",\"marker\":{\"colorbar\":{\"outlinewidth\":0,\"ticks\":\"\"}}}],\"scatterternary\":[{\"type\":\"scatterternary\",\"marker\":{\"colorbar\":{\"outlinewidth\":0,\"ticks\":\"\"}}}],\"scattercarpet\":[{\"type\":\"scattercarpet\",\"marker\":{\"colorbar\":{\"outlinewidth\":0,\"ticks\":\"\"}}}],\"carpet\":[{\"aaxis\":{\"endlinecolor\":\"#2a3f5f\",\"gridcolor\":\"white\",\"linecolor\":\"white\",\"minorgridcolor\":\"white\",\"startlinecolor\":\"#2a3f5f\"},\"baxis\":{\"endlinecolor\":\"#2a3f5f\",\"gridcolor\":\"white\",\"linecolor\":\"white\",\"minorgridcolor\":\"white\",\"startlinecolor\":\"#2a3f5f\"},\"type\":\"carpet\"}],\"table\":[{\"cells\":{\"fill\":{\"color\":\"#EBF0F8\"},\"line\":{\"color\":\"white\"}},\"header\":{\"fill\":{\"color\":\"#C8D4E3\"},\"line\":{\"color\":\"white\"}},\"type\":\"table\"}],\"barpolar\":[{\"marker\":{\"line\":{\"color\":\"#E5ECF6\",\"width\":0.5},\"pattern\":{\"fillmode\":\"overlay\",\"size\":10,\"solidity\":0.2}},\"type\":\"barpolar\"}],\"pie\":[{\"automargin\":true,\"type\":\"pie\"}]},\"layout\":{\"autotypenumbers\":\"strict\",\"colorway\":[\"#636efa\",\"#EF553B\",\"#00cc96\",\"#ab63fa\",\"#FFA15A\",\"#19d3f3\",\"#FF6692\",\"#B6E880\",\"#FF97FF\",\"#FECB52\"],\"font\":{\"color\":\"#2a3f5f\"},\"hovermode\":\"closest\",\"hoverlabel\":{\"align\":\"left\"},\"paper_bgcolor\":\"white\",\"plot_bgcolor\":\"#E5ECF6\",\"polar\":{\"bgcolor\":\"#E5ECF6\",\"angularaxis\":{\"gridcolor\":\"white\",\"linecolor\":\"white\",\"ticks\":\"\"},\"radialaxis\":{\"gridcolor\":\"white\",\"linecolor\":\"white\",\"ticks\":\"\"}},\"ternary\":{\"bgcolor\":\"#E5ECF6\",\"aaxis\":{\"gridcolor\":\"white\",\"linecolor\":\"white\",\"ticks\":\"\"},\"baxis\":{\"gridcolor\":\"white\",\"linecolor\":\"white\",\"ticks\":\"\"},\"caxis\":{\"gridcolor\":\"white\",\"linecolor\":\"white\",\"ticks\":\"\"}},\"coloraxis\":{\"colorbar\":{\"outlinewidth\":0,\"ticks\":\"\"}},\"colorscale\":{\"sequential\":[[0.0,\"#0d0887\"],[0.1111111111111111,\"#46039f\"],[0.2222222222222222,\"#7201a8\"],[0.3333333333333333,\"#9c179e\"],[0.4444444444444444,\"#bd3786\"],[0.5555555555555556,\"#d8576b\"],[0.6666666666666666,\"#ed7953\"],[0.7777777777777778,\"#fb9f3a\"],[0.8888888888888888,\"#fdca26\"],[1.0,\"#f0f921\"]],\"sequentialminus\":[[0.0,\"#0d0887\"],[0.1111111111111111,\"#46039f\"],[0.2222222222222222,\"#7201a8\"],[0.3333333333333333,\"#9c179e\"],[0.4444444444444444,\"#bd3786\"],[0.5555555555555556,\"#d8576b\"],[0.6666666666666666,\"#ed7953\"],[0.7777777777777778,\"#fb9f3a\"],[0.8888888888888888,\"#fdca26\"],[1.0,\"#f0f921\"]],\"diverging\":[[0,\"#8e0152\"],[0.1,\"#c51b7d\"],[0.2,\"#de77ae\"],[0.3,\"#f1b6da\"],[0.4,\"#fde0ef\"],[0.5,\"#f7f7f7\"],[0.6,\"#e6f5d0\"],[0.7,\"#b8e186\"],[0.8,\"#7fbc41\"],[0.9,\"#4d9221\"],[1,\"#276419\"]]},\"xaxis\":{\"gridcolor\":\"white\",\"linecolor\":\"white\",\"ticks\":\"\",\"title\":{\"standoff\":15},\"zerolinecolor\":\"white\",\"automargin\":true,\"zerolinewidth\":2},\"yaxis\":{\"gridcolor\":\"white\",\"linecolor\":\"white\",\"ticks\":\"\",\"title\":{\"standoff\":15},\"zerolinecolor\":\"white\",\"automargin\":true,\"zerolinewidth\":2},\"scene\":{\"xaxis\":{\"backgroundcolor\":\"#E5ECF6\",\"gridcolor\":\"white\",\"linecolor\":\"white\",\"showbackground\":true,\"ticks\":\"\",\"zerolinecolor\":\"white\",\"gridwidth\":2},\"yaxis\":{\"backgroundcolor\":\"#E5ECF6\",\"gridcolor\":\"white\",\"linecolor\":\"white\",\"showbackground\":true,\"ticks\":\"\",\"zerolinecolor\":\"white\",\"gridwidth\":2},\"zaxis\":{\"backgroundcolor\":\"#E5ECF6\",\"gridcolor\":\"white\",\"linecolor\":\"white\",\"showbackground\":true,\"ticks\":\"\",\"zerolinecolor\":\"white\",\"gridwidth\":2}},\"shapedefaults\":{\"line\":{\"color\":\"#2a3f5f\"}},\"annotationdefaults\":{\"arrowcolor\":\"#2a3f5f\",\"arrowhead\":0,\"arrowwidth\":1},\"geo\":{\"bgcolor\":\"white\",\"landcolor\":\"#E5ECF6\",\"subunitcolor\":\"white\",\"showland\":true,\"showlakes\":true,\"lakecolor\":\"white\"},\"title\":{\"x\":0.05},\"mapbox\":{\"style\":\"light\"}}},\"geo\":{\"domain\":{\"x\":[0.0,1.0],\"y\":[0.0,1.0]},\"center\":{}},\"coloraxis\":{\"colorbar\":{\"title\":{\"text\":\"Attack Count\"}},\"colorscale\":[[0.0,\"rgb(255,245,240)\"],[0.125,\"rgb(254,224,210)\"],[0.25,\"rgb(252,187,161)\"],[0.375,\"rgb(252,146,114)\"],[0.5,\"rgb(251,106,74)\"],[0.625,\"rgb(239,59,44)\"],[0.75,\"rgb(203,24,29)\"],[0.875,\"rgb(165,15,21)\"],[1.0,\"rgb(103,0,13)\"]]},\"legend\":{\"tracegroupgap\":0},\"title\":{\"text\":\"Number of Attacks by Country\"},\"width\":1200,\"height\":600},                        {\"responsive\": true}                    ).then(function(){\n",
       "                            \n",
       "var gd = document.getElementById('43f44dfa-2509-4493-ab8d-0e8ddd5f4f35');\n",
       "var x = new MutationObserver(function (mutations, observer) {{\n",
       "        var display = window.getComputedStyle(gd).display;\n",
       "        if (!display || display === 'none') {{\n",
       "            console.log([gd, 'removed!']);\n",
       "            Plotly.purge(gd);\n",
       "            observer.disconnect();\n",
       "        }}\n",
       "}});\n",
       "\n",
       "// Listen for the removal of the full notebook cells\n",
       "var notebookContainer = gd.closest('#notebook-container');\n",
       "if (notebookContainer) {{\n",
       "    x.observe(notebookContainer, {childList: true});\n",
       "}}\n",
       "\n",
       "// Listen for the clearing of the current output cell\n",
       "var outputEl = gd.closest('.output');\n",
       "if (outputEl) {{\n",
       "    x.observe(outputEl, {childList: true});\n",
       "}}\n",
       "\n",
       "                        })                };                });            </script>        </div>"
      ]
     },
     "metadata": {},
     "output_type": "display_data"
    }
   ],
   "execution_count": 270
  },
  {
   "metadata": {
    "ExecuteTime": {
     "end_time": "2024-12-17T15:32:51.199685Z",
     "start_time": "2024-12-17T15:32:51.186517Z"
    }
   },
   "cell_type": "code",
   "source": "normal_connections.sort_values(by='Connections Count' , ascending=False)",
   "id": "d49968fc8d8929f1",
   "outputs": [
    {
     "data": {
      "text/plain": [
       "    country  Connections Count\n",
       "125     NOR             132215\n",
       "175     USA              86793\n",
       "142     RUS              16812\n",
       "25      BRA              11636\n",
       "44      DEU               8913\n",
       "..      ...                ...\n",
       "105     MAF                  1\n",
       "166     TLS                  1\n",
       "161     TCD                  1\n",
       "155     SUR                  1\n",
       "183     YEM                  1\n",
       "\n",
       "[187 rows x 2 columns]"
      ],
      "text/html": [
       "<div>\n",
       "<style scoped>\n",
       "    .dataframe tbody tr th:only-of-type {\n",
       "        vertical-align: middle;\n",
       "    }\n",
       "\n",
       "    .dataframe tbody tr th {\n",
       "        vertical-align: top;\n",
       "    }\n",
       "\n",
       "    .dataframe thead th {\n",
       "        text-align: right;\n",
       "    }\n",
       "</style>\n",
       "<table border=\"1\" class=\"dataframe\">\n",
       "  <thead>\n",
       "    <tr style=\"text-align: right;\">\n",
       "      <th></th>\n",
       "      <th>country</th>\n",
       "      <th>Connections Count</th>\n",
       "    </tr>\n",
       "  </thead>\n",
       "  <tbody>\n",
       "    <tr>\n",
       "      <th>125</th>\n",
       "      <td>NOR</td>\n",
       "      <td>132215</td>\n",
       "    </tr>\n",
       "    <tr>\n",
       "      <th>175</th>\n",
       "      <td>USA</td>\n",
       "      <td>86793</td>\n",
       "    </tr>\n",
       "    <tr>\n",
       "      <th>142</th>\n",
       "      <td>RUS</td>\n",
       "      <td>16812</td>\n",
       "    </tr>\n",
       "    <tr>\n",
       "      <th>25</th>\n",
       "      <td>BRA</td>\n",
       "      <td>11636</td>\n",
       "    </tr>\n",
       "    <tr>\n",
       "      <th>44</th>\n",
       "      <td>DEU</td>\n",
       "      <td>8913</td>\n",
       "    </tr>\n",
       "    <tr>\n",
       "      <th>...</th>\n",
       "      <td>...</td>\n",
       "      <td>...</td>\n",
       "    </tr>\n",
       "    <tr>\n",
       "      <th>105</th>\n",
       "      <td>MAF</td>\n",
       "      <td>1</td>\n",
       "    </tr>\n",
       "    <tr>\n",
       "      <th>166</th>\n",
       "      <td>TLS</td>\n",
       "      <td>1</td>\n",
       "    </tr>\n",
       "    <tr>\n",
       "      <th>161</th>\n",
       "      <td>TCD</td>\n",
       "      <td>1</td>\n",
       "    </tr>\n",
       "    <tr>\n",
       "      <th>155</th>\n",
       "      <td>SUR</td>\n",
       "      <td>1</td>\n",
       "    </tr>\n",
       "    <tr>\n",
       "      <th>183</th>\n",
       "      <td>YEM</td>\n",
       "      <td>1</td>\n",
       "    </tr>\n",
       "  </tbody>\n",
       "</table>\n",
       "<p>187 rows × 2 columns</p>\n",
       "</div>"
      ]
     },
     "execution_count": 271,
     "metadata": {},
     "output_type": "execute_result"
    }
   ],
   "execution_count": 271
  },
  {
   "metadata": {
    "ExecuteTime": {
     "end_time": "2024-12-17T15:32:51.416508Z",
     "start_time": "2024-12-17T15:32:51.357516Z"
    }
   },
   "cell_type": "code",
   "source": [
    "fig = px.choropleth(\n",
    "    normal_connections,\n",
    "    locations=\"country\",\n",
    "    locationmode=\"ISO-3\",\n",
    "    color=\"Connections Count\",\n",
    "    title=\"Map of Normal Connections by Country\",\n",
    "    color_continuous_scale=\"Blues\"\n",
    ")\n",
    "fig.update_layout(\n",
    "    width=1200,\n",
    "    height=600\n",
    ")\n",
    "fig.show()"
   ],
   "id": "b94889f29f0c46ba",
   "outputs": [
    {
     "data": {
      "application/vnd.plotly.v1+json": {
       "data": [
        {
         "coloraxis": "coloraxis",
         "geo": "geo",
         "hovertemplate": "country=%{location}<br>Connections Count=%{z}<extra></extra>",
         "locationmode": "ISO-3",
         "locations": [
          "AFG",
          "AGO",
          "ALA",
          "ALB",
          "ARE",
          "ARG",
          "ARM",
          "ASM",
          "ATG",
          "AUS",
          "AUT",
          "AZE",
          "BDI",
          "BEL",
          "BEN",
          "BES",
          "BFA",
          "BGD",
          "BGR",
          "BHR",
          "BHS",
          "BLR",
          "BLZ",
          "BMU",
          "BOL",
          "BRA",
          "BRN",
          "BTN",
          "BVT",
          "BWA",
          "CAN",
          "CHE",
          "CHL",
          "CHN",
          "CIV",
          "CMR",
          "COD",
          "COG",
          "COL",
          "CRI",
          "CUW",
          "CYM",
          "CYP",
          "CZE",
          "DEU",
          "DNK",
          "DOM",
          "DZA",
          "ECU",
          "EGY",
          "ESP",
          "EST",
          "FIN",
          "FJI",
          "FRA",
          "FRO",
          "GAB",
          "GBR",
          "GEO",
          "GHA",
          "GIB",
          "GIN",
          "GMB",
          "GRC",
          "GRD",
          "GTM",
          "GUF",
          "GUM",
          "GUY",
          "HKG",
          "HND",
          "HRV",
          "HTI",
          "HUN",
          "IDN",
          "IMN",
          "IND",
          "IRL",
          "IRN",
          "IRQ",
          "ISL",
          "ISR",
          "ITA",
          "JAM",
          "JEY",
          "JOR",
          "JPN",
          "KAZ",
          "KEN",
          "KGZ",
          "KHM",
          "KIR",
          "KNA",
          "KOR",
          "KWT",
          "LAO",
          "LBN",
          "LBR",
          "LBY",
          "LIE",
          "LKA",
          "LTU",
          "LUX",
          "LVA",
          "MAC",
          "MAF",
          "MAR",
          "MDA",
          "MDG",
          "MDV",
          "MEX",
          "MKD",
          "MLI",
          "MLT",
          "MMR",
          "MNE",
          "MNG",
          "MOZ",
          "MUS",
          "MWI",
          "MYS",
          "NCL",
          "NGA",
          "NIC",
          "NLD",
          "NOR",
          "NPL",
          "NZL",
          "OMN",
          "PAK",
          "PAN",
          "PER",
          "PHL",
          "PNG",
          "POL",
          "PRI",
          "PRT",
          "PRY",
          "PS",
          "QAT",
          "REU",
          "ROU",
          "RUS",
          "RWA",
          "SAU",
          "SDN",
          "SEN",
          "SGP",
          "SLB",
          "SLE",
          "SLV",
          "SMR",
          "SOM",
          "SRB",
          "SSD",
          "SUR",
          "SVK",
          "SVN",
          "SWE",
          "SWZ",
          "SYC",
          "TCD",
          "TGO",
          "THA",
          "TJK",
          "TKL",
          "TLS",
          "TTO",
          "TUN",
          "TUR",
          "TW",
          "TZA",
          "UGA",
          "UKR",
          "URY",
          "USA",
          "UZB",
          "VCT",
          "VEN",
          "VGB",
          "VNM",
          "VUT",
          "WSM",
          "YEM",
          "ZAF",
          "ZMB",
          "ZWE"
         ],
         "name": "",
         "z": [
          23,
          27,
          2,
          25,
          27,
          1315,
          20,
          2,
          1,
          3994,
          1075,
          24,
          4,
          129,
          12,
          5,
          11,
          1186,
          355,
          8,
          17,
          21,
          15,
          4,
          10,
          11636,
          1,
          9,
          1,
          10,
          1513,
          1117,
          187,
          667,
          11,
          8,
          21,
          5,
          64,
          27,
          12,
          6,
          28,
          1207,
          8913,
          310,
          26,
          6,
          51,
          19,
          1436,
          46,
          249,
          8,
          1822,
          1,
          5,
          4234,
          35,
          37,
          6,
          4,
          6,
          81,
          1,
          19,
          7,
          2,
          2,
          1066,
          23,
          53,
          3,
          101,
          3152,
          7,
          4404,
          94,
          474,
          49,
          30,
          119,
          1505,
          8,
          1,
          16,
          1121,
          57,
          37,
          30,
          41,
          1,
          1,
          206,
          23,
          13,
          56,
          4,
          3,
          10,
          12,
          46,
          40,
          73,
          1,
          1,
          15,
          64,
          2,
          9,
          117,
          23,
          6,
          8,
          29,
          15,
          19,
          20,
          18,
          16,
          144,
          6,
          59,
          8,
          1698,
          132215,
          68,
          400,
          5,
          73,
          16,
          39,
          174,
          32,
          8535,
          21,
          40,
          40,
          19,
          3,
          3,
          1173,
          16812,
          8,
          49,
          9,
          2,
          638,
          2,
          8,
          14,
          2,
          7,
          54,
          5,
          1,
          96,
          246,
          1092,
          3,
          18,
          1,
          2,
          144,
          12,
          2,
          1,
          10,
          5,
          876,
          57,
          22,
          25,
          4107,
          7,
          86793,
          23,
          2,
          28,
          16,
          207,
          2,
          4,
          1,
          1074,
          15,
          10
         ],
         "type": "choropleth"
        }
       ],
       "layout": {
        "template": {
         "data": {
          "histogram2dcontour": [
           {
            "type": "histogram2dcontour",
            "colorbar": {
             "outlinewidth": 0,
             "ticks": ""
            },
            "colorscale": [
             [
              0.0,
              "#0d0887"
             ],
             [
              0.1111111111111111,
              "#46039f"
             ],
             [
              0.2222222222222222,
              "#7201a8"
             ],
             [
              0.3333333333333333,
              "#9c179e"
             ],
             [
              0.4444444444444444,
              "#bd3786"
             ],
             [
              0.5555555555555556,
              "#d8576b"
             ],
             [
              0.6666666666666666,
              "#ed7953"
             ],
             [
              0.7777777777777778,
              "#fb9f3a"
             ],
             [
              0.8888888888888888,
              "#fdca26"
             ],
             [
              1.0,
              "#f0f921"
             ]
            ]
           }
          ],
          "choropleth": [
           {
            "type": "choropleth",
            "colorbar": {
             "outlinewidth": 0,
             "ticks": ""
            }
           }
          ],
          "histogram2d": [
           {
            "type": "histogram2d",
            "colorbar": {
             "outlinewidth": 0,
             "ticks": ""
            },
            "colorscale": [
             [
              0.0,
              "#0d0887"
             ],
             [
              0.1111111111111111,
              "#46039f"
             ],
             [
              0.2222222222222222,
              "#7201a8"
             ],
             [
              0.3333333333333333,
              "#9c179e"
             ],
             [
              0.4444444444444444,
              "#bd3786"
             ],
             [
              0.5555555555555556,
              "#d8576b"
             ],
             [
              0.6666666666666666,
              "#ed7953"
             ],
             [
              0.7777777777777778,
              "#fb9f3a"
             ],
             [
              0.8888888888888888,
              "#fdca26"
             ],
             [
              1.0,
              "#f0f921"
             ]
            ]
           }
          ],
          "heatmap": [
           {
            "type": "heatmap",
            "colorbar": {
             "outlinewidth": 0,
             "ticks": ""
            },
            "colorscale": [
             [
              0.0,
              "#0d0887"
             ],
             [
              0.1111111111111111,
              "#46039f"
             ],
             [
              0.2222222222222222,
              "#7201a8"
             ],
             [
              0.3333333333333333,
              "#9c179e"
             ],
             [
              0.4444444444444444,
              "#bd3786"
             ],
             [
              0.5555555555555556,
              "#d8576b"
             ],
             [
              0.6666666666666666,
              "#ed7953"
             ],
             [
              0.7777777777777778,
              "#fb9f3a"
             ],
             [
              0.8888888888888888,
              "#fdca26"
             ],
             [
              1.0,
              "#f0f921"
             ]
            ]
           }
          ],
          "heatmapgl": [
           {
            "type": "heatmapgl",
            "colorbar": {
             "outlinewidth": 0,
             "ticks": ""
            },
            "colorscale": [
             [
              0.0,
              "#0d0887"
             ],
             [
              0.1111111111111111,
              "#46039f"
             ],
             [
              0.2222222222222222,
              "#7201a8"
             ],
             [
              0.3333333333333333,
              "#9c179e"
             ],
             [
              0.4444444444444444,
              "#bd3786"
             ],
             [
              0.5555555555555556,
              "#d8576b"
             ],
             [
              0.6666666666666666,
              "#ed7953"
             ],
             [
              0.7777777777777778,
              "#fb9f3a"
             ],
             [
              0.8888888888888888,
              "#fdca26"
             ],
             [
              1.0,
              "#f0f921"
             ]
            ]
           }
          ],
          "contourcarpet": [
           {
            "type": "contourcarpet",
            "colorbar": {
             "outlinewidth": 0,
             "ticks": ""
            }
           }
          ],
          "contour": [
           {
            "type": "contour",
            "colorbar": {
             "outlinewidth": 0,
             "ticks": ""
            },
            "colorscale": [
             [
              0.0,
              "#0d0887"
             ],
             [
              0.1111111111111111,
              "#46039f"
             ],
             [
              0.2222222222222222,
              "#7201a8"
             ],
             [
              0.3333333333333333,
              "#9c179e"
             ],
             [
              0.4444444444444444,
              "#bd3786"
             ],
             [
              0.5555555555555556,
              "#d8576b"
             ],
             [
              0.6666666666666666,
              "#ed7953"
             ],
             [
              0.7777777777777778,
              "#fb9f3a"
             ],
             [
              0.8888888888888888,
              "#fdca26"
             ],
             [
              1.0,
              "#f0f921"
             ]
            ]
           }
          ],
          "surface": [
           {
            "type": "surface",
            "colorbar": {
             "outlinewidth": 0,
             "ticks": ""
            },
            "colorscale": [
             [
              0.0,
              "#0d0887"
             ],
             [
              0.1111111111111111,
              "#46039f"
             ],
             [
              0.2222222222222222,
              "#7201a8"
             ],
             [
              0.3333333333333333,
              "#9c179e"
             ],
             [
              0.4444444444444444,
              "#bd3786"
             ],
             [
              0.5555555555555556,
              "#d8576b"
             ],
             [
              0.6666666666666666,
              "#ed7953"
             ],
             [
              0.7777777777777778,
              "#fb9f3a"
             ],
             [
              0.8888888888888888,
              "#fdca26"
             ],
             [
              1.0,
              "#f0f921"
             ]
            ]
           }
          ],
          "mesh3d": [
           {
            "type": "mesh3d",
            "colorbar": {
             "outlinewidth": 0,
             "ticks": ""
            }
           }
          ],
          "scatter": [
           {
            "fillpattern": {
             "fillmode": "overlay",
             "size": 10,
             "solidity": 0.2
            },
            "type": "scatter"
           }
          ],
          "parcoords": [
           {
            "type": "parcoords",
            "line": {
             "colorbar": {
              "outlinewidth": 0,
              "ticks": ""
             }
            }
           }
          ],
          "scatterpolargl": [
           {
            "type": "scatterpolargl",
            "marker": {
             "colorbar": {
              "outlinewidth": 0,
              "ticks": ""
             }
            }
           }
          ],
          "bar": [
           {
            "error_x": {
             "color": "#2a3f5f"
            },
            "error_y": {
             "color": "#2a3f5f"
            },
            "marker": {
             "line": {
              "color": "#E5ECF6",
              "width": 0.5
             },
             "pattern": {
              "fillmode": "overlay",
              "size": 10,
              "solidity": 0.2
             }
            },
            "type": "bar"
           }
          ],
          "scattergeo": [
           {
            "type": "scattergeo",
            "marker": {
             "colorbar": {
              "outlinewidth": 0,
              "ticks": ""
             }
            }
           }
          ],
          "scatterpolar": [
           {
            "type": "scatterpolar",
            "marker": {
             "colorbar": {
              "outlinewidth": 0,
              "ticks": ""
             }
            }
           }
          ],
          "histogram": [
           {
            "marker": {
             "pattern": {
              "fillmode": "overlay",
              "size": 10,
              "solidity": 0.2
             }
            },
            "type": "histogram"
           }
          ],
          "scattergl": [
           {
            "type": "scattergl",
            "marker": {
             "colorbar": {
              "outlinewidth": 0,
              "ticks": ""
             }
            }
           }
          ],
          "scatter3d": [
           {
            "type": "scatter3d",
            "line": {
             "colorbar": {
              "outlinewidth": 0,
              "ticks": ""
             }
            },
            "marker": {
             "colorbar": {
              "outlinewidth": 0,
              "ticks": ""
             }
            }
           }
          ],
          "scattermapbox": [
           {
            "type": "scattermapbox",
            "marker": {
             "colorbar": {
              "outlinewidth": 0,
              "ticks": ""
             }
            }
           }
          ],
          "scatterternary": [
           {
            "type": "scatterternary",
            "marker": {
             "colorbar": {
              "outlinewidth": 0,
              "ticks": ""
             }
            }
           }
          ],
          "scattercarpet": [
           {
            "type": "scattercarpet",
            "marker": {
             "colorbar": {
              "outlinewidth": 0,
              "ticks": ""
             }
            }
           }
          ],
          "carpet": [
           {
            "aaxis": {
             "endlinecolor": "#2a3f5f",
             "gridcolor": "white",
             "linecolor": "white",
             "minorgridcolor": "white",
             "startlinecolor": "#2a3f5f"
            },
            "baxis": {
             "endlinecolor": "#2a3f5f",
             "gridcolor": "white",
             "linecolor": "white",
             "minorgridcolor": "white",
             "startlinecolor": "#2a3f5f"
            },
            "type": "carpet"
           }
          ],
          "table": [
           {
            "cells": {
             "fill": {
              "color": "#EBF0F8"
             },
             "line": {
              "color": "white"
             }
            },
            "header": {
             "fill": {
              "color": "#C8D4E3"
             },
             "line": {
              "color": "white"
             }
            },
            "type": "table"
           }
          ],
          "barpolar": [
           {
            "marker": {
             "line": {
              "color": "#E5ECF6",
              "width": 0.5
             },
             "pattern": {
              "fillmode": "overlay",
              "size": 10,
              "solidity": 0.2
             }
            },
            "type": "barpolar"
           }
          ],
          "pie": [
           {
            "automargin": true,
            "type": "pie"
           }
          ]
         },
         "layout": {
          "autotypenumbers": "strict",
          "colorway": [
           "#636efa",
           "#EF553B",
           "#00cc96",
           "#ab63fa",
           "#FFA15A",
           "#19d3f3",
           "#FF6692",
           "#B6E880",
           "#FF97FF",
           "#FECB52"
          ],
          "font": {
           "color": "#2a3f5f"
          },
          "hovermode": "closest",
          "hoverlabel": {
           "align": "left"
          },
          "paper_bgcolor": "white",
          "plot_bgcolor": "#E5ECF6",
          "polar": {
           "bgcolor": "#E5ECF6",
           "angularaxis": {
            "gridcolor": "white",
            "linecolor": "white",
            "ticks": ""
           },
           "radialaxis": {
            "gridcolor": "white",
            "linecolor": "white",
            "ticks": ""
           }
          },
          "ternary": {
           "bgcolor": "#E5ECF6",
           "aaxis": {
            "gridcolor": "white",
            "linecolor": "white",
            "ticks": ""
           },
           "baxis": {
            "gridcolor": "white",
            "linecolor": "white",
            "ticks": ""
           },
           "caxis": {
            "gridcolor": "white",
            "linecolor": "white",
            "ticks": ""
           }
          },
          "coloraxis": {
           "colorbar": {
            "outlinewidth": 0,
            "ticks": ""
           }
          },
          "colorscale": {
           "sequential": [
            [
             0.0,
             "#0d0887"
            ],
            [
             0.1111111111111111,
             "#46039f"
            ],
            [
             0.2222222222222222,
             "#7201a8"
            ],
            [
             0.3333333333333333,
             "#9c179e"
            ],
            [
             0.4444444444444444,
             "#bd3786"
            ],
            [
             0.5555555555555556,
             "#d8576b"
            ],
            [
             0.6666666666666666,
             "#ed7953"
            ],
            [
             0.7777777777777778,
             "#fb9f3a"
            ],
            [
             0.8888888888888888,
             "#fdca26"
            ],
            [
             1.0,
             "#f0f921"
            ]
           ],
           "sequentialminus": [
            [
             0.0,
             "#0d0887"
            ],
            [
             0.1111111111111111,
             "#46039f"
            ],
            [
             0.2222222222222222,
             "#7201a8"
            ],
            [
             0.3333333333333333,
             "#9c179e"
            ],
            [
             0.4444444444444444,
             "#bd3786"
            ],
            [
             0.5555555555555556,
             "#d8576b"
            ],
            [
             0.6666666666666666,
             "#ed7953"
            ],
            [
             0.7777777777777778,
             "#fb9f3a"
            ],
            [
             0.8888888888888888,
             "#fdca26"
            ],
            [
             1.0,
             "#f0f921"
            ]
           ],
           "diverging": [
            [
             0,
             "#8e0152"
            ],
            [
             0.1,
             "#c51b7d"
            ],
            [
             0.2,
             "#de77ae"
            ],
            [
             0.3,
             "#f1b6da"
            ],
            [
             0.4,
             "#fde0ef"
            ],
            [
             0.5,
             "#f7f7f7"
            ],
            [
             0.6,
             "#e6f5d0"
            ],
            [
             0.7,
             "#b8e186"
            ],
            [
             0.8,
             "#7fbc41"
            ],
            [
             0.9,
             "#4d9221"
            ],
            [
             1,
             "#276419"
            ]
           ]
          },
          "xaxis": {
           "gridcolor": "white",
           "linecolor": "white",
           "ticks": "",
           "title": {
            "standoff": 15
           },
           "zerolinecolor": "white",
           "automargin": true,
           "zerolinewidth": 2
          },
          "yaxis": {
           "gridcolor": "white",
           "linecolor": "white",
           "ticks": "",
           "title": {
            "standoff": 15
           },
           "zerolinecolor": "white",
           "automargin": true,
           "zerolinewidth": 2
          },
          "scene": {
           "xaxis": {
            "backgroundcolor": "#E5ECF6",
            "gridcolor": "white",
            "linecolor": "white",
            "showbackground": true,
            "ticks": "",
            "zerolinecolor": "white",
            "gridwidth": 2
           },
           "yaxis": {
            "backgroundcolor": "#E5ECF6",
            "gridcolor": "white",
            "linecolor": "white",
            "showbackground": true,
            "ticks": "",
            "zerolinecolor": "white",
            "gridwidth": 2
           },
           "zaxis": {
            "backgroundcolor": "#E5ECF6",
            "gridcolor": "white",
            "linecolor": "white",
            "showbackground": true,
            "ticks": "",
            "zerolinecolor": "white",
            "gridwidth": 2
           }
          },
          "shapedefaults": {
           "line": {
            "color": "#2a3f5f"
           }
          },
          "annotationdefaults": {
           "arrowcolor": "#2a3f5f",
           "arrowhead": 0,
           "arrowwidth": 1
          },
          "geo": {
           "bgcolor": "white",
           "landcolor": "#E5ECF6",
           "subunitcolor": "white",
           "showland": true,
           "showlakes": true,
           "lakecolor": "white"
          },
          "title": {
           "x": 0.05
          },
          "mapbox": {
           "style": "light"
          }
         }
        },
        "geo": {
         "domain": {
          "x": [
           0.0,
           1.0
          ],
          "y": [
           0.0,
           1.0
          ]
         },
         "center": {}
        },
        "coloraxis": {
         "colorbar": {
          "title": {
           "text": "Connections Count"
          }
         },
         "colorscale": [
          [
           0.0,
           "rgb(247,251,255)"
          ],
          [
           0.125,
           "rgb(222,235,247)"
          ],
          [
           0.25,
           "rgb(198,219,239)"
          ],
          [
           0.375,
           "rgb(158,202,225)"
          ],
          [
           0.5,
           "rgb(107,174,214)"
          ],
          [
           0.625,
           "rgb(66,146,198)"
          ],
          [
           0.75,
           "rgb(33,113,181)"
          ],
          [
           0.875,
           "rgb(8,81,156)"
          ],
          [
           1.0,
           "rgb(8,48,107)"
          ]
         ]
        },
        "legend": {
         "tracegroupgap": 0
        },
        "title": {
         "text": "Map of Normal Connections by Country"
        },
        "width": 1200,
        "height": 600
       },
       "config": {
        "plotlyServerURL": "https://plot.ly"
       }
      },
      "text/html": [
       "<div>                            <div id=\"d2533756-5b03-4f48-b77e-d2fd08727fb2\" class=\"plotly-graph-div\" style=\"height:600px; width:1200px;\"></div>            <script type=\"text/javascript\">                require([\"plotly\"], function(Plotly) {                    window.PLOTLYENV=window.PLOTLYENV || {};                                    if (document.getElementById(\"d2533756-5b03-4f48-b77e-d2fd08727fb2\")) {                    Plotly.newPlot(                        \"d2533756-5b03-4f48-b77e-d2fd08727fb2\",                        [{\"coloraxis\":\"coloraxis\",\"geo\":\"geo\",\"hovertemplate\":\"country=%{location}\\u003cbr\\u003eConnections Count=%{z}\\u003cextra\\u003e\\u003c\\u002fextra\\u003e\",\"locationmode\":\"ISO-3\",\"locations\":[\"AFG\",\"AGO\",\"ALA\",\"ALB\",\"ARE\",\"ARG\",\"ARM\",\"ASM\",\"ATG\",\"AUS\",\"AUT\",\"AZE\",\"BDI\",\"BEL\",\"BEN\",\"BES\",\"BFA\",\"BGD\",\"BGR\",\"BHR\",\"BHS\",\"BLR\",\"BLZ\",\"BMU\",\"BOL\",\"BRA\",\"BRN\",\"BTN\",\"BVT\",\"BWA\",\"CAN\",\"CHE\",\"CHL\",\"CHN\",\"CIV\",\"CMR\",\"COD\",\"COG\",\"COL\",\"CRI\",\"CUW\",\"CYM\",\"CYP\",\"CZE\",\"DEU\",\"DNK\",\"DOM\",\"DZA\",\"ECU\",\"EGY\",\"ESP\",\"EST\",\"FIN\",\"FJI\",\"FRA\",\"FRO\",\"GAB\",\"GBR\",\"GEO\",\"GHA\",\"GIB\",\"GIN\",\"GMB\",\"GRC\",\"GRD\",\"GTM\",\"GUF\",\"GUM\",\"GUY\",\"HKG\",\"HND\",\"HRV\",\"HTI\",\"HUN\",\"IDN\",\"IMN\",\"IND\",\"IRL\",\"IRN\",\"IRQ\",\"ISL\",\"ISR\",\"ITA\",\"JAM\",\"JEY\",\"JOR\",\"JPN\",\"KAZ\",\"KEN\",\"KGZ\",\"KHM\",\"KIR\",\"KNA\",\"KOR\",\"KWT\",\"LAO\",\"LBN\",\"LBR\",\"LBY\",\"LIE\",\"LKA\",\"LTU\",\"LUX\",\"LVA\",\"MAC\",\"MAF\",\"MAR\",\"MDA\",\"MDG\",\"MDV\",\"MEX\",\"MKD\",\"MLI\",\"MLT\",\"MMR\",\"MNE\",\"MNG\",\"MOZ\",\"MUS\",\"MWI\",\"MYS\",\"NCL\",\"NGA\",\"NIC\",\"NLD\",\"NOR\",\"NPL\",\"NZL\",\"OMN\",\"PAK\",\"PAN\",\"PER\",\"PHL\",\"PNG\",\"POL\",\"PRI\",\"PRT\",\"PRY\",\"PS\",\"QAT\",\"REU\",\"ROU\",\"RUS\",\"RWA\",\"SAU\",\"SDN\",\"SEN\",\"SGP\",\"SLB\",\"SLE\",\"SLV\",\"SMR\",\"SOM\",\"SRB\",\"SSD\",\"SUR\",\"SVK\",\"SVN\",\"SWE\",\"SWZ\",\"SYC\",\"TCD\",\"TGO\",\"THA\",\"TJK\",\"TKL\",\"TLS\",\"TTO\",\"TUN\",\"TUR\",\"TW\",\"TZA\",\"UGA\",\"UKR\",\"URY\",\"USA\",\"UZB\",\"VCT\",\"VEN\",\"VGB\",\"VNM\",\"VUT\",\"WSM\",\"YEM\",\"ZAF\",\"ZMB\",\"ZWE\"],\"name\":\"\",\"z\":[23,27,2,25,27,1315,20,2,1,3994,1075,24,4,129,12,5,11,1186,355,8,17,21,15,4,10,11636,1,9,1,10,1513,1117,187,667,11,8,21,5,64,27,12,6,28,1207,8913,310,26,6,51,19,1436,46,249,8,1822,1,5,4234,35,37,6,4,6,81,1,19,7,2,2,1066,23,53,3,101,3152,7,4404,94,474,49,30,119,1505,8,1,16,1121,57,37,30,41,1,1,206,23,13,56,4,3,10,12,46,40,73,1,1,15,64,2,9,117,23,6,8,29,15,19,20,18,16,144,6,59,8,1698,132215,68,400,5,73,16,39,174,32,8535,21,40,40,19,3,3,1173,16812,8,49,9,2,638,2,8,14,2,7,54,5,1,96,246,1092,3,18,1,2,144,12,2,1,10,5,876,57,22,25,4107,7,86793,23,2,28,16,207,2,4,1,1074,15,10],\"type\":\"choropleth\"}],                        {\"template\":{\"data\":{\"histogram2dcontour\":[{\"type\":\"histogram2dcontour\",\"colorbar\":{\"outlinewidth\":0,\"ticks\":\"\"},\"colorscale\":[[0.0,\"#0d0887\"],[0.1111111111111111,\"#46039f\"],[0.2222222222222222,\"#7201a8\"],[0.3333333333333333,\"#9c179e\"],[0.4444444444444444,\"#bd3786\"],[0.5555555555555556,\"#d8576b\"],[0.6666666666666666,\"#ed7953\"],[0.7777777777777778,\"#fb9f3a\"],[0.8888888888888888,\"#fdca26\"],[1.0,\"#f0f921\"]]}],\"choropleth\":[{\"type\":\"choropleth\",\"colorbar\":{\"outlinewidth\":0,\"ticks\":\"\"}}],\"histogram2d\":[{\"type\":\"histogram2d\",\"colorbar\":{\"outlinewidth\":0,\"ticks\":\"\"},\"colorscale\":[[0.0,\"#0d0887\"],[0.1111111111111111,\"#46039f\"],[0.2222222222222222,\"#7201a8\"],[0.3333333333333333,\"#9c179e\"],[0.4444444444444444,\"#bd3786\"],[0.5555555555555556,\"#d8576b\"],[0.6666666666666666,\"#ed7953\"],[0.7777777777777778,\"#fb9f3a\"],[0.8888888888888888,\"#fdca26\"],[1.0,\"#f0f921\"]]}],\"heatmap\":[{\"type\":\"heatmap\",\"colorbar\":{\"outlinewidth\":0,\"ticks\":\"\"},\"colorscale\":[[0.0,\"#0d0887\"],[0.1111111111111111,\"#46039f\"],[0.2222222222222222,\"#7201a8\"],[0.3333333333333333,\"#9c179e\"],[0.4444444444444444,\"#bd3786\"],[0.5555555555555556,\"#d8576b\"],[0.6666666666666666,\"#ed7953\"],[0.7777777777777778,\"#fb9f3a\"],[0.8888888888888888,\"#fdca26\"],[1.0,\"#f0f921\"]]}],\"heatmapgl\":[{\"type\":\"heatmapgl\",\"colorbar\":{\"outlinewidth\":0,\"ticks\":\"\"},\"colorscale\":[[0.0,\"#0d0887\"],[0.1111111111111111,\"#46039f\"],[0.2222222222222222,\"#7201a8\"],[0.3333333333333333,\"#9c179e\"],[0.4444444444444444,\"#bd3786\"],[0.5555555555555556,\"#d8576b\"],[0.6666666666666666,\"#ed7953\"],[0.7777777777777778,\"#fb9f3a\"],[0.8888888888888888,\"#fdca26\"],[1.0,\"#f0f921\"]]}],\"contourcarpet\":[{\"type\":\"contourcarpet\",\"colorbar\":{\"outlinewidth\":0,\"ticks\":\"\"}}],\"contour\":[{\"type\":\"contour\",\"colorbar\":{\"outlinewidth\":0,\"ticks\":\"\"},\"colorscale\":[[0.0,\"#0d0887\"],[0.1111111111111111,\"#46039f\"],[0.2222222222222222,\"#7201a8\"],[0.3333333333333333,\"#9c179e\"],[0.4444444444444444,\"#bd3786\"],[0.5555555555555556,\"#d8576b\"],[0.6666666666666666,\"#ed7953\"],[0.7777777777777778,\"#fb9f3a\"],[0.8888888888888888,\"#fdca26\"],[1.0,\"#f0f921\"]]}],\"surface\":[{\"type\":\"surface\",\"colorbar\":{\"outlinewidth\":0,\"ticks\":\"\"},\"colorscale\":[[0.0,\"#0d0887\"],[0.1111111111111111,\"#46039f\"],[0.2222222222222222,\"#7201a8\"],[0.3333333333333333,\"#9c179e\"],[0.4444444444444444,\"#bd3786\"],[0.5555555555555556,\"#d8576b\"],[0.6666666666666666,\"#ed7953\"],[0.7777777777777778,\"#fb9f3a\"],[0.8888888888888888,\"#fdca26\"],[1.0,\"#f0f921\"]]}],\"mesh3d\":[{\"type\":\"mesh3d\",\"colorbar\":{\"outlinewidth\":0,\"ticks\":\"\"}}],\"scatter\":[{\"fillpattern\":{\"fillmode\":\"overlay\",\"size\":10,\"solidity\":0.2},\"type\":\"scatter\"}],\"parcoords\":[{\"type\":\"parcoords\",\"line\":{\"colorbar\":{\"outlinewidth\":0,\"ticks\":\"\"}}}],\"scatterpolargl\":[{\"type\":\"scatterpolargl\",\"marker\":{\"colorbar\":{\"outlinewidth\":0,\"ticks\":\"\"}}}],\"bar\":[{\"error_x\":{\"color\":\"#2a3f5f\"},\"error_y\":{\"color\":\"#2a3f5f\"},\"marker\":{\"line\":{\"color\":\"#E5ECF6\",\"width\":0.5},\"pattern\":{\"fillmode\":\"overlay\",\"size\":10,\"solidity\":0.2}},\"type\":\"bar\"}],\"scattergeo\":[{\"type\":\"scattergeo\",\"marker\":{\"colorbar\":{\"outlinewidth\":0,\"ticks\":\"\"}}}],\"scatterpolar\":[{\"type\":\"scatterpolar\",\"marker\":{\"colorbar\":{\"outlinewidth\":0,\"ticks\":\"\"}}}],\"histogram\":[{\"marker\":{\"pattern\":{\"fillmode\":\"overlay\",\"size\":10,\"solidity\":0.2}},\"type\":\"histogram\"}],\"scattergl\":[{\"type\":\"scattergl\",\"marker\":{\"colorbar\":{\"outlinewidth\":0,\"ticks\":\"\"}}}],\"scatter3d\":[{\"type\":\"scatter3d\",\"line\":{\"colorbar\":{\"outlinewidth\":0,\"ticks\":\"\"}},\"marker\":{\"colorbar\":{\"outlinewidth\":0,\"ticks\":\"\"}}}],\"scattermapbox\":[{\"type\":\"scattermapbox\",\"marker\":{\"colorbar\":{\"outlinewidth\":0,\"ticks\":\"\"}}}],\"scatterternary\":[{\"type\":\"scatterternary\",\"marker\":{\"colorbar\":{\"outlinewidth\":0,\"ticks\":\"\"}}}],\"scattercarpet\":[{\"type\":\"scattercarpet\",\"marker\":{\"colorbar\":{\"outlinewidth\":0,\"ticks\":\"\"}}}],\"carpet\":[{\"aaxis\":{\"endlinecolor\":\"#2a3f5f\",\"gridcolor\":\"white\",\"linecolor\":\"white\",\"minorgridcolor\":\"white\",\"startlinecolor\":\"#2a3f5f\"},\"baxis\":{\"endlinecolor\":\"#2a3f5f\",\"gridcolor\":\"white\",\"linecolor\":\"white\",\"minorgridcolor\":\"white\",\"startlinecolor\":\"#2a3f5f\"},\"type\":\"carpet\"}],\"table\":[{\"cells\":{\"fill\":{\"color\":\"#EBF0F8\"},\"line\":{\"color\":\"white\"}},\"header\":{\"fill\":{\"color\":\"#C8D4E3\"},\"line\":{\"color\":\"white\"}},\"type\":\"table\"}],\"barpolar\":[{\"marker\":{\"line\":{\"color\":\"#E5ECF6\",\"width\":0.5},\"pattern\":{\"fillmode\":\"overlay\",\"size\":10,\"solidity\":0.2}},\"type\":\"barpolar\"}],\"pie\":[{\"automargin\":true,\"type\":\"pie\"}]},\"layout\":{\"autotypenumbers\":\"strict\",\"colorway\":[\"#636efa\",\"#EF553B\",\"#00cc96\",\"#ab63fa\",\"#FFA15A\",\"#19d3f3\",\"#FF6692\",\"#B6E880\",\"#FF97FF\",\"#FECB52\"],\"font\":{\"color\":\"#2a3f5f\"},\"hovermode\":\"closest\",\"hoverlabel\":{\"align\":\"left\"},\"paper_bgcolor\":\"white\",\"plot_bgcolor\":\"#E5ECF6\",\"polar\":{\"bgcolor\":\"#E5ECF6\",\"angularaxis\":{\"gridcolor\":\"white\",\"linecolor\":\"white\",\"ticks\":\"\"},\"radialaxis\":{\"gridcolor\":\"white\",\"linecolor\":\"white\",\"ticks\":\"\"}},\"ternary\":{\"bgcolor\":\"#E5ECF6\",\"aaxis\":{\"gridcolor\":\"white\",\"linecolor\":\"white\",\"ticks\":\"\"},\"baxis\":{\"gridcolor\":\"white\",\"linecolor\":\"white\",\"ticks\":\"\"},\"caxis\":{\"gridcolor\":\"white\",\"linecolor\":\"white\",\"ticks\":\"\"}},\"coloraxis\":{\"colorbar\":{\"outlinewidth\":0,\"ticks\":\"\"}},\"colorscale\":{\"sequential\":[[0.0,\"#0d0887\"],[0.1111111111111111,\"#46039f\"],[0.2222222222222222,\"#7201a8\"],[0.3333333333333333,\"#9c179e\"],[0.4444444444444444,\"#bd3786\"],[0.5555555555555556,\"#d8576b\"],[0.6666666666666666,\"#ed7953\"],[0.7777777777777778,\"#fb9f3a\"],[0.8888888888888888,\"#fdca26\"],[1.0,\"#f0f921\"]],\"sequentialminus\":[[0.0,\"#0d0887\"],[0.1111111111111111,\"#46039f\"],[0.2222222222222222,\"#7201a8\"],[0.3333333333333333,\"#9c179e\"],[0.4444444444444444,\"#bd3786\"],[0.5555555555555556,\"#d8576b\"],[0.6666666666666666,\"#ed7953\"],[0.7777777777777778,\"#fb9f3a\"],[0.8888888888888888,\"#fdca26\"],[1.0,\"#f0f921\"]],\"diverging\":[[0,\"#8e0152\"],[0.1,\"#c51b7d\"],[0.2,\"#de77ae\"],[0.3,\"#f1b6da\"],[0.4,\"#fde0ef\"],[0.5,\"#f7f7f7\"],[0.6,\"#e6f5d0\"],[0.7,\"#b8e186\"],[0.8,\"#7fbc41\"],[0.9,\"#4d9221\"],[1,\"#276419\"]]},\"xaxis\":{\"gridcolor\":\"white\",\"linecolor\":\"white\",\"ticks\":\"\",\"title\":{\"standoff\":15},\"zerolinecolor\":\"white\",\"automargin\":true,\"zerolinewidth\":2},\"yaxis\":{\"gridcolor\":\"white\",\"linecolor\":\"white\",\"ticks\":\"\",\"title\":{\"standoff\":15},\"zerolinecolor\":\"white\",\"automargin\":true,\"zerolinewidth\":2},\"scene\":{\"xaxis\":{\"backgroundcolor\":\"#E5ECF6\",\"gridcolor\":\"white\",\"linecolor\":\"white\",\"showbackground\":true,\"ticks\":\"\",\"zerolinecolor\":\"white\",\"gridwidth\":2},\"yaxis\":{\"backgroundcolor\":\"#E5ECF6\",\"gridcolor\":\"white\",\"linecolor\":\"white\",\"showbackground\":true,\"ticks\":\"\",\"zerolinecolor\":\"white\",\"gridwidth\":2},\"zaxis\":{\"backgroundcolor\":\"#E5ECF6\",\"gridcolor\":\"white\",\"linecolor\":\"white\",\"showbackground\":true,\"ticks\":\"\",\"zerolinecolor\":\"white\",\"gridwidth\":2}},\"shapedefaults\":{\"line\":{\"color\":\"#2a3f5f\"}},\"annotationdefaults\":{\"arrowcolor\":\"#2a3f5f\",\"arrowhead\":0,\"arrowwidth\":1},\"geo\":{\"bgcolor\":\"white\",\"landcolor\":\"#E5ECF6\",\"subunitcolor\":\"white\",\"showland\":true,\"showlakes\":true,\"lakecolor\":\"white\"},\"title\":{\"x\":0.05},\"mapbox\":{\"style\":\"light\"}}},\"geo\":{\"domain\":{\"x\":[0.0,1.0],\"y\":[0.0,1.0]},\"center\":{}},\"coloraxis\":{\"colorbar\":{\"title\":{\"text\":\"Connections Count\"}},\"colorscale\":[[0.0,\"rgb(247,251,255)\"],[0.125,\"rgb(222,235,247)\"],[0.25,\"rgb(198,219,239)\"],[0.375,\"rgb(158,202,225)\"],[0.5,\"rgb(107,174,214)\"],[0.625,\"rgb(66,146,198)\"],[0.75,\"rgb(33,113,181)\"],[0.875,\"rgb(8,81,156)\"],[1.0,\"rgb(8,48,107)\"]]},\"legend\":{\"tracegroupgap\":0},\"title\":{\"text\":\"Map of Normal Connections by Country\"},\"width\":1200,\"height\":600},                        {\"responsive\": true}                    ).then(function(){\n",
       "                            \n",
       "var gd = document.getElementById('d2533756-5b03-4f48-b77e-d2fd08727fb2');\n",
       "var x = new MutationObserver(function (mutations, observer) {{\n",
       "        var display = window.getComputedStyle(gd).display;\n",
       "        if (!display || display === 'none') {{\n",
       "            console.log([gd, 'removed!']);\n",
       "            Plotly.purge(gd);\n",
       "            observer.disconnect();\n",
       "        }}\n",
       "}});\n",
       "\n",
       "// Listen for the removal of the full notebook cells\n",
       "var notebookContainer = gd.closest('#notebook-container');\n",
       "if (notebookContainer) {{\n",
       "    x.observe(notebookContainer, {childList: true});\n",
       "}}\n",
       "\n",
       "// Listen for the clearing of the current output cell\n",
       "var outputEl = gd.closest('.output');\n",
       "if (outputEl) {{\n",
       "    x.observe(outputEl, {childList: true});\n",
       "}}\n",
       "\n",
       "                        })                };                });            </script>        </div>"
      ]
     },
     "metadata": {},
     "output_type": "display_data"
    }
   ],
   "execution_count": 272
  },
  {
   "metadata": {},
   "cell_type": "markdown",
   "source": "## Missing Data",
   "id": "3a633f58d4b9e38e"
  },
  {
   "metadata": {
    "ExecuteTime": {
     "end_time": "2024-12-17T15:32:52.041328Z",
     "start_time": "2024-12-17T15:32:51.620851Z"
    }
   },
   "cell_type": "code",
   "source": "data.isnull().sum()",
   "id": "10b125e10aef62b8",
   "outputs": [
    {
     "data": {
      "text/plain": [
       "index                       0\n",
       "timestamp                   0\n",
       "id                          0\n",
       "rtt_ms                 300094\n",
       "ip                          0\n",
       "country                     0\n",
       "region                    482\n",
       "city                      104\n",
       "asn                         0\n",
       "user_agent                  0\n",
       "browser                     0\n",
       "os                          0\n",
       "device                     14\n",
       "login_success               0\n",
       "is_attack_ip                0\n",
       "is_account_takeover         0\n",
       "dtype: int64"
      ]
     },
     "execution_count": 273,
     "metadata": {},
     "output_type": "execute_result"
    }
   ],
   "execution_count": 273
  },
  {
   "metadata": {
    "ExecuteTime": {
     "end_time": "2024-12-17T15:32:52.125617Z",
     "start_time": "2024-12-17T15:32:52.116971Z"
    }
   },
   "cell_type": "code",
   "source": [
    "missing_rtt = data['rtt_ms'].isnull().sum() / len(data) * 100\n",
    "missing_rtt"
   ],
   "id": "7754872022dca3b4",
   "outputs": [
    {
     "data": {
      "text/plain": [
       "np.float64(95.92755263174719)"
      ]
     },
     "execution_count": 274,
     "metadata": {},
     "output_type": "execute_result"
    }
   ],
   "execution_count": 274
  },
  {
   "metadata": {
    "ExecuteTime": {
     "end_time": "2024-12-17T15:32:52.265890Z",
     "start_time": "2024-12-17T15:32:52.183621Z"
    }
   },
   "cell_type": "code",
   "source": "data = data.drop(columns=['rtt_ms', 'region', 'city'])",
   "id": "c313dbd559447bcf",
   "outputs": [],
   "execution_count": 275
  },
  {
   "metadata": {
    "ExecuteTime": {
     "end_time": "2024-12-17T15:32:52.477234Z",
     "start_time": "2024-12-17T15:32:52.403777Z"
    }
   },
   "cell_type": "code",
   "source": "data['device'].fillna(data['device'].mode()[0])",
   "id": "1e3e1e2e46f52096",
   "outputs": [
    {
     "data": {
      "text/plain": [
       "0         desktop\n",
       "1          mobile\n",
       "2          mobile\n",
       "3         desktop\n",
       "4         desktop\n",
       "           ...   \n",
       "312829     mobile\n",
       "312830    unknown\n",
       "312831     mobile\n",
       "312832    desktop\n",
       "312833    desktop\n",
       "Name: device, Length: 312834, dtype: object"
      ]
     },
     "execution_count": 276,
     "metadata": {},
     "output_type": "execute_result"
    }
   ],
   "execution_count": 276
  },
  {
   "metadata": {},
   "cell_type": "markdown",
   "source": "## Time Data",
   "id": "d2f14cef87fdca27"
  },
  {
   "metadata": {
    "ExecuteTime": {
     "end_time": "2024-12-17T15:32:52.743459Z",
     "start_time": "2024-12-17T15:32:52.549433Z"
    }
   },
   "cell_type": "code",
   "source": "data['timestamp'] = pd.to_datetime(data['timestamp'], errors='coerce')",
   "id": "12b6197a9b9b93be",
   "outputs": [],
   "execution_count": 277
  },
  {
   "metadata": {
    "ExecuteTime": {
     "end_time": "2024-12-17T15:32:52.960995Z",
     "start_time": "2024-12-17T15:32:52.812484Z"
    }
   },
   "cell_type": "code",
   "source": [
    "data['hour'] = data['timestamp'].dt.hour\n",
    "data['day'] = data['timestamp'].dt.day_name()\n",
    "data"
   ],
   "id": "46f7372f5e65eddf",
   "outputs": [
    {
     "data": {
      "text/plain": [
       "           index               timestamp                   id              ip  \\\n",
       "0       18772391 2020-10-20 18:59:35.329 -4324475583306591935   51.175.224.92   \n",
       "1        7930838 2020-05-22 11:20:46.696 -9158722628840289273    80.232.87.86   \n",
       "2       28390433 2021-01-23 16:31:55.322  4432628985308499079  84.234.232.132   \n",
       "3        3090501 2020-03-16 14:24:46.628 -4324475583306591935   185.19.116.76   \n",
       "4       29828901 2021-02-10 10:40:40.931 -4324475583306591935    10.0.181.224   \n",
       "...          ...                     ...                  ...             ...   \n",
       "312829  11034609 2020-07-04 22:22:08.091 -4324475583306591935      10.1.43.51   \n",
       "312830  25178766 2020-12-25 15:16:06.779 -4324475583306591935    10.4.138.195   \n",
       "312831  13215789 2020-08-05 02:35:55.789 -4324475583306591935     10.0.106.46   \n",
       "312832  14264354 2020-08-20 12:10:26.089 -4324475583306591935    10.0.181.225   \n",
       "312833  12353213 2020-07-23 08:30:33.866 -2540757603276050441     84.208.57.5   \n",
       "\n",
       "       country     asn                                         user_agent  \\\n",
       "0           NO   29695  Mozilla/5.0 (Macintosh; Intel Mac OS X 10_14_6...   \n",
       "1           NO   25400  Mozilla/5.0 (Linux; U; Android 13.0; i phone X...   \n",
       "2           NO   29695  Mozilla/5.0  (iPhone; CPU iPhone OS 11_2_6 lik...   \n",
       "3           PL   49528  Mozilla/5.0  (X11; CrOS armv7l 5978.98.0) Appl...   \n",
       "4           CH  262582  Mozilla/5.0  (Macintosh; Intel Mac OS X 11_6_3...   \n",
       "...        ...     ...                                                ...   \n",
       "312829      BR  500194  Mozilla/5.0  (iPhone; CPU iPhone OS 13_4 like ...   \n",
       "312830      DE  500608                     VLC/3.0.0-git LibVLC/3.0.0-git   \n",
       "312831      IN   45916  Mozilla/5.0  (iPhone; CPU iPhone OS 11_2_6 lik...   \n",
       "312832      BR  262582  Mozilla/5.0  (Macintosh; Intel Mac OS X 11_6_3...   \n",
       "312833      NO   41164  Mozilla/5.0 (Macintosh; Intel Mac OS X 10_14_6...   \n",
       "\n",
       "                             browser                   os   device  \\\n",
       "0             Chrome 69.0.3497.17.21     Mac OS X 10.14.6  desktop   \n",
       "1             Opera Mobile 52.1.2254         Android 13.0   mobile   \n",
       "2                Firefox 20.0.0.1602           iOS 11.2.6   mobile   \n",
       "3           Chrome 79.0.3945.192.201  Chrome OS 5978.98.0  desktop   \n",
       "4                Chrome 72.0.3626.82      Mac OS X 11.6.3  desktop   \n",
       "...                              ...                  ...      ...   \n",
       "312829  Chrome Mobile 81.0.4044.1937             iOS 13.4   mobile   \n",
       "312830                 VLC 3.0.0-git               Other   unknown   \n",
       "312831  Chrome Mobile 81.0.4044.1929           iOS 11.2.6   mobile   \n",
       "312832      Chrome 84.0.4147.338.339      Mac OS X 11.6.3  desktop   \n",
       "312833        Chrome 69.0.3497.17.20     Mac OS X 10.14.6  desktop   \n",
       "\n",
       "        login_success  is_attack_ip  is_account_takeover  hour        day  \n",
       "0               False         False                False    18    Tuesday  \n",
       "1                True         False                False    11     Friday  \n",
       "2               False         False                False    16   Saturday  \n",
       "3               False         False                False    14     Monday  \n",
       "4               False         False                False    10  Wednesday  \n",
       "...               ...           ...                  ...   ...        ...  \n",
       "312829          False         False                False    22   Saturday  \n",
       "312830          False         False                False    15     Friday  \n",
       "312831          False         False                False     2  Wednesday  \n",
       "312832          False         False                False    12   Thursday  \n",
       "312833           True         False                False     8   Thursday  \n",
       "\n",
       "[312834 rows x 15 columns]"
      ],
      "text/html": [
       "<div>\n",
       "<style scoped>\n",
       "    .dataframe tbody tr th:only-of-type {\n",
       "        vertical-align: middle;\n",
       "    }\n",
       "\n",
       "    .dataframe tbody tr th {\n",
       "        vertical-align: top;\n",
       "    }\n",
       "\n",
       "    .dataframe thead th {\n",
       "        text-align: right;\n",
       "    }\n",
       "</style>\n",
       "<table border=\"1\" class=\"dataframe\">\n",
       "  <thead>\n",
       "    <tr style=\"text-align: right;\">\n",
       "      <th></th>\n",
       "      <th>index</th>\n",
       "      <th>timestamp</th>\n",
       "      <th>id</th>\n",
       "      <th>ip</th>\n",
       "      <th>country</th>\n",
       "      <th>asn</th>\n",
       "      <th>user_agent</th>\n",
       "      <th>browser</th>\n",
       "      <th>os</th>\n",
       "      <th>device</th>\n",
       "      <th>login_success</th>\n",
       "      <th>is_attack_ip</th>\n",
       "      <th>is_account_takeover</th>\n",
       "      <th>hour</th>\n",
       "      <th>day</th>\n",
       "    </tr>\n",
       "  </thead>\n",
       "  <tbody>\n",
       "    <tr>\n",
       "      <th>0</th>\n",
       "      <td>18772391</td>\n",
       "      <td>2020-10-20 18:59:35.329</td>\n",
       "      <td>-4324475583306591935</td>\n",
       "      <td>51.175.224.92</td>\n",
       "      <td>NO</td>\n",
       "      <td>29695</td>\n",
       "      <td>Mozilla/5.0 (Macintosh; Intel Mac OS X 10_14_6...</td>\n",
       "      <td>Chrome 69.0.3497.17.21</td>\n",
       "      <td>Mac OS X 10.14.6</td>\n",
       "      <td>desktop</td>\n",
       "      <td>False</td>\n",
       "      <td>False</td>\n",
       "      <td>False</td>\n",
       "      <td>18</td>\n",
       "      <td>Tuesday</td>\n",
       "    </tr>\n",
       "    <tr>\n",
       "      <th>1</th>\n",
       "      <td>7930838</td>\n",
       "      <td>2020-05-22 11:20:46.696</td>\n",
       "      <td>-9158722628840289273</td>\n",
       "      <td>80.232.87.86</td>\n",
       "      <td>NO</td>\n",
       "      <td>25400</td>\n",
       "      <td>Mozilla/5.0 (Linux; U; Android 13.0; i phone X...</td>\n",
       "      <td>Opera Mobile 52.1.2254</td>\n",
       "      <td>Android 13.0</td>\n",
       "      <td>mobile</td>\n",
       "      <td>True</td>\n",
       "      <td>False</td>\n",
       "      <td>False</td>\n",
       "      <td>11</td>\n",
       "      <td>Friday</td>\n",
       "    </tr>\n",
       "    <tr>\n",
       "      <th>2</th>\n",
       "      <td>28390433</td>\n",
       "      <td>2021-01-23 16:31:55.322</td>\n",
       "      <td>4432628985308499079</td>\n",
       "      <td>84.234.232.132</td>\n",
       "      <td>NO</td>\n",
       "      <td>29695</td>\n",
       "      <td>Mozilla/5.0  (iPhone; CPU iPhone OS 11_2_6 lik...</td>\n",
       "      <td>Firefox 20.0.0.1602</td>\n",
       "      <td>iOS 11.2.6</td>\n",
       "      <td>mobile</td>\n",
       "      <td>False</td>\n",
       "      <td>False</td>\n",
       "      <td>False</td>\n",
       "      <td>16</td>\n",
       "      <td>Saturday</td>\n",
       "    </tr>\n",
       "    <tr>\n",
       "      <th>3</th>\n",
       "      <td>3090501</td>\n",
       "      <td>2020-03-16 14:24:46.628</td>\n",
       "      <td>-4324475583306591935</td>\n",
       "      <td>185.19.116.76</td>\n",
       "      <td>PL</td>\n",
       "      <td>49528</td>\n",
       "      <td>Mozilla/5.0  (X11; CrOS armv7l 5978.98.0) Appl...</td>\n",
       "      <td>Chrome 79.0.3945.192.201</td>\n",
       "      <td>Chrome OS 5978.98.0</td>\n",
       "      <td>desktop</td>\n",
       "      <td>False</td>\n",
       "      <td>False</td>\n",
       "      <td>False</td>\n",
       "      <td>14</td>\n",
       "      <td>Monday</td>\n",
       "    </tr>\n",
       "    <tr>\n",
       "      <th>4</th>\n",
       "      <td>29828901</td>\n",
       "      <td>2021-02-10 10:40:40.931</td>\n",
       "      <td>-4324475583306591935</td>\n",
       "      <td>10.0.181.224</td>\n",
       "      <td>CH</td>\n",
       "      <td>262582</td>\n",
       "      <td>Mozilla/5.0  (Macintosh; Intel Mac OS X 11_6_3...</td>\n",
       "      <td>Chrome 72.0.3626.82</td>\n",
       "      <td>Mac OS X 11.6.3</td>\n",
       "      <td>desktop</td>\n",
       "      <td>False</td>\n",
       "      <td>False</td>\n",
       "      <td>False</td>\n",
       "      <td>10</td>\n",
       "      <td>Wednesday</td>\n",
       "    </tr>\n",
       "    <tr>\n",
       "      <th>...</th>\n",
       "      <td>...</td>\n",
       "      <td>...</td>\n",
       "      <td>...</td>\n",
       "      <td>...</td>\n",
       "      <td>...</td>\n",
       "      <td>...</td>\n",
       "      <td>...</td>\n",
       "      <td>...</td>\n",
       "      <td>...</td>\n",
       "      <td>...</td>\n",
       "      <td>...</td>\n",
       "      <td>...</td>\n",
       "      <td>...</td>\n",
       "      <td>...</td>\n",
       "      <td>...</td>\n",
       "    </tr>\n",
       "    <tr>\n",
       "      <th>312829</th>\n",
       "      <td>11034609</td>\n",
       "      <td>2020-07-04 22:22:08.091</td>\n",
       "      <td>-4324475583306591935</td>\n",
       "      <td>10.1.43.51</td>\n",
       "      <td>BR</td>\n",
       "      <td>500194</td>\n",
       "      <td>Mozilla/5.0  (iPhone; CPU iPhone OS 13_4 like ...</td>\n",
       "      <td>Chrome Mobile 81.0.4044.1937</td>\n",
       "      <td>iOS 13.4</td>\n",
       "      <td>mobile</td>\n",
       "      <td>False</td>\n",
       "      <td>False</td>\n",
       "      <td>False</td>\n",
       "      <td>22</td>\n",
       "      <td>Saturday</td>\n",
       "    </tr>\n",
       "    <tr>\n",
       "      <th>312830</th>\n",
       "      <td>25178766</td>\n",
       "      <td>2020-12-25 15:16:06.779</td>\n",
       "      <td>-4324475583306591935</td>\n",
       "      <td>10.4.138.195</td>\n",
       "      <td>DE</td>\n",
       "      <td>500608</td>\n",
       "      <td>VLC/3.0.0-git LibVLC/3.0.0-git</td>\n",
       "      <td>VLC 3.0.0-git</td>\n",
       "      <td>Other</td>\n",
       "      <td>unknown</td>\n",
       "      <td>False</td>\n",
       "      <td>False</td>\n",
       "      <td>False</td>\n",
       "      <td>15</td>\n",
       "      <td>Friday</td>\n",
       "    </tr>\n",
       "    <tr>\n",
       "      <th>312831</th>\n",
       "      <td>13215789</td>\n",
       "      <td>2020-08-05 02:35:55.789</td>\n",
       "      <td>-4324475583306591935</td>\n",
       "      <td>10.0.106.46</td>\n",
       "      <td>IN</td>\n",
       "      <td>45916</td>\n",
       "      <td>Mozilla/5.0  (iPhone; CPU iPhone OS 11_2_6 lik...</td>\n",
       "      <td>Chrome Mobile 81.0.4044.1929</td>\n",
       "      <td>iOS 11.2.6</td>\n",
       "      <td>mobile</td>\n",
       "      <td>False</td>\n",
       "      <td>False</td>\n",
       "      <td>False</td>\n",
       "      <td>2</td>\n",
       "      <td>Wednesday</td>\n",
       "    </tr>\n",
       "    <tr>\n",
       "      <th>312832</th>\n",
       "      <td>14264354</td>\n",
       "      <td>2020-08-20 12:10:26.089</td>\n",
       "      <td>-4324475583306591935</td>\n",
       "      <td>10.0.181.225</td>\n",
       "      <td>BR</td>\n",
       "      <td>262582</td>\n",
       "      <td>Mozilla/5.0  (Macintosh; Intel Mac OS X 11_6_3...</td>\n",
       "      <td>Chrome 84.0.4147.338.339</td>\n",
       "      <td>Mac OS X 11.6.3</td>\n",
       "      <td>desktop</td>\n",
       "      <td>False</td>\n",
       "      <td>False</td>\n",
       "      <td>False</td>\n",
       "      <td>12</td>\n",
       "      <td>Thursday</td>\n",
       "    </tr>\n",
       "    <tr>\n",
       "      <th>312833</th>\n",
       "      <td>12353213</td>\n",
       "      <td>2020-07-23 08:30:33.866</td>\n",
       "      <td>-2540757603276050441</td>\n",
       "      <td>84.208.57.5</td>\n",
       "      <td>NO</td>\n",
       "      <td>41164</td>\n",
       "      <td>Mozilla/5.0 (Macintosh; Intel Mac OS X 10_14_6...</td>\n",
       "      <td>Chrome 69.0.3497.17.20</td>\n",
       "      <td>Mac OS X 10.14.6</td>\n",
       "      <td>desktop</td>\n",
       "      <td>True</td>\n",
       "      <td>False</td>\n",
       "      <td>False</td>\n",
       "      <td>8</td>\n",
       "      <td>Thursday</td>\n",
       "    </tr>\n",
       "  </tbody>\n",
       "</table>\n",
       "<p>312834 rows × 15 columns</p>\n",
       "</div>"
      ]
     },
     "execution_count": 278,
     "metadata": {},
     "output_type": "execute_result"
    }
   ],
   "execution_count": 278
  },
  {
   "metadata": {
    "ExecuteTime": {
     "end_time": "2024-12-17T15:32:53.122793Z",
     "start_time": "2024-12-17T15:32:53.010090Z"
    }
   },
   "cell_type": "code",
   "source": [
    "def categorize_time_of_day(hour):\n",
    "    if 5 <= hour < 12:\n",
    "        return 'Morning'\n",
    "    elif 12 <= hour < 17:\n",
    "        return 'Afternoon'\n",
    "    elif 17 <= hour < 21:\n",
    "        return 'Evening'\n",
    "    else:\n",
    "        return 'Night'\n",
    "\n",
    "data['time'] = data['hour'].apply(categorize_time_of_day)\n",
    "data\n"
   ],
   "id": "b68197939af3fb4d",
   "outputs": [
    {
     "data": {
      "text/plain": [
       "           index               timestamp                   id              ip  \\\n",
       "0       18772391 2020-10-20 18:59:35.329 -4324475583306591935   51.175.224.92   \n",
       "1        7930838 2020-05-22 11:20:46.696 -9158722628840289273    80.232.87.86   \n",
       "2       28390433 2021-01-23 16:31:55.322  4432628985308499079  84.234.232.132   \n",
       "3        3090501 2020-03-16 14:24:46.628 -4324475583306591935   185.19.116.76   \n",
       "4       29828901 2021-02-10 10:40:40.931 -4324475583306591935    10.0.181.224   \n",
       "...          ...                     ...                  ...             ...   \n",
       "312829  11034609 2020-07-04 22:22:08.091 -4324475583306591935      10.1.43.51   \n",
       "312830  25178766 2020-12-25 15:16:06.779 -4324475583306591935    10.4.138.195   \n",
       "312831  13215789 2020-08-05 02:35:55.789 -4324475583306591935     10.0.106.46   \n",
       "312832  14264354 2020-08-20 12:10:26.089 -4324475583306591935    10.0.181.225   \n",
       "312833  12353213 2020-07-23 08:30:33.866 -2540757603276050441     84.208.57.5   \n",
       "\n",
       "       country     asn                                         user_agent  \\\n",
       "0           NO   29695  Mozilla/5.0 (Macintosh; Intel Mac OS X 10_14_6...   \n",
       "1           NO   25400  Mozilla/5.0 (Linux; U; Android 13.0; i phone X...   \n",
       "2           NO   29695  Mozilla/5.0  (iPhone; CPU iPhone OS 11_2_6 lik...   \n",
       "3           PL   49528  Mozilla/5.0  (X11; CrOS armv7l 5978.98.0) Appl...   \n",
       "4           CH  262582  Mozilla/5.0  (Macintosh; Intel Mac OS X 11_6_3...   \n",
       "...        ...     ...                                                ...   \n",
       "312829      BR  500194  Mozilla/5.0  (iPhone; CPU iPhone OS 13_4 like ...   \n",
       "312830      DE  500608                     VLC/3.0.0-git LibVLC/3.0.0-git   \n",
       "312831      IN   45916  Mozilla/5.0  (iPhone; CPU iPhone OS 11_2_6 lik...   \n",
       "312832      BR  262582  Mozilla/5.0  (Macintosh; Intel Mac OS X 11_6_3...   \n",
       "312833      NO   41164  Mozilla/5.0 (Macintosh; Intel Mac OS X 10_14_6...   \n",
       "\n",
       "                             browser                   os   device  \\\n",
       "0             Chrome 69.0.3497.17.21     Mac OS X 10.14.6  desktop   \n",
       "1             Opera Mobile 52.1.2254         Android 13.0   mobile   \n",
       "2                Firefox 20.0.0.1602           iOS 11.2.6   mobile   \n",
       "3           Chrome 79.0.3945.192.201  Chrome OS 5978.98.0  desktop   \n",
       "4                Chrome 72.0.3626.82      Mac OS X 11.6.3  desktop   \n",
       "...                              ...                  ...      ...   \n",
       "312829  Chrome Mobile 81.0.4044.1937             iOS 13.4   mobile   \n",
       "312830                 VLC 3.0.0-git               Other   unknown   \n",
       "312831  Chrome Mobile 81.0.4044.1929           iOS 11.2.6   mobile   \n",
       "312832      Chrome 84.0.4147.338.339      Mac OS X 11.6.3  desktop   \n",
       "312833        Chrome 69.0.3497.17.20     Mac OS X 10.14.6  desktop   \n",
       "\n",
       "        login_success  is_attack_ip  is_account_takeover  hour        day  \\\n",
       "0               False         False                False    18    Tuesday   \n",
       "1                True         False                False    11     Friday   \n",
       "2               False         False                False    16   Saturday   \n",
       "3               False         False                False    14     Monday   \n",
       "4               False         False                False    10  Wednesday   \n",
       "...               ...           ...                  ...   ...        ...   \n",
       "312829          False         False                False    22   Saturday   \n",
       "312830          False         False                False    15     Friday   \n",
       "312831          False         False                False     2  Wednesday   \n",
       "312832          False         False                False    12   Thursday   \n",
       "312833           True         False                False     8   Thursday   \n",
       "\n",
       "             time  \n",
       "0         Evening  \n",
       "1         Morning  \n",
       "2       Afternoon  \n",
       "3       Afternoon  \n",
       "4         Morning  \n",
       "...           ...  \n",
       "312829      Night  \n",
       "312830  Afternoon  \n",
       "312831      Night  \n",
       "312832  Afternoon  \n",
       "312833    Morning  \n",
       "\n",
       "[312834 rows x 16 columns]"
      ],
      "text/html": [
       "<div>\n",
       "<style scoped>\n",
       "    .dataframe tbody tr th:only-of-type {\n",
       "        vertical-align: middle;\n",
       "    }\n",
       "\n",
       "    .dataframe tbody tr th {\n",
       "        vertical-align: top;\n",
       "    }\n",
       "\n",
       "    .dataframe thead th {\n",
       "        text-align: right;\n",
       "    }\n",
       "</style>\n",
       "<table border=\"1\" class=\"dataframe\">\n",
       "  <thead>\n",
       "    <tr style=\"text-align: right;\">\n",
       "      <th></th>\n",
       "      <th>index</th>\n",
       "      <th>timestamp</th>\n",
       "      <th>id</th>\n",
       "      <th>ip</th>\n",
       "      <th>country</th>\n",
       "      <th>asn</th>\n",
       "      <th>user_agent</th>\n",
       "      <th>browser</th>\n",
       "      <th>os</th>\n",
       "      <th>device</th>\n",
       "      <th>login_success</th>\n",
       "      <th>is_attack_ip</th>\n",
       "      <th>is_account_takeover</th>\n",
       "      <th>hour</th>\n",
       "      <th>day</th>\n",
       "      <th>time</th>\n",
       "    </tr>\n",
       "  </thead>\n",
       "  <tbody>\n",
       "    <tr>\n",
       "      <th>0</th>\n",
       "      <td>18772391</td>\n",
       "      <td>2020-10-20 18:59:35.329</td>\n",
       "      <td>-4324475583306591935</td>\n",
       "      <td>51.175.224.92</td>\n",
       "      <td>NO</td>\n",
       "      <td>29695</td>\n",
       "      <td>Mozilla/5.0 (Macintosh; Intel Mac OS X 10_14_6...</td>\n",
       "      <td>Chrome 69.0.3497.17.21</td>\n",
       "      <td>Mac OS X 10.14.6</td>\n",
       "      <td>desktop</td>\n",
       "      <td>False</td>\n",
       "      <td>False</td>\n",
       "      <td>False</td>\n",
       "      <td>18</td>\n",
       "      <td>Tuesday</td>\n",
       "      <td>Evening</td>\n",
       "    </tr>\n",
       "    <tr>\n",
       "      <th>1</th>\n",
       "      <td>7930838</td>\n",
       "      <td>2020-05-22 11:20:46.696</td>\n",
       "      <td>-9158722628840289273</td>\n",
       "      <td>80.232.87.86</td>\n",
       "      <td>NO</td>\n",
       "      <td>25400</td>\n",
       "      <td>Mozilla/5.0 (Linux; U; Android 13.0; i phone X...</td>\n",
       "      <td>Opera Mobile 52.1.2254</td>\n",
       "      <td>Android 13.0</td>\n",
       "      <td>mobile</td>\n",
       "      <td>True</td>\n",
       "      <td>False</td>\n",
       "      <td>False</td>\n",
       "      <td>11</td>\n",
       "      <td>Friday</td>\n",
       "      <td>Morning</td>\n",
       "    </tr>\n",
       "    <tr>\n",
       "      <th>2</th>\n",
       "      <td>28390433</td>\n",
       "      <td>2021-01-23 16:31:55.322</td>\n",
       "      <td>4432628985308499079</td>\n",
       "      <td>84.234.232.132</td>\n",
       "      <td>NO</td>\n",
       "      <td>29695</td>\n",
       "      <td>Mozilla/5.0  (iPhone; CPU iPhone OS 11_2_6 lik...</td>\n",
       "      <td>Firefox 20.0.0.1602</td>\n",
       "      <td>iOS 11.2.6</td>\n",
       "      <td>mobile</td>\n",
       "      <td>False</td>\n",
       "      <td>False</td>\n",
       "      <td>False</td>\n",
       "      <td>16</td>\n",
       "      <td>Saturday</td>\n",
       "      <td>Afternoon</td>\n",
       "    </tr>\n",
       "    <tr>\n",
       "      <th>3</th>\n",
       "      <td>3090501</td>\n",
       "      <td>2020-03-16 14:24:46.628</td>\n",
       "      <td>-4324475583306591935</td>\n",
       "      <td>185.19.116.76</td>\n",
       "      <td>PL</td>\n",
       "      <td>49528</td>\n",
       "      <td>Mozilla/5.0  (X11; CrOS armv7l 5978.98.0) Appl...</td>\n",
       "      <td>Chrome 79.0.3945.192.201</td>\n",
       "      <td>Chrome OS 5978.98.0</td>\n",
       "      <td>desktop</td>\n",
       "      <td>False</td>\n",
       "      <td>False</td>\n",
       "      <td>False</td>\n",
       "      <td>14</td>\n",
       "      <td>Monday</td>\n",
       "      <td>Afternoon</td>\n",
       "    </tr>\n",
       "    <tr>\n",
       "      <th>4</th>\n",
       "      <td>29828901</td>\n",
       "      <td>2021-02-10 10:40:40.931</td>\n",
       "      <td>-4324475583306591935</td>\n",
       "      <td>10.0.181.224</td>\n",
       "      <td>CH</td>\n",
       "      <td>262582</td>\n",
       "      <td>Mozilla/5.0  (Macintosh; Intel Mac OS X 11_6_3...</td>\n",
       "      <td>Chrome 72.0.3626.82</td>\n",
       "      <td>Mac OS X 11.6.3</td>\n",
       "      <td>desktop</td>\n",
       "      <td>False</td>\n",
       "      <td>False</td>\n",
       "      <td>False</td>\n",
       "      <td>10</td>\n",
       "      <td>Wednesday</td>\n",
       "      <td>Morning</td>\n",
       "    </tr>\n",
       "    <tr>\n",
       "      <th>...</th>\n",
       "      <td>...</td>\n",
       "      <td>...</td>\n",
       "      <td>...</td>\n",
       "      <td>...</td>\n",
       "      <td>...</td>\n",
       "      <td>...</td>\n",
       "      <td>...</td>\n",
       "      <td>...</td>\n",
       "      <td>...</td>\n",
       "      <td>...</td>\n",
       "      <td>...</td>\n",
       "      <td>...</td>\n",
       "      <td>...</td>\n",
       "      <td>...</td>\n",
       "      <td>...</td>\n",
       "      <td>...</td>\n",
       "    </tr>\n",
       "    <tr>\n",
       "      <th>312829</th>\n",
       "      <td>11034609</td>\n",
       "      <td>2020-07-04 22:22:08.091</td>\n",
       "      <td>-4324475583306591935</td>\n",
       "      <td>10.1.43.51</td>\n",
       "      <td>BR</td>\n",
       "      <td>500194</td>\n",
       "      <td>Mozilla/5.0  (iPhone; CPU iPhone OS 13_4 like ...</td>\n",
       "      <td>Chrome Mobile 81.0.4044.1937</td>\n",
       "      <td>iOS 13.4</td>\n",
       "      <td>mobile</td>\n",
       "      <td>False</td>\n",
       "      <td>False</td>\n",
       "      <td>False</td>\n",
       "      <td>22</td>\n",
       "      <td>Saturday</td>\n",
       "      <td>Night</td>\n",
       "    </tr>\n",
       "    <tr>\n",
       "      <th>312830</th>\n",
       "      <td>25178766</td>\n",
       "      <td>2020-12-25 15:16:06.779</td>\n",
       "      <td>-4324475583306591935</td>\n",
       "      <td>10.4.138.195</td>\n",
       "      <td>DE</td>\n",
       "      <td>500608</td>\n",
       "      <td>VLC/3.0.0-git LibVLC/3.0.0-git</td>\n",
       "      <td>VLC 3.0.0-git</td>\n",
       "      <td>Other</td>\n",
       "      <td>unknown</td>\n",
       "      <td>False</td>\n",
       "      <td>False</td>\n",
       "      <td>False</td>\n",
       "      <td>15</td>\n",
       "      <td>Friday</td>\n",
       "      <td>Afternoon</td>\n",
       "    </tr>\n",
       "    <tr>\n",
       "      <th>312831</th>\n",
       "      <td>13215789</td>\n",
       "      <td>2020-08-05 02:35:55.789</td>\n",
       "      <td>-4324475583306591935</td>\n",
       "      <td>10.0.106.46</td>\n",
       "      <td>IN</td>\n",
       "      <td>45916</td>\n",
       "      <td>Mozilla/5.0  (iPhone; CPU iPhone OS 11_2_6 lik...</td>\n",
       "      <td>Chrome Mobile 81.0.4044.1929</td>\n",
       "      <td>iOS 11.2.6</td>\n",
       "      <td>mobile</td>\n",
       "      <td>False</td>\n",
       "      <td>False</td>\n",
       "      <td>False</td>\n",
       "      <td>2</td>\n",
       "      <td>Wednesday</td>\n",
       "      <td>Night</td>\n",
       "    </tr>\n",
       "    <tr>\n",
       "      <th>312832</th>\n",
       "      <td>14264354</td>\n",
       "      <td>2020-08-20 12:10:26.089</td>\n",
       "      <td>-4324475583306591935</td>\n",
       "      <td>10.0.181.225</td>\n",
       "      <td>BR</td>\n",
       "      <td>262582</td>\n",
       "      <td>Mozilla/5.0  (Macintosh; Intel Mac OS X 11_6_3...</td>\n",
       "      <td>Chrome 84.0.4147.338.339</td>\n",
       "      <td>Mac OS X 11.6.3</td>\n",
       "      <td>desktop</td>\n",
       "      <td>False</td>\n",
       "      <td>False</td>\n",
       "      <td>False</td>\n",
       "      <td>12</td>\n",
       "      <td>Thursday</td>\n",
       "      <td>Afternoon</td>\n",
       "    </tr>\n",
       "    <tr>\n",
       "      <th>312833</th>\n",
       "      <td>12353213</td>\n",
       "      <td>2020-07-23 08:30:33.866</td>\n",
       "      <td>-2540757603276050441</td>\n",
       "      <td>84.208.57.5</td>\n",
       "      <td>NO</td>\n",
       "      <td>41164</td>\n",
       "      <td>Mozilla/5.0 (Macintosh; Intel Mac OS X 10_14_6...</td>\n",
       "      <td>Chrome 69.0.3497.17.20</td>\n",
       "      <td>Mac OS X 10.14.6</td>\n",
       "      <td>desktop</td>\n",
       "      <td>True</td>\n",
       "      <td>False</td>\n",
       "      <td>False</td>\n",
       "      <td>8</td>\n",
       "      <td>Thursday</td>\n",
       "      <td>Morning</td>\n",
       "    </tr>\n",
       "  </tbody>\n",
       "</table>\n",
       "<p>312834 rows × 16 columns</p>\n",
       "</div>"
      ]
     },
     "execution_count": 279,
     "metadata": {},
     "output_type": "execute_result"
    }
   ],
   "execution_count": 279
  },
  {
   "metadata": {
    "ExecuteTime": {
     "end_time": "2024-12-17T15:32:53.234573Z",
     "start_time": "2024-12-17T15:32:53.226948Z"
    }
   },
   "cell_type": "code",
   "source": [
    "data['is_account_takeover'] = data['is_account_takeover'].astype(int)\n",
    "data['is_attack_ip'] = data['is_attack_ip'].astype(int) #!!!!!!!!!!!!! inspect this one later\n",
    "data['login_success'] = data['login_success'].astype(int)"
   ],
   "id": "c197b218de260f1b",
   "outputs": [],
   "execution_count": 280
  },
  {
   "metadata": {
    "ExecuteTime": {
     "end_time": "2024-12-17T15:32:53.369207Z",
     "start_time": "2024-12-17T15:32:53.352033Z"
    }
   },
   "cell_type": "code",
   "source": "data",
   "id": "b9ac26b5c6170efe",
   "outputs": [
    {
     "data": {
      "text/plain": [
       "           index               timestamp                   id              ip  \\\n",
       "0       18772391 2020-10-20 18:59:35.329 -4324475583306591935   51.175.224.92   \n",
       "1        7930838 2020-05-22 11:20:46.696 -9158722628840289273    80.232.87.86   \n",
       "2       28390433 2021-01-23 16:31:55.322  4432628985308499079  84.234.232.132   \n",
       "3        3090501 2020-03-16 14:24:46.628 -4324475583306591935   185.19.116.76   \n",
       "4       29828901 2021-02-10 10:40:40.931 -4324475583306591935    10.0.181.224   \n",
       "...          ...                     ...                  ...             ...   \n",
       "312829  11034609 2020-07-04 22:22:08.091 -4324475583306591935      10.1.43.51   \n",
       "312830  25178766 2020-12-25 15:16:06.779 -4324475583306591935    10.4.138.195   \n",
       "312831  13215789 2020-08-05 02:35:55.789 -4324475583306591935     10.0.106.46   \n",
       "312832  14264354 2020-08-20 12:10:26.089 -4324475583306591935    10.0.181.225   \n",
       "312833  12353213 2020-07-23 08:30:33.866 -2540757603276050441     84.208.57.5   \n",
       "\n",
       "       country     asn                                         user_agent  \\\n",
       "0           NO   29695  Mozilla/5.0 (Macintosh; Intel Mac OS X 10_14_6...   \n",
       "1           NO   25400  Mozilla/5.0 (Linux; U; Android 13.0; i phone X...   \n",
       "2           NO   29695  Mozilla/5.0  (iPhone; CPU iPhone OS 11_2_6 lik...   \n",
       "3           PL   49528  Mozilla/5.0  (X11; CrOS armv7l 5978.98.0) Appl...   \n",
       "4           CH  262582  Mozilla/5.0  (Macintosh; Intel Mac OS X 11_6_3...   \n",
       "...        ...     ...                                                ...   \n",
       "312829      BR  500194  Mozilla/5.0  (iPhone; CPU iPhone OS 13_4 like ...   \n",
       "312830      DE  500608                     VLC/3.0.0-git LibVLC/3.0.0-git   \n",
       "312831      IN   45916  Mozilla/5.0  (iPhone; CPU iPhone OS 11_2_6 lik...   \n",
       "312832      BR  262582  Mozilla/5.0  (Macintosh; Intel Mac OS X 11_6_3...   \n",
       "312833      NO   41164  Mozilla/5.0 (Macintosh; Intel Mac OS X 10_14_6...   \n",
       "\n",
       "                             browser                   os   device  \\\n",
       "0             Chrome 69.0.3497.17.21     Mac OS X 10.14.6  desktop   \n",
       "1             Opera Mobile 52.1.2254         Android 13.0   mobile   \n",
       "2                Firefox 20.0.0.1602           iOS 11.2.6   mobile   \n",
       "3           Chrome 79.0.3945.192.201  Chrome OS 5978.98.0  desktop   \n",
       "4                Chrome 72.0.3626.82      Mac OS X 11.6.3  desktop   \n",
       "...                              ...                  ...      ...   \n",
       "312829  Chrome Mobile 81.0.4044.1937             iOS 13.4   mobile   \n",
       "312830                 VLC 3.0.0-git               Other   unknown   \n",
       "312831  Chrome Mobile 81.0.4044.1929           iOS 11.2.6   mobile   \n",
       "312832      Chrome 84.0.4147.338.339      Mac OS X 11.6.3  desktop   \n",
       "312833        Chrome 69.0.3497.17.20     Mac OS X 10.14.6  desktop   \n",
       "\n",
       "        login_success  is_attack_ip  is_account_takeover  hour        day  \\\n",
       "0                   0             0                    0    18    Tuesday   \n",
       "1                   1             0                    0    11     Friday   \n",
       "2                   0             0                    0    16   Saturday   \n",
       "3                   0             0                    0    14     Monday   \n",
       "4                   0             0                    0    10  Wednesday   \n",
       "...               ...           ...                  ...   ...        ...   \n",
       "312829              0             0                    0    22   Saturday   \n",
       "312830              0             0                    0    15     Friday   \n",
       "312831              0             0                    0     2  Wednesday   \n",
       "312832              0             0                    0    12   Thursday   \n",
       "312833              1             0                    0     8   Thursday   \n",
       "\n",
       "             time  \n",
       "0         Evening  \n",
       "1         Morning  \n",
       "2       Afternoon  \n",
       "3       Afternoon  \n",
       "4         Morning  \n",
       "...           ...  \n",
       "312829      Night  \n",
       "312830  Afternoon  \n",
       "312831      Night  \n",
       "312832  Afternoon  \n",
       "312833    Morning  \n",
       "\n",
       "[312834 rows x 16 columns]"
      ],
      "text/html": [
       "<div>\n",
       "<style scoped>\n",
       "    .dataframe tbody tr th:only-of-type {\n",
       "        vertical-align: middle;\n",
       "    }\n",
       "\n",
       "    .dataframe tbody tr th {\n",
       "        vertical-align: top;\n",
       "    }\n",
       "\n",
       "    .dataframe thead th {\n",
       "        text-align: right;\n",
       "    }\n",
       "</style>\n",
       "<table border=\"1\" class=\"dataframe\">\n",
       "  <thead>\n",
       "    <tr style=\"text-align: right;\">\n",
       "      <th></th>\n",
       "      <th>index</th>\n",
       "      <th>timestamp</th>\n",
       "      <th>id</th>\n",
       "      <th>ip</th>\n",
       "      <th>country</th>\n",
       "      <th>asn</th>\n",
       "      <th>user_agent</th>\n",
       "      <th>browser</th>\n",
       "      <th>os</th>\n",
       "      <th>device</th>\n",
       "      <th>login_success</th>\n",
       "      <th>is_attack_ip</th>\n",
       "      <th>is_account_takeover</th>\n",
       "      <th>hour</th>\n",
       "      <th>day</th>\n",
       "      <th>time</th>\n",
       "    </tr>\n",
       "  </thead>\n",
       "  <tbody>\n",
       "    <tr>\n",
       "      <th>0</th>\n",
       "      <td>18772391</td>\n",
       "      <td>2020-10-20 18:59:35.329</td>\n",
       "      <td>-4324475583306591935</td>\n",
       "      <td>51.175.224.92</td>\n",
       "      <td>NO</td>\n",
       "      <td>29695</td>\n",
       "      <td>Mozilla/5.0 (Macintosh; Intel Mac OS X 10_14_6...</td>\n",
       "      <td>Chrome 69.0.3497.17.21</td>\n",
       "      <td>Mac OS X 10.14.6</td>\n",
       "      <td>desktop</td>\n",
       "      <td>0</td>\n",
       "      <td>0</td>\n",
       "      <td>0</td>\n",
       "      <td>18</td>\n",
       "      <td>Tuesday</td>\n",
       "      <td>Evening</td>\n",
       "    </tr>\n",
       "    <tr>\n",
       "      <th>1</th>\n",
       "      <td>7930838</td>\n",
       "      <td>2020-05-22 11:20:46.696</td>\n",
       "      <td>-9158722628840289273</td>\n",
       "      <td>80.232.87.86</td>\n",
       "      <td>NO</td>\n",
       "      <td>25400</td>\n",
       "      <td>Mozilla/5.0 (Linux; U; Android 13.0; i phone X...</td>\n",
       "      <td>Opera Mobile 52.1.2254</td>\n",
       "      <td>Android 13.0</td>\n",
       "      <td>mobile</td>\n",
       "      <td>1</td>\n",
       "      <td>0</td>\n",
       "      <td>0</td>\n",
       "      <td>11</td>\n",
       "      <td>Friday</td>\n",
       "      <td>Morning</td>\n",
       "    </tr>\n",
       "    <tr>\n",
       "      <th>2</th>\n",
       "      <td>28390433</td>\n",
       "      <td>2021-01-23 16:31:55.322</td>\n",
       "      <td>4432628985308499079</td>\n",
       "      <td>84.234.232.132</td>\n",
       "      <td>NO</td>\n",
       "      <td>29695</td>\n",
       "      <td>Mozilla/5.0  (iPhone; CPU iPhone OS 11_2_6 lik...</td>\n",
       "      <td>Firefox 20.0.0.1602</td>\n",
       "      <td>iOS 11.2.6</td>\n",
       "      <td>mobile</td>\n",
       "      <td>0</td>\n",
       "      <td>0</td>\n",
       "      <td>0</td>\n",
       "      <td>16</td>\n",
       "      <td>Saturday</td>\n",
       "      <td>Afternoon</td>\n",
       "    </tr>\n",
       "    <tr>\n",
       "      <th>3</th>\n",
       "      <td>3090501</td>\n",
       "      <td>2020-03-16 14:24:46.628</td>\n",
       "      <td>-4324475583306591935</td>\n",
       "      <td>185.19.116.76</td>\n",
       "      <td>PL</td>\n",
       "      <td>49528</td>\n",
       "      <td>Mozilla/5.0  (X11; CrOS armv7l 5978.98.0) Appl...</td>\n",
       "      <td>Chrome 79.0.3945.192.201</td>\n",
       "      <td>Chrome OS 5978.98.0</td>\n",
       "      <td>desktop</td>\n",
       "      <td>0</td>\n",
       "      <td>0</td>\n",
       "      <td>0</td>\n",
       "      <td>14</td>\n",
       "      <td>Monday</td>\n",
       "      <td>Afternoon</td>\n",
       "    </tr>\n",
       "    <tr>\n",
       "      <th>4</th>\n",
       "      <td>29828901</td>\n",
       "      <td>2021-02-10 10:40:40.931</td>\n",
       "      <td>-4324475583306591935</td>\n",
       "      <td>10.0.181.224</td>\n",
       "      <td>CH</td>\n",
       "      <td>262582</td>\n",
       "      <td>Mozilla/5.0  (Macintosh; Intel Mac OS X 11_6_3...</td>\n",
       "      <td>Chrome 72.0.3626.82</td>\n",
       "      <td>Mac OS X 11.6.3</td>\n",
       "      <td>desktop</td>\n",
       "      <td>0</td>\n",
       "      <td>0</td>\n",
       "      <td>0</td>\n",
       "      <td>10</td>\n",
       "      <td>Wednesday</td>\n",
       "      <td>Morning</td>\n",
       "    </tr>\n",
       "    <tr>\n",
       "      <th>...</th>\n",
       "      <td>...</td>\n",
       "      <td>...</td>\n",
       "      <td>...</td>\n",
       "      <td>...</td>\n",
       "      <td>...</td>\n",
       "      <td>...</td>\n",
       "      <td>...</td>\n",
       "      <td>...</td>\n",
       "      <td>...</td>\n",
       "      <td>...</td>\n",
       "      <td>...</td>\n",
       "      <td>...</td>\n",
       "      <td>...</td>\n",
       "      <td>...</td>\n",
       "      <td>...</td>\n",
       "      <td>...</td>\n",
       "    </tr>\n",
       "    <tr>\n",
       "      <th>312829</th>\n",
       "      <td>11034609</td>\n",
       "      <td>2020-07-04 22:22:08.091</td>\n",
       "      <td>-4324475583306591935</td>\n",
       "      <td>10.1.43.51</td>\n",
       "      <td>BR</td>\n",
       "      <td>500194</td>\n",
       "      <td>Mozilla/5.0  (iPhone; CPU iPhone OS 13_4 like ...</td>\n",
       "      <td>Chrome Mobile 81.0.4044.1937</td>\n",
       "      <td>iOS 13.4</td>\n",
       "      <td>mobile</td>\n",
       "      <td>0</td>\n",
       "      <td>0</td>\n",
       "      <td>0</td>\n",
       "      <td>22</td>\n",
       "      <td>Saturday</td>\n",
       "      <td>Night</td>\n",
       "    </tr>\n",
       "    <tr>\n",
       "      <th>312830</th>\n",
       "      <td>25178766</td>\n",
       "      <td>2020-12-25 15:16:06.779</td>\n",
       "      <td>-4324475583306591935</td>\n",
       "      <td>10.4.138.195</td>\n",
       "      <td>DE</td>\n",
       "      <td>500608</td>\n",
       "      <td>VLC/3.0.0-git LibVLC/3.0.0-git</td>\n",
       "      <td>VLC 3.0.0-git</td>\n",
       "      <td>Other</td>\n",
       "      <td>unknown</td>\n",
       "      <td>0</td>\n",
       "      <td>0</td>\n",
       "      <td>0</td>\n",
       "      <td>15</td>\n",
       "      <td>Friday</td>\n",
       "      <td>Afternoon</td>\n",
       "    </tr>\n",
       "    <tr>\n",
       "      <th>312831</th>\n",
       "      <td>13215789</td>\n",
       "      <td>2020-08-05 02:35:55.789</td>\n",
       "      <td>-4324475583306591935</td>\n",
       "      <td>10.0.106.46</td>\n",
       "      <td>IN</td>\n",
       "      <td>45916</td>\n",
       "      <td>Mozilla/5.0  (iPhone; CPU iPhone OS 11_2_6 lik...</td>\n",
       "      <td>Chrome Mobile 81.0.4044.1929</td>\n",
       "      <td>iOS 11.2.6</td>\n",
       "      <td>mobile</td>\n",
       "      <td>0</td>\n",
       "      <td>0</td>\n",
       "      <td>0</td>\n",
       "      <td>2</td>\n",
       "      <td>Wednesday</td>\n",
       "      <td>Night</td>\n",
       "    </tr>\n",
       "    <tr>\n",
       "      <th>312832</th>\n",
       "      <td>14264354</td>\n",
       "      <td>2020-08-20 12:10:26.089</td>\n",
       "      <td>-4324475583306591935</td>\n",
       "      <td>10.0.181.225</td>\n",
       "      <td>BR</td>\n",
       "      <td>262582</td>\n",
       "      <td>Mozilla/5.0  (Macintosh; Intel Mac OS X 11_6_3...</td>\n",
       "      <td>Chrome 84.0.4147.338.339</td>\n",
       "      <td>Mac OS X 11.6.3</td>\n",
       "      <td>desktop</td>\n",
       "      <td>0</td>\n",
       "      <td>0</td>\n",
       "      <td>0</td>\n",
       "      <td>12</td>\n",
       "      <td>Thursday</td>\n",
       "      <td>Afternoon</td>\n",
       "    </tr>\n",
       "    <tr>\n",
       "      <th>312833</th>\n",
       "      <td>12353213</td>\n",
       "      <td>2020-07-23 08:30:33.866</td>\n",
       "      <td>-2540757603276050441</td>\n",
       "      <td>84.208.57.5</td>\n",
       "      <td>NO</td>\n",
       "      <td>41164</td>\n",
       "      <td>Mozilla/5.0 (Macintosh; Intel Mac OS X 10_14_6...</td>\n",
       "      <td>Chrome 69.0.3497.17.20</td>\n",
       "      <td>Mac OS X 10.14.6</td>\n",
       "      <td>desktop</td>\n",
       "      <td>1</td>\n",
       "      <td>0</td>\n",
       "      <td>0</td>\n",
       "      <td>8</td>\n",
       "      <td>Thursday</td>\n",
       "      <td>Morning</td>\n",
       "    </tr>\n",
       "  </tbody>\n",
       "</table>\n",
       "<p>312834 rows × 16 columns</p>\n",
       "</div>"
      ]
     },
     "execution_count": 281,
     "metadata": {},
     "output_type": "execute_result"
    }
   ],
   "execution_count": 281
  },
  {
   "metadata": {},
   "cell_type": "markdown",
   "source": "## Categorical Data",
   "id": "7334895b43fbb3d0"
  },
  {
   "metadata": {
    "ExecuteTime": {
     "end_time": "2024-12-17T15:32:53.744419Z",
     "start_time": "2024-12-17T15:32:53.523525Z"
    }
   },
   "cell_type": "code",
   "source": [
    "categorical_columns = data.select_dtypes(include=['object'])\n",
    "categorical_columns.columns"
   ],
   "id": "784986e0729dfe63",
   "outputs": [
    {
     "data": {
      "text/plain": [
       "Index(['ip', 'country', 'user_agent', 'browser', 'os', 'device', 'day',\n",
       "       'time'],\n",
       "      dtype='object')"
      ]
     },
     "execution_count": 282,
     "metadata": {},
     "output_type": "execute_result"
    }
   ],
   "execution_count": 282
  },
  {
   "metadata": {},
   "cell_type": "markdown",
   "source": "### IP Address and ASN",
   "id": "5d781ac1725374c9"
  },
  {
   "metadata": {
    "ExecuteTime": {
     "end_time": "2024-12-17T15:32:54.083440Z",
     "start_time": "2024-12-17T15:32:53.832007Z"
    }
   },
   "cell_type": "code",
   "source": "data['ip'].value_counts().sort_values(ascending=False)",
   "id": "21b4db08c8998f7a",
   "outputs": [
    {
     "data": {
      "text/plain": [
       "ip\n",
       "10.3.205.197      4403\n",
       "23.137.225.33     3114\n",
       "10.3.205.196      2484\n",
       "10.3.205.195      2380\n",
       "10.3.205.194      1800\n",
       "                  ... \n",
       "83.243.128.53        1\n",
       "80.202.201.0         1\n",
       "80.211.250.102       1\n",
       "185.51.20.30         1\n",
       "62.73.224.31         1\n",
       "Name: count, Length: 164470, dtype: int64"
      ]
     },
     "execution_count": 283,
     "metadata": {},
     "output_type": "execute_result"
    }
   ],
   "execution_count": 283
  },
  {
   "metadata": {
    "ExecuteTime": {
     "end_time": "2024-12-17T15:32:54.426569Z",
     "start_time": "2024-12-17T15:32:54.121531Z"
    }
   },
   "cell_type": "code",
   "source": [
    "ip_counts = data['ip'].value_counts()\n",
    "data['ip_connection_count'] = data['ip'].map(ip_counts)"
   ],
   "id": "efc44466c4045b98",
   "outputs": [],
   "execution_count": 284
  },
  {
   "metadata": {
    "ExecuteTime": {
     "end_time": "2024-12-17T15:32:54.485248Z",
     "start_time": "2024-12-17T15:32:54.475447Z"
    }
   },
   "cell_type": "code",
   "source": "data['asn'].value_counts().sort_values(ascending=False)",
   "id": "4ee2b685d3b4fb9d",
   "outputs": [
    {
     "data": {
      "text/plain": [
       "asn\n",
       "29695     81446\n",
       "393398    73169\n",
       "15599     16525\n",
       "41164     14266\n",
       "262582    13985\n",
       "          ...  \n",
       "197790        1\n",
       "27847         1\n",
       "506981        1\n",
       "500841        1\n",
       "505599        1\n",
       "Name: count, Length: 3237, dtype: int64"
      ]
     },
     "execution_count": 285,
     "metadata": {},
     "output_type": "execute_result"
    }
   ],
   "execution_count": 285
  },
  {
   "metadata": {
    "ExecuteTime": {
     "end_time": "2024-12-17T15:32:54.572977Z",
     "start_time": "2024-12-17T15:32:54.546066Z"
    }
   },
   "cell_type": "code",
   "source": [
    "asn_counts = data['asn'].value_counts()\n",
    "data['asn_count'] = data['asn'].map(asn_counts)\n",
    "data"
   ],
   "id": "75c2f2aa730cb63f",
   "outputs": [
    {
     "data": {
      "text/plain": [
       "           index               timestamp                   id              ip  \\\n",
       "0       18772391 2020-10-20 18:59:35.329 -4324475583306591935   51.175.224.92   \n",
       "1        7930838 2020-05-22 11:20:46.696 -9158722628840289273    80.232.87.86   \n",
       "2       28390433 2021-01-23 16:31:55.322  4432628985308499079  84.234.232.132   \n",
       "3        3090501 2020-03-16 14:24:46.628 -4324475583306591935   185.19.116.76   \n",
       "4       29828901 2021-02-10 10:40:40.931 -4324475583306591935    10.0.181.224   \n",
       "...          ...                     ...                  ...             ...   \n",
       "312829  11034609 2020-07-04 22:22:08.091 -4324475583306591935      10.1.43.51   \n",
       "312830  25178766 2020-12-25 15:16:06.779 -4324475583306591935    10.4.138.195   \n",
       "312831  13215789 2020-08-05 02:35:55.789 -4324475583306591935     10.0.106.46   \n",
       "312832  14264354 2020-08-20 12:10:26.089 -4324475583306591935    10.0.181.225   \n",
       "312833  12353213 2020-07-23 08:30:33.866 -2540757603276050441     84.208.57.5   \n",
       "\n",
       "       country     asn                                         user_agent  \\\n",
       "0           NO   29695  Mozilla/5.0 (Macintosh; Intel Mac OS X 10_14_6...   \n",
       "1           NO   25400  Mozilla/5.0 (Linux; U; Android 13.0; i phone X...   \n",
       "2           NO   29695  Mozilla/5.0  (iPhone; CPU iPhone OS 11_2_6 lik...   \n",
       "3           PL   49528  Mozilla/5.0  (X11; CrOS armv7l 5978.98.0) Appl...   \n",
       "4           CH  262582  Mozilla/5.0  (Macintosh; Intel Mac OS X 11_6_3...   \n",
       "...        ...     ...                                                ...   \n",
       "312829      BR  500194  Mozilla/5.0  (iPhone; CPU iPhone OS 13_4 like ...   \n",
       "312830      DE  500608                     VLC/3.0.0-git LibVLC/3.0.0-git   \n",
       "312831      IN   45916  Mozilla/5.0  (iPhone; CPU iPhone OS 11_2_6 lik...   \n",
       "312832      BR  262582  Mozilla/5.0  (Macintosh; Intel Mac OS X 11_6_3...   \n",
       "312833      NO   41164  Mozilla/5.0 (Macintosh; Intel Mac OS X 10_14_6...   \n",
       "\n",
       "                             browser                   os   device  \\\n",
       "0             Chrome 69.0.3497.17.21     Mac OS X 10.14.6  desktop   \n",
       "1             Opera Mobile 52.1.2254         Android 13.0   mobile   \n",
       "2                Firefox 20.0.0.1602           iOS 11.2.6   mobile   \n",
       "3           Chrome 79.0.3945.192.201  Chrome OS 5978.98.0  desktop   \n",
       "4                Chrome 72.0.3626.82      Mac OS X 11.6.3  desktop   \n",
       "...                              ...                  ...      ...   \n",
       "312829  Chrome Mobile 81.0.4044.1937             iOS 13.4   mobile   \n",
       "312830                 VLC 3.0.0-git               Other   unknown   \n",
       "312831  Chrome Mobile 81.0.4044.1929           iOS 11.2.6   mobile   \n",
       "312832      Chrome 84.0.4147.338.339      Mac OS X 11.6.3  desktop   \n",
       "312833        Chrome 69.0.3497.17.20     Mac OS X 10.14.6  desktop   \n",
       "\n",
       "        login_success  is_attack_ip  is_account_takeover  hour        day  \\\n",
       "0                   0             0                    0    18    Tuesday   \n",
       "1                   1             0                    0    11     Friday   \n",
       "2                   0             0                    0    16   Saturday   \n",
       "3                   0             0                    0    14     Monday   \n",
       "4                   0             0                    0    10  Wednesday   \n",
       "...               ...           ...                  ...   ...        ...   \n",
       "312829              0             0                    0    22   Saturday   \n",
       "312830              0             0                    0    15     Friday   \n",
       "312831              0             0                    0     2  Wednesday   \n",
       "312832              0             0                    0    12   Thursday   \n",
       "312833              1             0                    0     8   Thursday   \n",
       "\n",
       "             time  ip_connection_count  asn_count  \n",
       "0         Evening                    1      81446  \n",
       "1         Morning                    1       3650  \n",
       "2       Afternoon                    1      81446  \n",
       "3       Afternoon                   10       1166  \n",
       "4         Morning                  364      13985  \n",
       "...           ...                  ...        ...  \n",
       "312829      Night                    1       1866  \n",
       "312830  Afternoon                  568        568  \n",
       "312831      Night                    1       1276  \n",
       "312832  Afternoon                  358      13985  \n",
       "312833    Morning                    1      14266  \n",
       "\n",
       "[312834 rows x 18 columns]"
      ],
      "text/html": [
       "<div>\n",
       "<style scoped>\n",
       "    .dataframe tbody tr th:only-of-type {\n",
       "        vertical-align: middle;\n",
       "    }\n",
       "\n",
       "    .dataframe tbody tr th {\n",
       "        vertical-align: top;\n",
       "    }\n",
       "\n",
       "    .dataframe thead th {\n",
       "        text-align: right;\n",
       "    }\n",
       "</style>\n",
       "<table border=\"1\" class=\"dataframe\">\n",
       "  <thead>\n",
       "    <tr style=\"text-align: right;\">\n",
       "      <th></th>\n",
       "      <th>index</th>\n",
       "      <th>timestamp</th>\n",
       "      <th>id</th>\n",
       "      <th>ip</th>\n",
       "      <th>country</th>\n",
       "      <th>asn</th>\n",
       "      <th>user_agent</th>\n",
       "      <th>browser</th>\n",
       "      <th>os</th>\n",
       "      <th>device</th>\n",
       "      <th>login_success</th>\n",
       "      <th>is_attack_ip</th>\n",
       "      <th>is_account_takeover</th>\n",
       "      <th>hour</th>\n",
       "      <th>day</th>\n",
       "      <th>time</th>\n",
       "      <th>ip_connection_count</th>\n",
       "      <th>asn_count</th>\n",
       "    </tr>\n",
       "  </thead>\n",
       "  <tbody>\n",
       "    <tr>\n",
       "      <th>0</th>\n",
       "      <td>18772391</td>\n",
       "      <td>2020-10-20 18:59:35.329</td>\n",
       "      <td>-4324475583306591935</td>\n",
       "      <td>51.175.224.92</td>\n",
       "      <td>NO</td>\n",
       "      <td>29695</td>\n",
       "      <td>Mozilla/5.0 (Macintosh; Intel Mac OS X 10_14_6...</td>\n",
       "      <td>Chrome 69.0.3497.17.21</td>\n",
       "      <td>Mac OS X 10.14.6</td>\n",
       "      <td>desktop</td>\n",
       "      <td>0</td>\n",
       "      <td>0</td>\n",
       "      <td>0</td>\n",
       "      <td>18</td>\n",
       "      <td>Tuesday</td>\n",
       "      <td>Evening</td>\n",
       "      <td>1</td>\n",
       "      <td>81446</td>\n",
       "    </tr>\n",
       "    <tr>\n",
       "      <th>1</th>\n",
       "      <td>7930838</td>\n",
       "      <td>2020-05-22 11:20:46.696</td>\n",
       "      <td>-9158722628840289273</td>\n",
       "      <td>80.232.87.86</td>\n",
       "      <td>NO</td>\n",
       "      <td>25400</td>\n",
       "      <td>Mozilla/5.0 (Linux; U; Android 13.0; i phone X...</td>\n",
       "      <td>Opera Mobile 52.1.2254</td>\n",
       "      <td>Android 13.0</td>\n",
       "      <td>mobile</td>\n",
       "      <td>1</td>\n",
       "      <td>0</td>\n",
       "      <td>0</td>\n",
       "      <td>11</td>\n",
       "      <td>Friday</td>\n",
       "      <td>Morning</td>\n",
       "      <td>1</td>\n",
       "      <td>3650</td>\n",
       "    </tr>\n",
       "    <tr>\n",
       "      <th>2</th>\n",
       "      <td>28390433</td>\n",
       "      <td>2021-01-23 16:31:55.322</td>\n",
       "      <td>4432628985308499079</td>\n",
       "      <td>84.234.232.132</td>\n",
       "      <td>NO</td>\n",
       "      <td>29695</td>\n",
       "      <td>Mozilla/5.0  (iPhone; CPU iPhone OS 11_2_6 lik...</td>\n",
       "      <td>Firefox 20.0.0.1602</td>\n",
       "      <td>iOS 11.2.6</td>\n",
       "      <td>mobile</td>\n",
       "      <td>0</td>\n",
       "      <td>0</td>\n",
       "      <td>0</td>\n",
       "      <td>16</td>\n",
       "      <td>Saturday</td>\n",
       "      <td>Afternoon</td>\n",
       "      <td>1</td>\n",
       "      <td>81446</td>\n",
       "    </tr>\n",
       "    <tr>\n",
       "      <th>3</th>\n",
       "      <td>3090501</td>\n",
       "      <td>2020-03-16 14:24:46.628</td>\n",
       "      <td>-4324475583306591935</td>\n",
       "      <td>185.19.116.76</td>\n",
       "      <td>PL</td>\n",
       "      <td>49528</td>\n",
       "      <td>Mozilla/5.0  (X11; CrOS armv7l 5978.98.0) Appl...</td>\n",
       "      <td>Chrome 79.0.3945.192.201</td>\n",
       "      <td>Chrome OS 5978.98.0</td>\n",
       "      <td>desktop</td>\n",
       "      <td>0</td>\n",
       "      <td>0</td>\n",
       "      <td>0</td>\n",
       "      <td>14</td>\n",
       "      <td>Monday</td>\n",
       "      <td>Afternoon</td>\n",
       "      <td>10</td>\n",
       "      <td>1166</td>\n",
       "    </tr>\n",
       "    <tr>\n",
       "      <th>4</th>\n",
       "      <td>29828901</td>\n",
       "      <td>2021-02-10 10:40:40.931</td>\n",
       "      <td>-4324475583306591935</td>\n",
       "      <td>10.0.181.224</td>\n",
       "      <td>CH</td>\n",
       "      <td>262582</td>\n",
       "      <td>Mozilla/5.0  (Macintosh; Intel Mac OS X 11_6_3...</td>\n",
       "      <td>Chrome 72.0.3626.82</td>\n",
       "      <td>Mac OS X 11.6.3</td>\n",
       "      <td>desktop</td>\n",
       "      <td>0</td>\n",
       "      <td>0</td>\n",
       "      <td>0</td>\n",
       "      <td>10</td>\n",
       "      <td>Wednesday</td>\n",
       "      <td>Morning</td>\n",
       "      <td>364</td>\n",
       "      <td>13985</td>\n",
       "    </tr>\n",
       "    <tr>\n",
       "      <th>...</th>\n",
       "      <td>...</td>\n",
       "      <td>...</td>\n",
       "      <td>...</td>\n",
       "      <td>...</td>\n",
       "      <td>...</td>\n",
       "      <td>...</td>\n",
       "      <td>...</td>\n",
       "      <td>...</td>\n",
       "      <td>...</td>\n",
       "      <td>...</td>\n",
       "      <td>...</td>\n",
       "      <td>...</td>\n",
       "      <td>...</td>\n",
       "      <td>...</td>\n",
       "      <td>...</td>\n",
       "      <td>...</td>\n",
       "      <td>...</td>\n",
       "      <td>...</td>\n",
       "    </tr>\n",
       "    <tr>\n",
       "      <th>312829</th>\n",
       "      <td>11034609</td>\n",
       "      <td>2020-07-04 22:22:08.091</td>\n",
       "      <td>-4324475583306591935</td>\n",
       "      <td>10.1.43.51</td>\n",
       "      <td>BR</td>\n",
       "      <td>500194</td>\n",
       "      <td>Mozilla/5.0  (iPhone; CPU iPhone OS 13_4 like ...</td>\n",
       "      <td>Chrome Mobile 81.0.4044.1937</td>\n",
       "      <td>iOS 13.4</td>\n",
       "      <td>mobile</td>\n",
       "      <td>0</td>\n",
       "      <td>0</td>\n",
       "      <td>0</td>\n",
       "      <td>22</td>\n",
       "      <td>Saturday</td>\n",
       "      <td>Night</td>\n",
       "      <td>1</td>\n",
       "      <td>1866</td>\n",
       "    </tr>\n",
       "    <tr>\n",
       "      <th>312830</th>\n",
       "      <td>25178766</td>\n",
       "      <td>2020-12-25 15:16:06.779</td>\n",
       "      <td>-4324475583306591935</td>\n",
       "      <td>10.4.138.195</td>\n",
       "      <td>DE</td>\n",
       "      <td>500608</td>\n",
       "      <td>VLC/3.0.0-git LibVLC/3.0.0-git</td>\n",
       "      <td>VLC 3.0.0-git</td>\n",
       "      <td>Other</td>\n",
       "      <td>unknown</td>\n",
       "      <td>0</td>\n",
       "      <td>0</td>\n",
       "      <td>0</td>\n",
       "      <td>15</td>\n",
       "      <td>Friday</td>\n",
       "      <td>Afternoon</td>\n",
       "      <td>568</td>\n",
       "      <td>568</td>\n",
       "    </tr>\n",
       "    <tr>\n",
       "      <th>312831</th>\n",
       "      <td>13215789</td>\n",
       "      <td>2020-08-05 02:35:55.789</td>\n",
       "      <td>-4324475583306591935</td>\n",
       "      <td>10.0.106.46</td>\n",
       "      <td>IN</td>\n",
       "      <td>45916</td>\n",
       "      <td>Mozilla/5.0  (iPhone; CPU iPhone OS 11_2_6 lik...</td>\n",
       "      <td>Chrome Mobile 81.0.4044.1929</td>\n",
       "      <td>iOS 11.2.6</td>\n",
       "      <td>mobile</td>\n",
       "      <td>0</td>\n",
       "      <td>0</td>\n",
       "      <td>0</td>\n",
       "      <td>2</td>\n",
       "      <td>Wednesday</td>\n",
       "      <td>Night</td>\n",
       "      <td>1</td>\n",
       "      <td>1276</td>\n",
       "    </tr>\n",
       "    <tr>\n",
       "      <th>312832</th>\n",
       "      <td>14264354</td>\n",
       "      <td>2020-08-20 12:10:26.089</td>\n",
       "      <td>-4324475583306591935</td>\n",
       "      <td>10.0.181.225</td>\n",
       "      <td>BR</td>\n",
       "      <td>262582</td>\n",
       "      <td>Mozilla/5.0  (Macintosh; Intel Mac OS X 11_6_3...</td>\n",
       "      <td>Chrome 84.0.4147.338.339</td>\n",
       "      <td>Mac OS X 11.6.3</td>\n",
       "      <td>desktop</td>\n",
       "      <td>0</td>\n",
       "      <td>0</td>\n",
       "      <td>0</td>\n",
       "      <td>12</td>\n",
       "      <td>Thursday</td>\n",
       "      <td>Afternoon</td>\n",
       "      <td>358</td>\n",
       "      <td>13985</td>\n",
       "    </tr>\n",
       "    <tr>\n",
       "      <th>312833</th>\n",
       "      <td>12353213</td>\n",
       "      <td>2020-07-23 08:30:33.866</td>\n",
       "      <td>-2540757603276050441</td>\n",
       "      <td>84.208.57.5</td>\n",
       "      <td>NO</td>\n",
       "      <td>41164</td>\n",
       "      <td>Mozilla/5.0 (Macintosh; Intel Mac OS X 10_14_6...</td>\n",
       "      <td>Chrome 69.0.3497.17.20</td>\n",
       "      <td>Mac OS X 10.14.6</td>\n",
       "      <td>desktop</td>\n",
       "      <td>1</td>\n",
       "      <td>0</td>\n",
       "      <td>0</td>\n",
       "      <td>8</td>\n",
       "      <td>Thursday</td>\n",
       "      <td>Morning</td>\n",
       "      <td>1</td>\n",
       "      <td>14266</td>\n",
       "    </tr>\n",
       "  </tbody>\n",
       "</table>\n",
       "<p>312834 rows × 18 columns</p>\n",
       "</div>"
      ]
     },
     "execution_count": 286,
     "metadata": {},
     "output_type": "execute_result"
    }
   ],
   "execution_count": 286
  },
  {
   "metadata": {},
   "cell_type": "markdown",
   "source": "### Country",
   "id": "5825b31701b54735"
  },
  {
   "metadata": {
    "ExecuteTime": {
     "end_time": "2024-12-17T15:32:55.234163Z",
     "start_time": "2024-12-17T15:32:55.205604Z"
    }
   },
   "cell_type": "code",
   "source": "data['country'].value_counts().sort_values(ascending=False)",
   "id": "436c1637bea2bc69",
   "outputs": [
    {
     "data": {
      "text/plain": [
       "country\n",
       "NO    132225\n",
       "US     86793\n",
       "RU     16812\n",
       "BR     11645\n",
       "DE      8913\n",
       "       ...  \n",
       "YE         1\n",
       "TD         1\n",
       "BV         1\n",
       "MF         1\n",
       "AG         1\n",
       "Name: count, Length: 188, dtype: int64"
      ]
     },
     "execution_count": 287,
     "metadata": {},
     "output_type": "execute_result"
    }
   ],
   "execution_count": 287
  },
  {
   "metadata": {
    "ExecuteTime": {
     "end_time": "2024-12-17T15:32:55.657568Z",
     "start_time": "2024-12-17T15:32:55.303846Z"
    }
   },
   "cell_type": "code",
   "source": [
    "k = 6\n",
    "top_k_countries = data[\"country\"].value_counts().nlargest(k).index\n",
    "data[\"country\"] = data[\"country\"].apply(lambda x: x if x in top_k_countries else \"other\")"
   ],
   "id": "fda5008c6a92ebd4",
   "outputs": [],
   "execution_count": 288
  },
  {
   "cell_type": "code",
   "id": "61ea881b-0db0-4d4f-8539-5cf09b8c61a6",
   "metadata": {
    "ExecuteTime": {
     "end_time": "2024-12-17T15:32:55.793083Z",
     "start_time": "2024-12-17T15:32:55.748326Z"
    }
   },
   "source": "data['country'].value_counts().sort_values(ascending=False)",
   "outputs": [
    {
     "data": {
      "text/plain": [
       "country\n",
       "NO       132225\n",
       "US        86793\n",
       "other     47911\n",
       "RU        16812\n",
       "BR        11645\n",
       "DE         8913\n",
       "PL         8535\n",
       "Name: count, dtype: int64"
      ]
     },
     "execution_count": 289,
     "metadata": {},
     "output_type": "execute_result"
    }
   ],
   "execution_count": 289
  },
  {
   "metadata": {},
   "cell_type": "markdown",
   "source": "### Browser",
   "id": "430a754be916d19c"
  },
  {
   "metadata": {
    "ExecuteTime": {
     "end_time": "2024-12-17T15:32:55.932784Z",
     "start_time": "2024-12-17T15:32:55.869240Z"
    }
   },
   "cell_type": "code",
   "source": "data['browser'].value_counts().sort_values(ascending=False)",
   "id": "6d5589f39cd0217e",
   "outputs": [
    {
     "data": {
      "text/plain": [
       "browser\n",
       "ZipppBot 0.11                   16520\n",
       "Chrome Mobile 81.0.4044         14332\n",
       "Opera Mobile 52.1.2254           8651\n",
       "Chrome 84.0.4147.338.339         8606\n",
       "Android 2.3.3.2660               7618\n",
       "                                ...  \n",
       "Android 2.3.3.2664                  1\n",
       "Android 2.0.0.2455                  1\n",
       "Chrome Mobile 81.0.4044.2143        1\n",
       "Firefox 20.0.0.1737                 1\n",
       "Chrome 75.0.3770.136                1\n",
       "Name: count, Length: 1333, dtype: int64"
      ]
     },
     "execution_count": 290,
     "metadata": {},
     "output_type": "execute_result"
    }
   ],
   "execution_count": 290
  },
  {
   "metadata": {
    "ExecuteTime": {
     "end_time": "2024-12-17T15:32:56.212291Z",
     "start_time": "2024-12-17T15:32:56.043307Z"
    }
   },
   "cell_type": "code",
   "source": "data['browser'] = data['browser'].apply(lambda x : x.split()[0])",
   "id": "ab8a94f2c7467017",
   "outputs": [],
   "execution_count": 291
  },
  {
   "metadata": {
    "ExecuteTime": {
     "end_time": "2024-12-17T15:32:56.573985Z",
     "start_time": "2024-12-17T15:32:56.255460Z"
    }
   },
   "cell_type": "code",
   "source": [
    "k = 8\n",
    "top_k_browsers = data[\"browser\"].value_counts().nlargest(k).index\n",
    "data[\"browser\"] = data[\"browser\"].apply(lambda x: x if x in top_k_browsers else \"other\")"
   ],
   "id": "f3ace26f1c190723",
   "outputs": [],
   "execution_count": 292
  },
  {
   "metadata": {
    "ExecuteTime": {
     "end_time": "2024-12-17T15:32:56.617630Z",
     "start_time": "2024-12-17T15:32:56.582789Z"
    }
   },
   "cell_type": "code",
   "source": "data['browser'].value_counts().sort_values(ascending=False)",
   "id": "f61b8b439d5bbd8e",
   "outputs": [
    {
     "data": {
      "text/plain": [
       "browser\n",
       "Chrome        197361\n",
       "Android        31447\n",
       "Firefox        28289\n",
       "ZipppBot       16520\n",
       "Opera          14961\n",
       "other           9548\n",
       "VLC             7068\n",
       "Mobile          4526\n",
       "startmebot      3114\n",
       "Name: count, dtype: int64"
      ]
     },
     "execution_count": 293,
     "metadata": {},
     "output_type": "execute_result"
    }
   ],
   "execution_count": 293
  },
  {
   "metadata": {},
   "cell_type": "markdown",
   "source": "## OS",
   "id": "53ce3fbc71d05346"
  },
  {
   "metadata": {
    "ExecuteTime": {
     "end_time": "2024-12-17T15:32:56.844588Z",
     "start_time": "2024-12-17T15:32:56.706740Z"
    }
   },
   "cell_type": "code",
   "source": "data['os'] = data['os'].apply(lambda x : x.split()[0])",
   "id": "c8a46c592295a7a4",
   "outputs": [],
   "execution_count": 294
  },
  {
   "metadata": {
    "ExecuteTime": {
     "end_time": "2024-12-17T15:32:56.924830Z",
     "start_time": "2024-12-17T15:32:56.882318Z"
    }
   },
   "cell_type": "code",
   "source": "data['os'].value_counts().sort_values(ascending=False)",
   "id": "21e5481bc0299fc2",
   "outputs": [
    {
     "data": {
      "text/plain": [
       "os\n",
       "iOS           113318\n",
       "Android        83062\n",
       "Mac            64563\n",
       "Other          28587\n",
       "Chrome          9861\n",
       "Windows         5404\n",
       "Chromecast      5032\n",
       "KaiOS           2622\n",
       "Ubuntu            87\n",
       "BlackBerry        82\n",
       "Fedora            72\n",
       "PROSONIC          39\n",
       "MeeGo             37\n",
       "134               14\n",
       "Gentoo            13\n",
       "Red               11\n",
       "Linux              9\n",
       "Tizen              6\n",
       "Roku               6\n",
       "Slackware          3\n",
       "NetBSD             2\n",
       "DIGIHOME           1\n",
       "GoogleTV           1\n",
       "Sailfish           1\n",
       "Web0S              1\n",
       "Name: count, dtype: int64"
      ]
     },
     "execution_count": 295,
     "metadata": {},
     "output_type": "execute_result"
    }
   ],
   "execution_count": 295
  },
  {
   "metadata": {
    "ExecuteTime": {
     "end_time": "2024-12-17T15:32:57.270870Z",
     "start_time": "2024-12-17T15:32:57.001968Z"
    }
   },
   "cell_type": "code",
   "source": [
    "k = 8\n",
    "top_k_os = data[\"os\"].value_counts().nlargest(k).index\n",
    "data[\"os\"] = data[\"os\"].apply(lambda x: x if x in top_k_os else \"Other\")"
   ],
   "id": "7f9631559f794aed",
   "outputs": [],
   "execution_count": 296
  },
  {
   "metadata": {
    "ExecuteTime": {
     "end_time": "2024-12-17T15:32:57.337586Z",
     "start_time": "2024-12-17T15:32:57.308224Z"
    }
   },
   "cell_type": "code",
   "source": "data['os'].value_counts().sort_values(ascending=False)",
   "id": "59ad0abab216d149",
   "outputs": [
    {
     "data": {
      "text/plain": [
       "os\n",
       "iOS           113318\n",
       "Android        83062\n",
       "Mac            64563\n",
       "Other          28972\n",
       "Chrome          9861\n",
       "Windows         5404\n",
       "Chromecast      5032\n",
       "KaiOS           2622\n",
       "Name: count, dtype: int64"
      ]
     },
     "execution_count": 297,
     "metadata": {},
     "output_type": "execute_result"
    }
   ],
   "execution_count": 297
  },
  {
   "metadata": {},
   "cell_type": "markdown",
   "source": "## Device",
   "id": "e4907ee75a156bf7"
  },
  {
   "metadata": {
    "ExecuteTime": {
     "end_time": "2024-12-17T15:32:57.433655Z",
     "start_time": "2024-12-17T15:32:57.391856Z"
    }
   },
   "cell_type": "code",
   "source": "data['device'].value_counts().sort_values(ascending=False)",
   "id": "d9c0353ce3d33d50",
   "outputs": [
    {
     "data": {
      "text/plain": [
       "device\n",
       "mobile     196587\n",
       "desktop     79654\n",
       "bot         20106\n",
       "unknown      8606\n",
       "tablet       7867\n",
       "Name: count, dtype: int64"
      ]
     },
     "execution_count": 298,
     "metadata": {},
     "output_type": "execute_result"
    }
   ],
   "execution_count": 298
  },
  {
   "metadata": {
    "ExecuteTime": {
     "end_time": "2024-12-17T15:32:57.576252Z",
     "start_time": "2024-12-17T15:32:57.556756Z"
    }
   },
   "cell_type": "code",
   "source": "data",
   "id": "bd7ff2c896337e2",
   "outputs": [
    {
     "data": {
      "text/plain": [
       "           index               timestamp                   id              ip  \\\n",
       "0       18772391 2020-10-20 18:59:35.329 -4324475583306591935   51.175.224.92   \n",
       "1        7930838 2020-05-22 11:20:46.696 -9158722628840289273    80.232.87.86   \n",
       "2       28390433 2021-01-23 16:31:55.322  4432628985308499079  84.234.232.132   \n",
       "3        3090501 2020-03-16 14:24:46.628 -4324475583306591935   185.19.116.76   \n",
       "4       29828901 2021-02-10 10:40:40.931 -4324475583306591935    10.0.181.224   \n",
       "...          ...                     ...                  ...             ...   \n",
       "312829  11034609 2020-07-04 22:22:08.091 -4324475583306591935      10.1.43.51   \n",
       "312830  25178766 2020-12-25 15:16:06.779 -4324475583306591935    10.4.138.195   \n",
       "312831  13215789 2020-08-05 02:35:55.789 -4324475583306591935     10.0.106.46   \n",
       "312832  14264354 2020-08-20 12:10:26.089 -4324475583306591935    10.0.181.225   \n",
       "312833  12353213 2020-07-23 08:30:33.866 -2540757603276050441     84.208.57.5   \n",
       "\n",
       "       country     asn                                         user_agent  \\\n",
       "0           NO   29695  Mozilla/5.0 (Macintosh; Intel Mac OS X 10_14_6...   \n",
       "1           NO   25400  Mozilla/5.0 (Linux; U; Android 13.0; i phone X...   \n",
       "2           NO   29695  Mozilla/5.0  (iPhone; CPU iPhone OS 11_2_6 lik...   \n",
       "3           PL   49528  Mozilla/5.0  (X11; CrOS armv7l 5978.98.0) Appl...   \n",
       "4        other  262582  Mozilla/5.0  (Macintosh; Intel Mac OS X 11_6_3...   \n",
       "...        ...     ...                                                ...   \n",
       "312829      BR  500194  Mozilla/5.0  (iPhone; CPU iPhone OS 13_4 like ...   \n",
       "312830      DE  500608                     VLC/3.0.0-git LibVLC/3.0.0-git   \n",
       "312831   other   45916  Mozilla/5.0  (iPhone; CPU iPhone OS 11_2_6 lik...   \n",
       "312832      BR  262582  Mozilla/5.0  (Macintosh; Intel Mac OS X 11_6_3...   \n",
       "312833      NO   41164  Mozilla/5.0 (Macintosh; Intel Mac OS X 10_14_6...   \n",
       "\n",
       "        browser       os   device  login_success  is_attack_ip  \\\n",
       "0        Chrome      Mac  desktop              0             0   \n",
       "1         Opera  Android   mobile              1             0   \n",
       "2       Firefox      iOS   mobile              0             0   \n",
       "3        Chrome   Chrome  desktop              0             0   \n",
       "4        Chrome      Mac  desktop              0             0   \n",
       "...         ...      ...      ...            ...           ...   \n",
       "312829   Chrome      iOS   mobile              0             0   \n",
       "312830      VLC    Other  unknown              0             0   \n",
       "312831   Chrome      iOS   mobile              0             0   \n",
       "312832   Chrome      Mac  desktop              0             0   \n",
       "312833   Chrome      Mac  desktop              1             0   \n",
       "\n",
       "        is_account_takeover  hour        day       time  ip_connection_count  \\\n",
       "0                         0    18    Tuesday    Evening                    1   \n",
       "1                         0    11     Friday    Morning                    1   \n",
       "2                         0    16   Saturday  Afternoon                    1   \n",
       "3                         0    14     Monday  Afternoon                   10   \n",
       "4                         0    10  Wednesday    Morning                  364   \n",
       "...                     ...   ...        ...        ...                  ...   \n",
       "312829                    0    22   Saturday      Night                    1   \n",
       "312830                    0    15     Friday  Afternoon                  568   \n",
       "312831                    0     2  Wednesday      Night                    1   \n",
       "312832                    0    12   Thursday  Afternoon                  358   \n",
       "312833                    0     8   Thursday    Morning                    1   \n",
       "\n",
       "        asn_count  \n",
       "0           81446  \n",
       "1            3650  \n",
       "2           81446  \n",
       "3            1166  \n",
       "4           13985  \n",
       "...           ...  \n",
       "312829       1866  \n",
       "312830        568  \n",
       "312831       1276  \n",
       "312832      13985  \n",
       "312833      14266  \n",
       "\n",
       "[312834 rows x 18 columns]"
      ],
      "text/html": [
       "<div>\n",
       "<style scoped>\n",
       "    .dataframe tbody tr th:only-of-type {\n",
       "        vertical-align: middle;\n",
       "    }\n",
       "\n",
       "    .dataframe tbody tr th {\n",
       "        vertical-align: top;\n",
       "    }\n",
       "\n",
       "    .dataframe thead th {\n",
       "        text-align: right;\n",
       "    }\n",
       "</style>\n",
       "<table border=\"1\" class=\"dataframe\">\n",
       "  <thead>\n",
       "    <tr style=\"text-align: right;\">\n",
       "      <th></th>\n",
       "      <th>index</th>\n",
       "      <th>timestamp</th>\n",
       "      <th>id</th>\n",
       "      <th>ip</th>\n",
       "      <th>country</th>\n",
       "      <th>asn</th>\n",
       "      <th>user_agent</th>\n",
       "      <th>browser</th>\n",
       "      <th>os</th>\n",
       "      <th>device</th>\n",
       "      <th>login_success</th>\n",
       "      <th>is_attack_ip</th>\n",
       "      <th>is_account_takeover</th>\n",
       "      <th>hour</th>\n",
       "      <th>day</th>\n",
       "      <th>time</th>\n",
       "      <th>ip_connection_count</th>\n",
       "      <th>asn_count</th>\n",
       "    </tr>\n",
       "  </thead>\n",
       "  <tbody>\n",
       "    <tr>\n",
       "      <th>0</th>\n",
       "      <td>18772391</td>\n",
       "      <td>2020-10-20 18:59:35.329</td>\n",
       "      <td>-4324475583306591935</td>\n",
       "      <td>51.175.224.92</td>\n",
       "      <td>NO</td>\n",
       "      <td>29695</td>\n",
       "      <td>Mozilla/5.0 (Macintosh; Intel Mac OS X 10_14_6...</td>\n",
       "      <td>Chrome</td>\n",
       "      <td>Mac</td>\n",
       "      <td>desktop</td>\n",
       "      <td>0</td>\n",
       "      <td>0</td>\n",
       "      <td>0</td>\n",
       "      <td>18</td>\n",
       "      <td>Tuesday</td>\n",
       "      <td>Evening</td>\n",
       "      <td>1</td>\n",
       "      <td>81446</td>\n",
       "    </tr>\n",
       "    <tr>\n",
       "      <th>1</th>\n",
       "      <td>7930838</td>\n",
       "      <td>2020-05-22 11:20:46.696</td>\n",
       "      <td>-9158722628840289273</td>\n",
       "      <td>80.232.87.86</td>\n",
       "      <td>NO</td>\n",
       "      <td>25400</td>\n",
       "      <td>Mozilla/5.0 (Linux; U; Android 13.0; i phone X...</td>\n",
       "      <td>Opera</td>\n",
       "      <td>Android</td>\n",
       "      <td>mobile</td>\n",
       "      <td>1</td>\n",
       "      <td>0</td>\n",
       "      <td>0</td>\n",
       "      <td>11</td>\n",
       "      <td>Friday</td>\n",
       "      <td>Morning</td>\n",
       "      <td>1</td>\n",
       "      <td>3650</td>\n",
       "    </tr>\n",
       "    <tr>\n",
       "      <th>2</th>\n",
       "      <td>28390433</td>\n",
       "      <td>2021-01-23 16:31:55.322</td>\n",
       "      <td>4432628985308499079</td>\n",
       "      <td>84.234.232.132</td>\n",
       "      <td>NO</td>\n",
       "      <td>29695</td>\n",
       "      <td>Mozilla/5.0  (iPhone; CPU iPhone OS 11_2_6 lik...</td>\n",
       "      <td>Firefox</td>\n",
       "      <td>iOS</td>\n",
       "      <td>mobile</td>\n",
       "      <td>0</td>\n",
       "      <td>0</td>\n",
       "      <td>0</td>\n",
       "      <td>16</td>\n",
       "      <td>Saturday</td>\n",
       "      <td>Afternoon</td>\n",
       "      <td>1</td>\n",
       "      <td>81446</td>\n",
       "    </tr>\n",
       "    <tr>\n",
       "      <th>3</th>\n",
       "      <td>3090501</td>\n",
       "      <td>2020-03-16 14:24:46.628</td>\n",
       "      <td>-4324475583306591935</td>\n",
       "      <td>185.19.116.76</td>\n",
       "      <td>PL</td>\n",
       "      <td>49528</td>\n",
       "      <td>Mozilla/5.0  (X11; CrOS armv7l 5978.98.0) Appl...</td>\n",
       "      <td>Chrome</td>\n",
       "      <td>Chrome</td>\n",
       "      <td>desktop</td>\n",
       "      <td>0</td>\n",
       "      <td>0</td>\n",
       "      <td>0</td>\n",
       "      <td>14</td>\n",
       "      <td>Monday</td>\n",
       "      <td>Afternoon</td>\n",
       "      <td>10</td>\n",
       "      <td>1166</td>\n",
       "    </tr>\n",
       "    <tr>\n",
       "      <th>4</th>\n",
       "      <td>29828901</td>\n",
       "      <td>2021-02-10 10:40:40.931</td>\n",
       "      <td>-4324475583306591935</td>\n",
       "      <td>10.0.181.224</td>\n",
       "      <td>other</td>\n",
       "      <td>262582</td>\n",
       "      <td>Mozilla/5.0  (Macintosh; Intel Mac OS X 11_6_3...</td>\n",
       "      <td>Chrome</td>\n",
       "      <td>Mac</td>\n",
       "      <td>desktop</td>\n",
       "      <td>0</td>\n",
       "      <td>0</td>\n",
       "      <td>0</td>\n",
       "      <td>10</td>\n",
       "      <td>Wednesday</td>\n",
       "      <td>Morning</td>\n",
       "      <td>364</td>\n",
       "      <td>13985</td>\n",
       "    </tr>\n",
       "    <tr>\n",
       "      <th>...</th>\n",
       "      <td>...</td>\n",
       "      <td>...</td>\n",
       "      <td>...</td>\n",
       "      <td>...</td>\n",
       "      <td>...</td>\n",
       "      <td>...</td>\n",
       "      <td>...</td>\n",
       "      <td>...</td>\n",
       "      <td>...</td>\n",
       "      <td>...</td>\n",
       "      <td>...</td>\n",
       "      <td>...</td>\n",
       "      <td>...</td>\n",
       "      <td>...</td>\n",
       "      <td>...</td>\n",
       "      <td>...</td>\n",
       "      <td>...</td>\n",
       "      <td>...</td>\n",
       "    </tr>\n",
       "    <tr>\n",
       "      <th>312829</th>\n",
       "      <td>11034609</td>\n",
       "      <td>2020-07-04 22:22:08.091</td>\n",
       "      <td>-4324475583306591935</td>\n",
       "      <td>10.1.43.51</td>\n",
       "      <td>BR</td>\n",
       "      <td>500194</td>\n",
       "      <td>Mozilla/5.0  (iPhone; CPU iPhone OS 13_4 like ...</td>\n",
       "      <td>Chrome</td>\n",
       "      <td>iOS</td>\n",
       "      <td>mobile</td>\n",
       "      <td>0</td>\n",
       "      <td>0</td>\n",
       "      <td>0</td>\n",
       "      <td>22</td>\n",
       "      <td>Saturday</td>\n",
       "      <td>Night</td>\n",
       "      <td>1</td>\n",
       "      <td>1866</td>\n",
       "    </tr>\n",
       "    <tr>\n",
       "      <th>312830</th>\n",
       "      <td>25178766</td>\n",
       "      <td>2020-12-25 15:16:06.779</td>\n",
       "      <td>-4324475583306591935</td>\n",
       "      <td>10.4.138.195</td>\n",
       "      <td>DE</td>\n",
       "      <td>500608</td>\n",
       "      <td>VLC/3.0.0-git LibVLC/3.0.0-git</td>\n",
       "      <td>VLC</td>\n",
       "      <td>Other</td>\n",
       "      <td>unknown</td>\n",
       "      <td>0</td>\n",
       "      <td>0</td>\n",
       "      <td>0</td>\n",
       "      <td>15</td>\n",
       "      <td>Friday</td>\n",
       "      <td>Afternoon</td>\n",
       "      <td>568</td>\n",
       "      <td>568</td>\n",
       "    </tr>\n",
       "    <tr>\n",
       "      <th>312831</th>\n",
       "      <td>13215789</td>\n",
       "      <td>2020-08-05 02:35:55.789</td>\n",
       "      <td>-4324475583306591935</td>\n",
       "      <td>10.0.106.46</td>\n",
       "      <td>other</td>\n",
       "      <td>45916</td>\n",
       "      <td>Mozilla/5.0  (iPhone; CPU iPhone OS 11_2_6 lik...</td>\n",
       "      <td>Chrome</td>\n",
       "      <td>iOS</td>\n",
       "      <td>mobile</td>\n",
       "      <td>0</td>\n",
       "      <td>0</td>\n",
       "      <td>0</td>\n",
       "      <td>2</td>\n",
       "      <td>Wednesday</td>\n",
       "      <td>Night</td>\n",
       "      <td>1</td>\n",
       "      <td>1276</td>\n",
       "    </tr>\n",
       "    <tr>\n",
       "      <th>312832</th>\n",
       "      <td>14264354</td>\n",
       "      <td>2020-08-20 12:10:26.089</td>\n",
       "      <td>-4324475583306591935</td>\n",
       "      <td>10.0.181.225</td>\n",
       "      <td>BR</td>\n",
       "      <td>262582</td>\n",
       "      <td>Mozilla/5.0  (Macintosh; Intel Mac OS X 11_6_3...</td>\n",
       "      <td>Chrome</td>\n",
       "      <td>Mac</td>\n",
       "      <td>desktop</td>\n",
       "      <td>0</td>\n",
       "      <td>0</td>\n",
       "      <td>0</td>\n",
       "      <td>12</td>\n",
       "      <td>Thursday</td>\n",
       "      <td>Afternoon</td>\n",
       "      <td>358</td>\n",
       "      <td>13985</td>\n",
       "    </tr>\n",
       "    <tr>\n",
       "      <th>312833</th>\n",
       "      <td>12353213</td>\n",
       "      <td>2020-07-23 08:30:33.866</td>\n",
       "      <td>-2540757603276050441</td>\n",
       "      <td>84.208.57.5</td>\n",
       "      <td>NO</td>\n",
       "      <td>41164</td>\n",
       "      <td>Mozilla/5.0 (Macintosh; Intel Mac OS X 10_14_6...</td>\n",
       "      <td>Chrome</td>\n",
       "      <td>Mac</td>\n",
       "      <td>desktop</td>\n",
       "      <td>1</td>\n",
       "      <td>0</td>\n",
       "      <td>0</td>\n",
       "      <td>8</td>\n",
       "      <td>Thursday</td>\n",
       "      <td>Morning</td>\n",
       "      <td>1</td>\n",
       "      <td>14266</td>\n",
       "    </tr>\n",
       "  </tbody>\n",
       "</table>\n",
       "<p>312834 rows × 18 columns</p>\n",
       "</div>"
      ]
     },
     "execution_count": 299,
     "metadata": {},
     "output_type": "execute_result"
    }
   ],
   "execution_count": 299
  },
  {
   "metadata": {
    "ExecuteTime": {
     "end_time": "2024-12-17T15:32:57.765959Z",
     "start_time": "2024-12-17T15:32:57.720330Z"
    }
   },
   "cell_type": "code",
   "source": [
    "filtered_columns = ['day',\n",
    "                    'time',\n",
    "                    'ip_connection_count',\n",
    "                    'asn_count',\n",
    "                    'country',\n",
    "                    'os',\n",
    "                    'browser',\n",
    "                    'device',\n",
    "                    'login_success',\n",
    "                   # 'is_attack_ip',\n",
    "                    'is_account_takeover'\n",
    "                    ]\n",
    "data_filtered = data[filtered_columns]\n",
    "data_filtered"
   ],
   "id": "1374b91661efeada",
   "outputs": [
    {
     "data": {
      "text/plain": [
       "              day       time  ip_connection_count  asn_count country       os  \\\n",
       "0         Tuesday    Evening                    1      81446      NO      Mac   \n",
       "1          Friday    Morning                    1       3650      NO  Android   \n",
       "2        Saturday  Afternoon                    1      81446      NO      iOS   \n",
       "3          Monday  Afternoon                   10       1166      PL   Chrome   \n",
       "4       Wednesday    Morning                  364      13985   other      Mac   \n",
       "...           ...        ...                  ...        ...     ...      ...   \n",
       "312829   Saturday      Night                    1       1866      BR      iOS   \n",
       "312830     Friday  Afternoon                  568        568      DE    Other   \n",
       "312831  Wednesday      Night                    1       1276   other      iOS   \n",
       "312832   Thursday  Afternoon                  358      13985      BR      Mac   \n",
       "312833   Thursday    Morning                    1      14266      NO      Mac   \n",
       "\n",
       "        browser   device  login_success  is_account_takeover  \n",
       "0        Chrome  desktop              0                    0  \n",
       "1         Opera   mobile              1                    0  \n",
       "2       Firefox   mobile              0                    0  \n",
       "3        Chrome  desktop              0                    0  \n",
       "4        Chrome  desktop              0                    0  \n",
       "...         ...      ...            ...                  ...  \n",
       "312829   Chrome   mobile              0                    0  \n",
       "312830      VLC  unknown              0                    0  \n",
       "312831   Chrome   mobile              0                    0  \n",
       "312832   Chrome  desktop              0                    0  \n",
       "312833   Chrome  desktop              1                    0  \n",
       "\n",
       "[312834 rows x 10 columns]"
      ],
      "text/html": [
       "<div>\n",
       "<style scoped>\n",
       "    .dataframe tbody tr th:only-of-type {\n",
       "        vertical-align: middle;\n",
       "    }\n",
       "\n",
       "    .dataframe tbody tr th {\n",
       "        vertical-align: top;\n",
       "    }\n",
       "\n",
       "    .dataframe thead th {\n",
       "        text-align: right;\n",
       "    }\n",
       "</style>\n",
       "<table border=\"1\" class=\"dataframe\">\n",
       "  <thead>\n",
       "    <tr style=\"text-align: right;\">\n",
       "      <th></th>\n",
       "      <th>day</th>\n",
       "      <th>time</th>\n",
       "      <th>ip_connection_count</th>\n",
       "      <th>asn_count</th>\n",
       "      <th>country</th>\n",
       "      <th>os</th>\n",
       "      <th>browser</th>\n",
       "      <th>device</th>\n",
       "      <th>login_success</th>\n",
       "      <th>is_account_takeover</th>\n",
       "    </tr>\n",
       "  </thead>\n",
       "  <tbody>\n",
       "    <tr>\n",
       "      <th>0</th>\n",
       "      <td>Tuesday</td>\n",
       "      <td>Evening</td>\n",
       "      <td>1</td>\n",
       "      <td>81446</td>\n",
       "      <td>NO</td>\n",
       "      <td>Mac</td>\n",
       "      <td>Chrome</td>\n",
       "      <td>desktop</td>\n",
       "      <td>0</td>\n",
       "      <td>0</td>\n",
       "    </tr>\n",
       "    <tr>\n",
       "      <th>1</th>\n",
       "      <td>Friday</td>\n",
       "      <td>Morning</td>\n",
       "      <td>1</td>\n",
       "      <td>3650</td>\n",
       "      <td>NO</td>\n",
       "      <td>Android</td>\n",
       "      <td>Opera</td>\n",
       "      <td>mobile</td>\n",
       "      <td>1</td>\n",
       "      <td>0</td>\n",
       "    </tr>\n",
       "    <tr>\n",
       "      <th>2</th>\n",
       "      <td>Saturday</td>\n",
       "      <td>Afternoon</td>\n",
       "      <td>1</td>\n",
       "      <td>81446</td>\n",
       "      <td>NO</td>\n",
       "      <td>iOS</td>\n",
       "      <td>Firefox</td>\n",
       "      <td>mobile</td>\n",
       "      <td>0</td>\n",
       "      <td>0</td>\n",
       "    </tr>\n",
       "    <tr>\n",
       "      <th>3</th>\n",
       "      <td>Monday</td>\n",
       "      <td>Afternoon</td>\n",
       "      <td>10</td>\n",
       "      <td>1166</td>\n",
       "      <td>PL</td>\n",
       "      <td>Chrome</td>\n",
       "      <td>Chrome</td>\n",
       "      <td>desktop</td>\n",
       "      <td>0</td>\n",
       "      <td>0</td>\n",
       "    </tr>\n",
       "    <tr>\n",
       "      <th>4</th>\n",
       "      <td>Wednesday</td>\n",
       "      <td>Morning</td>\n",
       "      <td>364</td>\n",
       "      <td>13985</td>\n",
       "      <td>other</td>\n",
       "      <td>Mac</td>\n",
       "      <td>Chrome</td>\n",
       "      <td>desktop</td>\n",
       "      <td>0</td>\n",
       "      <td>0</td>\n",
       "    </tr>\n",
       "    <tr>\n",
       "      <th>...</th>\n",
       "      <td>...</td>\n",
       "      <td>...</td>\n",
       "      <td>...</td>\n",
       "      <td>...</td>\n",
       "      <td>...</td>\n",
       "      <td>...</td>\n",
       "      <td>...</td>\n",
       "      <td>...</td>\n",
       "      <td>...</td>\n",
       "      <td>...</td>\n",
       "    </tr>\n",
       "    <tr>\n",
       "      <th>312829</th>\n",
       "      <td>Saturday</td>\n",
       "      <td>Night</td>\n",
       "      <td>1</td>\n",
       "      <td>1866</td>\n",
       "      <td>BR</td>\n",
       "      <td>iOS</td>\n",
       "      <td>Chrome</td>\n",
       "      <td>mobile</td>\n",
       "      <td>0</td>\n",
       "      <td>0</td>\n",
       "    </tr>\n",
       "    <tr>\n",
       "      <th>312830</th>\n",
       "      <td>Friday</td>\n",
       "      <td>Afternoon</td>\n",
       "      <td>568</td>\n",
       "      <td>568</td>\n",
       "      <td>DE</td>\n",
       "      <td>Other</td>\n",
       "      <td>VLC</td>\n",
       "      <td>unknown</td>\n",
       "      <td>0</td>\n",
       "      <td>0</td>\n",
       "    </tr>\n",
       "    <tr>\n",
       "      <th>312831</th>\n",
       "      <td>Wednesday</td>\n",
       "      <td>Night</td>\n",
       "      <td>1</td>\n",
       "      <td>1276</td>\n",
       "      <td>other</td>\n",
       "      <td>iOS</td>\n",
       "      <td>Chrome</td>\n",
       "      <td>mobile</td>\n",
       "      <td>0</td>\n",
       "      <td>0</td>\n",
       "    </tr>\n",
       "    <tr>\n",
       "      <th>312832</th>\n",
       "      <td>Thursday</td>\n",
       "      <td>Afternoon</td>\n",
       "      <td>358</td>\n",
       "      <td>13985</td>\n",
       "      <td>BR</td>\n",
       "      <td>Mac</td>\n",
       "      <td>Chrome</td>\n",
       "      <td>desktop</td>\n",
       "      <td>0</td>\n",
       "      <td>0</td>\n",
       "    </tr>\n",
       "    <tr>\n",
       "      <th>312833</th>\n",
       "      <td>Thursday</td>\n",
       "      <td>Morning</td>\n",
       "      <td>1</td>\n",
       "      <td>14266</td>\n",
       "      <td>NO</td>\n",
       "      <td>Mac</td>\n",
       "      <td>Chrome</td>\n",
       "      <td>desktop</td>\n",
       "      <td>1</td>\n",
       "      <td>0</td>\n",
       "    </tr>\n",
       "  </tbody>\n",
       "</table>\n",
       "<p>312834 rows × 10 columns</p>\n",
       "</div>"
      ]
     },
     "execution_count": 300,
     "metadata": {},
     "output_type": "execute_result"
    }
   ],
   "execution_count": 300
  },
  {
   "metadata": {},
   "cell_type": "markdown",
   "source": "### Encoding Categorical Data",
   "id": "4f1b4f45fa30774d"
  },
  {
   "metadata": {
    "ExecuteTime": {
     "end_time": "2024-12-17T15:32:58.169772Z",
     "start_time": "2024-12-17T15:32:57.896269Z"
    }
   },
   "cell_type": "code",
   "source": [
    "hot_encoded = ['os', 'browser', 'device', 'time', 'day', 'country']\n",
    "data_filtered = pd.get_dummies(data_filtered, columns=hot_encoded)\n",
    "data_filtered = data_filtered.astype(int)"
   ],
   "id": "14db4f5d500d06c5",
   "outputs": [],
   "execution_count": 301
  },
  {
   "metadata": {
    "ExecuteTime": {
     "end_time": "2024-12-17T15:32:58.242244Z",
     "start_time": "2024-12-17T15:32:58.217314Z"
    }
   },
   "cell_type": "code",
   "source": "data_filtered.info()",
   "id": "622528893f3d25b",
   "outputs": [
    {
     "name": "stdout",
     "output_type": "stream",
     "text": [
      "<class 'pandas.core.frame.DataFrame'>\n",
      "RangeIndex: 312834 entries, 0 to 312833\n",
      "Data columns (total 44 columns):\n",
      " #   Column               Non-Null Count   Dtype\n",
      "---  ------               --------------   -----\n",
      " 0   ip_connection_count  312834 non-null  int64\n",
      " 1   asn_count            312834 non-null  int64\n",
      " 2   login_success        312834 non-null  int64\n",
      " 3   is_account_takeover  312834 non-null  int64\n",
      " 4   os_Android           312834 non-null  int64\n",
      " 5   os_Chrome            312834 non-null  int64\n",
      " 6   os_Chromecast        312834 non-null  int64\n",
      " 7   os_KaiOS             312834 non-null  int64\n",
      " 8   os_Mac               312834 non-null  int64\n",
      " 9   os_Other             312834 non-null  int64\n",
      " 10  os_Windows           312834 non-null  int64\n",
      " 11  os_iOS               312834 non-null  int64\n",
      " 12  browser_Android      312834 non-null  int64\n",
      " 13  browser_Chrome       312834 non-null  int64\n",
      " 14  browser_Firefox      312834 non-null  int64\n",
      " 15  browser_Mobile       312834 non-null  int64\n",
      " 16  browser_Opera        312834 non-null  int64\n",
      " 17  browser_VLC          312834 non-null  int64\n",
      " 18  browser_ZipppBot     312834 non-null  int64\n",
      " 19  browser_other        312834 non-null  int64\n",
      " 20  browser_startmebot   312834 non-null  int64\n",
      " 21  device_bot           312834 non-null  int64\n",
      " 22  device_desktop       312834 non-null  int64\n",
      " 23  device_mobile        312834 non-null  int64\n",
      " 24  device_tablet        312834 non-null  int64\n",
      " 25  device_unknown       312834 non-null  int64\n",
      " 26  time_Afternoon       312834 non-null  int64\n",
      " 27  time_Evening         312834 non-null  int64\n",
      " 28  time_Morning         312834 non-null  int64\n",
      " 29  time_Night           312834 non-null  int64\n",
      " 30  day_Friday           312834 non-null  int64\n",
      " 31  day_Monday           312834 non-null  int64\n",
      " 32  day_Saturday         312834 non-null  int64\n",
      " 33  day_Sunday           312834 non-null  int64\n",
      " 34  day_Thursday         312834 non-null  int64\n",
      " 35  day_Tuesday          312834 non-null  int64\n",
      " 36  day_Wednesday        312834 non-null  int64\n",
      " 37  country_BR           312834 non-null  int64\n",
      " 38  country_DE           312834 non-null  int64\n",
      " 39  country_NO           312834 non-null  int64\n",
      " 40  country_PL           312834 non-null  int64\n",
      " 41  country_RU           312834 non-null  int64\n",
      " 42  country_US           312834 non-null  int64\n",
      " 43  country_other        312834 non-null  int64\n",
      "dtypes: int64(44)\n",
      "memory usage: 105.0 MB\n"
     ]
    }
   ],
   "execution_count": 302
  },
  {
   "metadata": {},
   "cell_type": "markdown",
   "source": "### The problem of imbalanced data",
   "id": "a9da65910f2d9bd9"
  },
  {
   "metadata": {
    "ExecuteTime": {
     "end_time": "2024-12-17T15:32:58.298246Z",
     "start_time": "2024-12-17T15:32:58.289854Z"
    }
   },
   "cell_type": "code",
   "source": [
    "value_counts = data_filtered['is_account_takeover'].value_counts()\n",
    "value_counts"
   ],
   "id": "b921d15e2196ec96",
   "outputs": [
    {
     "data": {
      "text/plain": [
       "is_account_takeover\n",
       "0    312693\n",
       "1       141\n",
       "Name: count, dtype: int64"
      ]
     },
     "execution_count": 303,
     "metadata": {},
     "output_type": "execute_result"
    }
   ],
   "execution_count": 303
  },
  {
   "metadata": {
    "ExecuteTime": {
     "end_time": "2024-12-17T15:32:58.485957Z",
     "start_time": "2024-12-17T15:32:58.389811Z"
    }
   },
   "cell_type": "code",
   "source": "data_filtered",
   "id": "4f912c543936ebff",
   "outputs": [
    {
     "data": {
      "text/plain": [
       "        ip_connection_count  asn_count  login_success  is_account_takeover  \\\n",
       "0                         1      81446              0                    0   \n",
       "1                         1       3650              1                    0   \n",
       "2                         1      81446              0                    0   \n",
       "3                        10       1166              0                    0   \n",
       "4                       364      13985              0                    0   \n",
       "...                     ...        ...            ...                  ...   \n",
       "312829                    1       1866              0                    0   \n",
       "312830                  568        568              0                    0   \n",
       "312831                    1       1276              0                    0   \n",
       "312832                  358      13985              0                    0   \n",
       "312833                    1      14266              1                    0   \n",
       "\n",
       "        os_Android  os_Chrome  os_Chromecast  os_KaiOS  os_Mac  os_Other  ...  \\\n",
       "0                0          0              0         0       1         0  ...   \n",
       "1                1          0              0         0       0         0  ...   \n",
       "2                0          0              0         0       0         0  ...   \n",
       "3                0          1              0         0       0         0  ...   \n",
       "4                0          0              0         0       1         0  ...   \n",
       "...            ...        ...            ...       ...     ...       ...  ...   \n",
       "312829           0          0              0         0       0         0  ...   \n",
       "312830           0          0              0         0       0         1  ...   \n",
       "312831           0          0              0         0       0         0  ...   \n",
       "312832           0          0              0         0       1         0  ...   \n",
       "312833           0          0              0         0       1         0  ...   \n",
       "\n",
       "        day_Thursday  day_Tuesday  day_Wednesday  country_BR  country_DE  \\\n",
       "0                  0            1              0           0           0   \n",
       "1                  0            0              0           0           0   \n",
       "2                  0            0              0           0           0   \n",
       "3                  0            0              0           0           0   \n",
       "4                  0            0              1           0           0   \n",
       "...              ...          ...            ...         ...         ...   \n",
       "312829             0            0              0           1           0   \n",
       "312830             0            0              0           0           1   \n",
       "312831             0            0              1           0           0   \n",
       "312832             1            0              0           1           0   \n",
       "312833             1            0              0           0           0   \n",
       "\n",
       "        country_NO  country_PL  country_RU  country_US  country_other  \n",
       "0                1           0           0           0              0  \n",
       "1                1           0           0           0              0  \n",
       "2                1           0           0           0              0  \n",
       "3                0           1           0           0              0  \n",
       "4                0           0           0           0              1  \n",
       "...            ...         ...         ...         ...            ...  \n",
       "312829           0           0           0           0              0  \n",
       "312830           0           0           0           0              0  \n",
       "312831           0           0           0           0              1  \n",
       "312832           0           0           0           0              0  \n",
       "312833           1           0           0           0              0  \n",
       "\n",
       "[312834 rows x 44 columns]"
      ],
      "text/html": [
       "<div>\n",
       "<style scoped>\n",
       "    .dataframe tbody tr th:only-of-type {\n",
       "        vertical-align: middle;\n",
       "    }\n",
       "\n",
       "    .dataframe tbody tr th {\n",
       "        vertical-align: top;\n",
       "    }\n",
       "\n",
       "    .dataframe thead th {\n",
       "        text-align: right;\n",
       "    }\n",
       "</style>\n",
       "<table border=\"1\" class=\"dataframe\">\n",
       "  <thead>\n",
       "    <tr style=\"text-align: right;\">\n",
       "      <th></th>\n",
       "      <th>ip_connection_count</th>\n",
       "      <th>asn_count</th>\n",
       "      <th>login_success</th>\n",
       "      <th>is_account_takeover</th>\n",
       "      <th>os_Android</th>\n",
       "      <th>os_Chrome</th>\n",
       "      <th>os_Chromecast</th>\n",
       "      <th>os_KaiOS</th>\n",
       "      <th>os_Mac</th>\n",
       "      <th>os_Other</th>\n",
       "      <th>...</th>\n",
       "      <th>day_Thursday</th>\n",
       "      <th>day_Tuesday</th>\n",
       "      <th>day_Wednesday</th>\n",
       "      <th>country_BR</th>\n",
       "      <th>country_DE</th>\n",
       "      <th>country_NO</th>\n",
       "      <th>country_PL</th>\n",
       "      <th>country_RU</th>\n",
       "      <th>country_US</th>\n",
       "      <th>country_other</th>\n",
       "    </tr>\n",
       "  </thead>\n",
       "  <tbody>\n",
       "    <tr>\n",
       "      <th>0</th>\n",
       "      <td>1</td>\n",
       "      <td>81446</td>\n",
       "      <td>0</td>\n",
       "      <td>0</td>\n",
       "      <td>0</td>\n",
       "      <td>0</td>\n",
       "      <td>0</td>\n",
       "      <td>0</td>\n",
       "      <td>1</td>\n",
       "      <td>0</td>\n",
       "      <td>...</td>\n",
       "      <td>0</td>\n",
       "      <td>1</td>\n",
       "      <td>0</td>\n",
       "      <td>0</td>\n",
       "      <td>0</td>\n",
       "      <td>1</td>\n",
       "      <td>0</td>\n",
       "      <td>0</td>\n",
       "      <td>0</td>\n",
       "      <td>0</td>\n",
       "    </tr>\n",
       "    <tr>\n",
       "      <th>1</th>\n",
       "      <td>1</td>\n",
       "      <td>3650</td>\n",
       "      <td>1</td>\n",
       "      <td>0</td>\n",
       "      <td>1</td>\n",
       "      <td>0</td>\n",
       "      <td>0</td>\n",
       "      <td>0</td>\n",
       "      <td>0</td>\n",
       "      <td>0</td>\n",
       "      <td>...</td>\n",
       "      <td>0</td>\n",
       "      <td>0</td>\n",
       "      <td>0</td>\n",
       "      <td>0</td>\n",
       "      <td>0</td>\n",
       "      <td>1</td>\n",
       "      <td>0</td>\n",
       "      <td>0</td>\n",
       "      <td>0</td>\n",
       "      <td>0</td>\n",
       "    </tr>\n",
       "    <tr>\n",
       "      <th>2</th>\n",
       "      <td>1</td>\n",
       "      <td>81446</td>\n",
       "      <td>0</td>\n",
       "      <td>0</td>\n",
       "      <td>0</td>\n",
       "      <td>0</td>\n",
       "      <td>0</td>\n",
       "      <td>0</td>\n",
       "      <td>0</td>\n",
       "      <td>0</td>\n",
       "      <td>...</td>\n",
       "      <td>0</td>\n",
       "      <td>0</td>\n",
       "      <td>0</td>\n",
       "      <td>0</td>\n",
       "      <td>0</td>\n",
       "      <td>1</td>\n",
       "      <td>0</td>\n",
       "      <td>0</td>\n",
       "      <td>0</td>\n",
       "      <td>0</td>\n",
       "    </tr>\n",
       "    <tr>\n",
       "      <th>3</th>\n",
       "      <td>10</td>\n",
       "      <td>1166</td>\n",
       "      <td>0</td>\n",
       "      <td>0</td>\n",
       "      <td>0</td>\n",
       "      <td>1</td>\n",
       "      <td>0</td>\n",
       "      <td>0</td>\n",
       "      <td>0</td>\n",
       "      <td>0</td>\n",
       "      <td>...</td>\n",
       "      <td>0</td>\n",
       "      <td>0</td>\n",
       "      <td>0</td>\n",
       "      <td>0</td>\n",
       "      <td>0</td>\n",
       "      <td>0</td>\n",
       "      <td>1</td>\n",
       "      <td>0</td>\n",
       "      <td>0</td>\n",
       "      <td>0</td>\n",
       "    </tr>\n",
       "    <tr>\n",
       "      <th>4</th>\n",
       "      <td>364</td>\n",
       "      <td>13985</td>\n",
       "      <td>0</td>\n",
       "      <td>0</td>\n",
       "      <td>0</td>\n",
       "      <td>0</td>\n",
       "      <td>0</td>\n",
       "      <td>0</td>\n",
       "      <td>1</td>\n",
       "      <td>0</td>\n",
       "      <td>...</td>\n",
       "      <td>0</td>\n",
       "      <td>0</td>\n",
       "      <td>1</td>\n",
       "      <td>0</td>\n",
       "      <td>0</td>\n",
       "      <td>0</td>\n",
       "      <td>0</td>\n",
       "      <td>0</td>\n",
       "      <td>0</td>\n",
       "      <td>1</td>\n",
       "    </tr>\n",
       "    <tr>\n",
       "      <th>...</th>\n",
       "      <td>...</td>\n",
       "      <td>...</td>\n",
       "      <td>...</td>\n",
       "      <td>...</td>\n",
       "      <td>...</td>\n",
       "      <td>...</td>\n",
       "      <td>...</td>\n",
       "      <td>...</td>\n",
       "      <td>...</td>\n",
       "      <td>...</td>\n",
       "      <td>...</td>\n",
       "      <td>...</td>\n",
       "      <td>...</td>\n",
       "      <td>...</td>\n",
       "      <td>...</td>\n",
       "      <td>...</td>\n",
       "      <td>...</td>\n",
       "      <td>...</td>\n",
       "      <td>...</td>\n",
       "      <td>...</td>\n",
       "      <td>...</td>\n",
       "    </tr>\n",
       "    <tr>\n",
       "      <th>312829</th>\n",
       "      <td>1</td>\n",
       "      <td>1866</td>\n",
       "      <td>0</td>\n",
       "      <td>0</td>\n",
       "      <td>0</td>\n",
       "      <td>0</td>\n",
       "      <td>0</td>\n",
       "      <td>0</td>\n",
       "      <td>0</td>\n",
       "      <td>0</td>\n",
       "      <td>...</td>\n",
       "      <td>0</td>\n",
       "      <td>0</td>\n",
       "      <td>0</td>\n",
       "      <td>1</td>\n",
       "      <td>0</td>\n",
       "      <td>0</td>\n",
       "      <td>0</td>\n",
       "      <td>0</td>\n",
       "      <td>0</td>\n",
       "      <td>0</td>\n",
       "    </tr>\n",
       "    <tr>\n",
       "      <th>312830</th>\n",
       "      <td>568</td>\n",
       "      <td>568</td>\n",
       "      <td>0</td>\n",
       "      <td>0</td>\n",
       "      <td>0</td>\n",
       "      <td>0</td>\n",
       "      <td>0</td>\n",
       "      <td>0</td>\n",
       "      <td>0</td>\n",
       "      <td>1</td>\n",
       "      <td>...</td>\n",
       "      <td>0</td>\n",
       "      <td>0</td>\n",
       "      <td>0</td>\n",
       "      <td>0</td>\n",
       "      <td>1</td>\n",
       "      <td>0</td>\n",
       "      <td>0</td>\n",
       "      <td>0</td>\n",
       "      <td>0</td>\n",
       "      <td>0</td>\n",
       "    </tr>\n",
       "    <tr>\n",
       "      <th>312831</th>\n",
       "      <td>1</td>\n",
       "      <td>1276</td>\n",
       "      <td>0</td>\n",
       "      <td>0</td>\n",
       "      <td>0</td>\n",
       "      <td>0</td>\n",
       "      <td>0</td>\n",
       "      <td>0</td>\n",
       "      <td>0</td>\n",
       "      <td>0</td>\n",
       "      <td>...</td>\n",
       "      <td>0</td>\n",
       "      <td>0</td>\n",
       "      <td>1</td>\n",
       "      <td>0</td>\n",
       "      <td>0</td>\n",
       "      <td>0</td>\n",
       "      <td>0</td>\n",
       "      <td>0</td>\n",
       "      <td>0</td>\n",
       "      <td>1</td>\n",
       "    </tr>\n",
       "    <tr>\n",
       "      <th>312832</th>\n",
       "      <td>358</td>\n",
       "      <td>13985</td>\n",
       "      <td>0</td>\n",
       "      <td>0</td>\n",
       "      <td>0</td>\n",
       "      <td>0</td>\n",
       "      <td>0</td>\n",
       "      <td>0</td>\n",
       "      <td>1</td>\n",
       "      <td>0</td>\n",
       "      <td>...</td>\n",
       "      <td>1</td>\n",
       "      <td>0</td>\n",
       "      <td>0</td>\n",
       "      <td>1</td>\n",
       "      <td>0</td>\n",
       "      <td>0</td>\n",
       "      <td>0</td>\n",
       "      <td>0</td>\n",
       "      <td>0</td>\n",
       "      <td>0</td>\n",
       "    </tr>\n",
       "    <tr>\n",
       "      <th>312833</th>\n",
       "      <td>1</td>\n",
       "      <td>14266</td>\n",
       "      <td>1</td>\n",
       "      <td>0</td>\n",
       "      <td>0</td>\n",
       "      <td>0</td>\n",
       "      <td>0</td>\n",
       "      <td>0</td>\n",
       "      <td>1</td>\n",
       "      <td>0</td>\n",
       "      <td>...</td>\n",
       "      <td>1</td>\n",
       "      <td>0</td>\n",
       "      <td>0</td>\n",
       "      <td>0</td>\n",
       "      <td>0</td>\n",
       "      <td>1</td>\n",
       "      <td>0</td>\n",
       "      <td>0</td>\n",
       "      <td>0</td>\n",
       "      <td>0</td>\n",
       "    </tr>\n",
       "  </tbody>\n",
       "</table>\n",
       "<p>312834 rows × 44 columns</p>\n",
       "</div>"
      ]
     },
     "execution_count": 304,
     "metadata": {},
     "output_type": "execute_result"
    }
   ],
   "execution_count": 304
  },
  {
   "metadata": {
    "ExecuteTime": {
     "end_time": "2024-12-17T15:32:58.601917Z",
     "start_time": "2024-12-17T15:32:58.596968Z"
    }
   },
   "cell_type": "code",
   "source": [
    "attack_percentage = (value_counts.get(1, 0) / value_counts.sum()) * 100\n",
    "attack_percentage"
   ],
   "id": "6633f8924e55a860",
   "outputs": [
    {
     "data": {
      "text/plain": [
       "np.float64(0.04507182723105545)"
      ]
     },
     "execution_count": 305,
     "metadata": {},
     "output_type": "execute_result"
    }
   ],
   "execution_count": 305
  },
  {
   "metadata": {},
   "cell_type": "markdown",
   "source": "## Training Model",
   "id": "464d6f87eaf4efa6"
  },
  {
   "metadata": {
    "ExecuteTime": {
     "end_time": "2024-12-17T15:32:58.680275Z",
     "start_time": "2024-12-17T15:32:58.656395Z"
    }
   },
   "cell_type": "code",
   "source": [
    "from sklearn.model_selection import cross_val_score\n",
    "from sklearn.ensemble import RandomForestClassifier\n",
    "\n",
    "X = data_filtered.drop(['is_account_takeover'], axis=1)\n",
    "Y = data_filtered['is_account_takeover']"
   ],
   "id": "d3169719a331da99",
   "outputs": [],
   "execution_count": 306
  },
  {
   "metadata": {
    "ExecuteTime": {
     "end_time": "2024-12-17T15:32:58.815972Z",
     "start_time": "2024-12-17T15:32:58.808306Z"
    }
   },
   "cell_type": "code",
   "source": "Y.value_counts()",
   "id": "8003d846e20549c4",
   "outputs": [
    {
     "data": {
      "text/plain": [
       "is_account_takeover\n",
       "0    312693\n",
       "1       141\n",
       "Name: count, dtype: int64"
      ]
     },
     "execution_count": 307,
     "metadata": {},
     "output_type": "execute_result"
    }
   ],
   "execution_count": 307
  },
  {
   "metadata": {
    "ExecuteTime": {
     "end_time": "2024-12-17T15:32:59.064334Z",
     "start_time": "2024-12-17T15:32:58.945615Z"
    }
   },
   "cell_type": "code",
   "source": "X",
   "id": "2fef2fe6fe9931b9",
   "outputs": [
    {
     "data": {
      "text/plain": [
       "        ip_connection_count  asn_count  login_success  os_Android  os_Chrome  \\\n",
       "0                         1      81446              0           0          0   \n",
       "1                         1       3650              1           1          0   \n",
       "2                         1      81446              0           0          0   \n",
       "3                        10       1166              0           0          1   \n",
       "4                       364      13985              0           0          0   \n",
       "...                     ...        ...            ...         ...        ...   \n",
       "312829                    1       1866              0           0          0   \n",
       "312830                  568        568              0           0          0   \n",
       "312831                    1       1276              0           0          0   \n",
       "312832                  358      13985              0           0          0   \n",
       "312833                    1      14266              1           0          0   \n",
       "\n",
       "        os_Chromecast  os_KaiOS  os_Mac  os_Other  os_Windows  ...  \\\n",
       "0                   0         0       1         0           0  ...   \n",
       "1                   0         0       0         0           0  ...   \n",
       "2                   0         0       0         0           0  ...   \n",
       "3                   0         0       0         0           0  ...   \n",
       "4                   0         0       1         0           0  ...   \n",
       "...               ...       ...     ...       ...         ...  ...   \n",
       "312829              0         0       0         0           0  ...   \n",
       "312830              0         0       0         1           0  ...   \n",
       "312831              0         0       0         0           0  ...   \n",
       "312832              0         0       1         0           0  ...   \n",
       "312833              0         0       1         0           0  ...   \n",
       "\n",
       "        day_Thursday  day_Tuesday  day_Wednesday  country_BR  country_DE  \\\n",
       "0                  0            1              0           0           0   \n",
       "1                  0            0              0           0           0   \n",
       "2                  0            0              0           0           0   \n",
       "3                  0            0              0           0           0   \n",
       "4                  0            0              1           0           0   \n",
       "...              ...          ...            ...         ...         ...   \n",
       "312829             0            0              0           1           0   \n",
       "312830             0            0              0           0           1   \n",
       "312831             0            0              1           0           0   \n",
       "312832             1            0              0           1           0   \n",
       "312833             1            0              0           0           0   \n",
       "\n",
       "        country_NO  country_PL  country_RU  country_US  country_other  \n",
       "0                1           0           0           0              0  \n",
       "1                1           0           0           0              0  \n",
       "2                1           0           0           0              0  \n",
       "3                0           1           0           0              0  \n",
       "4                0           0           0           0              1  \n",
       "...            ...         ...         ...         ...            ...  \n",
       "312829           0           0           0           0              0  \n",
       "312830           0           0           0           0              0  \n",
       "312831           0           0           0           0              1  \n",
       "312832           0           0           0           0              0  \n",
       "312833           1           0           0           0              0  \n",
       "\n",
       "[312834 rows x 43 columns]"
      ],
      "text/html": [
       "<div>\n",
       "<style scoped>\n",
       "    .dataframe tbody tr th:only-of-type {\n",
       "        vertical-align: middle;\n",
       "    }\n",
       "\n",
       "    .dataframe tbody tr th {\n",
       "        vertical-align: top;\n",
       "    }\n",
       "\n",
       "    .dataframe thead th {\n",
       "        text-align: right;\n",
       "    }\n",
       "</style>\n",
       "<table border=\"1\" class=\"dataframe\">\n",
       "  <thead>\n",
       "    <tr style=\"text-align: right;\">\n",
       "      <th></th>\n",
       "      <th>ip_connection_count</th>\n",
       "      <th>asn_count</th>\n",
       "      <th>login_success</th>\n",
       "      <th>os_Android</th>\n",
       "      <th>os_Chrome</th>\n",
       "      <th>os_Chromecast</th>\n",
       "      <th>os_KaiOS</th>\n",
       "      <th>os_Mac</th>\n",
       "      <th>os_Other</th>\n",
       "      <th>os_Windows</th>\n",
       "      <th>...</th>\n",
       "      <th>day_Thursday</th>\n",
       "      <th>day_Tuesday</th>\n",
       "      <th>day_Wednesday</th>\n",
       "      <th>country_BR</th>\n",
       "      <th>country_DE</th>\n",
       "      <th>country_NO</th>\n",
       "      <th>country_PL</th>\n",
       "      <th>country_RU</th>\n",
       "      <th>country_US</th>\n",
       "      <th>country_other</th>\n",
       "    </tr>\n",
       "  </thead>\n",
       "  <tbody>\n",
       "    <tr>\n",
       "      <th>0</th>\n",
       "      <td>1</td>\n",
       "      <td>81446</td>\n",
       "      <td>0</td>\n",
       "      <td>0</td>\n",
       "      <td>0</td>\n",
       "      <td>0</td>\n",
       "      <td>0</td>\n",
       "      <td>1</td>\n",
       "      <td>0</td>\n",
       "      <td>0</td>\n",
       "      <td>...</td>\n",
       "      <td>0</td>\n",
       "      <td>1</td>\n",
       "      <td>0</td>\n",
       "      <td>0</td>\n",
       "      <td>0</td>\n",
       "      <td>1</td>\n",
       "      <td>0</td>\n",
       "      <td>0</td>\n",
       "      <td>0</td>\n",
       "      <td>0</td>\n",
       "    </tr>\n",
       "    <tr>\n",
       "      <th>1</th>\n",
       "      <td>1</td>\n",
       "      <td>3650</td>\n",
       "      <td>1</td>\n",
       "      <td>1</td>\n",
       "      <td>0</td>\n",
       "      <td>0</td>\n",
       "      <td>0</td>\n",
       "      <td>0</td>\n",
       "      <td>0</td>\n",
       "      <td>0</td>\n",
       "      <td>...</td>\n",
       "      <td>0</td>\n",
       "      <td>0</td>\n",
       "      <td>0</td>\n",
       "      <td>0</td>\n",
       "      <td>0</td>\n",
       "      <td>1</td>\n",
       "      <td>0</td>\n",
       "      <td>0</td>\n",
       "      <td>0</td>\n",
       "      <td>0</td>\n",
       "    </tr>\n",
       "    <tr>\n",
       "      <th>2</th>\n",
       "      <td>1</td>\n",
       "      <td>81446</td>\n",
       "      <td>0</td>\n",
       "      <td>0</td>\n",
       "      <td>0</td>\n",
       "      <td>0</td>\n",
       "      <td>0</td>\n",
       "      <td>0</td>\n",
       "      <td>0</td>\n",
       "      <td>0</td>\n",
       "      <td>...</td>\n",
       "      <td>0</td>\n",
       "      <td>0</td>\n",
       "      <td>0</td>\n",
       "      <td>0</td>\n",
       "      <td>0</td>\n",
       "      <td>1</td>\n",
       "      <td>0</td>\n",
       "      <td>0</td>\n",
       "      <td>0</td>\n",
       "      <td>0</td>\n",
       "    </tr>\n",
       "    <tr>\n",
       "      <th>3</th>\n",
       "      <td>10</td>\n",
       "      <td>1166</td>\n",
       "      <td>0</td>\n",
       "      <td>0</td>\n",
       "      <td>1</td>\n",
       "      <td>0</td>\n",
       "      <td>0</td>\n",
       "      <td>0</td>\n",
       "      <td>0</td>\n",
       "      <td>0</td>\n",
       "      <td>...</td>\n",
       "      <td>0</td>\n",
       "      <td>0</td>\n",
       "      <td>0</td>\n",
       "      <td>0</td>\n",
       "      <td>0</td>\n",
       "      <td>0</td>\n",
       "      <td>1</td>\n",
       "      <td>0</td>\n",
       "      <td>0</td>\n",
       "      <td>0</td>\n",
       "    </tr>\n",
       "    <tr>\n",
       "      <th>4</th>\n",
       "      <td>364</td>\n",
       "      <td>13985</td>\n",
       "      <td>0</td>\n",
       "      <td>0</td>\n",
       "      <td>0</td>\n",
       "      <td>0</td>\n",
       "      <td>0</td>\n",
       "      <td>1</td>\n",
       "      <td>0</td>\n",
       "      <td>0</td>\n",
       "      <td>...</td>\n",
       "      <td>0</td>\n",
       "      <td>0</td>\n",
       "      <td>1</td>\n",
       "      <td>0</td>\n",
       "      <td>0</td>\n",
       "      <td>0</td>\n",
       "      <td>0</td>\n",
       "      <td>0</td>\n",
       "      <td>0</td>\n",
       "      <td>1</td>\n",
       "    </tr>\n",
       "    <tr>\n",
       "      <th>...</th>\n",
       "      <td>...</td>\n",
       "      <td>...</td>\n",
       "      <td>...</td>\n",
       "      <td>...</td>\n",
       "      <td>...</td>\n",
       "      <td>...</td>\n",
       "      <td>...</td>\n",
       "      <td>...</td>\n",
       "      <td>...</td>\n",
       "      <td>...</td>\n",
       "      <td>...</td>\n",
       "      <td>...</td>\n",
       "      <td>...</td>\n",
       "      <td>...</td>\n",
       "      <td>...</td>\n",
       "      <td>...</td>\n",
       "      <td>...</td>\n",
       "      <td>...</td>\n",
       "      <td>...</td>\n",
       "      <td>...</td>\n",
       "      <td>...</td>\n",
       "    </tr>\n",
       "    <tr>\n",
       "      <th>312829</th>\n",
       "      <td>1</td>\n",
       "      <td>1866</td>\n",
       "      <td>0</td>\n",
       "      <td>0</td>\n",
       "      <td>0</td>\n",
       "      <td>0</td>\n",
       "      <td>0</td>\n",
       "      <td>0</td>\n",
       "      <td>0</td>\n",
       "      <td>0</td>\n",
       "      <td>...</td>\n",
       "      <td>0</td>\n",
       "      <td>0</td>\n",
       "      <td>0</td>\n",
       "      <td>1</td>\n",
       "      <td>0</td>\n",
       "      <td>0</td>\n",
       "      <td>0</td>\n",
       "      <td>0</td>\n",
       "      <td>0</td>\n",
       "      <td>0</td>\n",
       "    </tr>\n",
       "    <tr>\n",
       "      <th>312830</th>\n",
       "      <td>568</td>\n",
       "      <td>568</td>\n",
       "      <td>0</td>\n",
       "      <td>0</td>\n",
       "      <td>0</td>\n",
       "      <td>0</td>\n",
       "      <td>0</td>\n",
       "      <td>0</td>\n",
       "      <td>1</td>\n",
       "      <td>0</td>\n",
       "      <td>...</td>\n",
       "      <td>0</td>\n",
       "      <td>0</td>\n",
       "      <td>0</td>\n",
       "      <td>0</td>\n",
       "      <td>1</td>\n",
       "      <td>0</td>\n",
       "      <td>0</td>\n",
       "      <td>0</td>\n",
       "      <td>0</td>\n",
       "      <td>0</td>\n",
       "    </tr>\n",
       "    <tr>\n",
       "      <th>312831</th>\n",
       "      <td>1</td>\n",
       "      <td>1276</td>\n",
       "      <td>0</td>\n",
       "      <td>0</td>\n",
       "      <td>0</td>\n",
       "      <td>0</td>\n",
       "      <td>0</td>\n",
       "      <td>0</td>\n",
       "      <td>0</td>\n",
       "      <td>0</td>\n",
       "      <td>...</td>\n",
       "      <td>0</td>\n",
       "      <td>0</td>\n",
       "      <td>1</td>\n",
       "      <td>0</td>\n",
       "      <td>0</td>\n",
       "      <td>0</td>\n",
       "      <td>0</td>\n",
       "      <td>0</td>\n",
       "      <td>0</td>\n",
       "      <td>1</td>\n",
       "    </tr>\n",
       "    <tr>\n",
       "      <th>312832</th>\n",
       "      <td>358</td>\n",
       "      <td>13985</td>\n",
       "      <td>0</td>\n",
       "      <td>0</td>\n",
       "      <td>0</td>\n",
       "      <td>0</td>\n",
       "      <td>0</td>\n",
       "      <td>1</td>\n",
       "      <td>0</td>\n",
       "      <td>0</td>\n",
       "      <td>...</td>\n",
       "      <td>1</td>\n",
       "      <td>0</td>\n",
       "      <td>0</td>\n",
       "      <td>1</td>\n",
       "      <td>0</td>\n",
       "      <td>0</td>\n",
       "      <td>0</td>\n",
       "      <td>0</td>\n",
       "      <td>0</td>\n",
       "      <td>0</td>\n",
       "    </tr>\n",
       "    <tr>\n",
       "      <th>312833</th>\n",
       "      <td>1</td>\n",
       "      <td>14266</td>\n",
       "      <td>1</td>\n",
       "      <td>0</td>\n",
       "      <td>0</td>\n",
       "      <td>0</td>\n",
       "      <td>0</td>\n",
       "      <td>1</td>\n",
       "      <td>0</td>\n",
       "      <td>0</td>\n",
       "      <td>...</td>\n",
       "      <td>1</td>\n",
       "      <td>0</td>\n",
       "      <td>0</td>\n",
       "      <td>0</td>\n",
       "      <td>0</td>\n",
       "      <td>1</td>\n",
       "      <td>0</td>\n",
       "      <td>0</td>\n",
       "      <td>0</td>\n",
       "      <td>0</td>\n",
       "    </tr>\n",
       "  </tbody>\n",
       "</table>\n",
       "<p>312834 rows × 43 columns</p>\n",
       "</div>"
      ]
     },
     "execution_count": 308,
     "metadata": {},
     "output_type": "execute_result"
    }
   ],
   "execution_count": 308
  },
  {
   "metadata": {
    "ExecuteTime": {
     "end_time": "2024-12-17T15:32:59.810043Z",
     "start_time": "2024-12-17T15:32:59.159145Z"
    }
   },
   "cell_type": "code",
   "source": [
    "\n",
    "from imblearn.over_sampling import SMOTE\n",
    "method = SMOTE(\n",
    "    sampling_strategy = 1,\n",
    "    k_neighbors = 5,\n",
    "    random_state= RANDOM_STATE,\n",
    ")\n",
    "X_bal, Y_bal = method.fit_resample(X, Y)"
   ],
   "id": "b608e51217af2bda",
   "outputs": [
    {
     "name": "stderr",
     "output_type": "stream",
     "text": [
      "/home/anwar/PycharmProjects/JupyterProject/.venv/lib/python3.12/site-packages/sklearn/base.py:474: FutureWarning:\n",
      "\n",
      "`BaseEstimator._validate_data` is deprecated in 1.6 and will be removed in 1.7. Use `sklearn.utils.validation.validate_data` instead. This function becomes public and is part of the scikit-learn developer API.\n",
      "\n",
      "/home/anwar/PycharmProjects/JupyterProject/.venv/lib/python3.12/site-packages/sklearn/utils/_tags.py:354: FutureWarning:\n",
      "\n",
      "The SMOTE or classes from which it inherits use `_get_tags` and `_more_tags`. Please define the `__sklearn_tags__` method, or inherit from `sklearn.base.BaseEstimator` and/or other appropriate mixins such as `sklearn.base.TransformerMixin`, `sklearn.base.ClassifierMixin`, `sklearn.base.RegressorMixin`, and `sklearn.base.OutlierMixin`. From scikit-learn 1.7, not defining `__sklearn_tags__` will raise an error.\n",
      "\n"
     ]
    }
   ],
   "execution_count": 309
  },
  {
   "metadata": {
    "ExecuteTime": {
     "end_time": "2024-12-17T15:32:59.865775Z",
     "start_time": "2024-12-17T15:32:59.857640Z"
    }
   },
   "cell_type": "code",
   "source": "Y_bal.value_counts()",
   "id": "d14a6f261f65a4d",
   "outputs": [
    {
     "data": {
      "text/plain": [
       "is_account_takeover\n",
       "0    312693\n",
       "1    312693\n",
       "Name: count, dtype: int64"
      ]
     },
     "execution_count": 310,
     "metadata": {},
     "output_type": "execute_result"
    }
   ],
   "execution_count": 310
  },
  {
   "metadata": {
    "ExecuteTime": {
     "end_time": "2024-12-17T15:35:18.025579Z",
     "start_time": "2024-12-17T15:32:59.921728Z"
    }
   },
   "cell_type": "code",
   "source": [
    "from sklearn.ensemble import RandomForestClassifier\n",
    "from sklearn.model_selection import cross_val_score, train_test_split\n",
    "from sklearn.metrics import confusion_matrix\n",
    "import numpy as np\n",
    "\n",
    "model = RandomForestClassifier(random_state=42)\n",
    "cv_scores = cross_val_score(model, X_bal, Y_bal, cv=5)\n",
    "\n",
    "\n",
    "print(f\"Cross-validation scores: {cv_scores}\")\n",
    "print(f\"Mean cross-validation score: {cv_scores.mean()}\")\n",
    "\n",
    "X_train, X_test, y_train, y_test = train_test_split(X_bal, Y_bal, test_size=0.2, random_state=42)\n",
    "\n",
    "model.fit(X_train, y_train)\n",
    "y_pred = model.predict(X_test)\n",
    "\n",
    "cm = confusion_matrix(y_test, y_pred)\n",
    "\n",
    "print(\"Confusion Matrix:\")\n",
    "print(cm)"
   ],
   "id": "b5a6917b692faf3f",
   "outputs": [
    {
     "name": "stdout",
     "output_type": "stream",
     "text": [
      "Cross-validation scores: [0.99925646 0.99988007 0.9998321  0.99988807 0.99988007]\n",
      "Mean cross-validation score: 0.9997473568178579\n",
      "Confusion Matrix:\n",
      "[[62283    18]\n",
      " [   16 62761]]\n"
     ]
    }
   ],
   "execution_count": 311
  },
  {
   "metadata": {
    "ExecuteTime": {
     "end_time": "2024-12-17T15:37:08.289420Z",
     "start_time": "2024-12-17T15:35:18.084766Z"
    }
   },
   "cell_type": "code",
   "source": [
    "from imblearn.over_sampling import SMOTENC\n",
    "method = SMOTENC(\n",
    "    sampling_strategy = 0.5,\n",
    "    k_neighbors = 5,\n",
    "    random_state= RANDOM_STATE,\n",
    "    categorical_features = list(range(2, X.shape[1]))\n",
    ")\n",
    "\n",
    "X_bal, Y_bal = method.fit_resample(X, Y)"
   ],
   "id": "b1a0ab4ef8d566ff",
   "outputs": [
    {
     "name": "stderr",
     "output_type": "stream",
     "text": [
      "/home/anwar/PycharmProjects/JupyterProject/.venv/lib/python3.12/site-packages/sklearn/base.py:484: FutureWarning:\n",
      "\n",
      "`BaseEstimator._check_n_features` is deprecated in 1.6 and will be removed in 1.7. Use `sklearn.utils.validation._check_n_features` instead.\n",
      "\n",
      "/home/anwar/PycharmProjects/JupyterProject/.venv/lib/python3.12/site-packages/sklearn/base.py:493: FutureWarning:\n",
      "\n",
      "`BaseEstimator._check_feature_names` is deprecated in 1.6 and will be removed in 1.7. Use `sklearn.utils.validation._check_feature_names` instead.\n",
      "\n"
     ]
    }
   ],
   "execution_count": 312
  },
  {
   "metadata": {
    "ExecuteTime": {
     "end_time": "2024-12-17T15:38:23.668294Z",
     "start_time": "2024-12-17T15:37:08.305990Z"
    }
   },
   "cell_type": "code",
   "source": [
    "from sklearn.ensemble import RandomForestClassifier\n",
    "from sklearn.model_selection import StratifiedKFold, cross_validate\n",
    "\n",
    "model = RandomForestClassifier(random_state=42)\n",
    "\n",
    "skf = StratifiedKFold(n_splits=5)\n",
    "\n",
    "scorings = ['accuracy', 'r2', 'roc_auc_ovr', 'recall']\n",
    "\n",
    "cv_results = cross_validate(\n",
    "    model,\n",
    "    X_bal,\n",
    "    Y_bal,\n",
    "    cv=skf,\n",
    "    scoring=scorings,\n",
    "    return_train_score=False\n",
    ")\n",
    "\n",
    "for scoring in scorings:\n",
    "    print(f\"Cross-validation scores for {scoring}: {cv_results[f'test_{scoring}']}\")\n",
    "    print(f\"Mean cross-validation score for {scoring}: {cv_results[f'test_{scoring}'].mean()}\")\n"
   ],
   "id": "9745b625cec29a70",
   "outputs": [
    {
     "name": "stdout",
     "output_type": "stream",
     "text": [
      "Cross-validation scores for accuracy: [0.99882739 0.99943502 0.9993604  0.99943502 0.99940303]\n",
      "Mean cross-validation score for accuracy: 0.9992921699706414\n",
      "Cross-validation scores for r2: [0.99472324 0.99745756 0.99712177 0.9974576  0.99731363]\n",
      "Mean cross-validation score for r2: 0.9968147588845356\n",
      "Cross-validation scores for roc_auc_ovr: [0.99940627 0.9997927  0.99974399 0.99975279 0.99976299]\n",
      "Mean cross-validation score for roc_auc_ovr: 0.9996917502045658\n",
      "Cross-validation scores for recall: [0.99830503 0.99971217 0.99996802 0.99990406 0.99993604]\n",
      "Mean cross-validation score for recall: 0.9995650650544539\n"
     ]
    }
   ],
   "execution_count": 313
  },
  {
   "metadata": {
    "ExecuteTime": {
     "end_time": "2024-12-17T15:39:15.555110Z",
     "start_time": "2024-12-17T15:38:59.392135Z"
    }
   },
   "cell_type": "code",
   "source": [
    "X_train, X_test, y_train, y_test = train_test_split(X_bal, Y_bal, test_size=0.2, random_state=42)\n",
    "\n",
    "model.fit(X_train, y_train)\n",
    "y_pred = model.predict(X_test)\n",
    "\n",
    "cm = confusion_matrix(y_test, y_pred)\n",
    "\n",
    "print(\"Confusion Matrix:\")\n",
    "print(cm)"
   ],
   "id": "fc1ceecd8e1f3ebe",
   "outputs": [
    {
     "name": "stdout",
     "output_type": "stream",
     "text": [
      "Confusion Matrix:\n",
      "[[62482    62]\n",
      " [   13 31251]]\n"
     ]
    }
   ],
   "execution_count": 314
  },
  {
   "metadata": {
    "ExecuteTime": {
     "end_time": "2024-12-17T15:42:18.124207Z",
     "start_time": "2024-12-17T15:42:18.119715Z"
    }
   },
   "cell_type": "code",
   "source": "print(y_test.value_counts())",
   "id": "49be58392658738f",
   "outputs": [
    {
     "name": "stdout",
     "output_type": "stream",
     "text": [
      "is_account_takeover\n",
      "0    62544\n",
      "1    31264\n",
      "Name: count, dtype: int64\n"
     ]
    }
   ],
   "execution_count": 316
  }
 ],
 "metadata": {
  "kernelspec": {
   "display_name": ".conda",
   "language": "python",
   "name": "python3"
  },
  "language_info": {
   "codemirror_mode": {
    "name": "ipython",
    "version": 3
   },
   "file_extension": ".py",
   "mimetype": "text/x-python",
   "name": "python",
   "nbconvert_exporter": "python",
   "pygments_lexer": "ipython3",
   "version": "3.11.10"
  }
 },
 "nbformat": 4,
 "nbformat_minor": 5
}
